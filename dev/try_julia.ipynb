{
 "cells": [
  {
   "cell_type": "markdown",
   "metadata": {},
   "source": [
    "- https://www.youtube.com/watch?v=I3JH5Bg46yU"
   ]
  },
  {
   "cell_type": "code",
   "execution_count": 10,
   "metadata": {
    "collapsed": false
   },
   "outputs": [
    {
     "data": {
      "text/plain": [
       "g (generic function with 1 method)"
      ]
     },
     "execution_count": 10,
     "metadata": {},
     "output_type": "execute_result"
    }
   ],
   "source": [
    "f(x) = 2x^2 + 3x + 1\n",
    "g(x) = f(x) - (2x+1)*(x+1)"
   ]
  },
  {
   "cell_type": "code",
   "execution_count": 11,
   "metadata": {
    "collapsed": false
   },
   "outputs": [
    {
     "data": {
      "text/plain": [
       "2"
      ]
     },
     "execution_count": 11,
     "metadata": {},
     "output_type": "execute_result"
    }
   ],
   "source": [
    "α = 2"
   ]
  },
  {
   "cell_type": "code",
   "execution_count": 12,
   "metadata": {
    "collapsed": false
   },
   "outputs": [
    {
     "data": {
      "text/plain": [
       "28"
      ]
     },
     "execution_count": 12,
     "metadata": {},
     "output_type": "execute_result"
    }
   ],
   "source": [
    "f(3)"
   ]
  },
  {
   "cell_type": "code",
   "execution_count": 13,
   "metadata": {
    "collapsed": false
   },
   "outputs": [
    {
     "data": {
      "text/plain": [
       "0"
      ]
     },
     "execution_count": 13,
     "metadata": {},
     "output_type": "execute_result"
    }
   ],
   "source": [
    "g(2)"
   ]
  },
  {
   "cell_type": "code",
   "execution_count": 14,
   "metadata": {
    "collapsed": false
   },
   "outputs": [
    {
     "name": "stdout",
     "output_type": "stream",
     "text": [
      "x = 3y=6\n",
      "x = 3\n",
      "y = 6\n"
     ]
    }
   ],
   "source": [
    "x = 3\n",
    "y = 6\n",
    "print(\"x = $x\")\n",
    "print(\"y=$y\")\n",
    "println()\n",
    "println(\"x = $x\")\n",
    "println(\"y = $y\")"
   ]
  },
  {
   "cell_type": "code",
   "execution_count": 15,
   "metadata": {
    "collapsed": false
   },
   "outputs": [
    {
     "data": {
      "text/plain": [
       "15"
      ]
     },
     "execution_count": 15,
     "metadata": {},
     "output_type": "execute_result"
    }
   ],
   "source": [
    "f(2)"
   ]
  },
  {
   "cell_type": "code",
   "execution_count": 16,
   "metadata": {
    "collapsed": false
   },
   "outputs": [
    {
     "data": {
      "text/plain": [
       "15"
      ]
     },
     "execution_count": 16,
     "metadata": {},
     "output_type": "execute_result"
    }
   ],
   "source": [
    "ans"
   ]
  },
  {
   "cell_type": "code",
   "execution_count": 17,
   "metadata": {
    "collapsed": false
   },
   "outputs": [
    {
     "data": {
      "text/plain": [
       "10"
      ]
     },
     "execution_count": 17,
     "metadata": {},
     "output_type": "execute_result"
    }
   ],
   "source": [
    "big(10)"
   ]
  },
  {
   "cell_type": "code",
   "execution_count": 18,
   "metadata": {
    "collapsed": false
   },
   "outputs": [
    {
     "data": {
      "text/plain": [
       "BigInt (constructor with 10 methods)"
      ]
     },
     "execution_count": 18,
     "metadata": {},
     "output_type": "execute_result"
    }
   ],
   "source": [
    "typeof(ans)"
   ]
  },
  {
   "cell_type": "code",
   "execution_count": 19,
   "metadata": {
    "collapsed": false
   },
   "outputs": [
    {
     "data": {
      "text/html": [
       "124-element Array{Method,1}:<ul><li> <<(x::<b>BigInt</b>,c::<b>Int32</b>) at <a href=\"https://github.com/JuliaLang/julia/tree/0c24dca65c031820b91721139f0291068086955c/base/gmp.jl#L289\" target=\"_blank\">gmp.jl:289</a><li> $(x::<b>BigInt</b>,y::<b>BigInt</b>) at <a href=\"https://github.com/JuliaLang/julia/tree/0c24dca65c031820b91721139f0291068086955c/base/gmp.jl#L195\" target=\"_blank\">gmp.jl:195</a><li> $(a::<b>BigInt</b>,b::<b>BigInt</b>,c::<b>BigInt</b>) at <a href=\"https://github.com/JuliaLang/julia/tree/0c24dca65c031820b91721139f0291068086955c/base/gmp.jl#L218\" target=\"_blank\">gmp.jl:218</a><li> $(a::<b>BigInt</b>,b::<b>BigInt</b>,c::<b>BigInt</b>,d::<b>BigInt</b>) at <a href=\"https://github.com/JuliaLang/julia/tree/0c24dca65c031820b91721139f0291068086955c/base/gmp.jl#L224\" target=\"_blank\">gmp.jl:224</a><li> $(a::<b>BigInt</b>,b::<b>BigInt</b>,c::<b>BigInt</b>,d::<b>BigInt</b>,e::<b>BigInt</b>) at <a href=\"https://github.com/JuliaLang/julia/tree/0c24dca65c031820b91721139f0291068086955c/base/gmp.jl#L231\" target=\"_blank\">gmp.jl:231</a><li> isprime(x::<b>BigInt</b>) at <a href=\"https://github.com/JuliaLang/julia/tree/0c24dca65c031820b91721139f0291068086955c/base/gmp.jl#L473\" target=\"_blank\">gmp.jl:473</a><li> isprime(x::<b>BigInt</b>,reps) at <a href=\"https://github.com/JuliaLang/julia/tree/0c24dca65c031820b91721139f0291068086955c/base/gmp.jl#L473\" target=\"_blank\">gmp.jl:473</a><li> BigInt(x::<b>BigInt</b>) at <a href=\"https://github.com/JuliaLang/julia/tree/0c24dca65c031820b91721139f0291068086955c/base/gmp.jl#L50\" target=\"_blank\">gmp.jl:50</a><li> divrem(x::<b>BigInt</b>,y::<b>BigInt</b>) at <a href=\"https://github.com/JuliaLang/julia/tree/0c24dca65c031820b91721139f0291068086955c/base/gmp.jl#L312\" target=\"_blank\">gmp.jl:312</a><li> fld(x::<b>BigInt</b>,y::<b>BigInt</b>) at <a href=\"https://github.com/JuliaLang/julia/tree/0c24dca65c031820b91721139f0291068086955c/base/gmp.jl#L195\" target=\"_blank\">gmp.jl:195</a><li> dec(n::<b>BigInt</b>) at <a href=\"https://github.com/JuliaLang/julia/tree/0c24dca65c031820b91721139f0291068086955c/base/gmp.jl#L440\" target=\"_blank\">gmp.jl:440</a><li> <=(x::<b>BigInt</b>,y::<b>BigInt</b>) at <a href=\"https://github.com/JuliaLang/julia/tree/0c24dca65c031820b91721139f0291068086955c/base/gmp.jl#L423\" target=\"_blank\">gmp.jl:423</a><li> <=(x::<b>BigInt</b>,i::<b>Integer</b>) at <a href=\"https://github.com/JuliaLang/julia/tree/0c24dca65c031820b91721139f0291068086955c/base/gmp.jl#L424\" target=\"_blank\">gmp.jl:424</a><li> <=(i::<b>Integer</b>,x::<b>BigInt</b>) at <a href=\"https://github.com/JuliaLang/julia/tree/0c24dca65c031820b91721139f0291068086955c/base/gmp.jl#L425\" target=\"_blank\">gmp.jl:425</a><li> <=(x::<b>BigInt</b>,f::<b>Union(Float16,Float64,Float32)</b>) at <a href=\"https://github.com/JuliaLang/julia/tree/0c24dca65c031820b91721139f0291068086955c/base/gmp.jl#L426\" target=\"_blank\">gmp.jl:426</a><li> <=(f::<b>Union(Float16,Float64,Float32)</b>,x::<b>BigInt</b>) at <a href=\"https://github.com/JuliaLang/julia/tree/0c24dca65c031820b91721139f0291068086955c/base/gmp.jl#L427\" target=\"_blank\">gmp.jl:427</a><li> gcdx(a::<b>BigInt</b>,b::<b>BigInt</b>) at <a href=\"https://github.com/JuliaLang/julia/tree/0c24dca65c031820b91721139f0291068086955c/base/gmp.jl#L373\" target=\"_blank\">gmp.jl:373</a><li> invmod(x::<b>BigInt</b>,y::<b>BigInt</b>) at <a href=\"https://github.com/JuliaLang/julia/tree/0c24dca65c031820b91721139f0291068086955c/base/gmp.jl#L203\" target=\"_blank\">gmp.jl:203</a><li> binomial(n::<b>BigInt</b>,k::<b>Uint64</b>) at <a href=\"https://github.com/JuliaLang/julia/tree/0c24dca65c031820b91721139f0291068086955c/base/gmp.jl#L411\" target=\"_blank\">gmp.jl:411</a><li> binomial(n::<b>BigInt</b>,k::<b>Integer</b>) at <a href=\"https://github.com/JuliaLang/julia/tree/0c24dca65c031820b91721139f0291068086955c/base/gmp.jl#L415\" target=\"_blank\">gmp.jl:415</a><li> hex(n::<b>BigInt</b>) at <a href=\"https://github.com/JuliaLang/julia/tree/0c24dca65c031820b91721139f0291068086955c/base/gmp.jl#L441\" target=\"_blank\">gmp.jl:441</a><li> trailing_ones(x::<b>BigInt</b>) at <a href=\"https://github.com/JuliaLang/julia/tree/0c24dca65c031820b91721139f0291068086955c/base/gmp.jl#L307\" target=\"_blank\">gmp.jl:307</a><li> >>(x::<b>BigInt</b>,c::<b>Int32</b>) at <a href=\"https://github.com/JuliaLang/julia/tree/0c24dca65c031820b91721139f0291068086955c/base/gmp.jl#L297\" target=\"_blank\">gmp.jl:297</a><li> show(io::<b>IO</b>,x::<b>BigInt</b>) at <a href=\"https://github.com/JuliaLang/julia/tree/0c24dca65c031820b91721139f0291068086955c/base/gmp.jl#L436\" target=\"_blank\">gmp.jl:436</a><li> gcd(x::<b>BigInt</b>,y::<b>BigInt</b>) at <a href=\"https://github.com/JuliaLang/julia/tree/0c24dca65c031820b91721139f0291068086955c/base/gmp.jl#L195\" target=\"_blank\">gmp.jl:195</a><li> convert(::<b>Type{Int64}</b>,n::<b>BigInt</b>) at <a href=\"https://github.com/JuliaLang/julia/tree/0c24dca65c031820b91721139f0291068086955c/base/gmp.jl#L128\" target=\"_blank\">gmp.jl:128</a><li> convert(::<b>Type{Int32}</b>,n::<b>BigInt</b>) at <a href=\"https://github.com/JuliaLang/julia/tree/0c24dca65c031820b91721139f0291068086955c/base/gmp.jl#L123\" target=\"_blank\">gmp.jl:123</a><li> convert(::<b>Type{Int16}</b>,n::<b>BigInt</b>) at <a href=\"https://github.com/JuliaLang/julia/tree/0c24dca65c031820b91721139f0291068086955c/base/gmp.jl#L124\" target=\"_blank\">gmp.jl:124</a><li> convert(::<b>Type{Int8}</b>,n::<b>BigInt</b>) at <a href=\"https://github.com/JuliaLang/julia/tree/0c24dca65c031820b91721139f0291068086955c/base/gmp.jl#L125\" target=\"_blank\">gmp.jl:125</a><li> convert(::<b>Type{Uint64}</b>,n::<b>BigInt</b>) at <a href=\"https://github.com/JuliaLang/julia/tree/0c24dca65c031820b91721139f0291068086955c/base/gmp.jl#L146\" target=\"_blank\">gmp.jl:146</a><li> convert(::<b>Type{Uint32}</b>,x::<b>BigInt</b>) at <a href=\"https://github.com/JuliaLang/julia/tree/0c24dca65c031820b91721139f0291068086955c/base/gmp.jl#L141\" target=\"_blank\">gmp.jl:141</a><li> convert(::<b>Type{Uint16}</b>,x::<b>BigInt</b>) at <a href=\"https://github.com/JuliaLang/julia/tree/0c24dca65c031820b91721139f0291068086955c/base/gmp.jl#L142\" target=\"_blank\">gmp.jl:142</a><li> convert(::<b>Type{Uint8}</b>,x::<b>BigInt</b>) at <a href=\"https://github.com/JuliaLang/julia/tree/0c24dca65c031820b91721139f0291068086955c/base/gmp.jl#L143\" target=\"_blank\">gmp.jl:143</a><li> convert(::<b>Type{Uint128}</b>,x::<b>BigInt</b>) at <a href=\"https://github.com/JuliaLang/julia/tree/0c24dca65c031820b91721139f0291068086955c/base/gmp.jl#L164\" target=\"_blank\">gmp.jl:164</a><li> convert(::<b>Type{Int128}</b>,x::<b>BigInt</b>) at <a href=\"https://github.com/JuliaLang/julia/tree/0c24dca65c031820b91721139f0291068086955c/base/gmp.jl#L168\" target=\"_blank\">gmp.jl:168</a><li> convert(::<b>Type{Float64}</b>,n::<b>BigInt</b>) at <a href=\"https://github.com/JuliaLang/julia/tree/0c24dca65c031820b91721139f0291068086955c/base/gmp.jl#L172\" target=\"_blank\">gmp.jl:172</a><li> convert(::<b>Type{Float32}</b>,n::<b>BigInt</b>) at <a href=\"https://github.com/JuliaLang/julia/tree/0c24dca65c031820b91721139f0291068086955c/base/gmp.jl#L174\" target=\"_blank\">gmp.jl:174</a><li> convert(::<b>Type{Float16}</b>,n::<b>BigInt</b>) at <a href=\"https://github.com/JuliaLang/julia/tree/0c24dca65c031820b91721139f0291068086955c/base/gmp.jl#L175\" target=\"_blank\">gmp.jl:175</a><li> convert(::<b>Type{FloatingPoint}</b>,x::<b>BigInt</b>) at <a href=\"https://github.com/JuliaLang/julia/tree/0c24dca65c031820b91721139f0291068086955c/base/mpfr.jl#L90\" target=\"_blank\">mpfr.jl:90</a><li> div(x::<b>BigInt</b>,y::<b>BigInt</b>) at <a href=\"https://github.com/JuliaLang/julia/tree/0c24dca65c031820b91721139f0291068086955c/base/gmp.jl#L195\" target=\"_blank\">gmp.jl:195</a><li> serialize(s,n::<b>BigInt</b>) at <a href=\"https://github.com/JuliaLang/julia/tree/0c24dca65c031820b91721139f0291068086955c/base/gmp.jl#L182\" target=\"_blank\">gmp.jl:182</a><li> >>>(x::<b>BigInt</b>,c::<b>Int32</b>) at <a href=\"https://github.com/JuliaLang/julia/tree/0c24dca65c031820b91721139f0291068086955c/base/gmp.jl#L304\" target=\"_blank\">gmp.jl:304</a><li> <(x::<b>BigInt</b>,y::<b>BigInt</b>) at <a href=\"https://github.com/JuliaLang/julia/tree/0c24dca65c031820b91721139f0291068086955c/base/gmp.jl#L429\" target=\"_blank\">gmp.jl:429</a><li> <(x::<b>BigInt</b>,i::<b>Integer</b>) at <a href=\"https://github.com/JuliaLang/julia/tree/0c24dca65c031820b91721139f0291068086955c/base/gmp.jl#L430\" target=\"_blank\">gmp.jl:430</a><li> <(i::<b>Integer</b>,x::<b>BigInt</b>) at <a href=\"https://github.com/JuliaLang/julia/tree/0c24dca65c031820b91721139f0291068086955c/base/gmp.jl#L431\" target=\"_blank\">gmp.jl:431</a><li> <(x::<b>BigInt</b>,f::<b>Union(Float16,Float64,Float32)</b>) at <a href=\"https://github.com/JuliaLang/julia/tree/0c24dca65c031820b91721139f0291068086955c/base/gmp.jl#L432\" target=\"_blank\">gmp.jl:432</a><li> <(f::<b>Union(Float16,Float64,Float32)</b>,x::<b>BigInt</b>) at <a href=\"https://github.com/JuliaLang/julia/tree/0c24dca65c031820b91721139f0291068086955c/base/gmp.jl#L433\" target=\"_blank\">gmp.jl:433</a><li> ~(x::<b>BigInt</b>) at <a href=\"https://github.com/JuliaLang/julia/tree/0c24dca65c031820b91721139f0291068086955c/base/gmp.jl#L281\" target=\"_blank\">gmp.jl:281</a><li> rem(x::<b>BigInt</b>,y::<b>BigInt</b>) at <a href=\"https://github.com/JuliaLang/julia/tree/0c24dca65c031820b91721139f0291068086955c/base/gmp.jl#L195\" target=\"_blank\">gmp.jl:195</a><li> -(x::<b>BigInt</b>) at <a href=\"https://github.com/JuliaLang/julia/tree/0c24dca65c031820b91721139f0291068086955c/base/gmp.jl#L281\" target=\"_blank\">gmp.jl:281</a><li> -(x::<b>BigInt</b>,y::<b>BigInt</b>) at <a href=\"https://github.com/JuliaLang/julia/tree/0c24dca65c031820b91721139f0291068086955c/base/gmp.jl#L195\" target=\"_blank\">gmp.jl:195</a><li> -(x::<b>BigInt</b>,c::<b>Union(Uint8,Uint32,Uint16,Uint64)</b>) at <a href=\"https://github.com/JuliaLang/julia/tree/0c24dca65c031820b91721139f0291068086955c/base/gmp.jl#L250\" target=\"_blank\">gmp.jl:250</a><li> -(c::<b>Union(Uint8,Uint32,Uint16,Uint64)</b>,x::<b>BigInt</b>) at <a href=\"https://github.com/JuliaLang/julia/tree/0c24dca65c031820b91721139f0291068086955c/base/gmp.jl#L255\" target=\"_blank\">gmp.jl:255</a><li> -(x::<b>BigInt</b>,c::<b>Union(Int32,Int64,Int8,Int16)</b>) at <a href=\"https://github.com/JuliaLang/julia/tree/0c24dca65c031820b91721139f0291068086955c/base/gmp.jl#L261\" target=\"_blank\">gmp.jl:261</a><li> -(c::<b>Union(Int32,Int64,Int8,Int16)</b>,x::<b>BigInt</b>) at <a href=\"https://github.com/JuliaLang/julia/tree/0c24dca65c031820b91721139f0291068086955c/base/gmp.jl#L262\" target=\"_blank\">gmp.jl:262</a><li> -(x::<b>BigFloat</b>,c::<b>BigInt</b>) at <a href=\"https://github.com/JuliaLang/julia/tree/0c24dca65c031820b91721139f0291068086955c/base/mpfr.jl#L235\" target=\"_blank\">mpfr.jl:235</a><li> -(c::<b>BigInt</b>,x::<b>BigFloat</b>) at <a href=\"https://github.com/JuliaLang/julia/tree/0c24dca65c031820b91721139f0291068086955c/base/mpfr.jl#L244\" target=\"_blank\">mpfr.jl:244</a><li> string(x::<b>BigInt</b>) at <a href=\"https://github.com/JuliaLang/julia/tree/0c24dca65c031820b91721139f0291068086955c/base/gmp.jl#L435\" target=\"_blank\">gmp.jl:435</a><li> count_ones(x::<b>BigInt</b>) at <a href=\"https://github.com/JuliaLang/julia/tree/0c24dca65c031820b91721139f0291068086955c/base/gmp.jl#L309\" target=\"_blank\">gmp.jl:309</a><li> &(x::<b>BigInt</b>,y::<b>BigInt</b>) at <a href=\"https://github.com/JuliaLang/julia/tree/0c24dca65c031820b91721139f0291068086955c/base/gmp.jl#L195\" target=\"_blank\">gmp.jl:195</a><li> &(a::<b>BigInt</b>,b::<b>BigInt</b>,c::<b>BigInt</b>) at <a href=\"https://github.com/JuliaLang/julia/tree/0c24dca65c031820b91721139f0291068086955c/base/gmp.jl#L218\" target=\"_blank\">gmp.jl:218</a><li> &(a::<b>BigInt</b>,b::<b>BigInt</b>,c::<b>BigInt</b>,d::<b>BigInt</b>) at <a href=\"https://github.com/JuliaLang/julia/tree/0c24dca65c031820b91721139f0291068086955c/base/gmp.jl#L224\" target=\"_blank\">gmp.jl:224</a><li> &(a::<b>BigInt</b>,b::<b>BigInt</b>,c::<b>BigInt</b>,d::<b>BigInt</b>,e::<b>BigInt</b>) at <a href=\"https://github.com/JuliaLang/julia/tree/0c24dca65c031820b91721139f0291068086955c/base/gmp.jl#L231\" target=\"_blank\">gmp.jl:231</a><li> mod(x::<b>BigInt</b>,y::<b>BigInt</b>) at <a href=\"https://github.com/JuliaLang/julia/tree/0c24dca65c031820b91721139f0291068086955c/base/gmp.jl#L195\" target=\"_blank\">gmp.jl:195</a><li> ^(x::<b>BigInt</b>,y::<b>Bool</b>) at <a href=\"https://github.com/JuliaLang/julia/tree/0c24dca65c031820b91721139f0291068086955c/base/gmp.jl#L357\" target=\"_blank\">gmp.jl:357</a><li> ^(x::<b>BigInt</b>,y::<b>Uint64</b>) at <a href=\"https://github.com/JuliaLang/julia/tree/0c24dca65c031820b91721139f0291068086955c/base/gmp.jl#L343\" target=\"_blank\">gmp.jl:343</a><li> ^(x::<b>BigInt</b>,y::<b>BigInt</b>) at <a href=\"https://github.com/JuliaLang/julia/tree/0c24dca65c031820b91721139f0291068086955c/base/gmp.jl#L356\" target=\"_blank\">gmp.jl:356</a><li> ^(x::<b>BigInt</b>,y::<b>Integer</b>) at <a href=\"https://github.com/JuliaLang/julia/tree/0c24dca65c031820b91721139f0291068086955c/base/gmp.jl#L358\" target=\"_blank\">gmp.jl:358</a><li> ^(x::<b>Integer</b>,y::<b>BigInt</b>) at <a href=\"https://github.com/JuliaLang/julia/tree/0c24dca65c031820b91721139f0291068086955c/base/gmp.jl#L359\" target=\"_blank\">gmp.jl:359</a><li> ^(x::<b>BigFloat</b>,y::<b>BigInt</b>) at <a href=\"https://github.com/JuliaLang/julia/tree/0c24dca65c031820b91721139f0291068086955c/base/mpfr.jl#L317\" target=\"_blank\">mpfr.jl:317</a><li> oct(n::<b>BigInt</b>) at <a href=\"https://github.com/JuliaLang/julia/tree/0c24dca65c031820b91721139f0291068086955c/base/gmp.jl#L439\" target=\"_blank\">gmp.jl:439</a><li> *(x::<b>BigInt</b>,y::<b>BigInt</b>) at <a href=\"https://github.com/JuliaLang/julia/tree/0c24dca65c031820b91721139f0291068086955c/base/gmp.jl#L195\" target=\"_blank\">gmp.jl:195</a><li> *(a::<b>BigInt</b>,b::<b>BigInt</b>,c::<b>BigInt</b>) at <a href=\"https://github.com/JuliaLang/julia/tree/0c24dca65c031820b91721139f0291068086955c/base/gmp.jl#L218\" target=\"_blank\">gmp.jl:218</a><li> *(a::<b>BigInt</b>,b::<b>BigInt</b>,c::<b>BigInt</b>,d::<b>BigInt</b>) at <a href=\"https://github.com/JuliaLang/julia/tree/0c24dca65c031820b91721139f0291068086955c/base/gmp.jl#L224\" target=\"_blank\">gmp.jl:224</a><li> *(a::<b>BigInt</b>,b::<b>BigInt</b>,c::<b>BigInt</b>,d::<b>BigInt</b>,e::<b>BigInt</b>) at <a href=\"https://github.com/JuliaLang/julia/tree/0c24dca65c031820b91721139f0291068086955c/base/gmp.jl#L231\" target=\"_blank\">gmp.jl:231</a><li> *(x::<b>BigInt</b>,c::<b>Union(Uint8,Uint32,Uint16,Uint64)</b>) at <a href=\"https://github.com/JuliaLang/julia/tree/0c24dca65c031820b91721139f0291068086955c/base/gmp.jl#L265\" target=\"_blank\">gmp.jl:265</a><li> *(c::<b>Union(Uint8,Uint32,Uint16,Uint64)</b>,x::<b>BigInt</b>) at <a href=\"https://github.com/JuliaLang/julia/tree/0c24dca65c031820b91721139f0291068086955c/base/gmp.jl#L269\" target=\"_blank\">gmp.jl:269</a><li> *(x::<b>BigInt</b>,c::<b>Union(Int32,Int64,Int8,Int16)</b>) at <a href=\"https://github.com/JuliaLang/julia/tree/0c24dca65c031820b91721139f0291068086955c/base/gmp.jl#L271\" target=\"_blank\">gmp.jl:271</a><li> *(c::<b>Union(Int32,Int64,Int8,Int16)</b>,x::<b>BigInt</b>) at <a href=\"https://github.com/JuliaLang/julia/tree/0c24dca65c031820b91721139f0291068086955c/base/gmp.jl#L275\" target=\"_blank\">gmp.jl:275</a><li> *(x::<b>BigFloat</b>,c::<b>BigInt</b>) at <a href=\"https://github.com/JuliaLang/julia/tree/0c24dca65c031820b91721139f0291068086955c/base/mpfr.jl#L180\" target=\"_blank\">mpfr.jl:180</a><li> *(c::<b>BigInt</b>,x::<b>BigFloat</b>) at <a href=\"https://github.com/JuliaLang/julia/tree/0c24dca65c031820b91721139f0291068086955c/base/mpfr.jl#L184\" target=\"_blank\">mpfr.jl:184</a><li> isqrt(x::<b>BigInt</b>) at <a href=\"https://github.com/JuliaLang/julia/tree/0c24dca65c031820b91721139f0291068086955c/base/gmp.jl#L337\" target=\"_blank\">gmp.jl:337</a><li> sqrt(x::<b>BigInt</b>) at <a href=\"https://github.com/JuliaLang/julia/tree/0c24dca65c031820b91721139f0291068086955c/base/mpfr.jl#L293\" target=\"_blank\">mpfr.jl:293</a><li> |(x::<b>BigInt</b>,y::<b>BigInt</b>) at <a href=\"https://github.com/JuliaLang/julia/tree/0c24dca65c031820b91721139f0291068086955c/base/gmp.jl#L195\" target=\"_blank\">gmp.jl:195</a><li> |(a::<b>BigInt</b>,b::<b>BigInt</b>,c::<b>BigInt</b>) at <a href=\"https://github.com/JuliaLang/julia/tree/0c24dca65c031820b91721139f0291068086955c/base/gmp.jl#L218\" target=\"_blank\">gmp.jl:218</a><li> |(a::<b>BigInt</b>,b::<b>BigInt</b>,c::<b>BigInt</b>,d::<b>BigInt</b>) at <a href=\"https://github.com/JuliaLang/julia/tree/0c24dca65c031820b91721139f0291068086955c/base/gmp.jl#L224\" target=\"_blank\">gmp.jl:224</a><li> |(a::<b>BigInt</b>,b::<b>BigInt</b>,c::<b>BigInt</b>,d::<b>BigInt</b>,e::<b>BigInt</b>) at <a href=\"https://github.com/JuliaLang/julia/tree/0c24dca65c031820b91721139f0291068086955c/base/gmp.jl#L231\" target=\"_blank\">gmp.jl:231</a><li> trailing_zeros(x::<b>BigInt</b>) at <a href=\"https://github.com/JuliaLang/julia/tree/0c24dca65c031820b91721139f0291068086955c/base/gmp.jl#L306\" target=\"_blank\">gmp.jl:306</a><li> powermod(x::<b>BigInt</b>,p::<b>BigInt</b>,m::<b>BigInt</b>) at <a href=\"https://github.com/JuliaLang/julia/tree/0c24dca65c031820b91721139f0291068086955c/base/gmp.jl#L362\" target=\"_blank\">gmp.jl:362</a><li> powermod(x::<b>BigInt</b>,p::<b>Integer</b>,m::<b>BigInt</b>) at <a href=\"https://github.com/JuliaLang/julia/tree/0c24dca65c031820b91721139f0291068086955c/base/gmp.jl#L369\" target=\"_blank\">gmp.jl:369</a><li> powermod(x::<b>BigInt</b>,p::<b>Integer</b>,m::<b>Integer</b>) at <a href=\"https://github.com/JuliaLang/julia/tree/0c24dca65c031820b91721139f0291068086955c/base/gmp.jl#L370\" target=\"_blank\">gmp.jl:370</a><li> nextpow2(x::<b>BigInt</b>) at <a href=\"https://github.com/JuliaLang/julia/tree/0c24dca65c031820b91721139f0291068086955c/base/gmp.jl#L479\" target=\"_blank\">gmp.jl:479</a><li> lcm(x::<b>BigInt</b>,y::<b>BigInt</b>) at <a href=\"https://github.com/JuliaLang/julia/tree/0c24dca65c031820b91721139f0291068086955c/base/gmp.jl#L195\" target=\"_blank\">gmp.jl:195</a><li> ndigits(x::<b>BigInt</b>) at <a href=\"https://github.com/JuliaLang/julia/tree/0c24dca65c031820b91721139f0291068086955c/base/gmp.jl#L471\" target=\"_blank\">gmp.jl:471</a><li> ndigits(x::<b>BigInt</b>,b::<b>Integer</b>) at <a href=\"https://github.com/JuliaLang/julia/tree/0c24dca65c031820b91721139f0291068086955c/base/gmp.jl#L471\" target=\"_blank\">gmp.jl:471</a><li> BigFloat(x::<b>BigInt</b>) at <a href=\"https://github.com/JuliaLang/julia/tree/0c24dca65c031820b91721139f0291068086955c/base/mpfr.jl#L66\" target=\"_blank\">mpfr.jl:66</a><li> /(x::<b>BigFloat</b>,c::<b>BigInt</b>) at <a href=\"https://github.com/JuliaLang/julia/tree/0c24dca65c031820b91721139f0291068086955c/base/mpfr.jl#L235\" target=\"_blank\">mpfr.jl:235</a><li> cmp(x::<b>BigInt</b>,y::<b>BigInt</b>) at <a href=\"https://github.com/JuliaLang/julia/tree/0c24dca65c031820b91721139f0291068086955c/base/gmp.jl#L319\" target=\"_blank\">gmp.jl:319</a><li> cmp(x::<b>BigInt</b>,y::<b>Union(Int32,Int64,Int8,Int16)</b>) at <a href=\"https://github.com/JuliaLang/julia/tree/0c24dca65c031820b91721139f0291068086955c/base/gmp.jl#L322\" target=\"_blank\">gmp.jl:322</a><li> cmp(x::<b>BigInt</b>,y::<b>Union(Uint8,Uint32,Uint16,Uint64)</b>) at <a href=\"https://github.com/JuliaLang/julia/tree/0c24dca65c031820b91721139f0291068086955c/base/gmp.jl#L325\" target=\"_blank\">gmp.jl:325</a><li> cmp(x::<b>BigInt</b>,y::<b>Integer</b>) at <a href=\"https://github.com/JuliaLang/julia/tree/0c24dca65c031820b91721139f0291068086955c/base/gmp.jl#L327\" target=\"_blank\">gmp.jl:327</a><li> cmp(x::<b>Integer</b>,y::<b>BigInt</b>) at <a href=\"https://github.com/JuliaLang/julia/tree/0c24dca65c031820b91721139f0291068086955c/base/gmp.jl#L328\" target=\"_blank\">gmp.jl:328</a><li> cmp(x::<b>BigInt</b>,y::<b>Union(Float16,Float64,Float32)</b>) at <a href=\"https://github.com/JuliaLang/julia/tree/0c24dca65c031820b91721139f0291068086955c/base/gmp.jl#L331\" target=\"_blank\">gmp.jl:331</a><li> cmp(x::<b>Union(Float16,Float64,Float32)</b>,y::<b>BigInt</b>) at <a href=\"https://github.com/JuliaLang/julia/tree/0c24dca65c031820b91721139f0291068086955c/base/gmp.jl#L334\" target=\"_blank\">gmp.jl:334</a><li> cmp(x::<b>BigFloat</b>,y::<b>BigInt</b>) at <a href=\"https://github.com/JuliaLang/julia/tree/0c24dca65c031820b91721139f0291068086955c/base/mpfr.jl#L525\" target=\"_blank\">mpfr.jl:525</a><li> ==(x::<b>BigInt</b>,y::<b>BigInt</b>) at <a href=\"https://github.com/JuliaLang/julia/tree/0c24dca65c031820b91721139f0291068086955c/base/gmp.jl#L417\" target=\"_blank\">gmp.jl:417</a><li> ==(x::<b>BigInt</b>,i::<b>Integer</b>) at <a href=\"https://github.com/JuliaLang/julia/tree/0c24dca65c031820b91721139f0291068086955c/base/gmp.jl#L418\" target=\"_blank\">gmp.jl:418</a><li> ==(i::<b>Integer</b>,x::<b>BigInt</b>) at <a href=\"https://github.com/JuliaLang/julia/tree/0c24dca65c031820b91721139f0291068086955c/base/gmp.jl#L419\" target=\"_blank\">gmp.jl:419</a><li> ==(x::<b>BigInt</b>,f::<b>Union(Float16,Float64,Float32)</b>) at <a href=\"https://github.com/JuliaLang/julia/tree/0c24dca65c031820b91721139f0291068086955c/base/gmp.jl#L420\" target=\"_blank\">gmp.jl:420</a><li> ==(f::<b>Union(Float16,Float64,Float32)</b>,x::<b>BigInt</b>) at <a href=\"https://github.com/JuliaLang/julia/tree/0c24dca65c031820b91721139f0291068086955c/base/gmp.jl#L421\" target=\"_blank\">gmp.jl:421</a><li> prevpow2(x::<b>BigInt</b>) at <a href=\"https://github.com/JuliaLang/julia/tree/0c24dca65c031820b91721139f0291068086955c/base/gmp.jl#L478\" target=\"_blank\">gmp.jl:478</a><li> factorial(x::<b>BigInt</b>) at <a href=\"https://github.com/JuliaLang/julia/tree/0c24dca65c031820b91721139f0291068086955c/base/gmp.jl#L404\" target=\"_blank\">gmp.jl:404</a><li> base(b::<b>Integer</b>,n::<b>BigInt</b>) at <a href=\"https://github.com/JuliaLang/julia/tree/0c24dca65c031820b91721139f0291068086955c/base/gmp.jl#L444\" target=\"_blank\">gmp.jl:444</a><li> +(x::<b>BigInt</b>,y::<b>BigInt</b>) at <a href=\"https://github.com/JuliaLang/julia/tree/0c24dca65c031820b91721139f0291068086955c/base/gmp.jl#L195\" target=\"_blank\">gmp.jl:195</a><li> +(a::<b>BigInt</b>,b::<b>BigInt</b>,c::<b>BigInt</b>) at <a href=\"https://github.com/JuliaLang/julia/tree/0c24dca65c031820b91721139f0291068086955c/base/gmp.jl#L218\" target=\"_blank\">gmp.jl:218</a><li> +(a::<b>BigInt</b>,b::<b>BigInt</b>,c::<b>BigInt</b>,d::<b>BigInt</b>) at <a href=\"https://github.com/JuliaLang/julia/tree/0c24dca65c031820b91721139f0291068086955c/base/gmp.jl#L224\" target=\"_blank\">gmp.jl:224</a><li> +(a::<b>BigInt</b>,b::<b>BigInt</b>,c::<b>BigInt</b>,d::<b>BigInt</b>,e::<b>BigInt</b>) at <a href=\"https://github.com/JuliaLang/julia/tree/0c24dca65c031820b91721139f0291068086955c/base/gmp.jl#L231\" target=\"_blank\">gmp.jl:231</a><li> +(x::<b>BigInt</b>,c::<b>Union(Uint8,Uint32,Uint16,Uint64)</b>) at <a href=\"https://github.com/JuliaLang/julia/tree/0c24dca65c031820b91721139f0291068086955c/base/gmp.jl#L243\" target=\"_blank\">gmp.jl:243</a><li> +(c::<b>Union(Uint8,Uint32,Uint16,Uint64)</b>,x::<b>BigInt</b>) at <a href=\"https://github.com/JuliaLang/julia/tree/0c24dca65c031820b91721139f0291068086955c/base/gmp.jl#L247\" target=\"_blank\">gmp.jl:247</a><li> +(x::<b>BigInt</b>,c::<b>Union(Int32,Int64,Int8,Int16)</b>) at <a href=\"https://github.com/JuliaLang/julia/tree/0c24dca65c031820b91721139f0291068086955c/base/gmp.jl#L259\" target=\"_blank\">gmp.jl:259</a><li> +(c::<b>Union(Int32,Int64,Int8,Int16)</b>,x::<b>BigInt</b>) at <a href=\"https://github.com/JuliaLang/julia/tree/0c24dca65c031820b91721139f0291068086955c/base/gmp.jl#L260\" target=\"_blank\">gmp.jl:260</a><li> +(x::<b>BigFloat</b>,c::<b>BigInt</b>) at <a href=\"https://github.com/JuliaLang/julia/tree/0c24dca65c031820b91721139f0291068086955c/base/mpfr.jl#L180\" target=\"_blank\">mpfr.jl:180</a><li> +(c::<b>BigInt</b>,x::<b>BigFloat</b>) at <a href=\"https://github.com/JuliaLang/julia/tree/0c24dca65c031820b91721139f0291068086955c/base/mpfr.jl#L184\" target=\"_blank\">mpfr.jl:184</a><li> bin(n::<b>BigInt</b>) at <a href=\"https://github.com/JuliaLang/julia/tree/0c24dca65c031820b91721139f0291068086955c/base/gmp.jl#L438\" target=\"_blank\">gmp.jl:438</a></ul>"
      ],
      "text/plain": [
       "124-element Array{Method,1}:\n",
       " <<(x::BigInt,c::Int32) at gmp.jl:289                              \n",
       " $(x::BigInt,y::BigInt) at gmp.jl:195                              \n",
       " $(a::BigInt,b::BigInt,c::BigInt) at gmp.jl:218                    \n",
       " $(a::BigInt,b::BigInt,c::BigInt,d::BigInt) at gmp.jl:224          \n",
       " $(a::BigInt,b::BigInt,c::BigInt,d::BigInt,e::BigInt) at gmp.jl:231\n",
       " isprime(x::BigInt) at gmp.jl:473                                  \n",
       " isprime(x::BigInt,reps) at gmp.jl:473                             \n",
       " BigInt(x::BigInt) at gmp.jl:50                                    \n",
       " divrem(x::BigInt,y::BigInt) at gmp.jl:312                         \n",
       " fld(x::BigInt,y::BigInt) at gmp.jl:195                            \n",
       " dec(n::BigInt) at gmp.jl:440                                      \n",
       " <=(x::BigInt,y::BigInt) at gmp.jl:423                             \n",
       " <=(x::BigInt,i::Integer) at gmp.jl:424                            \n",
       " ⋮                                                                 \n",
       " base(b::Integer,n::BigInt) at gmp.jl:444                          \n",
       " +(x::BigInt,y::BigInt) at gmp.jl:195                              \n",
       " +(a::BigInt,b::BigInt,c::BigInt) at gmp.jl:218                    \n",
       " +(a::BigInt,b::BigInt,c::BigInt,d::BigInt) at gmp.jl:224          \n",
       " +(a::BigInt,b::BigInt,c::BigInt,d::BigInt,e::BigInt) at gmp.jl:231\n",
       " +(x::BigInt,c::Union(Uint8,Uint32,Uint16,Uint64)) at gmp.jl:243   \n",
       " +(c::Union(Uint8,Uint32,Uint16,Uint64),x::BigInt) at gmp.jl:247   \n",
       " +(x::BigInt,c::Union(Int32,Int64,Int8,Int16)) at gmp.jl:259       \n",
       " +(c::Union(Int32,Int64,Int8,Int16),x::BigInt) at gmp.jl:260       \n",
       " +(x::BigFloat,c::BigInt) at mpfr.jl:180                           \n",
       " +(c::BigInt,x::BigFloat) at mpfr.jl:184                           \n",
       " bin(n::BigInt) at gmp.jl:438                                      "
      ]
     },
     "execution_count": 19,
     "metadata": {},
     "output_type": "execute_result"
    }
   ],
   "source": [
    "methodswith(ans)"
   ]
  },
  {
   "cell_type": "code",
   "execution_count": 20,
   "metadata": {
    "collapsed": false
   },
   "outputs": [
    {
     "data": {
      "text/plain": [
       "1"
      ]
     },
     "execution_count": 20,
     "metadata": {},
     "output_type": "execute_result"
    }
   ],
   "source": [
    "rem(big(10), big(3))"
   ]
  },
  {
   "cell_type": "code",
   "execution_count": 21,
   "metadata": {
    "collapsed": false
   },
   "outputs": [
    {
     "data": {
      "text/plain": [
       "10"
      ]
     },
     "execution_count": 21,
     "metadata": {},
     "output_type": "execute_result"
    }
   ],
   "source": [
    "a = big(10)"
   ]
  },
  {
   "cell_type": "code",
   "execution_count": 22,
   "metadata": {
    "collapsed": false
   },
   "outputs": [
    {
     "data": {
      "text/plain": [
       "10"
      ]
     },
     "execution_count": 22,
     "metadata": {},
     "output_type": "execute_result"
    }
   ],
   "source": [
    "ans"
   ]
  },
  {
   "cell_type": "code",
   "execution_count": 23,
   "metadata": {
    "collapsed": false
   },
   "outputs": [
    {
     "data": {
      "text/plain": [
       "3.33333333333333333333333333333333333333333333333333333333333333333333333333332e+18 with 256 bits of precision"
      ]
     },
     "execution_count": 23,
     "metadata": {},
     "output_type": "execute_result"
    }
   ],
   "source": [
    "a^19 / 3"
   ]
  },
  {
   "cell_type": "code",
   "execution_count": 24,
   "metadata": {
    "collapsed": false
   },
   "outputs": [
    {
     "data": {
      "text/plain": [
       "-8446744073709551616"
      ]
     },
     "execution_count": 24,
     "metadata": {},
     "output_type": "execute_result"
    }
   ],
   "source": [
    "10^19"
   ]
  },
  {
   "cell_type": "code",
   "execution_count": 25,
   "metadata": {
    "collapsed": false
   },
   "outputs": [
    {
     "data": {
      "text/plain": [
       "128"
      ]
     },
     "execution_count": 25,
     "metadata": {},
     "output_type": "execute_result"
    }
   ],
   "source": [
    "2^7"
   ]
  },
  {
   "cell_type": "code",
   "execution_count": 26,
   "metadata": {
    "collapsed": false
   },
   "outputs": [
    {
     "data": {
      "text/plain": [
       "// (generic function with 8 methods)"
      ]
     },
     "execution_count": 26,
     "metadata": {},
     "output_type": "execute_result"
    }
   ],
   "source": [
    "//"
   ]
  },
  {
   "cell_type": "code",
   "execution_count": 27,
   "metadata": {
    "collapsed": false
   },
   "outputs": [
    {
     "data": {
      "text/html": [
       "8 methods for generic function <b>//</b>:<ul><li> //(n::<b>Integer</b>,d::<b>Integer</b>) at <a href=\"https://github.com/JuliaLang/julia/tree/0c24dca65c031820b91721139f0291068086955c/base/rational.jl#L15\" target=\"_blank\">rational.jl:15</a><li> //(x::<b>Rational{T<:Integer}</b>,y::<b>Integer</b>) at <a href=\"https://github.com/JuliaLang/julia/tree/0c24dca65c031820b91721139f0291068086955c/base/rational.jl#L16\" target=\"_blank\">rational.jl:16</a><li> //(x::<b>Integer</b>,y::<b>Rational{T<:Integer}</b>) at <a href=\"https://github.com/JuliaLang/julia/tree/0c24dca65c031820b91721139f0291068086955c/base/rational.jl#L17\" target=\"_blank\">rational.jl:17</a><li> //(x::<b>Rational{T<:Integer}</b>,y::<b>Rational{T<:Integer}</b>) at <a href=\"https://github.com/JuliaLang/julia/tree/0c24dca65c031820b91721139f0291068086955c/base/rational.jl#L18\" target=\"_blank\">rational.jl:18</a><li> //(x::<b>Complex{T<:Real}</b>,y::<b>Real</b>) at <a href=\"https://github.com/JuliaLang/julia/tree/0c24dca65c031820b91721139f0291068086955c/base/rational.jl#L19\" target=\"_blank\">rational.jl:19</a><li> //(x::<b>Real</b>,y::<b>Complex{T<:Real}</b>) at <a href=\"https://github.com/JuliaLang/julia/tree/0c24dca65c031820b91721139f0291068086955c/base/rational.jl#L20\" target=\"_blank\">rational.jl:20</a><li> //(x::<b>Complex{T<:Real}</b>,y::<b>Complex{T<:Real}</b>) at <a href=\"https://github.com/JuliaLang/julia/tree/0c24dca65c031820b91721139f0291068086955c/base/rational.jl#L23\" target=\"_blank\">rational.jl:23</a><li> //(X::<b>AbstractArray{T,N}</b>,y::<b>Number</b>) at <a href=\"https://github.com/JuliaLang/julia/tree/0c24dca65c031820b91721139f0291068086955c/base/rational.jl#L28\" target=\"_blank\">rational.jl:28</a></ul>"
      ],
      "text/plain": [
       "# 8 methods for generic function \"//\":\n",
       "//(n::Integer,d::Integer) at rational.jl:15\n",
       "//(x::Rational{T<:Integer},y::Integer) at rational.jl:16\n",
       "//(x::Integer,y::Rational{T<:Integer}) at rational.jl:17\n",
       "//(x::Rational{T<:Integer},y::Rational{T<:Integer}) at rational.jl:18\n",
       "//(x::Complex{T<:Real},y::Real) at rational.jl:19\n",
       "//(x::Real,y::Complex{T<:Real}) at rational.jl:20\n",
       "//(x::Complex{T<:Real},y::Complex{T<:Real}) at rational.jl:23\n",
       "//(X::AbstractArray{T,N},y::Number) at rational.jl:28"
      ]
     },
     "execution_count": 27,
     "metadata": {},
     "output_type": "execute_result"
    }
   ],
   "source": [
    "methods(//)"
   ]
  },
  {
   "cell_type": "code",
   "execution_count": 28,
   "metadata": {
    "collapsed": false
   },
   "outputs": [
    {
     "data": {
      "text/plain": [
       "2"
      ]
     },
     "execution_count": 28,
     "metadata": {},
     "output_type": "execute_result"
    }
   ],
   "source": [
    "3 + -(1, 2)"
   ]
  },
  {
   "cell_type": "code",
   "execution_count": 29,
   "metadata": {
    "collapsed": false
   },
   "outputs": [
    {
     "data": {
      "text/html": [
       "129 methods for generic function <b>-</b>:<ul><li> -(x::<b>Bool</b>) at <a href=\"https://github.com/JuliaLang/julia/tree/0c24dca65c031820b91721139f0291068086955c/base/bool.jl#L37\" target=\"_blank\">bool.jl:37</a><li> -(x::<b>Bool</b>,y::<b>Bool</b>) at <a href=\"https://github.com/JuliaLang/julia/tree/0c24dca65c031820b91721139f0291068086955c/base/bool.jl#L40\" target=\"_blank\">bool.jl:40</a><li> -(x::<b>Union(Int32,Int8,Int16)</b>) at <a href=\"https://github.com/JuliaLang/julia/tree/0c24dca65c031820b91721139f0291068086955c/base/int.jl#L13\" target=\"_blank\">int.jl:13</a><li> -(x::<b>Union(Uint8,Uint32,Uint16)</b>) at <a href=\"https://github.com/JuliaLang/julia/tree/0c24dca65c031820b91721139f0291068086955c/base/int.jl#L14\" target=\"_blank\">int.jl:14</a><li> -(B::<b>BitArray{2}</b>,J::<b>UniformScaling{T<:Number}</b>) at <a href=\"https://github.com/JuliaLang/julia/tree/0c24dca65c031820b91721139f0291068086955c/base/linalg/uniformscaling.jl#L44\" target=\"_blank\">linalg/uniformscaling.jl:44</a><li> -(B::<b>BitArray{N}</b>) at <a href=\"https://github.com/JuliaLang/julia/tree/0c24dca65c031820b91721139f0291068086955c/base/bitarray.jl#L789\" target=\"_blank\">bitarray.jl:789</a><li> -(A::<b>BitArray{N}</b>,B::<b>BitArray{N}</b>) at <a href=\"https://github.com/JuliaLang/julia/tree/0c24dca65c031820b91721139f0291068086955c/base/bitarray.jl#L848\" target=\"_blank\">bitarray.jl:848</a><li> -(A::<b>Array{T,N}</b>,B::<b>SparseMatrixCSC{Tv,Ti<:Integer}</b>) at <a href=\"https://github.com/JuliaLang/julia/tree/0c24dca65c031820b91721139f0291068086955c/base/sparse/sparsematrix.jl#L639\" target=\"_blank\">sparse/sparsematrix.jl:639</a><li> -(A::<b>Array{T,2}</b>,B::<b>Diagonal{T}</b>) at <a href=\"https://github.com/JuliaLang/julia/tree/0c24dca65c031820b91721139f0291068086955c/base/linalg/special.jl#L90\" target=\"_blank\">linalg/special.jl:90</a><li> -(A::<b>Array{T,2}</b>,B::<b>Bidiagonal{T}</b>) at <a href=\"https://github.com/JuliaLang/julia/tree/0c24dca65c031820b91721139f0291068086955c/base/linalg/special.jl#L90\" target=\"_blank\">linalg/special.jl:90</a><li> -(A::<b>Array{T,2}</b>,B::<b>Tridiagonal{T}</b>) at <a href=\"https://github.com/JuliaLang/julia/tree/0c24dca65c031820b91721139f0291068086955c/base/linalg/special.jl#L90\" target=\"_blank\">linalg/special.jl:90</a><li> -(A::<b>Array{T,2}</b>,B::<b>Triangular{T,S<:AbstractArray{T,2},UpLo,IsUnit}</b>) at <a href=\"https://github.com/JuliaLang/julia/tree/0c24dca65c031820b91721139f0291068086955c/base/linalg/special.jl#L90\" target=\"_blank\">linalg/special.jl:90</a><li> -(A::<b>Array{T,2}</b>,B::<b>SymTridiagonal{T}</b>) at <a href=\"https://github.com/JuliaLang/julia/tree/0c24dca65c031820b91721139f0291068086955c/base/linalg/special.jl#L99\" target=\"_blank\">linalg/special.jl:99</a><li> -(A::<b>Union(SubArray{Bool,N,A<:DenseArray{T,N},I<:(Union(Range{Int64},Int64)...,)},DenseArray{Bool,N})</b>) at <a href=\"https://github.com/JuliaLang/julia/tree/0c24dca65c031820b91721139f0291068086955c/base/array.jl#L674\" target=\"_blank\">array.jl:674</a><li> -(A::<b>Union(SubArray{Bool,N,A<:DenseArray{T,N},I<:(Union(Range{Int64},Int64)...,)},DenseArray{Bool,N})</b>,B::<b>Union(SubArray{Bool,N,A<:DenseArray{T,N},I<:(Union(Range{Int64},Int64)...,)},DenseArray{Bool,N})</b>) at <a href=\"https://github.com/JuliaLang/julia/tree/0c24dca65c031820b91721139f0291068086955c/base/array.jl#L800\" target=\"_blank\">array.jl:800</a><li> -(A::<b>Union(DenseArray{T,N},SubArray{T,N,A<:DenseArray{T,N},I<:(Union(Range{Int64},Int64)...,)})</b>) at <a href=\"https://github.com/JuliaLang/julia/tree/0c24dca65c031820b91721139f0291068086955c/base/array.jl#L665\" target=\"_blank\">array.jl:665</a><li> -<i>{S,T}</i>(A::<b>Union(SubArray{S,N,A<:DenseArray{T,N},I<:(Union(Range{Int64},Int64)...,)},DenseArray{S,N})</b>,B::<b>Union(DenseArray{T,N},SubArray{T,N,A<:DenseArray{T,N},I<:(Union(Range{Int64},Int64)...,)})</b>) at <a href=\"https://github.com/JuliaLang/julia/tree/0c24dca65c031820b91721139f0291068086955c/base/array.jl#L722\" target=\"_blank\">array.jl:722</a><li> -<i>{T<:Union(Int32,Int8,Int16)}</i>(x::<b>T<:Union(Int32,Int8,Int16)</b>,y::<b>T<:Union(Int32,Int8,Int16)</b>) at <a href=\"https://github.com/JuliaLang/julia/tree/0c24dca65c031820b91721139f0291068086955c/base/int.jl#L17\" target=\"_blank\">int.jl:17</a><li> -<i>{T<:Union(Uint8,Uint32,Uint16)}</i>(x::<b>T<:Union(Uint8,Uint32,Uint16)</b>,y::<b>T<:Union(Uint8,Uint32,Uint16)</b>) at <a href=\"https://github.com/JuliaLang/julia/tree/0c24dca65c031820b91721139f0291068086955c/base/int.jl#L21\" target=\"_blank\">int.jl:21</a><li> -(x::<b>Int64</b>) at <a href=\"https://github.com/JuliaLang/julia/tree/0c24dca65c031820b91721139f0291068086955c/base/int.jl#L26\" target=\"_blank\">int.jl:26</a><li> -(x::<b>Uint64</b>) at <a href=\"https://github.com/JuliaLang/julia/tree/0c24dca65c031820b91721139f0291068086955c/base/int.jl#L27\" target=\"_blank\">int.jl:27</a><li> -(x::<b>Int128</b>) at <a href=\"https://github.com/JuliaLang/julia/tree/0c24dca65c031820b91721139f0291068086955c/base/int.jl#L28\" target=\"_blank\">int.jl:28</a><li> -(x::<b>Uint128</b>) at <a href=\"https://github.com/JuliaLang/julia/tree/0c24dca65c031820b91721139f0291068086955c/base/int.jl#L29\" target=\"_blank\">int.jl:29</a><li> -(x::<b>Int64</b>,y::<b>Int64</b>) at <a href=\"https://github.com/JuliaLang/julia/tree/0c24dca65c031820b91721139f0291068086955c/base/int.jl#L40\" target=\"_blank\">int.jl:40</a><li> -(x::<b>Uint64</b>,y::<b>Uint64</b>) at <a href=\"https://github.com/JuliaLang/julia/tree/0c24dca65c031820b91721139f0291068086955c/base/int.jl#L41\" target=\"_blank\">int.jl:41</a><li> -(x::<b>Int128</b>,y::<b>Int128</b>) at <a href=\"https://github.com/JuliaLang/julia/tree/0c24dca65c031820b91721139f0291068086955c/base/int.jl#L42\" target=\"_blank\">int.jl:42</a><li> -(x::<b>Uint128</b>,y::<b>Uint128</b>) at <a href=\"https://github.com/JuliaLang/julia/tree/0c24dca65c031820b91721139f0291068086955c/base/int.jl#L43\" target=\"_blank\">int.jl:43</a><li> -(x::<b>Float32</b>) at <a href=\"https://github.com/JuliaLang/julia/tree/0c24dca65c031820b91721139f0291068086955c/base/float.jl#L116\" target=\"_blank\">float.jl:116</a><li> -(x::<b>Float64</b>) at <a href=\"https://github.com/JuliaLang/julia/tree/0c24dca65c031820b91721139f0291068086955c/base/float.jl#L117\" target=\"_blank\">float.jl:117</a><li> -(x::<b>Float32</b>,y::<b>Float32</b>) at <a href=\"https://github.com/JuliaLang/julia/tree/0c24dca65c031820b91721139f0291068086955c/base/float.jl#L121\" target=\"_blank\">float.jl:121</a><li> -(x::<b>Float64</b>,y::<b>Float64</b>) at <a href=\"https://github.com/JuliaLang/julia/tree/0c24dca65c031820b91721139f0291068086955c/base/float.jl#L122\" target=\"_blank\">float.jl:122</a><li> -(z::<b>Complex{T<:Real}</b>) at <a href=\"https://github.com/JuliaLang/julia/tree/0c24dca65c031820b91721139f0291068086955c/base/complex.jl#L109\" target=\"_blank\">complex.jl:109</a><li> -(z::<b>Complex{T<:Real}</b>,w::<b>Complex{T<:Real}</b>) at <a href=\"https://github.com/JuliaLang/julia/tree/0c24dca65c031820b91721139f0291068086955c/base/complex.jl#L111\" target=\"_blank\">complex.jl:111</a><li> -(x::<b>Rational{T<:Integer}</b>) at <a href=\"https://github.com/JuliaLang/julia/tree/0c24dca65c031820b91721139f0291068086955c/base/rational.jl#L109\" target=\"_blank\">rational.jl:109</a><li> -(x::<b>Float16</b>) at <a href=\"https://github.com/JuliaLang/julia/tree/0c24dca65c031820b91721139f0291068086955c/base/float16.jl#L129\" target=\"_blank\">float16.jl:129</a><li> -(x::<b>BigInt</b>) at <a href=\"https://github.com/JuliaLang/julia/tree/0c24dca65c031820b91721139f0291068086955c/base/gmp.jl#L281\" target=\"_blank\">gmp.jl:281</a><li> -(x::<b>BigFloat</b>) at <a href=\"https://github.com/JuliaLang/julia/tree/0c24dca65c031820b91721139f0291068086955c/base/mpfr.jl#L279\" target=\"_blank\">mpfr.jl:279</a><li> -(x::<b>MathConst{sym}</b>) at <a href=\"https://github.com/JuliaLang/julia/tree/0c24dca65c031820b91721139f0291068086955c/base/constants.jl#L21\" target=\"_blank\">constants.jl:21</a><li> -(x::<b>Real</b>,z::<b>Complex{T<:Real}</b>) at <a href=\"https://github.com/JuliaLang/julia/tree/0c24dca65c031820b91721139f0291068086955c/base/complex.jl#L122\" target=\"_blank\">complex.jl:122</a><li> -(z::<b>Complex{T<:Real}</b>,x::<b>Real</b>) at <a href=\"https://github.com/JuliaLang/julia/tree/0c24dca65c031820b91721139f0291068086955c/base/complex.jl#L123\" target=\"_blank\">complex.jl:123</a><li> -(x::<b>Rational{T<:Integer}</b>,y::<b>Rational{T<:Integer}</b>) at <a href=\"https://github.com/JuliaLang/julia/tree/0c24dca65c031820b91721139f0291068086955c/base/rational.jl#L113\" target=\"_blank\">rational.jl:113</a><li> -(x::<b>Char</b>,y::<b>Char</b>) at <a href=\"https://github.com/JuliaLang/julia/tree/0c24dca65c031820b91721139f0291068086955c/base/char.jl#L28\" target=\"_blank\">char.jl:28</a><li> -(x::<b>Char</b>,y::<b>Integer</b>) at <a href=\"https://github.com/JuliaLang/julia/tree/0c24dca65c031820b91721139f0291068086955c/base/char.jl#L29\" target=\"_blank\">char.jl:29</a><li> -(a::<b>Float16</b>,b::<b>Float16</b>) at <a href=\"https://github.com/JuliaLang/julia/tree/0c24dca65c031820b91721139f0291068086955c/base/float16.jl#L132\" target=\"_blank\">float16.jl:132</a><li> -(x::<b>BigInt</b>,y::<b>BigInt</b>) at <a href=\"https://github.com/JuliaLang/julia/tree/0c24dca65c031820b91721139f0291068086955c/base/gmp.jl#L195\" target=\"_blank\">gmp.jl:195</a><li> -(x::<b>BigInt</b>,c::<b>Union(Uint8,Uint32,Uint16,Uint64)</b>) at <a href=\"https://github.com/JuliaLang/julia/tree/0c24dca65c031820b91721139f0291068086955c/base/gmp.jl#L250\" target=\"_blank\">gmp.jl:250</a><li> -(c::<b>Union(Uint8,Uint32,Uint16,Uint64)</b>,x::<b>BigInt</b>) at <a href=\"https://github.com/JuliaLang/julia/tree/0c24dca65c031820b91721139f0291068086955c/base/gmp.jl#L255\" target=\"_blank\">gmp.jl:255</a><li> -(x::<b>BigInt</b>,c::<b>Union(Int32,Int64,Int8,Int16)</b>) at <a href=\"https://github.com/JuliaLang/julia/tree/0c24dca65c031820b91721139f0291068086955c/base/gmp.jl#L261\" target=\"_blank\">gmp.jl:261</a><li> -(c::<b>Union(Int32,Int64,Int8,Int16)</b>,x::<b>BigInt</b>) at <a href=\"https://github.com/JuliaLang/julia/tree/0c24dca65c031820b91721139f0291068086955c/base/gmp.jl#L262\" target=\"_blank\">gmp.jl:262</a><li> -(x::<b>BigFloat</b>,y::<b>BigFloat</b>) at <a href=\"https://github.com/JuliaLang/julia/tree/0c24dca65c031820b91721139f0291068086955c/base/mpfr.jl#L192\" target=\"_blank\">mpfr.jl:192</a><li> -(x::<b>BigFloat</b>,c::<b>Union(Uint8,Uint32,Uint16,Uint64)</b>) at <a href=\"https://github.com/JuliaLang/julia/tree/0c24dca65c031820b91721139f0291068086955c/base/mpfr.jl#L199\" target=\"_blank\">mpfr.jl:199</a><li> -(c::<b>Union(Uint8,Uint32,Uint16,Uint64)</b>,x::<b>BigFloat</b>) at <a href=\"https://github.com/JuliaLang/julia/tree/0c24dca65c031820b91721139f0291068086955c/base/mpfr.jl#L204\" target=\"_blank\">mpfr.jl:204</a><li> -(x::<b>BigFloat</b>,c::<b>Union(Int32,Int64,Int8,Int16)</b>) at <a href=\"https://github.com/JuliaLang/julia/tree/0c24dca65c031820b91721139f0291068086955c/base/mpfr.jl#L211\" target=\"_blank\">mpfr.jl:211</a><li> -(c::<b>Union(Int32,Int64,Int8,Int16)</b>,x::<b>BigFloat</b>) at <a href=\"https://github.com/JuliaLang/julia/tree/0c24dca65c031820b91721139f0291068086955c/base/mpfr.jl#L216\" target=\"_blank\">mpfr.jl:216</a><li> -(x::<b>BigFloat</b>,c::<b>Union(Float16,Float64,Float32)</b>) at <a href=\"https://github.com/JuliaLang/julia/tree/0c24dca65c031820b91721139f0291068086955c/base/mpfr.jl#L223\" target=\"_blank\">mpfr.jl:223</a><li> -(c::<b>Union(Float16,Float64,Float32)</b>,x::<b>BigFloat</b>) at <a href=\"https://github.com/JuliaLang/julia/tree/0c24dca65c031820b91721139f0291068086955c/base/mpfr.jl#L228\" target=\"_blank\">mpfr.jl:228</a><li> -(x::<b>BigFloat</b>,c::<b>BigInt</b>) at <a href=\"https://github.com/JuliaLang/julia/tree/0c24dca65c031820b91721139f0291068086955c/base/mpfr.jl#L235\" target=\"_blank\">mpfr.jl:235</a><li> -(c::<b>BigInt</b>,x::<b>BigFloat</b>) at <a href=\"https://github.com/JuliaLang/julia/tree/0c24dca65c031820b91721139f0291068086955c/base/mpfr.jl#L244\" target=\"_blank\">mpfr.jl:244</a><li> -(x::<b>MathConst{sym}</b>,y::<b>MathConst{sym}</b>) at <a href=\"https://github.com/JuliaLang/julia/tree/0c24dca65c031820b91721139f0291068086955c/base/constants.jl#L23\" target=\"_blank\">constants.jl:23</a><li> -<i>{T<:Number}</i>(x::<b>T<:Number</b>,y::<b>T<:Number</b>) at <a href=\"https://github.com/JuliaLang/julia/tree/0c24dca65c031820b91721139f0291068086955c/base/promotion.jl#L190\" target=\"_blank\">promotion.jl:190</a><li> -(x::<b>Number</b>,y::<b>Number</b>) at <a href=\"https://github.com/JuliaLang/julia/tree/0c24dca65c031820b91721139f0291068086955c/base/promotion.jl#L160\" target=\"_blank\">promotion.jl:160</a><li> -(r::<b>OrdinalRange{T,S}</b>) at <a href=\"https://github.com/JuliaLang/julia/tree/0c24dca65c031820b91721139f0291068086955c/base/range.jl#L444\" target=\"_blank\">range.jl:444</a><li> -(r::<b>FloatRange{T<:FloatingPoint}</b>) at <a href=\"https://github.com/JuliaLang/julia/tree/0c24dca65c031820b91721139f0291068086955c/base/range.jl#L445\" target=\"_blank\">range.jl:445</a><li> -(r1::<b>OrdinalRange{T,S}</b>,r2::<b>OrdinalRange{T,S}</b>) at <a href=\"https://github.com/JuliaLang/julia/tree/0c24dca65c031820b91721139f0291068086955c/base/operators.jl#L325\" target=\"_blank\">operators.jl:325</a><li> -<i>{T<:FloatingPoint}</i>(r1::<b>FloatRange{T<:FloatingPoint}</b>,r2::<b>FloatRange{T<:FloatingPoint}</b>) at <a href=\"https://github.com/JuliaLang/julia/tree/0c24dca65c031820b91721139f0291068086955c/base/operators.jl#L331\" target=\"_blank\">operators.jl:331</a><li> -(r1::<b>FloatRange{T<:FloatingPoint}</b>,r2::<b>FloatRange{T<:FloatingPoint}</b>) at <a href=\"https://github.com/JuliaLang/julia/tree/0c24dca65c031820b91721139f0291068086955c/base/operators.jl#L348\" target=\"_blank\">operators.jl:348</a><li> -(r1::<b>FloatRange{T<:FloatingPoint}</b>,r2::<b>OrdinalRange{T,S}</b>) at <a href=\"https://github.com/JuliaLang/julia/tree/0c24dca65c031820b91721139f0291068086955c/base/operators.jl#L349\" target=\"_blank\">operators.jl:349</a><li> -(r1::<b>OrdinalRange{T,S}</b>,r2::<b>FloatRange{T<:FloatingPoint}</b>) at <a href=\"https://github.com/JuliaLang/julia/tree/0c24dca65c031820b91721139f0291068086955c/base/operators.jl#L350\" target=\"_blank\">operators.jl:350</a><li> -(x::<b>Ptr{T}</b>,y::<b>Ptr{T}</b>) at <a href=\"https://github.com/JuliaLang/julia/tree/0c24dca65c031820b91721139f0291068086955c/base/pointer.jl#L64\" target=\"_blank\">pointer.jl:64</a><li> -(x::<b>Ptr{T}</b>,y::<b>Integer</b>) at <a href=\"https://github.com/JuliaLang/julia/tree/0c24dca65c031820b91721139f0291068086955c/base/pointer.jl#L67\" target=\"_blank\">pointer.jl:67</a><li> -<i>{S,T<:Real}</i>(A::<b>Union(SubArray{S,N,A<:DenseArray{T,N},I<:(Union(Range{Int64},Int64)...,)},DenseArray{S,N})</b>,B::<b>Range{T<:Real}</b>) at <a href=\"https://github.com/JuliaLang/julia/tree/0c24dca65c031820b91721139f0291068086955c/base/array.jl#L730\" target=\"_blank\">array.jl:730</a><li> -<i>{S<:Real,T}</i>(A::<b>Range{S<:Real}</b>,B::<b>Union(DenseArray{T,N},SubArray{T,N,A<:DenseArray{T,N},I<:(Union(Range{Int64},Int64)...,)})</b>) at <a href=\"https://github.com/JuliaLang/julia/tree/0c24dca65c031820b91721139f0291068086955c/base/array.jl#L739\" target=\"_blank\">array.jl:739</a><li> -(A::<b>SparseMatrixCSC{Tv,Ti<:Integer}</b>) at <a href=\"https://github.com/JuliaLang/julia/tree/0c24dca65c031820b91721139f0291068086955c/base/sparse/sparsematrix.jl#L481\" target=\"_blank\">sparse/sparsematrix.jl:481</a><li> -(A::<b>Bidiagonal{T}</b>) at <a href=\"https://github.com/JuliaLang/julia/tree/0c24dca65c031820b91721139f0291068086955c/base/linalg/bidiag.jl#L107\" target=\"_blank\">linalg/bidiag.jl:107</a><li> -(A::<b>AbstractArray{Bool,N}</b>,x::<b>Bool</b>) at <a href=\"https://github.com/JuliaLang/julia/tree/0c24dca65c031820b91721139f0291068086955c/base/array.jl#L771\" target=\"_blank\">array.jl:771</a><li> -(x::<b>Bool</b>,A::<b>AbstractArray{Bool,N}</b>) at <a href=\"https://github.com/JuliaLang/julia/tree/0c24dca65c031820b91721139f0291068086955c/base/array.jl#L772\" target=\"_blank\">array.jl:772</a><li> -(A::<b>AbstractArray{T,N}</b>,x::<b>Number</b>) at <a href=\"https://github.com/JuliaLang/julia/tree/0c24dca65c031820b91721139f0291068086955c/base/array.jl#L775\" target=\"_blank\">array.jl:775</a><li> -(x::<b>Number</b>,A::<b>AbstractArray{T,N}</b>) at <a href=\"https://github.com/JuliaLang/julia/tree/0c24dca65c031820b91721139f0291068086955c/base/array.jl#L776\" target=\"_blank\">array.jl:776</a><li> -<i>{Tv,Ti}</i>(A::<b>SparseMatrixCSC{Tv,Ti}</b>,B::<b>SparseMatrixCSC{Tv,Ti}</b>) at <a href=\"https://github.com/JuliaLang/julia/tree/0c24dca65c031820b91721139f0291068086955c/base/sparse/sparsematrix.jl#L541\" target=\"_blank\">sparse/sparsematrix.jl:541</a><li> -<i>{TvA,TiA,TvB,TiB}</i>(A::<b>SparseMatrixCSC{TvA,TiA}</b>,B::<b>SparseMatrixCSC{TvB,TiB}</b>) at <a href=\"https://github.com/JuliaLang/julia/tree/0c24dca65c031820b91721139f0291068086955c/base/sparse/sparsematrix.jl#L533\" target=\"_blank\">sparse/sparsematrix.jl:533</a><li> -(A::<b>SparseMatrixCSC{Tv,Ti<:Integer}</b>,B::<b>Array{T,N}</b>) at <a href=\"https://github.com/JuliaLang/julia/tree/0c24dca65c031820b91721139f0291068086955c/base/sparse/sparsematrix.jl#L637\" target=\"_blank\">sparse/sparsematrix.jl:637</a><li> -(A::<b>SymTridiagonal{T}</b>,B::<b>SymTridiagonal{T}</b>) at <a href=\"https://github.com/JuliaLang/julia/tree/0c24dca65c031820b91721139f0291068086955c/base/linalg/tridiag.jl#L58\" target=\"_blank\">linalg/tridiag.jl:58</a><li> -(A::<b>Tridiagonal{T}</b>,B::<b>Tridiagonal{T}</b>) at <a href=\"https://github.com/JuliaLang/julia/tree/0c24dca65c031820b91721139f0291068086955c/base/linalg/tridiag.jl#L248\" target=\"_blank\">linalg/tridiag.jl:248</a><li> -(A::<b>Tridiagonal{T}</b>,B::<b>SymTridiagonal{T}</b>) at <a href=\"https://github.com/JuliaLang/julia/tree/0c24dca65c031820b91721139f0291068086955c/base/linalg/special.jl#L99\" target=\"_blank\">linalg/special.jl:99</a><li> -(A::<b>SymTridiagonal{T}</b>,B::<b>Tridiagonal{T}</b>) at <a href=\"https://github.com/JuliaLang/julia/tree/0c24dca65c031820b91721139f0291068086955c/base/linalg/special.jl#L98\" target=\"_blank\">linalg/special.jl:98</a><li> -<i>{T,MT,uplo}</i>(A::<b>Triangular{T,MT,uplo,IsUnit}</b>,B::<b>Triangular{T,MT,uplo,IsUnit}</b>) at <a href=\"https://github.com/JuliaLang/julia/tree/0c24dca65c031820b91721139f0291068086955c/base/linalg/triangular.jl#L13\" target=\"_blank\">linalg/triangular.jl:13</a><li> -<i>{T,MT,uplo1,uplo2}</i>(A::<b>Triangular{T,MT,uplo1,IsUnit}</b>,B::<b>Triangular{T,MT,uplo2,IsUnit}</b>) at <a href=\"https://github.com/JuliaLang/julia/tree/0c24dca65c031820b91721139f0291068086955c/base/linalg/triangular.jl#L14\" target=\"_blank\">linalg/triangular.jl:14</a><li> -(Da::<b>Diagonal{T}</b>,Db::<b>Diagonal{T}</b>) at <a href=\"https://github.com/JuliaLang/julia/tree/0c24dca65c031820b91721139f0291068086955c/base/linalg/diagonal.jl#L48\" target=\"_blank\">linalg/diagonal.jl:48</a><li> -(A::<b>Bidiagonal{T}</b>,B::<b>Bidiagonal{T}</b>) at <a href=\"https://github.com/JuliaLang/julia/tree/0c24dca65c031820b91721139f0291068086955c/base/linalg/bidiag.jl#L100\" target=\"_blank\">linalg/bidiag.jl:100</a><li> -(J::<b>UniformScaling{T<:Number}</b>) at <a href=\"https://github.com/JuliaLang/julia/tree/0c24dca65c031820b91721139f0291068086955c/base/linalg/uniformscaling.jl#L42\" target=\"_blank\">linalg/uniformscaling.jl:42</a><li> -(J1::<b>UniformScaling{T<:Number}</b>,J2::<b>UniformScaling{T<:Number}</b>) at <a href=\"https://github.com/JuliaLang/julia/tree/0c24dca65c031820b91721139f0291068086955c/base/linalg/uniformscaling.jl#L43\" target=\"_blank\">linalg/uniformscaling.jl:43</a><li> -(J::<b>UniformScaling{T<:Number}</b>,B::<b>BitArray{2}</b>) at <a href=\"https://github.com/JuliaLang/julia/tree/0c24dca65c031820b91721139f0291068086955c/base/linalg/uniformscaling.jl#L45\" target=\"_blank\">linalg/uniformscaling.jl:45</a><li> -(J::<b>UniformScaling{T<:Number}</b>,x::<b>Number</b>) at <a href=\"https://github.com/JuliaLang/julia/tree/0c24dca65c031820b91721139f0291068086955c/base/linalg/uniformscaling.jl#L46\" target=\"_blank\">linalg/uniformscaling.jl:46</a><li> -(x::<b>Number</b>,J::<b>UniformScaling{T<:Number}</b>) at <a href=\"https://github.com/JuliaLang/julia/tree/0c24dca65c031820b91721139f0291068086955c/base/linalg/uniformscaling.jl#L47\" target=\"_blank\">linalg/uniformscaling.jl:47</a><li> -<i>{TA,TJ<:Number}</i>(A::<b>AbstractArray{TA,2}</b>,J::<b>UniformScaling{TJ<:Number}</b>) at <a href=\"https://github.com/JuliaLang/julia/tree/0c24dca65c031820b91721139f0291068086955c/base/linalg/uniformscaling.jl#L50\" target=\"_blank\">linalg/uniformscaling.jl:50</a><li> -<i>{TA,TJ<:Number}</i>(J::<b>UniformScaling{TJ<:Number}</b>,A::<b>AbstractArray{TA,2}</b>) at <a href=\"https://github.com/JuliaLang/julia/tree/0c24dca65c031820b91721139f0291068086955c/base/linalg/uniformscaling.jl#L59\" target=\"_blank\">linalg/uniformscaling.jl:59</a><li> -(A::<b>Diagonal{T}</b>,B::<b>Bidiagonal{T}</b>) at <a href=\"https://github.com/JuliaLang/julia/tree/0c24dca65c031820b91721139f0291068086955c/base/linalg/special.jl#L89\" target=\"_blank\">linalg/special.jl:89</a><li> -(A::<b>Bidiagonal{T}</b>,B::<b>Diagonal{T}</b>) at <a href=\"https://github.com/JuliaLang/julia/tree/0c24dca65c031820b91721139f0291068086955c/base/linalg/special.jl#L90\" target=\"_blank\">linalg/special.jl:90</a><li> -(A::<b>Diagonal{T}</b>,B::<b>Tridiagonal{T}</b>) at <a href=\"https://github.com/JuliaLang/julia/tree/0c24dca65c031820b91721139f0291068086955c/base/linalg/special.jl#L89\" target=\"_blank\">linalg/special.jl:89</a><li> -(A::<b>Tridiagonal{T}</b>,B::<b>Diagonal{T}</b>) at <a href=\"https://github.com/JuliaLang/julia/tree/0c24dca65c031820b91721139f0291068086955c/base/linalg/special.jl#L90\" target=\"_blank\">linalg/special.jl:90</a><li> -(A::<b>Diagonal{T}</b>,B::<b>Triangular{T,S<:AbstractArray{T,2},UpLo,IsUnit}</b>) at <a href=\"https://github.com/JuliaLang/julia/tree/0c24dca65c031820b91721139f0291068086955c/base/linalg/special.jl#L89\" target=\"_blank\">linalg/special.jl:89</a><li> -(A::<b>Triangular{T,S<:AbstractArray{T,2},UpLo,IsUnit}</b>,B::<b>Diagonal{T}</b>) at <a href=\"https://github.com/JuliaLang/julia/tree/0c24dca65c031820b91721139f0291068086955c/base/linalg/special.jl#L90\" target=\"_blank\">linalg/special.jl:90</a><li> -(A::<b>Diagonal{T}</b>,B::<b>Array{T,2}</b>) at <a href=\"https://github.com/JuliaLang/julia/tree/0c24dca65c031820b91721139f0291068086955c/base/linalg/special.jl#L89\" target=\"_blank\">linalg/special.jl:89</a><li> -(A::<b>Bidiagonal{T}</b>,B::<b>Tridiagonal{T}</b>) at <a href=\"https://github.com/JuliaLang/julia/tree/0c24dca65c031820b91721139f0291068086955c/base/linalg/special.jl#L89\" target=\"_blank\">linalg/special.jl:89</a><li> -(A::<b>Tridiagonal{T}</b>,B::<b>Bidiagonal{T}</b>) at <a href=\"https://github.com/JuliaLang/julia/tree/0c24dca65c031820b91721139f0291068086955c/base/linalg/special.jl#L90\" target=\"_blank\">linalg/special.jl:90</a><li> -(A::<b>Bidiagonal{T}</b>,B::<b>Triangular{T,S<:AbstractArray{T,2},UpLo,IsUnit}</b>) at <a href=\"https://github.com/JuliaLang/julia/tree/0c24dca65c031820b91721139f0291068086955c/base/linalg/special.jl#L89\" target=\"_blank\">linalg/special.jl:89</a><li> -(A::<b>Triangular{T,S<:AbstractArray{T,2},UpLo,IsUnit}</b>,B::<b>Bidiagonal{T}</b>) at <a href=\"https://github.com/JuliaLang/julia/tree/0c24dca65c031820b91721139f0291068086955c/base/linalg/special.jl#L90\" target=\"_blank\">linalg/special.jl:90</a><li> -(A::<b>Bidiagonal{T}</b>,B::<b>Array{T,2}</b>) at <a href=\"https://github.com/JuliaLang/julia/tree/0c24dca65c031820b91721139f0291068086955c/base/linalg/special.jl#L89\" target=\"_blank\">linalg/special.jl:89</a><li> -(A::<b>Tridiagonal{T}</b>,B::<b>Triangular{T,S<:AbstractArray{T,2},UpLo,IsUnit}</b>) at <a href=\"https://github.com/JuliaLang/julia/tree/0c24dca65c031820b91721139f0291068086955c/base/linalg/special.jl#L89\" target=\"_blank\">linalg/special.jl:89</a><li> -(A::<b>Triangular{T,S<:AbstractArray{T,2},UpLo,IsUnit}</b>,B::<b>Tridiagonal{T}</b>) at <a href=\"https://github.com/JuliaLang/julia/tree/0c24dca65c031820b91721139f0291068086955c/base/linalg/special.jl#L90\" target=\"_blank\">linalg/special.jl:90</a><li> -(A::<b>Tridiagonal{T}</b>,B::<b>Array{T,2}</b>) at <a href=\"https://github.com/JuliaLang/julia/tree/0c24dca65c031820b91721139f0291068086955c/base/linalg/special.jl#L89\" target=\"_blank\">linalg/special.jl:89</a><li> -(A::<b>Triangular{T,S<:AbstractArray{T,2},UpLo,IsUnit}</b>,B::<b>Array{T,2}</b>) at <a href=\"https://github.com/JuliaLang/julia/tree/0c24dca65c031820b91721139f0291068086955c/base/linalg/special.jl#L89\" target=\"_blank\">linalg/special.jl:89</a><li> -(A::<b>SymTridiagonal{T}</b>,B::<b>Triangular{T,S<:AbstractArray{T,2},UpLo,IsUnit}</b>) at <a href=\"https://github.com/JuliaLang/julia/tree/0c24dca65c031820b91721139f0291068086955c/base/linalg/special.jl#L98\" target=\"_blank\">linalg/special.jl:98</a><li> -(A::<b>Triangular{T,S<:AbstractArray{T,2},UpLo,IsUnit}</b>,B::<b>SymTridiagonal{T}</b>) at <a href=\"https://github.com/JuliaLang/julia/tree/0c24dca65c031820b91721139f0291068086955c/base/linalg/special.jl#L99\" target=\"_blank\">linalg/special.jl:99</a><li> -(A::<b>SymTridiagonal{T}</b>,B::<b>Array{T,2}</b>) at <a href=\"https://github.com/JuliaLang/julia/tree/0c24dca65c031820b91721139f0291068086955c/base/linalg/special.jl#L98\" target=\"_blank\">linalg/special.jl:98</a><li> -(A::<b>Diagonal{T}</b>,B::<b>SymTridiagonal{T}</b>) at <a href=\"https://github.com/JuliaLang/julia/tree/0c24dca65c031820b91721139f0291068086955c/base/linalg/special.jl#L107\" target=\"_blank\">linalg/special.jl:107</a><li> -(A::<b>SymTridiagonal{T}</b>,B::<b>Diagonal{T}</b>) at <a href=\"https://github.com/JuliaLang/julia/tree/0c24dca65c031820b91721139f0291068086955c/base/linalg/special.jl#L108\" target=\"_blank\">linalg/special.jl:108</a><li> -(A::<b>Bidiagonal{T}</b>,B::<b>SymTridiagonal{T}</b>) at <a href=\"https://github.com/JuliaLang/julia/tree/0c24dca65c031820b91721139f0291068086955c/base/linalg/special.jl#L107\" target=\"_blank\">linalg/special.jl:107</a><li> -(A::<b>SymTridiagonal{T}</b>,B::<b>Bidiagonal{T}</b>) at <a href=\"https://github.com/JuliaLang/julia/tree/0c24dca65c031820b91721139f0291068086955c/base/linalg/special.jl#L108\" target=\"_blank\">linalg/special.jl:108</a><li> -<i>{T}</i>(a::<b>HierarchicalValue{T}</b>,b::<b>HierarchicalValue{T}</b>) at <a href=\"https://github.com/JuliaLang/julia/tree/0c24dca65c031820b91721139f0291068086955c/base/pkg/resolve/versionweight.jl#L19\" target=\"_blank\">pkg/resolve/versionweight.jl:19</a><li> -<i>{T}</i>(a::<b>HierarchicalValue{T}</b>) at <a href=\"https://github.com/JuliaLang/julia/tree/0c24dca65c031820b91721139f0291068086955c/base/pkg/resolve/versionweight.jl#L41\" target=\"_blank\">pkg/resolve/versionweight.jl:41</a><li> -(a::<b>VWPreBuildItem</b>,b::<b>VWPreBuildItem</b>) at <a href=\"https://github.com/JuliaLang/julia/tree/0c24dca65c031820b91721139f0291068086955c/base/pkg/resolve/versionweight.jl#L81\" target=\"_blank\">pkg/resolve/versionweight.jl:81</a><li> -(a::<b>VWPreBuildItem</b>) at <a href=\"https://github.com/JuliaLang/julia/tree/0c24dca65c031820b91721139f0291068086955c/base/pkg/resolve/versionweight.jl#L84\" target=\"_blank\">pkg/resolve/versionweight.jl:84</a><li> -(a::<b>VWPreBuild</b>,b::<b>VWPreBuild</b>) at <a href=\"https://github.com/JuliaLang/julia/tree/0c24dca65c031820b91721139f0291068086955c/base/pkg/resolve/versionweight.jl#L119\" target=\"_blank\">pkg/resolve/versionweight.jl:119</a><li> -(a::<b>VWPreBuild</b>) at <a href=\"https://github.com/JuliaLang/julia/tree/0c24dca65c031820b91721139f0291068086955c/base/pkg/resolve/versionweight.jl#L122\" target=\"_blank\">pkg/resolve/versionweight.jl:122</a><li> -(a::<b>VersionWeight</b>,b::<b>VersionWeight</b>) at <a href=\"https://github.com/JuliaLang/julia/tree/0c24dca65c031820b91721139f0291068086955c/base/pkg/resolve/versionweight.jl#L159\" target=\"_blank\">pkg/resolve/versionweight.jl:159</a><li> -(a::<b>VersionWeight</b>) at <a href=\"https://github.com/JuliaLang/julia/tree/0c24dca65c031820b91721139f0291068086955c/base/pkg/resolve/versionweight.jl#L169\" target=\"_blank\">pkg/resolve/versionweight.jl:169</a><li> -(a::<b>FieldValue</b>,b::<b>FieldValue</b>) at <a href=\"https://github.com/JuliaLang/julia/tree/0c24dca65c031820b91721139f0291068086955c/base/pkg/resolve/fieldvalue.jl#L40\" target=\"_blank\">pkg/resolve/fieldvalue.jl:40</a><li> -(a::<b>Vec2</b>,b::<b>Vec2</b>) at <a href=\"https://github.com/JuliaLang/julia/tree/0c24dca65c031820b91721139f0291068086955c/base/graphics.jl#L61\" target=\"_blank\">graphics.jl:61</a></ul>"
      ],
      "text/plain": [
       "# 129 methods for generic function \"-\":\n",
       "-(x::Bool) at bool.jl:37\n",
       "-(x::Bool,y::Bool) at bool.jl:40\n",
       "-(x::Union(Int32,Int8,Int16)) at int.jl:13\n",
       "-(x::Union(Uint8,Uint32,Uint16)) at int.jl:14\n",
       "-(B::BitArray{2},J::UniformScaling{T<:Number}) at linalg/uniformscaling.jl:44\n",
       "-(B::BitArray{N}) at bitarray.jl:789\n",
       "-(A::BitArray{N},B::BitArray{N}) at bitarray.jl:848\n",
       "-(A::Array{T,N},B::SparseMatrixCSC{Tv,Ti<:Integer}) at sparse/sparsematrix.jl:639\n",
       "-(A::Array{T,2},B::Diagonal{T}) at linalg/special.jl:90\n",
       "-(A::Array{T,2},B::Bidiagonal{T}) at linalg/special.jl:90\n",
       "-(A::Array{T,2},B::Tridiagonal{T}) at linalg/special.jl:90\n",
       "-(A::Array{T,2},B::Triangular{T,S<:AbstractArray{T,2},UpLo,IsUnit}) at linalg/special.jl:90\n",
       "-(A::Array{T,2},B::SymTridiagonal{T}) at linalg/special.jl:99\n",
       "-(A::Union(SubArray{Bool,N,A<:DenseArray{T,N},I<:(Union(Range{Int64},Int64)...,)},DenseArray{Bool,N})) at array.jl:674\n",
       "-(A::Union(SubArray{Bool,N,A<:DenseArray{T,N},I<:(Union(Range{Int64},Int64)...,)},DenseArray{Bool,N}),B::Union(SubArray{Bool,N,A<:DenseArray{T,N},I<:(Union(Range{Int64},Int64)...,)},DenseArray{Bool,N})) at array.jl:800\n",
       "-(A::Union(DenseArray{T,N},SubArray{T,N,A<:DenseArray{T,N},I<:(Union(Range{Int64},Int64)...,)})) at array.jl:665\n",
       "-{S,T}(A::Union(SubArray{S,N,A<:DenseArray{T,N},I<:(Union(Range{Int64},Int64)...,)},DenseArray{S,N}),B::Union(DenseArray{T,N},SubArray{T,N,A<:DenseArray{T,N},I<:(Union(Range{Int64},Int64)...,)})) at array.jl:722\n",
       "-{T<:Union(Int32,Int8,Int16)}(x::T<:Union(Int32,Int8,Int16),y::T<:Union(Int32,Int8,Int16)) at int.jl:17\n",
       "-{T<:Union(Uint8,Uint32,Uint16)}(x::T<:Union(Uint8,Uint32,Uint16),y::T<:Union(Uint8,Uint32,Uint16)) at int.jl:21\n",
       "-(x::Int64) at int.jl:26\n",
       "-(x::Uint64) at int.jl:27\n",
       "-(x::Int128) at int.jl:28\n",
       "-(x::Uint128) at int.jl:29\n",
       "-(x::Int64,y::Int64) at int.jl:40\n",
       "-(x::Uint64,y::Uint64) at int.jl:41\n",
       "-(x::Int128,y::Int128) at int.jl:42\n",
       "-(x::Uint128,y::Uint128) at int.jl:43\n",
       "-(x::Float32) at float.jl:116\n",
       "-(x::Float64) at float.jl:117\n",
       "-(x::Float32,y::Float32) at float.jl:121\n",
       "-(x::Float64,y::Float64) at float.jl:122\n",
       "-(z::Complex{T<:Real}) at complex.jl:109\n",
       "-(z::Complex{T<:Real},w::Complex{T<:Real}) at complex.jl:111\n",
       "-(x::Rational{T<:Integer}) at rational.jl:109\n",
       "-(x::Float16) at float16.jl:129\n",
       "-(x::BigInt) at gmp.jl:281\n",
       "-(x::BigFloat) at mpfr.jl:279\n",
       "-(x::MathConst{sym}) at constants.jl:21\n",
       "-(x::Real,z::Complex{T<:Real}) at complex.jl:122\n",
       "-(z::Complex{T<:Real},x::Real) at complex.jl:123\n",
       "-(x::Rational{T<:Integer},y::Rational{T<:Integer}) at rational.jl:113\n",
       "-(x::Char,y::Char) at char.jl:28\n",
       "-(x::Char,y::Integer) at char.jl:29\n",
       "-(a::Float16,b::Float16) at float16.jl:132\n",
       "-(x::BigInt,y::BigInt) at gmp.jl:195\n",
       "-(x::BigInt,c::Union(Uint8,Uint32,Uint16,Uint64)) at gmp.jl:250\n",
       "-(c::Union(Uint8,Uint32,Uint16,Uint64),x::BigInt) at gmp.jl:255\n",
       "-(x::BigInt,c::Union(Int32,Int64,Int8,Int16)) at gmp.jl:261\n",
       "-(c::Union(Int32,Int64,Int8,Int16),x::BigInt) at gmp.jl:262\n",
       "-(x::BigFloat,y::BigFloat) at mpfr.jl:192\n",
       "-(x::BigFloat,c::Union(Uint8,Uint32,Uint16,Uint64)) at mpfr.jl:199\n",
       "-(c::Union(Uint8,Uint32,Uint16,Uint64),x::BigFloat) at mpfr.jl:204\n",
       "-(x::BigFloat,c::Union(Int32,Int64,Int8,Int16)) at mpfr.jl:211\n",
       "-(c::Union(Int32,Int64,Int8,Int16),x::BigFloat) at mpfr.jl:216\n",
       "-(x::BigFloat,c::Union(Float16,Float64,Float32)) at mpfr.jl:223\n",
       "-(c::Union(Float16,Float64,Float32),x::BigFloat) at mpfr.jl:228\n",
       "-(x::BigFloat,c::BigInt) at mpfr.jl:235\n",
       "-(c::BigInt,x::BigFloat) at mpfr.jl:244\n",
       "-(x::MathConst{sym},y::MathConst{sym}) at constants.jl:23\n",
       "-{T<:Number}(x::T<:Number,y::T<:Number) at promotion.jl:190\n",
       "-(x::Number,y::Number) at promotion.jl:160\n",
       "-(r::OrdinalRange{T,S}) at range.jl:444\n",
       "-(r::FloatRange{T<:FloatingPoint}) at range.jl:445\n",
       "-(r1::OrdinalRange{T,S},r2::OrdinalRange{T,S}) at operators.jl:325\n",
       "-{T<:FloatingPoint}(r1::FloatRange{T<:FloatingPoint},r2::FloatRange{T<:FloatingPoint}) at operators.jl:331\n",
       "-(r1::FloatRange{T<:FloatingPoint},r2::FloatRange{T<:FloatingPoint}) at operators.jl:348\n",
       "-(r1::FloatRange{T<:FloatingPoint},r2::OrdinalRange{T,S}) at operators.jl:349\n",
       "-(r1::OrdinalRange{T,S},r2::FloatRange{T<:FloatingPoint}) at operators.jl:350\n",
       "-(x::Ptr{T},y::Ptr{T}) at pointer.jl:64\n",
       "-(x::Ptr{T},y::Integer) at pointer.jl:67\n",
       "-{S,T<:Real}(A::Union(SubArray{S,N,A<:DenseArray{T,N},I<:(Union(Range{Int64},Int64)...,)},DenseArray{S,N}),B::Range{T<:Real}) at array.jl:730\n",
       "-{S<:Real,T}(A::Range{S<:Real},B::Union(DenseArray{T,N},SubArray{T,N,A<:DenseArray{T,N},I<:(Union(Range{Int64},Int64)...,)})) at array.jl:739\n",
       "-(A::SparseMatrixCSC{Tv,Ti<:Integer}) at sparse/sparsematrix.jl:481\n",
       "-(A::Bidiagonal{T}) at linalg/bidiag.jl:107\n",
       "-(A::AbstractArray{Bool,N},x::Bool) at array.jl:771\n",
       "-(x::Bool,A::AbstractArray{Bool,N}) at array.jl:772\n",
       "-(A::AbstractArray{T,N},x::Number) at array.jl:775\n",
       "-(x::Number,A::AbstractArray{T,N}) at array.jl:776\n",
       "-{Tv,Ti}(A::SparseMatrixCSC{Tv,Ti},B::SparseMatrixCSC{Tv,Ti}) at sparse/sparsematrix.jl:541\n",
       "-{TvA,TiA,TvB,TiB}(A::SparseMatrixCSC{TvA,TiA},B::SparseMatrixCSC{TvB,TiB}) at sparse/sparsematrix.jl:533\n",
       "-(A::SparseMatrixCSC{Tv,Ti<:Integer},B::Array{T,N}) at sparse/sparsematrix.jl:637\n",
       "-(A::SymTridiagonal{T},B::SymTridiagonal{T}) at linalg/tridiag.jl:58\n",
       "-(A::Tridiagonal{T},B::Tridiagonal{T}) at linalg/tridiag.jl:248\n",
       "-(A::Tridiagonal{T},B::SymTridiagonal{T}) at linalg/special.jl:99\n",
       "-(A::SymTridiagonal{T},B::Tridiagonal{T}) at linalg/special.jl:98\n",
       "-{T,MT,uplo}(A::Triangular{T,MT,uplo,IsUnit},B::Triangular{T,MT,uplo,IsUnit}) at linalg/triangular.jl:13\n",
       "-{T,MT,uplo1,uplo2}(A::Triangular{T,MT,uplo1,IsUnit},B::Triangular{T,MT,uplo2,IsUnit}) at linalg/triangular.jl:14\n",
       "-(Da::Diagonal{T},Db::Diagonal{T}) at linalg/diagonal.jl:48\n",
       "-(A::Bidiagonal{T},B::Bidiagonal{T}) at linalg/bidiag.jl:100\n",
       "-(J::UniformScaling{T<:Number}) at linalg/uniformscaling.jl:42\n",
       "-(J1::UniformScaling{T<:Number},J2::UniformScaling{T<:Number}) at linalg/uniformscaling.jl:43\n",
       "-(J::UniformScaling{T<:Number},B::BitArray{2}) at linalg/uniformscaling.jl:45\n",
       "-(J::UniformScaling{T<:Number},x::Number) at linalg/uniformscaling.jl:46\n",
       "-(x::Number,J::UniformScaling{T<:Number}) at linalg/uniformscaling.jl:47\n",
       "-{TA,TJ<:Number}(A::AbstractArray{TA,2},J::UniformScaling{TJ<:Number}) at linalg/uniformscaling.jl:50\n",
       "-{TA,TJ<:Number}(J::UniformScaling{TJ<:Number},A::AbstractArray{TA,2}) at linalg/uniformscaling.jl:59\n",
       "-(A::Diagonal{T},B::Bidiagonal{T}) at linalg/special.jl:89\n",
       "-(A::Bidiagonal{T},B::Diagonal{T}) at linalg/special.jl:90\n",
       "-(A::Diagonal{T},B::Tridiagonal{T}) at linalg/special.jl:89\n",
       "-(A::Tridiagonal{T},B::Diagonal{T}) at linalg/special.jl:90\n",
       "-(A::Diagonal{T},B::Triangular{T,S<:AbstractArray{T,2},UpLo,IsUnit}) at linalg/special.jl:89\n",
       "-(A::Triangular{T,S<:AbstractArray{T,2},UpLo,IsUnit},B::Diagonal{T}) at linalg/special.jl:90\n",
       "-(A::Diagonal{T},B::Array{T,2}) at linalg/special.jl:89\n",
       "-(A::Bidiagonal{T},B::Tridiagonal{T}) at linalg/special.jl:89\n",
       "-(A::Tridiagonal{T},B::Bidiagonal{T}) at linalg/special.jl:90\n",
       "-(A::Bidiagonal{T},B::Triangular{T,S<:AbstractArray{T,2},UpLo,IsUnit}) at linalg/special.jl:89\n",
       "-(A::Triangular{T,S<:AbstractArray{T,2},UpLo,IsUnit},B::Bidiagonal{T}) at linalg/special.jl:90\n",
       "-(A::Bidiagonal{T},B::Array{T,2}) at linalg/special.jl:89\n",
       "-(A::Tridiagonal{T},B::Triangular{T,S<:AbstractArray{T,2},UpLo,IsUnit}) at linalg/special.jl:89\n",
       "-(A::Triangular{T,S<:AbstractArray{T,2},UpLo,IsUnit},B::Tridiagonal{T}) at linalg/special.jl:90\n",
       "-(A::Tridiagonal{T},B::Array{T,2}) at linalg/special.jl:89\n",
       "-(A::Triangular{T,S<:AbstractArray{T,2},UpLo,IsUnit},B::Array{T,2}) at linalg/special.jl:89\n",
       "-(A::SymTridiagonal{T},B::Triangular{T,S<:AbstractArray{T,2},UpLo,IsUnit}) at linalg/special.jl:98\n",
       "-(A::Triangular{T,S<:AbstractArray{T,2},UpLo,IsUnit},B::SymTridiagonal{T}) at linalg/special.jl:99\n",
       "-(A::SymTridiagonal{T},B::Array{T,2}) at linalg/special.jl:98\n",
       "-(A::Diagonal{T},B::SymTridiagonal{T}) at linalg/special.jl:107\n",
       "-(A::SymTridiagonal{T},B::Diagonal{T}) at linalg/special.jl:108\n",
       "-(A::Bidiagonal{T},B::SymTridiagonal{T}) at linalg/special.jl:107\n",
       "-(A::SymTridiagonal{T},B::Bidiagonal{T}) at linalg/special.jl:108\n",
       "-{T}(a::HierarchicalValue{T},b::HierarchicalValue{T}) at pkg/resolve/versionweight.jl:19\n",
       "-{T}(a::HierarchicalValue{T}) at pkg/resolve/versionweight.jl:41\n",
       "-(a::VWPreBuildItem,b::VWPreBuildItem) at pkg/resolve/versionweight.jl:81\n",
       "-(a::VWPreBuildItem) at pkg/resolve/versionweight.jl:84\n",
       "-(a::VWPreBuild,b::VWPreBuild) at pkg/resolve/versionweight.jl:119\n",
       "-(a::VWPreBuild) at pkg/resolve/versionweight.jl:122\n",
       "-(a::VersionWeight,b::VersionWeight) at pkg/resolve/versionweight.jl:159\n",
       "-(a::VersionWeight) at pkg/resolve/versionweight.jl:169\n",
       "-(a::FieldValue,b::FieldValue) at pkg/resolve/fieldvalue.jl:40\n",
       "-(a::Vec2,b::Vec2) at graphics.jl:61"
      ]
     },
     "execution_count": 29,
     "metadata": {},
     "output_type": "execute_result"
    }
   ],
   "source": [
    "methods(-)"
   ]
  },
  {
   "cell_type": "code",
   "execution_count": 30,
   "metadata": {
    "collapsed": false
   },
   "outputs": [
    {
     "data": {
      "text/plain": [
       "3-element Array{Any,1}:\n",
       " 1   \n",
       " 2   \n",
       "  \"3\""
      ]
     },
     "execution_count": 30,
     "metadata": {},
     "output_type": "execute_result"
    }
   ],
   "source": [
    "l = [1, 2, \"3\"]"
   ]
  },
  {
   "cell_type": "code",
   "execution_count": 31,
   "metadata": {
    "collapsed": false
   },
   "outputs": [
    {
     "ename": "LoadError",
     "evalue": "`.+` has no method matching .+(::ASCIIString, ::Int64)\nwhile loading In[31], in expression starting on line 1",
     "output_type": "error",
     "traceback": [
      "`.+` has no method matching .+(::ASCIIString, ::Int64)\nwhile loading In[31], in expression starting on line 1",
      "",
      " in .+ at array.jl:761",
      " in + at array.jl:773"
     ]
    }
   ],
   "source": [
    "l + 3"
   ]
  },
  {
   "cell_type": "code",
   "execution_count": 32,
   "metadata": {
    "collapsed": false
   },
   "outputs": [
    {
     "ename": "LoadError",
     "evalue": "`append!` has no method matching append!(::Array{Any,1}, ::Int64)\nwhile loading In[32], in expression starting on line 1",
     "output_type": "error",
     "traceback": [
      "`append!` has no method matching append!(::Array{Any,1}, ::Int64)\nwhile loading In[32], in expression starting on line 1",
      ""
     ]
    }
   ],
   "source": [
    "append!(l, 3)"
   ]
  },
  {
   "cell_type": "code",
   "execution_count": 33,
   "metadata": {
    "collapsed": false
   },
   "outputs": [
    {
     "name": "stderr",
     "output_type": "stream",
     "text": [
      "INFO: Loading help data...\n"
     ]
    },
    {
     "name": "stdout",
     "output_type": "stream",
     "text": [
      "Base.listen([addr], port) -> TcpServer\n",
      "\n",
      "   Listen on port on the address specified by \"addr\". By default\n",
      "   this listens on localhost only. To listen on all interfaces pass,\n",
      "   \"IPv4(0)\" or \"IPv6(0)\" as appropriate.\n",
      "\n",
      "Base.listen(path) -> PipeServer\n",
      "\n",
      "   Listens on/Creates a Named Pipe/Domain Socket\n"
     ]
    }
   ],
   "source": [
    "?listen"
   ]
  },
  {
   "cell_type": "code",
   "execution_count": 34,
   "metadata": {
    "collapsed": false
   },
   "outputs": [
    {
     "data": {
      "text/plain": [
       "3-element Array{Any,1}:\n",
       " 1   \n",
       " 2   \n",
       "  \"3\""
      ]
     },
     "execution_count": 34,
     "metadata": {},
     "output_type": "execute_result"
    }
   ],
   "source": [
    "l[1:end]"
   ]
  },
  {
   "cell_type": "code",
   "execution_count": 35,
   "metadata": {
    "collapsed": false
   },
   "outputs": [
    {
     "data": {
      "text/plain": [
       "4-element Array{Any,1}:\n",
       " 1   \n",
       " 2   \n",
       "  \"3\"\n",
       " 3   "
      ]
     },
     "execution_count": 35,
     "metadata": {},
     "output_type": "execute_result"
    }
   ],
   "source": [
    "push!(l, 3)"
   ]
  },
  {
   "cell_type": "code",
   "execution_count": 36,
   "metadata": {
    "collapsed": false
   },
   "outputs": [
    {
     "data": {
      "text/plain": [
       "4-element Array{Int64,1}:\n",
       " 1\n",
       " 2\n",
       " 3\n",
       " 5"
      ]
     },
     "execution_count": 36,
     "metadata": {},
     "output_type": "execute_result"
    }
   ],
   "source": [
    "ll = [1, 2, [3, 5]] "
   ]
  },
  {
   "cell_type": "code",
   "execution_count": 37,
   "metadata": {
    "collapsed": false
   },
   "outputs": [
    {
     "data": {
      "text/plain": [
       "2x3 Array{Int64,2}:\n",
       " 1  2  3\n",
       " 4  5  6"
      ]
     },
     "execution_count": 37,
     "metadata": {},
     "output_type": "execute_result"
    }
   ],
   "source": [
    "[1 2 3; 4 5 6]"
   ]
  },
  {
   "cell_type": "code",
   "execution_count": 38,
   "metadata": {
    "collapsed": false
   },
   "outputs": [
    {
     "data": {
      "text/plain": [
       "2x2 Array{Int64,2}:\n",
       " 1  2\n",
       " 3  5"
      ]
     },
     "execution_count": 38,
     "metadata": {},
     "output_type": "execute_result"
    }
   ],
   "source": [
    "transpose(reshape(ll, 2, 2))"
   ]
  },
  {
   "cell_type": "code",
   "execution_count": 39,
   "metadata": {
    "collapsed": false
   },
   "outputs": [
    {
     "data": {
      "text/html": [
       "22 methods for generic function <b>push!</b>:<ul><li> push!(a::<b>Array{Any,1}</b>,item) at <a href=\"https://github.com/JuliaLang/julia/tree/0c24dca65c031820b91721139f0291068086955c/base/array.jl#L467\" target=\"_blank\">array.jl:467</a><li> push!<i>{T}</i>(a::<b>Array{T,1}</b>,item) at <a href=\"https://github.com/JuliaLang/julia/tree/0c24dca65c031820b91721139f0291068086955c/base/array.jl#L456\" target=\"_blank\">array.jl:456</a><li> push!(B::<b>BitArray{1}</b>,item) at <a href=\"https://github.com/JuliaLang/julia/tree/0c24dca65c031820b91721139f0291068086955c/base/bitarray.jl#L454\" target=\"_blank\">bitarray.jl:454</a><li> push!(s::<b>IntSet</b>,n::<b>Integer</b>) at <a href=\"https://github.com/JuliaLang/julia/tree/0c24dca65c031820b91721139f0291068086955c/base/intset.jl#L32\" target=\"_blank\">intset.jl:32</a><li> push!(::<b>EnvHash</b>,k::<b>String</b>,v) at <a href=\"https://github.com/JuliaLang/julia/tree/0c24dca65c031820b91721139f0291068086955c/base/env.jl#L114\" target=\"_blank\">env.jl:114</a><li> push!(t::<b>Associative{K,V}</b>,key,v) at <a href=\"https://github.com/JuliaLang/julia/tree/0c24dca65c031820b91721139f0291068086955c/base/dict.jl#L241\" target=\"_blank\">dict.jl:241</a><li> push!(s::<b>Set{T}</b>,x) at <a href=\"https://github.com/JuliaLang/julia/tree/0c24dca65c031820b91721139f0291068086955c/base/set.jl#L18\" target=\"_blank\">set.jl:18</a><li> push!<i>{T}</i>(q::<b>Deque{T}</b>,x) at <a href=\"https://github.com/JuliaLang/DataStructures.jl/tree/d5308421daea7370a60d3e2718e1b3fc5fe47f50/src/deque.jl#L189\" target=\"_blank\">/Users/DboyLiao/.julia/v0.3/DataStructures/src/deque.jl:189</a><li> push!(s::<b>Stack{S}</b>,x) at <a href=\"https://github.com/JuliaLang/DataStructures.jl/tree/d5308421daea7370a60d3e2718e1b3fc5fe47f50/src/stack.jl#L16\" target=\"_blank\">/Users/DboyLiao/.julia/v0.3/DataStructures/src/stack.jl:16</a><li> push!<i>{T,V<:Number,V2<:Number}</i>(ct::<b>Accumulator{T,V<:Number}</b>,r::<b>Accumulator{T,V2<:Number}</b>) at <a href=\"https://github.com/JuliaLang/DataStructures.jl/tree/d5308421daea7370a60d3e2718e1b3fc5fe47f50/src/accumulator.jl#L50\" target=\"_blank\">/Users/DboyLiao/.julia/v0.3/DataStructures/src/accumulator.jl:50</a><li> push!<i>{T,V<:Number}</i>(ct::<b>Accumulator{T,V<:Number}</b>,x::<b>T</b>,a::<b>V<:Number</b>) at <a href=\"https://github.com/JuliaLang/DataStructures.jl/tree/d5308421daea7370a60d3e2718e1b3fc5fe47f50/src/accumulator.jl#L45\" target=\"_blank\">/Users/DboyLiao/.julia/v0.3/DataStructures/src/accumulator.jl:45</a><li> push!<i>{T,V<:Number,V2<:Number}</i>(ct::<b>Accumulator{T,V<:Number}</b>,x::<b>T</b>,a::<b>V2<:Number</b>) at <a href=\"https://github.com/JuliaLang/DataStructures.jl/tree/d5308421daea7370a60d3e2718e1b3fc5fe47f50/src/accumulator.jl#L46\" target=\"_blank\">/Users/DboyLiao/.julia/v0.3/DataStructures/src/accumulator.jl:46</a><li> push!<i>{T,V<:Number}</i>(ct::<b>Accumulator{T,V<:Number}</b>,x::<b>T</b>) at <a href=\"https://github.com/JuliaLang/DataStructures.jl/tree/d5308421daea7370a60d3e2718e1b3fc5fe47f50/src/accumulator.jl#L47\" target=\"_blank\">/Users/DboyLiao/.julia/v0.3/DataStructures/src/accumulator.jl:47</a><li> push!<i>{K,C}</i>(cc::<b>ClassifiedCollections{K,C}</b>,key::<b>K</b>,e) at <a href=\"https://github.com/JuliaLang/DataStructures.jl/tree/d5308421daea7370a60d3e2718e1b3fc5fe47f50/src/classifiedcollections.jl#L44\" target=\"_blank\">/Users/DboyLiao/.julia/v0.3/DataStructures/src/classifiedcollections.jl:44</a><li> push!(s::<b>IntDisjointSets</b>) at <a href=\"https://github.com/JuliaLang/DataStructures.jl/tree/d5308421daea7370a60d3e2718e1b3fc5fe47f50/src/disjoint_set.jl#L82\" target=\"_blank\">/Users/DboyLiao/.julia/v0.3/DataStructures/src/disjoint_set.jl:82</a><li> push!<i>{T}</i>(s::<b>DisjointSets{T}</b>,x::<b>T</b>) at <a href=\"https://github.com/JuliaLang/DataStructures.jl/tree/d5308421daea7370a60d3e2718e1b3fc5fe47f50/src/disjoint_set.jl#L127\" target=\"_blank\">/Users/DboyLiao/.julia/v0.3/DataStructures/src/disjoint_set.jl:127</a><li> push!<i>{T}</i>(h::<b>BinaryHeap{T,Comp}</b>,v::<b>T</b>) at <a href=\"https://github.com/JuliaLang/DataStructures.jl/tree/d5308421daea7370a60d3e2718e1b3fc5fe47f50/src/heaps/binary_heap.jl#L138\" target=\"_blank\">/Users/DboyLiao/.julia/v0.3/DataStructures/src/heaps/binary_heap.jl:138</a><li> push!<i>{T}</i>(h::<b>MutableBinaryHeap{T,Comp}</b>,v::<b>T</b>) at <a href=\"https://github.com/JuliaLang/DataStructures.jl/tree/d5308421daea7370a60d3e2718e1b3fc5fe47f50/src/heaps/mutable_binary_heap.jl#L201\" target=\"_blank\">/Users/DboyLiao/.julia/v0.3/DataStructures/src/heaps/mutable_binary_heap.jl:201</a><li> push!(s::<b>OrderedSet{T}</b>,x) at <a href=\"https://github.com/JuliaLang/DataStructures.jl/tree/d5308421daea7370a60d3e2718e1b3fc5fe47f50/src/orderedset.jl#L26\" target=\"_blank\">/Users/DboyLiao/.julia/v0.3/DataStructures/src/orderedset.jl:26</a><li> push!(A) at <a href=\"https://github.com/JuliaLang/julia/tree/0c24dca65c031820b91721139f0291068086955c/base/abstractarray.jl#L1394\" target=\"_blank\">abstractarray.jl:1394</a><li> push!(A,a,b) at <a href=\"https://github.com/JuliaLang/julia/tree/0c24dca65c031820b91721139f0291068086955c/base/abstractarray.jl#L1395\" target=\"_blank\">abstractarray.jl:1395</a><li> push!(A,a,b,c...) at <a href=\"https://github.com/JuliaLang/julia/tree/0c24dca65c031820b91721139f0291068086955c/base/abstractarray.jl#L1396\" target=\"_blank\">abstractarray.jl:1396</a></ul>"
      ],
      "text/plain": [
       "# 22 methods for generic function \"push!\":\n",
       "push!(a::Array{Any,1},item) at array.jl:467\n",
       "push!{T}(a::Array{T,1},item) at array.jl:456\n",
       "push!(B::BitArray{1},item) at bitarray.jl:454\n",
       "push!(s::IntSet,n::Integer) at intset.jl:32\n",
       "push!(::EnvHash,k::String,v) at env.jl:114\n",
       "push!(t::Associative{K,V},key,v) at dict.jl:241\n",
       "push!(s::Set{T},x) at set.jl:18\n",
       "push!{T}(q::Deque{T},x) at /Users/DboyLiao/.julia/v0.3/DataStructures/src/deque.jl:189\n",
       "push!(s::Stack{S},x) at /Users/DboyLiao/.julia/v0.3/DataStructures/src/stack.jl:16\n",
       "push!{T,V<:Number,V2<:Number}(ct::Accumulator{T,V<:Number},r::Accumulator{T,V2<:Number}) at /Users/DboyLiao/.julia/v0.3/DataStructures/src/accumulator.jl:50\n",
       "push!{T,V<:Number}(ct::Accumulator{T,V<:Number},x::T,a::V<:Number) at /Users/DboyLiao/.julia/v0.3/DataStructures/src/accumulator.jl:45\n",
       "push!{T,V<:Number,V2<:Number}(ct::Accumulator{T,V<:Number},x::T,a::V2<:Number) at /Users/DboyLiao/.julia/v0.3/DataStructures/src/accumulator.jl:46\n",
       "push!{T,V<:Number}(ct::Accumulator{T,V<:Number},x::T) at /Users/DboyLiao/.julia/v0.3/DataStructures/src/accumulator.jl:47\n",
       "push!{K,C}(cc::ClassifiedCollections{K,C},key::K,e) at /Users/DboyLiao/.julia/v0.3/DataStructures/src/classifiedcollections.jl:44\n",
       "push!(s::IntDisjointSets) at /Users/DboyLiao/.julia/v0.3/DataStructures/src/disjoint_set.jl:82\n",
       "push!{T}(s::DisjointSets{T},x::T) at /Users/DboyLiao/.julia/v0.3/DataStructures/src/disjoint_set.jl:127\n",
       "push!{T}(h::BinaryHeap{T,Comp},v::T) at /Users/DboyLiao/.julia/v0.3/DataStructures/src/heaps/binary_heap.jl:138\n",
       "push!{T}(h::MutableBinaryHeap{T,Comp},v::T) at /Users/DboyLiao/.julia/v0.3/DataStructures/src/heaps/mutable_binary_heap.jl:201\n",
       "push!(s::OrderedSet{T},x) at /Users/DboyLiao/.julia/v0.3/DataStructures/src/orderedset.jl:26\n",
       "push!(A) at abstractarray.jl:1394\n",
       "push!(A,a,b) at abstractarray.jl:1395\n",
       "push!(A,a,b,c...) at abstractarray.jl:1396"
      ]
     },
     "execution_count": 39,
     "metadata": {},
     "output_type": "execute_result"
    }
   ],
   "source": [
    "methods(push!)"
   ]
  },
  {
   "cell_type": "code",
   "execution_count": 40,
   "metadata": {
    "collapsed": false
   },
   "outputs": [
    {
     "data": {
      "text/html": [
       "103-element Array{Method,1}:<ul><li> .^(A::<b>SparseMatrixCSC{Tv,Ti<:Integer}</b>,B::<b>Array{T,N}</b>) at <a href=\"https://github.com/JuliaLang/julia/tree/0c24dca65c031820b91721139f0291068086955c/base/sparse/sparsematrix.jl#L662\" target=\"_blank\">sparse/sparsematrix.jl:662</a><li> .^(A::<b>Array{T,N}</b>,B::<b>SparseMatrixCSC{Tv,Ti<:Integer}</b>) at <a href=\"https://github.com/JuliaLang/julia/tree/0c24dca65c031820b91721139f0291068086955c/base/sparse/sparsematrix.jl#L663\" target=\"_blank\">sparse/sparsematrix.jl:663</a><li> sizeof(a::<b>Array{T,N}</b>) at <a href=\"https://github.com/JuliaLang/julia/tree/0c24dca65c031820b91721139f0291068086955c/base/array.jl#L23\" target=\"_blank\">array.jl:23</a><li> length(a::<b>Array{T,N}</b>) at <a href=\"https://github.com/JuliaLang/julia/tree/0c24dca65c031820b91721139f0291068086955c/base/array.jl#L21\" target=\"_blank\">array.jl:21</a><li> reinterpret<i>{T,S}</i>(::<b>Type{T}</b>,a::<b>Array{S,N}</b>) at <a href=\"https://github.com/JuliaLang/julia/tree/0c24dca65c031820b91721139f0291068086955c/base/array.jl#L66\" target=\"_blank\">array.jl:66</a><li> reinterpret<i>{T,S,N}</i>(::<b>Type{T}</b>,a::<b>Array{S,N}</b>,dims::<b>NTuple{N,Int64}</b>) at <a href=\"https://github.com/JuliaLang/julia/tree/0c24dca65c031820b91721139f0291068086955c/base/array.jl#L73\" target=\"_blank\">array.jl:73</a><li> setindex!<i>{T}</i>(A::<b>Array{T,N}</b>,X::<b>Array{T,N}</b>,I::<b>UnitRange{Int64}</b>) at <a href=\"https://github.com/JuliaLang/julia/tree/0c24dca65c031820b91721139f0291068086955c/base/array.jl#L329\" target=\"_blank\">array.jl:329</a><li> setindex!(a::<b>Array{T,N}</b>,d::<b>DArray{T,N,A}</b>,I::<b>UnitRange{Int64}...</b>) at <a href=\"https://github.com/JuliaLang/julia/tree/0c24dca65c031820b91721139f0291068086955c/base/darray.jl#L254\" target=\"_blank\">darray.jl:254</a><li> setindex!(a::<b>Array{T,N}</b>,s::<b>SubArray{T,N,D<:DArray{T,N,A},I<:(Union(Range{Int64},Int64)...,)}</b>,I::<b>UnitRange{Int64}...</b>) at <a href=\"https://github.com/JuliaLang/julia/tree/0c24dca65c031820b91721139f0291068086955c/base/darray.jl#L265\" target=\"_blank\">darray.jl:265</a><li> setindex!(a::<b>Array{T,N}</b>,d::<b>Union(SubArray{T,N,D<:DArray{T,N,A},I<:(Union(Range{Int64},Int64)...,)},DArray{T,N,A})</b>,I::<b>Union(Int64,UnitRange{Int64})...</b>) at <a href=\"https://github.com/JuliaLang/julia/tree/0c24dca65c031820b91721139f0291068086955c/base/darray.jl#L296\" target=\"_blank\">darray.jl:296</a><li> setindex!(A::<b>Array{T,N}</b>,X::<b>AbstractArray{T,N}</b>,I::<b>AbstractArray{Bool,1}</b>) at <a href=\"https://github.com/JuliaLang/julia/tree/0c24dca65c031820b91721139f0291068086955c/base/array.jl#L382\" target=\"_blank\">array.jl:382</a><li> setindex!<i>{T<:Real}</i>(A::<b>Array{T,N}</b>,X::<b>AbstractArray{T,N}</b>,I::<b>AbstractArray{T<:Real,1}</b>) at <a href=\"https://github.com/JuliaLang/julia/tree/0c24dca65c031820b91721139f0291068086955c/base/array.jl#L337\" target=\"_blank\">array.jl:337</a><li> setindex!(A::<b>Array{T,N}</b>,x,I::<b>AbstractArray{Bool,1}</b>) at <a href=\"https://github.com/JuliaLang/julia/tree/0c24dca65c031820b91721139f0291068086955c/base/array.jl#L384\" target=\"_blank\">array.jl:384</a><li> setindex!<i>{T<:Real}</i>(A::<b>Array{T,N}</b>,x,I::<b>AbstractArray{T<:Real,1}</b>) at <a href=\"https://github.com/JuliaLang/julia/tree/0c24dca65c031820b91721139f0291068086955c/base/array.jl#L322\" target=\"_blank\">array.jl:322</a><li> setindex!(A::<b>Array{T,N}</b>,X::<b>AbstractArray{T,N}</b>,I::<b>AbstractArray{Bool,N}</b>) at <a href=\"https://github.com/JuliaLang/julia/tree/0c24dca65c031820b91721139f0291068086955c/base/array.jl#L383\" target=\"_blank\">array.jl:383</a><li> setindex!<i>{T}</i>(A::<b>Array{T,N}</b>,x) at <a href=\"https://github.com/JuliaLang/julia/tree/0c24dca65c031820b91721139f0291068086955c/base/array.jl#L305\" target=\"_blank\">array.jl:305</a><li> setindex!<i>{T}</i>(A::<b>Array{T,N}</b>,x,i0::<b>Real</b>) at <a href=\"https://github.com/JuliaLang/julia/tree/0c24dca65c031820b91721139f0291068086955c/base/array.jl#L307\" target=\"_blank\">array.jl:307</a><li> setindex!<i>{T}</i>(A::<b>Array{T,N}</b>,x,i0::<b>Real</b>,i1::<b>Real</b>) at <a href=\"https://github.com/JuliaLang/julia/tree/0c24dca65c031820b91721139f0291068086955c/base/array.jl#L308\" target=\"_blank\">array.jl:308</a><li> setindex!<i>{T}</i>(A::<b>Array{T,N}</b>,x,i0::<b>Real</b>,i1::<b>Real</b>,i2::<b>Real</b>) at <a href=\"https://github.com/JuliaLang/julia/tree/0c24dca65c031820b91721139f0291068086955c/base/array.jl#L310\" target=\"_blank\">array.jl:310</a><li> setindex!<i>{T}</i>(A::<b>Array{T,N}</b>,x,i0::<b>Real</b>,i1::<b>Real</b>,i2::<b>Real</b>,i3::<b>Real</b>) at <a href=\"https://github.com/JuliaLang/julia/tree/0c24dca65c031820b91721139f0291068086955c/base/array.jl#L312\" target=\"_blank\">array.jl:312</a><li> setindex!<i>{T}</i>(A::<b>Array{T,N}</b>,x,i0::<b>Real</b>,i1::<b>Real</b>,i2::<b>Real</b>,i3::<b>Real</b>,i4::<b>Real</b>) at <a href=\"https://github.com/JuliaLang/julia/tree/0c24dca65c031820b91721139f0291068086955c/base/array.jl#L314\" target=\"_blank\">array.jl:314</a><li> setindex!<i>{T}</i>(A::<b>Array{T,N}</b>,x,i0::<b>Real</b>,i1::<b>Real</b>,i2::<b>Real</b>,i3::<b>Real</b>,i4::<b>Real</b>,i5::<b>Real</b>) at <a href=\"https://github.com/JuliaLang/julia/tree/0c24dca65c031820b91721139f0291068086955c/base/array.jl#L316\" target=\"_blank\">array.jl:316</a><li> setindex!<i>{T}</i>(A::<b>Array{T,N}</b>,x,i0::<b>Real</b>,i1::<b>Real</b>,i2::<b>Real</b>,i3::<b>Real</b>,i4::<b>Real</b>,i5::<b>Real</b>,I::<b>Real...</b>) at <a href=\"https://github.com/JuliaLang/julia/tree/0c24dca65c031820b91721139f0291068086955c/base/array.jl#L318\" target=\"_blank\">array.jl:318</a><li> setindex!(A::<b>Array{T,N}</b>,x,I::<b>AbstractArray{Bool,N}</b>) at <a href=\"https://github.com/JuliaLang/julia/tree/0c24dca65c031820b91721139f0291068086955c/base/array.jl#L385\" target=\"_blank\">array.jl:385</a><li> setindex!(A::<b>Array{T,N}</b>,x,J_1::<b>Union(Real,AbstractArray{T,N})</b>) at <a href=\"https://github.com/JuliaLang/julia/tree/0c24dca65c031820b91721139f0291068086955c/base/multidimensional.jl#L61\" target=\"_blank\">multidimensional.jl:61</a><li> setindex!(A::<b>Array{T,N}</b>,x,J_1::<b>Union(Real,AbstractArray{T,N})</b>,J_2::<b>Union(Real,AbstractArray{T,N})</b>) at <a href=\"https://github.com/JuliaLang/julia/tree/0c24dca65c031820b91721139f0291068086955c/base/multidimensional.jl#L61\" target=\"_blank\">multidimensional.jl:61</a><li> setindex!(A::<b>Array{T,N}</b>,x,J_1::<b>Union(Real,AbstractArray{T,N})</b>,J_2::<b>Union(Real,AbstractArray{T,N})</b>,J_3::<b>Union(Real,AbstractArray{T,N})</b>) at <a href=\"https://github.com/JuliaLang/julia/tree/0c24dca65c031820b91721139f0291068086955c/base/multidimensional.jl#L61\" target=\"_blank\">multidimensional.jl:61</a><li> setindex!(A::<b>Array{T,N}</b>,x,J_1::<b>Union(Real,AbstractArray{T,N})</b>,J_2::<b>Union(Real,AbstractArray{T,N})</b>,J_3::<b>Union(Real,AbstractArray{T,N})</b>,J_4::<b>Union(Real,AbstractArray{T,N})</b>) at <a href=\"https://github.com/JuliaLang/julia/tree/0c24dca65c031820b91721139f0291068086955c/base/multidimensional.jl#L61\" target=\"_blank\">multidimensional.jl:61</a><li> setindex!(A::<b>Array{T,N}</b>,x,J::<b>Union(AbstractArray{T,N},Real)...</b>) at <a href=\"https://github.com/JuliaLang/julia/tree/0c24dca65c031820b91721139f0291068086955c/base/cartesian.jl#L100\" target=\"_blank\">cartesian.jl:100</a><li> convert(::<b>Type{Ptr{None}}</b>,a::<b>Array{T,N}</b>) at <a href=\"https://github.com/JuliaLang/julia/tree/0c24dca65c031820b91721139f0291068086955c/base/pointer.jl#L23\" target=\"_blank\">pointer.jl:23</a><li> convert<i>{T}</i>(::<b>Type{Ptr{T}}</b>,a::<b>Array{T,N}</b>) at <a href=\"https://github.com/JuliaLang/julia/tree/0c24dca65c031820b91721139f0291068086955c/base/pointer.jl#L22\" target=\"_blank\">pointer.jl:22</a><li> convert<i>{T,n}</i>(::<b>Type{Array{T,n}}</b>,x::<b>Array{T,n}</b>) at <a href=\"https://github.com/JuliaLang/julia/tree/0c24dca65c031820b91721139f0291068086955c/base/array.jl#L218\" target=\"_blank\">array.jl:218</a><li> convert<i>{T,n,S}</i>(::<b>Type{Array{T,n}}</b>,x::<b>Array{S,n}</b>) at <a href=\"https://github.com/JuliaLang/julia/tree/0c24dca65c031820b91721139f0291068086955c/base/array.jl#L220\" target=\"_blank\">array.jl:220</a><li> convert<i>{T,n}</i>(::<b>Type{Array{T,N}}</b>,x::<b>Array{T,n}</b>) at <a href=\"https://github.com/JuliaLang/julia/tree/0c24dca65c031820b91721139f0291068086955c/base/array.jl#L217\" target=\"_blank\">array.jl:217</a><li> convert<i>{T,n,S}</i>(::<b>Type{Array{T,N}}</b>,x::<b>Array{S,n}</b>) at <a href=\"https://github.com/JuliaLang/julia/tree/0c24dca65c031820b91721139f0291068086955c/base/array.jl#L219\" target=\"_blank\">array.jl:219</a><li> convert<i>{TS,TA,N}</i>(::<b>Type{SharedArray{TS,N}}</b>,A::<b>Array{TA,N}</b>) at <a href=\"https://github.com/JuliaLang/julia/tree/0c24dca65c031820b91721139f0291068086955c/base/sharedarray.jl#L142\" target=\"_blank\">sharedarray.jl:142</a><li> convert<i>{T}</i>(::<b>Type{SharedArray{T,N}}</b>,A::<b>Array{T,N}</b>) at <a href=\"https://github.com/JuliaLang/julia/tree/0c24dca65c031820b91721139f0291068086955c/base/sharedarray.jl#L141\" target=\"_blank\">sharedarray.jl:141</a><li> convert(::<b>Type{SharedArray{T,N}}</b>,A::<b>Array{T,N}</b>) at <a href=\"https://github.com/JuliaLang/julia/tree/0c24dca65c031820b91721139f0291068086955c/base/sharedarray.jl#L140\" target=\"_blank\">sharedarray.jl:140</a><li> convert<i>{T}</i>(p::<b>Type{Ptr{T}}</b>,a::<b>Array{T,N}</b>) at <a href=\"https://github.com/JuliaLang/julia/tree/0c24dca65c031820b91721139f0291068086955c/base/deprecated.jl#L26\" target=\"_blank\">deprecated.jl:26</a><li> reshape<i>{T,N}</i>(a::<b>Array{T,N}</b>,dims::<b>NTuple{N,Int64}</b>) at <a href=\"https://github.com/JuliaLang/julia/tree/0c24dca65c031820b91721139f0291068086955c/base/array.jl#L88\" target=\"_blank\">array.jl:88</a><li> reshape<i>{T,N}</i>(a::<b>Array{T,N}</b>,dims::<b>NTuple{N,Int64}</b>) at <a href=\"https://github.com/JuliaLang/julia/tree/0c24dca65c031820b91721139f0291068086955c/base/array.jl#L99\" target=\"_blank\">array.jl:99</a><li> read<i>{T,N}</i>(t::<b>UnixTerminal</b>,x::<b>Array{T,N}</b>) at <a href=\"https://github.com/JuliaLang/julia/tree/0c24dca65c031820b91721139f0291068086955c/base/Terminals.jl#L189\" target=\"_blank\">Terminals.jl:189</a><li> read(from::<b>IOBuffer</b>,a::<b>Array{T,N}</b>) at <a href=\"https://github.com/JuliaLang/julia/tree/0c24dca65c031820b91721139f0291068086955c/base/deprecated.jl#L26\" target=\"_blank\">deprecated.jl:26</a><li> read(s::<b>IOStream</b>,a::<b>Array{T,N}</b>) at <a href=\"https://github.com/JuliaLang/julia/tree/0c24dca65c031820b91721139f0291068086955c/base/deprecated.jl#L26\" target=\"_blank\">deprecated.jl:26</a><li> read(this::<b>AsyncStream</b>,a::<b>Array{T,N}</b>) at <a href=\"https://github.com/JuliaLang/julia/tree/0c24dca65c031820b91721139f0291068086955c/base/deprecated.jl#L26\" target=\"_blank\">deprecated.jl:26</a><li> read(f::<b>File</b>,a::<b>Array{T,N}</b>,nel) at <a href=\"https://github.com/JuliaLang/julia/tree/0c24dca65c031820b91721139f0291068086955c/base/deprecated.jl#L26\" target=\"_blank\">deprecated.jl:26</a><li> read(f::<b>File</b>,a::<b>Array{T,N}</b>) at <a href=\"https://github.com/JuliaLang/julia/tree/0c24dca65c031820b91721139f0291068086955c/base/deprecated.jl#L26\" target=\"_blank\">deprecated.jl:26</a><li> read(s::<b>IO</b>,a::<b>Array{T,N}</b>) at <a href=\"https://github.com/JuliaLang/julia/tree/0c24dca65c031820b91721139f0291068086955c/base/deprecated.jl#L26\" target=\"_blank\">deprecated.jl:26</a><li> write(to::<b>IOBuffer</b>,a::<b>Array{T,N}</b>) at <a href=\"https://github.com/JuliaLang/julia/tree/0c24dca65c031820b91721139f0291068086955c/base/iobuffer.jl#L262\" target=\"_blank\">iobuffer.jl:262</a><li> write<i>{T}</i>(s::<b>IOStream</b>,a::<b>Array{T,N}</b>) at <a href=\"https://github.com/JuliaLang/julia/tree/0c24dca65c031820b91721139f0291068086955c/base/iostream.jl#L148\" target=\"_blank\">iostream.jl:148</a><li> write<i>{T}</i>(s::<b>AsyncStream</b>,a::<b>Array{T,N}</b>) at <a href=\"https://github.com/JuliaLang/julia/tree/0c24dca65c031820b91721139f0291068086955c/base/stream.jl#L782\" target=\"_blank\">stream.jl:782</a><li> write<i>{T}</i>(f::<b>File</b>,a::<b>Array{T,N}</b>) at <a href=\"https://github.com/JuliaLang/julia/tree/0c24dca65c031820b91721139f0291068086955c/base/fs.jl#L189\" target=\"_blank\">fs.jl:189</a><li> write<i>{T,N}</i>(t::<b>UnixTerminal</b>,a::<b>Array{T,N}</b>) at <a href=\"https://github.com/JuliaLang/julia/tree/0c24dca65c031820b91721139f0291068086955c/base/Terminals.jl#L185\" target=\"_blank\">Terminals.jl:185</a><li> similar(a::<b>Array{T,N}</b>,T,dims::<b>(Int64...,)</b>) at <a href=\"https://github.com/JuliaLang/julia/tree/0c24dca65c031820b91721139f0291068086955c/base/array.jl#L107\" target=\"_blank\">array.jl:107</a><li> permutedims!<i>{T,N}</i>(P::<b>Array{T,N}</b>,B::<b>Union(DenseArray{T,N},SubArray{T,N,A<:DenseArray{T,N},I<:(Union(Range{Int64},Int64)...,)})</b>,perm) at <a href=\"https://github.com/JuliaLang/julia/tree/0c24dca65c031820b91721139f0291068086955c/base/cartesian.jl#L100\" target=\"_blank\">cartesian.jl:100</a><li> serialize(s,a::<b>Array{T,N}</b>) at <a href=\"https://github.com/JuliaLang/julia/tree/0c24dca65c031820b91721139f0291068086955c/base/serialize.jl#L119\" target=\"_blank\">serialize.jl:119</a><li> sub<i>{T,N}</i>(A::<b>Array{T,N}</b>,i::<b>(Range{Int64},)</b>) at <a href=\"https://github.com/JuliaLang/julia/tree/0c24dca65c031820b91721139f0291068086955c/base/subarray.jl#L52\" target=\"_blank\">subarray.jl:52</a><li> copy!<i>{T}</i>(dest::<b>Array{T,N}</b>,dsto::<b>Integer</b>,src::<b>Array{T,N}</b>,so::<b>Integer</b>,N::<b>Integer</b>) at <a href=\"https://github.com/JuliaLang/julia/tree/0c24dca65c031820b91721139f0291068086955c/base/array.jl#L51\" target=\"_blank\">array.jl:51</a><li> copy!<i>{T}</i>(dest::<b>Array{T,N}</b>,src::<b>Array{T,N}</b>) at <a href=\"https://github.com/JuliaLang/julia/tree/0c24dca65c031820b91721139f0291068086955c/base/array.jl#L57\" target=\"_blank\">array.jl:57</a><li> copy!(S::<b>SharedArray{T,N}</b>,A::<b>Array{T,N}</b>) at <a href=\"https://github.com/JuliaLang/julia/tree/0c24dca65c031820b91721139f0291068086955c/base/sharedarray.jl#L290\" target=\"_blank\">sharedarray.jl:290</a><li> -(A::<b>Array{T,N}</b>,B::<b>SparseMatrixCSC{Tv,Ti<:Integer}</b>) at <a href=\"https://github.com/JuliaLang/julia/tree/0c24dca65c031820b91721139f0291068086955c/base/sparse/sparsematrix.jl#L639\" target=\"_blank\">sparse/sparsematrix.jl:639</a><li> -(A::<b>SparseMatrixCSC{Tv,Ti<:Integer}</b>,B::<b>Array{T,N}</b>) at <a href=\"https://github.com/JuliaLang/julia/tree/0c24dca65c031820b91721139f0291068086955c/base/sparse/sparsematrix.jl#L637\" target=\"_blank\">sparse/sparsematrix.jl:637</a><li> msync<i>{T}</i>(A::<b>Array{T,N}</b>) at <a href=\"https://github.com/JuliaLang/julia/tree/0c24dca65c031820b91721139f0291068086955c/base/mmap.jl#L6\" target=\"_blank\">mmap.jl:6</a><li> .*(A::<b>SparseMatrixCSC{Tv,Ti<:Integer}</b>,B::<b>Array{T,N}</b>) at <a href=\"https://github.com/JuliaLang/julia/tree/0c24dca65c031820b91721139f0291068086955c/base/sparse/sparsematrix.jl#L643\" target=\"_blank\">sparse/sparsematrix.jl:643</a><li> .*(A::<b>Array{T,N}</b>,B::<b>SparseMatrixCSC{Tv,Ti<:Integer}</b>) at <a href=\"https://github.com/JuliaLang/julia/tree/0c24dca65c031820b91721139f0291068086955c/base/sparse/sparsematrix.jl#L644\" target=\"_blank\">sparse/sparsematrix.jl:644</a><li> unsafe_copy!<i>{T}</i>(dest::<b>Array{T,N}</b>,dsto,src::<b>Array{T,N}</b>,so,N) at <a href=\"https://github.com/JuliaLang/julia/tree/0c24dca65c031820b91721139f0291068086955c/base/array.jl#L40\" target=\"_blank\">array.jl:40</a><li> size(a::<b>Array{T,N}</b>) at <a href=\"https://github.com/JuliaLang/julia/tree/0c24dca65c031820b91721139f0291068086955c/base/array.jl#L18\" target=\"_blank\">array.jl:18</a><li> size(a::<b>Array{T,N}</b>,d) at <a href=\"https://github.com/JuliaLang/julia/tree/0c24dca65c031820b91721139f0291068086955c/base/array.jl#L19\" target=\"_blank\">array.jl:19</a><li> rand!<i>{T}</i>(A::<b>Array{T,N}</b>) at <a href=\"https://github.com/JuliaLang/julia/tree/0c24dca65c031820b91721139f0291068086955c/base/random.jl#L129\" target=\"_blank\">random.jl:129</a><li> read!(from::<b>IOBuffer</b>,a::<b>Array{T,N}</b>) at <a href=\"https://github.com/JuliaLang/julia/tree/0c24dca65c031820b91721139f0291068086955c/base/iobuffer.jl#L55\" target=\"_blank\">iobuffer.jl:55</a><li> read!<i>{T}</i>(s::<b>IOStream</b>,a::<b>Array{T,N}</b>) at <a href=\"https://github.com/JuliaLang/julia/tree/0c24dca65c031820b91721139f0291068086955c/base/iostream.jl#L192\" target=\"_blank\">iostream.jl:192</a><li> read!<i>{T}</i>(s::<b>AsyncStream</b>,a::<b>Array{T,N}</b>) at <a href=\"https://github.com/JuliaLang/julia/tree/0c24dca65c031820b91721139f0291068086955c/base/stream.jl#L657\" target=\"_blank\">stream.jl:657</a><li> read!<i>{T}</i>(f::<b>File</b>,a::<b>Array{T,N}</b>) at <a href=\"https://github.com/JuliaLang/julia/tree/0c24dca65c031820b91721139f0291068086955c/base/fs.jl#L215\" target=\"_blank\">fs.jl:215</a><li> read!<i>{T}</i>(f::<b>File</b>,a::<b>Array{T,N}</b>,nel) at <a href=\"https://github.com/JuliaLang/julia/tree/0c24dca65c031820b91721139f0291068086955c/base/fs.jl#L215\" target=\"_blank\">fs.jl:215</a><li> read!<i>{T}</i>(s::<b>IO</b>,a::<b>Array{T,N}</b>) at <a href=\"https://github.com/JuliaLang/julia/tree/0c24dca65c031820b91721139f0291068086955c/base/io.jl#L126\" target=\"_blank\">io.jl:126</a><li> getindex(a::<b>Array{T,N}</b>) at <a href=\"https://github.com/JuliaLang/julia/tree/0c24dca65c031820b91721139f0291068086955c/base/array.jl#L244\" target=\"_blank\">array.jl:244</a><li> getindex(A::<b>Array{T,N}</b>,i0::<b>Real</b>) at <a href=\"https://github.com/JuliaLang/julia/tree/0c24dca65c031820b91721139f0291068086955c/base/array.jl#L246\" target=\"_blank\">array.jl:246</a><li> getindex(A::<b>Array{T,N}</b>,i0::<b>Real</b>,i1::<b>Real</b>) at <a href=\"https://github.com/JuliaLang/julia/tree/0c24dca65c031820b91721139f0291068086955c/base/array.jl#L247\" target=\"_blank\">array.jl:247</a><li> getindex(A::<b>Array{T,N}</b>,i0::<b>Real</b>,i1::<b>Real</b>,i2::<b>Real</b>) at <a href=\"https://github.com/JuliaLang/julia/tree/0c24dca65c031820b91721139f0291068086955c/base/array.jl#L248\" target=\"_blank\">array.jl:248</a><li> getindex(A::<b>Array{T,N}</b>,i0::<b>Real</b>,i1::<b>Real</b>,i2::<b>Real</b>,i3::<b>Real</b>) at <a href=\"https://github.com/JuliaLang/julia/tree/0c24dca65c031820b91721139f0291068086955c/base/array.jl#L250\" target=\"_blank\">array.jl:250</a><li> getindex(A::<b>Array{T,N}</b>,i0::<b>Real</b>,i1::<b>Real</b>,i2::<b>Real</b>,i3::<b>Real</b>,i4::<b>Real</b>) at <a href=\"https://github.com/JuliaLang/julia/tree/0c24dca65c031820b91721139f0291068086955c/base/array.jl#L252\" target=\"_blank\">array.jl:252</a><li> getindex(A::<b>Array{T,N}</b>,i0::<b>Real</b>,i1::<b>Real</b>,i2::<b>Real</b>,i3::<b>Real</b>,i4::<b>Real</b>,i5::<b>Real</b>) at <a href=\"https://github.com/JuliaLang/julia/tree/0c24dca65c031820b91721139f0291068086955c/base/array.jl#L254\" target=\"_blank\">array.jl:254</a><li> getindex(A::<b>Array{T,N}</b>,i0::<b>Real</b>,i1::<b>Real</b>,i2::<b>Real</b>,i3::<b>Real</b>,i4::<b>Real</b>,i5::<b>Real</b>,I::<b>Real...</b>) at <a href=\"https://github.com/JuliaLang/julia/tree/0c24dca65c031820b91721139f0291068086955c/base/array.jl#L257\" target=\"_blank\">array.jl:257</a><li> getindex(A::<b>Array{T,N}</b>,I::<b>UnitRange{Int64}</b>) at <a href=\"https://github.com/JuliaLang/julia/tree/0c24dca65c031820b91721139f0291068086955c/base/array.jl#L262\" target=\"_blank\">array.jl:262</a><li> getindex(A::<b>Array{T,N}</b>,I::<b>AbstractArray{Bool,1}</b>) at <a href=\"https://github.com/JuliaLang/julia/tree/0c24dca65c031820b91721139f0291068086955c/base/array.jl#L300\" target=\"_blank\">array.jl:300</a><li> getindex<i>{T<:Real}</i>(A::<b>Array{T,N}</b>,I::<b>AbstractArray{T<:Real,1}</b>) at <a href=\"https://github.com/JuliaLang/julia/tree/0c24dca65c031820b91721139f0291068086955c/base/array.jl#L271\" target=\"_blank\">array.jl:271</a><li> getindex(A::<b>Array{T,N}</b>,I::<b>AbstractArray{Bool,N}</b>) at <a href=\"https://github.com/JuliaLang/julia/tree/0c24dca65c031820b91721139f0291068086955c/base/array.jl#L301\" target=\"_blank\">array.jl:301</a><li> getindex(A::<b>Array{T,N}</b>,I_1::<b>Union(Real,AbstractArray{T,1})</b>) at <a href=\"https://github.com/JuliaLang/julia/tree/0c24dca65c031820b91721139f0291068086955c/base/multidimensional.jl#L49\" target=\"_blank\">multidimensional.jl:49</a><li> getindex(A::<b>Array{T,N}</b>,I_1::<b>Union(Real,AbstractArray{T,1})</b>,I_2::<b>Union(Real,AbstractArray{T,1})</b>) at <a href=\"https://github.com/JuliaLang/julia/tree/0c24dca65c031820b91721139f0291068086955c/base/multidimensional.jl#L49\" target=\"_blank\">multidimensional.jl:49</a><li> getindex(A::<b>Array{T,N}</b>,I_1::<b>Union(Real,AbstractArray{T,1})</b>,I_2::<b>Union(Real,AbstractArray{T,1})</b>,I_3::<b>Union(Real,AbstractArray{T,1})</b>) at <a href=\"https://github.com/JuliaLang/julia/tree/0c24dca65c031820b91721139f0291068086955c/base/multidimensional.jl#L49\" target=\"_blank\">multidimensional.jl:49</a><li> getindex(A::<b>Array{T,N}</b>,I_1::<b>Union(Real,AbstractArray{T,1})</b>,I_2::<b>Union(Real,AbstractArray{T,1})</b>,I_3::<b>Union(Real,AbstractArray{T,1})</b>,I_4::<b>Union(Real,AbstractArray{T,1})</b>) at <a href=\"https://github.com/JuliaLang/julia/tree/0c24dca65c031820b91721139f0291068086955c/base/multidimensional.jl#L49\" target=\"_blank\">multidimensional.jl:49</a><li> getindex(A::<b>Array{T,N}</b>,I::<b>Union(Real,AbstractArray{T,1})...</b>) at <a href=\"https://github.com/JuliaLang/julia/tree/0c24dca65c031820b91721139f0291068086955c/base/multidimensional.jl#L49\" target=\"_blank\">multidimensional.jl:49</a><li> repeat<i>{T}</i>(A::<b>Array{T,N}</b>) at <a href=\"https://github.com/JuliaLang/julia/tree/0c24dca65c031820b91721139f0291068086955c/base/abstractarray.jl#L1092\" target=\"_blank\">abstractarray.jl:1092</a><li> flipdim<i>{T}</i>(A::<b>Array{T,N}</b>,d::<b>Integer</b>) at <a href=\"https://github.com/JuliaLang/julia/tree/0c24dca65c031820b91721139f0291068086955c/base/array.jl#L877\" target=\"_blank\">array.jl:877</a><li> ./(A::<b>SparseMatrixCSC{Tv,Ti<:Integer}</b>,B::<b>Array{T,N}</b>) at <a href=\"https://github.com/JuliaLang/julia/tree/0c24dca65c031820b91721139f0291068086955c/base/sparse/sparsematrix.jl#L648\" target=\"_blank\">sparse/sparsematrix.jl:648</a><li> ./(A::<b>Array{T,N}</b>,B::<b>SparseMatrixCSC{Tv,Ti<:Integer}</b>) at <a href=\"https://github.com/JuliaLang/julia/tree/0c24dca65c031820b91721139f0291068086955c/base/sparse/sparsematrix.jl#L649\" target=\"_blank\">sparse/sparsematrix.jl:649</a><li> xdump(fn::<b>Function</b>,io::<b>IO</b>,x::<b>Array{T,N}</b>,n::<b>Int64</b>,indent) at <a href=\"https://github.com/JuliaLang/julia/tree/0c24dca65c031820b91721139f0291068086955c/base/show.jl#L718\" target=\"_blank\">show.jl:718</a><li> slicedim(A::<b>Array{T,N}</b>,d::<b>Integer</b>,i::<b>Integer</b>) at <a href=\"https://github.com/JuliaLang/julia/tree/0c24dca65c031820b91721139f0291068086955c/base/array.jl#L846\" target=\"_blank\">array.jl:846</a><li> .\\(A::<b>SparseMatrixCSC{Tv,Ti<:Integer}</b>,B::<b>Array{T,N}</b>) at <a href=\"https://github.com/JuliaLang/julia/tree/0c24dca65c031820b91721139f0291068086955c/base/sparse/sparsematrix.jl#L654\" target=\"_blank\">sparse/sparsematrix.jl:654</a><li> .\\(A::<b>Array{T,N}</b>,B::<b>SparseMatrixCSC{Tv,Ti<:Integer}</b>) at <a href=\"https://github.com/JuliaLang/julia/tree/0c24dca65c031820b91721139f0291068086955c/base/sparse/sparsematrix.jl#L655\" target=\"_blank\">sparse/sparsematrix.jl:655</a><li> +(A::<b>SparseMatrixCSC{Tv,Ti<:Integer}</b>,B::<b>Array{T,N}</b>) at <a href=\"https://github.com/JuliaLang/julia/tree/0c24dca65c031820b91721139f0291068086955c/base/sparse/sparsematrix.jl#L632\" target=\"_blank\">sparse/sparsematrix.jl:632</a><li> +(A::<b>Array{T,N}</b>,B::<b>SparseMatrixCSC{Tv,Ti<:Integer}</b>) at <a href=\"https://github.com/JuliaLang/julia/tree/0c24dca65c031820b91721139f0291068086955c/base/sparse/sparsematrix.jl#L634\" target=\"_blank\">sparse/sparsematrix.jl:634</a><li> Message(a::<b>Array{T,N}</b>) at <a href=\"https://github.com/JuliaLang/ZMQ.jl/tree/e5038a7bdb9fdbd336a4dca0492cc4f52b88fda5/src/ZMQ.jl#L406\" target=\"_blank\">/Users/DboyLiao/.julia/v0.3/ZMQ/src/ZMQ.jl:406</a></ul>"
      ],
      "text/plain": [
       "103-element Array{Method,1}:\n",
       " .^(A::SparseMatrixCSC{Tv,Ti<:Integer},B::Array{T,N}) at sparse/sparsematrix.jl:662                                                                                     \n",
       " .^(A::Array{T,N},B::SparseMatrixCSC{Tv,Ti<:Integer}) at sparse/sparsematrix.jl:663                                                                                     \n",
       " sizeof(a::Array{T,N}) at array.jl:23                                                                                                                                   \n",
       " length(a::Array{T,N}) at array.jl:21                                                                                                                                   \n",
       " reinterpret{T,S}(::Type{T},a::Array{S,N}) at array.jl:66                                                                                                               \n",
       " reinterpret{T,S,N}(::Type{T},a::Array{S,N},dims::NTuple{N,Int64}) at array.jl:73                                                                                       \n",
       " setindex!{T}(A::Array{T,N},X::Array{T,N},I::UnitRange{Int64}) at array.jl:329                                                                                          \n",
       " setindex!(a::Array{T,N},d::DArray{T,N,A},I::UnitRange{Int64}...) at darray.jl:254                                                                                      \n",
       " setindex!(a::Array{T,N},s::SubArray{T,N,D<:DArray{T,N,A},I<:(Union(Range{Int64},Int64)...,)},I::UnitRange{Int64}...) at darray.jl:265                                  \n",
       " setindex!(a::Array{T,N},d::Union(SubArray{T,N,D<:DArray{T,N,A},I<:(Union(Range{Int64},Int64)...,)},DArray{T,N,A}),I::Union(Int64,UnitRange{Int64})...) at darray.jl:296\n",
       " setindex!(A::Array{T,N},X::AbstractArray{T,N},I::AbstractArray{Bool,1}) at array.jl:382                                                                                \n",
       " setindex!{T<:Real}(A::Array{T,N},X::AbstractArray{T,N},I::AbstractArray{T<:Real,1}) at array.jl:337                                                                    \n",
       " setindex!(A::Array{T,N},x,I::AbstractArray{Bool,1}) at array.jl:384                                                                                                    \n",
       " ⋮                                                                                                                                                                      \n",
       " getindex(A::Array{T,N},I::Union(Real,AbstractArray{T,1})...) at multidimensional.jl:49                                                                                 \n",
       " repeat{T}(A::Array{T,N}) at abstractarray.jl:1092                                                                                                                      \n",
       " flipdim{T}(A::Array{T,N},d::Integer) at array.jl:877                                                                                                                   \n",
       " ./(A::SparseMatrixCSC{Tv,Ti<:Integer},B::Array{T,N}) at sparse/sparsematrix.jl:648                                                                                     \n",
       " ./(A::Array{T,N},B::SparseMatrixCSC{Tv,Ti<:Integer}) at sparse/sparsematrix.jl:649                                                                                     \n",
       " xdump(fn::Function,io::IO,x::Array{T,N},n::Int64,indent) at show.jl:718                                                                                                \n",
       " slicedim(A::Array{T,N},d::Integer,i::Integer) at array.jl:846                                                                                                          \n",
       " .\\(A::SparseMatrixCSC{Tv,Ti<:Integer},B::Array{T,N}) at sparse/sparsematrix.jl:654                                                                                     \n",
       " .\\(A::Array{T,N},B::SparseMatrixCSC{Tv,Ti<:Integer}) at sparse/sparsematrix.jl:655                                                                                     \n",
       " +(A::SparseMatrixCSC{Tv,Ti<:Integer},B::Array{T,N}) at sparse/sparsematrix.jl:632                                                                                      \n",
       " +(A::Array{T,N},B::SparseMatrixCSC{Tv,Ti<:Integer}) at sparse/sparsematrix.jl:634                                                                                      \n",
       " Message(a::Array{T,N}) at /Users/DboyLiao/.julia/v0.3/ZMQ/src/ZMQ.jl:406                                                                                               "
      ]
     },
     "execution_count": 40,
     "metadata": {},
     "output_type": "execute_result"
    }
   ],
   "source": [
    "t = methodswith(Array)"
   ]
  },
  {
   "cell_type": "code",
   "execution_count": 41,
   "metadata": {
    "collapsed": false
   },
   "outputs": [
    {
     "data": {
      "text/plain": [
       "Array{Method,1}"
      ]
     },
     "execution_count": 41,
     "metadata": {},
     "output_type": "execute_result"
    }
   ],
   "source": [
    "typeof(t)"
   ]
  },
  {
   "cell_type": "code",
   "execution_count": 42,
   "metadata": {
    "collapsed": false
   },
   "outputs": [
    {
     "data": {
      "text/html": [
       ".^(A::<b>SparseMatrixCSC{Tv,Ti<:Integer}</b>,B::<b>Array{T,N}</b>) at <a href=\"https://github.com/JuliaLang/julia/tree/0c24dca65c031820b91721139f0291068086955c/base/sparse/sparsematrix.jl#L662\" target=\"_blank\">sparse/sparsematrix.jl:662</a>"
      ],
      "text/plain": [
       ".^(A::SparseMatrixCSC{Tv,Ti<:Integer},B::Array{T,N}) at sparse/sparsematrix.jl:662"
      ]
     },
     "execution_count": 42,
     "metadata": {},
     "output_type": "execute_result"
    }
   ],
   "source": [
    "t[1]"
   ]
  },
  {
   "cell_type": "code",
   "execution_count": 43,
   "metadata": {
    "collapsed": false
   },
   "outputs": [
    {
     "data": {
      "text/plain": [
       "3-element Array{Float64,1}:\n",
       " 3.3\n",
       " 5.6\n",
       " 7.0"
      ]
     },
     "execution_count": 43,
     "metadata": {},
     "output_type": "execute_result"
    }
   ],
   "source": [
    "a = [1, 2, 3]\n",
    "b = [3.3, 5.6, 7.0]"
   ]
  },
  {
   "cell_type": "code",
   "execution_count": 44,
   "metadata": {
    "collapsed": false
   },
   "outputs": [
    {
     "data": {
      "text/plain": [
       "3-element Array{Float64,1}:\n",
       " -2.8\n",
       "  2.9\n",
       " -1.0"
      ]
     },
     "execution_count": 44,
     "metadata": {},
     "output_type": "execute_result"
    }
   ],
   "source": [
    "c = cross(a, b)"
   ]
  },
  {
   "cell_type": "code",
   "execution_count": 45,
   "metadata": {
    "collapsed": false
   },
   "outputs": [
    {
     "data": {
      "text/plain": [
       "0.0"
      ]
     },
     "execution_count": 45,
     "metadata": {},
     "output_type": "execute_result"
    }
   ],
   "source": [
    "dot(c, a)"
   ]
  },
  {
   "cell_type": "code",
   "execution_count": 46,
   "metadata": {
    "collapsed": false
   },
   "outputs": [
    {
     "data": {
      "text/plain": [
       "3.552713678800501e-15"
      ]
     },
     "execution_count": 46,
     "metadata": {},
     "output_type": "execute_result"
    }
   ],
   "source": [
    "dot(c, b)"
   ]
  },
  {
   "cell_type": "code",
   "execution_count": 47,
   "metadata": {
    "collapsed": false
   },
   "outputs": [
    {
     "data": {
      "text/plain": [
       "1x3 Array{Int64,2}:\n",
       " 1  2  3"
      ]
     },
     "execution_count": 47,
     "metadata": {},
     "output_type": "execute_result"
    }
   ],
   "source": [
    "a'"
   ]
  },
  {
   "cell_type": "code",
   "execution_count": 48,
   "metadata": {
    "collapsed": false
   },
   "outputs": [
    {
     "data": {
      "text/plain": [
       "2x3 Array{Int64,2}:\n",
       " 1  2  3\n",
       " 2  4  6"
      ]
     },
     "execution_count": 48,
     "metadata": {},
     "output_type": "execute_result"
    }
   ],
   "source": [
    "m = [1 2 3; 2 4 6]"
   ]
  },
  {
   "cell_type": "code",
   "execution_count": 49,
   "metadata": {
    "collapsed": false
   },
   "outputs": [
    {
     "data": {
      "text/plain": [
       "3x2 Array{Int64,2}:\n",
       " 1  2\n",
       " 2  4\n",
       " 3  6"
      ]
     },
     "execution_count": 49,
     "metadata": {},
     "output_type": "execute_result"
    }
   ],
   "source": [
    "m'"
   ]
  },
  {
   "cell_type": "code",
   "execution_count": 50,
   "metadata": {
    "collapsed": false
   },
   "outputs": [
    {
     "data": {
      "text/plain": [
       "3x2 Array{Int64,2}:\n",
       " 1  2\n",
       " 3  4\n",
       " 5  6"
      ]
     },
     "execution_count": 50,
     "metadata": {},
     "output_type": "execute_result"
    }
   ],
   "source": [
    "M = reshape([1, 2, 3, 4, 5, 6], 2, 3)'"
   ]
  },
  {
   "cell_type": "code",
   "execution_count": 51,
   "metadata": {
    "collapsed": false
   },
   "outputs": [
    {
     "data": {
      "text/plain": [
       "35.5"
      ]
     },
     "execution_count": 51,
     "metadata": {},
     "output_type": "execute_result"
    }
   ],
   "source": [
    "a ⋅ b"
   ]
  },
  {
   "cell_type": "code",
   "execution_count": 52,
   "metadata": {
    "collapsed": false
   },
   "outputs": [
    {
     "data": {
      "text/plain": [
       "3-element Array{Float64,1}:\n",
       " -2.8\n",
       "  2.9\n",
       " -1.0"
      ]
     },
     "execution_count": 52,
     "metadata": {},
     "output_type": "execute_result"
    }
   ],
   "source": [
    "a × b"
   ]
  },
  {
   "cell_type": "code",
   "execution_count": 53,
   "metadata": {
    "collapsed": false
   },
   "outputs": [
    {
     "name": "stdout",
     "output_type": "stream",
     "text": [
      "Hello world!"
     ]
    }
   ],
   "source": [
    "print_with_color(symbol(\"blue\"), \"Hello world!\")"
   ]
  },
  {
   "cell_type": "code",
   "execution_count": 54,
   "metadata": {
    "collapsed": false
   },
   "outputs": [],
   "source": [
    "x_n = 0.01\n",
    "for i = 1:1000\n",
    "    x_n = x_n + (2-x_n^2)/(2*x_n);\n",
    "end"
   ]
  },
  {
   "cell_type": "code",
   "execution_count": 55,
   "metadata": {
    "collapsed": false
   },
   "outputs": [
    {
     "data": {
      "text/plain": [
       "1.4142135623730951"
      ]
     },
     "execution_count": 55,
     "metadata": {},
     "output_type": "execute_result"
    }
   ],
   "source": [
    "x_n"
   ]
  },
  {
   "cell_type": "code",
   "execution_count": 56,
   "metadata": {
    "collapsed": false
   },
   "outputs": [],
   "source": [
    "tensor = [i+j+k for i = 1:10, j = 1:6, k = 1:5];"
   ]
  },
  {
   "cell_type": "code",
   "execution_count": 57,
   "metadata": {
    "collapsed": false
   },
   "outputs": [
    {
     "data": {
      "text/plain": [
       "1x1x5 Array{Int64,3}:\n",
       "[:, :, 1] =\n",
       " 4\n",
       "\n",
       "[:, :, 2] =\n",
       " 5\n",
       "\n",
       "[:, :, 3] =\n",
       " 6\n",
       "\n",
       "[:, :, 4] =\n",
       " 7\n",
       "\n",
       "[:, :, 5] =\n",
       " 8"
      ]
     },
     "execution_count": 57,
     "metadata": {},
     "output_type": "execute_result"
    }
   ],
   "source": [
    "tensor[1, 2, :]"
   ]
  },
  {
   "cell_type": "code",
   "execution_count": 58,
   "metadata": {
    "collapsed": false
   },
   "outputs": [
    {
     "data": {
      "text/plain": [
       "3x3 Array{BigFloat,2}:\n",
       " 0e+00  0e+00  0e+00\n",
       " 0e+00  0e+00  0e+00\n",
       " 0e+00  0e+00  0e+00"
      ]
     },
     "execution_count": 58,
     "metadata": {},
     "output_type": "execute_result"
    }
   ],
   "source": [
    "big(zeros(3, 3))"
   ]
  },
  {
   "cell_type": "code",
   "execution_count": 59,
   "metadata": {
    "collapsed": false
   },
   "outputs": [
    {
     "name": "stdout",
     "output_type": "stream",
     "text": [
      "Base.big(x)\n",
      "\n",
      "   Convert a number to a maximum precision representation (typically\n",
      "   \"BigInt\" or \"BigFloat\"). See \"BigFloat\" for information about\n",
      "   some pitfalls with floating-point numbers.\n"
     ]
    }
   ],
   "source": [
    "?big"
   ]
  },
  {
   "cell_type": "code",
   "execution_count": 60,
   "metadata": {
    "collapsed": false
   },
   "outputs": [
    {
     "data": {
      "text/html": [
       "9 methods for generic function <b>big</b>:<ul><li> big<i>{T,S,UpLo,IsUnit}</i>(A::<b>Triangular{T,S,UpLo,IsUnit}</b>) at <a href=\"https://github.com/JuliaLang/julia/tree/0c24dca65c031820b91721139f0291068086955c/base/linalg/triangular.jl#L152\" target=\"_blank\">linalg/triangular.jl:152</a><li> big<i>{T<:FloatingPoint,N}</i>(x::<b>AbstractArray{T<:FloatingPoint,N}</b>) at <a href=\"https://github.com/JuliaLang/julia/tree/0c24dca65c031820b91721139f0291068086955c/base/abstractarray.jl#L299\" target=\"_blank\">abstractarray.jl:299</a><li> big<i>{T<:FloatingPoint,N}</i>(x::<b>AbstractArray{Complex{T<:FloatingPoint},N}</b>) at <a href=\"https://github.com/JuliaLang/julia/tree/0c24dca65c031820b91721139f0291068086955c/base/abstractarray.jl#L300\" target=\"_blank\">abstractarray.jl:300</a><li> big<i>{T<:Integer,N}</i>(x::<b>AbstractArray{T<:Integer,N}</b>) at <a href=\"https://github.com/JuliaLang/julia/tree/0c24dca65c031820b91721139f0291068086955c/base/abstractarray.jl#L301\" target=\"_blank\">abstractarray.jl:301</a><li> big(n::<b>Integer</b>) at <a href=\"https://github.com/JuliaLang/julia/tree/0c24dca65c031820b91721139f0291068086955c/base//Users/vagrant/buildbot/slave/package_osx10_9/build/base/sysimg.jl#L176\" target=\"_blank\">/Users/vagrant/buildbot/slave/package_osx10_9/build/base/sysimg.jl:176</a><li> big(x::<b>FloatingPoint</b>) at <a href=\"https://github.com/JuliaLang/julia/tree/0c24dca65c031820b91721139f0291068086955c/base//Users/vagrant/buildbot/slave/package_osx10_9/build/base/sysimg.jl#L177\" target=\"_blank\">/Users/vagrant/buildbot/slave/package_osx10_9/build/base/sysimg.jl:177</a><li> big(q::<b>Rational{T<:Integer}</b>) at <a href=\"https://github.com/JuliaLang/julia/tree/0c24dca65c031820b91721139f0291068086955c/base//Users/vagrant/buildbot/slave/package_osx10_9/build/base/sysimg.jl#L178\" target=\"_blank\">/Users/vagrant/buildbot/slave/package_osx10_9/build/base/sysimg.jl:178</a><li> big(z::<b>Complex{T<:Real}</b>) at <a href=\"https://github.com/JuliaLang/julia/tree/0c24dca65c031820b91721139f0291068086955c/base//Users/vagrant/buildbot/slave/package_osx10_9/build/base/sysimg.jl#L179\" target=\"_blank\">/Users/vagrant/buildbot/slave/package_osx10_9/build/base/sysimg.jl:179</a><li> big(x::<b>MathConst{sym}</b>) at <a href=\"https://github.com/JuliaLang/julia/tree/0c24dca65c031820b91721139f0291068086955c/base/constants.jl#L51\" target=\"_blank\">constants.jl:51</a></ul>"
      ],
      "text/plain": [
       "# 9 methods for generic function \"big\":\n",
       "big{T,S,UpLo,IsUnit}(A::Triangular{T,S,UpLo,IsUnit}) at linalg/triangular.jl:152\n",
       "big{T<:FloatingPoint,N}(x::AbstractArray{T<:FloatingPoint,N}) at abstractarray.jl:299\n",
       "big{T<:FloatingPoint,N}(x::AbstractArray{Complex{T<:FloatingPoint},N}) at abstractarray.jl:300\n",
       "big{T<:Integer,N}(x::AbstractArray{T<:Integer,N}) at abstractarray.jl:301\n",
       "big(n::Integer) at /Users/vagrant/buildbot/slave/package_osx10_9/build/base/sysimg.jl:176\n",
       "big(x::FloatingPoint) at /Users/vagrant/buildbot/slave/package_osx10_9/build/base/sysimg.jl:177\n",
       "big(q::Rational{T<:Integer}) at /Users/vagrant/buildbot/slave/package_osx10_9/build/base/sysimg.jl:178\n",
       "big(z::Complex{T<:Real}) at /Users/vagrant/buildbot/slave/package_osx10_9/build/base/sysimg.jl:179\n",
       "big(x::MathConst{sym}) at constants.jl:51"
      ]
     },
     "execution_count": 60,
     "metadata": {},
     "output_type": "execute_result"
    }
   ],
   "source": [
    "methods(big)"
   ]
  },
  {
   "cell_type": "code",
   "execution_count": 61,
   "metadata": {
    "collapsed": false
   },
   "outputs": [
    {
     "data": {
      "text/html": [
       "big<i>{T<:FloatingPoint,N}</i>(x::<b>AbstractArray{T<:FloatingPoint,N}</b>) at <a href=\"https://github.com/JuliaLang/julia/tree/0c24dca65c031820b91721139f0291068086955c/base/abstractarray.jl#L299\" target=\"_blank\">abstractarray.jl:299</a>"
      ],
      "text/plain": [
       "big{T<:FloatingPoint,N}(x::AbstractArray{T<:FloatingPoint,N}) at abstractarray.jl:299"
      ]
     },
     "execution_count": 61,
     "metadata": {},
     "output_type": "execute_result"
    }
   ],
   "source": [
    "@which big(zeros(3, 3))"
   ]
  },
  {
   "cell_type": "code",
   "execution_count": 62,
   "metadata": {
    "collapsed": false
   },
   "outputs": [
    {
     "name": "stdout",
     "output_type": "stream",
     "text": [
      "Fractoal_in_Julia.ipynb\n",
      "Intro_to_Julia.ipynb\n",
      "sierpinski.svg\n",
      "try_julia.ipynb\n"
     ]
    }
   ],
   "source": [
    ";ls"
   ]
  },
  {
   "cell_type": "code",
   "execution_count": 63,
   "metadata": {
    "collapsed": false
   },
   "outputs": [
    {
     "ename": "LoadError",
     "evalue": "`run` has no method matching run(::ASCIIString)\nwhile loading In[63], in expression starting on line 1",
     "output_type": "error",
     "traceback": [
      "`run` has no method matching run(::ASCIIString)\nwhile loading In[63], in expression starting on line 1",
      ""
     ]
    }
   ],
   "source": [
    "run(\"ls\")"
   ]
  },
  {
   "cell_type": "code",
   "execution_count": 64,
   "metadata": {
    "collapsed": false
   },
   "outputs": [
    {
     "name": "stdout",
     "output_type": "stream",
     "text": [
      "Fractoal_in_Julia.ipynb\n",
      "Intro_to_Julia.ipynb\n",
      "sierpinski.svg\n",
      "try_julia.ipynb\n"
     ]
    }
   ],
   "source": [
    "run(`ls`)"
   ]
  },
  {
   "cell_type": "code",
   "execution_count": 65,
   "metadata": {
    "collapsed": false
   },
   "outputs": [
    {
     "data": {
      "text/plain": [
       "`ls`"
      ]
     },
     "execution_count": 65,
     "metadata": {},
     "output_type": "execute_result"
    }
   ],
   "source": [
    "t = `ls`"
   ]
  },
  {
   "cell_type": "code",
   "execution_count": 66,
   "metadata": {
    "collapsed": false
   },
   "outputs": [
    {
     "data": {
      "text/plain": [
       "Cmd (constructor with 1 method)"
      ]
     },
     "execution_count": 66,
     "metadata": {},
     "output_type": "execute_result"
    }
   ],
   "source": [
    "typeof(t)"
   ]
  },
  {
   "cell_type": "code",
   "execution_count": 67,
   "metadata": {
    "collapsed": false
   },
   "outputs": [
    {
     "name": "stdout",
     "output_type": "stream",
     "text": [
      "DataType   : Cmd (constructor with 1 method)\n",
      "  supertype: AbstractCmd\n",
      "  fields   : (:exec,:ignorestatus,:detach,:env,:dir)\n"
     ]
    }
   ],
   "source": [
    "?Cmd"
   ]
  },
  {
   "cell_type": "code",
   "execution_count": 68,
   "metadata": {
    "collapsed": false
   },
   "outputs": [
    {
     "data": {
      "text/plain": [
       "\"HelloHello\""
      ]
     },
     "execution_count": 68,
     "metadata": {},
     "output_type": "execute_result"
    }
   ],
   "source": [
    "\"Hello\"^2"
   ]
  },
  {
   "cell_type": "code",
   "execution_count": 69,
   "metadata": {
    "collapsed": false
   },
   "outputs": [
    {
     "ename": "LoadError",
     "evalue": "`*` has no method matching *(::ASCIIString, ::Int64)\nwhile loading In[69], in expression starting on line 1",
     "output_type": "error",
     "traceback": [
      "`*` has no method matching *(::ASCIIString, ::Int64)\nwhile loading In[69], in expression starting on line 1",
      ""
     ]
    }
   ],
   "source": [
    "\"Hello\"*2"
   ]
  },
  {
   "cell_type": "code",
   "execution_count": 70,
   "metadata": {
    "collapsed": false
   },
   "outputs": [
    {
     "data": {
      "text/plain": [
       "* (generic function with 116 methods)"
      ]
     },
     "execution_count": 70,
     "metadata": {},
     "output_type": "execute_result"
    }
   ],
   "source": [
    "function *(a::String, t::Int)\n",
    "    a^t\n",
    "end"
   ]
  },
  {
   "cell_type": "code",
   "execution_count": 71,
   "metadata": {
    "collapsed": false
   },
   "outputs": [
    {
     "data": {
      "text/plain": [
       "\"HelloHello\""
      ]
     },
     "execution_count": 71,
     "metadata": {},
     "output_type": "execute_result"
    }
   ],
   "source": [
    "\"Hello\"*2"
   ]
  },
  {
   "cell_type": "code",
   "execution_count": 72,
   "metadata": {
    "collapsed": false
   },
   "outputs": [
    {
     "data": {
      "text/plain": [
       "Integer"
      ]
     },
     "execution_count": 72,
     "metadata": {},
     "output_type": "execute_result"
    }
   ],
   "source": [
    "super(BigInt)"
   ]
  },
  {
   "cell_type": "code",
   "execution_count": 73,
   "metadata": {
    "collapsed": false
   },
   "outputs": [
    {
     "data": {
      "text/plain": [
       "Real"
      ]
     },
     "execution_count": 73,
     "metadata": {},
     "output_type": "execute_result"
    }
   ],
   "source": [
    "super(Integer)"
   ]
  },
  {
   "cell_type": "code",
   "execution_count": 74,
   "metadata": {
    "collapsed": false
   },
   "outputs": [
    {
     "data": {
      "text/plain": [
       "Number"
      ]
     },
     "execution_count": 74,
     "metadata": {},
     "output_type": "execute_result"
    }
   ],
   "source": [
    "super(Real)"
   ]
  },
  {
   "cell_type": "code",
   "execution_count": 75,
   "metadata": {
    "collapsed": false
   },
   "outputs": [
    {
     "data": {
      "text/plain": [
       "Any"
      ]
     },
     "execution_count": 75,
     "metadata": {},
     "output_type": "execute_result"
    }
   ],
   "source": [
    "super(Number)"
   ]
  },
  {
   "cell_type": "code",
   "execution_count": 76,
   "metadata": {
    "collapsed": false
   },
   "outputs": [
    {
     "data": {
      "text/plain": [
       "Number"
      ]
     },
     "execution_count": 76,
     "metadata": {},
     "output_type": "execute_result"
    }
   ],
   "source": [
    "t = super(Real)"
   ]
  },
  {
   "cell_type": "code",
   "execution_count": 77,
   "metadata": {
    "collapsed": false
   },
   "outputs": [
    {
     "data": {
      "text/plain": [
       "DataType"
      ]
     },
     "execution_count": 77,
     "metadata": {},
     "output_type": "execute_result"
    }
   ],
   "source": [
    "typeof(t)"
   ]
  },
  {
   "cell_type": "code",
   "execution_count": 78,
   "metadata": {
    "collapsed": false
   },
   "outputs": [
    {
     "ename": "LoadError",
     "evalue": "type cannot be constructed\nwhile loading In[78], in expression starting on line 1",
     "output_type": "error",
     "traceback": [
      "type cannot be constructed\nwhile loading In[78], in expression starting on line 1",
      ""
     ]
    }
   ],
   "source": [
    "t(\"3\")"
   ]
  },
  {
   "cell_type": "code",
   "execution_count": 79,
   "metadata": {
    "collapsed": false
   },
   "outputs": [
    {
     "data": {
      "text/html": [
       "big(n::<b>Integer</b>) at <a href=\"https://github.com/JuliaLang/julia/tree/0c24dca65c031820b91721139f0291068086955c/base//Users/vagrant/buildbot/slave/package_osx10_9/build/base/sysimg.jl#L176\" target=\"_blank\">/Users/vagrant/buildbot/slave/package_osx10_9/build/base/sysimg.jl:176</a>"
      ],
      "text/plain": [
       "big(n::Integer) at /Users/vagrant/buildbot/slave/package_osx10_9/build/base/sysimg.jl:176"
      ]
     },
     "execution_count": 79,
     "metadata": {},
     "output_type": "execute_result"
    }
   ],
   "source": [
    "@which big(3)"
   ]
  },
  {
   "cell_type": "code",
   "execution_count": 80,
   "metadata": {
    "collapsed": false
   },
   "outputs": [
    {
     "data": {
      "text/html": [
       "89 methods for generic function <b>show</b>:<ul><li> show(io::<b>IO</b>,r::<b>UnitRange{T<:Real}</b>) at <a href=\"https://github.com/JuliaLang/julia/tree/0c24dca65c031820b91721139f0291068086955c/base/range.jl#L302\" target=\"_blank\">range.jl:302</a><li> show(io::<b>IO</b>,r::<b>Range{T}</b>) at <a href=\"https://github.com/JuliaLang/julia/tree/0c24dca65c031820b91721139f0291068086955c/base/range.jl#L300\" target=\"_blank\">range.jl:300</a><li> show(io::<b>IO</b>,tv::<b>TypeVar</b>) at <a href=\"https://github.com/JuliaLang/julia/tree/0c24dca65c031820b91721139f0291068086955c/base/expr.jl#L46\" target=\"_blank\">expr.jl:46</a><li> show(io::<b>IO</b>,z::<b>Complex{T<:Real}</b>) at <a href=\"https://github.com/JuliaLang/julia/tree/0c24dca65c031820b91721139f0291068086955c/base/complex.jl#L80\" target=\"_blank\">complex.jl:80</a><li> show(io::<b>IO</b>,x::<b>Rational{T<:Integer}</b>) at <a href=\"https://github.com/JuliaLang/julia/tree/0c24dca65c031820b91721139f0291068086955c/base/rational.jl#L33\" target=\"_blank\">rational.jl:33</a><li> show(io::<b>IO</b>,s::<b>IntSet</b>) at <a href=\"https://github.com/JuliaLang/julia/tree/0c24dca65c031820b91721139f0291068086955c/base/intset.jl#L176\" target=\"_blank\">intset.jl:176</a><li> show(io::<b>IO</b>,::<b>EnvHash</b>) at <a href=\"https://github.com/JuliaLang/julia/tree/0c24dca65c031820b91721139f0291068086955c/base/env.jl#L168\" target=\"_blank\">env.jl:168</a><li> show<i>{K,V}</i>(io::<b>IO</b>,t::<b>Associative{K,V}</b>) at <a href=\"https://github.com/JuliaLang/julia/tree/0c24dca65c031820b91721139f0291068086955c/base/dict.jl#L20\" target=\"_blank\">dict.jl:20</a><li> show(io::<b>IO</b>,iter::<b>Union(KeyIterator{T<:Associative{K,V}},ValueIterator{T<:Associative{K,V}})</b>) at <a href=\"https://github.com/JuliaLang/julia/tree/0c24dca65c031820b91721139f0291068086955c/base/dict.jl#L118\" target=\"_blank\">dict.jl:118</a><li> show(io::<b>IO</b>,s::<b>Set{T}</b>) at <a href=\"https://github.com/JuliaLang/julia/tree/0c24dca65c031820b91721139f0291068086955c/base/set.jl#L10\" target=\"_blank\">set.jl:10</a><li> show(io::<b>IO</b>,c::<b>Char</b>) at <a href=\"https://github.com/JuliaLang/julia/tree/0c24dca65c031820b91721139f0291068086955c/base/char.jl#L53\" target=\"_blank\">char.jl:53</a><li> show(io::<b>IO</b>,b::<b>IOBuffer</b>) at <a href=\"https://github.com/JuliaLang/julia/tree/0c24dca65c031820b91721139f0291068086955c/base/iobuffer.jl#L27\" target=\"_blank\">iobuffer.jl:27</a><li> show(io::<b>IO</b>,s::<b>String</b>) at <a href=\"https://github.com/JuliaLang/julia/tree/0c24dca65c031820b91721139f0291068086955c/base/string.jl#L69\" target=\"_blank\">string.jl:69</a><li> show(io::<b>IO</b>,re::<b>Regex</b>) at <a href=\"https://github.com/JuliaLang/julia/tree/0c24dca65c031820b91721139f0291068086955c/base/regex.jl#L61\" target=\"_blank\">regex.jl:61</a><li> show(io::<b>IO</b>,m::<b>RegexMatch</b>) at <a href=\"https://github.com/JuliaLang/julia/tree/0c24dca65c031820b91721139f0291068086955c/base/regex.jl#L89\" target=\"_blank\">regex.jl:89</a><li> show(io::<b>IO</b>,s::<b>IOStream</b>) at <a href=\"https://github.com/JuliaLang/julia/tree/0c24dca65c031820b91721139f0291068086955c/base/iostream.jl#L26\" target=\"_blank\">iostream.jl:26</a><li> show(io::<b>IO</b>,t::<b>Task</b>) at <a href=\"https://github.com/JuliaLang/julia/tree/0c24dca65c031820b91721139f0291068086955c/base/task.jl#L3\" target=\"_blank\">task.jl:3</a><li> show(io::<b>IO</b>,f::<b>Function</b>) at <a href=\"https://github.com/JuliaLang/julia/tree/0c24dca65c031820b91721139f0291068086955c/base/show.jl#L57\" target=\"_blank\">show.jl:57</a><li> show(io::<b>IO</b>,x::<b>IntrinsicFunction</b>) at <a href=\"https://github.com/JuliaLang/julia/tree/0c24dca65c031820b91721139f0291068086955c/base/show.jl#L67\" target=\"_blank\">show.jl:67</a><li> show(io::<b>IO</b>,x::<b>UnionType</b>) at <a href=\"https://github.com/JuliaLang/julia/tree/0c24dca65c031820b91721139f0291068086955c/base/show.jl#L71\" target=\"_blank\">show.jl:71</a><li> show(io::<b>IO</b>,x::<b>TypeConstructor</b>) at <a href=\"https://github.com/JuliaLang/julia/tree/0c24dca65c031820b91721139f0291068086955c/base/show.jl#L80\" target=\"_blank\">show.jl:80</a><li> show(io::<b>IO</b>,x::<b>DataType</b>) at <a href=\"https://github.com/JuliaLang/julia/tree/0c24dca65c031820b91721139f0291068086955c/base/show.jl#L83\" target=\"_blank\">show.jl:83</a><li> show(io::<b>IO</b>,tn::<b>TypeName</b>) at <a href=\"https://github.com/JuliaLang/julia/tree/0c24dca65c031820b91721139f0291068086955c/base/show.jl#L200\" target=\"_blank\">show.jl:200</a><li> show(io::<b>IO</b>,::<b>Nothing</b>) at <a href=\"https://github.com/JuliaLang/julia/tree/0c24dca65c031820b91721139f0291068086955c/base/show.jl#L201\" target=\"_blank\">show.jl:201</a><li> show(io::<b>IO</b>,b::<b>Bool</b>) at <a href=\"https://github.com/JuliaLang/julia/tree/0c24dca65c031820b91721139f0291068086955c/base/show.jl#L202\" target=\"_blank\">show.jl:202</a><li> show(io::<b>IO</b>,n::<b>Signed</b>) at <a href=\"https://github.com/JuliaLang/julia/tree/0c24dca65c031820b91721139f0291068086955c/base/show.jl#L203\" target=\"_blank\">show.jl:203</a><li> show(io::<b>IO</b>,n::<b>Unsigned</b>) at <a href=\"https://github.com/JuliaLang/julia/tree/0c24dca65c031820b91721139f0291068086955c/base/show.jl#L204\" target=\"_blank\">show.jl:204</a><li> show<i>{T}</i>(io::<b>IO</b>,p::<b>Ptr{T}</b>) at <a href=\"https://github.com/JuliaLang/julia/tree/0c24dca65c031820b91721139f0291068086955c/base/show.jl#L116\" target=\"_blank\">show.jl:116</a><li> show(io::<b>IO</b>,m::<b>Module</b>) at <a href=\"https://github.com/JuliaLang/julia/tree/0c24dca65c031820b91721139f0291068086955c/base/show.jl#L120\" target=\"_blank\">show.jl:120</a><li> show(io::<b>IO</b>,l::<b>LambdaStaticData</b>) at <a href=\"https://github.com/JuliaLang/julia/tree/0c24dca65c031820b91721139f0291068086955c/base/show.jl#L128\" target=\"_blank\">show.jl:128</a><li> show(io::<b>IO</b>,t::<b>(Any...,)</b>) at <a href=\"https://github.com/JuliaLang/julia/tree/0c24dca65c031820b91721139f0291068086955c/base/show.jl#L197\" target=\"_blank\">show.jl:197</a><li> show(io::<b>IO</b>,s::<b>Symbol</b>) at <a href=\"https://github.com/JuliaLang/julia/tree/0c24dca65c031820b91721139f0291068086955c/base/show.jl#L199\" target=\"_blank\">show.jl:199</a><li> show(io::<b>IO</b>,ex::<b>Union(Expr,TopNode,LineNumberNode,SymbolNode,QuoteNode,GotoNode,LabelNode)</b>) at <a href=\"https://github.com/JuliaLang/julia/tree/0c24dca65c031820b91721139f0291068086955c/base/show.jl#L234\" target=\"_blank\">show.jl:234</a><li> show(io::<b>IO</b>,W::<b>Woodbury{T}</b>) at <a href=\"https://github.com/JuliaLang/julia/tree/0c24dca65c031820b91721139f0291068086955c/base/linalg/woodbury.jl#L42\" target=\"_blank\">linalg/woodbury.jl:42</a><li> show(io::<b>IO</b>,M::<b>Bidiagonal{T}</b>) at <a href=\"https://github.com/JuliaLang/julia/tree/0c24dca65c031820b91721139f0291068086955c/base/linalg/bidiag.jl#L56\" target=\"_blank\">linalg/bidiag.jl:56</a><li> show(io::<b>IO</b>,v::<b>AbstractArray{Any,1}</b>) at <a href=\"https://github.com/JuliaLang/julia/tree/0c24dca65c031820b91721139f0291068086955c/base/show.jl#L1194\" target=\"_blank\">show.jl:1194</a><li> show(io::<b>IO</b>,v::<b>AbstractArray{T,1}</b>) at <a href=\"https://github.com/JuliaLang/julia/tree/0c24dca65c031820b91721139f0291068086955c/base/show.jl#L1195\" target=\"_blank\">show.jl:1195</a><li> show(io::<b>IO</b>,X::<b>AbstractArray{T,N}</b>) at <a href=\"https://github.com/JuliaLang/julia/tree/0c24dca65c031820b91721139f0291068086955c/base/show.jl#L1130\" target=\"_blank\">show.jl:1130</a><li> show(io::<b>IO</b>,stream::<b>Pipe</b>) at <a href=\"https://github.com/JuliaLang/julia/tree/0c24dca65c031820b91721139f0291068086955c/base/stream.jl#L171\" target=\"_blank\">stream.jl:171</a><li> show(io::<b>IO</b>,stream::<b>PipeServer</b>) at <a href=\"https://github.com/JuliaLang/julia/tree/0c24dca65c031820b91721139f0291068086955c/base/stream.jl#L173\" target=\"_blank\">stream.jl:173</a><li> show(io::<b>IO</b>,stream::<b>TTY</b>) at <a href=\"https://github.com/JuliaLang/julia/tree/0c24dca65c031820b91721139f0291068086955c/base/stream.jl#L220\" target=\"_blank\">stream.jl:220</a><li> show(io::<b>IO</b>,e::<b>UVError</b>) at <a href=\"https://github.com/JuliaLang/julia/tree/0c24dca65c031820b91721139f0291068086955c/base/stream.jl#L830\" target=\"_blank\">stream.jl:830</a><li> show(io::<b>IO</b>,ip::<b>IPv4</b>) at <a href=\"https://github.com/JuliaLang/julia/tree/0c24dca65c031820b91721139f0291068086955c/base/socket.jl#L29\" target=\"_blank\">socket.jl:29</a><li> show(io::<b>IO</b>,ip::<b>IPv6</b>) at <a href=\"https://github.com/JuliaLang/julia/tree/0c24dca65c031820b91721139f0291068086955c/base/socket.jl#L81\" target=\"_blank\">socket.jl:81</a><li> show(io::<b>IO</b>,sock::<b>TcpSocket</b>) at <a href=\"https://github.com/JuliaLang/julia/tree/0c24dca65c031820b91721139f0291068086955c/base/socket.jl#L314\" target=\"_blank\">socket.jl:314</a><li> show(io::<b>IO</b>,sock::<b>TcpServer</b>) at <a href=\"https://github.com/JuliaLang/julia/tree/0c24dca65c031820b91721139f0291068086955c/base/socket.jl#L317\" target=\"_blank\">socket.jl:317</a><li> show(io::<b>IO</b>,st::<b>StatStruct</b>) at <a href=\"https://github.com/JuliaLang/julia/tree/0c24dca65c031820b91721139f0291068086955c/base/stat.jl#L31\" target=\"_blank\">stat.jl:31</a><li> show(io::<b>IO</b>,cmd::<b>Cmd</b>) at <a href=\"https://github.com/JuliaLang/julia/tree/0c24dca65c031820b91721139f0291068086955c/base/process.jl#L33\" target=\"_blank\">process.jl:33</a><li> show(io::<b>IO</b>,cmds::<b>OrCmds</b>) at <a href=\"https://github.com/JuliaLang/julia/tree/0c24dca65c031820b91721139f0291068086955c/base/process.jl#L51\" target=\"_blank\">process.jl:51</a><li> show(io::<b>IO</b>,cmds::<b>AndCmds</b>) at <a href=\"https://github.com/JuliaLang/julia/tree/0c24dca65c031820b91721139f0291068086955c/base/process.jl#L69\" target=\"_blank\">process.jl:69</a><li> show(io::<b>IO</b>,cr::<b>CmdRedirect</b>) at <a href=\"https://github.com/JuliaLang/julia/tree/0c24dca65c031820b91721139f0291068086955c/base/process.jl#L123\" target=\"_blank\">process.jl:123</a><li> show(io::<b>IO</b>,p::<b>Process</b>) at <a href=\"https://github.com/JuliaLang/julia/tree/0c24dca65c031820b91721139f0291068086955c/base/process.jl#L622\" target=\"_blank\">process.jl:622</a><li> show<i>{mime}</i>(io::<b>IO</b>,::<b>MIME{mime}</b>) at <a href=\"https://github.com/JuliaLang/julia/tree/0c24dca65c031820b91721139f0291068086955c/base/multimedia.jl#L16\" target=\"_blank\">multimedia.jl:16</a><li> show(io::<b>IO</b>,x::<b>Float64</b>) at <a href=\"https://github.com/JuliaLang/julia/tree/0c24dca65c031820b91721139f0291068086955c/base/grisu.jl#L114\" target=\"_blank\">grisu.jl:114</a><li> show(io::<b>IO</b>,x::<b>Float32</b>) at <a href=\"https://github.com/JuliaLang/julia/tree/0c24dca65c031820b91721139f0291068086955c/base/grisu.jl#L115\" target=\"_blank\">grisu.jl:115</a><li> show(io::<b>IO</b>,x::<b>Float16</b>) at <a href=\"https://github.com/JuliaLang/julia/tree/0c24dca65c031820b91721139f0291068086955c/base/grisu.jl#L116\" target=\"_blank\">grisu.jl:116</a><li> show(io::<b>IO</b>,m::<b>Method</b>) at <a href=\"https://github.com/JuliaLang/julia/tree/0c24dca65c031820b91721139f0291068086955c/base/methodshow.jl#L35\" target=\"_blank\">methodshow.jl:35</a><li> show(io::<b>IO</b>,mt::<b>MethodTable</b>) at <a href=\"https://github.com/JuliaLang/julia/tree/0c24dca65c031820b91721139f0291068086955c/base/methodshow.jl#L74\" target=\"_blank\">methodshow.jl:74</a><li> show(io::<b>IO</b>,cman::<b>LocalManager</b>) at <a href=\"https://github.com/JuliaLang/julia/tree/0c24dca65c031820b91721139f0291068086955c/base/multi.jl#L1124\" target=\"_blank\">multi.jl:1124</a><li> show(io::<b>IO</b>,cman::<b>SSHManager</b>) at <a href=\"https://github.com/JuliaLang/julia/tree/0c24dca65c031820b91721139f0291068086955c/base/multi.jl#L1159\" target=\"_blank\">multi.jl:1159</a><li> show(io::<b>IO</b>,x::<b>BigInt</b>) at <a href=\"https://github.com/JuliaLang/julia/tree/0c24dca65c031820b91721139f0291068086955c/base/gmp.jl#L436\" target=\"_blank\">gmp.jl:436</a><li> show(io::<b>IO</b>,b::<b>BigFloat</b>) at <a href=\"https://github.com/JuliaLang/julia/tree/0c24dca65c031820b91721139f0291068086955c/base/mpfr.jl#L706\" target=\"_blank\">mpfr.jl:706</a><li> show(io::<b>IO</b>,u::<b>UUID</b>) at <a href=\"https://github.com/JuliaLang/julia/tree/0c24dca65c031820b91721139f0291068086955c/base/random.jl#L838\" target=\"_blank\">random.jl:838</a><li> show(io::<b>IO</b>,v::<b>VersionNumber</b>) at <a href=\"https://github.com/JuliaLang/julia/tree/0c24dca65c031820b91721139f0291068086955c/base/version.jl#L57\" target=\"_blank\">version.jl:57</a><li> show(io::<b>IO</b>,x::<b>Prompt</b>) at <a href=\"https://github.com/JuliaLang/julia/tree/0c24dca65c031820b91721139f0291068086955c/base/LineEdit.jl#L49\" target=\"_blank\">LineEdit.jl:49</a><li> show(io::<b>IO</b>,C::<b>Cholesky{T}</b>) at <a href=\"https://github.com/JuliaLang/julia/tree/0c24dca65c031820b91721139f0291068086955c/base/linalg/factorization.jl#L85\" target=\"_blank\">linalg/factorization.jl:85</a><li> show(io::<b>IO</b>,J::<b>UniformScaling{T<:Number}</b>) at <a href=\"https://github.com/JuliaLang/julia/tree/0c24dca65c031820b91721139f0291068086955c/base/linalg/uniformscaling.jl#L14\" target=\"_blank\">linalg/uniformscaling.jl:14</a><li> show(io::<b>IO</b>,f::<b>UmfpackLU{Tv<:Union(Complex{Float64},Float64),Ti<:Union(Int64,Int32)}</b>) at <a href=\"https://github.com/JuliaLang/julia/tree/0c24dca65c031820b91721139f0291068086955c/base/linalg/umfpack.jl#L142\" target=\"_blank\">linalg/umfpack.jl:142</a><li> show(io::<b>IO</b>,cd::<b>CholmodDense{T<:Union(Complex{Float64},Float64)}</b>) at <a href=\"https://github.com/JuliaLang/julia/tree/0c24dca65c031820b91721139f0291068086955c/base/linalg/cholmod.jl#L394\" target=\"_blank\">linalg/cholmod.jl:394</a><li> show(io::<b>IO</b>,L::<b>CholmodFactor{Tv<:Union(Complex{Float64},Float64),Ti<:Union(Int64,Int32)}</b>) at <a href=\"https://github.com/JuliaLang/julia/tree/0c24dca65c031820b91721139f0291068086955c/base/linalg/cholmod.jl#L943\" target=\"_blank\">linalg/cholmod.jl:943</a><li> show(io::<b>IO</b>,A::<b>CholmodSparse{Tv<:Union(Complex{Float64},Float64),Ti<:Union(Int64,Int32)}</b>) at <a href=\"https://github.com/JuliaLang/julia/tree/0c24dca65c031820b91721139f0291068086955c/base/linalg/cholmod.jl#L944\" target=\"_blank\">linalg/cholmod.jl:944</a><li> show(io::<b>IO</b>,info::<b>CPUinfo</b>) at <a href=\"https://github.com/JuliaLang/julia/tree/0c24dca65c031820b91721139f0291068086955c/base/sysinfo.jl#L58\" target=\"_blank\">sysinfo.jl:58</a><li> show(io::<b>IO</b>,info::<b>CPUinfo</b>,header::<b>Bool</b>) at <a href=\"https://github.com/JuliaLang/julia/tree/0c24dca65c031820b91721139f0291068086955c/base/sysinfo.jl#L58\" target=\"_blank\">sysinfo.jl:58</a><li> show(io::<b>IO</b>,info::<b>CPUinfo</b>,header::<b>Bool</b>,prefix::<b>String</b>) at <a href=\"https://github.com/JuliaLang/julia/tree/0c24dca65c031820b91721139f0291068086955c/base/sysinfo.jl#L58\" target=\"_blank\">sysinfo.jl:58</a><li> show<i>{sym}</i>(io::<b>IO</b>,x::<b>MathConst{sym}</b>) at <a href=\"https://github.com/JuliaLang/julia/tree/0c24dca65c031820b91721139f0291068086955c/base/constants.jl#L5\" target=\"_blank\">constants.jl:5</a><li> show(io::<b>IO</b>,i::<b>VersionInterval</b>) at <a href=\"https://github.com/JuliaLang/julia/tree/0c24dca65c031820b91721139f0291068086955c/base/pkg/types.jl#L13\" target=\"_blank\">pkg/types.jl:13</a><li> show(io::<b>IO</b>,s::<b>VersionSet</b>) at <a href=\"https://github.com/JuliaLang/julia/tree/0c24dca65c031820b91721139f0291068086955c/base/pkg/types.jl#L36\" target=\"_blank\">pkg/types.jl:36</a><li> show(io::<b>IO</b>,a::<b>Available</b>) at <a href=\"https://github.com/JuliaLang/julia/tree/0c24dca65c031820b91721139f0291068086955c/base/pkg/types.jl#L69\" target=\"_blank\">pkg/types.jl:69</a><li> show(io::<b>IO</b>,f::<b>Fixed</b>) at <a href=\"https://github.com/JuliaLang/julia/tree/0c24dca65c031820b91721139f0291068086955c/base/pkg/types.jl#L81\" target=\"_blank\">pkg/types.jl:81</a><li> show(io::<b>IO</b>,blk::<b>DequeBlock{T}</b>) at <a href=\"https://github.com/JuliaLang/DataStructures.jl/tree/d5308421daea7370a60d3e2718e1b3fc5fe47f50/src/deque.jl#L46\" target=\"_blank\">/Users/DboyLiao/.julia/v0.3/DataStructures/src/deque.jl:46</a><li> show(io::<b>IO</b>,q::<b>Deque{T}</b>) at <a href=\"https://github.com/JuliaLang/DataStructures.jl/tree/d5308421daea7370a60d3e2718e1b3fc5fe47f50/src/deque.jl#L139\" target=\"_blank\">/Users/DboyLiao/.julia/v0.3/DataStructures/src/deque.jl:139</a><li> show(io::<b>IO</b>,h::<b>MutableBinaryHeap{VT,Comp}</b>) at <a href=\"https://github.com/JuliaLang/DataStructures.jl/tree/d5308421daea7370a60d3e2718e1b3fc5fe47f50/src/heaps/mutable_binary_heap.jl#L177\" target=\"_blank\">/Users/DboyLiao/.julia/v0.3/DataStructures/src/heaps/mutable_binary_heap.jl:177</a><li> show(io::<b>IO</b>,s::<b>OrderedSet{T}</b>) at <a href=\"https://github.com/JuliaLang/DataStructures.jl/tree/d5308421daea7370a60d3e2718e1b3fc5fe47f50/src/orderedset.jl#L18\" target=\"_blank\">/Users/DboyLiao/.julia/v0.3/DataStructures/src/orderedset.jl:18</a><li> show<i>{T}</i>(io::<b>IO</b>,l::<b>LinkedList{T}</b>) at <a href=\"https://github.com/JuliaLang/DataStructures.jl/tree/d5308421daea7370a60d3e2718e1b3fc5fe47f50/src/list.jl#L20\" target=\"_blank\">/Users/DboyLiao/.julia/v0.3/DataStructures/src/list.jl:20</a><li> show<i>{T<:HashAlgorithm}</i>(io::<b>IO</b>,::<b>HashState{T<:HashAlgorithm}</b>) at <a href=\"https://github.com/staticfloat/Nettle.jl/tree/5fa0729cc682d4c8a29ddfc9f45f08eef36e3243/src/hash.jl#L104\" target=\"_blank\">/Users/DboyLiao/.julia/v0.3/Nettle/src/hash.jl:104</a><li> show<i>{T<:HashAlgorithm}</i>(io::<b>IO</b>,::<b>HMACState{T<:HashAlgorithm}</b>) at <a href=\"https://github.com/staticfloat/Nettle.jl/tree/5fa0729cc682d4c8a29ddfc9f45f08eef36e3243/src/hmac.jl#L16\" target=\"_blank\">/Users/DboyLiao/.julia/v0.3/Nettle/src/hmac.jl:16</a><li> show(io::<b>IO</b>,msg::<b>Msg</b>) at <a href=\"https://github.com/JuliaLang/IJulia.jl/tree/9b677b1e12e2d9ad17ab9e02589eccc2c3cd5c9d/src/msg.jl#L40\" target=\"_blank\">/Users/DboyLiao/.julia/v0.3/IJulia/src/msg.jl:40</a><li> show(io::<b>IO</b>,x::<b>ANY</b>) at <a href=\"https://github.com/JuliaLang/julia/tree/0c24dca65c031820b91721139f0291068086955c/base/show.jl#L7\" target=\"_blank\">show.jl:7</a><li> show(x) at <a href=\"https://github.com/JuliaLang/julia/tree/0c24dca65c031820b91721139f0291068086955c/base/show.jl#L2\" target=\"_blank\">show.jl:2</a></ul>"
      ],
      "text/plain": [
       "# 89 methods for generic function \"show\":\n",
       "show(io::IO,r::UnitRange{T<:Real}) at range.jl:302\n",
       "show(io::IO,r::Range{T}) at range.jl:300\n",
       "show(io::IO,tv::TypeVar) at expr.jl:46\n",
       "show(io::IO,z::Complex{T<:Real}) at complex.jl:80\n",
       "show(io::IO,x::Rational{T<:Integer}) at rational.jl:33\n",
       "show(io::IO,s::IntSet) at intset.jl:176\n",
       "show(io::IO,::EnvHash) at env.jl:168\n",
       "show{K,V}(io::IO,t::Associative{K,V}) at dict.jl:20\n",
       "show(io::IO,iter::Union(KeyIterator{T<:Associative{K,V}},ValueIterator{T<:Associative{K,V}})) at dict.jl:118\n",
       "show(io::IO,s::Set{T}) at set.jl:10\n",
       "show(io::IO,c::Char) at char.jl:53\n",
       "show(io::IO,b::IOBuffer) at iobuffer.jl:27\n",
       "show(io::IO,s::String) at string.jl:69\n",
       "show(io::IO,re::Regex) at regex.jl:61\n",
       "show(io::IO,m::RegexMatch) at regex.jl:89\n",
       "show(io::IO,s::IOStream) at iostream.jl:26\n",
       "show(io::IO,t::Task) at task.jl:3\n",
       "show(io::IO,f::Function) at show.jl:57\n",
       "show(io::IO,x::IntrinsicFunction) at show.jl:67\n",
       "show(io::IO,x::UnionType) at show.jl:71\n",
       "show(io::IO,x::TypeConstructor) at show.jl:80\n",
       "show(io::IO,x::DataType) at show.jl:83\n",
       "show(io::IO,tn::TypeName) at show.jl:200\n",
       "show(io::IO,::Nothing) at show.jl:201\n",
       "show(io::IO,b::Bool) at show.jl:202\n",
       "show(io::IO,n::Signed) at show.jl:203\n",
       "show(io::IO,n::Unsigned) at show.jl:204\n",
       "show{T}(io::IO,p::Ptr{T}) at show.jl:116\n",
       "show(io::IO,m::Module) at show.jl:120\n",
       "show(io::IO,l::LambdaStaticData) at show.jl:128\n",
       "show(io::IO,t::(Any...,)) at show.jl:197\n",
       "show(io::IO,s::Symbol) at show.jl:199\n",
       "show(io::IO,ex::Union(Expr,TopNode,LineNumberNode,SymbolNode,QuoteNode,GotoNode,LabelNode)) at show.jl:234\n",
       "show(io::IO,W::Woodbury{T}) at linalg/woodbury.jl:42\n",
       "show(io::IO,M::Bidiagonal{T}) at linalg/bidiag.jl:56\n",
       "show(io::IO,v::AbstractArray{Any,1}) at show.jl:1194\n",
       "show(io::IO,v::AbstractArray{T,1}) at show.jl:1195\n",
       "show(io::IO,X::AbstractArray{T,N}) at show.jl:1130\n",
       "show(io::IO,stream::Pipe) at stream.jl:171\n",
       "show(io::IO,stream::PipeServer) at stream.jl:173\n",
       "show(io::IO,stream::TTY) at stream.jl:220\n",
       "show(io::IO,e::UVError) at stream.jl:830\n",
       "show(io::IO,ip::IPv4) at socket.jl:29\n",
       "show(io::IO,ip::IPv6) at socket.jl:81\n",
       "show(io::IO,sock::TcpSocket) at socket.jl:314\n",
       "show(io::IO,sock::TcpServer) at socket.jl:317\n",
       "show(io::IO,st::StatStruct) at stat.jl:31\n",
       "show(io::IO,cmd::Cmd) at process.jl:33\n",
       "show(io::IO,cmds::OrCmds) at process.jl:51\n",
       "show(io::IO,cmds::AndCmds) at process.jl:69\n",
       "show(io::IO,cr::CmdRedirect) at process.jl:123\n",
       "show(io::IO,p::Process) at process.jl:622\n",
       "show{mime}(io::IO,::MIME{mime}) at multimedia.jl:16\n",
       "show(io::IO,x::Float64) at grisu.jl:114\n",
       "show(io::IO,x::Float32) at grisu.jl:115\n",
       "show(io::IO,x::Float16) at grisu.jl:116\n",
       "show(io::IO,m::Method) at methodshow.jl:35\n",
       "show(io::IO,mt::MethodTable) at methodshow.jl:74\n",
       "show(io::IO,cman::LocalManager) at multi.jl:1124\n",
       "show(io::IO,cman::SSHManager) at multi.jl:1159\n",
       "show(io::IO,x::BigInt) at gmp.jl:436\n",
       "show(io::IO,b::BigFloat) at mpfr.jl:706\n",
       "show(io::IO,u::UUID) at random.jl:838\n",
       "show(io::IO,v::VersionNumber) at version.jl:57\n",
       "show(io::IO,x::Prompt) at LineEdit.jl:49\n",
       "show(io::IO,C::Cholesky{T}) at linalg/factorization.jl:85\n",
       "show(io::IO,J::UniformScaling{T<:Number}) at linalg/uniformscaling.jl:14\n",
       "show(io::IO,f::UmfpackLU{Tv<:Union(Complex{Float64},Float64),Ti<:Union(Int64,Int32)}) at linalg/umfpack.jl:142\n",
       "show(io::IO,cd::CholmodDense{T<:Union(Complex{Float64},Float64)}) at linalg/cholmod.jl:394\n",
       "show(io::IO,L::CholmodFactor{Tv<:Union(Complex{Float64},Float64),Ti<:Union(Int64,Int32)}) at linalg/cholmod.jl:943\n",
       "show(io::IO,A::CholmodSparse{Tv<:Union(Complex{Float64},Float64),Ti<:Union(Int64,Int32)}) at linalg/cholmod.jl:944\n",
       "show(io::IO,info::CPUinfo) at sysinfo.jl:58\n",
       "show(io::IO,info::CPUinfo,header::Bool) at sysinfo.jl:58\n",
       "show(io::IO,info::CPUinfo,header::Bool,prefix::String) at sysinfo.jl:58\n",
       "show{sym}(io::IO,x::MathConst{sym}) at constants.jl:5\n",
       "show(io::IO,i::VersionInterval) at pkg/types.jl:13\n",
       "show(io::IO,s::VersionSet) at pkg/types.jl:36\n",
       "show(io::IO,a::Available) at pkg/types.jl:69\n",
       "show(io::IO,f::Fixed) at pkg/types.jl:81\n",
       "show(io::IO,blk::DequeBlock{T}) at /Users/DboyLiao/.julia/v0.3/DataStructures/src/deque.jl:46\n",
       "show(io::IO,q::Deque{T}) at /Users/DboyLiao/.julia/v0.3/DataStructures/src/deque.jl:139\n",
       "show(io::IO,h::MutableBinaryHeap{VT,Comp}) at /Users/DboyLiao/.julia/v0.3/DataStructures/src/heaps/mutable_binary_heap.jl:177\n",
       "show(io::IO,s::OrderedSet{T}) at /Users/DboyLiao/.julia/v0.3/DataStructures/src/orderedset.jl:18\n",
       "show{T}(io::IO,l::LinkedList{T}) at /Users/DboyLiao/.julia/v0.3/DataStructures/src/list.jl:20\n",
       "show{T<:HashAlgorithm}(io::IO,::HashState{T<:HashAlgorithm}) at /Users/DboyLiao/.julia/v0.3/Nettle/src/hash.jl:104\n",
       "show{T<:HashAlgorithm}(io::IO,::HMACState{T<:HashAlgorithm}) at /Users/DboyLiao/.julia/v0.3/Nettle/src/hmac.jl:16\n",
       "show(io::IO,msg::Msg) at /Users/DboyLiao/.julia/v0.3/IJulia/src/msg.jl:40\n",
       "show(io::IO,x::ANY) at show.jl:7\n",
       "show(x) at show.jl:2"
      ]
     },
     "execution_count": 80,
     "metadata": {},
     "output_type": "execute_result"
    }
   ],
   "source": [
    "methods(show)"
   ]
  },
  {
   "cell_type": "code",
   "execution_count": 81,
   "metadata": {
    "collapsed": false
   },
   "outputs": [
    {
     "data": {
      "text/plain": [
       "3"
      ]
     },
     "execution_count": 81,
     "metadata": {},
     "output_type": "execute_result"
    }
   ],
   "source": [
    "a = 3"
   ]
  },
  {
   "cell_type": "code",
   "execution_count": 82,
   "metadata": {
    "collapsed": false
   },
   "outputs": [
    {
     "name": "stdout",
     "output_type": "stream",
     "text": [
      "3"
     ]
    }
   ],
   "source": [
    "show(a)"
   ]
  },
  {
   "cell_type": "code",
   "execution_count": 1,
   "metadata": {
    "collapsed": false
   },
   "outputs": [],
   "source": [
    "immutable Vector2D\n",
    "    x::Float64\n",
    "    y::Float64\n",
    "end"
   ]
  },
  {
   "cell_type": "code",
   "execution_count": 2,
   "metadata": {
    "collapsed": false
   },
   "outputs": [
    {
     "data": {
      "text/html": [
       "89 methods for generic function <b>show</b>:<ul><li> show(io::<b>IO</b>,r::<b>UnitRange{T<:Real}</b>) at <a href=\"https://github.com/JuliaLang/julia/tree/0c24dca65c031820b91721139f0291068086955c/base/range.jl#L302\" target=\"_blank\">range.jl:302</a><li> show(io::<b>IO</b>,r::<b>Range{T}</b>) at <a href=\"https://github.com/JuliaLang/julia/tree/0c24dca65c031820b91721139f0291068086955c/base/range.jl#L300\" target=\"_blank\">range.jl:300</a><li> show(io::<b>IO</b>,tv::<b>TypeVar</b>) at <a href=\"https://github.com/JuliaLang/julia/tree/0c24dca65c031820b91721139f0291068086955c/base/expr.jl#L46\" target=\"_blank\">expr.jl:46</a><li> show(io::<b>IO</b>,z::<b>Complex{T<:Real}</b>) at <a href=\"https://github.com/JuliaLang/julia/tree/0c24dca65c031820b91721139f0291068086955c/base/complex.jl#L80\" target=\"_blank\">complex.jl:80</a><li> show(io::<b>IO</b>,x::<b>Rational{T<:Integer}</b>) at <a href=\"https://github.com/JuliaLang/julia/tree/0c24dca65c031820b91721139f0291068086955c/base/rational.jl#L33\" target=\"_blank\">rational.jl:33</a><li> show(io::<b>IO</b>,s::<b>IntSet</b>) at <a href=\"https://github.com/JuliaLang/julia/tree/0c24dca65c031820b91721139f0291068086955c/base/intset.jl#L176\" target=\"_blank\">intset.jl:176</a><li> show(io::<b>IO</b>,::<b>EnvHash</b>) at <a href=\"https://github.com/JuliaLang/julia/tree/0c24dca65c031820b91721139f0291068086955c/base/env.jl#L168\" target=\"_blank\">env.jl:168</a><li> show<i>{K,V}</i>(io::<b>IO</b>,t::<b>Associative{K,V}</b>) at <a href=\"https://github.com/JuliaLang/julia/tree/0c24dca65c031820b91721139f0291068086955c/base/dict.jl#L20\" target=\"_blank\">dict.jl:20</a><li> show(io::<b>IO</b>,iter::<b>Union(KeyIterator{T<:Associative{K,V}},ValueIterator{T<:Associative{K,V}})</b>) at <a href=\"https://github.com/JuliaLang/julia/tree/0c24dca65c031820b91721139f0291068086955c/base/dict.jl#L118\" target=\"_blank\">dict.jl:118</a><li> show(io::<b>IO</b>,s::<b>Set{T}</b>) at <a href=\"https://github.com/JuliaLang/julia/tree/0c24dca65c031820b91721139f0291068086955c/base/set.jl#L10\" target=\"_blank\">set.jl:10</a><li> show(io::<b>IO</b>,c::<b>Char</b>) at <a href=\"https://github.com/JuliaLang/julia/tree/0c24dca65c031820b91721139f0291068086955c/base/char.jl#L53\" target=\"_blank\">char.jl:53</a><li> show(io::<b>IO</b>,b::<b>IOBuffer</b>) at <a href=\"https://github.com/JuliaLang/julia/tree/0c24dca65c031820b91721139f0291068086955c/base/iobuffer.jl#L27\" target=\"_blank\">iobuffer.jl:27</a><li> show(io::<b>IO</b>,s::<b>String</b>) at <a href=\"https://github.com/JuliaLang/julia/tree/0c24dca65c031820b91721139f0291068086955c/base/string.jl#L69\" target=\"_blank\">string.jl:69</a><li> show(io::<b>IO</b>,re::<b>Regex</b>) at <a href=\"https://github.com/JuliaLang/julia/tree/0c24dca65c031820b91721139f0291068086955c/base/regex.jl#L61\" target=\"_blank\">regex.jl:61</a><li> show(io::<b>IO</b>,m::<b>RegexMatch</b>) at <a href=\"https://github.com/JuliaLang/julia/tree/0c24dca65c031820b91721139f0291068086955c/base/regex.jl#L89\" target=\"_blank\">regex.jl:89</a><li> show(io::<b>IO</b>,s::<b>IOStream</b>) at <a href=\"https://github.com/JuliaLang/julia/tree/0c24dca65c031820b91721139f0291068086955c/base/iostream.jl#L26\" target=\"_blank\">iostream.jl:26</a><li> show(io::<b>IO</b>,t::<b>Task</b>) at <a href=\"https://github.com/JuliaLang/julia/tree/0c24dca65c031820b91721139f0291068086955c/base/task.jl#L3\" target=\"_blank\">task.jl:3</a><li> show(io::<b>IO</b>,f::<b>Function</b>) at <a href=\"https://github.com/JuliaLang/julia/tree/0c24dca65c031820b91721139f0291068086955c/base/show.jl#L57\" target=\"_blank\">show.jl:57</a><li> show(io::<b>IO</b>,x::<b>IntrinsicFunction</b>) at <a href=\"https://github.com/JuliaLang/julia/tree/0c24dca65c031820b91721139f0291068086955c/base/show.jl#L67\" target=\"_blank\">show.jl:67</a><li> show(io::<b>IO</b>,x::<b>UnionType</b>) at <a href=\"https://github.com/JuliaLang/julia/tree/0c24dca65c031820b91721139f0291068086955c/base/show.jl#L71\" target=\"_blank\">show.jl:71</a><li> show(io::<b>IO</b>,x::<b>TypeConstructor</b>) at <a href=\"https://github.com/JuliaLang/julia/tree/0c24dca65c031820b91721139f0291068086955c/base/show.jl#L80\" target=\"_blank\">show.jl:80</a><li> show(io::<b>IO</b>,x::<b>DataType</b>) at <a href=\"https://github.com/JuliaLang/julia/tree/0c24dca65c031820b91721139f0291068086955c/base/show.jl#L83\" target=\"_blank\">show.jl:83</a><li> show(io::<b>IO</b>,tn::<b>TypeName</b>) at <a href=\"https://github.com/JuliaLang/julia/tree/0c24dca65c031820b91721139f0291068086955c/base/show.jl#L200\" target=\"_blank\">show.jl:200</a><li> show(io::<b>IO</b>,::<b>Nothing</b>) at <a href=\"https://github.com/JuliaLang/julia/tree/0c24dca65c031820b91721139f0291068086955c/base/show.jl#L201\" target=\"_blank\">show.jl:201</a><li> show(io::<b>IO</b>,b::<b>Bool</b>) at <a href=\"https://github.com/JuliaLang/julia/tree/0c24dca65c031820b91721139f0291068086955c/base/show.jl#L202\" target=\"_blank\">show.jl:202</a><li> show(io::<b>IO</b>,n::<b>Signed</b>) at <a href=\"https://github.com/JuliaLang/julia/tree/0c24dca65c031820b91721139f0291068086955c/base/show.jl#L203\" target=\"_blank\">show.jl:203</a><li> show(io::<b>IO</b>,n::<b>Unsigned</b>) at <a href=\"https://github.com/JuliaLang/julia/tree/0c24dca65c031820b91721139f0291068086955c/base/show.jl#L204\" target=\"_blank\">show.jl:204</a><li> show<i>{T}</i>(io::<b>IO</b>,p::<b>Ptr{T}</b>) at <a href=\"https://github.com/JuliaLang/julia/tree/0c24dca65c031820b91721139f0291068086955c/base/show.jl#L116\" target=\"_blank\">show.jl:116</a><li> show(io::<b>IO</b>,m::<b>Module</b>) at <a href=\"https://github.com/JuliaLang/julia/tree/0c24dca65c031820b91721139f0291068086955c/base/show.jl#L120\" target=\"_blank\">show.jl:120</a><li> show(io::<b>IO</b>,l::<b>LambdaStaticData</b>) at <a href=\"https://github.com/JuliaLang/julia/tree/0c24dca65c031820b91721139f0291068086955c/base/show.jl#L128\" target=\"_blank\">show.jl:128</a><li> show(io::<b>IO</b>,t::<b>(Any...,)</b>) at <a href=\"https://github.com/JuliaLang/julia/tree/0c24dca65c031820b91721139f0291068086955c/base/show.jl#L197\" target=\"_blank\">show.jl:197</a><li> show(io::<b>IO</b>,s::<b>Symbol</b>) at <a href=\"https://github.com/JuliaLang/julia/tree/0c24dca65c031820b91721139f0291068086955c/base/show.jl#L199\" target=\"_blank\">show.jl:199</a><li> show(io::<b>IO</b>,ex::<b>Union(Expr,TopNode,LineNumberNode,SymbolNode,QuoteNode,GotoNode,LabelNode)</b>) at <a href=\"https://github.com/JuliaLang/julia/tree/0c24dca65c031820b91721139f0291068086955c/base/show.jl#L234\" target=\"_blank\">show.jl:234</a><li> show(io::<b>IO</b>,W::<b>Woodbury{T}</b>) at <a href=\"https://github.com/JuliaLang/julia/tree/0c24dca65c031820b91721139f0291068086955c/base/linalg/woodbury.jl#L42\" target=\"_blank\">linalg/woodbury.jl:42</a><li> show(io::<b>IO</b>,M::<b>Bidiagonal{T}</b>) at <a href=\"https://github.com/JuliaLang/julia/tree/0c24dca65c031820b91721139f0291068086955c/base/linalg/bidiag.jl#L56\" target=\"_blank\">linalg/bidiag.jl:56</a><li> show(io::<b>IO</b>,v::<b>AbstractArray{Any,1}</b>) at <a href=\"https://github.com/JuliaLang/julia/tree/0c24dca65c031820b91721139f0291068086955c/base/show.jl#L1194\" target=\"_blank\">show.jl:1194</a><li> show(io::<b>IO</b>,v::<b>AbstractArray{T,1}</b>) at <a href=\"https://github.com/JuliaLang/julia/tree/0c24dca65c031820b91721139f0291068086955c/base/show.jl#L1195\" target=\"_blank\">show.jl:1195</a><li> show(io::<b>IO</b>,X::<b>AbstractArray{T,N}</b>) at <a href=\"https://github.com/JuliaLang/julia/tree/0c24dca65c031820b91721139f0291068086955c/base/show.jl#L1130\" target=\"_blank\">show.jl:1130</a><li> show(io::<b>IO</b>,stream::<b>Pipe</b>) at <a href=\"https://github.com/JuliaLang/julia/tree/0c24dca65c031820b91721139f0291068086955c/base/stream.jl#L171\" target=\"_blank\">stream.jl:171</a><li> show(io::<b>IO</b>,stream::<b>PipeServer</b>) at <a href=\"https://github.com/JuliaLang/julia/tree/0c24dca65c031820b91721139f0291068086955c/base/stream.jl#L173\" target=\"_blank\">stream.jl:173</a><li> show(io::<b>IO</b>,stream::<b>TTY</b>) at <a href=\"https://github.com/JuliaLang/julia/tree/0c24dca65c031820b91721139f0291068086955c/base/stream.jl#L220\" target=\"_blank\">stream.jl:220</a><li> show(io::<b>IO</b>,e::<b>UVError</b>) at <a href=\"https://github.com/JuliaLang/julia/tree/0c24dca65c031820b91721139f0291068086955c/base/stream.jl#L830\" target=\"_blank\">stream.jl:830</a><li> show(io::<b>IO</b>,ip::<b>IPv4</b>) at <a href=\"https://github.com/JuliaLang/julia/tree/0c24dca65c031820b91721139f0291068086955c/base/socket.jl#L29\" target=\"_blank\">socket.jl:29</a><li> show(io::<b>IO</b>,ip::<b>IPv6</b>) at <a href=\"https://github.com/JuliaLang/julia/tree/0c24dca65c031820b91721139f0291068086955c/base/socket.jl#L81\" target=\"_blank\">socket.jl:81</a><li> show(io::<b>IO</b>,sock::<b>TcpSocket</b>) at <a href=\"https://github.com/JuliaLang/julia/tree/0c24dca65c031820b91721139f0291068086955c/base/socket.jl#L314\" target=\"_blank\">socket.jl:314</a><li> show(io::<b>IO</b>,sock::<b>TcpServer</b>) at <a href=\"https://github.com/JuliaLang/julia/tree/0c24dca65c031820b91721139f0291068086955c/base/socket.jl#L317\" target=\"_blank\">socket.jl:317</a><li> show(io::<b>IO</b>,st::<b>StatStruct</b>) at <a href=\"https://github.com/JuliaLang/julia/tree/0c24dca65c031820b91721139f0291068086955c/base/stat.jl#L31\" target=\"_blank\">stat.jl:31</a><li> show(io::<b>IO</b>,cmd::<b>Cmd</b>) at <a href=\"https://github.com/JuliaLang/julia/tree/0c24dca65c031820b91721139f0291068086955c/base/process.jl#L33\" target=\"_blank\">process.jl:33</a><li> show(io::<b>IO</b>,cmds::<b>OrCmds</b>) at <a href=\"https://github.com/JuliaLang/julia/tree/0c24dca65c031820b91721139f0291068086955c/base/process.jl#L51\" target=\"_blank\">process.jl:51</a><li> show(io::<b>IO</b>,cmds::<b>AndCmds</b>) at <a href=\"https://github.com/JuliaLang/julia/tree/0c24dca65c031820b91721139f0291068086955c/base/process.jl#L69\" target=\"_blank\">process.jl:69</a><li> show(io::<b>IO</b>,cr::<b>CmdRedirect</b>) at <a href=\"https://github.com/JuliaLang/julia/tree/0c24dca65c031820b91721139f0291068086955c/base/process.jl#L123\" target=\"_blank\">process.jl:123</a><li> show(io::<b>IO</b>,p::<b>Process</b>) at <a href=\"https://github.com/JuliaLang/julia/tree/0c24dca65c031820b91721139f0291068086955c/base/process.jl#L622\" target=\"_blank\">process.jl:622</a><li> show<i>{mime}</i>(io::<b>IO</b>,::<b>MIME{mime}</b>) at <a href=\"https://github.com/JuliaLang/julia/tree/0c24dca65c031820b91721139f0291068086955c/base/multimedia.jl#L16\" target=\"_blank\">multimedia.jl:16</a><li> show(io::<b>IO</b>,x::<b>Float64</b>) at <a href=\"https://github.com/JuliaLang/julia/tree/0c24dca65c031820b91721139f0291068086955c/base/grisu.jl#L114\" target=\"_blank\">grisu.jl:114</a><li> show(io::<b>IO</b>,x::<b>Float32</b>) at <a href=\"https://github.com/JuliaLang/julia/tree/0c24dca65c031820b91721139f0291068086955c/base/grisu.jl#L115\" target=\"_blank\">grisu.jl:115</a><li> show(io::<b>IO</b>,x::<b>Float16</b>) at <a href=\"https://github.com/JuliaLang/julia/tree/0c24dca65c031820b91721139f0291068086955c/base/grisu.jl#L116\" target=\"_blank\">grisu.jl:116</a><li> show(io::<b>IO</b>,m::<b>Method</b>) at <a href=\"https://github.com/JuliaLang/julia/tree/0c24dca65c031820b91721139f0291068086955c/base/methodshow.jl#L35\" target=\"_blank\">methodshow.jl:35</a><li> show(io::<b>IO</b>,mt::<b>MethodTable</b>) at <a href=\"https://github.com/JuliaLang/julia/tree/0c24dca65c031820b91721139f0291068086955c/base/methodshow.jl#L74\" target=\"_blank\">methodshow.jl:74</a><li> show(io::<b>IO</b>,cman::<b>LocalManager</b>) at <a href=\"https://github.com/JuliaLang/julia/tree/0c24dca65c031820b91721139f0291068086955c/base/multi.jl#L1124\" target=\"_blank\">multi.jl:1124</a><li> show(io::<b>IO</b>,cman::<b>SSHManager</b>) at <a href=\"https://github.com/JuliaLang/julia/tree/0c24dca65c031820b91721139f0291068086955c/base/multi.jl#L1159\" target=\"_blank\">multi.jl:1159</a><li> show(io::<b>IO</b>,x::<b>BigInt</b>) at <a href=\"https://github.com/JuliaLang/julia/tree/0c24dca65c031820b91721139f0291068086955c/base/gmp.jl#L436\" target=\"_blank\">gmp.jl:436</a><li> show(io::<b>IO</b>,b::<b>BigFloat</b>) at <a href=\"https://github.com/JuliaLang/julia/tree/0c24dca65c031820b91721139f0291068086955c/base/mpfr.jl#L706\" target=\"_blank\">mpfr.jl:706</a><li> show(io::<b>IO</b>,u::<b>UUID</b>) at <a href=\"https://github.com/JuliaLang/julia/tree/0c24dca65c031820b91721139f0291068086955c/base/random.jl#L838\" target=\"_blank\">random.jl:838</a><li> show(io::<b>IO</b>,v::<b>VersionNumber</b>) at <a href=\"https://github.com/JuliaLang/julia/tree/0c24dca65c031820b91721139f0291068086955c/base/version.jl#L57\" target=\"_blank\">version.jl:57</a><li> show(io::<b>IO</b>,x::<b>Prompt</b>) at <a href=\"https://github.com/JuliaLang/julia/tree/0c24dca65c031820b91721139f0291068086955c/base/LineEdit.jl#L49\" target=\"_blank\">LineEdit.jl:49</a><li> show(io::<b>IO</b>,C::<b>Cholesky{T}</b>) at <a href=\"https://github.com/JuliaLang/julia/tree/0c24dca65c031820b91721139f0291068086955c/base/linalg/factorization.jl#L85\" target=\"_blank\">linalg/factorization.jl:85</a><li> show(io::<b>IO</b>,J::<b>UniformScaling{T<:Number}</b>) at <a href=\"https://github.com/JuliaLang/julia/tree/0c24dca65c031820b91721139f0291068086955c/base/linalg/uniformscaling.jl#L14\" target=\"_blank\">linalg/uniformscaling.jl:14</a><li> show(io::<b>IO</b>,f::<b>UmfpackLU{Tv<:Union(Complex{Float64},Float64),Ti<:Union(Int64,Int32)}</b>) at <a href=\"https://github.com/JuliaLang/julia/tree/0c24dca65c031820b91721139f0291068086955c/base/linalg/umfpack.jl#L142\" target=\"_blank\">linalg/umfpack.jl:142</a><li> show(io::<b>IO</b>,cd::<b>CholmodDense{T<:Union(Complex{Float64},Float64)}</b>) at <a href=\"https://github.com/JuliaLang/julia/tree/0c24dca65c031820b91721139f0291068086955c/base/linalg/cholmod.jl#L394\" target=\"_blank\">linalg/cholmod.jl:394</a><li> show(io::<b>IO</b>,L::<b>CholmodFactor{Tv<:Union(Complex{Float64},Float64),Ti<:Union(Int64,Int32)}</b>) at <a href=\"https://github.com/JuliaLang/julia/tree/0c24dca65c031820b91721139f0291068086955c/base/linalg/cholmod.jl#L943\" target=\"_blank\">linalg/cholmod.jl:943</a><li> show(io::<b>IO</b>,A::<b>CholmodSparse{Tv<:Union(Complex{Float64},Float64),Ti<:Union(Int64,Int32)}</b>) at <a href=\"https://github.com/JuliaLang/julia/tree/0c24dca65c031820b91721139f0291068086955c/base/linalg/cholmod.jl#L944\" target=\"_blank\">linalg/cholmod.jl:944</a><li> show(io::<b>IO</b>,info::<b>CPUinfo</b>) at <a href=\"https://github.com/JuliaLang/julia/tree/0c24dca65c031820b91721139f0291068086955c/base/sysinfo.jl#L58\" target=\"_blank\">sysinfo.jl:58</a><li> show(io::<b>IO</b>,info::<b>CPUinfo</b>,header::<b>Bool</b>) at <a href=\"https://github.com/JuliaLang/julia/tree/0c24dca65c031820b91721139f0291068086955c/base/sysinfo.jl#L58\" target=\"_blank\">sysinfo.jl:58</a><li> show(io::<b>IO</b>,info::<b>CPUinfo</b>,header::<b>Bool</b>,prefix::<b>String</b>) at <a href=\"https://github.com/JuliaLang/julia/tree/0c24dca65c031820b91721139f0291068086955c/base/sysinfo.jl#L58\" target=\"_blank\">sysinfo.jl:58</a><li> show<i>{sym}</i>(io::<b>IO</b>,x::<b>MathConst{sym}</b>) at <a href=\"https://github.com/JuliaLang/julia/tree/0c24dca65c031820b91721139f0291068086955c/base/constants.jl#L5\" target=\"_blank\">constants.jl:5</a><li> show(io::<b>IO</b>,i::<b>VersionInterval</b>) at <a href=\"https://github.com/JuliaLang/julia/tree/0c24dca65c031820b91721139f0291068086955c/base/pkg/types.jl#L13\" target=\"_blank\">pkg/types.jl:13</a><li> show(io::<b>IO</b>,s::<b>VersionSet</b>) at <a href=\"https://github.com/JuliaLang/julia/tree/0c24dca65c031820b91721139f0291068086955c/base/pkg/types.jl#L36\" target=\"_blank\">pkg/types.jl:36</a><li> show(io::<b>IO</b>,a::<b>Available</b>) at <a href=\"https://github.com/JuliaLang/julia/tree/0c24dca65c031820b91721139f0291068086955c/base/pkg/types.jl#L69\" target=\"_blank\">pkg/types.jl:69</a><li> show(io::<b>IO</b>,f::<b>Fixed</b>) at <a href=\"https://github.com/JuliaLang/julia/tree/0c24dca65c031820b91721139f0291068086955c/base/pkg/types.jl#L81\" target=\"_blank\">pkg/types.jl:81</a><li> show(io::<b>IO</b>,blk::<b>DequeBlock{T}</b>) at <a href=\"https://github.com/JuliaLang/DataStructures.jl/tree/d5308421daea7370a60d3e2718e1b3fc5fe47f50/src/deque.jl#L46\" target=\"_blank\">/Users/DboyLiao/.julia/v0.3/DataStructures/src/deque.jl:46</a><li> show(io::<b>IO</b>,q::<b>Deque{T}</b>) at <a href=\"https://github.com/JuliaLang/DataStructures.jl/tree/d5308421daea7370a60d3e2718e1b3fc5fe47f50/src/deque.jl#L139\" target=\"_blank\">/Users/DboyLiao/.julia/v0.3/DataStructures/src/deque.jl:139</a><li> show(io::<b>IO</b>,h::<b>MutableBinaryHeap{VT,Comp}</b>) at <a href=\"https://github.com/JuliaLang/DataStructures.jl/tree/d5308421daea7370a60d3e2718e1b3fc5fe47f50/src/heaps/mutable_binary_heap.jl#L177\" target=\"_blank\">/Users/DboyLiao/.julia/v0.3/DataStructures/src/heaps/mutable_binary_heap.jl:177</a><li> show(io::<b>IO</b>,s::<b>OrderedSet{T}</b>) at <a href=\"https://github.com/JuliaLang/DataStructures.jl/tree/d5308421daea7370a60d3e2718e1b3fc5fe47f50/src/orderedset.jl#L18\" target=\"_blank\">/Users/DboyLiao/.julia/v0.3/DataStructures/src/orderedset.jl:18</a><li> show<i>{T}</i>(io::<b>IO</b>,l::<b>LinkedList{T}</b>) at <a href=\"https://github.com/JuliaLang/DataStructures.jl/tree/d5308421daea7370a60d3e2718e1b3fc5fe47f50/src/list.jl#L20\" target=\"_blank\">/Users/DboyLiao/.julia/v0.3/DataStructures/src/list.jl:20</a><li> show<i>{T<:HashAlgorithm}</i>(io::<b>IO</b>,::<b>HashState{T<:HashAlgorithm}</b>) at <a href=\"https://github.com/staticfloat/Nettle.jl/tree/5fa0729cc682d4c8a29ddfc9f45f08eef36e3243/src/hash.jl#L104\" target=\"_blank\">/Users/DboyLiao/.julia/v0.3/Nettle/src/hash.jl:104</a><li> show<i>{T<:HashAlgorithm}</i>(io::<b>IO</b>,::<b>HMACState{T<:HashAlgorithm}</b>) at <a href=\"https://github.com/staticfloat/Nettle.jl/tree/5fa0729cc682d4c8a29ddfc9f45f08eef36e3243/src/hmac.jl#L16\" target=\"_blank\">/Users/DboyLiao/.julia/v0.3/Nettle/src/hmac.jl:16</a><li> show(io::<b>IO</b>,msg::<b>Msg</b>) at <a href=\"https://github.com/JuliaLang/IJulia.jl/tree/9b677b1e12e2d9ad17ab9e02589eccc2c3cd5c9d/src/msg.jl#L40\" target=\"_blank\">/Users/DboyLiao/.julia/v0.3/IJulia/src/msg.jl:40</a><li> show(io::<b>IO</b>,x::<b>ANY</b>) at <a href=\"https://github.com/JuliaLang/julia/tree/0c24dca65c031820b91721139f0291068086955c/base/show.jl#L7\" target=\"_blank\">show.jl:7</a><li> show(x) at <a href=\"https://github.com/JuliaLang/julia/tree/0c24dca65c031820b91721139f0291068086955c/base/show.jl#L2\" target=\"_blank\">show.jl:2</a></ul>"
      ],
      "text/plain": [
       "# 89 methods for generic function \"show\":\n",
       "show(io::IO,r::UnitRange{T<:Real}) at range.jl:302\n",
       "show(io::IO,r::Range{T}) at range.jl:300\n",
       "show(io::IO,tv::TypeVar) at expr.jl:46\n",
       "show(io::IO,z::Complex{T<:Real}) at complex.jl:80\n",
       "show(io::IO,x::Rational{T<:Integer}) at rational.jl:33\n",
       "show(io::IO,s::IntSet) at intset.jl:176\n",
       "show(io::IO,::EnvHash) at env.jl:168\n",
       "show{K,V}(io::IO,t::Associative{K,V}) at dict.jl:20\n",
       "show(io::IO,iter::Union(KeyIterator{T<:Associative{K,V}},ValueIterator{T<:Associative{K,V}})) at dict.jl:118\n",
       "show(io::IO,s::Set{T}) at set.jl:10\n",
       "show(io::IO,c::Char) at char.jl:53\n",
       "show(io::IO,b::IOBuffer) at iobuffer.jl:27\n",
       "show(io::IO,s::String) at string.jl:69\n",
       "show(io::IO,re::Regex) at regex.jl:61\n",
       "show(io::IO,m::RegexMatch) at regex.jl:89\n",
       "show(io::IO,s::IOStream) at iostream.jl:26\n",
       "show(io::IO,t::Task) at task.jl:3\n",
       "show(io::IO,f::Function) at show.jl:57\n",
       "show(io::IO,x::IntrinsicFunction) at show.jl:67\n",
       "show(io::IO,x::UnionType) at show.jl:71\n",
       "show(io::IO,x::TypeConstructor) at show.jl:80\n",
       "show(io::IO,x::DataType) at show.jl:83\n",
       "show(io::IO,tn::TypeName) at show.jl:200\n",
       "show(io::IO,::Nothing) at show.jl:201\n",
       "show(io::IO,b::Bool) at show.jl:202\n",
       "show(io::IO,n::Signed) at show.jl:203\n",
       "show(io::IO,n::Unsigned) at show.jl:204\n",
       "show{T}(io::IO,p::Ptr{T}) at show.jl:116\n",
       "show(io::IO,m::Module) at show.jl:120\n",
       "show(io::IO,l::LambdaStaticData) at show.jl:128\n",
       "show(io::IO,t::(Any...,)) at show.jl:197\n",
       "show(io::IO,s::Symbol) at show.jl:199\n",
       "show(io::IO,ex::Union(Expr,TopNode,LineNumberNode,SymbolNode,QuoteNode,GotoNode,LabelNode)) at show.jl:234\n",
       "show(io::IO,W::Woodbury{T}) at linalg/woodbury.jl:42\n",
       "show(io::IO,M::Bidiagonal{T}) at linalg/bidiag.jl:56\n",
       "show(io::IO,v::AbstractArray{Any,1}) at show.jl:1194\n",
       "show(io::IO,v::AbstractArray{T,1}) at show.jl:1195\n",
       "show(io::IO,X::AbstractArray{T,N}) at show.jl:1130\n",
       "show(io::IO,stream::Pipe) at stream.jl:171\n",
       "show(io::IO,stream::PipeServer) at stream.jl:173\n",
       "show(io::IO,stream::TTY) at stream.jl:220\n",
       "show(io::IO,e::UVError) at stream.jl:830\n",
       "show(io::IO,ip::IPv4) at socket.jl:29\n",
       "show(io::IO,ip::IPv6) at socket.jl:81\n",
       "show(io::IO,sock::TcpSocket) at socket.jl:314\n",
       "show(io::IO,sock::TcpServer) at socket.jl:317\n",
       "show(io::IO,st::StatStruct) at stat.jl:31\n",
       "show(io::IO,cmd::Cmd) at process.jl:33\n",
       "show(io::IO,cmds::OrCmds) at process.jl:51\n",
       "show(io::IO,cmds::AndCmds) at process.jl:69\n",
       "show(io::IO,cr::CmdRedirect) at process.jl:123\n",
       "show(io::IO,p::Process) at process.jl:622\n",
       "show{mime}(io::IO,::MIME{mime}) at multimedia.jl:16\n",
       "show(io::IO,x::Float64) at grisu.jl:114\n",
       "show(io::IO,x::Float32) at grisu.jl:115\n",
       "show(io::IO,x::Float16) at grisu.jl:116\n",
       "show(io::IO,m::Method) at methodshow.jl:35\n",
       "show(io::IO,mt::MethodTable) at methodshow.jl:74\n",
       "show(io::IO,cman::LocalManager) at multi.jl:1124\n",
       "show(io::IO,cman::SSHManager) at multi.jl:1159\n",
       "show(io::IO,x::BigInt) at gmp.jl:436\n",
       "show(io::IO,b::BigFloat) at mpfr.jl:706\n",
       "show(io::IO,u::UUID) at random.jl:838\n",
       "show(io::IO,v::VersionNumber) at version.jl:57\n",
       "show(io::IO,x::Prompt) at LineEdit.jl:49\n",
       "show(io::IO,C::Cholesky{T}) at linalg/factorization.jl:85\n",
       "show(io::IO,J::UniformScaling{T<:Number}) at linalg/uniformscaling.jl:14\n",
       "show(io::IO,f::UmfpackLU{Tv<:Union(Complex{Float64},Float64),Ti<:Union(Int64,Int32)}) at linalg/umfpack.jl:142\n",
       "show(io::IO,cd::CholmodDense{T<:Union(Complex{Float64},Float64)}) at linalg/cholmod.jl:394\n",
       "show(io::IO,L::CholmodFactor{Tv<:Union(Complex{Float64},Float64),Ti<:Union(Int64,Int32)}) at linalg/cholmod.jl:943\n",
       "show(io::IO,A::CholmodSparse{Tv<:Union(Complex{Float64},Float64),Ti<:Union(Int64,Int32)}) at linalg/cholmod.jl:944\n",
       "show(io::IO,info::CPUinfo) at sysinfo.jl:58\n",
       "show(io::IO,info::CPUinfo,header::Bool) at sysinfo.jl:58\n",
       "show(io::IO,info::CPUinfo,header::Bool,prefix::String) at sysinfo.jl:58\n",
       "show{sym}(io::IO,x::MathConst{sym}) at constants.jl:5\n",
       "show(io::IO,i::VersionInterval) at pkg/types.jl:13\n",
       "show(io::IO,s::VersionSet) at pkg/types.jl:36\n",
       "show(io::IO,a::Available) at pkg/types.jl:69\n",
       "show(io::IO,f::Fixed) at pkg/types.jl:81\n",
       "show(io::IO,blk::DequeBlock{T}) at /Users/DboyLiao/.julia/v0.3/DataStructures/src/deque.jl:46\n",
       "show(io::IO,q::Deque{T}) at /Users/DboyLiao/.julia/v0.3/DataStructures/src/deque.jl:139\n",
       "show(io::IO,h::MutableBinaryHeap{VT,Comp}) at /Users/DboyLiao/.julia/v0.3/DataStructures/src/heaps/mutable_binary_heap.jl:177\n",
       "show(io::IO,s::OrderedSet{T}) at /Users/DboyLiao/.julia/v0.3/DataStructures/src/orderedset.jl:18\n",
       "show{T}(io::IO,l::LinkedList{T}) at /Users/DboyLiao/.julia/v0.3/DataStructures/src/list.jl:20\n",
       "show{T<:HashAlgorithm}(io::IO,::HashState{T<:HashAlgorithm}) at /Users/DboyLiao/.julia/v0.3/Nettle/src/hash.jl:104\n",
       "show{T<:HashAlgorithm}(io::IO,::HMACState{T<:HashAlgorithm}) at /Users/DboyLiao/.julia/v0.3/Nettle/src/hmac.jl:16\n",
       "show(io::IO,msg::Msg) at /Users/DboyLiao/.julia/v0.3/IJulia/src/msg.jl:40\n",
       "show(io::IO,x::ANY) at show.jl:7\n",
       "show(x) at show.jl:2"
      ]
     },
     "execution_count": 2,
     "metadata": {},
     "output_type": "execute_result"
    }
   ],
   "source": [
    "methods(show)"
   ]
  },
  {
   "cell_type": "code",
   "execution_count": 3,
   "metadata": {
    "collapsed": false
   },
   "outputs": [
    {
     "ename": "LoadError",
     "evalue": "error in method definition: function Base.show must be explicitly imported to be extended\nwhile loading In[3], in expression starting on line 1",
     "output_type": "error",
     "traceback": [
      "error in method definition: function Base.show must be explicitly imported to be extended\nwhile loading In[3], in expression starting on line 1",
      ""
     ]
    }
   ],
   "source": [
    "show(io::IO, v::Vector2D) = println(io, \"[$v.x, $v.y]\")"
   ]
  },
  {
   "cell_type": "code",
   "execution_count": 4,
   "metadata": {
    "collapsed": false
   },
   "outputs": [],
   "source": [
    "import Base.show"
   ]
  },
  {
   "cell_type": "code",
   "execution_count": 5,
   "metadata": {
    "collapsed": false
   },
   "outputs": [
    {
     "data": {
      "text/plain": [
       "Vector2D(3.0,5.0)"
      ]
     },
     "execution_count": 5,
     "metadata": {},
     "output_type": "execute_result"
    }
   ],
   "source": [
    "v = Vector2D(3, 5)"
   ]
  },
  {
   "cell_type": "code",
   "execution_count": 6,
   "metadata": {
    "collapsed": false
   },
   "outputs": [
    {
     "data": {
      "text/plain": [
       "Vector2D(3.0,5.0)"
      ]
     },
     "execution_count": 6,
     "metadata": {},
     "output_type": "execute_result"
    }
   ],
   "source": [
    "v"
   ]
  },
  {
   "cell_type": "code",
   "execution_count": 11,
   "metadata": {
    "collapsed": false
   },
   "outputs": [
    {
     "data": {
      "text/plain": [
       "show (generic function with 90 methods)"
      ]
     },
     "execution_count": 11,
     "metadata": {},
     "output_type": "execute_result"
    }
   ],
   "source": [
    "show(io::IO, v::Vector2D) = print(io, \"[$(v.x), $(v.y)]\")"
   ]
  },
  {
   "cell_type": "code",
   "execution_count": 12,
   "metadata": {
    "collapsed": false
   },
   "outputs": [
    {
     "data": {
      "text/plain": [
       "[3.0, 5.0]"
      ]
     },
     "execution_count": 12,
     "metadata": {},
     "output_type": "execute_result"
    }
   ],
   "source": [
    "v"
   ]
  },
  {
   "cell_type": "code",
   "execution_count": 1,
   "metadata": {
    "collapsed": false
   },
   "outputs": [],
   "source": [
    "immutable Vector2D{T <: Number}\n",
    "    x::T\n",
    "    y::T\n",
    "end"
   ]
  },
  {
   "cell_type": "code",
   "execution_count": 3,
   "metadata": {
    "collapsed": false
   },
   "outputs": [
    {
     "data": {
      "text/plain": [
       "Vector2D{Float64}(3.6,3.5)"
      ]
     },
     "execution_count": 3,
     "metadata": {},
     "output_type": "execute_result"
    }
   ],
   "source": [
    "v = Vector2D(3.6, 3.5)"
   ]
  },
  {
   "cell_type": "code",
   "execution_count": 5,
   "metadata": {
    "collapsed": false
   },
   "outputs": [
    {
     "data": {
      "text/plain": [
       "show (generic function with 90 methods)"
      ]
     },
     "execution_count": 5,
     "metadata": {},
     "output_type": "execute_result"
    }
   ],
   "source": [
    "import Base.show\n",
    "show(io::IO, v::Vector2D) = print(io, \"[$(v.x), $(v.y)]\")"
   ]
  },
  {
   "cell_type": "code",
   "execution_count": 6,
   "metadata": {
    "collapsed": false
   },
   "outputs": [
    {
     "name": "stdout",
     "output_type": "stream",
     "text": [
      "[3.6, 3.5]"
     ]
    }
   ],
   "source": [
    "show(v)"
   ]
  },
  {
   "cell_type": "code",
   "execution_count": 7,
   "metadata": {
    "collapsed": false
   },
   "outputs": [
    {
     "data": {
      "text/plain": [
       "[3//4, 5//6]"
      ]
     },
     "execution_count": 7,
     "metadata": {},
     "output_type": "execute_result"
    }
   ],
   "source": [
    "v2 = Vector2D(3//4, 5//6)"
   ]
  },
  {
   "cell_type": "code",
   "execution_count": 9,
   "metadata": {
    "collapsed": false
   },
   "outputs": [
    {
     "data": {
      "text/html": [
       "show(x) at <a href=\"https://github.com/JuliaLang/julia/tree/0c24dca65c031820b91721139f0291068086955c/base/show.jl#L2\" target=\"_blank\">show.jl:2</a>"
      ],
      "text/plain": [
       "show(x) at show.jl:2"
      ]
     },
     "execution_count": 9,
     "metadata": {},
     "output_type": "execute_result"
    }
   ],
   "source": [
    "@which show(v2)"
   ]
  },
  {
   "cell_type": "code",
   "execution_count": 10,
   "metadata": {
    "collapsed": false
   },
   "outputs": [
    {
     "data": {
      "text/plain": [
       "show (generic function with 91 methods)"
      ]
     },
     "execution_count": 10,
     "metadata": {},
     "output_type": "execute_result"
    }
   ],
   "source": [
    "show{T}(io::IO, v::Vector2D{T}) = print(io, \"[$(v.x), $(v.y)]\")"
   ]
  },
  {
   "cell_type": "code",
   "execution_count": 11,
   "metadata": {
    "collapsed": false
   },
   "outputs": [
    {
     "data": {
      "text/html": [
       "show(x) at <a href=\"https://github.com/JuliaLang/julia/tree/0c24dca65c031820b91721139f0291068086955c/base/show.jl#L2\" target=\"_blank\">show.jl:2</a>"
      ],
      "text/plain": [
       "show(x) at show.jl:2"
      ]
     },
     "execution_count": 11,
     "metadata": {},
     "output_type": "execute_result"
    }
   ],
   "source": [
    "@which show(v2)"
   ]
  },
  {
   "cell_type": "code",
   "execution_count": 12,
   "metadata": {
    "collapsed": false
   },
   "outputs": [
    {
     "name": "stdout",
     "output_type": "stream",
     "text": [
      "[3//4, 5//6]"
     ]
    }
   ],
   "source": [
    "show(v2)"
   ]
  },
  {
   "cell_type": "code",
   "execution_count": 13,
   "metadata": {
    "collapsed": false
   },
   "outputs": [
    {
     "ename": "LoadError",
     "evalue": "Gadfly not found\nwhile loading In[13], in expression starting on line 1",
     "output_type": "error",
     "traceback": [
      "Gadfly not found\nwhile loading In[13], in expression starting on line 1",
      "",
      " in require at loading.jl:47"
     ]
    }
   ],
   "source": [
    "using Gadfly"
   ]
  },
  {
   "cell_type": "code",
   "execution_count": 14,
   "metadata": {
    "collapsed": false
   },
   "outputs": [
    {
     "name": "stderr",
     "output_type": "stream",
     "text": [
      "INFO: Cloning cache of ArrayViews from git://github.com/JuliaLang/ArrayViews.jl.git\n",
      "INFO: Cloning cache of Calculus from git://github.com/johnmyleswhite/Calculus.jl.git\n",
      "INFO: Cloning cache of Codecs from git://github.com/dcjones/Codecs.jl.git\n",
      "INFO: Cloning cache of Contour from git://github.com/tlycken/Contour.jl.git\n",
      "INFO: Cloning cache of DataArrays from git://github.com/JuliaStats/DataArrays.jl.git\n",
      "INFO: Cloning cache of DataFrames from git://github.com/JuliaStats/DataFrames.jl.git\n",
      "INFO: Cloning cache of Distances from git://github.com/JuliaStats/Distances.jl.git\n",
      "INFO: Cloning cache of Distributions from git://github.com/JuliaStats/Distributions.jl.git\n",
      "INFO: Cloning cache of DualNumbers from git://github.com/JuliaDiff/DualNumbers.jl.git\n",
      "INFO: Cloning cache of GZip from git://github.com/JuliaLang/GZip.jl.git\n",
      "INFO: Cloning cache of Gadfly from git://github.com/dcjones/Gadfly.jl.git\n",
      "INFO: Cloning cache of Grid from git://github.com/timholy/Grid.jl.git\n",
      "INFO: Cloning cache of Hexagons from git://github.com/dcjones/Hexagons.jl.git\n",
      "INFO: Cloning cache of ImmutableArrays from git://github.com/twadleigh/ImmutableArrays.jl.git\n",
      "INFO: Cloning cache of KernelDensity from git://github.com/JuliaStats/KernelDensity.jl.git\n",
      "INFO: Cloning cache of Loess from git://github.com/dcjones/Loess.jl.git\n",
      "INFO: Cloning cache of NaNMath from git://github.com/mlubin/NaNMath.jl.git\n",
      "INFO: Cloning cache of Optim from git://github.com/JuliaOpt/Optim.jl.git\n",
      "INFO: Cloning cache of PDMats from git://github.com/JuliaStats/PDMats.jl.git\n",
      "INFO: Cloning cache of Reexport from git://github.com/simonster/Reexport.jl.git\n",
      "INFO: Cloning cache of Showoff from git://github.com/dcjones/Showoff.jl.git\n",
      "INFO: Cloning cache of SortingAlgorithms from git://github.com/JuliaLang/SortingAlgorithms.jl.git\n",
      "INFO: Cloning cache of StatsBase from git://github.com/JuliaStats/StatsBase.jl.git\n",
      "INFO: Installing ArrayViews v0.4.8\n",
      "INFO: Installing Calculus v0.1.6\n",
      "INFO: Installing Codecs v0.1.3\n",
      "INFO: Installing Contour v0.0.6\n",
      "INFO: Installing DataArrays v0.2.11\n",
      "INFO: Installing DataFrames v0.6.1\n",
      "INFO: Installing Distances v0.2.0\n",
      "INFO: Installing Distributions v0.6.3\n",
      "INFO: Installing DualNumbers v0.1.2\n",
      "INFO: Installing GZip v0.2.13\n",
      "INFO: Installing Gadfly v0.3.11\n",
      "INFO: Installing Grid v0.3.7\n",
      "INFO: Installing Hexagons v0.0.2\n",
      "INFO: Installing ImmutableArrays v0.0.6\n",
      "INFO: Installing KernelDensity v0.1.0\n",
      "INFO: Installing Loess v0.0.3\n",
      "INFO: Installing NaNMath v0.0.2\n",
      "INFO: Installing Optim v0.4.0\n",
      "INFO: Installing PDMats v0.3.1\n",
      "INFO: Installing Reexport v0.0.2\n",
      "INFO: Installing Showoff v0.0.3\n",
      "INFO: Installing SortingAlgorithms v0.0.4\n",
      "INFO: Installing StatsBase v0.6.12\n",
      "INFO: Package database updated\n",
      "INFO: METADATA is out-of-date — you may not have the latest version of Gadfly\n",
      "INFO: Use `Pkg.update()` to get the latest versions of your packages\n"
     ]
    }
   ],
   "source": [
    "Pkg.add(\"Gadfly\")"
   ]
  },
  {
   "cell_type": "code",
   "execution_count": 1,
   "metadata": {
    "collapsed": false
   },
   "outputs": [],
   "source": [
    "using Gadfly"
   ]
  },
  {
   "cell_type": "code",
   "execution_count": 2,
   "metadata": {
    "collapsed": false
   },
   "outputs": [],
   "source": [
    "using DataFrames\n",
    "using RDatasets"
   ]
  },
  {
   "cell_type": "code",
   "execution_count": 3,
   "metadata": {
    "collapsed": false
   },
   "outputs": [
    {
     "name": "stderr",
     "output_type": "stream",
     "text": [
      "INFO: Loading help data...\n"
     ]
    },
    {
     "name": "stdout",
     "output_type": "stream",
     "text": [
      "dataset (generic function with 1 method)\n"
     ]
    }
   ],
   "source": [
    "?dataset"
   ]
  },
  {
   "cell_type": "code",
   "execution_count": 8,
   "metadata": {
    "collapsed": false
   },
   "outputs": [
    {
     "data": {
      "text/html": [
       "<table class=\"data-frame\"><tr><th></th><th>SepalLength</th><th>SepalWidth</th><th>PetalLength</th><th>PetalWidth</th><th>Species</th></tr><tr><th>1</th><td>5.1</td><td>3.5</td><td>1.4</td><td>0.2</td><td>setosa</td></tr><tr><th>2</th><td>4.9</td><td>3.0</td><td>1.4</td><td>0.2</td><td>setosa</td></tr><tr><th>3</th><td>4.7</td><td>3.2</td><td>1.3</td><td>0.2</td><td>setosa</td></tr><tr><th>4</th><td>4.6</td><td>3.1</td><td>1.5</td><td>0.2</td><td>setosa</td></tr><tr><th>5</th><td>5.0</td><td>3.6</td><td>1.4</td><td>0.2</td><td>setosa</td></tr><tr><th>6</th><td>5.4</td><td>3.9</td><td>1.7</td><td>0.4</td><td>setosa</td></tr></table>"
      ],
      "text/plain": [
       "6x5 DataFrame\n",
       "| Row | SepalLength | SepalWidth | PetalLength | PetalWidth | Species  |\n",
       "|-----|-------------|------------|-------------|------------|----------|\n",
       "| 1   | 5.1         | 3.5        | 1.4         | 0.2        | \"setosa\" |\n",
       "| 2   | 4.9         | 3.0        | 1.4         | 0.2        | \"setosa\" |\n",
       "| 3   | 4.7         | 3.2        | 1.3         | 0.2        | \"setosa\" |\n",
       "| 4   | 4.6         | 3.1        | 1.5         | 0.2        | \"setosa\" |\n",
       "| 5   | 5.0         | 3.6        | 1.4         | 0.2        | \"setosa\" |\n",
       "| 6   | 5.4         | 3.9        | 1.7         | 0.4        | \"setosa\" |"
      ]
     },
     "execution_count": 8,
     "metadata": {},
     "output_type": "execute_result"
    }
   ],
   "source": [
    "iris = dataset(\"datasets\", \"iris\");\n",
    "head(iris)"
   ]
  },
  {
   "cell_type": "code",
   "execution_count": 9,
   "metadata": {
    "collapsed": false
   },
   "outputs": [
    {
     "data": {
      "text/plain": [
       "(150,5)"
      ]
     },
     "execution_count": 9,
     "metadata": {},
     "output_type": "execute_result"
    }
   ],
   "source": [
    "size(iris)"
   ]
  },
  {
   "cell_type": "code",
   "execution_count": 10,
   "metadata": {
    "collapsed": false
   },
   "outputs": [
    {
     "data": {
      "text/plain": [
       "DataFrame (constructor with 11 methods)"
      ]
     },
     "execution_count": 10,
     "metadata": {},
     "output_type": "execute_result"
    }
   ],
   "source": [
    "typeof(iris)"
   ]
  },
  {
   "cell_type": "code",
   "execution_count": 22,
   "metadata": {
    "collapsed": false
   },
   "outputs": [
    {
     "data": {
      "image/svg+xml": [
       "<?xml version=\"1.0\" encoding=\"UTF-8\"?>\n",
       "<svg xmlns=\"http://www.w3.org/2000/svg\"\n",
       "     xmlns:xlink=\"http://www.w3.org/1999/xlink\"\n",
       "     xmlns:gadfly=\"http://www.gadflyjl.org/ns\"\n",
       "     version=\"1.2\"\n",
       "     width=\"141.42mm\" height=\"100mm\" viewBox=\"0 0 141.42 100\"\n",
       "     stroke=\"none\"\n",
       "     fill=\"#000000\"\n",
       "     stroke-width=\"0.3\"\n",
       "     font-size=\"3.88\"\n",
       ">\n",
       "<g class=\"plotroot xscalable yscalable\" id=\"fig-2817073d18f044f3929ff0e1a4e6f0e2-element-1\">\n",
       "  <g font-size=\"3.88\" font-family=\"'PT Sans','Helvetica Neue','Helvetica',sans-serif\" fill=\"#564A55\" stroke=\"none\" id=\"fig-2817073d18f044f3929ff0e1a4e6f0e2-element-2\">\n",
       "    <text x=\"68.56\" y=\"92\" text-anchor=\"middle\">PetalWidth</text>\n",
       "  </g>\n",
       "  <g class=\"guide xlabels\" font-size=\"2.82\" font-family=\"'PT Sans Caption','Helvetica Neue','Helvetica',sans-serif\" fill=\"#6C606B\" id=\"fig-2817073d18f044f3929ff0e1a4e6f0e2-element-3\">\n",
       "    <text x=\"18.28\" y=\"84.39\" text-anchor=\"middle\">0.0</text>\n",
       "    <text x=\"38.39\" y=\"84.39\" text-anchor=\"middle\">0.5</text>\n",
       "    <text x=\"58.5\" y=\"84.39\" text-anchor=\"middle\">1.0</text>\n",
       "    <text x=\"78.61\" y=\"84.39\" text-anchor=\"middle\">1.5</text>\n",
       "    <text x=\"98.72\" y=\"84.39\" text-anchor=\"middle\">2.0</text>\n",
       "    <text x=\"118.83\" y=\"84.39\" text-anchor=\"middle\">2.5</text>\n",
       "  </g>\n",
       "  <g class=\"guide colorkey\" id=\"fig-2817073d18f044f3929ff0e1a4e6f0e2-element-4\">\n",
       "    <g fill=\"#4C404B\" font-size=\"2.82\" font-family=\"'PT Sans','Helvetica Neue','Helvetica',sans-serif\" id=\"fig-2817073d18f044f3929ff0e1a4e6f0e2-element-5\">\n",
       "      <text x=\"124.64\" y=\"41.04\" dy=\"0.35em\" id=\"fig-2817073d18f044f3929ff0e1a4e6f0e2-element-6\" class=\"color_setosa\">setosa</text>\n",
       "      <text x=\"124.64\" y=\"44.67\" dy=\"0.35em\" id=\"fig-2817073d18f044f3929ff0e1a4e6f0e2-element-7\" class=\"color_versicolor\">versicolor</text>\n",
       "      <text x=\"124.64\" y=\"48.3\" dy=\"0.35em\" id=\"fig-2817073d18f044f3929ff0e1a4e6f0e2-element-8\" class=\"color_virginica\">virginica</text>\n",
       "    </g>\n",
       "    <g stroke=\"none\" id=\"fig-2817073d18f044f3929ff0e1a4e6f0e2-element-9\">\n",
       "      <rect x=\"121.83\" y=\"40.14\" width=\"1.81\" height=\"1.81\" id=\"fig-2817073d18f044f3929ff0e1a4e6f0e2-element-10\" class=\"color_setosa\" fill=\"#00BFFF\"/>\n",
       "      <rect x=\"121.83\" y=\"43.76\" width=\"1.81\" height=\"1.81\" id=\"fig-2817073d18f044f3929ff0e1a4e6f0e2-element-11\" class=\"color_versicolor\" fill=\"#D4CA3A\"/>\n",
       "      <rect x=\"121.83\" y=\"47.39\" width=\"1.81\" height=\"1.81\" id=\"fig-2817073d18f044f3929ff0e1a4e6f0e2-element-12\" class=\"color_virginica\" fill=\"#FF5EA0\"/>\n",
       "    </g>\n",
       "    <g fill=\"#362A35\" font-size=\"3.88\" font-family=\"'PT Sans','Helvetica Neue','Helvetica',sans-serif\" stroke=\"none\" id=\"fig-2817073d18f044f3929ff0e1a4e6f0e2-element-13\">\n",
       "      <text x=\"121.83\" y=\"37.22\" id=\"fig-2817073d18f044f3929ff0e1a4e6f0e2-element-14\">Species</text>\n",
       "    </g>\n",
       "  </g>\n",
       "  <g clip-path=\"url(#fig-2817073d18f044f3929ff0e1a4e6f0e2-element-16)\" id=\"fig-2817073d18f044f3929ff0e1a4e6f0e2-element-15\">\n",
       "    <g pointer-events=\"visible\" opacity=\"1\" fill=\"none\" stroke=\"none\" class=\"guide background\" id=\"fig-2817073d18f044f3929ff0e1a4e6f0e2-element-17\">\n",
       "      <rect x=\"16.28\" y=\"5\" width=\"104.54\" height=\"75.72\" id=\"fig-2817073d18f044f3929ff0e1a4e6f0e2-element-18\"/>\n",
       "    </g>\n",
       "    <g class=\"guide ygridlines xfixed\" stroke-dasharray=\"0.5,0.5\" stroke-width=\"0.2\" stroke=\"#D0D0E0\" id=\"fig-2817073d18f044f3929ff0e1a4e6f0e2-element-19\">\n",
       "      <path fill=\"none\" d=\"M16.28,78.71 L 120.83 78.71\" id=\"fig-2817073d18f044f3929ff0e1a4e6f0e2-element-20\"/>\n",
       "      <path fill=\"none\" d=\"M16.28,60.79 L 120.83 60.79\" id=\"fig-2817073d18f044f3929ff0e1a4e6f0e2-element-21\"/>\n",
       "      <path fill=\"none\" d=\"M16.28,42.86 L 120.83 42.86\" id=\"fig-2817073d18f044f3929ff0e1a4e6f0e2-element-22\"/>\n",
       "      <path fill=\"none\" d=\"M16.28,24.93 L 120.83 24.93\" id=\"fig-2817073d18f044f3929ff0e1a4e6f0e2-element-23\"/>\n",
       "      <path fill=\"none\" d=\"M16.28,7 L 120.83 7\" id=\"fig-2817073d18f044f3929ff0e1a4e6f0e2-element-24\"/>\n",
       "    </g>\n",
       "    <g class=\"guide xgridlines yfixed\" stroke-dasharray=\"0.5,0.5\" stroke-width=\"0.2\" stroke=\"#D0D0E0\" id=\"fig-2817073d18f044f3929ff0e1a4e6f0e2-element-25\">\n",
       "      <path fill=\"none\" d=\"M18.28,5 L 18.28 80.72\" id=\"fig-2817073d18f044f3929ff0e1a4e6f0e2-element-26\"/>\n",
       "      <path fill=\"none\" d=\"M38.39,5 L 38.39 80.72\" id=\"fig-2817073d18f044f3929ff0e1a4e6f0e2-element-27\"/>\n",
       "      <path fill=\"none\" d=\"M58.5,5 L 58.5 80.72\" id=\"fig-2817073d18f044f3929ff0e1a4e6f0e2-element-28\"/>\n",
       "      <path fill=\"none\" d=\"M78.61,5 L 78.61 80.72\" id=\"fig-2817073d18f044f3929ff0e1a4e6f0e2-element-29\"/>\n",
       "      <path fill=\"none\" d=\"M98.72,5 L 98.72 80.72\" id=\"fig-2817073d18f044f3929ff0e1a4e6f0e2-element-30\"/>\n",
       "      <path fill=\"none\" d=\"M118.83,5 L 118.83 80.72\" id=\"fig-2817073d18f044f3929ff0e1a4e6f0e2-element-31\"/>\n",
       "    </g>\n",
       "    <g class=\"plotpanel\" id=\"fig-2817073d18f044f3929ff0e1a4e6f0e2-element-32\">\n",
       "      <g class=\"geometry\" id=\"fig-2817073d18f044f3929ff0e1a4e6f0e2-element-33\">\n",
       "        <g stroke-width=\"0.3\" id=\"fig-2817073d18f044f3929ff0e1a4e6f0e2-element-34\">\n",
       "          <circle cx=\"26.33\" cy=\"66.16\" r=\"0.9\" id=\"fig-2817073d18f044f3929ff0e1a4e6f0e2-element-35\" stroke=\"#FFFFFF\" class=\"color_setosa\" fill=\"#00BFFF\"/>\n",
       "          <circle cx=\"26.33\" cy=\"66.16\" r=\"0.9\" id=\"fig-2817073d18f044f3929ff0e1a4e6f0e2-element-36\" stroke=\"#FFFFFF\" class=\"color_setosa\" fill=\"#00BFFF\"/>\n",
       "          <circle cx=\"26.33\" cy=\"67.06\" r=\"0.9\" id=\"fig-2817073d18f044f3929ff0e1a4e6f0e2-element-37\" stroke=\"#FFFFFF\" class=\"color_setosa\" fill=\"#00BFFF\"/>\n",
       "          <circle cx=\"26.33\" cy=\"65.27\" r=\"0.9\" id=\"fig-2817073d18f044f3929ff0e1a4e6f0e2-element-38\" stroke=\"#FFFFFF\" class=\"color_setosa\" fill=\"#00BFFF\"/>\n",
       "          <circle cx=\"26.33\" cy=\"66.16\" r=\"0.9\" id=\"fig-2817073d18f044f3929ff0e1a4e6f0e2-element-39\" stroke=\"#FFFFFF\" class=\"color_setosa\" fill=\"#00BFFF\"/>\n",
       "          <circle cx=\"34.37\" cy=\"63.48\" r=\"0.9\" id=\"fig-2817073d18f044f3929ff0e1a4e6f0e2-element-40\" stroke=\"#FFFFFF\" class=\"color_setosa\" fill=\"#00BFFF\"/>\n",
       "          <circle cx=\"30.35\" cy=\"66.16\" r=\"0.9\" id=\"fig-2817073d18f044f3929ff0e1a4e6f0e2-element-41\" stroke=\"#FFFFFF\" class=\"color_setosa\" fill=\"#00BFFF\"/>\n",
       "          <circle cx=\"26.33\" cy=\"65.27\" r=\"0.9\" id=\"fig-2817073d18f044f3929ff0e1a4e6f0e2-element-42\" stroke=\"#FFFFFF\" class=\"color_setosa\" fill=\"#00BFFF\"/>\n",
       "          <circle cx=\"26.33\" cy=\"66.16\" r=\"0.9\" id=\"fig-2817073d18f044f3929ff0e1a4e6f0e2-element-43\" stroke=\"#FFFFFF\" class=\"color_setosa\" fill=\"#00BFFF\"/>\n",
       "          <circle cx=\"22.31\" cy=\"65.27\" r=\"0.9\" id=\"fig-2817073d18f044f3929ff0e1a4e6f0e2-element-44\" stroke=\"#FFFFFF\" class=\"color_setosa\" fill=\"#00BFFF\"/>\n",
       "          <circle cx=\"26.33\" cy=\"65.27\" r=\"0.9\" id=\"fig-2817073d18f044f3929ff0e1a4e6f0e2-element-45\" stroke=\"#FFFFFF\" class=\"color_setosa\" fill=\"#00BFFF\"/>\n",
       "          <circle cx=\"26.33\" cy=\"64.37\" r=\"0.9\" id=\"fig-2817073d18f044f3929ff0e1a4e6f0e2-element-46\" stroke=\"#FFFFFF\" class=\"color_setosa\" fill=\"#00BFFF\"/>\n",
       "          <circle cx=\"22.31\" cy=\"66.16\" r=\"0.9\" id=\"fig-2817073d18f044f3929ff0e1a4e6f0e2-element-47\" stroke=\"#FFFFFF\" class=\"color_setosa\" fill=\"#00BFFF\"/>\n",
       "          <circle cx=\"22.31\" cy=\"68.85\" r=\"0.9\" id=\"fig-2817073d18f044f3929ff0e1a4e6f0e2-element-48\" stroke=\"#FFFFFF\" class=\"color_setosa\" fill=\"#00BFFF\"/>\n",
       "          <circle cx=\"26.33\" cy=\"67.96\" r=\"0.9\" id=\"fig-2817073d18f044f3929ff0e1a4e6f0e2-element-49\" stroke=\"#FFFFFF\" class=\"color_setosa\" fill=\"#00BFFF\"/>\n",
       "          <circle cx=\"34.37\" cy=\"65.27\" r=\"0.9\" id=\"fig-2817073d18f044f3929ff0e1a4e6f0e2-element-50\" stroke=\"#FFFFFF\" class=\"color_setosa\" fill=\"#00BFFF\"/>\n",
       "          <circle cx=\"34.37\" cy=\"67.06\" r=\"0.9\" id=\"fig-2817073d18f044f3929ff0e1a4e6f0e2-element-51\" stroke=\"#FFFFFF\" class=\"color_setosa\" fill=\"#00BFFF\"/>\n",
       "          <circle cx=\"30.35\" cy=\"66.16\" r=\"0.9\" id=\"fig-2817073d18f044f3929ff0e1a4e6f0e2-element-52\" stroke=\"#FFFFFF\" class=\"color_setosa\" fill=\"#00BFFF\"/>\n",
       "          <circle cx=\"30.35\" cy=\"63.48\" r=\"0.9\" id=\"fig-2817073d18f044f3929ff0e1a4e6f0e2-element-53\" stroke=\"#FFFFFF\" class=\"color_setosa\" fill=\"#00BFFF\"/>\n",
       "          <circle cx=\"30.35\" cy=\"65.27\" r=\"0.9\" id=\"fig-2817073d18f044f3929ff0e1a4e6f0e2-element-54\" stroke=\"#FFFFFF\" class=\"color_setosa\" fill=\"#00BFFF\"/>\n",
       "          <circle cx=\"26.33\" cy=\"63.48\" r=\"0.9\" id=\"fig-2817073d18f044f3929ff0e1a4e6f0e2-element-55\" stroke=\"#FFFFFF\" class=\"color_setosa\" fill=\"#00BFFF\"/>\n",
       "          <circle cx=\"34.37\" cy=\"65.27\" r=\"0.9\" id=\"fig-2817073d18f044f3929ff0e1a4e6f0e2-element-56\" stroke=\"#FFFFFF\" class=\"color_setosa\" fill=\"#00BFFF\"/>\n",
       "          <circle cx=\"26.33\" cy=\"69.75\" r=\"0.9\" id=\"fig-2817073d18f044f3929ff0e1a4e6f0e2-element-57\" stroke=\"#FFFFFF\" class=\"color_setosa\" fill=\"#00BFFF\"/>\n",
       "          <circle cx=\"38.39\" cy=\"63.48\" r=\"0.9\" id=\"fig-2817073d18f044f3929ff0e1a4e6f0e2-element-58\" stroke=\"#FFFFFF\" class=\"color_setosa\" fill=\"#00BFFF\"/>\n",
       "          <circle cx=\"26.33\" cy=\"61.68\" r=\"0.9\" id=\"fig-2817073d18f044f3929ff0e1a4e6f0e2-element-59\" stroke=\"#FFFFFF\" class=\"color_setosa\" fill=\"#00BFFF\"/>\n",
       "          <circle cx=\"26.33\" cy=\"64.37\" r=\"0.9\" id=\"fig-2817073d18f044f3929ff0e1a4e6f0e2-element-60\" stroke=\"#FFFFFF\" class=\"color_setosa\" fill=\"#00BFFF\"/>\n",
       "          <circle cx=\"34.37\" cy=\"64.37\" r=\"0.9\" id=\"fig-2817073d18f044f3929ff0e1a4e6f0e2-element-61\" stroke=\"#FFFFFF\" class=\"color_setosa\" fill=\"#00BFFF\"/>\n",
       "          <circle cx=\"26.33\" cy=\"65.27\" r=\"0.9\" id=\"fig-2817073d18f044f3929ff0e1a4e6f0e2-element-62\" stroke=\"#FFFFFF\" class=\"color_setosa\" fill=\"#00BFFF\"/>\n",
       "          <circle cx=\"26.33\" cy=\"66.16\" r=\"0.9\" id=\"fig-2817073d18f044f3929ff0e1a4e6f0e2-element-63\" stroke=\"#FFFFFF\" class=\"color_setosa\" fill=\"#00BFFF\"/>\n",
       "          <circle cx=\"26.33\" cy=\"64.37\" r=\"0.9\" id=\"fig-2817073d18f044f3929ff0e1a4e6f0e2-element-64\" stroke=\"#FFFFFF\" class=\"color_setosa\" fill=\"#00BFFF\"/>\n",
       "          <circle cx=\"26.33\" cy=\"64.37\" r=\"0.9\" id=\"fig-2817073d18f044f3929ff0e1a4e6f0e2-element-65\" stroke=\"#FFFFFF\" class=\"color_setosa\" fill=\"#00BFFF\"/>\n",
       "          <circle cx=\"34.37\" cy=\"65.27\" r=\"0.9\" id=\"fig-2817073d18f044f3929ff0e1a4e6f0e2-element-66\" stroke=\"#FFFFFF\" class=\"color_setosa\" fill=\"#00BFFF\"/>\n",
       "          <circle cx=\"22.31\" cy=\"65.27\" r=\"0.9\" id=\"fig-2817073d18f044f3929ff0e1a4e6f0e2-element-67\" stroke=\"#FFFFFF\" class=\"color_setosa\" fill=\"#00BFFF\"/>\n",
       "          <circle cx=\"26.33\" cy=\"66.16\" r=\"0.9\" id=\"fig-2817073d18f044f3929ff0e1a4e6f0e2-element-68\" stroke=\"#FFFFFF\" class=\"color_setosa\" fill=\"#00BFFF\"/>\n",
       "          <circle cx=\"26.33\" cy=\"65.27\" r=\"0.9\" id=\"fig-2817073d18f044f3929ff0e1a4e6f0e2-element-69\" stroke=\"#FFFFFF\" class=\"color_setosa\" fill=\"#00BFFF\"/>\n",
       "          <circle cx=\"26.33\" cy=\"67.96\" r=\"0.9\" id=\"fig-2817073d18f044f3929ff0e1a4e6f0e2-element-70\" stroke=\"#FFFFFF\" class=\"color_setosa\" fill=\"#00BFFF\"/>\n",
       "          <circle cx=\"26.33\" cy=\"67.06\" r=\"0.9\" id=\"fig-2817073d18f044f3929ff0e1a4e6f0e2-element-71\" stroke=\"#FFFFFF\" class=\"color_setosa\" fill=\"#00BFFF\"/>\n",
       "          <circle cx=\"22.31\" cy=\"66.16\" r=\"0.9\" id=\"fig-2817073d18f044f3929ff0e1a4e6f0e2-element-72\" stroke=\"#FFFFFF\" class=\"color_setosa\" fill=\"#00BFFF\"/>\n",
       "          <circle cx=\"26.33\" cy=\"67.06\" r=\"0.9\" id=\"fig-2817073d18f044f3929ff0e1a4e6f0e2-element-73\" stroke=\"#FFFFFF\" class=\"color_setosa\" fill=\"#00BFFF\"/>\n",
       "          <circle cx=\"26.33\" cy=\"65.27\" r=\"0.9\" id=\"fig-2817073d18f044f3929ff0e1a4e6f0e2-element-74\" stroke=\"#FFFFFF\" class=\"color_setosa\" fill=\"#00BFFF\"/>\n",
       "          <circle cx=\"30.35\" cy=\"67.06\" r=\"0.9\" id=\"fig-2817073d18f044f3929ff0e1a4e6f0e2-element-75\" stroke=\"#FFFFFF\" class=\"color_setosa\" fill=\"#00BFFF\"/>\n",
       "          <circle cx=\"30.35\" cy=\"67.06\" r=\"0.9\" id=\"fig-2817073d18f044f3929ff0e1a4e6f0e2-element-76\" stroke=\"#FFFFFF\" class=\"color_setosa\" fill=\"#00BFFF\"/>\n",
       "          <circle cx=\"26.33\" cy=\"67.06\" r=\"0.9\" id=\"fig-2817073d18f044f3929ff0e1a4e6f0e2-element-77\" stroke=\"#FFFFFF\" class=\"color_setosa\" fill=\"#00BFFF\"/>\n",
       "          <circle cx=\"42.42\" cy=\"64.37\" r=\"0.9\" id=\"fig-2817073d18f044f3929ff0e1a4e6f0e2-element-78\" stroke=\"#FFFFFF\" class=\"color_setosa\" fill=\"#00BFFF\"/>\n",
       "          <circle cx=\"34.37\" cy=\"61.68\" r=\"0.9\" id=\"fig-2817073d18f044f3929ff0e1a4e6f0e2-element-79\" stroke=\"#FFFFFF\" class=\"color_setosa\" fill=\"#00BFFF\"/>\n",
       "          <circle cx=\"30.35\" cy=\"66.16\" r=\"0.9\" id=\"fig-2817073d18f044f3929ff0e1a4e6f0e2-element-80\" stroke=\"#FFFFFF\" class=\"color_setosa\" fill=\"#00BFFF\"/>\n",
       "          <circle cx=\"26.33\" cy=\"64.37\" r=\"0.9\" id=\"fig-2817073d18f044f3929ff0e1a4e6f0e2-element-81\" stroke=\"#FFFFFF\" class=\"color_setosa\" fill=\"#00BFFF\"/>\n",
       "          <circle cx=\"26.33\" cy=\"66.16\" r=\"0.9\" id=\"fig-2817073d18f044f3929ff0e1a4e6f0e2-element-82\" stroke=\"#FFFFFF\" class=\"color_setosa\" fill=\"#00BFFF\"/>\n",
       "          <circle cx=\"26.33\" cy=\"65.27\" r=\"0.9\" id=\"fig-2817073d18f044f3929ff0e1a4e6f0e2-element-83\" stroke=\"#FFFFFF\" class=\"color_setosa\" fill=\"#00BFFF\"/>\n",
       "          <circle cx=\"26.33\" cy=\"66.16\" r=\"0.9\" id=\"fig-2817073d18f044f3929ff0e1a4e6f0e2-element-84\" stroke=\"#FFFFFF\" class=\"color_setosa\" fill=\"#00BFFF\"/>\n",
       "          <circle cx=\"74.59\" cy=\"36.58\" r=\"0.9\" id=\"fig-2817073d18f044f3929ff0e1a4e6f0e2-element-85\" stroke=\"#FFFFFF\" class=\"color_versicolor\" fill=\"#D4CA3A\"/>\n",
       "          <circle cx=\"78.61\" cy=\"38.38\" r=\"0.9\" id=\"fig-2817073d18f044f3929ff0e1a4e6f0e2-element-86\" stroke=\"#FFFFFF\" class=\"color_versicolor\" fill=\"#D4CA3A\"/>\n",
       "          <circle cx=\"78.61\" cy=\"34.79\" r=\"0.9\" id=\"fig-2817073d18f044f3929ff0e1a4e6f0e2-element-87\" stroke=\"#FFFFFF\" class=\"color_versicolor\" fill=\"#D4CA3A\"/>\n",
       "          <circle cx=\"70.57\" cy=\"42.86\" r=\"0.9\" id=\"fig-2817073d18f044f3929ff0e1a4e6f0e2-element-88\" stroke=\"#FFFFFF\" class=\"color_versicolor\" fill=\"#D4CA3A\"/>\n",
       "          <circle cx=\"78.61\" cy=\"37.48\" r=\"0.9\" id=\"fig-2817073d18f044f3929ff0e1a4e6f0e2-element-89\" stroke=\"#FFFFFF\" class=\"color_versicolor\" fill=\"#D4CA3A\"/>\n",
       "          <circle cx=\"70.57\" cy=\"38.38\" r=\"0.9\" id=\"fig-2817073d18f044f3929ff0e1a4e6f0e2-element-90\" stroke=\"#FFFFFF\" class=\"color_versicolor\" fill=\"#D4CA3A\"/>\n",
       "          <circle cx=\"82.63\" cy=\"36.58\" r=\"0.9\" id=\"fig-2817073d18f044f3929ff0e1a4e6f0e2-element-91\" stroke=\"#FFFFFF\" class=\"color_versicolor\" fill=\"#D4CA3A\"/>\n",
       "          <circle cx=\"58.5\" cy=\"49.13\" r=\"0.9\" id=\"fig-2817073d18f044f3929ff0e1a4e6f0e2-element-92\" stroke=\"#FFFFFF\" class=\"color_versicolor\" fill=\"#D4CA3A\"/>\n",
       "          <circle cx=\"70.57\" cy=\"37.48\" r=\"0.9\" id=\"fig-2817073d18f044f3929ff0e1a4e6f0e2-element-93\" stroke=\"#FFFFFF\" class=\"color_versicolor\" fill=\"#D4CA3A\"/>\n",
       "          <circle cx=\"74.59\" cy=\"43.75\" r=\"0.9\" id=\"fig-2817073d18f044f3929ff0e1a4e6f0e2-element-94\" stroke=\"#FFFFFF\" class=\"color_versicolor\" fill=\"#D4CA3A\"/>\n",
       "          <circle cx=\"58.5\" cy=\"47.34\" r=\"0.9\" id=\"fig-2817073d18f044f3929ff0e1a4e6f0e2-element-95\" stroke=\"#FFFFFF\" class=\"color_versicolor\" fill=\"#D4CA3A\"/>\n",
       "          <circle cx=\"78.61\" cy=\"41.06\" r=\"0.9\" id=\"fig-2817073d18f044f3929ff0e1a4e6f0e2-element-96\" stroke=\"#FFFFFF\" class=\"color_versicolor\" fill=\"#D4CA3A\"/>\n",
       "          <circle cx=\"58.5\" cy=\"42.86\" r=\"0.9\" id=\"fig-2817073d18f044f3929ff0e1a4e6f0e2-element-97\" stroke=\"#FFFFFF\" class=\"color_versicolor\" fill=\"#D4CA3A\"/>\n",
       "          <circle cx=\"74.59\" cy=\"36.58\" r=\"0.9\" id=\"fig-2817073d18f044f3929ff0e1a4e6f0e2-element-98\" stroke=\"#FFFFFF\" class=\"color_versicolor\" fill=\"#D4CA3A\"/>\n",
       "          <circle cx=\"70.57\" cy=\"46.44\" r=\"0.9\" id=\"fig-2817073d18f044f3929ff0e1a4e6f0e2-element-99\" stroke=\"#FFFFFF\" class=\"color_versicolor\" fill=\"#D4CA3A\"/>\n",
       "          <circle cx=\"74.59\" cy=\"39.27\" r=\"0.9\" id=\"fig-2817073d18f044f3929ff0e1a4e6f0e2-element-100\" stroke=\"#FFFFFF\" class=\"color_versicolor\" fill=\"#D4CA3A\"/>\n",
       "          <circle cx=\"78.61\" cy=\"38.38\" r=\"0.9\" id=\"fig-2817073d18f044f3929ff0e1a4e6f0e2-element-101\" stroke=\"#FFFFFF\" class=\"color_versicolor\" fill=\"#D4CA3A\"/>\n",
       "          <circle cx=\"58.5\" cy=\"41.96\" r=\"0.9\" id=\"fig-2817073d18f044f3929ff0e1a4e6f0e2-element-102\" stroke=\"#FFFFFF\" class=\"color_versicolor\" fill=\"#D4CA3A\"/>\n",
       "          <circle cx=\"78.61\" cy=\"38.38\" r=\"0.9\" id=\"fig-2817073d18f044f3929ff0e1a4e6f0e2-element-103\" stroke=\"#FFFFFF\" class=\"color_versicolor\" fill=\"#D4CA3A\"/>\n",
       "          <circle cx=\"62.52\" cy=\"43.75\" r=\"0.9\" id=\"fig-2817073d18f044f3929ff0e1a4e6f0e2-element-104\" stroke=\"#FFFFFF\" class=\"color_versicolor\" fill=\"#D4CA3A\"/>\n",
       "          <circle cx=\"90.68\" cy=\"35.69\" r=\"0.9\" id=\"fig-2817073d18f044f3929ff0e1a4e6f0e2-element-105\" stroke=\"#FFFFFF\" class=\"color_versicolor\" fill=\"#D4CA3A\"/>\n",
       "          <circle cx=\"70.57\" cy=\"42.86\" r=\"0.9\" id=\"fig-2817073d18f044f3929ff0e1a4e6f0e2-element-106\" stroke=\"#FFFFFF\" class=\"color_versicolor\" fill=\"#D4CA3A\"/>\n",
       "          <circle cx=\"78.61\" cy=\"34.79\" r=\"0.9\" id=\"fig-2817073d18f044f3929ff0e1a4e6f0e2-element-107\" stroke=\"#FFFFFF\" class=\"color_versicolor\" fill=\"#D4CA3A\"/>\n",
       "          <circle cx=\"66.55\" cy=\"36.58\" r=\"0.9\" id=\"fig-2817073d18f044f3929ff0e1a4e6f0e2-element-108\" stroke=\"#FFFFFF\" class=\"color_versicolor\" fill=\"#D4CA3A\"/>\n",
       "          <circle cx=\"70.57\" cy=\"40.17\" r=\"0.9\" id=\"fig-2817073d18f044f3929ff0e1a4e6f0e2-element-109\" stroke=\"#FFFFFF\" class=\"color_versicolor\" fill=\"#D4CA3A\"/>\n",
       "          <circle cx=\"74.59\" cy=\"39.27\" r=\"0.9\" id=\"fig-2817073d18f044f3929ff0e1a4e6f0e2-element-110\" stroke=\"#FFFFFF\" class=\"color_versicolor\" fill=\"#D4CA3A\"/>\n",
       "          <circle cx=\"74.59\" cy=\"35.69\" r=\"0.9\" id=\"fig-2817073d18f044f3929ff0e1a4e6f0e2-element-111\" stroke=\"#FFFFFF\" class=\"color_versicolor\" fill=\"#D4CA3A\"/>\n",
       "          <circle cx=\"86.65\" cy=\"33.89\" r=\"0.9\" id=\"fig-2817073d18f044f3929ff0e1a4e6f0e2-element-112\" stroke=\"#FFFFFF\" class=\"color_versicolor\" fill=\"#D4CA3A\"/>\n",
       "          <circle cx=\"78.61\" cy=\"38.38\" r=\"0.9\" id=\"fig-2817073d18f044f3929ff0e1a4e6f0e2-element-113\" stroke=\"#FFFFFF\" class=\"color_versicolor\" fill=\"#D4CA3A\"/>\n",
       "          <circle cx=\"58.5\" cy=\"47.34\" r=\"0.9\" id=\"fig-2817073d18f044f3929ff0e1a4e6f0e2-element-114\" stroke=\"#FFFFFF\" class=\"color_versicolor\" fill=\"#D4CA3A\"/>\n",
       "          <circle cx=\"62.52\" cy=\"44.65\" r=\"0.9\" id=\"fig-2817073d18f044f3929ff0e1a4e6f0e2-element-115\" stroke=\"#FFFFFF\" class=\"color_versicolor\" fill=\"#D4CA3A\"/>\n",
       "          <circle cx=\"58.5\" cy=\"45.55\" r=\"0.9\" id=\"fig-2817073d18f044f3929ff0e1a4e6f0e2-element-116\" stroke=\"#FFFFFF\" class=\"color_versicolor\" fill=\"#D4CA3A\"/>\n",
       "          <circle cx=\"66.55\" cy=\"43.75\" r=\"0.9\" id=\"fig-2817073d18f044f3929ff0e1a4e6f0e2-element-117\" stroke=\"#FFFFFF\" class=\"color_versicolor\" fill=\"#D4CA3A\"/>\n",
       "          <circle cx=\"82.63\" cy=\"33\" r=\"0.9\" id=\"fig-2817073d18f044f3929ff0e1a4e6f0e2-element-118\" stroke=\"#FFFFFF\" class=\"color_versicolor\" fill=\"#D4CA3A\"/>\n",
       "          <circle cx=\"78.61\" cy=\"38.38\" r=\"0.9\" id=\"fig-2817073d18f044f3929ff0e1a4e6f0e2-element-119\" stroke=\"#FFFFFF\" class=\"color_versicolor\" fill=\"#D4CA3A\"/>\n",
       "          <circle cx=\"82.63\" cy=\"38.38\" r=\"0.9\" id=\"fig-2817073d18f044f3929ff0e1a4e6f0e2-element-120\" stroke=\"#FFFFFF\" class=\"color_versicolor\" fill=\"#D4CA3A\"/>\n",
       "          <circle cx=\"78.61\" cy=\"36.58\" r=\"0.9\" id=\"fig-2817073d18f044f3929ff0e1a4e6f0e2-element-121\" stroke=\"#FFFFFF\" class=\"color_versicolor\" fill=\"#D4CA3A\"/>\n",
       "          <circle cx=\"70.57\" cy=\"39.27\" r=\"0.9\" id=\"fig-2817073d18f044f3929ff0e1a4e6f0e2-element-122\" stroke=\"#FFFFFF\" class=\"color_versicolor\" fill=\"#D4CA3A\"/>\n",
       "          <circle cx=\"70.57\" cy=\"41.96\" r=\"0.9\" id=\"fig-2817073d18f044f3929ff0e1a4e6f0e2-element-123\" stroke=\"#FFFFFF\" class=\"color_versicolor\" fill=\"#D4CA3A\"/>\n",
       "          <circle cx=\"70.57\" cy=\"42.86\" r=\"0.9\" id=\"fig-2817073d18f044f3929ff0e1a4e6f0e2-element-124\" stroke=\"#FFFFFF\" class=\"color_versicolor\" fill=\"#D4CA3A\"/>\n",
       "          <circle cx=\"66.55\" cy=\"39.27\" r=\"0.9\" id=\"fig-2817073d18f044f3929ff0e1a4e6f0e2-element-125\" stroke=\"#FFFFFF\" class=\"color_versicolor\" fill=\"#D4CA3A\"/>\n",
       "          <circle cx=\"74.59\" cy=\"37.48\" r=\"0.9\" id=\"fig-2817073d18f044f3929ff0e1a4e6f0e2-element-126\" stroke=\"#FFFFFF\" class=\"color_versicolor\" fill=\"#D4CA3A\"/>\n",
       "          <circle cx=\"66.55\" cy=\"42.86\" r=\"0.9\" id=\"fig-2817073d18f044f3929ff0e1a4e6f0e2-element-127\" stroke=\"#FFFFFF\" class=\"color_versicolor\" fill=\"#D4CA3A\"/>\n",
       "          <circle cx=\"58.5\" cy=\"49.13\" r=\"0.9\" id=\"fig-2817073d18f044f3929ff0e1a4e6f0e2-element-128\" stroke=\"#FFFFFF\" class=\"color_versicolor\" fill=\"#D4CA3A\"/>\n",
       "          <circle cx=\"70.57\" cy=\"41.06\" r=\"0.9\" id=\"fig-2817073d18f044f3929ff0e1a4e6f0e2-element-129\" stroke=\"#FFFFFF\" class=\"color_versicolor\" fill=\"#D4CA3A\"/>\n",
       "          <circle cx=\"66.55\" cy=\"41.06\" r=\"0.9\" id=\"fig-2817073d18f044f3929ff0e1a4e6f0e2-element-130\" stroke=\"#FFFFFF\" class=\"color_versicolor\" fill=\"#D4CA3A\"/>\n",
       "          <circle cx=\"70.57\" cy=\"41.06\" r=\"0.9\" id=\"fig-2817073d18f044f3929ff0e1a4e6f0e2-element-131\" stroke=\"#FFFFFF\" class=\"color_versicolor\" fill=\"#D4CA3A\"/>\n",
       "          <circle cx=\"70.57\" cy=\"40.17\" r=\"0.9\" id=\"fig-2817073d18f044f3929ff0e1a4e6f0e2-element-132\" stroke=\"#FFFFFF\" class=\"color_versicolor\" fill=\"#D4CA3A\"/>\n",
       "          <circle cx=\"62.52\" cy=\"51.82\" r=\"0.9\" id=\"fig-2817073d18f044f3929ff0e1a4e6f0e2-element-133\" stroke=\"#FFFFFF\" class=\"color_versicolor\" fill=\"#D4CA3A\"/>\n",
       "          <circle cx=\"70.57\" cy=\"41.96\" r=\"0.9\" id=\"fig-2817073d18f044f3929ff0e1a4e6f0e2-element-134\" stroke=\"#FFFFFF\" class=\"color_versicolor\" fill=\"#D4CA3A\"/>\n",
       "          <circle cx=\"118.83\" cy=\"24.93\" r=\"0.9\" id=\"fig-2817073d18f044f3929ff0e1a4e6f0e2-element-135\" stroke=\"#FFFFFF\" class=\"color_virginica\" fill=\"#FF5EA0\"/>\n",
       "          <circle cx=\"94.7\" cy=\"33\" r=\"0.9\" id=\"fig-2817073d18f044f3929ff0e1a4e6f0e2-element-136\" stroke=\"#FFFFFF\" class=\"color_virginica\" fill=\"#FF5EA0\"/>\n",
       "          <circle cx=\"102.74\" cy=\"25.83\" r=\"0.9\" id=\"fig-2817073d18f044f3929ff0e1a4e6f0e2-element-137\" stroke=\"#FFFFFF\" class=\"color_virginica\" fill=\"#FF5EA0\"/>\n",
       "          <circle cx=\"90.68\" cy=\"28.51\" r=\"0.9\" id=\"fig-2817073d18f044f3929ff0e1a4e6f0e2-element-138\" stroke=\"#FFFFFF\" class=\"color_virginica\" fill=\"#FF5EA0\"/>\n",
       "          <circle cx=\"106.76\" cy=\"26.72\" r=\"0.9\" id=\"fig-2817073d18f044f3929ff0e1a4e6f0e2-element-139\" stroke=\"#FFFFFF\" class=\"color_virginica\" fill=\"#FF5EA0\"/>\n",
       "          <circle cx=\"102.74\" cy=\"19.55\" r=\"0.9\" id=\"fig-2817073d18f044f3929ff0e1a4e6f0e2-element-140\" stroke=\"#FFFFFF\" class=\"color_virginica\" fill=\"#FF5EA0\"/>\n",
       "          <circle cx=\"86.65\" cy=\"38.38\" r=\"0.9\" id=\"fig-2817073d18f044f3929ff0e1a4e6f0e2-element-141\" stroke=\"#FFFFFF\" class=\"color_virginica\" fill=\"#FF5EA0\"/>\n",
       "          <circle cx=\"90.68\" cy=\"22.24\" r=\"0.9\" id=\"fig-2817073d18f044f3929ff0e1a4e6f0e2-element-142\" stroke=\"#FFFFFF\" class=\"color_virginica\" fill=\"#FF5EA0\"/>\n",
       "          <circle cx=\"90.68\" cy=\"26.72\" r=\"0.9\" id=\"fig-2817073d18f044f3929ff0e1a4e6f0e2-element-143\" stroke=\"#FFFFFF\" class=\"color_virginica\" fill=\"#FF5EA0\"/>\n",
       "          <circle cx=\"118.83\" cy=\"24.03\" r=\"0.9\" id=\"fig-2817073d18f044f3929ff0e1a4e6f0e2-element-144\" stroke=\"#FFFFFF\" class=\"color_virginica\" fill=\"#FF5EA0\"/>\n",
       "          <circle cx=\"98.72\" cy=\"33\" r=\"0.9\" id=\"fig-2817073d18f044f3929ff0e1a4e6f0e2-element-145\" stroke=\"#FFFFFF\" class=\"color_virginica\" fill=\"#FF5EA0\"/>\n",
       "          <circle cx=\"94.7\" cy=\"31.2\" r=\"0.9\" id=\"fig-2817073d18f044f3929ff0e1a4e6f0e2-element-146\" stroke=\"#FFFFFF\" class=\"color_virginica\" fill=\"#FF5EA0\"/>\n",
       "          <circle cx=\"102.74\" cy=\"29.41\" r=\"0.9\" id=\"fig-2817073d18f044f3929ff0e1a4e6f0e2-element-147\" stroke=\"#FFFFFF\" class=\"color_virginica\" fill=\"#FF5EA0\"/>\n",
       "          <circle cx=\"98.72\" cy=\"33.89\" r=\"0.9\" id=\"fig-2817073d18f044f3929ff0e1a4e6f0e2-element-148\" stroke=\"#FFFFFF\" class=\"color_virginica\" fill=\"#FF5EA0\"/>\n",
       "          <circle cx=\"114.81\" cy=\"33\" r=\"0.9\" id=\"fig-2817073d18f044f3929ff0e1a4e6f0e2-element-149\" stroke=\"#FFFFFF\" class=\"color_virginica\" fill=\"#FF5EA0\"/>\n",
       "          <circle cx=\"110.78\" cy=\"31.2\" r=\"0.9\" id=\"fig-2817073d18f044f3929ff0e1a4e6f0e2-element-150\" stroke=\"#FFFFFF\" class=\"color_virginica\" fill=\"#FF5EA0\"/>\n",
       "          <circle cx=\"90.68\" cy=\"29.41\" r=\"0.9\" id=\"fig-2817073d18f044f3929ff0e1a4e6f0e2-element-151\" stroke=\"#FFFFFF\" class=\"color_virginica\" fill=\"#FF5EA0\"/>\n",
       "          <circle cx=\"106.76\" cy=\"18.65\" r=\"0.9\" id=\"fig-2817073d18f044f3929ff0e1a4e6f0e2-element-152\" stroke=\"#FFFFFF\" class=\"color_virginica\" fill=\"#FF5EA0\"/>\n",
       "          <circle cx=\"110.78\" cy=\"16.86\" r=\"0.9\" id=\"fig-2817073d18f044f3929ff0e1a4e6f0e2-element-153\" stroke=\"#FFFFFF\" class=\"color_virginica\" fill=\"#FF5EA0\"/>\n",
       "          <circle cx=\"78.61\" cy=\"33.89\" r=\"0.9\" id=\"fig-2817073d18f044f3929ff0e1a4e6f0e2-element-154\" stroke=\"#FFFFFF\" class=\"color_virginica\" fill=\"#FF5EA0\"/>\n",
       "          <circle cx=\"110.78\" cy=\"27.62\" r=\"0.9\" id=\"fig-2817073d18f044f3929ff0e1a4e6f0e2-element-155\" stroke=\"#FFFFFF\" class=\"color_virginica\" fill=\"#FF5EA0\"/>\n",
       "          <circle cx=\"98.72\" cy=\"34.79\" r=\"0.9\" id=\"fig-2817073d18f044f3929ff0e1a4e6f0e2-element-156\" stroke=\"#FFFFFF\" class=\"color_virginica\" fill=\"#FF5EA0\"/>\n",
       "          <circle cx=\"98.72\" cy=\"18.65\" r=\"0.9\" id=\"fig-2817073d18f044f3929ff0e1a4e6f0e2-element-157\" stroke=\"#FFFFFF\" class=\"color_virginica\" fill=\"#FF5EA0\"/>\n",
       "          <circle cx=\"90.68\" cy=\"34.79\" r=\"0.9\" id=\"fig-2817073d18f044f3929ff0e1a4e6f0e2-element-158\" stroke=\"#FFFFFF\" class=\"color_virginica\" fill=\"#FF5EA0\"/>\n",
       "          <circle cx=\"102.74\" cy=\"27.62\" r=\"0.9\" id=\"fig-2817073d18f044f3929ff0e1a4e6f0e2-element-159\" stroke=\"#FFFFFF\" class=\"color_virginica\" fill=\"#FF5EA0\"/>\n",
       "          <circle cx=\"90.68\" cy=\"24.93\" r=\"0.9\" id=\"fig-2817073d18f044f3929ff0e1a4e6f0e2-element-160\" stroke=\"#FFFFFF\" class=\"color_virginica\" fill=\"#FF5EA0\"/>\n",
       "          <circle cx=\"90.68\" cy=\"35.69\" r=\"0.9\" id=\"fig-2817073d18f044f3929ff0e1a4e6f0e2-element-161\" stroke=\"#FFFFFF\" class=\"color_virginica\" fill=\"#FF5EA0\"/>\n",
       "          <circle cx=\"90.68\" cy=\"34.79\" r=\"0.9\" id=\"fig-2817073d18f044f3929ff0e1a4e6f0e2-element-162\" stroke=\"#FFFFFF\" class=\"color_virginica\" fill=\"#FF5EA0\"/>\n",
       "          <circle cx=\"102.74\" cy=\"28.51\" r=\"0.9\" id=\"fig-2817073d18f044f3929ff0e1a4e6f0e2-element-163\" stroke=\"#FFFFFF\" class=\"color_virginica\" fill=\"#FF5EA0\"/>\n",
       "          <circle cx=\"82.63\" cy=\"26.72\" r=\"0.9\" id=\"fig-2817073d18f044f3929ff0e1a4e6f0e2-element-164\" stroke=\"#FFFFFF\" class=\"color_virginica\" fill=\"#FF5EA0\"/>\n",
       "          <circle cx=\"94.7\" cy=\"24.03\" r=\"0.9\" id=\"fig-2817073d18f044f3929ff0e1a4e6f0e2-element-165\" stroke=\"#FFFFFF\" class=\"color_virginica\" fill=\"#FF5EA0\"/>\n",
       "          <circle cx=\"98.72\" cy=\"21.34\" r=\"0.9\" id=\"fig-2817073d18f044f3929ff0e1a4e6f0e2-element-166\" stroke=\"#FFFFFF\" class=\"color_virginica\" fill=\"#FF5EA0\"/>\n",
       "          <circle cx=\"106.76\" cy=\"28.51\" r=\"0.9\" id=\"fig-2817073d18f044f3929ff0e1a4e6f0e2-element-167\" stroke=\"#FFFFFF\" class=\"color_virginica\" fill=\"#FF5EA0\"/>\n",
       "          <circle cx=\"78.61\" cy=\"33\" r=\"0.9\" id=\"fig-2817073d18f044f3929ff0e1a4e6f0e2-element-168\" stroke=\"#FFFFFF\" class=\"color_virginica\" fill=\"#FF5EA0\"/>\n",
       "          <circle cx=\"74.59\" cy=\"28.51\" r=\"0.9\" id=\"fig-2817073d18f044f3929ff0e1a4e6f0e2-element-169\" stroke=\"#FFFFFF\" class=\"color_virginica\" fill=\"#FF5EA0\"/>\n",
       "          <circle cx=\"110.78\" cy=\"24.03\" r=\"0.9\" id=\"fig-2817073d18f044f3929ff0e1a4e6f0e2-element-170\" stroke=\"#FFFFFF\" class=\"color_virginica\" fill=\"#FF5EA0\"/>\n",
       "          <circle cx=\"114.81\" cy=\"28.51\" r=\"0.9\" id=\"fig-2817073d18f044f3929ff0e1a4e6f0e2-element-171\" stroke=\"#FFFFFF\" class=\"color_virginica\" fill=\"#FF5EA0\"/>\n",
       "          <circle cx=\"90.68\" cy=\"29.41\" r=\"0.9\" id=\"fig-2817073d18f044f3929ff0e1a4e6f0e2-element-172\" stroke=\"#FFFFFF\" class=\"color_virginica\" fill=\"#FF5EA0\"/>\n",
       "          <circle cx=\"90.68\" cy=\"35.69\" r=\"0.9\" id=\"fig-2817073d18f044f3929ff0e1a4e6f0e2-element-173\" stroke=\"#FFFFFF\" class=\"color_virginica\" fill=\"#FF5EA0\"/>\n",
       "          <circle cx=\"102.74\" cy=\"30.31\" r=\"0.9\" id=\"fig-2817073d18f044f3929ff0e1a4e6f0e2-element-174\" stroke=\"#FFFFFF\" class=\"color_virginica\" fill=\"#FF5EA0\"/>\n",
       "          <circle cx=\"114.81\" cy=\"28.51\" r=\"0.9\" id=\"fig-2817073d18f044f3929ff0e1a4e6f0e2-element-175\" stroke=\"#FFFFFF\" class=\"color_virginica\" fill=\"#FF5EA0\"/>\n",
       "          <circle cx=\"110.78\" cy=\"33\" r=\"0.9\" id=\"fig-2817073d18f044f3929ff0e1a4e6f0e2-element-176\" stroke=\"#FFFFFF\" class=\"color_virginica\" fill=\"#FF5EA0\"/>\n",
       "          <circle cx=\"94.7\" cy=\"33\" r=\"0.9\" id=\"fig-2817073d18f044f3929ff0e1a4e6f0e2-element-177\" stroke=\"#FFFFFF\" class=\"color_virginica\" fill=\"#FF5EA0\"/>\n",
       "          <circle cx=\"110.78\" cy=\"25.83\" r=\"0.9\" id=\"fig-2817073d18f044f3929ff0e1a4e6f0e2-element-178\" stroke=\"#FFFFFF\" class=\"color_virginica\" fill=\"#FF5EA0\"/>\n",
       "          <circle cx=\"118.83\" cy=\"27.62\" r=\"0.9\" id=\"fig-2817073d18f044f3929ff0e1a4e6f0e2-element-179\" stroke=\"#FFFFFF\" class=\"color_virginica\" fill=\"#FF5EA0\"/>\n",
       "          <circle cx=\"110.78\" cy=\"32.1\" r=\"0.9\" id=\"fig-2817073d18f044f3929ff0e1a4e6f0e2-element-180\" stroke=\"#FFFFFF\" class=\"color_virginica\" fill=\"#FF5EA0\"/>\n",
       "          <circle cx=\"94.7\" cy=\"33.89\" r=\"0.9\" id=\"fig-2817073d18f044f3929ff0e1a4e6f0e2-element-181\" stroke=\"#FFFFFF\" class=\"color_virginica\" fill=\"#FF5EA0\"/>\n",
       "          <circle cx=\"98.72\" cy=\"32.1\" r=\"0.9\" id=\"fig-2817073d18f044f3929ff0e1a4e6f0e2-element-182\" stroke=\"#FFFFFF\" class=\"color_virginica\" fill=\"#FF5EA0\"/>\n",
       "          <circle cx=\"110.78\" cy=\"30.31\" r=\"0.9\" id=\"fig-2817073d18f044f3929ff0e1a4e6f0e2-element-183\" stroke=\"#FFFFFF\" class=\"color_virginica\" fill=\"#FF5EA0\"/>\n",
       "          <circle cx=\"90.68\" cy=\"33\" r=\"0.9\" id=\"fig-2817073d18f044f3929ff0e1a4e6f0e2-element-184\" stroke=\"#FFFFFF\" class=\"color_virginica\" fill=\"#FF5EA0\"/>\n",
       "        </g>\n",
       "      </g>\n",
       "    </g>\n",
       "  </g>\n",
       "  <g class=\"guide ylabels\" font-size=\"2.82\" font-family=\"'PT Sans Caption','Helvetica Neue','Helvetica',sans-serif\" fill=\"#6C606B\" id=\"fig-2817073d18f044f3929ff0e1a4e6f0e2-element-185\">\n",
       "    <text x=\"15.29\" y=\"78.71\" text-anchor=\"end\" dy=\"0.35em\" id=\"fig-2817073d18f044f3929ff0e1a4e6f0e2-element-186\">0</text>\n",
       "    <text x=\"15.29\" y=\"60.79\" text-anchor=\"end\" dy=\"0.35em\" id=\"fig-2817073d18f044f3929ff0e1a4e6f0e2-element-187\">2</text>\n",
       "    <text x=\"15.29\" y=\"42.86\" text-anchor=\"end\" dy=\"0.35em\" id=\"fig-2817073d18f044f3929ff0e1a4e6f0e2-element-188\">4</text>\n",
       "    <text x=\"15.29\" y=\"24.93\" text-anchor=\"end\" dy=\"0.35em\" id=\"fig-2817073d18f044f3929ff0e1a4e6f0e2-element-189\">6</text>\n",
       "    <text x=\"15.29\" y=\"7\" text-anchor=\"end\" dy=\"0.35em\" id=\"fig-2817073d18f044f3929ff0e1a4e6f0e2-element-190\">8</text>\n",
       "  </g>\n",
       "  <g font-size=\"3.88\" font-family=\"'PT Sans','Helvetica Neue','Helvetica',sans-serif\" fill=\"#564A55\" stroke=\"none\" id=\"fig-2817073d18f044f3929ff0e1a4e6f0e2-element-191\">\n",
       "    <text x=\"8.81\" y=\"40.86\" text-anchor=\"middle\" dy=\"0.35em\" transform=\"rotate(-90, 8.81, 42.86)\" id=\"fig-2817073d18f044f3929ff0e1a4e6f0e2-element-192\">PetalLength</text>\n",
       "  </g>\n",
       "</g>\n",
       "<defs>\n",
       "<clipPath id=\"fig-2817073d18f044f3929ff0e1a4e6f0e2-element-16\">\n",
       "  <path d=\"M16.28,5 L 120.83 5 120.83 80.72 16.28 80.72\" />\n",
       "</clipPath\n",
       "></defs>\n",
       "</svg>\n"
      ],
      "text/html": [
       "<?xml version=\"1.0\" encoding=\"UTF-8\"?>\n",
       "<svg xmlns=\"http://www.w3.org/2000/svg\"\n",
       "     xmlns:xlink=\"http://www.w3.org/1999/xlink\"\n",
       "     xmlns:gadfly=\"http://www.gadflyjl.org/ns\"\n",
       "     version=\"1.2\"\n",
       "     width=\"141.42mm\" height=\"100mm\" viewBox=\"0 0 141.42 100\"\n",
       "     stroke=\"none\"\n",
       "     fill=\"#000000\"\n",
       "     stroke-width=\"0.3\"\n",
       "     font-size=\"3.88\"\n",
       "\n",
       "     id=\"fig-7af1b554904c4f478f3913ec9578349b\">\n",
       "<g class=\"plotroot xscalable yscalable\" id=\"fig-7af1b554904c4f478f3913ec9578349b-element-1\">\n",
       "  <g font-size=\"3.88\" font-family=\"'PT Sans','Helvetica Neue','Helvetica',sans-serif\" fill=\"#564A55\" stroke=\"none\" id=\"fig-7af1b554904c4f478f3913ec9578349b-element-2\">\n",
       "    <text x=\"68.56\" y=\"92\" text-anchor=\"middle\">PetalWidth</text>\n",
       "  </g>\n",
       "  <g class=\"guide xlabels\" font-size=\"2.82\" font-family=\"'PT Sans Caption','Helvetica Neue','Helvetica',sans-serif\" fill=\"#6C606B\" id=\"fig-7af1b554904c4f478f3913ec9578349b-element-3\">\n",
       "    <text x=\"-102.37\" y=\"84.39\" text-anchor=\"middle\" gadfly:scale=\"1.0\" visibility=\"hidden\">-3.0</text>\n",
       "    <text x=\"-82.26\" y=\"84.39\" text-anchor=\"middle\" gadfly:scale=\"1.0\" visibility=\"hidden\">-2.5</text>\n",
       "    <text x=\"-62.15\" y=\"84.39\" text-anchor=\"middle\" gadfly:scale=\"1.0\" visibility=\"hidden\">-2.0</text>\n",
       "    <text x=\"-42.04\" y=\"84.39\" text-anchor=\"middle\" gadfly:scale=\"1.0\" visibility=\"hidden\">-1.5</text>\n",
       "    <text x=\"-21.93\" y=\"84.39\" text-anchor=\"middle\" gadfly:scale=\"1.0\" visibility=\"hidden\">-1.0</text>\n",
       "    <text x=\"-1.82\" y=\"84.39\" text-anchor=\"middle\" gadfly:scale=\"1.0\" visibility=\"hidden\">-0.5</text>\n",
       "    <text x=\"18.28\" y=\"84.39\" text-anchor=\"middle\" gadfly:scale=\"1.0\" visibility=\"visible\">0.0</text>\n",
       "    <text x=\"38.39\" y=\"84.39\" text-anchor=\"middle\" gadfly:scale=\"1.0\" visibility=\"visible\">0.5</text>\n",
       "    <text x=\"58.5\" y=\"84.39\" text-anchor=\"middle\" gadfly:scale=\"1.0\" visibility=\"visible\">1.0</text>\n",
       "    <text x=\"78.61\" y=\"84.39\" text-anchor=\"middle\" gadfly:scale=\"1.0\" visibility=\"visible\">1.5</text>\n",
       "    <text x=\"98.72\" y=\"84.39\" text-anchor=\"middle\" gadfly:scale=\"1.0\" visibility=\"visible\">2.0</text>\n",
       "    <text x=\"118.83\" y=\"84.39\" text-anchor=\"middle\" gadfly:scale=\"1.0\" visibility=\"visible\">2.5</text>\n",
       "    <text x=\"138.94\" y=\"84.39\" text-anchor=\"middle\" gadfly:scale=\"1.0\" visibility=\"hidden\">3.0</text>\n",
       "    <text x=\"159.05\" y=\"84.39\" text-anchor=\"middle\" gadfly:scale=\"1.0\" visibility=\"hidden\">3.5</text>\n",
       "    <text x=\"179.15\" y=\"84.39\" text-anchor=\"middle\" gadfly:scale=\"1.0\" visibility=\"hidden\">4.0</text>\n",
       "    <text x=\"199.26\" y=\"84.39\" text-anchor=\"middle\" gadfly:scale=\"1.0\" visibility=\"hidden\">4.5</text>\n",
       "    <text x=\"219.37\" y=\"84.39\" text-anchor=\"middle\" gadfly:scale=\"1.0\" visibility=\"hidden\">5.0</text>\n",
       "    <text x=\"239.48\" y=\"84.39\" text-anchor=\"middle\" gadfly:scale=\"1.0\" visibility=\"hidden\">5.5</text>\n",
       "    <text x=\"-82.26\" y=\"84.39\" text-anchor=\"middle\" gadfly:scale=\"10.0\" visibility=\"hidden\">-2.5</text>\n",
       "    <text x=\"-78.24\" y=\"84.39\" text-anchor=\"middle\" gadfly:scale=\"10.0\" visibility=\"hidden\">-2.4</text>\n",
       "    <text x=\"-74.21\" y=\"84.39\" text-anchor=\"middle\" gadfly:scale=\"10.0\" visibility=\"hidden\">-2.3</text>\n",
       "    <text x=\"-70.19\" y=\"84.39\" text-anchor=\"middle\" gadfly:scale=\"10.0\" visibility=\"hidden\">-2.2</text>\n",
       "    <text x=\"-66.17\" y=\"84.39\" text-anchor=\"middle\" gadfly:scale=\"10.0\" visibility=\"hidden\">-2.1</text>\n",
       "    <text x=\"-62.15\" y=\"84.39\" text-anchor=\"middle\" gadfly:scale=\"10.0\" visibility=\"hidden\">-2.0</text>\n",
       "    <text x=\"-58.13\" y=\"84.39\" text-anchor=\"middle\" gadfly:scale=\"10.0\" visibility=\"hidden\">-1.9</text>\n",
       "    <text x=\"-54.11\" y=\"84.39\" text-anchor=\"middle\" gadfly:scale=\"10.0\" visibility=\"hidden\">-1.8</text>\n",
       "    <text x=\"-50.08\" y=\"84.39\" text-anchor=\"middle\" gadfly:scale=\"10.0\" visibility=\"hidden\">-1.7</text>\n",
       "    <text x=\"-46.06\" y=\"84.39\" text-anchor=\"middle\" gadfly:scale=\"10.0\" visibility=\"hidden\">-1.6</text>\n",
       "    <text x=\"-42.04\" y=\"84.39\" text-anchor=\"middle\" gadfly:scale=\"10.0\" visibility=\"hidden\">-1.5</text>\n",
       "    <text x=\"-38.02\" y=\"84.39\" text-anchor=\"middle\" gadfly:scale=\"10.0\" visibility=\"hidden\">-1.4</text>\n",
       "    <text x=\"-34\" y=\"84.39\" text-anchor=\"middle\" gadfly:scale=\"10.0\" visibility=\"hidden\">-1.3</text>\n",
       "    <text x=\"-29.98\" y=\"84.39\" text-anchor=\"middle\" gadfly:scale=\"10.0\" visibility=\"hidden\">-1.2</text>\n",
       "    <text x=\"-25.95\" y=\"84.39\" text-anchor=\"middle\" gadfly:scale=\"10.0\" visibility=\"hidden\">-1.1</text>\n",
       "    <text x=\"-21.93\" y=\"84.39\" text-anchor=\"middle\" gadfly:scale=\"10.0\" visibility=\"hidden\">-1.0</text>\n",
       "    <text x=\"-17.91\" y=\"84.39\" text-anchor=\"middle\" gadfly:scale=\"10.0\" visibility=\"hidden\">-0.9</text>\n",
       "    <text x=\"-13.89\" y=\"84.39\" text-anchor=\"middle\" gadfly:scale=\"10.0\" visibility=\"hidden\">-0.8</text>\n",
       "    <text x=\"-9.87\" y=\"84.39\" text-anchor=\"middle\" gadfly:scale=\"10.0\" visibility=\"hidden\">-0.7</text>\n",
       "    <text x=\"-5.85\" y=\"84.39\" text-anchor=\"middle\" gadfly:scale=\"10.0\" visibility=\"hidden\">-0.6</text>\n",
       "    <text x=\"-1.82\" y=\"84.39\" text-anchor=\"middle\" gadfly:scale=\"10.0\" visibility=\"hidden\">-0.5</text>\n",
       "    <text x=\"2.2\" y=\"84.39\" text-anchor=\"middle\" gadfly:scale=\"10.0\" visibility=\"hidden\">-0.4</text>\n",
       "    <text x=\"6.22\" y=\"84.39\" text-anchor=\"middle\" gadfly:scale=\"10.0\" visibility=\"hidden\">-0.3</text>\n",
       "    <text x=\"10.24\" y=\"84.39\" text-anchor=\"middle\" gadfly:scale=\"10.0\" visibility=\"hidden\">-0.2</text>\n",
       "    <text x=\"14.26\" y=\"84.39\" text-anchor=\"middle\" gadfly:scale=\"10.0\" visibility=\"hidden\">-0.1</text>\n",
       "    <text x=\"18.28\" y=\"84.39\" text-anchor=\"middle\" gadfly:scale=\"10.0\" visibility=\"hidden\">0.0</text>\n",
       "    <text x=\"22.31\" y=\"84.39\" text-anchor=\"middle\" gadfly:scale=\"10.0\" visibility=\"hidden\">0.1</text>\n",
       "    <text x=\"26.33\" y=\"84.39\" text-anchor=\"middle\" gadfly:scale=\"10.0\" visibility=\"hidden\">0.2</text>\n",
       "    <text x=\"30.35\" y=\"84.39\" text-anchor=\"middle\" gadfly:scale=\"10.0\" visibility=\"hidden\">0.3</text>\n",
       "    <text x=\"34.37\" y=\"84.39\" text-anchor=\"middle\" gadfly:scale=\"10.0\" visibility=\"hidden\">0.4</text>\n",
       "    <text x=\"38.39\" y=\"84.39\" text-anchor=\"middle\" gadfly:scale=\"10.0\" visibility=\"hidden\">0.5</text>\n",
       "    <text x=\"42.42\" y=\"84.39\" text-anchor=\"middle\" gadfly:scale=\"10.0\" visibility=\"hidden\">0.6</text>\n",
       "    <text x=\"46.44\" y=\"84.39\" text-anchor=\"middle\" gadfly:scale=\"10.0\" visibility=\"hidden\">0.7</text>\n",
       "    <text x=\"50.46\" y=\"84.39\" text-anchor=\"middle\" gadfly:scale=\"10.0\" visibility=\"hidden\">0.8</text>\n",
       "    <text x=\"54.48\" y=\"84.39\" text-anchor=\"middle\" gadfly:scale=\"10.0\" visibility=\"hidden\">0.9</text>\n",
       "    <text x=\"58.5\" y=\"84.39\" text-anchor=\"middle\" gadfly:scale=\"10.0\" visibility=\"hidden\">1.0</text>\n",
       "    <text x=\"62.52\" y=\"84.39\" text-anchor=\"middle\" gadfly:scale=\"10.0\" visibility=\"hidden\">1.1</text>\n",
       "    <text x=\"66.55\" y=\"84.39\" text-anchor=\"middle\" gadfly:scale=\"10.0\" visibility=\"hidden\">1.2</text>\n",
       "    <text x=\"70.57\" y=\"84.39\" text-anchor=\"middle\" gadfly:scale=\"10.0\" visibility=\"hidden\">1.3</text>\n",
       "    <text x=\"74.59\" y=\"84.39\" text-anchor=\"middle\" gadfly:scale=\"10.0\" visibility=\"hidden\">1.4</text>\n",
       "    <text x=\"78.61\" y=\"84.39\" text-anchor=\"middle\" gadfly:scale=\"10.0\" visibility=\"hidden\">1.5</text>\n",
       "    <text x=\"82.63\" y=\"84.39\" text-anchor=\"middle\" gadfly:scale=\"10.0\" visibility=\"hidden\">1.6</text>\n",
       "    <text x=\"86.65\" y=\"84.39\" text-anchor=\"middle\" gadfly:scale=\"10.0\" visibility=\"hidden\">1.7</text>\n",
       "    <text x=\"90.68\" y=\"84.39\" text-anchor=\"middle\" gadfly:scale=\"10.0\" visibility=\"hidden\">1.8</text>\n",
       "    <text x=\"94.7\" y=\"84.39\" text-anchor=\"middle\" gadfly:scale=\"10.0\" visibility=\"hidden\">1.9</text>\n",
       "    <text x=\"98.72\" y=\"84.39\" text-anchor=\"middle\" gadfly:scale=\"10.0\" visibility=\"hidden\">2.0</text>\n",
       "    <text x=\"102.74\" y=\"84.39\" text-anchor=\"middle\" gadfly:scale=\"10.0\" visibility=\"hidden\">2.1</text>\n",
       "    <text x=\"106.76\" y=\"84.39\" text-anchor=\"middle\" gadfly:scale=\"10.0\" visibility=\"hidden\">2.2</text>\n",
       "    <text x=\"110.78\" y=\"84.39\" text-anchor=\"middle\" gadfly:scale=\"10.0\" visibility=\"hidden\">2.3</text>\n",
       "    <text x=\"114.81\" y=\"84.39\" text-anchor=\"middle\" gadfly:scale=\"10.0\" visibility=\"hidden\">2.4</text>\n",
       "    <text x=\"118.83\" y=\"84.39\" text-anchor=\"middle\" gadfly:scale=\"10.0\" visibility=\"hidden\">2.5</text>\n",
       "    <text x=\"122.85\" y=\"84.39\" text-anchor=\"middle\" gadfly:scale=\"10.0\" visibility=\"hidden\">2.6</text>\n",
       "    <text x=\"126.87\" y=\"84.39\" text-anchor=\"middle\" gadfly:scale=\"10.0\" visibility=\"hidden\">2.7</text>\n",
       "    <text x=\"130.89\" y=\"84.39\" text-anchor=\"middle\" gadfly:scale=\"10.0\" visibility=\"hidden\">2.8</text>\n",
       "    <text x=\"134.91\" y=\"84.39\" text-anchor=\"middle\" gadfly:scale=\"10.0\" visibility=\"hidden\">2.9</text>\n",
       "    <text x=\"138.94\" y=\"84.39\" text-anchor=\"middle\" gadfly:scale=\"10.0\" visibility=\"hidden\">3.0</text>\n",
       "    <text x=\"142.96\" y=\"84.39\" text-anchor=\"middle\" gadfly:scale=\"10.0\" visibility=\"hidden\">3.1</text>\n",
       "    <text x=\"146.98\" y=\"84.39\" text-anchor=\"middle\" gadfly:scale=\"10.0\" visibility=\"hidden\">3.2</text>\n",
       "    <text x=\"151\" y=\"84.39\" text-anchor=\"middle\" gadfly:scale=\"10.0\" visibility=\"hidden\">3.3</text>\n",
       "    <text x=\"155.02\" y=\"84.39\" text-anchor=\"middle\" gadfly:scale=\"10.0\" visibility=\"hidden\">3.4</text>\n",
       "    <text x=\"159.05\" y=\"84.39\" text-anchor=\"middle\" gadfly:scale=\"10.0\" visibility=\"hidden\">3.5</text>\n",
       "    <text x=\"163.07\" y=\"84.39\" text-anchor=\"middle\" gadfly:scale=\"10.0\" visibility=\"hidden\">3.6</text>\n",
       "    <text x=\"167.09\" y=\"84.39\" text-anchor=\"middle\" gadfly:scale=\"10.0\" visibility=\"hidden\">3.7</text>\n",
       "    <text x=\"171.11\" y=\"84.39\" text-anchor=\"middle\" gadfly:scale=\"10.0\" visibility=\"hidden\">3.8</text>\n",
       "    <text x=\"175.13\" y=\"84.39\" text-anchor=\"middle\" gadfly:scale=\"10.0\" visibility=\"hidden\">3.9</text>\n",
       "    <text x=\"179.15\" y=\"84.39\" text-anchor=\"middle\" gadfly:scale=\"10.0\" visibility=\"hidden\">4.0</text>\n",
       "    <text x=\"183.18\" y=\"84.39\" text-anchor=\"middle\" gadfly:scale=\"10.0\" visibility=\"hidden\">4.1</text>\n",
       "    <text x=\"187.2\" y=\"84.39\" text-anchor=\"middle\" gadfly:scale=\"10.0\" visibility=\"hidden\">4.2</text>\n",
       "    <text x=\"191.22\" y=\"84.39\" text-anchor=\"middle\" gadfly:scale=\"10.0\" visibility=\"hidden\">4.3</text>\n",
       "    <text x=\"195.24\" y=\"84.39\" text-anchor=\"middle\" gadfly:scale=\"10.0\" visibility=\"hidden\">4.4</text>\n",
       "    <text x=\"199.26\" y=\"84.39\" text-anchor=\"middle\" gadfly:scale=\"10.0\" visibility=\"hidden\">4.5</text>\n",
       "    <text x=\"203.28\" y=\"84.39\" text-anchor=\"middle\" gadfly:scale=\"10.0\" visibility=\"hidden\">4.6</text>\n",
       "    <text x=\"207.31\" y=\"84.39\" text-anchor=\"middle\" gadfly:scale=\"10.0\" visibility=\"hidden\">4.7</text>\n",
       "    <text x=\"211.33\" y=\"84.39\" text-anchor=\"middle\" gadfly:scale=\"10.0\" visibility=\"hidden\">4.8</text>\n",
       "    <text x=\"215.35\" y=\"84.39\" text-anchor=\"middle\" gadfly:scale=\"10.0\" visibility=\"hidden\">4.9</text>\n",
       "    <text x=\"219.37\" y=\"84.39\" text-anchor=\"middle\" gadfly:scale=\"10.0\" visibility=\"hidden\">5.0</text>\n",
       "    <text x=\"-82.26\" y=\"84.39\" text-anchor=\"middle\" gadfly:scale=\"0.5\" visibility=\"hidden\">-2.5</text>\n",
       "    <text x=\"18.28\" y=\"84.39\" text-anchor=\"middle\" gadfly:scale=\"0.5\" visibility=\"hidden\">0.0</text>\n",
       "    <text x=\"118.83\" y=\"84.39\" text-anchor=\"middle\" gadfly:scale=\"0.5\" visibility=\"hidden\">2.5</text>\n",
       "    <text x=\"219.37\" y=\"84.39\" text-anchor=\"middle\" gadfly:scale=\"0.5\" visibility=\"hidden\">5.0</text>\n",
       "    <text x=\"-86.28\" y=\"84.39\" text-anchor=\"middle\" gadfly:scale=\"5.0\" visibility=\"hidden\">-2.6</text>\n",
       "    <text x=\"-78.24\" y=\"84.39\" text-anchor=\"middle\" gadfly:scale=\"5.0\" visibility=\"hidden\">-2.4</text>\n",
       "    <text x=\"-70.19\" y=\"84.39\" text-anchor=\"middle\" gadfly:scale=\"5.0\" visibility=\"hidden\">-2.2</text>\n",
       "    <text x=\"-62.15\" y=\"84.39\" text-anchor=\"middle\" gadfly:scale=\"5.0\" visibility=\"hidden\">-2.0</text>\n",
       "    <text x=\"-54.11\" y=\"84.39\" text-anchor=\"middle\" gadfly:scale=\"5.0\" visibility=\"hidden\">-1.8</text>\n",
       "    <text x=\"-46.06\" y=\"84.39\" text-anchor=\"middle\" gadfly:scale=\"5.0\" visibility=\"hidden\">-1.6</text>\n",
       "    <text x=\"-38.02\" y=\"84.39\" text-anchor=\"middle\" gadfly:scale=\"5.0\" visibility=\"hidden\">-1.4</text>\n",
       "    <text x=\"-29.98\" y=\"84.39\" text-anchor=\"middle\" gadfly:scale=\"5.0\" visibility=\"hidden\">-1.2</text>\n",
       "    <text x=\"-21.93\" y=\"84.39\" text-anchor=\"middle\" gadfly:scale=\"5.0\" visibility=\"hidden\">-1.0</text>\n",
       "    <text x=\"-13.89\" y=\"84.39\" text-anchor=\"middle\" gadfly:scale=\"5.0\" visibility=\"hidden\">-0.8</text>\n",
       "    <text x=\"-5.85\" y=\"84.39\" text-anchor=\"middle\" gadfly:scale=\"5.0\" visibility=\"hidden\">-0.6</text>\n",
       "    <text x=\"2.2\" y=\"84.39\" text-anchor=\"middle\" gadfly:scale=\"5.0\" visibility=\"hidden\">-0.4</text>\n",
       "    <text x=\"10.24\" y=\"84.39\" text-anchor=\"middle\" gadfly:scale=\"5.0\" visibility=\"hidden\">-0.2</text>\n",
       "    <text x=\"18.28\" y=\"84.39\" text-anchor=\"middle\" gadfly:scale=\"5.0\" visibility=\"hidden\">0.0</text>\n",
       "    <text x=\"26.33\" y=\"84.39\" text-anchor=\"middle\" gadfly:scale=\"5.0\" visibility=\"hidden\">0.2</text>\n",
       "    <text x=\"34.37\" y=\"84.39\" text-anchor=\"middle\" gadfly:scale=\"5.0\" visibility=\"hidden\">0.4</text>\n",
       "    <text x=\"42.42\" y=\"84.39\" text-anchor=\"middle\" gadfly:scale=\"5.0\" visibility=\"hidden\">0.6</text>\n",
       "    <text x=\"50.46\" y=\"84.39\" text-anchor=\"middle\" gadfly:scale=\"5.0\" visibility=\"hidden\">0.8</text>\n",
       "    <text x=\"58.5\" y=\"84.39\" text-anchor=\"middle\" gadfly:scale=\"5.0\" visibility=\"hidden\">1.0</text>\n",
       "    <text x=\"66.55\" y=\"84.39\" text-anchor=\"middle\" gadfly:scale=\"5.0\" visibility=\"hidden\">1.2</text>\n",
       "    <text x=\"74.59\" y=\"84.39\" text-anchor=\"middle\" gadfly:scale=\"5.0\" visibility=\"hidden\">1.4</text>\n",
       "    <text x=\"82.63\" y=\"84.39\" text-anchor=\"middle\" gadfly:scale=\"5.0\" visibility=\"hidden\">1.6</text>\n",
       "    <text x=\"90.68\" y=\"84.39\" text-anchor=\"middle\" gadfly:scale=\"5.0\" visibility=\"hidden\">1.8</text>\n",
       "    <text x=\"98.72\" y=\"84.39\" text-anchor=\"middle\" gadfly:scale=\"5.0\" visibility=\"hidden\">2.0</text>\n",
       "    <text x=\"106.76\" y=\"84.39\" text-anchor=\"middle\" gadfly:scale=\"5.0\" visibility=\"hidden\">2.2</text>\n",
       "    <text x=\"114.81\" y=\"84.39\" text-anchor=\"middle\" gadfly:scale=\"5.0\" visibility=\"hidden\">2.4</text>\n",
       "    <text x=\"122.85\" y=\"84.39\" text-anchor=\"middle\" gadfly:scale=\"5.0\" visibility=\"hidden\">2.6</text>\n",
       "    <text x=\"130.89\" y=\"84.39\" text-anchor=\"middle\" gadfly:scale=\"5.0\" visibility=\"hidden\">2.8</text>\n",
       "    <text x=\"138.94\" y=\"84.39\" text-anchor=\"middle\" gadfly:scale=\"5.0\" visibility=\"hidden\">3.0</text>\n",
       "    <text x=\"146.98\" y=\"84.39\" text-anchor=\"middle\" gadfly:scale=\"5.0\" visibility=\"hidden\">3.2</text>\n",
       "    <text x=\"155.02\" y=\"84.39\" text-anchor=\"middle\" gadfly:scale=\"5.0\" visibility=\"hidden\">3.4</text>\n",
       "    <text x=\"163.07\" y=\"84.39\" text-anchor=\"middle\" gadfly:scale=\"5.0\" visibility=\"hidden\">3.6</text>\n",
       "    <text x=\"171.11\" y=\"84.39\" text-anchor=\"middle\" gadfly:scale=\"5.0\" visibility=\"hidden\">3.8</text>\n",
       "    <text x=\"179.15\" y=\"84.39\" text-anchor=\"middle\" gadfly:scale=\"5.0\" visibility=\"hidden\">4.0</text>\n",
       "    <text x=\"187.2\" y=\"84.39\" text-anchor=\"middle\" gadfly:scale=\"5.0\" visibility=\"hidden\">4.2</text>\n",
       "    <text x=\"195.24\" y=\"84.39\" text-anchor=\"middle\" gadfly:scale=\"5.0\" visibility=\"hidden\">4.4</text>\n",
       "    <text x=\"203.28\" y=\"84.39\" text-anchor=\"middle\" gadfly:scale=\"5.0\" visibility=\"hidden\">4.6</text>\n",
       "    <text x=\"211.33\" y=\"84.39\" text-anchor=\"middle\" gadfly:scale=\"5.0\" visibility=\"hidden\">4.8</text>\n",
       "    <text x=\"219.37\" y=\"84.39\" text-anchor=\"middle\" gadfly:scale=\"5.0\" visibility=\"hidden\">5.0</text>\n",
       "  </g>\n",
       "  <g class=\"guide colorkey\" id=\"fig-7af1b554904c4f478f3913ec9578349b-element-4\">\n",
       "    <g fill=\"#4C404B\" font-size=\"2.82\" font-family=\"'PT Sans','Helvetica Neue','Helvetica',sans-serif\" id=\"fig-7af1b554904c4f478f3913ec9578349b-element-5\">\n",
       "      <text x=\"124.64\" y=\"41.04\" dy=\"0.35em\" id=\"fig-7af1b554904c4f478f3913ec9578349b-element-6\" class=\"color_setosa\">setosa</text>\n",
       "      <text x=\"124.64\" y=\"44.67\" dy=\"0.35em\" id=\"fig-7af1b554904c4f478f3913ec9578349b-element-7\" class=\"color_versicolor\">versicolor</text>\n",
       "      <text x=\"124.64\" y=\"48.3\" dy=\"0.35em\" id=\"fig-7af1b554904c4f478f3913ec9578349b-element-8\" class=\"color_virginica\">virginica</text>\n",
       "    </g>\n",
       "    <g stroke=\"none\" id=\"fig-7af1b554904c4f478f3913ec9578349b-element-9\">\n",
       "      <rect x=\"121.83\" y=\"40.14\" width=\"1.81\" height=\"1.81\" id=\"fig-7af1b554904c4f478f3913ec9578349b-element-10\" class=\"color_setosa\" fill=\"#00BFFF\"/>\n",
       "      <rect x=\"121.83\" y=\"43.76\" width=\"1.81\" height=\"1.81\" id=\"fig-7af1b554904c4f478f3913ec9578349b-element-11\" class=\"color_versicolor\" fill=\"#D4CA3A\"/>\n",
       "      <rect x=\"121.83\" y=\"47.39\" width=\"1.81\" height=\"1.81\" id=\"fig-7af1b554904c4f478f3913ec9578349b-element-12\" class=\"color_virginica\" fill=\"#FF5EA0\"/>\n",
       "    </g>\n",
       "    <g fill=\"#362A35\" font-size=\"3.88\" font-family=\"'PT Sans','Helvetica Neue','Helvetica',sans-serif\" stroke=\"none\" id=\"fig-7af1b554904c4f478f3913ec9578349b-element-13\">\n",
       "      <text x=\"121.83\" y=\"37.22\" id=\"fig-7af1b554904c4f478f3913ec9578349b-element-14\">Species</text>\n",
       "    </g>\n",
       "  </g>\n",
       "  <g clip-path=\"url(#fig-7af1b554904c4f478f3913ec9578349b-element-16)\" id=\"fig-7af1b554904c4f478f3913ec9578349b-element-15\">\n",
       "    <g pointer-events=\"visible\" opacity=\"1\" fill=\"none\" stroke=\"none\" class=\"guide background\" id=\"fig-7af1b554904c4f478f3913ec9578349b-element-17\">\n",
       "      <rect x=\"16.28\" y=\"5\" width=\"104.54\" height=\"75.72\" id=\"fig-7af1b554904c4f478f3913ec9578349b-element-18\"/>\n",
       "    </g>\n",
       "    <g class=\"guide ygridlines xfixed\" stroke-dasharray=\"0.5,0.5\" stroke-width=\"0.2\" stroke=\"#D0D0E0\" id=\"fig-7af1b554904c4f478f3913ec9578349b-element-19\">\n",
       "      <path fill=\"none\" d=\"M16.28,168.36 L 120.83 168.36\" id=\"fig-7af1b554904c4f478f3913ec9578349b-element-20\" gadfly:scale=\"1.0\" visibility=\"hidden\"/>\n",
       "      <path fill=\"none\" d=\"M16.28,150.43 L 120.83 150.43\" id=\"fig-7af1b554904c4f478f3913ec9578349b-element-21\" gadfly:scale=\"1.0\" visibility=\"hidden\"/>\n",
       "      <path fill=\"none\" d=\"M16.28,132.5 L 120.83 132.5\" id=\"fig-7af1b554904c4f478f3913ec9578349b-element-22\" gadfly:scale=\"1.0\" visibility=\"hidden\"/>\n",
       "      <path fill=\"none\" d=\"M16.28,114.57 L 120.83 114.57\" id=\"fig-7af1b554904c4f478f3913ec9578349b-element-23\" gadfly:scale=\"1.0\" visibility=\"hidden\"/>\n",
       "      <path fill=\"none\" d=\"M16.28,96.64 L 120.83 96.64\" id=\"fig-7af1b554904c4f478f3913ec9578349b-element-24\" gadfly:scale=\"1.0\" visibility=\"hidden\"/>\n",
       "      <path fill=\"none\" d=\"M16.28,78.71 L 120.83 78.71\" id=\"fig-7af1b554904c4f478f3913ec9578349b-element-25\" gadfly:scale=\"1.0\" visibility=\"visible\"/>\n",
       "      <path fill=\"none\" d=\"M16.28,60.79 L 120.83 60.79\" id=\"fig-7af1b554904c4f478f3913ec9578349b-element-26\" gadfly:scale=\"1.0\" visibility=\"visible\"/>\n",
       "      <path fill=\"none\" d=\"M16.28,42.86 L 120.83 42.86\" id=\"fig-7af1b554904c4f478f3913ec9578349b-element-27\" gadfly:scale=\"1.0\" visibility=\"visible\"/>\n",
       "      <path fill=\"none\" d=\"M16.28,24.93 L 120.83 24.93\" id=\"fig-7af1b554904c4f478f3913ec9578349b-element-28\" gadfly:scale=\"1.0\" visibility=\"visible\"/>\n",
       "      <path fill=\"none\" d=\"M16.28,7 L 120.83 7\" id=\"fig-7af1b554904c4f478f3913ec9578349b-element-29\" gadfly:scale=\"1.0\" visibility=\"visible\"/>\n",
       "      <path fill=\"none\" d=\"M16.28,-10.93 L 120.83 -10.93\" id=\"fig-7af1b554904c4f478f3913ec9578349b-element-30\" gadfly:scale=\"1.0\" visibility=\"hidden\"/>\n",
       "      <path fill=\"none\" d=\"M16.28,-28.86 L 120.83 -28.86\" id=\"fig-7af1b554904c4f478f3913ec9578349b-element-31\" gadfly:scale=\"1.0\" visibility=\"hidden\"/>\n",
       "      <path fill=\"none\" d=\"M16.28,-46.79 L 120.83 -46.79\" id=\"fig-7af1b554904c4f478f3913ec9578349b-element-32\" gadfly:scale=\"1.0\" visibility=\"hidden\"/>\n",
       "      <path fill=\"none\" d=\"M16.28,-64.72 L 120.83 -64.72\" id=\"fig-7af1b554904c4f478f3913ec9578349b-element-33\" gadfly:scale=\"1.0\" visibility=\"hidden\"/>\n",
       "      <path fill=\"none\" d=\"M16.28,-82.64 L 120.83 -82.64\" id=\"fig-7af1b554904c4f478f3913ec9578349b-element-34\" gadfly:scale=\"1.0\" visibility=\"hidden\"/>\n",
       "      <path fill=\"none\" d=\"M16.28,150.43 L 120.83 150.43\" id=\"fig-7af1b554904c4f478f3913ec9578349b-element-35\" gadfly:scale=\"10.0\" visibility=\"hidden\"/>\n",
       "      <path fill=\"none\" d=\"M16.28,145.95 L 120.83 145.95\" id=\"fig-7af1b554904c4f478f3913ec9578349b-element-36\" gadfly:scale=\"10.0\" visibility=\"hidden\"/>\n",
       "      <path fill=\"none\" d=\"M16.28,141.47 L 120.83 141.47\" id=\"fig-7af1b554904c4f478f3913ec9578349b-element-37\" gadfly:scale=\"10.0\" visibility=\"hidden\"/>\n",
       "      <path fill=\"none\" d=\"M16.28,136.98 L 120.83 136.98\" id=\"fig-7af1b554904c4f478f3913ec9578349b-element-38\" gadfly:scale=\"10.0\" visibility=\"hidden\"/>\n",
       "      <path fill=\"none\" d=\"M16.28,132.5 L 120.83 132.5\" id=\"fig-7af1b554904c4f478f3913ec9578349b-element-39\" gadfly:scale=\"10.0\" visibility=\"hidden\"/>\n",
       "      <path fill=\"none\" d=\"M16.28,128.02 L 120.83 128.02\" id=\"fig-7af1b554904c4f478f3913ec9578349b-element-40\" gadfly:scale=\"10.0\" visibility=\"hidden\"/>\n",
       "      <path fill=\"none\" d=\"M16.28,123.54 L 120.83 123.54\" id=\"fig-7af1b554904c4f478f3913ec9578349b-element-41\" gadfly:scale=\"10.0\" visibility=\"hidden\"/>\n",
       "      <path fill=\"none\" d=\"M16.28,119.05 L 120.83 119.05\" id=\"fig-7af1b554904c4f478f3913ec9578349b-element-42\" gadfly:scale=\"10.0\" visibility=\"hidden\"/>\n",
       "      <path fill=\"none\" d=\"M16.28,114.57 L 120.83 114.57\" id=\"fig-7af1b554904c4f478f3913ec9578349b-element-43\" gadfly:scale=\"10.0\" visibility=\"hidden\"/>\n",
       "      <path fill=\"none\" d=\"M16.28,110.09 L 120.83 110.09\" id=\"fig-7af1b554904c4f478f3913ec9578349b-element-44\" gadfly:scale=\"10.0\" visibility=\"hidden\"/>\n",
       "      <path fill=\"none\" d=\"M16.28,105.61 L 120.83 105.61\" id=\"fig-7af1b554904c4f478f3913ec9578349b-element-45\" gadfly:scale=\"10.0\" visibility=\"hidden\"/>\n",
       "      <path fill=\"none\" d=\"M16.28,101.13 L 120.83 101.13\" id=\"fig-7af1b554904c4f478f3913ec9578349b-element-46\" gadfly:scale=\"10.0\" visibility=\"hidden\"/>\n",
       "      <path fill=\"none\" d=\"M16.28,96.64 L 120.83 96.64\" id=\"fig-7af1b554904c4f478f3913ec9578349b-element-47\" gadfly:scale=\"10.0\" visibility=\"hidden\"/>\n",
       "      <path fill=\"none\" d=\"M16.28,92.16 L 120.83 92.16\" id=\"fig-7af1b554904c4f478f3913ec9578349b-element-48\" gadfly:scale=\"10.0\" visibility=\"hidden\"/>\n",
       "      <path fill=\"none\" d=\"M16.28,87.68 L 120.83 87.68\" id=\"fig-7af1b554904c4f478f3913ec9578349b-element-49\" gadfly:scale=\"10.0\" visibility=\"hidden\"/>\n",
       "      <path fill=\"none\" d=\"M16.28,83.2 L 120.83 83.2\" id=\"fig-7af1b554904c4f478f3913ec9578349b-element-50\" gadfly:scale=\"10.0\" visibility=\"hidden\"/>\n",
       "      <path fill=\"none\" d=\"M16.28,78.71 L 120.83 78.71\" id=\"fig-7af1b554904c4f478f3913ec9578349b-element-51\" gadfly:scale=\"10.0\" visibility=\"hidden\"/>\n",
       "      <path fill=\"none\" d=\"M16.28,74.23 L 120.83 74.23\" id=\"fig-7af1b554904c4f478f3913ec9578349b-element-52\" gadfly:scale=\"10.0\" visibility=\"hidden\"/>\n",
       "      <path fill=\"none\" d=\"M16.28,69.75 L 120.83 69.75\" id=\"fig-7af1b554904c4f478f3913ec9578349b-element-53\" gadfly:scale=\"10.0\" visibility=\"hidden\"/>\n",
       "      <path fill=\"none\" d=\"M16.28,65.27 L 120.83 65.27\" id=\"fig-7af1b554904c4f478f3913ec9578349b-element-54\" gadfly:scale=\"10.0\" visibility=\"hidden\"/>\n",
       "      <path fill=\"none\" d=\"M16.28,60.79 L 120.83 60.79\" id=\"fig-7af1b554904c4f478f3913ec9578349b-element-55\" gadfly:scale=\"10.0\" visibility=\"hidden\"/>\n",
       "      <path fill=\"none\" d=\"M16.28,56.3 L 120.83 56.3\" id=\"fig-7af1b554904c4f478f3913ec9578349b-element-56\" gadfly:scale=\"10.0\" visibility=\"hidden\"/>\n",
       "      <path fill=\"none\" d=\"M16.28,51.82 L 120.83 51.82\" id=\"fig-7af1b554904c4f478f3913ec9578349b-element-57\" gadfly:scale=\"10.0\" visibility=\"hidden\"/>\n",
       "      <path fill=\"none\" d=\"M16.28,47.34 L 120.83 47.34\" id=\"fig-7af1b554904c4f478f3913ec9578349b-element-58\" gadfly:scale=\"10.0\" visibility=\"hidden\"/>\n",
       "      <path fill=\"none\" d=\"M16.28,42.86 L 120.83 42.86\" id=\"fig-7af1b554904c4f478f3913ec9578349b-element-59\" gadfly:scale=\"10.0\" visibility=\"hidden\"/>\n",
       "      <path fill=\"none\" d=\"M16.28,38.38 L 120.83 38.38\" id=\"fig-7af1b554904c4f478f3913ec9578349b-element-60\" gadfly:scale=\"10.0\" visibility=\"hidden\"/>\n",
       "      <path fill=\"none\" d=\"M16.28,33.89 L 120.83 33.89\" id=\"fig-7af1b554904c4f478f3913ec9578349b-element-61\" gadfly:scale=\"10.0\" visibility=\"hidden\"/>\n",
       "      <path fill=\"none\" d=\"M16.28,29.41 L 120.83 29.41\" id=\"fig-7af1b554904c4f478f3913ec9578349b-element-62\" gadfly:scale=\"10.0\" visibility=\"hidden\"/>\n",
       "      <path fill=\"none\" d=\"M16.28,24.93 L 120.83 24.93\" id=\"fig-7af1b554904c4f478f3913ec9578349b-element-63\" gadfly:scale=\"10.0\" visibility=\"hidden\"/>\n",
       "      <path fill=\"none\" d=\"M16.28,20.45 L 120.83 20.45\" id=\"fig-7af1b554904c4f478f3913ec9578349b-element-64\" gadfly:scale=\"10.0\" visibility=\"hidden\"/>\n",
       "      <path fill=\"none\" d=\"M16.28,15.96 L 120.83 15.96\" id=\"fig-7af1b554904c4f478f3913ec9578349b-element-65\" gadfly:scale=\"10.0\" visibility=\"hidden\"/>\n",
       "      <path fill=\"none\" d=\"M16.28,11.48 L 120.83 11.48\" id=\"fig-7af1b554904c4f478f3913ec9578349b-element-66\" gadfly:scale=\"10.0\" visibility=\"hidden\"/>\n",
       "      <path fill=\"none\" d=\"M16.28,7 L 120.83 7\" id=\"fig-7af1b554904c4f478f3913ec9578349b-element-67\" gadfly:scale=\"10.0\" visibility=\"hidden\"/>\n",
       "      <path fill=\"none\" d=\"M16.28,2.52 L 120.83 2.52\" id=\"fig-7af1b554904c4f478f3913ec9578349b-element-68\" gadfly:scale=\"10.0\" visibility=\"hidden\"/>\n",
       "      <path fill=\"none\" d=\"M16.28,-1.96 L 120.83 -1.96\" id=\"fig-7af1b554904c4f478f3913ec9578349b-element-69\" gadfly:scale=\"10.0\" visibility=\"hidden\"/>\n",
       "      <path fill=\"none\" d=\"M16.28,-6.45 L 120.83 -6.45\" id=\"fig-7af1b554904c4f478f3913ec9578349b-element-70\" gadfly:scale=\"10.0\" visibility=\"hidden\"/>\n",
       "      <path fill=\"none\" d=\"M16.28,-10.93 L 120.83 -10.93\" id=\"fig-7af1b554904c4f478f3913ec9578349b-element-71\" gadfly:scale=\"10.0\" visibility=\"hidden\"/>\n",
       "      <path fill=\"none\" d=\"M16.28,-15.41 L 120.83 -15.41\" id=\"fig-7af1b554904c4f478f3913ec9578349b-element-72\" gadfly:scale=\"10.0\" visibility=\"hidden\"/>\n",
       "      <path fill=\"none\" d=\"M16.28,-19.89 L 120.83 -19.89\" id=\"fig-7af1b554904c4f478f3913ec9578349b-element-73\" gadfly:scale=\"10.0\" visibility=\"hidden\"/>\n",
       "      <path fill=\"none\" d=\"M16.28,-24.38 L 120.83 -24.38\" id=\"fig-7af1b554904c4f478f3913ec9578349b-element-74\" gadfly:scale=\"10.0\" visibility=\"hidden\"/>\n",
       "      <path fill=\"none\" d=\"M16.28,-28.86 L 120.83 -28.86\" id=\"fig-7af1b554904c4f478f3913ec9578349b-element-75\" gadfly:scale=\"10.0\" visibility=\"hidden\"/>\n",
       "      <path fill=\"none\" d=\"M16.28,-33.34 L 120.83 -33.34\" id=\"fig-7af1b554904c4f478f3913ec9578349b-element-76\" gadfly:scale=\"10.0\" visibility=\"hidden\"/>\n",
       "      <path fill=\"none\" d=\"M16.28,-37.82 L 120.83 -37.82\" id=\"fig-7af1b554904c4f478f3913ec9578349b-element-77\" gadfly:scale=\"10.0\" visibility=\"hidden\"/>\n",
       "      <path fill=\"none\" d=\"M16.28,-42.3 L 120.83 -42.3\" id=\"fig-7af1b554904c4f478f3913ec9578349b-element-78\" gadfly:scale=\"10.0\" visibility=\"hidden\"/>\n",
       "      <path fill=\"none\" d=\"M16.28,-46.79 L 120.83 -46.79\" id=\"fig-7af1b554904c4f478f3913ec9578349b-element-79\" gadfly:scale=\"10.0\" visibility=\"hidden\"/>\n",
       "      <path fill=\"none\" d=\"M16.28,-51.27 L 120.83 -51.27\" id=\"fig-7af1b554904c4f478f3913ec9578349b-element-80\" gadfly:scale=\"10.0\" visibility=\"hidden\"/>\n",
       "      <path fill=\"none\" d=\"M16.28,-55.75 L 120.83 -55.75\" id=\"fig-7af1b554904c4f478f3913ec9578349b-element-81\" gadfly:scale=\"10.0\" visibility=\"hidden\"/>\n",
       "      <path fill=\"none\" d=\"M16.28,-60.23 L 120.83 -60.23\" id=\"fig-7af1b554904c4f478f3913ec9578349b-element-82\" gadfly:scale=\"10.0\" visibility=\"hidden\"/>\n",
       "      <path fill=\"none\" d=\"M16.28,-64.72 L 120.83 -64.72\" id=\"fig-7af1b554904c4f478f3913ec9578349b-element-83\" gadfly:scale=\"10.0\" visibility=\"hidden\"/>\n",
       "      <path fill=\"none\" d=\"M16.28,168.36 L 120.83 168.36\" id=\"fig-7af1b554904c4f478f3913ec9578349b-element-84\" gadfly:scale=\"0.5\" visibility=\"hidden\"/>\n",
       "      <path fill=\"none\" d=\"M16.28,78.71 L 120.83 78.71\" id=\"fig-7af1b554904c4f478f3913ec9578349b-element-85\" gadfly:scale=\"0.5\" visibility=\"hidden\"/>\n",
       "      <path fill=\"none\" d=\"M16.28,-10.93 L 120.83 -10.93\" id=\"fig-7af1b554904c4f478f3913ec9578349b-element-86\" gadfly:scale=\"0.5\" visibility=\"hidden\"/>\n",
       "      <path fill=\"none\" d=\"M16.28,-100.57 L 120.83 -100.57\" id=\"fig-7af1b554904c4f478f3913ec9578349b-element-87\" gadfly:scale=\"0.5\" visibility=\"hidden\"/>\n",
       "      <path fill=\"none\" d=\"M16.28,150.43 L 120.83 150.43\" id=\"fig-7af1b554904c4f478f3913ec9578349b-element-88\" gadfly:scale=\"5.0\" visibility=\"hidden\"/>\n",
       "      <path fill=\"none\" d=\"M16.28,145.95 L 120.83 145.95\" id=\"fig-7af1b554904c4f478f3913ec9578349b-element-89\" gadfly:scale=\"5.0\" visibility=\"hidden\"/>\n",
       "      <path fill=\"none\" d=\"M16.28,141.47 L 120.83 141.47\" id=\"fig-7af1b554904c4f478f3913ec9578349b-element-90\" gadfly:scale=\"5.0\" visibility=\"hidden\"/>\n",
       "      <path fill=\"none\" d=\"M16.28,136.98 L 120.83 136.98\" id=\"fig-7af1b554904c4f478f3913ec9578349b-element-91\" gadfly:scale=\"5.0\" visibility=\"hidden\"/>\n",
       "      <path fill=\"none\" d=\"M16.28,132.5 L 120.83 132.5\" id=\"fig-7af1b554904c4f478f3913ec9578349b-element-92\" gadfly:scale=\"5.0\" visibility=\"hidden\"/>\n",
       "      <path fill=\"none\" d=\"M16.28,128.02 L 120.83 128.02\" id=\"fig-7af1b554904c4f478f3913ec9578349b-element-93\" gadfly:scale=\"5.0\" visibility=\"hidden\"/>\n",
       "      <path fill=\"none\" d=\"M16.28,123.54 L 120.83 123.54\" id=\"fig-7af1b554904c4f478f3913ec9578349b-element-94\" gadfly:scale=\"5.0\" visibility=\"hidden\"/>\n",
       "      <path fill=\"none\" d=\"M16.28,119.05 L 120.83 119.05\" id=\"fig-7af1b554904c4f478f3913ec9578349b-element-95\" gadfly:scale=\"5.0\" visibility=\"hidden\"/>\n",
       "      <path fill=\"none\" d=\"M16.28,114.57 L 120.83 114.57\" id=\"fig-7af1b554904c4f478f3913ec9578349b-element-96\" gadfly:scale=\"5.0\" visibility=\"hidden\"/>\n",
       "      <path fill=\"none\" d=\"M16.28,110.09 L 120.83 110.09\" id=\"fig-7af1b554904c4f478f3913ec9578349b-element-97\" gadfly:scale=\"5.0\" visibility=\"hidden\"/>\n",
       "      <path fill=\"none\" d=\"M16.28,105.61 L 120.83 105.61\" id=\"fig-7af1b554904c4f478f3913ec9578349b-element-98\" gadfly:scale=\"5.0\" visibility=\"hidden\"/>\n",
       "      <path fill=\"none\" d=\"M16.28,101.13 L 120.83 101.13\" id=\"fig-7af1b554904c4f478f3913ec9578349b-element-99\" gadfly:scale=\"5.0\" visibility=\"hidden\"/>\n",
       "      <path fill=\"none\" d=\"M16.28,96.64 L 120.83 96.64\" id=\"fig-7af1b554904c4f478f3913ec9578349b-element-100\" gadfly:scale=\"5.0\" visibility=\"hidden\"/>\n",
       "      <path fill=\"none\" d=\"M16.28,92.16 L 120.83 92.16\" id=\"fig-7af1b554904c4f478f3913ec9578349b-element-101\" gadfly:scale=\"5.0\" visibility=\"hidden\"/>\n",
       "      <path fill=\"none\" d=\"M16.28,87.68 L 120.83 87.68\" id=\"fig-7af1b554904c4f478f3913ec9578349b-element-102\" gadfly:scale=\"5.0\" visibility=\"hidden\"/>\n",
       "      <path fill=\"none\" d=\"M16.28,83.2 L 120.83 83.2\" id=\"fig-7af1b554904c4f478f3913ec9578349b-element-103\" gadfly:scale=\"5.0\" visibility=\"hidden\"/>\n",
       "      <path fill=\"none\" d=\"M16.28,78.71 L 120.83 78.71\" id=\"fig-7af1b554904c4f478f3913ec9578349b-element-104\" gadfly:scale=\"5.0\" visibility=\"hidden\"/>\n",
       "      <path fill=\"none\" d=\"M16.28,74.23 L 120.83 74.23\" id=\"fig-7af1b554904c4f478f3913ec9578349b-element-105\" gadfly:scale=\"5.0\" visibility=\"hidden\"/>\n",
       "      <path fill=\"none\" d=\"M16.28,69.75 L 120.83 69.75\" id=\"fig-7af1b554904c4f478f3913ec9578349b-element-106\" gadfly:scale=\"5.0\" visibility=\"hidden\"/>\n",
       "      <path fill=\"none\" d=\"M16.28,65.27 L 120.83 65.27\" id=\"fig-7af1b554904c4f478f3913ec9578349b-element-107\" gadfly:scale=\"5.0\" visibility=\"hidden\"/>\n",
       "      <path fill=\"none\" d=\"M16.28,60.79 L 120.83 60.79\" id=\"fig-7af1b554904c4f478f3913ec9578349b-element-108\" gadfly:scale=\"5.0\" visibility=\"hidden\"/>\n",
       "      <path fill=\"none\" d=\"M16.28,56.3 L 120.83 56.3\" id=\"fig-7af1b554904c4f478f3913ec9578349b-element-109\" gadfly:scale=\"5.0\" visibility=\"hidden\"/>\n",
       "      <path fill=\"none\" d=\"M16.28,51.82 L 120.83 51.82\" id=\"fig-7af1b554904c4f478f3913ec9578349b-element-110\" gadfly:scale=\"5.0\" visibility=\"hidden\"/>\n",
       "      <path fill=\"none\" d=\"M16.28,47.34 L 120.83 47.34\" id=\"fig-7af1b554904c4f478f3913ec9578349b-element-111\" gadfly:scale=\"5.0\" visibility=\"hidden\"/>\n",
       "      <path fill=\"none\" d=\"M16.28,42.86 L 120.83 42.86\" id=\"fig-7af1b554904c4f478f3913ec9578349b-element-112\" gadfly:scale=\"5.0\" visibility=\"hidden\"/>\n",
       "      <path fill=\"none\" d=\"M16.28,38.38 L 120.83 38.38\" id=\"fig-7af1b554904c4f478f3913ec9578349b-element-113\" gadfly:scale=\"5.0\" visibility=\"hidden\"/>\n",
       "      <path fill=\"none\" d=\"M16.28,33.89 L 120.83 33.89\" id=\"fig-7af1b554904c4f478f3913ec9578349b-element-114\" gadfly:scale=\"5.0\" visibility=\"hidden\"/>\n",
       "      <path fill=\"none\" d=\"M16.28,29.41 L 120.83 29.41\" id=\"fig-7af1b554904c4f478f3913ec9578349b-element-115\" gadfly:scale=\"5.0\" visibility=\"hidden\"/>\n",
       "      <path fill=\"none\" d=\"M16.28,24.93 L 120.83 24.93\" id=\"fig-7af1b554904c4f478f3913ec9578349b-element-116\" gadfly:scale=\"5.0\" visibility=\"hidden\"/>\n",
       "      <path fill=\"none\" d=\"M16.28,20.45 L 120.83 20.45\" id=\"fig-7af1b554904c4f478f3913ec9578349b-element-117\" gadfly:scale=\"5.0\" visibility=\"hidden\"/>\n",
       "      <path fill=\"none\" d=\"M16.28,15.96 L 120.83 15.96\" id=\"fig-7af1b554904c4f478f3913ec9578349b-element-118\" gadfly:scale=\"5.0\" visibility=\"hidden\"/>\n",
       "      <path fill=\"none\" d=\"M16.28,11.48 L 120.83 11.48\" id=\"fig-7af1b554904c4f478f3913ec9578349b-element-119\" gadfly:scale=\"5.0\" visibility=\"hidden\"/>\n",
       "      <path fill=\"none\" d=\"M16.28,7 L 120.83 7\" id=\"fig-7af1b554904c4f478f3913ec9578349b-element-120\" gadfly:scale=\"5.0\" visibility=\"hidden\"/>\n",
       "      <path fill=\"none\" d=\"M16.28,2.52 L 120.83 2.52\" id=\"fig-7af1b554904c4f478f3913ec9578349b-element-121\" gadfly:scale=\"5.0\" visibility=\"hidden\"/>\n",
       "      <path fill=\"none\" d=\"M16.28,-1.96 L 120.83 -1.96\" id=\"fig-7af1b554904c4f478f3913ec9578349b-element-122\" gadfly:scale=\"5.0\" visibility=\"hidden\"/>\n",
       "      <path fill=\"none\" d=\"M16.28,-6.45 L 120.83 -6.45\" id=\"fig-7af1b554904c4f478f3913ec9578349b-element-123\" gadfly:scale=\"5.0\" visibility=\"hidden\"/>\n",
       "      <path fill=\"none\" d=\"M16.28,-10.93 L 120.83 -10.93\" id=\"fig-7af1b554904c4f478f3913ec9578349b-element-124\" gadfly:scale=\"5.0\" visibility=\"hidden\"/>\n",
       "      <path fill=\"none\" d=\"M16.28,-15.41 L 120.83 -15.41\" id=\"fig-7af1b554904c4f478f3913ec9578349b-element-125\" gadfly:scale=\"5.0\" visibility=\"hidden\"/>\n",
       "      <path fill=\"none\" d=\"M16.28,-19.89 L 120.83 -19.89\" id=\"fig-7af1b554904c4f478f3913ec9578349b-element-126\" gadfly:scale=\"5.0\" visibility=\"hidden\"/>\n",
       "      <path fill=\"none\" d=\"M16.28,-24.38 L 120.83 -24.38\" id=\"fig-7af1b554904c4f478f3913ec9578349b-element-127\" gadfly:scale=\"5.0\" visibility=\"hidden\"/>\n",
       "      <path fill=\"none\" d=\"M16.28,-28.86 L 120.83 -28.86\" id=\"fig-7af1b554904c4f478f3913ec9578349b-element-128\" gadfly:scale=\"5.0\" visibility=\"hidden\"/>\n",
       "      <path fill=\"none\" d=\"M16.28,-33.34 L 120.83 -33.34\" id=\"fig-7af1b554904c4f478f3913ec9578349b-element-129\" gadfly:scale=\"5.0\" visibility=\"hidden\"/>\n",
       "      <path fill=\"none\" d=\"M16.28,-37.82 L 120.83 -37.82\" id=\"fig-7af1b554904c4f478f3913ec9578349b-element-130\" gadfly:scale=\"5.0\" visibility=\"hidden\"/>\n",
       "      <path fill=\"none\" d=\"M16.28,-42.3 L 120.83 -42.3\" id=\"fig-7af1b554904c4f478f3913ec9578349b-element-131\" gadfly:scale=\"5.0\" visibility=\"hidden\"/>\n",
       "      <path fill=\"none\" d=\"M16.28,-46.79 L 120.83 -46.79\" id=\"fig-7af1b554904c4f478f3913ec9578349b-element-132\" gadfly:scale=\"5.0\" visibility=\"hidden\"/>\n",
       "      <path fill=\"none\" d=\"M16.28,-51.27 L 120.83 -51.27\" id=\"fig-7af1b554904c4f478f3913ec9578349b-element-133\" gadfly:scale=\"5.0\" visibility=\"hidden\"/>\n",
       "      <path fill=\"none\" d=\"M16.28,-55.75 L 120.83 -55.75\" id=\"fig-7af1b554904c4f478f3913ec9578349b-element-134\" gadfly:scale=\"5.0\" visibility=\"hidden\"/>\n",
       "      <path fill=\"none\" d=\"M16.28,-60.23 L 120.83 -60.23\" id=\"fig-7af1b554904c4f478f3913ec9578349b-element-135\" gadfly:scale=\"5.0\" visibility=\"hidden\"/>\n",
       "      <path fill=\"none\" d=\"M16.28,-64.72 L 120.83 -64.72\" id=\"fig-7af1b554904c4f478f3913ec9578349b-element-136\" gadfly:scale=\"5.0\" visibility=\"hidden\"/>\n",
       "    </g>\n",
       "    <g class=\"guide xgridlines yfixed\" stroke-dasharray=\"0.5,0.5\" stroke-width=\"0.2\" stroke=\"#D0D0E0\" id=\"fig-7af1b554904c4f478f3913ec9578349b-element-137\">\n",
       "      <path fill=\"none\" d=\"M-102.37,5 L -102.37 80.72\" id=\"fig-7af1b554904c4f478f3913ec9578349b-element-138\" gadfly:scale=\"1.0\" visibility=\"hidden\"/>\n",
       "      <path fill=\"none\" d=\"M-82.26,5 L -82.26 80.72\" id=\"fig-7af1b554904c4f478f3913ec9578349b-element-139\" gadfly:scale=\"1.0\" visibility=\"hidden\"/>\n",
       "      <path fill=\"none\" d=\"M-62.15,5 L -62.15 80.72\" id=\"fig-7af1b554904c4f478f3913ec9578349b-element-140\" gadfly:scale=\"1.0\" visibility=\"hidden\"/>\n",
       "      <path fill=\"none\" d=\"M-42.04,5 L -42.04 80.72\" id=\"fig-7af1b554904c4f478f3913ec9578349b-element-141\" gadfly:scale=\"1.0\" visibility=\"hidden\"/>\n",
       "      <path fill=\"none\" d=\"M-21.93,5 L -21.93 80.72\" id=\"fig-7af1b554904c4f478f3913ec9578349b-element-142\" gadfly:scale=\"1.0\" visibility=\"hidden\"/>\n",
       "      <path fill=\"none\" d=\"M-1.82,5 L -1.82 80.72\" id=\"fig-7af1b554904c4f478f3913ec9578349b-element-143\" gadfly:scale=\"1.0\" visibility=\"hidden\"/>\n",
       "      <path fill=\"none\" d=\"M18.28,5 L 18.28 80.72\" id=\"fig-7af1b554904c4f478f3913ec9578349b-element-144\" gadfly:scale=\"1.0\" visibility=\"visible\"/>\n",
       "      <path fill=\"none\" d=\"M38.39,5 L 38.39 80.72\" id=\"fig-7af1b554904c4f478f3913ec9578349b-element-145\" gadfly:scale=\"1.0\" visibility=\"visible\"/>\n",
       "      <path fill=\"none\" d=\"M58.5,5 L 58.5 80.72\" id=\"fig-7af1b554904c4f478f3913ec9578349b-element-146\" gadfly:scale=\"1.0\" visibility=\"visible\"/>\n",
       "      <path fill=\"none\" d=\"M78.61,5 L 78.61 80.72\" id=\"fig-7af1b554904c4f478f3913ec9578349b-element-147\" gadfly:scale=\"1.0\" visibility=\"visible\"/>\n",
       "      <path fill=\"none\" d=\"M98.72,5 L 98.72 80.72\" id=\"fig-7af1b554904c4f478f3913ec9578349b-element-148\" gadfly:scale=\"1.0\" visibility=\"visible\"/>\n",
       "      <path fill=\"none\" d=\"M118.83,5 L 118.83 80.72\" id=\"fig-7af1b554904c4f478f3913ec9578349b-element-149\" gadfly:scale=\"1.0\" visibility=\"visible\"/>\n",
       "      <path fill=\"none\" d=\"M138.94,5 L 138.94 80.72\" id=\"fig-7af1b554904c4f478f3913ec9578349b-element-150\" gadfly:scale=\"1.0\" visibility=\"hidden\"/>\n",
       "      <path fill=\"none\" d=\"M159.05,5 L 159.05 80.72\" id=\"fig-7af1b554904c4f478f3913ec9578349b-element-151\" gadfly:scale=\"1.0\" visibility=\"hidden\"/>\n",
       "      <path fill=\"none\" d=\"M179.15,5 L 179.15 80.72\" id=\"fig-7af1b554904c4f478f3913ec9578349b-element-152\" gadfly:scale=\"1.0\" visibility=\"hidden\"/>\n",
       "      <path fill=\"none\" d=\"M199.26,5 L 199.26 80.72\" id=\"fig-7af1b554904c4f478f3913ec9578349b-element-153\" gadfly:scale=\"1.0\" visibility=\"hidden\"/>\n",
       "      <path fill=\"none\" d=\"M219.37,5 L 219.37 80.72\" id=\"fig-7af1b554904c4f478f3913ec9578349b-element-154\" gadfly:scale=\"1.0\" visibility=\"hidden\"/>\n",
       "      <path fill=\"none\" d=\"M239.48,5 L 239.48 80.72\" id=\"fig-7af1b554904c4f478f3913ec9578349b-element-155\" gadfly:scale=\"1.0\" visibility=\"hidden\"/>\n",
       "      <path fill=\"none\" d=\"M-82.26,5 L -82.26 80.72\" id=\"fig-7af1b554904c4f478f3913ec9578349b-element-156\" gadfly:scale=\"10.0\" visibility=\"hidden\"/>\n",
       "      <path fill=\"none\" d=\"M-78.24,5 L -78.24 80.72\" id=\"fig-7af1b554904c4f478f3913ec9578349b-element-157\" gadfly:scale=\"10.0\" visibility=\"hidden\"/>\n",
       "      <path fill=\"none\" d=\"M-74.21,5 L -74.21 80.72\" id=\"fig-7af1b554904c4f478f3913ec9578349b-element-158\" gadfly:scale=\"10.0\" visibility=\"hidden\"/>\n",
       "      <path fill=\"none\" d=\"M-70.19,5 L -70.19 80.72\" id=\"fig-7af1b554904c4f478f3913ec9578349b-element-159\" gadfly:scale=\"10.0\" visibility=\"hidden\"/>\n",
       "      <path fill=\"none\" d=\"M-66.17,5 L -66.17 80.72\" id=\"fig-7af1b554904c4f478f3913ec9578349b-element-160\" gadfly:scale=\"10.0\" visibility=\"hidden\"/>\n",
       "      <path fill=\"none\" d=\"M-62.15,5 L -62.15 80.72\" id=\"fig-7af1b554904c4f478f3913ec9578349b-element-161\" gadfly:scale=\"10.0\" visibility=\"hidden\"/>\n",
       "      <path fill=\"none\" d=\"M-58.13,5 L -58.13 80.72\" id=\"fig-7af1b554904c4f478f3913ec9578349b-element-162\" gadfly:scale=\"10.0\" visibility=\"hidden\"/>\n",
       "      <path fill=\"none\" d=\"M-54.11,5 L -54.11 80.72\" id=\"fig-7af1b554904c4f478f3913ec9578349b-element-163\" gadfly:scale=\"10.0\" visibility=\"hidden\"/>\n",
       "      <path fill=\"none\" d=\"M-50.08,5 L -50.08 80.72\" id=\"fig-7af1b554904c4f478f3913ec9578349b-element-164\" gadfly:scale=\"10.0\" visibility=\"hidden\"/>\n",
       "      <path fill=\"none\" d=\"M-46.06,5 L -46.06 80.72\" id=\"fig-7af1b554904c4f478f3913ec9578349b-element-165\" gadfly:scale=\"10.0\" visibility=\"hidden\"/>\n",
       "      <path fill=\"none\" d=\"M-42.04,5 L -42.04 80.72\" id=\"fig-7af1b554904c4f478f3913ec9578349b-element-166\" gadfly:scale=\"10.0\" visibility=\"hidden\"/>\n",
       "      <path fill=\"none\" d=\"M-38.02,5 L -38.02 80.72\" id=\"fig-7af1b554904c4f478f3913ec9578349b-element-167\" gadfly:scale=\"10.0\" visibility=\"hidden\"/>\n",
       "      <path fill=\"none\" d=\"M-34,5 L -34 80.72\" id=\"fig-7af1b554904c4f478f3913ec9578349b-element-168\" gadfly:scale=\"10.0\" visibility=\"hidden\"/>\n",
       "      <path fill=\"none\" d=\"M-29.98,5 L -29.98 80.72\" id=\"fig-7af1b554904c4f478f3913ec9578349b-element-169\" gadfly:scale=\"10.0\" visibility=\"hidden\"/>\n",
       "      <path fill=\"none\" d=\"M-25.95,5 L -25.95 80.72\" id=\"fig-7af1b554904c4f478f3913ec9578349b-element-170\" gadfly:scale=\"10.0\" visibility=\"hidden\"/>\n",
       "      <path fill=\"none\" d=\"M-21.93,5 L -21.93 80.72\" id=\"fig-7af1b554904c4f478f3913ec9578349b-element-171\" gadfly:scale=\"10.0\" visibility=\"hidden\"/>\n",
       "      <path fill=\"none\" d=\"M-17.91,5 L -17.91 80.72\" id=\"fig-7af1b554904c4f478f3913ec9578349b-element-172\" gadfly:scale=\"10.0\" visibility=\"hidden\"/>\n",
       "      <path fill=\"none\" d=\"M-13.89,5 L -13.89 80.72\" id=\"fig-7af1b554904c4f478f3913ec9578349b-element-173\" gadfly:scale=\"10.0\" visibility=\"hidden\"/>\n",
       "      <path fill=\"none\" d=\"M-9.87,5 L -9.87 80.72\" id=\"fig-7af1b554904c4f478f3913ec9578349b-element-174\" gadfly:scale=\"10.0\" visibility=\"hidden\"/>\n",
       "      <path fill=\"none\" d=\"M-5.85,5 L -5.85 80.72\" id=\"fig-7af1b554904c4f478f3913ec9578349b-element-175\" gadfly:scale=\"10.0\" visibility=\"hidden\"/>\n",
       "      <path fill=\"none\" d=\"M-1.82,5 L -1.82 80.72\" id=\"fig-7af1b554904c4f478f3913ec9578349b-element-176\" gadfly:scale=\"10.0\" visibility=\"hidden\"/>\n",
       "      <path fill=\"none\" d=\"M2.2,5 L 2.2 80.72\" id=\"fig-7af1b554904c4f478f3913ec9578349b-element-177\" gadfly:scale=\"10.0\" visibility=\"hidden\"/>\n",
       "      <path fill=\"none\" d=\"M6.22,5 L 6.22 80.72\" id=\"fig-7af1b554904c4f478f3913ec9578349b-element-178\" gadfly:scale=\"10.0\" visibility=\"hidden\"/>\n",
       "      <path fill=\"none\" d=\"M10.24,5 L 10.24 80.72\" id=\"fig-7af1b554904c4f478f3913ec9578349b-element-179\" gadfly:scale=\"10.0\" visibility=\"hidden\"/>\n",
       "      <path fill=\"none\" d=\"M14.26,5 L 14.26 80.72\" id=\"fig-7af1b554904c4f478f3913ec9578349b-element-180\" gadfly:scale=\"10.0\" visibility=\"hidden\"/>\n",
       "      <path fill=\"none\" d=\"M18.28,5 L 18.28 80.72\" id=\"fig-7af1b554904c4f478f3913ec9578349b-element-181\" gadfly:scale=\"10.0\" visibility=\"hidden\"/>\n",
       "      <path fill=\"none\" d=\"M22.31,5 L 22.31 80.72\" id=\"fig-7af1b554904c4f478f3913ec9578349b-element-182\" gadfly:scale=\"10.0\" visibility=\"hidden\"/>\n",
       "      <path fill=\"none\" d=\"M26.33,5 L 26.33 80.72\" id=\"fig-7af1b554904c4f478f3913ec9578349b-element-183\" gadfly:scale=\"10.0\" visibility=\"hidden\"/>\n",
       "      <path fill=\"none\" d=\"M30.35,5 L 30.35 80.72\" id=\"fig-7af1b554904c4f478f3913ec9578349b-element-184\" gadfly:scale=\"10.0\" visibility=\"hidden\"/>\n",
       "      <path fill=\"none\" d=\"M34.37,5 L 34.37 80.72\" id=\"fig-7af1b554904c4f478f3913ec9578349b-element-185\" gadfly:scale=\"10.0\" visibility=\"hidden\"/>\n",
       "      <path fill=\"none\" d=\"M38.39,5 L 38.39 80.72\" id=\"fig-7af1b554904c4f478f3913ec9578349b-element-186\" gadfly:scale=\"10.0\" visibility=\"hidden\"/>\n",
       "      <path fill=\"none\" d=\"M42.42,5 L 42.42 80.72\" id=\"fig-7af1b554904c4f478f3913ec9578349b-element-187\" gadfly:scale=\"10.0\" visibility=\"hidden\"/>\n",
       "      <path fill=\"none\" d=\"M46.44,5 L 46.44 80.72\" id=\"fig-7af1b554904c4f478f3913ec9578349b-element-188\" gadfly:scale=\"10.0\" visibility=\"hidden\"/>\n",
       "      <path fill=\"none\" d=\"M50.46,5 L 50.46 80.72\" id=\"fig-7af1b554904c4f478f3913ec9578349b-element-189\" gadfly:scale=\"10.0\" visibility=\"hidden\"/>\n",
       "      <path fill=\"none\" d=\"M54.48,5 L 54.48 80.72\" id=\"fig-7af1b554904c4f478f3913ec9578349b-element-190\" gadfly:scale=\"10.0\" visibility=\"hidden\"/>\n",
       "      <path fill=\"none\" d=\"M58.5,5 L 58.5 80.72\" id=\"fig-7af1b554904c4f478f3913ec9578349b-element-191\" gadfly:scale=\"10.0\" visibility=\"hidden\"/>\n",
       "      <path fill=\"none\" d=\"M62.52,5 L 62.52 80.72\" id=\"fig-7af1b554904c4f478f3913ec9578349b-element-192\" gadfly:scale=\"10.0\" visibility=\"hidden\"/>\n",
       "      <path fill=\"none\" d=\"M66.55,5 L 66.55 80.72\" id=\"fig-7af1b554904c4f478f3913ec9578349b-element-193\" gadfly:scale=\"10.0\" visibility=\"hidden\"/>\n",
       "      <path fill=\"none\" d=\"M70.57,5 L 70.57 80.72\" id=\"fig-7af1b554904c4f478f3913ec9578349b-element-194\" gadfly:scale=\"10.0\" visibility=\"hidden\"/>\n",
       "      <path fill=\"none\" d=\"M74.59,5 L 74.59 80.72\" id=\"fig-7af1b554904c4f478f3913ec9578349b-element-195\" gadfly:scale=\"10.0\" visibility=\"hidden\"/>\n",
       "      <path fill=\"none\" d=\"M78.61,5 L 78.61 80.72\" id=\"fig-7af1b554904c4f478f3913ec9578349b-element-196\" gadfly:scale=\"10.0\" visibility=\"hidden\"/>\n",
       "      <path fill=\"none\" d=\"M82.63,5 L 82.63 80.72\" id=\"fig-7af1b554904c4f478f3913ec9578349b-element-197\" gadfly:scale=\"10.0\" visibility=\"hidden\"/>\n",
       "      <path fill=\"none\" d=\"M86.65,5 L 86.65 80.72\" id=\"fig-7af1b554904c4f478f3913ec9578349b-element-198\" gadfly:scale=\"10.0\" visibility=\"hidden\"/>\n",
       "      <path fill=\"none\" d=\"M90.68,5 L 90.68 80.72\" id=\"fig-7af1b554904c4f478f3913ec9578349b-element-199\" gadfly:scale=\"10.0\" visibility=\"hidden\"/>\n",
       "      <path fill=\"none\" d=\"M94.7,5 L 94.7 80.72\" id=\"fig-7af1b554904c4f478f3913ec9578349b-element-200\" gadfly:scale=\"10.0\" visibility=\"hidden\"/>\n",
       "      <path fill=\"none\" d=\"M98.72,5 L 98.72 80.72\" id=\"fig-7af1b554904c4f478f3913ec9578349b-element-201\" gadfly:scale=\"10.0\" visibility=\"hidden\"/>\n",
       "      <path fill=\"none\" d=\"M102.74,5 L 102.74 80.72\" id=\"fig-7af1b554904c4f478f3913ec9578349b-element-202\" gadfly:scale=\"10.0\" visibility=\"hidden\"/>\n",
       "      <path fill=\"none\" d=\"M106.76,5 L 106.76 80.72\" id=\"fig-7af1b554904c4f478f3913ec9578349b-element-203\" gadfly:scale=\"10.0\" visibility=\"hidden\"/>\n",
       "      <path fill=\"none\" d=\"M110.78,5 L 110.78 80.72\" id=\"fig-7af1b554904c4f478f3913ec9578349b-element-204\" gadfly:scale=\"10.0\" visibility=\"hidden\"/>\n",
       "      <path fill=\"none\" d=\"M114.81,5 L 114.81 80.72\" id=\"fig-7af1b554904c4f478f3913ec9578349b-element-205\" gadfly:scale=\"10.0\" visibility=\"hidden\"/>\n",
       "      <path fill=\"none\" d=\"M118.83,5 L 118.83 80.72\" id=\"fig-7af1b554904c4f478f3913ec9578349b-element-206\" gadfly:scale=\"10.0\" visibility=\"hidden\"/>\n",
       "      <path fill=\"none\" d=\"M122.85,5 L 122.85 80.72\" id=\"fig-7af1b554904c4f478f3913ec9578349b-element-207\" gadfly:scale=\"10.0\" visibility=\"hidden\"/>\n",
       "      <path fill=\"none\" d=\"M126.87,5 L 126.87 80.72\" id=\"fig-7af1b554904c4f478f3913ec9578349b-element-208\" gadfly:scale=\"10.0\" visibility=\"hidden\"/>\n",
       "      <path fill=\"none\" d=\"M130.89,5 L 130.89 80.72\" id=\"fig-7af1b554904c4f478f3913ec9578349b-element-209\" gadfly:scale=\"10.0\" visibility=\"hidden\"/>\n",
       "      <path fill=\"none\" d=\"M134.91,5 L 134.91 80.72\" id=\"fig-7af1b554904c4f478f3913ec9578349b-element-210\" gadfly:scale=\"10.0\" visibility=\"hidden\"/>\n",
       "      <path fill=\"none\" d=\"M138.94,5 L 138.94 80.72\" id=\"fig-7af1b554904c4f478f3913ec9578349b-element-211\" gadfly:scale=\"10.0\" visibility=\"hidden\"/>\n",
       "      <path fill=\"none\" d=\"M142.96,5 L 142.96 80.72\" id=\"fig-7af1b554904c4f478f3913ec9578349b-element-212\" gadfly:scale=\"10.0\" visibility=\"hidden\"/>\n",
       "      <path fill=\"none\" d=\"M146.98,5 L 146.98 80.72\" id=\"fig-7af1b554904c4f478f3913ec9578349b-element-213\" gadfly:scale=\"10.0\" visibility=\"hidden\"/>\n",
       "      <path fill=\"none\" d=\"M151,5 L 151 80.72\" id=\"fig-7af1b554904c4f478f3913ec9578349b-element-214\" gadfly:scale=\"10.0\" visibility=\"hidden\"/>\n",
       "      <path fill=\"none\" d=\"M155.02,5 L 155.02 80.72\" id=\"fig-7af1b554904c4f478f3913ec9578349b-element-215\" gadfly:scale=\"10.0\" visibility=\"hidden\"/>\n",
       "      <path fill=\"none\" d=\"M159.05,5 L 159.05 80.72\" id=\"fig-7af1b554904c4f478f3913ec9578349b-element-216\" gadfly:scale=\"10.0\" visibility=\"hidden\"/>\n",
       "      <path fill=\"none\" d=\"M163.07,5 L 163.07 80.72\" id=\"fig-7af1b554904c4f478f3913ec9578349b-element-217\" gadfly:scale=\"10.0\" visibility=\"hidden\"/>\n",
       "      <path fill=\"none\" d=\"M167.09,5 L 167.09 80.72\" id=\"fig-7af1b554904c4f478f3913ec9578349b-element-218\" gadfly:scale=\"10.0\" visibility=\"hidden\"/>\n",
       "      <path fill=\"none\" d=\"M171.11,5 L 171.11 80.72\" id=\"fig-7af1b554904c4f478f3913ec9578349b-element-219\" gadfly:scale=\"10.0\" visibility=\"hidden\"/>\n",
       "      <path fill=\"none\" d=\"M175.13,5 L 175.13 80.72\" id=\"fig-7af1b554904c4f478f3913ec9578349b-element-220\" gadfly:scale=\"10.0\" visibility=\"hidden\"/>\n",
       "      <path fill=\"none\" d=\"M179.15,5 L 179.15 80.72\" id=\"fig-7af1b554904c4f478f3913ec9578349b-element-221\" gadfly:scale=\"10.0\" visibility=\"hidden\"/>\n",
       "      <path fill=\"none\" d=\"M183.18,5 L 183.18 80.72\" id=\"fig-7af1b554904c4f478f3913ec9578349b-element-222\" gadfly:scale=\"10.0\" visibility=\"hidden\"/>\n",
       "      <path fill=\"none\" d=\"M187.2,5 L 187.2 80.72\" id=\"fig-7af1b554904c4f478f3913ec9578349b-element-223\" gadfly:scale=\"10.0\" visibility=\"hidden\"/>\n",
       "      <path fill=\"none\" d=\"M191.22,5 L 191.22 80.72\" id=\"fig-7af1b554904c4f478f3913ec9578349b-element-224\" gadfly:scale=\"10.0\" visibility=\"hidden\"/>\n",
       "      <path fill=\"none\" d=\"M195.24,5 L 195.24 80.72\" id=\"fig-7af1b554904c4f478f3913ec9578349b-element-225\" gadfly:scale=\"10.0\" visibility=\"hidden\"/>\n",
       "      <path fill=\"none\" d=\"M199.26,5 L 199.26 80.72\" id=\"fig-7af1b554904c4f478f3913ec9578349b-element-226\" gadfly:scale=\"10.0\" visibility=\"hidden\"/>\n",
       "      <path fill=\"none\" d=\"M203.28,5 L 203.28 80.72\" id=\"fig-7af1b554904c4f478f3913ec9578349b-element-227\" gadfly:scale=\"10.0\" visibility=\"hidden\"/>\n",
       "      <path fill=\"none\" d=\"M207.31,5 L 207.31 80.72\" id=\"fig-7af1b554904c4f478f3913ec9578349b-element-228\" gadfly:scale=\"10.0\" visibility=\"hidden\"/>\n",
       "      <path fill=\"none\" d=\"M211.33,5 L 211.33 80.72\" id=\"fig-7af1b554904c4f478f3913ec9578349b-element-229\" gadfly:scale=\"10.0\" visibility=\"hidden\"/>\n",
       "      <path fill=\"none\" d=\"M215.35,5 L 215.35 80.72\" id=\"fig-7af1b554904c4f478f3913ec9578349b-element-230\" gadfly:scale=\"10.0\" visibility=\"hidden\"/>\n",
       "      <path fill=\"none\" d=\"M219.37,5 L 219.37 80.72\" id=\"fig-7af1b554904c4f478f3913ec9578349b-element-231\" gadfly:scale=\"10.0\" visibility=\"hidden\"/>\n",
       "      <path fill=\"none\" d=\"M-82.26,5 L -82.26 80.72\" id=\"fig-7af1b554904c4f478f3913ec9578349b-element-232\" gadfly:scale=\"0.5\" visibility=\"hidden\"/>\n",
       "      <path fill=\"none\" d=\"M18.28,5 L 18.28 80.72\" id=\"fig-7af1b554904c4f478f3913ec9578349b-element-233\" gadfly:scale=\"0.5\" visibility=\"hidden\"/>\n",
       "      <path fill=\"none\" d=\"M118.83,5 L 118.83 80.72\" id=\"fig-7af1b554904c4f478f3913ec9578349b-element-234\" gadfly:scale=\"0.5\" visibility=\"hidden\"/>\n",
       "      <path fill=\"none\" d=\"M219.37,5 L 219.37 80.72\" id=\"fig-7af1b554904c4f478f3913ec9578349b-element-235\" gadfly:scale=\"0.5\" visibility=\"hidden\"/>\n",
       "      <path fill=\"none\" d=\"M-86.28,5 L -86.28 80.72\" id=\"fig-7af1b554904c4f478f3913ec9578349b-element-236\" gadfly:scale=\"5.0\" visibility=\"hidden\"/>\n",
       "      <path fill=\"none\" d=\"M-78.24,5 L -78.24 80.72\" id=\"fig-7af1b554904c4f478f3913ec9578349b-element-237\" gadfly:scale=\"5.0\" visibility=\"hidden\"/>\n",
       "      <path fill=\"none\" d=\"M-70.19,5 L -70.19 80.72\" id=\"fig-7af1b554904c4f478f3913ec9578349b-element-238\" gadfly:scale=\"5.0\" visibility=\"hidden\"/>\n",
       "      <path fill=\"none\" d=\"M-62.15,5 L -62.15 80.72\" id=\"fig-7af1b554904c4f478f3913ec9578349b-element-239\" gadfly:scale=\"5.0\" visibility=\"hidden\"/>\n",
       "      <path fill=\"none\" d=\"M-54.11,5 L -54.11 80.72\" id=\"fig-7af1b554904c4f478f3913ec9578349b-element-240\" gadfly:scale=\"5.0\" visibility=\"hidden\"/>\n",
       "      <path fill=\"none\" d=\"M-46.06,5 L -46.06 80.72\" id=\"fig-7af1b554904c4f478f3913ec9578349b-element-241\" gadfly:scale=\"5.0\" visibility=\"hidden\"/>\n",
       "      <path fill=\"none\" d=\"M-38.02,5 L -38.02 80.72\" id=\"fig-7af1b554904c4f478f3913ec9578349b-element-242\" gadfly:scale=\"5.0\" visibility=\"hidden\"/>\n",
       "      <path fill=\"none\" d=\"M-29.98,5 L -29.98 80.72\" id=\"fig-7af1b554904c4f478f3913ec9578349b-element-243\" gadfly:scale=\"5.0\" visibility=\"hidden\"/>\n",
       "      <path fill=\"none\" d=\"M-21.93,5 L -21.93 80.72\" id=\"fig-7af1b554904c4f478f3913ec9578349b-element-244\" gadfly:scale=\"5.0\" visibility=\"hidden\"/>\n",
       "      <path fill=\"none\" d=\"M-13.89,5 L -13.89 80.72\" id=\"fig-7af1b554904c4f478f3913ec9578349b-element-245\" gadfly:scale=\"5.0\" visibility=\"hidden\"/>\n",
       "      <path fill=\"none\" d=\"M-5.85,5 L -5.85 80.72\" id=\"fig-7af1b554904c4f478f3913ec9578349b-element-246\" gadfly:scale=\"5.0\" visibility=\"hidden\"/>\n",
       "      <path fill=\"none\" d=\"M2.2,5 L 2.2 80.72\" id=\"fig-7af1b554904c4f478f3913ec9578349b-element-247\" gadfly:scale=\"5.0\" visibility=\"hidden\"/>\n",
       "      <path fill=\"none\" d=\"M10.24,5 L 10.24 80.72\" id=\"fig-7af1b554904c4f478f3913ec9578349b-element-248\" gadfly:scale=\"5.0\" visibility=\"hidden\"/>\n",
       "      <path fill=\"none\" d=\"M18.28,5 L 18.28 80.72\" id=\"fig-7af1b554904c4f478f3913ec9578349b-element-249\" gadfly:scale=\"5.0\" visibility=\"hidden\"/>\n",
       "      <path fill=\"none\" d=\"M26.33,5 L 26.33 80.72\" id=\"fig-7af1b554904c4f478f3913ec9578349b-element-250\" gadfly:scale=\"5.0\" visibility=\"hidden\"/>\n",
       "      <path fill=\"none\" d=\"M34.37,5 L 34.37 80.72\" id=\"fig-7af1b554904c4f478f3913ec9578349b-element-251\" gadfly:scale=\"5.0\" visibility=\"hidden\"/>\n",
       "      <path fill=\"none\" d=\"M42.42,5 L 42.42 80.72\" id=\"fig-7af1b554904c4f478f3913ec9578349b-element-252\" gadfly:scale=\"5.0\" visibility=\"hidden\"/>\n",
       "      <path fill=\"none\" d=\"M50.46,5 L 50.46 80.72\" id=\"fig-7af1b554904c4f478f3913ec9578349b-element-253\" gadfly:scale=\"5.0\" visibility=\"hidden\"/>\n",
       "      <path fill=\"none\" d=\"M58.5,5 L 58.5 80.72\" id=\"fig-7af1b554904c4f478f3913ec9578349b-element-254\" gadfly:scale=\"5.0\" visibility=\"hidden\"/>\n",
       "      <path fill=\"none\" d=\"M66.55,5 L 66.55 80.72\" id=\"fig-7af1b554904c4f478f3913ec9578349b-element-255\" gadfly:scale=\"5.0\" visibility=\"hidden\"/>\n",
       "      <path fill=\"none\" d=\"M74.59,5 L 74.59 80.72\" id=\"fig-7af1b554904c4f478f3913ec9578349b-element-256\" gadfly:scale=\"5.0\" visibility=\"hidden\"/>\n",
       "      <path fill=\"none\" d=\"M82.63,5 L 82.63 80.72\" id=\"fig-7af1b554904c4f478f3913ec9578349b-element-257\" gadfly:scale=\"5.0\" visibility=\"hidden\"/>\n",
       "      <path fill=\"none\" d=\"M90.68,5 L 90.68 80.72\" id=\"fig-7af1b554904c4f478f3913ec9578349b-element-258\" gadfly:scale=\"5.0\" visibility=\"hidden\"/>\n",
       "      <path fill=\"none\" d=\"M98.72,5 L 98.72 80.72\" id=\"fig-7af1b554904c4f478f3913ec9578349b-element-259\" gadfly:scale=\"5.0\" visibility=\"hidden\"/>\n",
       "      <path fill=\"none\" d=\"M106.76,5 L 106.76 80.72\" id=\"fig-7af1b554904c4f478f3913ec9578349b-element-260\" gadfly:scale=\"5.0\" visibility=\"hidden\"/>\n",
       "      <path fill=\"none\" d=\"M114.81,5 L 114.81 80.72\" id=\"fig-7af1b554904c4f478f3913ec9578349b-element-261\" gadfly:scale=\"5.0\" visibility=\"hidden\"/>\n",
       "      <path fill=\"none\" d=\"M122.85,5 L 122.85 80.72\" id=\"fig-7af1b554904c4f478f3913ec9578349b-element-262\" gadfly:scale=\"5.0\" visibility=\"hidden\"/>\n",
       "      <path fill=\"none\" d=\"M130.89,5 L 130.89 80.72\" id=\"fig-7af1b554904c4f478f3913ec9578349b-element-263\" gadfly:scale=\"5.0\" visibility=\"hidden\"/>\n",
       "      <path fill=\"none\" d=\"M138.94,5 L 138.94 80.72\" id=\"fig-7af1b554904c4f478f3913ec9578349b-element-264\" gadfly:scale=\"5.0\" visibility=\"hidden\"/>\n",
       "      <path fill=\"none\" d=\"M146.98,5 L 146.98 80.72\" id=\"fig-7af1b554904c4f478f3913ec9578349b-element-265\" gadfly:scale=\"5.0\" visibility=\"hidden\"/>\n",
       "      <path fill=\"none\" d=\"M155.02,5 L 155.02 80.72\" id=\"fig-7af1b554904c4f478f3913ec9578349b-element-266\" gadfly:scale=\"5.0\" visibility=\"hidden\"/>\n",
       "      <path fill=\"none\" d=\"M163.07,5 L 163.07 80.72\" id=\"fig-7af1b554904c4f478f3913ec9578349b-element-267\" gadfly:scale=\"5.0\" visibility=\"hidden\"/>\n",
       "      <path fill=\"none\" d=\"M171.11,5 L 171.11 80.72\" id=\"fig-7af1b554904c4f478f3913ec9578349b-element-268\" gadfly:scale=\"5.0\" visibility=\"hidden\"/>\n",
       "      <path fill=\"none\" d=\"M179.15,5 L 179.15 80.72\" id=\"fig-7af1b554904c4f478f3913ec9578349b-element-269\" gadfly:scale=\"5.0\" visibility=\"hidden\"/>\n",
       "      <path fill=\"none\" d=\"M187.2,5 L 187.2 80.72\" id=\"fig-7af1b554904c4f478f3913ec9578349b-element-270\" gadfly:scale=\"5.0\" visibility=\"hidden\"/>\n",
       "      <path fill=\"none\" d=\"M195.24,5 L 195.24 80.72\" id=\"fig-7af1b554904c4f478f3913ec9578349b-element-271\" gadfly:scale=\"5.0\" visibility=\"hidden\"/>\n",
       "      <path fill=\"none\" d=\"M203.28,5 L 203.28 80.72\" id=\"fig-7af1b554904c4f478f3913ec9578349b-element-272\" gadfly:scale=\"5.0\" visibility=\"hidden\"/>\n",
       "      <path fill=\"none\" d=\"M211.33,5 L 211.33 80.72\" id=\"fig-7af1b554904c4f478f3913ec9578349b-element-273\" gadfly:scale=\"5.0\" visibility=\"hidden\"/>\n",
       "      <path fill=\"none\" d=\"M219.37,5 L 219.37 80.72\" id=\"fig-7af1b554904c4f478f3913ec9578349b-element-274\" gadfly:scale=\"5.0\" visibility=\"hidden\"/>\n",
       "    </g>\n",
       "    <g class=\"plotpanel\" id=\"fig-7af1b554904c4f478f3913ec9578349b-element-275\">\n",
       "      <g class=\"geometry\" id=\"fig-7af1b554904c4f478f3913ec9578349b-element-276\">\n",
       "        <g stroke-width=\"0.3\" id=\"fig-7af1b554904c4f478f3913ec9578349b-element-277\">\n",
       "          <circle cx=\"26.33\" cy=\"66.16\" r=\"0.9\" id=\"fig-7af1b554904c4f478f3913ec9578349b-element-278\" stroke=\"#FFFFFF\" class=\"color_setosa\" fill=\"#00BFFF\"/>\n",
       "          <circle cx=\"26.33\" cy=\"66.16\" r=\"0.9\" id=\"fig-7af1b554904c4f478f3913ec9578349b-element-279\" stroke=\"#FFFFFF\" class=\"color_setosa\" fill=\"#00BFFF\"/>\n",
       "          <circle cx=\"26.33\" cy=\"67.06\" r=\"0.9\" id=\"fig-7af1b554904c4f478f3913ec9578349b-element-280\" stroke=\"#FFFFFF\" class=\"color_setosa\" fill=\"#00BFFF\"/>\n",
       "          <circle cx=\"26.33\" cy=\"65.27\" r=\"0.9\" id=\"fig-7af1b554904c4f478f3913ec9578349b-element-281\" stroke=\"#FFFFFF\" class=\"color_setosa\" fill=\"#00BFFF\"/>\n",
       "          <circle cx=\"26.33\" cy=\"66.16\" r=\"0.9\" id=\"fig-7af1b554904c4f478f3913ec9578349b-element-282\" stroke=\"#FFFFFF\" class=\"color_setosa\" fill=\"#00BFFF\"/>\n",
       "          <circle cx=\"34.37\" cy=\"63.48\" r=\"0.9\" id=\"fig-7af1b554904c4f478f3913ec9578349b-element-283\" stroke=\"#FFFFFF\" class=\"color_setosa\" fill=\"#00BFFF\"/>\n",
       "          <circle cx=\"30.35\" cy=\"66.16\" r=\"0.9\" id=\"fig-7af1b554904c4f478f3913ec9578349b-element-284\" stroke=\"#FFFFFF\" class=\"color_setosa\" fill=\"#00BFFF\"/>\n",
       "          <circle cx=\"26.33\" cy=\"65.27\" r=\"0.9\" id=\"fig-7af1b554904c4f478f3913ec9578349b-element-285\" stroke=\"#FFFFFF\" class=\"color_setosa\" fill=\"#00BFFF\"/>\n",
       "          <circle cx=\"26.33\" cy=\"66.16\" r=\"0.9\" id=\"fig-7af1b554904c4f478f3913ec9578349b-element-286\" stroke=\"#FFFFFF\" class=\"color_setosa\" fill=\"#00BFFF\"/>\n",
       "          <circle cx=\"22.31\" cy=\"65.27\" r=\"0.9\" id=\"fig-7af1b554904c4f478f3913ec9578349b-element-287\" stroke=\"#FFFFFF\" class=\"color_setosa\" fill=\"#00BFFF\"/>\n",
       "          <circle cx=\"26.33\" cy=\"65.27\" r=\"0.9\" id=\"fig-7af1b554904c4f478f3913ec9578349b-element-288\" stroke=\"#FFFFFF\" class=\"color_setosa\" fill=\"#00BFFF\"/>\n",
       "          <circle cx=\"26.33\" cy=\"64.37\" r=\"0.9\" id=\"fig-7af1b554904c4f478f3913ec9578349b-element-289\" stroke=\"#FFFFFF\" class=\"color_setosa\" fill=\"#00BFFF\"/>\n",
       "          <circle cx=\"22.31\" cy=\"66.16\" r=\"0.9\" id=\"fig-7af1b554904c4f478f3913ec9578349b-element-290\" stroke=\"#FFFFFF\" class=\"color_setosa\" fill=\"#00BFFF\"/>\n",
       "          <circle cx=\"22.31\" cy=\"68.85\" r=\"0.9\" id=\"fig-7af1b554904c4f478f3913ec9578349b-element-291\" stroke=\"#FFFFFF\" class=\"color_setosa\" fill=\"#00BFFF\"/>\n",
       "          <circle cx=\"26.33\" cy=\"67.96\" r=\"0.9\" id=\"fig-7af1b554904c4f478f3913ec9578349b-element-292\" stroke=\"#FFFFFF\" class=\"color_setosa\" fill=\"#00BFFF\"/>\n",
       "          <circle cx=\"34.37\" cy=\"65.27\" r=\"0.9\" id=\"fig-7af1b554904c4f478f3913ec9578349b-element-293\" stroke=\"#FFFFFF\" class=\"color_setosa\" fill=\"#00BFFF\"/>\n",
       "          <circle cx=\"34.37\" cy=\"67.06\" r=\"0.9\" id=\"fig-7af1b554904c4f478f3913ec9578349b-element-294\" stroke=\"#FFFFFF\" class=\"color_setosa\" fill=\"#00BFFF\"/>\n",
       "          <circle cx=\"30.35\" cy=\"66.16\" r=\"0.9\" id=\"fig-7af1b554904c4f478f3913ec9578349b-element-295\" stroke=\"#FFFFFF\" class=\"color_setosa\" fill=\"#00BFFF\"/>\n",
       "          <circle cx=\"30.35\" cy=\"63.48\" r=\"0.9\" id=\"fig-7af1b554904c4f478f3913ec9578349b-element-296\" stroke=\"#FFFFFF\" class=\"color_setosa\" fill=\"#00BFFF\"/>\n",
       "          <circle cx=\"30.35\" cy=\"65.27\" r=\"0.9\" id=\"fig-7af1b554904c4f478f3913ec9578349b-element-297\" stroke=\"#FFFFFF\" class=\"color_setosa\" fill=\"#00BFFF\"/>\n",
       "          <circle cx=\"26.33\" cy=\"63.48\" r=\"0.9\" id=\"fig-7af1b554904c4f478f3913ec9578349b-element-298\" stroke=\"#FFFFFF\" class=\"color_setosa\" fill=\"#00BFFF\"/>\n",
       "          <circle cx=\"34.37\" cy=\"65.27\" r=\"0.9\" id=\"fig-7af1b554904c4f478f3913ec9578349b-element-299\" stroke=\"#FFFFFF\" class=\"color_setosa\" fill=\"#00BFFF\"/>\n",
       "          <circle cx=\"26.33\" cy=\"69.75\" r=\"0.9\" id=\"fig-7af1b554904c4f478f3913ec9578349b-element-300\" stroke=\"#FFFFFF\" class=\"color_setosa\" fill=\"#00BFFF\"/>\n",
       "          <circle cx=\"38.39\" cy=\"63.48\" r=\"0.9\" id=\"fig-7af1b554904c4f478f3913ec9578349b-element-301\" stroke=\"#FFFFFF\" class=\"color_setosa\" fill=\"#00BFFF\"/>\n",
       "          <circle cx=\"26.33\" cy=\"61.68\" r=\"0.9\" id=\"fig-7af1b554904c4f478f3913ec9578349b-element-302\" stroke=\"#FFFFFF\" class=\"color_setosa\" fill=\"#00BFFF\"/>\n",
       "          <circle cx=\"26.33\" cy=\"64.37\" r=\"0.9\" id=\"fig-7af1b554904c4f478f3913ec9578349b-element-303\" stroke=\"#FFFFFF\" class=\"color_setosa\" fill=\"#00BFFF\"/>\n",
       "          <circle cx=\"34.37\" cy=\"64.37\" r=\"0.9\" id=\"fig-7af1b554904c4f478f3913ec9578349b-element-304\" stroke=\"#FFFFFF\" class=\"color_setosa\" fill=\"#00BFFF\"/>\n",
       "          <circle cx=\"26.33\" cy=\"65.27\" r=\"0.9\" id=\"fig-7af1b554904c4f478f3913ec9578349b-element-305\" stroke=\"#FFFFFF\" class=\"color_setosa\" fill=\"#00BFFF\"/>\n",
       "          <circle cx=\"26.33\" cy=\"66.16\" r=\"0.9\" id=\"fig-7af1b554904c4f478f3913ec9578349b-element-306\" stroke=\"#FFFFFF\" class=\"color_setosa\" fill=\"#00BFFF\"/>\n",
       "          <circle cx=\"26.33\" cy=\"64.37\" r=\"0.9\" id=\"fig-7af1b554904c4f478f3913ec9578349b-element-307\" stroke=\"#FFFFFF\" class=\"color_setosa\" fill=\"#00BFFF\"/>\n",
       "          <circle cx=\"26.33\" cy=\"64.37\" r=\"0.9\" id=\"fig-7af1b554904c4f478f3913ec9578349b-element-308\" stroke=\"#FFFFFF\" class=\"color_setosa\" fill=\"#00BFFF\"/>\n",
       "          <circle cx=\"34.37\" cy=\"65.27\" r=\"0.9\" id=\"fig-7af1b554904c4f478f3913ec9578349b-element-309\" stroke=\"#FFFFFF\" class=\"color_setosa\" fill=\"#00BFFF\"/>\n",
       "          <circle cx=\"22.31\" cy=\"65.27\" r=\"0.9\" id=\"fig-7af1b554904c4f478f3913ec9578349b-element-310\" stroke=\"#FFFFFF\" class=\"color_setosa\" fill=\"#00BFFF\"/>\n",
       "          <circle cx=\"26.33\" cy=\"66.16\" r=\"0.9\" id=\"fig-7af1b554904c4f478f3913ec9578349b-element-311\" stroke=\"#FFFFFF\" class=\"color_setosa\" fill=\"#00BFFF\"/>\n",
       "          <circle cx=\"26.33\" cy=\"65.27\" r=\"0.9\" id=\"fig-7af1b554904c4f478f3913ec9578349b-element-312\" stroke=\"#FFFFFF\" class=\"color_setosa\" fill=\"#00BFFF\"/>\n",
       "          <circle cx=\"26.33\" cy=\"67.96\" r=\"0.9\" id=\"fig-7af1b554904c4f478f3913ec9578349b-element-313\" stroke=\"#FFFFFF\" class=\"color_setosa\" fill=\"#00BFFF\"/>\n",
       "          <circle cx=\"26.33\" cy=\"67.06\" r=\"0.9\" id=\"fig-7af1b554904c4f478f3913ec9578349b-element-314\" stroke=\"#FFFFFF\" class=\"color_setosa\" fill=\"#00BFFF\"/>\n",
       "          <circle cx=\"22.31\" cy=\"66.16\" r=\"0.9\" id=\"fig-7af1b554904c4f478f3913ec9578349b-element-315\" stroke=\"#FFFFFF\" class=\"color_setosa\" fill=\"#00BFFF\"/>\n",
       "          <circle cx=\"26.33\" cy=\"67.06\" r=\"0.9\" id=\"fig-7af1b554904c4f478f3913ec9578349b-element-316\" stroke=\"#FFFFFF\" class=\"color_setosa\" fill=\"#00BFFF\"/>\n",
       "          <circle cx=\"26.33\" cy=\"65.27\" r=\"0.9\" id=\"fig-7af1b554904c4f478f3913ec9578349b-element-317\" stroke=\"#FFFFFF\" class=\"color_setosa\" fill=\"#00BFFF\"/>\n",
       "          <circle cx=\"30.35\" cy=\"67.06\" r=\"0.9\" id=\"fig-7af1b554904c4f478f3913ec9578349b-element-318\" stroke=\"#FFFFFF\" class=\"color_setosa\" fill=\"#00BFFF\"/>\n",
       "          <circle cx=\"30.35\" cy=\"67.06\" r=\"0.9\" id=\"fig-7af1b554904c4f478f3913ec9578349b-element-319\" stroke=\"#FFFFFF\" class=\"color_setosa\" fill=\"#00BFFF\"/>\n",
       "          <circle cx=\"26.33\" cy=\"67.06\" r=\"0.9\" id=\"fig-7af1b554904c4f478f3913ec9578349b-element-320\" stroke=\"#FFFFFF\" class=\"color_setosa\" fill=\"#00BFFF\"/>\n",
       "          <circle cx=\"42.42\" cy=\"64.37\" r=\"0.9\" id=\"fig-7af1b554904c4f478f3913ec9578349b-element-321\" stroke=\"#FFFFFF\" class=\"color_setosa\" fill=\"#00BFFF\"/>\n",
       "          <circle cx=\"34.37\" cy=\"61.68\" r=\"0.9\" id=\"fig-7af1b554904c4f478f3913ec9578349b-element-322\" stroke=\"#FFFFFF\" class=\"color_setosa\" fill=\"#00BFFF\"/>\n",
       "          <circle cx=\"30.35\" cy=\"66.16\" r=\"0.9\" id=\"fig-7af1b554904c4f478f3913ec9578349b-element-323\" stroke=\"#FFFFFF\" class=\"color_setosa\" fill=\"#00BFFF\"/>\n",
       "          <circle cx=\"26.33\" cy=\"64.37\" r=\"0.9\" id=\"fig-7af1b554904c4f478f3913ec9578349b-element-324\" stroke=\"#FFFFFF\" class=\"color_setosa\" fill=\"#00BFFF\"/>\n",
       "          <circle cx=\"26.33\" cy=\"66.16\" r=\"0.9\" id=\"fig-7af1b554904c4f478f3913ec9578349b-element-325\" stroke=\"#FFFFFF\" class=\"color_setosa\" fill=\"#00BFFF\"/>\n",
       "          <circle cx=\"26.33\" cy=\"65.27\" r=\"0.9\" id=\"fig-7af1b554904c4f478f3913ec9578349b-element-326\" stroke=\"#FFFFFF\" class=\"color_setosa\" fill=\"#00BFFF\"/>\n",
       "          <circle cx=\"26.33\" cy=\"66.16\" r=\"0.9\" id=\"fig-7af1b554904c4f478f3913ec9578349b-element-327\" stroke=\"#FFFFFF\" class=\"color_setosa\" fill=\"#00BFFF\"/>\n",
       "          <circle cx=\"74.59\" cy=\"36.58\" r=\"0.9\" id=\"fig-7af1b554904c4f478f3913ec9578349b-element-328\" stroke=\"#FFFFFF\" class=\"color_versicolor\" fill=\"#D4CA3A\"/>\n",
       "          <circle cx=\"78.61\" cy=\"38.38\" r=\"0.9\" id=\"fig-7af1b554904c4f478f3913ec9578349b-element-329\" stroke=\"#FFFFFF\" class=\"color_versicolor\" fill=\"#D4CA3A\"/>\n",
       "          <circle cx=\"78.61\" cy=\"34.79\" r=\"0.9\" id=\"fig-7af1b554904c4f478f3913ec9578349b-element-330\" stroke=\"#FFFFFF\" class=\"color_versicolor\" fill=\"#D4CA3A\"/>\n",
       "          <circle cx=\"70.57\" cy=\"42.86\" r=\"0.9\" id=\"fig-7af1b554904c4f478f3913ec9578349b-element-331\" stroke=\"#FFFFFF\" class=\"color_versicolor\" fill=\"#D4CA3A\"/>\n",
       "          <circle cx=\"78.61\" cy=\"37.48\" r=\"0.9\" id=\"fig-7af1b554904c4f478f3913ec9578349b-element-332\" stroke=\"#FFFFFF\" class=\"color_versicolor\" fill=\"#D4CA3A\"/>\n",
       "          <circle cx=\"70.57\" cy=\"38.38\" r=\"0.9\" id=\"fig-7af1b554904c4f478f3913ec9578349b-element-333\" stroke=\"#FFFFFF\" class=\"color_versicolor\" fill=\"#D4CA3A\"/>\n",
       "          <circle cx=\"82.63\" cy=\"36.58\" r=\"0.9\" id=\"fig-7af1b554904c4f478f3913ec9578349b-element-334\" stroke=\"#FFFFFF\" class=\"color_versicolor\" fill=\"#D4CA3A\"/>\n",
       "          <circle cx=\"58.5\" cy=\"49.13\" r=\"0.9\" id=\"fig-7af1b554904c4f478f3913ec9578349b-element-335\" stroke=\"#FFFFFF\" class=\"color_versicolor\" fill=\"#D4CA3A\"/>\n",
       "          <circle cx=\"70.57\" cy=\"37.48\" r=\"0.9\" id=\"fig-7af1b554904c4f478f3913ec9578349b-element-336\" stroke=\"#FFFFFF\" class=\"color_versicolor\" fill=\"#D4CA3A\"/>\n",
       "          <circle cx=\"74.59\" cy=\"43.75\" r=\"0.9\" id=\"fig-7af1b554904c4f478f3913ec9578349b-element-337\" stroke=\"#FFFFFF\" class=\"color_versicolor\" fill=\"#D4CA3A\"/>\n",
       "          <circle cx=\"58.5\" cy=\"47.34\" r=\"0.9\" id=\"fig-7af1b554904c4f478f3913ec9578349b-element-338\" stroke=\"#FFFFFF\" class=\"color_versicolor\" fill=\"#D4CA3A\"/>\n",
       "          <circle cx=\"78.61\" cy=\"41.06\" r=\"0.9\" id=\"fig-7af1b554904c4f478f3913ec9578349b-element-339\" stroke=\"#FFFFFF\" class=\"color_versicolor\" fill=\"#D4CA3A\"/>\n",
       "          <circle cx=\"58.5\" cy=\"42.86\" r=\"0.9\" id=\"fig-7af1b554904c4f478f3913ec9578349b-element-340\" stroke=\"#FFFFFF\" class=\"color_versicolor\" fill=\"#D4CA3A\"/>\n",
       "          <circle cx=\"74.59\" cy=\"36.58\" r=\"0.9\" id=\"fig-7af1b554904c4f478f3913ec9578349b-element-341\" stroke=\"#FFFFFF\" class=\"color_versicolor\" fill=\"#D4CA3A\"/>\n",
       "          <circle cx=\"70.57\" cy=\"46.44\" r=\"0.9\" id=\"fig-7af1b554904c4f478f3913ec9578349b-element-342\" stroke=\"#FFFFFF\" class=\"color_versicolor\" fill=\"#D4CA3A\"/>\n",
       "          <circle cx=\"74.59\" cy=\"39.27\" r=\"0.9\" id=\"fig-7af1b554904c4f478f3913ec9578349b-element-343\" stroke=\"#FFFFFF\" class=\"color_versicolor\" fill=\"#D4CA3A\"/>\n",
       "          <circle cx=\"78.61\" cy=\"38.38\" r=\"0.9\" id=\"fig-7af1b554904c4f478f3913ec9578349b-element-344\" stroke=\"#FFFFFF\" class=\"color_versicolor\" fill=\"#D4CA3A\"/>\n",
       "          <circle cx=\"58.5\" cy=\"41.96\" r=\"0.9\" id=\"fig-7af1b554904c4f478f3913ec9578349b-element-345\" stroke=\"#FFFFFF\" class=\"color_versicolor\" fill=\"#D4CA3A\"/>\n",
       "          <circle cx=\"78.61\" cy=\"38.38\" r=\"0.9\" id=\"fig-7af1b554904c4f478f3913ec9578349b-element-346\" stroke=\"#FFFFFF\" class=\"color_versicolor\" fill=\"#D4CA3A\"/>\n",
       "          <circle cx=\"62.52\" cy=\"43.75\" r=\"0.9\" id=\"fig-7af1b554904c4f478f3913ec9578349b-element-347\" stroke=\"#FFFFFF\" class=\"color_versicolor\" fill=\"#D4CA3A\"/>\n",
       "          <circle cx=\"90.68\" cy=\"35.69\" r=\"0.9\" id=\"fig-7af1b554904c4f478f3913ec9578349b-element-348\" stroke=\"#FFFFFF\" class=\"color_versicolor\" fill=\"#D4CA3A\"/>\n",
       "          <circle cx=\"70.57\" cy=\"42.86\" r=\"0.9\" id=\"fig-7af1b554904c4f478f3913ec9578349b-element-349\" stroke=\"#FFFFFF\" class=\"color_versicolor\" fill=\"#D4CA3A\"/>\n",
       "          <circle cx=\"78.61\" cy=\"34.79\" r=\"0.9\" id=\"fig-7af1b554904c4f478f3913ec9578349b-element-350\" stroke=\"#FFFFFF\" class=\"color_versicolor\" fill=\"#D4CA3A\"/>\n",
       "          <circle cx=\"66.55\" cy=\"36.58\" r=\"0.9\" id=\"fig-7af1b554904c4f478f3913ec9578349b-element-351\" stroke=\"#FFFFFF\" class=\"color_versicolor\" fill=\"#D4CA3A\"/>\n",
       "          <circle cx=\"70.57\" cy=\"40.17\" r=\"0.9\" id=\"fig-7af1b554904c4f478f3913ec9578349b-element-352\" stroke=\"#FFFFFF\" class=\"color_versicolor\" fill=\"#D4CA3A\"/>\n",
       "          <circle cx=\"74.59\" cy=\"39.27\" r=\"0.9\" id=\"fig-7af1b554904c4f478f3913ec9578349b-element-353\" stroke=\"#FFFFFF\" class=\"color_versicolor\" fill=\"#D4CA3A\"/>\n",
       "          <circle cx=\"74.59\" cy=\"35.69\" r=\"0.9\" id=\"fig-7af1b554904c4f478f3913ec9578349b-element-354\" stroke=\"#FFFFFF\" class=\"color_versicolor\" fill=\"#D4CA3A\"/>\n",
       "          <circle cx=\"86.65\" cy=\"33.89\" r=\"0.9\" id=\"fig-7af1b554904c4f478f3913ec9578349b-element-355\" stroke=\"#FFFFFF\" class=\"color_versicolor\" fill=\"#D4CA3A\"/>\n",
       "          <circle cx=\"78.61\" cy=\"38.38\" r=\"0.9\" id=\"fig-7af1b554904c4f478f3913ec9578349b-element-356\" stroke=\"#FFFFFF\" class=\"color_versicolor\" fill=\"#D4CA3A\"/>\n",
       "          <circle cx=\"58.5\" cy=\"47.34\" r=\"0.9\" id=\"fig-7af1b554904c4f478f3913ec9578349b-element-357\" stroke=\"#FFFFFF\" class=\"color_versicolor\" fill=\"#D4CA3A\"/>\n",
       "          <circle cx=\"62.52\" cy=\"44.65\" r=\"0.9\" id=\"fig-7af1b554904c4f478f3913ec9578349b-element-358\" stroke=\"#FFFFFF\" class=\"color_versicolor\" fill=\"#D4CA3A\"/>\n",
       "          <circle cx=\"58.5\" cy=\"45.55\" r=\"0.9\" id=\"fig-7af1b554904c4f478f3913ec9578349b-element-359\" stroke=\"#FFFFFF\" class=\"color_versicolor\" fill=\"#D4CA3A\"/>\n",
       "          <circle cx=\"66.55\" cy=\"43.75\" r=\"0.9\" id=\"fig-7af1b554904c4f478f3913ec9578349b-element-360\" stroke=\"#FFFFFF\" class=\"color_versicolor\" fill=\"#D4CA3A\"/>\n",
       "          <circle cx=\"82.63\" cy=\"33\" r=\"0.9\" id=\"fig-7af1b554904c4f478f3913ec9578349b-element-361\" stroke=\"#FFFFFF\" class=\"color_versicolor\" fill=\"#D4CA3A\"/>\n",
       "          <circle cx=\"78.61\" cy=\"38.38\" r=\"0.9\" id=\"fig-7af1b554904c4f478f3913ec9578349b-element-362\" stroke=\"#FFFFFF\" class=\"color_versicolor\" fill=\"#D4CA3A\"/>\n",
       "          <circle cx=\"82.63\" cy=\"38.38\" r=\"0.9\" id=\"fig-7af1b554904c4f478f3913ec9578349b-element-363\" stroke=\"#FFFFFF\" class=\"color_versicolor\" fill=\"#D4CA3A\"/>\n",
       "          <circle cx=\"78.61\" cy=\"36.58\" r=\"0.9\" id=\"fig-7af1b554904c4f478f3913ec9578349b-element-364\" stroke=\"#FFFFFF\" class=\"color_versicolor\" fill=\"#D4CA3A\"/>\n",
       "          <circle cx=\"70.57\" cy=\"39.27\" r=\"0.9\" id=\"fig-7af1b554904c4f478f3913ec9578349b-element-365\" stroke=\"#FFFFFF\" class=\"color_versicolor\" fill=\"#D4CA3A\"/>\n",
       "          <circle cx=\"70.57\" cy=\"41.96\" r=\"0.9\" id=\"fig-7af1b554904c4f478f3913ec9578349b-element-366\" stroke=\"#FFFFFF\" class=\"color_versicolor\" fill=\"#D4CA3A\"/>\n",
       "          <circle cx=\"70.57\" cy=\"42.86\" r=\"0.9\" id=\"fig-7af1b554904c4f478f3913ec9578349b-element-367\" stroke=\"#FFFFFF\" class=\"color_versicolor\" fill=\"#D4CA3A\"/>\n",
       "          <circle cx=\"66.55\" cy=\"39.27\" r=\"0.9\" id=\"fig-7af1b554904c4f478f3913ec9578349b-element-368\" stroke=\"#FFFFFF\" class=\"color_versicolor\" fill=\"#D4CA3A\"/>\n",
       "          <circle cx=\"74.59\" cy=\"37.48\" r=\"0.9\" id=\"fig-7af1b554904c4f478f3913ec9578349b-element-369\" stroke=\"#FFFFFF\" class=\"color_versicolor\" fill=\"#D4CA3A\"/>\n",
       "          <circle cx=\"66.55\" cy=\"42.86\" r=\"0.9\" id=\"fig-7af1b554904c4f478f3913ec9578349b-element-370\" stroke=\"#FFFFFF\" class=\"color_versicolor\" fill=\"#D4CA3A\"/>\n",
       "          <circle cx=\"58.5\" cy=\"49.13\" r=\"0.9\" id=\"fig-7af1b554904c4f478f3913ec9578349b-element-371\" stroke=\"#FFFFFF\" class=\"color_versicolor\" fill=\"#D4CA3A\"/>\n",
       "          <circle cx=\"70.57\" cy=\"41.06\" r=\"0.9\" id=\"fig-7af1b554904c4f478f3913ec9578349b-element-372\" stroke=\"#FFFFFF\" class=\"color_versicolor\" fill=\"#D4CA3A\"/>\n",
       "          <circle cx=\"66.55\" cy=\"41.06\" r=\"0.9\" id=\"fig-7af1b554904c4f478f3913ec9578349b-element-373\" stroke=\"#FFFFFF\" class=\"color_versicolor\" fill=\"#D4CA3A\"/>\n",
       "          <circle cx=\"70.57\" cy=\"41.06\" r=\"0.9\" id=\"fig-7af1b554904c4f478f3913ec9578349b-element-374\" stroke=\"#FFFFFF\" class=\"color_versicolor\" fill=\"#D4CA3A\"/>\n",
       "          <circle cx=\"70.57\" cy=\"40.17\" r=\"0.9\" id=\"fig-7af1b554904c4f478f3913ec9578349b-element-375\" stroke=\"#FFFFFF\" class=\"color_versicolor\" fill=\"#D4CA3A\"/>\n",
       "          <circle cx=\"62.52\" cy=\"51.82\" r=\"0.9\" id=\"fig-7af1b554904c4f478f3913ec9578349b-element-376\" stroke=\"#FFFFFF\" class=\"color_versicolor\" fill=\"#D4CA3A\"/>\n",
       "          <circle cx=\"70.57\" cy=\"41.96\" r=\"0.9\" id=\"fig-7af1b554904c4f478f3913ec9578349b-element-377\" stroke=\"#FFFFFF\" class=\"color_versicolor\" fill=\"#D4CA3A\"/>\n",
       "          <circle cx=\"118.83\" cy=\"24.93\" r=\"0.9\" id=\"fig-7af1b554904c4f478f3913ec9578349b-element-378\" stroke=\"#FFFFFF\" class=\"color_virginica\" fill=\"#FF5EA0\"/>\n",
       "          <circle cx=\"94.7\" cy=\"33\" r=\"0.9\" id=\"fig-7af1b554904c4f478f3913ec9578349b-element-379\" stroke=\"#FFFFFF\" class=\"color_virginica\" fill=\"#FF5EA0\"/>\n",
       "          <circle cx=\"102.74\" cy=\"25.83\" r=\"0.9\" id=\"fig-7af1b554904c4f478f3913ec9578349b-element-380\" stroke=\"#FFFFFF\" class=\"color_virginica\" fill=\"#FF5EA0\"/>\n",
       "          <circle cx=\"90.68\" cy=\"28.51\" r=\"0.9\" id=\"fig-7af1b554904c4f478f3913ec9578349b-element-381\" stroke=\"#FFFFFF\" class=\"color_virginica\" fill=\"#FF5EA0\"/>\n",
       "          <circle cx=\"106.76\" cy=\"26.72\" r=\"0.9\" id=\"fig-7af1b554904c4f478f3913ec9578349b-element-382\" stroke=\"#FFFFFF\" class=\"color_virginica\" fill=\"#FF5EA0\"/>\n",
       "          <circle cx=\"102.74\" cy=\"19.55\" r=\"0.9\" id=\"fig-7af1b554904c4f478f3913ec9578349b-element-383\" stroke=\"#FFFFFF\" class=\"color_virginica\" fill=\"#FF5EA0\"/>\n",
       "          <circle cx=\"86.65\" cy=\"38.38\" r=\"0.9\" id=\"fig-7af1b554904c4f478f3913ec9578349b-element-384\" stroke=\"#FFFFFF\" class=\"color_virginica\" fill=\"#FF5EA0\"/>\n",
       "          <circle cx=\"90.68\" cy=\"22.24\" r=\"0.9\" id=\"fig-7af1b554904c4f478f3913ec9578349b-element-385\" stroke=\"#FFFFFF\" class=\"color_virginica\" fill=\"#FF5EA0\"/>\n",
       "          <circle cx=\"90.68\" cy=\"26.72\" r=\"0.9\" id=\"fig-7af1b554904c4f478f3913ec9578349b-element-386\" stroke=\"#FFFFFF\" class=\"color_virginica\" fill=\"#FF5EA0\"/>\n",
       "          <circle cx=\"118.83\" cy=\"24.03\" r=\"0.9\" id=\"fig-7af1b554904c4f478f3913ec9578349b-element-387\" stroke=\"#FFFFFF\" class=\"color_virginica\" fill=\"#FF5EA0\"/>\n",
       "          <circle cx=\"98.72\" cy=\"33\" r=\"0.9\" id=\"fig-7af1b554904c4f478f3913ec9578349b-element-388\" stroke=\"#FFFFFF\" class=\"color_virginica\" fill=\"#FF5EA0\"/>\n",
       "          <circle cx=\"94.7\" cy=\"31.2\" r=\"0.9\" id=\"fig-7af1b554904c4f478f3913ec9578349b-element-389\" stroke=\"#FFFFFF\" class=\"color_virginica\" fill=\"#FF5EA0\"/>\n",
       "          <circle cx=\"102.74\" cy=\"29.41\" r=\"0.9\" id=\"fig-7af1b554904c4f478f3913ec9578349b-element-390\" stroke=\"#FFFFFF\" class=\"color_virginica\" fill=\"#FF5EA0\"/>\n",
       "          <circle cx=\"98.72\" cy=\"33.89\" r=\"0.9\" id=\"fig-7af1b554904c4f478f3913ec9578349b-element-391\" stroke=\"#FFFFFF\" class=\"color_virginica\" fill=\"#FF5EA0\"/>\n",
       "          <circle cx=\"114.81\" cy=\"33\" r=\"0.9\" id=\"fig-7af1b554904c4f478f3913ec9578349b-element-392\" stroke=\"#FFFFFF\" class=\"color_virginica\" fill=\"#FF5EA0\"/>\n",
       "          <circle cx=\"110.78\" cy=\"31.2\" r=\"0.9\" id=\"fig-7af1b554904c4f478f3913ec9578349b-element-393\" stroke=\"#FFFFFF\" class=\"color_virginica\" fill=\"#FF5EA0\"/>\n",
       "          <circle cx=\"90.68\" cy=\"29.41\" r=\"0.9\" id=\"fig-7af1b554904c4f478f3913ec9578349b-element-394\" stroke=\"#FFFFFF\" class=\"color_virginica\" fill=\"#FF5EA0\"/>\n",
       "          <circle cx=\"106.76\" cy=\"18.65\" r=\"0.9\" id=\"fig-7af1b554904c4f478f3913ec9578349b-element-395\" stroke=\"#FFFFFF\" class=\"color_virginica\" fill=\"#FF5EA0\"/>\n",
       "          <circle cx=\"110.78\" cy=\"16.86\" r=\"0.9\" id=\"fig-7af1b554904c4f478f3913ec9578349b-element-396\" stroke=\"#FFFFFF\" class=\"color_virginica\" fill=\"#FF5EA0\"/>\n",
       "          <circle cx=\"78.61\" cy=\"33.89\" r=\"0.9\" id=\"fig-7af1b554904c4f478f3913ec9578349b-element-397\" stroke=\"#FFFFFF\" class=\"color_virginica\" fill=\"#FF5EA0\"/>\n",
       "          <circle cx=\"110.78\" cy=\"27.62\" r=\"0.9\" id=\"fig-7af1b554904c4f478f3913ec9578349b-element-398\" stroke=\"#FFFFFF\" class=\"color_virginica\" fill=\"#FF5EA0\"/>\n",
       "          <circle cx=\"98.72\" cy=\"34.79\" r=\"0.9\" id=\"fig-7af1b554904c4f478f3913ec9578349b-element-399\" stroke=\"#FFFFFF\" class=\"color_virginica\" fill=\"#FF5EA0\"/>\n",
       "          <circle cx=\"98.72\" cy=\"18.65\" r=\"0.9\" id=\"fig-7af1b554904c4f478f3913ec9578349b-element-400\" stroke=\"#FFFFFF\" class=\"color_virginica\" fill=\"#FF5EA0\"/>\n",
       "          <circle cx=\"90.68\" cy=\"34.79\" r=\"0.9\" id=\"fig-7af1b554904c4f478f3913ec9578349b-element-401\" stroke=\"#FFFFFF\" class=\"color_virginica\" fill=\"#FF5EA0\"/>\n",
       "          <circle cx=\"102.74\" cy=\"27.62\" r=\"0.9\" id=\"fig-7af1b554904c4f478f3913ec9578349b-element-402\" stroke=\"#FFFFFF\" class=\"color_virginica\" fill=\"#FF5EA0\"/>\n",
       "          <circle cx=\"90.68\" cy=\"24.93\" r=\"0.9\" id=\"fig-7af1b554904c4f478f3913ec9578349b-element-403\" stroke=\"#FFFFFF\" class=\"color_virginica\" fill=\"#FF5EA0\"/>\n",
       "          <circle cx=\"90.68\" cy=\"35.69\" r=\"0.9\" id=\"fig-7af1b554904c4f478f3913ec9578349b-element-404\" stroke=\"#FFFFFF\" class=\"color_virginica\" fill=\"#FF5EA0\"/>\n",
       "          <circle cx=\"90.68\" cy=\"34.79\" r=\"0.9\" id=\"fig-7af1b554904c4f478f3913ec9578349b-element-405\" stroke=\"#FFFFFF\" class=\"color_virginica\" fill=\"#FF5EA0\"/>\n",
       "          <circle cx=\"102.74\" cy=\"28.51\" r=\"0.9\" id=\"fig-7af1b554904c4f478f3913ec9578349b-element-406\" stroke=\"#FFFFFF\" class=\"color_virginica\" fill=\"#FF5EA0\"/>\n",
       "          <circle cx=\"82.63\" cy=\"26.72\" r=\"0.9\" id=\"fig-7af1b554904c4f478f3913ec9578349b-element-407\" stroke=\"#FFFFFF\" class=\"color_virginica\" fill=\"#FF5EA0\"/>\n",
       "          <circle cx=\"94.7\" cy=\"24.03\" r=\"0.9\" id=\"fig-7af1b554904c4f478f3913ec9578349b-element-408\" stroke=\"#FFFFFF\" class=\"color_virginica\" fill=\"#FF5EA0\"/>\n",
       "          <circle cx=\"98.72\" cy=\"21.34\" r=\"0.9\" id=\"fig-7af1b554904c4f478f3913ec9578349b-element-409\" stroke=\"#FFFFFF\" class=\"color_virginica\" fill=\"#FF5EA0\"/>\n",
       "          <circle cx=\"106.76\" cy=\"28.51\" r=\"0.9\" id=\"fig-7af1b554904c4f478f3913ec9578349b-element-410\" stroke=\"#FFFFFF\" class=\"color_virginica\" fill=\"#FF5EA0\"/>\n",
       "          <circle cx=\"78.61\" cy=\"33\" r=\"0.9\" id=\"fig-7af1b554904c4f478f3913ec9578349b-element-411\" stroke=\"#FFFFFF\" class=\"color_virginica\" fill=\"#FF5EA0\"/>\n",
       "          <circle cx=\"74.59\" cy=\"28.51\" r=\"0.9\" id=\"fig-7af1b554904c4f478f3913ec9578349b-element-412\" stroke=\"#FFFFFF\" class=\"color_virginica\" fill=\"#FF5EA0\"/>\n",
       "          <circle cx=\"110.78\" cy=\"24.03\" r=\"0.9\" id=\"fig-7af1b554904c4f478f3913ec9578349b-element-413\" stroke=\"#FFFFFF\" class=\"color_virginica\" fill=\"#FF5EA0\"/>\n",
       "          <circle cx=\"114.81\" cy=\"28.51\" r=\"0.9\" id=\"fig-7af1b554904c4f478f3913ec9578349b-element-414\" stroke=\"#FFFFFF\" class=\"color_virginica\" fill=\"#FF5EA0\"/>\n",
       "          <circle cx=\"90.68\" cy=\"29.41\" r=\"0.9\" id=\"fig-7af1b554904c4f478f3913ec9578349b-element-415\" stroke=\"#FFFFFF\" class=\"color_virginica\" fill=\"#FF5EA0\"/>\n",
       "          <circle cx=\"90.68\" cy=\"35.69\" r=\"0.9\" id=\"fig-7af1b554904c4f478f3913ec9578349b-element-416\" stroke=\"#FFFFFF\" class=\"color_virginica\" fill=\"#FF5EA0\"/>\n",
       "          <circle cx=\"102.74\" cy=\"30.31\" r=\"0.9\" id=\"fig-7af1b554904c4f478f3913ec9578349b-element-417\" stroke=\"#FFFFFF\" class=\"color_virginica\" fill=\"#FF5EA0\"/>\n",
       "          <circle cx=\"114.81\" cy=\"28.51\" r=\"0.9\" id=\"fig-7af1b554904c4f478f3913ec9578349b-element-418\" stroke=\"#FFFFFF\" class=\"color_virginica\" fill=\"#FF5EA0\"/>\n",
       "          <circle cx=\"110.78\" cy=\"33\" r=\"0.9\" id=\"fig-7af1b554904c4f478f3913ec9578349b-element-419\" stroke=\"#FFFFFF\" class=\"color_virginica\" fill=\"#FF5EA0\"/>\n",
       "          <circle cx=\"94.7\" cy=\"33\" r=\"0.9\" id=\"fig-7af1b554904c4f478f3913ec9578349b-element-420\" stroke=\"#FFFFFF\" class=\"color_virginica\" fill=\"#FF5EA0\"/>\n",
       "          <circle cx=\"110.78\" cy=\"25.83\" r=\"0.9\" id=\"fig-7af1b554904c4f478f3913ec9578349b-element-421\" stroke=\"#FFFFFF\" class=\"color_virginica\" fill=\"#FF5EA0\"/>\n",
       "          <circle cx=\"118.83\" cy=\"27.62\" r=\"0.9\" id=\"fig-7af1b554904c4f478f3913ec9578349b-element-422\" stroke=\"#FFFFFF\" class=\"color_virginica\" fill=\"#FF5EA0\"/>\n",
       "          <circle cx=\"110.78\" cy=\"32.1\" r=\"0.9\" id=\"fig-7af1b554904c4f478f3913ec9578349b-element-423\" stroke=\"#FFFFFF\" class=\"color_virginica\" fill=\"#FF5EA0\"/>\n",
       "          <circle cx=\"94.7\" cy=\"33.89\" r=\"0.9\" id=\"fig-7af1b554904c4f478f3913ec9578349b-element-424\" stroke=\"#FFFFFF\" class=\"color_virginica\" fill=\"#FF5EA0\"/>\n",
       "          <circle cx=\"98.72\" cy=\"32.1\" r=\"0.9\" id=\"fig-7af1b554904c4f478f3913ec9578349b-element-425\" stroke=\"#FFFFFF\" class=\"color_virginica\" fill=\"#FF5EA0\"/>\n",
       "          <circle cx=\"110.78\" cy=\"30.31\" r=\"0.9\" id=\"fig-7af1b554904c4f478f3913ec9578349b-element-426\" stroke=\"#FFFFFF\" class=\"color_virginica\" fill=\"#FF5EA0\"/>\n",
       "          <circle cx=\"90.68\" cy=\"33\" r=\"0.9\" id=\"fig-7af1b554904c4f478f3913ec9578349b-element-427\" stroke=\"#FFFFFF\" class=\"color_virginica\" fill=\"#FF5EA0\"/>\n",
       "        </g>\n",
       "      </g>\n",
       "    </g>\n",
       "    <g opacity=\"0\" class=\"guide zoomslider\" stroke=\"none\" id=\"fig-7af1b554904c4f478f3913ec9578349b-element-428\">\n",
       "      <g fill=\"#EAEAEA\" stroke-width=\"0.3\" stroke-opacity=\"0\" stroke=\"#6A6A6A\" id=\"fig-7af1b554904c4f478f3913ec9578349b-element-429\">\n",
       "        <rect x=\"113.83\" y=\"8\" width=\"4\" height=\"4\" id=\"fig-7af1b554904c4f478f3913ec9578349b-element-430\"/>\n",
       "        <g class=\"button_logo\" fill=\"#6A6A6A\" id=\"fig-7af1b554904c4f478f3913ec9578349b-element-431\">\n",
       "          <path d=\"M114.63,9.6 L 115.43 9.6 115.43 8.8 116.23 8.8 116.23 9.6 117.03 9.6 117.03 10.4 116.23 10.4 116.23 11.2 115.43 11.2 115.43 10.4 114.63 10.4 z\" id=\"fig-7af1b554904c4f478f3913ec9578349b-element-432\"/>\n",
       "        </g>\n",
       "      </g>\n",
       "      <g fill=\"#EAEAEA\" id=\"fig-7af1b554904c4f478f3913ec9578349b-element-433\">\n",
       "        <rect x=\"94.33\" y=\"8\" width=\"19\" height=\"4\" id=\"fig-7af1b554904c4f478f3913ec9578349b-element-434\"/>\n",
       "      </g>\n",
       "      <g class=\"zoomslider_thumb\" fill=\"#6A6A6A\" id=\"fig-7af1b554904c4f478f3913ec9578349b-element-435\">\n",
       "        <rect x=\"102.83\" y=\"8\" width=\"2\" height=\"4\" id=\"fig-7af1b554904c4f478f3913ec9578349b-element-436\"/>\n",
       "      </g>\n",
       "      <g fill=\"#EAEAEA\" stroke-width=\"0.3\" stroke-opacity=\"0\" stroke=\"#6A6A6A\" id=\"fig-7af1b554904c4f478f3913ec9578349b-element-437\">\n",
       "        <rect x=\"89.83\" y=\"8\" width=\"4\" height=\"4\" id=\"fig-7af1b554904c4f478f3913ec9578349b-element-438\"/>\n",
       "        <g class=\"button_logo\" fill=\"#6A6A6A\" id=\"fig-7af1b554904c4f478f3913ec9578349b-element-439\">\n",
       "          <path d=\"M90.63,9.6 L 93.03 9.6 93.03 10.4 90.63 10.4 z\" id=\"fig-7af1b554904c4f478f3913ec9578349b-element-440\"/>\n",
       "        </g>\n",
       "      </g>\n",
       "    </g>\n",
       "  </g>\n",
       "  <g class=\"guide ylabels\" font-size=\"2.82\" font-family=\"'PT Sans Caption','Helvetica Neue','Helvetica',sans-serif\" fill=\"#6C606B\" id=\"fig-7af1b554904c4f478f3913ec9578349b-element-441\">\n",
       "    <text x=\"15.29\" y=\"168.36\" text-anchor=\"end\" dy=\"0.35em\" id=\"fig-7af1b554904c4f478f3913ec9578349b-element-442\" gadfly:scale=\"1.0\" visibility=\"hidden\">-10</text>\n",
       "    <text x=\"15.29\" y=\"150.43\" text-anchor=\"end\" dy=\"0.35em\" id=\"fig-7af1b554904c4f478f3913ec9578349b-element-443\" gadfly:scale=\"1.0\" visibility=\"hidden\">-8</text>\n",
       "    <text x=\"15.29\" y=\"132.5\" text-anchor=\"end\" dy=\"0.35em\" id=\"fig-7af1b554904c4f478f3913ec9578349b-element-444\" gadfly:scale=\"1.0\" visibility=\"hidden\">-6</text>\n",
       "    <text x=\"15.29\" y=\"114.57\" text-anchor=\"end\" dy=\"0.35em\" id=\"fig-7af1b554904c4f478f3913ec9578349b-element-445\" gadfly:scale=\"1.0\" visibility=\"hidden\">-4</text>\n",
       "    <text x=\"15.29\" y=\"96.64\" text-anchor=\"end\" dy=\"0.35em\" id=\"fig-7af1b554904c4f478f3913ec9578349b-element-446\" gadfly:scale=\"1.0\" visibility=\"hidden\">-2</text>\n",
       "    <text x=\"15.29\" y=\"78.71\" text-anchor=\"end\" dy=\"0.35em\" id=\"fig-7af1b554904c4f478f3913ec9578349b-element-447\" gadfly:scale=\"1.0\" visibility=\"visible\">0</text>\n",
       "    <text x=\"15.29\" y=\"60.79\" text-anchor=\"end\" dy=\"0.35em\" id=\"fig-7af1b554904c4f478f3913ec9578349b-element-448\" gadfly:scale=\"1.0\" visibility=\"visible\">2</text>\n",
       "    <text x=\"15.29\" y=\"42.86\" text-anchor=\"end\" dy=\"0.35em\" id=\"fig-7af1b554904c4f478f3913ec9578349b-element-449\" gadfly:scale=\"1.0\" visibility=\"visible\">4</text>\n",
       "    <text x=\"15.29\" y=\"24.93\" text-anchor=\"end\" dy=\"0.35em\" id=\"fig-7af1b554904c4f478f3913ec9578349b-element-450\" gadfly:scale=\"1.0\" visibility=\"visible\">6</text>\n",
       "    <text x=\"15.29\" y=\"7\" text-anchor=\"end\" dy=\"0.35em\" id=\"fig-7af1b554904c4f478f3913ec9578349b-element-451\" gadfly:scale=\"1.0\" visibility=\"visible\">8</text>\n",
       "    <text x=\"15.29\" y=\"-10.93\" text-anchor=\"end\" dy=\"0.35em\" id=\"fig-7af1b554904c4f478f3913ec9578349b-element-452\" gadfly:scale=\"1.0\" visibility=\"hidden\">10</text>\n",
       "    <text x=\"15.29\" y=\"-28.86\" text-anchor=\"end\" dy=\"0.35em\" id=\"fig-7af1b554904c4f478f3913ec9578349b-element-453\" gadfly:scale=\"1.0\" visibility=\"hidden\">12</text>\n",
       "    <text x=\"15.29\" y=\"-46.79\" text-anchor=\"end\" dy=\"0.35em\" id=\"fig-7af1b554904c4f478f3913ec9578349b-element-454\" gadfly:scale=\"1.0\" visibility=\"hidden\">14</text>\n",
       "    <text x=\"15.29\" y=\"-64.72\" text-anchor=\"end\" dy=\"0.35em\" id=\"fig-7af1b554904c4f478f3913ec9578349b-element-455\" gadfly:scale=\"1.0\" visibility=\"hidden\">16</text>\n",
       "    <text x=\"15.29\" y=\"-82.64\" text-anchor=\"end\" dy=\"0.35em\" id=\"fig-7af1b554904c4f478f3913ec9578349b-element-456\" gadfly:scale=\"1.0\" visibility=\"hidden\">18</text>\n",
       "    <text x=\"15.29\" y=\"150.43\" text-anchor=\"end\" dy=\"0.35em\" id=\"fig-7af1b554904c4f478f3913ec9578349b-element-457\" gadfly:scale=\"10.0\" visibility=\"hidden\">-8.0</text>\n",
       "    <text x=\"15.29\" y=\"145.95\" text-anchor=\"end\" dy=\"0.35em\" id=\"fig-7af1b554904c4f478f3913ec9578349b-element-458\" gadfly:scale=\"10.0\" visibility=\"hidden\">-7.5</text>\n",
       "    <text x=\"15.29\" y=\"141.47\" text-anchor=\"end\" dy=\"0.35em\" id=\"fig-7af1b554904c4f478f3913ec9578349b-element-459\" gadfly:scale=\"10.0\" visibility=\"hidden\">-7.0</text>\n",
       "    <text x=\"15.29\" y=\"136.98\" text-anchor=\"end\" dy=\"0.35em\" id=\"fig-7af1b554904c4f478f3913ec9578349b-element-460\" gadfly:scale=\"10.0\" visibility=\"hidden\">-6.5</text>\n",
       "    <text x=\"15.29\" y=\"132.5\" text-anchor=\"end\" dy=\"0.35em\" id=\"fig-7af1b554904c4f478f3913ec9578349b-element-461\" gadfly:scale=\"10.0\" visibility=\"hidden\">-6.0</text>\n",
       "    <text x=\"15.29\" y=\"128.02\" text-anchor=\"end\" dy=\"0.35em\" id=\"fig-7af1b554904c4f478f3913ec9578349b-element-462\" gadfly:scale=\"10.0\" visibility=\"hidden\">-5.5</text>\n",
       "    <text x=\"15.29\" y=\"123.54\" text-anchor=\"end\" dy=\"0.35em\" id=\"fig-7af1b554904c4f478f3913ec9578349b-element-463\" gadfly:scale=\"10.0\" visibility=\"hidden\">-5.0</text>\n",
       "    <text x=\"15.29\" y=\"119.05\" text-anchor=\"end\" dy=\"0.35em\" id=\"fig-7af1b554904c4f478f3913ec9578349b-element-464\" gadfly:scale=\"10.0\" visibility=\"hidden\">-4.5</text>\n",
       "    <text x=\"15.29\" y=\"114.57\" text-anchor=\"end\" dy=\"0.35em\" id=\"fig-7af1b554904c4f478f3913ec9578349b-element-465\" gadfly:scale=\"10.0\" visibility=\"hidden\">-4.0</text>\n",
       "    <text x=\"15.29\" y=\"110.09\" text-anchor=\"end\" dy=\"0.35em\" id=\"fig-7af1b554904c4f478f3913ec9578349b-element-466\" gadfly:scale=\"10.0\" visibility=\"hidden\">-3.5</text>\n",
       "    <text x=\"15.29\" y=\"105.61\" text-anchor=\"end\" dy=\"0.35em\" id=\"fig-7af1b554904c4f478f3913ec9578349b-element-467\" gadfly:scale=\"10.0\" visibility=\"hidden\">-3.0</text>\n",
       "    <text x=\"15.29\" y=\"101.13\" text-anchor=\"end\" dy=\"0.35em\" id=\"fig-7af1b554904c4f478f3913ec9578349b-element-468\" gadfly:scale=\"10.0\" visibility=\"hidden\">-2.5</text>\n",
       "    <text x=\"15.29\" y=\"96.64\" text-anchor=\"end\" dy=\"0.35em\" id=\"fig-7af1b554904c4f478f3913ec9578349b-element-469\" gadfly:scale=\"10.0\" visibility=\"hidden\">-2.0</text>\n",
       "    <text x=\"15.29\" y=\"92.16\" text-anchor=\"end\" dy=\"0.35em\" id=\"fig-7af1b554904c4f478f3913ec9578349b-element-470\" gadfly:scale=\"10.0\" visibility=\"hidden\">-1.5</text>\n",
       "    <text x=\"15.29\" y=\"87.68\" text-anchor=\"end\" dy=\"0.35em\" id=\"fig-7af1b554904c4f478f3913ec9578349b-element-471\" gadfly:scale=\"10.0\" visibility=\"hidden\">-1.0</text>\n",
       "    <text x=\"15.29\" y=\"83.2\" text-anchor=\"end\" dy=\"0.35em\" id=\"fig-7af1b554904c4f478f3913ec9578349b-element-472\" gadfly:scale=\"10.0\" visibility=\"hidden\">-0.5</text>\n",
       "    <text x=\"15.29\" y=\"78.71\" text-anchor=\"end\" dy=\"0.35em\" id=\"fig-7af1b554904c4f478f3913ec9578349b-element-473\" gadfly:scale=\"10.0\" visibility=\"hidden\">0.0</text>\n",
       "    <text x=\"15.29\" y=\"74.23\" text-anchor=\"end\" dy=\"0.35em\" id=\"fig-7af1b554904c4f478f3913ec9578349b-element-474\" gadfly:scale=\"10.0\" visibility=\"hidden\">0.5</text>\n",
       "    <text x=\"15.29\" y=\"69.75\" text-anchor=\"end\" dy=\"0.35em\" id=\"fig-7af1b554904c4f478f3913ec9578349b-element-475\" gadfly:scale=\"10.0\" visibility=\"hidden\">1.0</text>\n",
       "    <text x=\"15.29\" y=\"65.27\" text-anchor=\"end\" dy=\"0.35em\" id=\"fig-7af1b554904c4f478f3913ec9578349b-element-476\" gadfly:scale=\"10.0\" visibility=\"hidden\">1.5</text>\n",
       "    <text x=\"15.29\" y=\"60.79\" text-anchor=\"end\" dy=\"0.35em\" id=\"fig-7af1b554904c4f478f3913ec9578349b-element-477\" gadfly:scale=\"10.0\" visibility=\"hidden\">2.0</text>\n",
       "    <text x=\"15.29\" y=\"56.3\" text-anchor=\"end\" dy=\"0.35em\" id=\"fig-7af1b554904c4f478f3913ec9578349b-element-478\" gadfly:scale=\"10.0\" visibility=\"hidden\">2.5</text>\n",
       "    <text x=\"15.29\" y=\"51.82\" text-anchor=\"end\" dy=\"0.35em\" id=\"fig-7af1b554904c4f478f3913ec9578349b-element-479\" gadfly:scale=\"10.0\" visibility=\"hidden\">3.0</text>\n",
       "    <text x=\"15.29\" y=\"47.34\" text-anchor=\"end\" dy=\"0.35em\" id=\"fig-7af1b554904c4f478f3913ec9578349b-element-480\" gadfly:scale=\"10.0\" visibility=\"hidden\">3.5</text>\n",
       "    <text x=\"15.29\" y=\"42.86\" text-anchor=\"end\" dy=\"0.35em\" id=\"fig-7af1b554904c4f478f3913ec9578349b-element-481\" gadfly:scale=\"10.0\" visibility=\"hidden\">4.0</text>\n",
       "    <text x=\"15.29\" y=\"38.38\" text-anchor=\"end\" dy=\"0.35em\" id=\"fig-7af1b554904c4f478f3913ec9578349b-element-482\" gadfly:scale=\"10.0\" visibility=\"hidden\">4.5</text>\n",
       "    <text x=\"15.29\" y=\"33.89\" text-anchor=\"end\" dy=\"0.35em\" id=\"fig-7af1b554904c4f478f3913ec9578349b-element-483\" gadfly:scale=\"10.0\" visibility=\"hidden\">5.0</text>\n",
       "    <text x=\"15.29\" y=\"29.41\" text-anchor=\"end\" dy=\"0.35em\" id=\"fig-7af1b554904c4f478f3913ec9578349b-element-484\" gadfly:scale=\"10.0\" visibility=\"hidden\">5.5</text>\n",
       "    <text x=\"15.29\" y=\"24.93\" text-anchor=\"end\" dy=\"0.35em\" id=\"fig-7af1b554904c4f478f3913ec9578349b-element-485\" gadfly:scale=\"10.0\" visibility=\"hidden\">6.0</text>\n",
       "    <text x=\"15.29\" y=\"20.45\" text-anchor=\"end\" dy=\"0.35em\" id=\"fig-7af1b554904c4f478f3913ec9578349b-element-486\" gadfly:scale=\"10.0\" visibility=\"hidden\">6.5</text>\n",
       "    <text x=\"15.29\" y=\"15.96\" text-anchor=\"end\" dy=\"0.35em\" id=\"fig-7af1b554904c4f478f3913ec9578349b-element-487\" gadfly:scale=\"10.0\" visibility=\"hidden\">7.0</text>\n",
       "    <text x=\"15.29\" y=\"11.48\" text-anchor=\"end\" dy=\"0.35em\" id=\"fig-7af1b554904c4f478f3913ec9578349b-element-488\" gadfly:scale=\"10.0\" visibility=\"hidden\">7.5</text>\n",
       "    <text x=\"15.29\" y=\"7\" text-anchor=\"end\" dy=\"0.35em\" id=\"fig-7af1b554904c4f478f3913ec9578349b-element-489\" gadfly:scale=\"10.0\" visibility=\"hidden\">8.0</text>\n",
       "    <text x=\"15.29\" y=\"2.52\" text-anchor=\"end\" dy=\"0.35em\" id=\"fig-7af1b554904c4f478f3913ec9578349b-element-490\" gadfly:scale=\"10.0\" visibility=\"hidden\">8.5</text>\n",
       "    <text x=\"15.29\" y=\"-1.96\" text-anchor=\"end\" dy=\"0.35em\" id=\"fig-7af1b554904c4f478f3913ec9578349b-element-491\" gadfly:scale=\"10.0\" visibility=\"hidden\">9.0</text>\n",
       "    <text x=\"15.29\" y=\"-6.45\" text-anchor=\"end\" dy=\"0.35em\" id=\"fig-7af1b554904c4f478f3913ec9578349b-element-492\" gadfly:scale=\"10.0\" visibility=\"hidden\">9.5</text>\n",
       "    <text x=\"15.29\" y=\"-10.93\" text-anchor=\"end\" dy=\"0.35em\" id=\"fig-7af1b554904c4f478f3913ec9578349b-element-493\" gadfly:scale=\"10.0\" visibility=\"hidden\">10.0</text>\n",
       "    <text x=\"15.29\" y=\"-15.41\" text-anchor=\"end\" dy=\"0.35em\" id=\"fig-7af1b554904c4f478f3913ec9578349b-element-494\" gadfly:scale=\"10.0\" visibility=\"hidden\">10.5</text>\n",
       "    <text x=\"15.29\" y=\"-19.89\" text-anchor=\"end\" dy=\"0.35em\" id=\"fig-7af1b554904c4f478f3913ec9578349b-element-495\" gadfly:scale=\"10.0\" visibility=\"hidden\">11.0</text>\n",
       "    <text x=\"15.29\" y=\"-24.38\" text-anchor=\"end\" dy=\"0.35em\" id=\"fig-7af1b554904c4f478f3913ec9578349b-element-496\" gadfly:scale=\"10.0\" visibility=\"hidden\">11.5</text>\n",
       "    <text x=\"15.29\" y=\"-28.86\" text-anchor=\"end\" dy=\"0.35em\" id=\"fig-7af1b554904c4f478f3913ec9578349b-element-497\" gadfly:scale=\"10.0\" visibility=\"hidden\">12.0</text>\n",
       "    <text x=\"15.29\" y=\"-33.34\" text-anchor=\"end\" dy=\"0.35em\" id=\"fig-7af1b554904c4f478f3913ec9578349b-element-498\" gadfly:scale=\"10.0\" visibility=\"hidden\">12.5</text>\n",
       "    <text x=\"15.29\" y=\"-37.82\" text-anchor=\"end\" dy=\"0.35em\" id=\"fig-7af1b554904c4f478f3913ec9578349b-element-499\" gadfly:scale=\"10.0\" visibility=\"hidden\">13.0</text>\n",
       "    <text x=\"15.29\" y=\"-42.3\" text-anchor=\"end\" dy=\"0.35em\" id=\"fig-7af1b554904c4f478f3913ec9578349b-element-500\" gadfly:scale=\"10.0\" visibility=\"hidden\">13.5</text>\n",
       "    <text x=\"15.29\" y=\"-46.79\" text-anchor=\"end\" dy=\"0.35em\" id=\"fig-7af1b554904c4f478f3913ec9578349b-element-501\" gadfly:scale=\"10.0\" visibility=\"hidden\">14.0</text>\n",
       "    <text x=\"15.29\" y=\"-51.27\" text-anchor=\"end\" dy=\"0.35em\" id=\"fig-7af1b554904c4f478f3913ec9578349b-element-502\" gadfly:scale=\"10.0\" visibility=\"hidden\">14.5</text>\n",
       "    <text x=\"15.29\" y=\"-55.75\" text-anchor=\"end\" dy=\"0.35em\" id=\"fig-7af1b554904c4f478f3913ec9578349b-element-503\" gadfly:scale=\"10.0\" visibility=\"hidden\">15.0</text>\n",
       "    <text x=\"15.29\" y=\"-60.23\" text-anchor=\"end\" dy=\"0.35em\" id=\"fig-7af1b554904c4f478f3913ec9578349b-element-504\" gadfly:scale=\"10.0\" visibility=\"hidden\">15.5</text>\n",
       "    <text x=\"15.29\" y=\"-64.72\" text-anchor=\"end\" dy=\"0.35em\" id=\"fig-7af1b554904c4f478f3913ec9578349b-element-505\" gadfly:scale=\"10.0\" visibility=\"hidden\">16.0</text>\n",
       "    <text x=\"15.29\" y=\"168.36\" text-anchor=\"end\" dy=\"0.35em\" id=\"fig-7af1b554904c4f478f3913ec9578349b-element-506\" gadfly:scale=\"0.5\" visibility=\"hidden\">-10</text>\n",
       "    <text x=\"15.29\" y=\"78.71\" text-anchor=\"end\" dy=\"0.35em\" id=\"fig-7af1b554904c4f478f3913ec9578349b-element-507\" gadfly:scale=\"0.5\" visibility=\"hidden\">0</text>\n",
       "    <text x=\"15.29\" y=\"-10.93\" text-anchor=\"end\" dy=\"0.35em\" id=\"fig-7af1b554904c4f478f3913ec9578349b-element-508\" gadfly:scale=\"0.5\" visibility=\"hidden\">10</text>\n",
       "    <text x=\"15.29\" y=\"-100.57\" text-anchor=\"end\" dy=\"0.35em\" id=\"fig-7af1b554904c4f478f3913ec9578349b-element-509\" gadfly:scale=\"0.5\" visibility=\"hidden\">20</text>\n",
       "    <text x=\"15.29\" y=\"150.43\" text-anchor=\"end\" dy=\"0.35em\" id=\"fig-7af1b554904c4f478f3913ec9578349b-element-510\" gadfly:scale=\"5.0\" visibility=\"hidden\">-8.0</text>\n",
       "    <text x=\"15.29\" y=\"145.95\" text-anchor=\"end\" dy=\"0.35em\" id=\"fig-7af1b554904c4f478f3913ec9578349b-element-511\" gadfly:scale=\"5.0\" visibility=\"hidden\">-7.5</text>\n",
       "    <text x=\"15.29\" y=\"141.47\" text-anchor=\"end\" dy=\"0.35em\" id=\"fig-7af1b554904c4f478f3913ec9578349b-element-512\" gadfly:scale=\"5.0\" visibility=\"hidden\">-7.0</text>\n",
       "    <text x=\"15.29\" y=\"136.98\" text-anchor=\"end\" dy=\"0.35em\" id=\"fig-7af1b554904c4f478f3913ec9578349b-element-513\" gadfly:scale=\"5.0\" visibility=\"hidden\">-6.5</text>\n",
       "    <text x=\"15.29\" y=\"132.5\" text-anchor=\"end\" dy=\"0.35em\" id=\"fig-7af1b554904c4f478f3913ec9578349b-element-514\" gadfly:scale=\"5.0\" visibility=\"hidden\">-6.0</text>\n",
       "    <text x=\"15.29\" y=\"128.02\" text-anchor=\"end\" dy=\"0.35em\" id=\"fig-7af1b554904c4f478f3913ec9578349b-element-515\" gadfly:scale=\"5.0\" visibility=\"hidden\">-5.5</text>\n",
       "    <text x=\"15.29\" y=\"123.54\" text-anchor=\"end\" dy=\"0.35em\" id=\"fig-7af1b554904c4f478f3913ec9578349b-element-516\" gadfly:scale=\"5.0\" visibility=\"hidden\">-5.0</text>\n",
       "    <text x=\"15.29\" y=\"119.05\" text-anchor=\"end\" dy=\"0.35em\" id=\"fig-7af1b554904c4f478f3913ec9578349b-element-517\" gadfly:scale=\"5.0\" visibility=\"hidden\">-4.5</text>\n",
       "    <text x=\"15.29\" y=\"114.57\" text-anchor=\"end\" dy=\"0.35em\" id=\"fig-7af1b554904c4f478f3913ec9578349b-element-518\" gadfly:scale=\"5.0\" visibility=\"hidden\">-4.0</text>\n",
       "    <text x=\"15.29\" y=\"110.09\" text-anchor=\"end\" dy=\"0.35em\" id=\"fig-7af1b554904c4f478f3913ec9578349b-element-519\" gadfly:scale=\"5.0\" visibility=\"hidden\">-3.5</text>\n",
       "    <text x=\"15.29\" y=\"105.61\" text-anchor=\"end\" dy=\"0.35em\" id=\"fig-7af1b554904c4f478f3913ec9578349b-element-520\" gadfly:scale=\"5.0\" visibility=\"hidden\">-3.0</text>\n",
       "    <text x=\"15.29\" y=\"101.13\" text-anchor=\"end\" dy=\"0.35em\" id=\"fig-7af1b554904c4f478f3913ec9578349b-element-521\" gadfly:scale=\"5.0\" visibility=\"hidden\">-2.5</text>\n",
       "    <text x=\"15.29\" y=\"96.64\" text-anchor=\"end\" dy=\"0.35em\" id=\"fig-7af1b554904c4f478f3913ec9578349b-element-522\" gadfly:scale=\"5.0\" visibility=\"hidden\">-2.0</text>\n",
       "    <text x=\"15.29\" y=\"92.16\" text-anchor=\"end\" dy=\"0.35em\" id=\"fig-7af1b554904c4f478f3913ec9578349b-element-523\" gadfly:scale=\"5.0\" visibility=\"hidden\">-1.5</text>\n",
       "    <text x=\"15.29\" y=\"87.68\" text-anchor=\"end\" dy=\"0.35em\" id=\"fig-7af1b554904c4f478f3913ec9578349b-element-524\" gadfly:scale=\"5.0\" visibility=\"hidden\">-1.0</text>\n",
       "    <text x=\"15.29\" y=\"83.2\" text-anchor=\"end\" dy=\"0.35em\" id=\"fig-7af1b554904c4f478f3913ec9578349b-element-525\" gadfly:scale=\"5.0\" visibility=\"hidden\">-0.5</text>\n",
       "    <text x=\"15.29\" y=\"78.71\" text-anchor=\"end\" dy=\"0.35em\" id=\"fig-7af1b554904c4f478f3913ec9578349b-element-526\" gadfly:scale=\"5.0\" visibility=\"hidden\">0.0</text>\n",
       "    <text x=\"15.29\" y=\"74.23\" text-anchor=\"end\" dy=\"0.35em\" id=\"fig-7af1b554904c4f478f3913ec9578349b-element-527\" gadfly:scale=\"5.0\" visibility=\"hidden\">0.5</text>\n",
       "    <text x=\"15.29\" y=\"69.75\" text-anchor=\"end\" dy=\"0.35em\" id=\"fig-7af1b554904c4f478f3913ec9578349b-element-528\" gadfly:scale=\"5.0\" visibility=\"hidden\">1.0</text>\n",
       "    <text x=\"15.29\" y=\"65.27\" text-anchor=\"end\" dy=\"0.35em\" id=\"fig-7af1b554904c4f478f3913ec9578349b-element-529\" gadfly:scale=\"5.0\" visibility=\"hidden\">1.5</text>\n",
       "    <text x=\"15.29\" y=\"60.79\" text-anchor=\"end\" dy=\"0.35em\" id=\"fig-7af1b554904c4f478f3913ec9578349b-element-530\" gadfly:scale=\"5.0\" visibility=\"hidden\">2.0</text>\n",
       "    <text x=\"15.29\" y=\"56.3\" text-anchor=\"end\" dy=\"0.35em\" id=\"fig-7af1b554904c4f478f3913ec9578349b-element-531\" gadfly:scale=\"5.0\" visibility=\"hidden\">2.5</text>\n",
       "    <text x=\"15.29\" y=\"51.82\" text-anchor=\"end\" dy=\"0.35em\" id=\"fig-7af1b554904c4f478f3913ec9578349b-element-532\" gadfly:scale=\"5.0\" visibility=\"hidden\">3.0</text>\n",
       "    <text x=\"15.29\" y=\"47.34\" text-anchor=\"end\" dy=\"0.35em\" id=\"fig-7af1b554904c4f478f3913ec9578349b-element-533\" gadfly:scale=\"5.0\" visibility=\"hidden\">3.5</text>\n",
       "    <text x=\"15.29\" y=\"42.86\" text-anchor=\"end\" dy=\"0.35em\" id=\"fig-7af1b554904c4f478f3913ec9578349b-element-534\" gadfly:scale=\"5.0\" visibility=\"hidden\">4.0</text>\n",
       "    <text x=\"15.29\" y=\"38.38\" text-anchor=\"end\" dy=\"0.35em\" id=\"fig-7af1b554904c4f478f3913ec9578349b-element-535\" gadfly:scale=\"5.0\" visibility=\"hidden\">4.5</text>\n",
       "    <text x=\"15.29\" y=\"33.89\" text-anchor=\"end\" dy=\"0.35em\" id=\"fig-7af1b554904c4f478f3913ec9578349b-element-536\" gadfly:scale=\"5.0\" visibility=\"hidden\">5.0</text>\n",
       "    <text x=\"15.29\" y=\"29.41\" text-anchor=\"end\" dy=\"0.35em\" id=\"fig-7af1b554904c4f478f3913ec9578349b-element-537\" gadfly:scale=\"5.0\" visibility=\"hidden\">5.5</text>\n",
       "    <text x=\"15.29\" y=\"24.93\" text-anchor=\"end\" dy=\"0.35em\" id=\"fig-7af1b554904c4f478f3913ec9578349b-element-538\" gadfly:scale=\"5.0\" visibility=\"hidden\">6.0</text>\n",
       "    <text x=\"15.29\" y=\"20.45\" text-anchor=\"end\" dy=\"0.35em\" id=\"fig-7af1b554904c4f478f3913ec9578349b-element-539\" gadfly:scale=\"5.0\" visibility=\"hidden\">6.5</text>\n",
       "    <text x=\"15.29\" y=\"15.96\" text-anchor=\"end\" dy=\"0.35em\" id=\"fig-7af1b554904c4f478f3913ec9578349b-element-540\" gadfly:scale=\"5.0\" visibility=\"hidden\">7.0</text>\n",
       "    <text x=\"15.29\" y=\"11.48\" text-anchor=\"end\" dy=\"0.35em\" id=\"fig-7af1b554904c4f478f3913ec9578349b-element-541\" gadfly:scale=\"5.0\" visibility=\"hidden\">7.5</text>\n",
       "    <text x=\"15.29\" y=\"7\" text-anchor=\"end\" dy=\"0.35em\" id=\"fig-7af1b554904c4f478f3913ec9578349b-element-542\" gadfly:scale=\"5.0\" visibility=\"hidden\">8.0</text>\n",
       "    <text x=\"15.29\" y=\"2.52\" text-anchor=\"end\" dy=\"0.35em\" id=\"fig-7af1b554904c4f478f3913ec9578349b-element-543\" gadfly:scale=\"5.0\" visibility=\"hidden\">8.5</text>\n",
       "    <text x=\"15.29\" y=\"-1.96\" text-anchor=\"end\" dy=\"0.35em\" id=\"fig-7af1b554904c4f478f3913ec9578349b-element-544\" gadfly:scale=\"5.0\" visibility=\"hidden\">9.0</text>\n",
       "    <text x=\"15.29\" y=\"-6.45\" text-anchor=\"end\" dy=\"0.35em\" id=\"fig-7af1b554904c4f478f3913ec9578349b-element-545\" gadfly:scale=\"5.0\" visibility=\"hidden\">9.5</text>\n",
       "    <text x=\"15.29\" y=\"-10.93\" text-anchor=\"end\" dy=\"0.35em\" id=\"fig-7af1b554904c4f478f3913ec9578349b-element-546\" gadfly:scale=\"5.0\" visibility=\"hidden\">10.0</text>\n",
       "    <text x=\"15.29\" y=\"-15.41\" text-anchor=\"end\" dy=\"0.35em\" id=\"fig-7af1b554904c4f478f3913ec9578349b-element-547\" gadfly:scale=\"5.0\" visibility=\"hidden\">10.5</text>\n",
       "    <text x=\"15.29\" y=\"-19.89\" text-anchor=\"end\" dy=\"0.35em\" id=\"fig-7af1b554904c4f478f3913ec9578349b-element-548\" gadfly:scale=\"5.0\" visibility=\"hidden\">11.0</text>\n",
       "    <text x=\"15.29\" y=\"-24.38\" text-anchor=\"end\" dy=\"0.35em\" id=\"fig-7af1b554904c4f478f3913ec9578349b-element-549\" gadfly:scale=\"5.0\" visibility=\"hidden\">11.5</text>\n",
       "    <text x=\"15.29\" y=\"-28.86\" text-anchor=\"end\" dy=\"0.35em\" id=\"fig-7af1b554904c4f478f3913ec9578349b-element-550\" gadfly:scale=\"5.0\" visibility=\"hidden\">12.0</text>\n",
       "    <text x=\"15.29\" y=\"-33.34\" text-anchor=\"end\" dy=\"0.35em\" id=\"fig-7af1b554904c4f478f3913ec9578349b-element-551\" gadfly:scale=\"5.0\" visibility=\"hidden\">12.5</text>\n",
       "    <text x=\"15.29\" y=\"-37.82\" text-anchor=\"end\" dy=\"0.35em\" id=\"fig-7af1b554904c4f478f3913ec9578349b-element-552\" gadfly:scale=\"5.0\" visibility=\"hidden\">13.0</text>\n",
       "    <text x=\"15.29\" y=\"-42.3\" text-anchor=\"end\" dy=\"0.35em\" id=\"fig-7af1b554904c4f478f3913ec9578349b-element-553\" gadfly:scale=\"5.0\" visibility=\"hidden\">13.5</text>\n",
       "    <text x=\"15.29\" y=\"-46.79\" text-anchor=\"end\" dy=\"0.35em\" id=\"fig-7af1b554904c4f478f3913ec9578349b-element-554\" gadfly:scale=\"5.0\" visibility=\"hidden\">14.0</text>\n",
       "    <text x=\"15.29\" y=\"-51.27\" text-anchor=\"end\" dy=\"0.35em\" id=\"fig-7af1b554904c4f478f3913ec9578349b-element-555\" gadfly:scale=\"5.0\" visibility=\"hidden\">14.5</text>\n",
       "    <text x=\"15.29\" y=\"-55.75\" text-anchor=\"end\" dy=\"0.35em\" id=\"fig-7af1b554904c4f478f3913ec9578349b-element-556\" gadfly:scale=\"5.0\" visibility=\"hidden\">15.0</text>\n",
       "    <text x=\"15.29\" y=\"-60.23\" text-anchor=\"end\" dy=\"0.35em\" id=\"fig-7af1b554904c4f478f3913ec9578349b-element-557\" gadfly:scale=\"5.0\" visibility=\"hidden\">15.5</text>\n",
       "    <text x=\"15.29\" y=\"-64.72\" text-anchor=\"end\" dy=\"0.35em\" id=\"fig-7af1b554904c4f478f3913ec9578349b-element-558\" gadfly:scale=\"5.0\" visibility=\"hidden\">16.0</text>\n",
       "  </g>\n",
       "  <g font-size=\"3.88\" font-family=\"'PT Sans','Helvetica Neue','Helvetica',sans-serif\" fill=\"#564A55\" stroke=\"none\" id=\"fig-7af1b554904c4f478f3913ec9578349b-element-559\">\n",
       "    <text x=\"8.81\" y=\"40.86\" text-anchor=\"middle\" dy=\"0.35em\" transform=\"rotate(-90, 8.81, 42.86)\" id=\"fig-7af1b554904c4f478f3913ec9578349b-element-560\">PetalLength</text>\n",
       "  </g>\n",
       "</g>\n",
       "<defs>\n",
       "<clipPath id=\"fig-7af1b554904c4f478f3913ec9578349b-element-16\">\n",
       "  <path d=\"M16.28,5 L 120.83 5 120.83 80.72 16.28 80.72\" />\n",
       "</clipPath\n",
       "></defs>\n",
       "<script> <![CDATA[\n",
       "(function(N){var k=/[\\.\\/]/,L=/\\s*,\\s*/,C=function(a,d){return a-d},a,v,y={n:{}},M=function(){for(var a=0,d=this.length;a<d;a++)if(\"undefined\"!=typeof this[a])return this[a]},A=function(){for(var a=this.length;--a;)if(\"undefined\"!=typeof this[a])return this[a]},w=function(k,d){k=String(k);var f=v,n=Array.prototype.slice.call(arguments,2),u=w.listeners(k),p=0,b,q=[],e={},l=[],r=a;l.firstDefined=M;l.lastDefined=A;a=k;for(var s=v=0,x=u.length;s<x;s++)\"zIndex\"in u[s]&&(q.push(u[s].zIndex),0>u[s].zIndex&&\n",
       "(e[u[s].zIndex]=u[s]));for(q.sort(C);0>q[p];)if(b=e[q[p++] ],l.push(b.apply(d,n)),v)return v=f,l;for(s=0;s<x;s++)if(b=u[s],\"zIndex\"in b)if(b.zIndex==q[p]){l.push(b.apply(d,n));if(v)break;do if(p++,(b=e[q[p] ])&&l.push(b.apply(d,n)),v)break;while(b)}else e[b.zIndex]=b;else if(l.push(b.apply(d,n)),v)break;v=f;a=r;return l};w._events=y;w.listeners=function(a){a=a.split(k);var d=y,f,n,u,p,b,q,e,l=[d],r=[];u=0;for(p=a.length;u<p;u++){e=[];b=0;for(q=l.length;b<q;b++)for(d=l[b].n,f=[d[a[u] ],d[\"*\"] ],n=2;n--;)if(d=\n",
       "f[n])e.push(d),r=r.concat(d.f||[]);l=e}return r};w.on=function(a,d){a=String(a);if(\"function\"!=typeof d)return function(){};for(var f=a.split(L),n=0,u=f.length;n<u;n++)(function(a){a=a.split(k);for(var b=y,f,e=0,l=a.length;e<l;e++)b=b.n,b=b.hasOwnProperty(a[e])&&b[a[e] ]||(b[a[e] ]={n:{}});b.f=b.f||[];e=0;for(l=b.f.length;e<l;e++)if(b.f[e]==d){f=!0;break}!f&&b.f.push(d)})(f[n]);return function(a){+a==+a&&(d.zIndex=+a)}};w.f=function(a){var d=[].slice.call(arguments,1);return function(){w.apply(null,\n",
       "[a,null].concat(d).concat([].slice.call(arguments,0)))}};w.stop=function(){v=1};w.nt=function(k){return k?(new RegExp(\"(?:\\\\.|\\\\/|^)\"+k+\"(?:\\\\.|\\\\/|$)\")).test(a):a};w.nts=function(){return a.split(k)};w.off=w.unbind=function(a,d){if(a){var f=a.split(L);if(1<f.length)for(var n=0,u=f.length;n<u;n++)w.off(f[n],d);else{for(var f=a.split(k),p,b,q,e,l=[y],n=0,u=f.length;n<u;n++)for(e=0;e<l.length;e+=q.length-2){q=[e,1];p=l[e].n;if(\"*\"!=f[n])p[f[n] ]&&q.push(p[f[n] ]);else for(b in p)p.hasOwnProperty(b)&&\n",
       "q.push(p[b]);l.splice.apply(l,q)}n=0;for(u=l.length;n<u;n++)for(p=l[n];p.n;){if(d){if(p.f){e=0;for(f=p.f.length;e<f;e++)if(p.f[e]==d){p.f.splice(e,1);break}!p.f.length&&delete p.f}for(b in p.n)if(p.n.hasOwnProperty(b)&&p.n[b].f){q=p.n[b].f;e=0;for(f=q.length;e<f;e++)if(q[e]==d){q.splice(e,1);break}!q.length&&delete p.n[b].f}}else for(b in delete p.f,p.n)p.n.hasOwnProperty(b)&&p.n[b].f&&delete p.n[b].f;p=p.n}}}else w._events=y={n:{}}};w.once=function(a,d){var f=function(){w.unbind(a,f);return d.apply(this,\n",
       "arguments)};return w.on(a,f)};w.version=\"0.4.2\";w.toString=function(){return\"You are running Eve 0.4.2\"};\"undefined\"!=typeof module&&module.exports?module.exports=w:\"function\"===typeof define&&define.amd?define(\"eve\",[],function(){return w}):N.eve=w})(this);\n",
       "(function(N,k){\"function\"===typeof define&&define.amd?define(\"Snap.svg\",[\"eve\"],function(L){return k(N,L)}):k(N,N.eve)})(this,function(N,k){var L=function(a){var k={},y=N.requestAnimationFrame||N.webkitRequestAnimationFrame||N.mozRequestAnimationFrame||N.oRequestAnimationFrame||N.msRequestAnimationFrame||function(a){setTimeout(a,16)},M=Array.isArray||function(a){return a instanceof Array||\"[object Array]\"==Object.prototype.toString.call(a)},A=0,w=\"M\"+(+new Date).toString(36),z=function(a){if(null==\n",
       "a)return this.s;var b=this.s-a;this.b+=this.dur*b;this.B+=this.dur*b;this.s=a},d=function(a){if(null==a)return this.spd;this.spd=a},f=function(a){if(null==a)return this.dur;this.s=this.s*a/this.dur;this.dur=a},n=function(){delete k[this.id];this.update();a(\"mina.stop.\"+this.id,this)},u=function(){this.pdif||(delete k[this.id],this.update(),this.pdif=this.get()-this.b)},p=function(){this.pdif&&(this.b=this.get()-this.pdif,delete this.pdif,k[this.id]=this)},b=function(){var a;if(M(this.start)){a=[];\n",
       "for(var b=0,e=this.start.length;b<e;b++)a[b]=+this.start[b]+(this.end[b]-this.start[b])*this.easing(this.s)}else a=+this.start+(this.end-this.start)*this.easing(this.s);this.set(a)},q=function(){var l=0,b;for(b in k)if(k.hasOwnProperty(b)){var e=k[b],f=e.get();l++;e.s=(f-e.b)/(e.dur/e.spd);1<=e.s&&(delete k[b],e.s=1,l--,function(b){setTimeout(function(){a(\"mina.finish.\"+b.id,b)})}(e));e.update()}l&&y(q)},e=function(a,r,s,x,G,h,J){a={id:w+(A++).toString(36),start:a,end:r,b:s,s:0,dur:x-s,spd:1,get:G,\n",
       "set:h,easing:J||e.linear,status:z,speed:d,duration:f,stop:n,pause:u,resume:p,update:b};k[a.id]=a;r=0;for(var K in k)if(k.hasOwnProperty(K)&&(r++,2==r))break;1==r&&y(q);return a};e.time=Date.now||function(){return+new Date};e.getById=function(a){return k[a]||null};e.linear=function(a){return a};e.easeout=function(a){return Math.pow(a,1.7)};e.easein=function(a){return Math.pow(a,0.48)};e.easeinout=function(a){if(1==a)return 1;if(0==a)return 0;var b=0.48-a/1.04,e=Math.sqrt(0.1734+b*b);a=e-b;a=Math.pow(Math.abs(a),\n",
       "1/3)*(0>a?-1:1);b=-e-b;b=Math.pow(Math.abs(b),1/3)*(0>b?-1:1);a=a+b+0.5;return 3*(1-a)*a*a+a*a*a};e.backin=function(a){return 1==a?1:a*a*(2.70158*a-1.70158)};e.backout=function(a){if(0==a)return 0;a-=1;return a*a*(2.70158*a+1.70158)+1};e.elastic=function(a){return a==!!a?a:Math.pow(2,-10*a)*Math.sin(2*(a-0.075)*Math.PI/0.3)+1};e.bounce=function(a){a<1/2.75?a*=7.5625*a:a<2/2.75?(a-=1.5/2.75,a=7.5625*a*a+0.75):a<2.5/2.75?(a-=2.25/2.75,a=7.5625*a*a+0.9375):(a-=2.625/2.75,a=7.5625*a*a+0.984375);return a};\n",
       "return N.mina=e}(\"undefined\"==typeof k?function(){}:k),C=function(){function a(c,t){if(c){if(c.tagName)return x(c);if(y(c,\"array\")&&a.set)return a.set.apply(a,c);if(c instanceof e)return c;if(null==t)return c=G.doc.querySelector(c),x(c)}return new s(null==c?\"100%\":c,null==t?\"100%\":t)}function v(c,a){if(a){\"#text\"==c&&(c=G.doc.createTextNode(a.text||\"\"));\"string\"==typeof c&&(c=v(c));if(\"string\"==typeof a)return\"xlink:\"==a.substring(0,6)?c.getAttributeNS(m,a.substring(6)):\"xml:\"==a.substring(0,4)?c.getAttributeNS(la,\n",
       "a.substring(4)):c.getAttribute(a);for(var da in a)if(a[h](da)){var b=J(a[da]);b?\"xlink:\"==da.substring(0,6)?c.setAttributeNS(m,da.substring(6),b):\"xml:\"==da.substring(0,4)?c.setAttributeNS(la,da.substring(4),b):c.setAttribute(da,b):c.removeAttribute(da)}}else c=G.doc.createElementNS(la,c);return c}function y(c,a){a=J.prototype.toLowerCase.call(a);return\"finite\"==a?isFinite(c):\"array\"==a&&(c instanceof Array||Array.isArray&&Array.isArray(c))?!0:\"null\"==a&&null===c||a==typeof c&&null!==c||\"object\"==\n",
       "a&&c===Object(c)||$.call(c).slice(8,-1).toLowerCase()==a}function M(c){if(\"function\"==typeof c||Object(c)!==c)return c;var a=new c.constructor,b;for(b in c)c[h](b)&&(a[b]=M(c[b]));return a}function A(c,a,b){function m(){var e=Array.prototype.slice.call(arguments,0),f=e.join(\"\\u2400\"),d=m.cache=m.cache||{},l=m.count=m.count||[];if(d[h](f)){a:for(var e=l,l=f,B=0,H=e.length;B<H;B++)if(e[B]===l){e.push(e.splice(B,1)[0]);break a}return b?b(d[f]):d[f]}1E3<=l.length&&delete d[l.shift()];l.push(f);d[f]=c.apply(a,\n",
       "e);return b?b(d[f]):d[f]}return m}function w(c,a,b,m,e,f){return null==e?(c-=b,a-=m,c||a?(180*I.atan2(-a,-c)/C+540)%360:0):w(c,a,e,f)-w(b,m,e,f)}function z(c){return c%360*C/180}function d(c){var a=[];c=c.replace(/(?:^|\\s)(\\w+)\\(([^)]+)\\)/g,function(c,b,m){m=m.split(/\\s*,\\s*|\\s+/);\"rotate\"==b&&1==m.length&&m.push(0,0);\"scale\"==b&&(2<m.length?m=m.slice(0,2):2==m.length&&m.push(0,0),1==m.length&&m.push(m[0],0,0));\"skewX\"==b?a.push([\"m\",1,0,I.tan(z(m[0])),1,0,0]):\"skewY\"==b?a.push([\"m\",1,I.tan(z(m[0])),\n",
       "0,1,0,0]):a.push([b.charAt(0)].concat(m));return c});return a}function f(c,t){var b=O(c),m=new a.Matrix;if(b)for(var e=0,f=b.length;e<f;e++){var h=b[e],d=h.length,B=J(h[0]).toLowerCase(),H=h[0]!=B,l=H?m.invert():0,E;\"t\"==B&&2==d?m.translate(h[1],0):\"t\"==B&&3==d?H?(d=l.x(0,0),B=l.y(0,0),H=l.x(h[1],h[2]),l=l.y(h[1],h[2]),m.translate(H-d,l-B)):m.translate(h[1],h[2]):\"r\"==B?2==d?(E=E||t,m.rotate(h[1],E.x+E.width/2,E.y+E.height/2)):4==d&&(H?(H=l.x(h[2],h[3]),l=l.y(h[2],h[3]),m.rotate(h[1],H,l)):m.rotate(h[1],\n",
       "h[2],h[3])):\"s\"==B?2==d||3==d?(E=E||t,m.scale(h[1],h[d-1],E.x+E.width/2,E.y+E.height/2)):4==d?H?(H=l.x(h[2],h[3]),l=l.y(h[2],h[3]),m.scale(h[1],h[1],H,l)):m.scale(h[1],h[1],h[2],h[3]):5==d&&(H?(H=l.x(h[3],h[4]),l=l.y(h[3],h[4]),m.scale(h[1],h[2],H,l)):m.scale(h[1],h[2],h[3],h[4])):\"m\"==B&&7==d&&m.add(h[1],h[2],h[3],h[4],h[5],h[6])}return m}function n(c,t){if(null==t){var m=!0;t=\"linearGradient\"==c.type||\"radialGradient\"==c.type?c.node.getAttribute(\"gradientTransform\"):\"pattern\"==c.type?c.node.getAttribute(\"patternTransform\"):\n",
       "c.node.getAttribute(\"transform\");if(!t)return new a.Matrix;t=d(t)}else t=a._.rgTransform.test(t)?J(t).replace(/\\.{3}|\\u2026/g,c._.transform||aa):d(t),y(t,\"array\")&&(t=a.path?a.path.toString.call(t):J(t)),c._.transform=t;var b=f(t,c.getBBox(1));if(m)return b;c.matrix=b}function u(c){c=c.node.ownerSVGElement&&x(c.node.ownerSVGElement)||c.node.parentNode&&x(c.node.parentNode)||a.select(\"svg\")||a(0,0);var t=c.select(\"defs\"),t=null==t?!1:t.node;t||(t=r(\"defs\",c.node).node);return t}function p(c){return c.node.ownerSVGElement&&\n",
       "x(c.node.ownerSVGElement)||a.select(\"svg\")}function b(c,a,m){function b(c){if(null==c)return aa;if(c==+c)return c;v(B,{width:c});try{return B.getBBox().width}catch(a){return 0}}function h(c){if(null==c)return aa;if(c==+c)return c;v(B,{height:c});try{return B.getBBox().height}catch(a){return 0}}function e(b,B){null==a?d[b]=B(c.attr(b)||0):b==a&&(d=B(null==m?c.attr(b)||0:m))}var f=p(c).node,d={},B=f.querySelector(\".svg---mgr\");B||(B=v(\"rect\"),v(B,{x:-9E9,y:-9E9,width:10,height:10,\"class\":\"svg---mgr\",\n",
       "fill:\"none\"}),f.appendChild(B));switch(c.type){case \"rect\":e(\"rx\",b),e(\"ry\",h);case \"image\":e(\"width\",b),e(\"height\",h);case \"text\":e(\"x\",b);e(\"y\",h);break;case \"circle\":e(\"cx\",b);e(\"cy\",h);e(\"r\",b);break;case \"ellipse\":e(\"cx\",b);e(\"cy\",h);e(\"rx\",b);e(\"ry\",h);break;case \"line\":e(\"x1\",b);e(\"x2\",b);e(\"y1\",h);e(\"y2\",h);break;case \"marker\":e(\"refX\",b);e(\"markerWidth\",b);e(\"refY\",h);e(\"markerHeight\",h);break;case \"radialGradient\":e(\"fx\",b);e(\"fy\",h);break;case \"tspan\":e(\"dx\",b);e(\"dy\",h);break;default:e(a,\n",
       "b)}f.removeChild(B);return d}function q(c){y(c,\"array\")||(c=Array.prototype.slice.call(arguments,0));for(var a=0,b=0,m=this.node;this[a];)delete this[a++];for(a=0;a<c.length;a++)\"set\"==c[a].type?c[a].forEach(function(c){m.appendChild(c.node)}):m.appendChild(c[a].node);for(var h=m.childNodes,a=0;a<h.length;a++)this[b++]=x(h[a]);return this}function e(c){if(c.snap in E)return E[c.snap];var a=this.id=V(),b;try{b=c.ownerSVGElement}catch(m){}this.node=c;b&&(this.paper=new s(b));this.type=c.tagName;this.anims=\n",
       "{};this._={transform:[]};c.snap=a;E[a]=this;\"g\"==this.type&&(this.add=q);if(this.type in{g:1,mask:1,pattern:1})for(var e in s.prototype)s.prototype[h](e)&&(this[e]=s.prototype[e])}function l(c){this.node=c}function r(c,a){var b=v(c);a.appendChild(b);return x(b)}function s(c,a){var b,m,f,d=s.prototype;if(c&&\"svg\"==c.tagName){if(c.snap in E)return E[c.snap];var l=c.ownerDocument;b=new e(c);m=c.getElementsByTagName(\"desc\")[0];f=c.getElementsByTagName(\"defs\")[0];m||(m=v(\"desc\"),m.appendChild(l.createTextNode(\"Created with Snap\")),\n",
       "b.node.appendChild(m));f||(f=v(\"defs\"),b.node.appendChild(f));b.defs=f;for(var ca in d)d[h](ca)&&(b[ca]=d[ca]);b.paper=b.root=b}else b=r(\"svg\",G.doc.body),v(b.node,{height:a,version:1.1,width:c,xmlns:la});return b}function x(c){return!c||c instanceof e||c instanceof l?c:c.tagName&&\"svg\"==c.tagName.toLowerCase()?new s(c):c.tagName&&\"object\"==c.tagName.toLowerCase()&&\"image/svg+xml\"==c.type?new s(c.contentDocument.getElementsByTagName(\"svg\")[0]):new e(c)}a.version=\"0.3.0\";a.toString=function(){return\"Snap v\"+\n",
       "this.version};a._={};var G={win:N,doc:N.document};a._.glob=G;var h=\"hasOwnProperty\",J=String,K=parseFloat,U=parseInt,I=Math,P=I.max,Q=I.min,Y=I.abs,C=I.PI,aa=\"\",$=Object.prototype.toString,F=/^\\s*((#[a-f\\d]{6})|(#[a-f\\d]{3})|rgba?\\(\\s*([\\d\\.]+%?\\s*,\\s*[\\d\\.]+%?\\s*,\\s*[\\d\\.]+%?(?:\\s*,\\s*[\\d\\.]+%?)?)\\s*\\)|hsba?\\(\\s*([\\d\\.]+(?:deg|\\xb0|%)?\\s*,\\s*[\\d\\.]+%?\\s*,\\s*[\\d\\.]+(?:%?\\s*,\\s*[\\d\\.]+)?%?)\\s*\\)|hsla?\\(\\s*([\\d\\.]+(?:deg|\\xb0|%)?\\s*,\\s*[\\d\\.]+%?\\s*,\\s*[\\d\\.]+(?:%?\\s*,\\s*[\\d\\.]+)?%?)\\s*\\))\\s*$/i;a._.separator=\n",
       "RegExp(\"[,\\t\\n\\x0B\\f\\r \\u00a0\\u1680\\u180e\\u2000\\u2001\\u2002\\u2003\\u2004\\u2005\\u2006\\u2007\\u2008\\u2009\\u200a\\u202f\\u205f\\u3000\\u2028\\u2029]+\");var S=RegExp(\"[\\t\\n\\x0B\\f\\r \\u00a0\\u1680\\u180e\\u2000\\u2001\\u2002\\u2003\\u2004\\u2005\\u2006\\u2007\\u2008\\u2009\\u200a\\u202f\\u205f\\u3000\\u2028\\u2029]*,[\\t\\n\\x0B\\f\\r \\u00a0\\u1680\\u180e\\u2000\\u2001\\u2002\\u2003\\u2004\\u2005\\u2006\\u2007\\u2008\\u2009\\u200a\\u202f\\u205f\\u3000\\u2028\\u2029]*\"),X={hs:1,rg:1},W=RegExp(\"([a-z])[\\t\\n\\x0B\\f\\r \\u00a0\\u1680\\u180e\\u2000\\u2001\\u2002\\u2003\\u2004\\u2005\\u2006\\u2007\\u2008\\u2009\\u200a\\u202f\\u205f\\u3000\\u2028\\u2029,]*((-?\\\\d*\\\\.?\\\\d*(?:e[\\\\-+]?\\\\d+)?[\\t\\n\\x0B\\f\\r \\u00a0\\u1680\\u180e\\u2000\\u2001\\u2002\\u2003\\u2004\\u2005\\u2006\\u2007\\u2008\\u2009\\u200a\\u202f\\u205f\\u3000\\u2028\\u2029]*,?[\\t\\n\\x0B\\f\\r \\u00a0\\u1680\\u180e\\u2000\\u2001\\u2002\\u2003\\u2004\\u2005\\u2006\\u2007\\u2008\\u2009\\u200a\\u202f\\u205f\\u3000\\u2028\\u2029]*)+)\",\n",
       "\"ig\"),ma=RegExp(\"([rstm])[\\t\\n\\x0B\\f\\r \\u00a0\\u1680\\u180e\\u2000\\u2001\\u2002\\u2003\\u2004\\u2005\\u2006\\u2007\\u2008\\u2009\\u200a\\u202f\\u205f\\u3000\\u2028\\u2029,]*((-?\\\\d*\\\\.?\\\\d*(?:e[\\\\-+]?\\\\d+)?[\\t\\n\\x0B\\f\\r \\u00a0\\u1680\\u180e\\u2000\\u2001\\u2002\\u2003\\u2004\\u2005\\u2006\\u2007\\u2008\\u2009\\u200a\\u202f\\u205f\\u3000\\u2028\\u2029]*,?[\\t\\n\\x0B\\f\\r \\u00a0\\u1680\\u180e\\u2000\\u2001\\u2002\\u2003\\u2004\\u2005\\u2006\\u2007\\u2008\\u2009\\u200a\\u202f\\u205f\\u3000\\u2028\\u2029]*)+)\",\"ig\"),Z=RegExp(\"(-?\\\\d*\\\\.?\\\\d*(?:e[\\\\-+]?\\\\d+)?)[\\t\\n\\x0B\\f\\r \\u00a0\\u1680\\u180e\\u2000\\u2001\\u2002\\u2003\\u2004\\u2005\\u2006\\u2007\\u2008\\u2009\\u200a\\u202f\\u205f\\u3000\\u2028\\u2029]*,?[\\t\\n\\x0B\\f\\r \\u00a0\\u1680\\u180e\\u2000\\u2001\\u2002\\u2003\\u2004\\u2005\\u2006\\u2007\\u2008\\u2009\\u200a\\u202f\\u205f\\u3000\\u2028\\u2029]*\",\n",
       "\"ig\"),na=0,ba=\"S\"+(+new Date).toString(36),V=function(){return ba+(na++).toString(36)},m=\"http://www.w3.org/1999/xlink\",la=\"http://www.w3.org/2000/svg\",E={},ca=a.url=function(c){return\"url('#\"+c+\"')\"};a._.$=v;a._.id=V;a.format=function(){var c=/\\{([^\\}]+)\\}/g,a=/(?:(?:^|\\.)(.+?)(?=\\[|\\.|$|\\()|\\[('|\")(.+?)\\2\\])(\\(\\))?/g,b=function(c,b,m){var h=m;b.replace(a,function(c,a,b,m,t){a=a||m;h&&(a in h&&(h=h[a]),\"function\"==typeof h&&t&&(h=h()))});return h=(null==h||h==m?c:h)+\"\"};return function(a,m){return J(a).replace(c,\n",
       "function(c,a){return b(c,a,m)})}}();a._.clone=M;a._.cacher=A;a.rad=z;a.deg=function(c){return 180*c/C%360};a.angle=w;a.is=y;a.snapTo=function(c,a,b){b=y(b,\"finite\")?b:10;if(y(c,\"array\"))for(var m=c.length;m--;){if(Y(c[m]-a)<=b)return c[m]}else{c=+c;m=a%c;if(m<b)return a-m;if(m>c-b)return a-m+c}return a};a.getRGB=A(function(c){if(!c||(c=J(c)).indexOf(\"-\")+1)return{r:-1,g:-1,b:-1,hex:\"none\",error:1,toString:ka};if(\"none\"==c)return{r:-1,g:-1,b:-1,hex:\"none\",toString:ka};!X[h](c.toLowerCase().substring(0,\n",
       "2))&&\"#\"!=c.charAt()&&(c=T(c));if(!c)return{r:-1,g:-1,b:-1,hex:\"none\",error:1,toString:ka};var b,m,e,f,d;if(c=c.match(F)){c[2]&&(e=U(c[2].substring(5),16),m=U(c[2].substring(3,5),16),b=U(c[2].substring(1,3),16));c[3]&&(e=U((d=c[3].charAt(3))+d,16),m=U((d=c[3].charAt(2))+d,16),b=U((d=c[3].charAt(1))+d,16));c[4]&&(d=c[4].split(S),b=K(d[0]),\"%\"==d[0].slice(-1)&&(b*=2.55),m=K(d[1]),\"%\"==d[1].slice(-1)&&(m*=2.55),e=K(d[2]),\"%\"==d[2].slice(-1)&&(e*=2.55),\"rgba\"==c[1].toLowerCase().slice(0,4)&&(f=K(d[3])),\n",
       "d[3]&&\"%\"==d[3].slice(-1)&&(f/=100));if(c[5])return d=c[5].split(S),b=K(d[0]),\"%\"==d[0].slice(-1)&&(b/=100),m=K(d[1]),\"%\"==d[1].slice(-1)&&(m/=100),e=K(d[2]),\"%\"==d[2].slice(-1)&&(e/=100),\"deg\"!=d[0].slice(-3)&&\"\\u00b0\"!=d[0].slice(-1)||(b/=360),\"hsba\"==c[1].toLowerCase().slice(0,4)&&(f=K(d[3])),d[3]&&\"%\"==d[3].slice(-1)&&(f/=100),a.hsb2rgb(b,m,e,f);if(c[6])return d=c[6].split(S),b=K(d[0]),\"%\"==d[0].slice(-1)&&(b/=100),m=K(d[1]),\"%\"==d[1].slice(-1)&&(m/=100),e=K(d[2]),\"%\"==d[2].slice(-1)&&(e/=100),\n",
       "\"deg\"!=d[0].slice(-3)&&\"\\u00b0\"!=d[0].slice(-1)||(b/=360),\"hsla\"==c[1].toLowerCase().slice(0,4)&&(f=K(d[3])),d[3]&&\"%\"==d[3].slice(-1)&&(f/=100),a.hsl2rgb(b,m,e,f);b=Q(I.round(b),255);m=Q(I.round(m),255);e=Q(I.round(e),255);f=Q(P(f,0),1);c={r:b,g:m,b:e,toString:ka};c.hex=\"#\"+(16777216|e|m<<8|b<<16).toString(16).slice(1);c.opacity=y(f,\"finite\")?f:1;return c}return{r:-1,g:-1,b:-1,hex:\"none\",error:1,toString:ka}},a);a.hsb=A(function(c,b,m){return a.hsb2rgb(c,b,m).hex});a.hsl=A(function(c,b,m){return a.hsl2rgb(c,\n",
       "b,m).hex});a.rgb=A(function(c,a,b,m){if(y(m,\"finite\")){var e=I.round;return\"rgba(\"+[e(c),e(a),e(b),+m.toFixed(2)]+\")\"}return\"#\"+(16777216|b|a<<8|c<<16).toString(16).slice(1)});var T=function(c){var a=G.doc.getElementsByTagName(\"head\")[0]||G.doc.getElementsByTagName(\"svg\")[0];T=A(function(c){if(\"red\"==c.toLowerCase())return\"rgb(255, 0, 0)\";a.style.color=\"rgb(255, 0, 0)\";a.style.color=c;c=G.doc.defaultView.getComputedStyle(a,aa).getPropertyValue(\"color\");return\"rgb(255, 0, 0)\"==c?null:c});return T(c)},\n",
       "qa=function(){return\"hsb(\"+[this.h,this.s,this.b]+\")\"},ra=function(){return\"hsl(\"+[this.h,this.s,this.l]+\")\"},ka=function(){return 1==this.opacity||null==this.opacity?this.hex:\"rgba(\"+[this.r,this.g,this.b,this.opacity]+\")\"},D=function(c,b,m){null==b&&y(c,\"object\")&&\"r\"in c&&\"g\"in c&&\"b\"in c&&(m=c.b,b=c.g,c=c.r);null==b&&y(c,string)&&(m=a.getRGB(c),c=m.r,b=m.g,m=m.b);if(1<c||1<b||1<m)c/=255,b/=255,m/=255;return[c,b,m]},oa=function(c,b,m,e){c=I.round(255*c);b=I.round(255*b);m=I.round(255*m);c={r:c,\n",
       "g:b,b:m,opacity:y(e,\"finite\")?e:1,hex:a.rgb(c,b,m),toString:ka};y(e,\"finite\")&&(c.opacity=e);return c};a.color=function(c){var b;y(c,\"object\")&&\"h\"in c&&\"s\"in c&&\"b\"in c?(b=a.hsb2rgb(c),c.r=b.r,c.g=b.g,c.b=b.b,c.opacity=1,c.hex=b.hex):y(c,\"object\")&&\"h\"in c&&\"s\"in c&&\"l\"in c?(b=a.hsl2rgb(c),c.r=b.r,c.g=b.g,c.b=b.b,c.opacity=1,c.hex=b.hex):(y(c,\"string\")&&(c=a.getRGB(c)),y(c,\"object\")&&\"r\"in c&&\"g\"in c&&\"b\"in c&&!(\"error\"in c)?(b=a.rgb2hsl(c),c.h=b.h,c.s=b.s,c.l=b.l,b=a.rgb2hsb(c),c.v=b.b):(c={hex:\"none\"},\n",
       "c.r=c.g=c.b=c.h=c.s=c.v=c.l=-1,c.error=1));c.toString=ka;return c};a.hsb2rgb=function(c,a,b,m){y(c,\"object\")&&\"h\"in c&&\"s\"in c&&\"b\"in c&&(b=c.b,a=c.s,c=c.h,m=c.o);var e,h,d;c=360*c%360/60;d=b*a;a=d*(1-Y(c%2-1));b=e=h=b-d;c=~~c;b+=[d,a,0,0,a,d][c];e+=[a,d,d,a,0,0][c];h+=[0,0,a,d,d,a][c];return oa(b,e,h,m)};a.hsl2rgb=function(c,a,b,m){y(c,\"object\")&&\"h\"in c&&\"s\"in c&&\"l\"in c&&(b=c.l,a=c.s,c=c.h);if(1<c||1<a||1<b)c/=360,a/=100,b/=100;var e,h,d;c=360*c%360/60;d=2*a*(0.5>b?b:1-b);a=d*(1-Y(c%2-1));b=e=\n",
       "h=b-d/2;c=~~c;b+=[d,a,0,0,a,d][c];e+=[a,d,d,a,0,0][c];h+=[0,0,a,d,d,a][c];return oa(b,e,h,m)};a.rgb2hsb=function(c,a,b){b=D(c,a,b);c=b[0];a=b[1];b=b[2];var m,e;m=P(c,a,b);e=m-Q(c,a,b);c=((0==e?0:m==c?(a-b)/e:m==a?(b-c)/e+2:(c-a)/e+4)+360)%6*60/360;return{h:c,s:0==e?0:e/m,b:m,toString:qa}};a.rgb2hsl=function(c,a,b){b=D(c,a,b);c=b[0];a=b[1];b=b[2];var m,e,h;m=P(c,a,b);e=Q(c,a,b);h=m-e;c=((0==h?0:m==c?(a-b)/h:m==a?(b-c)/h+2:(c-a)/h+4)+360)%6*60/360;m=(m+e)/2;return{h:c,s:0==h?0:0.5>m?h/(2*m):h/(2-2*\n",
       "m),l:m,toString:ra}};a.parsePathString=function(c){if(!c)return null;var b=a.path(c);if(b.arr)return a.path.clone(b.arr);var m={a:7,c:6,o:2,h:1,l:2,m:2,r:4,q:4,s:4,t:2,v:1,u:3,z:0},e=[];y(c,\"array\")&&y(c[0],\"array\")&&(e=a.path.clone(c));e.length||J(c).replace(W,function(c,a,b){var h=[];c=a.toLowerCase();b.replace(Z,function(c,a){a&&h.push(+a)});\"m\"==c&&2<h.length&&(e.push([a].concat(h.splice(0,2))),c=\"l\",a=\"m\"==a?\"l\":\"L\");\"o\"==c&&1==h.length&&e.push([a,h[0] ]);if(\"r\"==c)e.push([a].concat(h));else for(;h.length>=\n",
       "m[c]&&(e.push([a].concat(h.splice(0,m[c]))),m[c]););});e.toString=a.path.toString;b.arr=a.path.clone(e);return e};var O=a.parseTransformString=function(c){if(!c)return null;var b=[];y(c,\"array\")&&y(c[0],\"array\")&&(b=a.path.clone(c));b.length||J(c).replace(ma,function(c,a,m){var e=[];a.toLowerCase();m.replace(Z,function(c,a){a&&e.push(+a)});b.push([a].concat(e))});b.toString=a.path.toString;return b};a._.svgTransform2string=d;a._.rgTransform=RegExp(\"^[a-z][\\t\\n\\x0B\\f\\r \\u00a0\\u1680\\u180e\\u2000\\u2001\\u2002\\u2003\\u2004\\u2005\\u2006\\u2007\\u2008\\u2009\\u200a\\u202f\\u205f\\u3000\\u2028\\u2029]*-?\\\\.?\\\\d\",\n",
       "\"i\");a._.transform2matrix=f;a._unit2px=b;a._.getSomeDefs=u;a._.getSomeSVG=p;a.select=function(c){return x(G.doc.querySelector(c))};a.selectAll=function(c){c=G.doc.querySelectorAll(c);for(var b=(a.set||Array)(),m=0;m<c.length;m++)b.push(x(c[m]));return b};setInterval(function(){for(var c in E)if(E[h](c)){var a=E[c],b=a.node;(\"svg\"!=a.type&&!b.ownerSVGElement||\"svg\"==a.type&&(!b.parentNode||\"ownerSVGElement\"in b.parentNode&&!b.ownerSVGElement))&&delete E[c]}},1E4);(function(c){function m(c){function a(c,\n",
       "b){var m=v(c.node,b);(m=(m=m&&m.match(d))&&m[2])&&\"#\"==m.charAt()&&(m=m.substring(1))&&(f[m]=(f[m]||[]).concat(function(a){var m={};m[b]=ca(a);v(c.node,m)}))}function b(c){var a=v(c.node,\"xlink:href\");a&&\"#\"==a.charAt()&&(a=a.substring(1))&&(f[a]=(f[a]||[]).concat(function(a){c.attr(\"xlink:href\",\"#\"+a)}))}var e=c.selectAll(\"*\"),h,d=/^\\s*url\\((\"|'|)(.*)\\1\\)\\s*$/;c=[];for(var f={},l=0,E=e.length;l<E;l++){h=e[l];a(h,\"fill\");a(h,\"stroke\");a(h,\"filter\");a(h,\"mask\");a(h,\"clip-path\");b(h);var t=v(h.node,\n",
       "\"id\");t&&(v(h.node,{id:h.id}),c.push({old:t,id:h.id}))}l=0;for(E=c.length;l<E;l++)if(e=f[c[l].old])for(h=0,t=e.length;h<t;h++)e[h](c[l].id)}function e(c,a,b){return function(m){m=m.slice(c,a);1==m.length&&(m=m[0]);return b?b(m):m}}function d(c){return function(){var a=c?\"<\"+this.type:\"\",b=this.node.attributes,m=this.node.childNodes;if(c)for(var e=0,h=b.length;e<h;e++)a+=\" \"+b[e].name+'=\"'+b[e].value.replace(/\"/g,'\\\\\"')+'\"';if(m.length){c&&(a+=\">\");e=0;for(h=m.length;e<h;e++)3==m[e].nodeType?a+=m[e].nodeValue:\n",
       "1==m[e].nodeType&&(a+=x(m[e]).toString());c&&(a+=\"</\"+this.type+\">\")}else c&&(a+=\"/>\");return a}}c.attr=function(c,a){if(!c)return this;if(y(c,\"string\"))if(1<arguments.length){var b={};b[c]=a;c=b}else return k(\"snap.util.getattr.\"+c,this).firstDefined();for(var m in c)c[h](m)&&k(\"snap.util.attr.\"+m,this,c[m]);return this};c.getBBox=function(c){if(!a.Matrix||!a.path)return this.node.getBBox();var b=this,m=new a.Matrix;if(b.removed)return a._.box();for(;\"use\"==b.type;)if(c||(m=m.add(b.transform().localMatrix.translate(b.attr(\"x\")||\n",
       "0,b.attr(\"y\")||0))),b.original)b=b.original;else var e=b.attr(\"xlink:href\"),b=b.original=b.node.ownerDocument.getElementById(e.substring(e.indexOf(\"#\")+1));var e=b._,h=a.path.get[b.type]||a.path.get.deflt;try{if(c)return e.bboxwt=h?a.path.getBBox(b.realPath=h(b)):a._.box(b.node.getBBox()),a._.box(e.bboxwt);b.realPath=h(b);b.matrix=b.transform().localMatrix;e.bbox=a.path.getBBox(a.path.map(b.realPath,m.add(b.matrix)));return a._.box(e.bbox)}catch(d){return a._.box()}};var f=function(){return this.string};\n",
       "c.transform=function(c){var b=this._;if(null==c){var m=this;c=new a.Matrix(this.node.getCTM());for(var e=n(this),h=[e],d=new a.Matrix,l=e.toTransformString(),b=J(e)==J(this.matrix)?J(b.transform):l;\"svg\"!=m.type&&(m=m.parent());)h.push(n(m));for(m=h.length;m--;)d.add(h[m]);return{string:b,globalMatrix:c,totalMatrix:d,localMatrix:e,diffMatrix:c.clone().add(e.invert()),global:c.toTransformString(),total:d.toTransformString(),local:l,toString:f}}c instanceof a.Matrix?this.matrix=c:n(this,c);this.node&&\n",
       "(\"linearGradient\"==this.type||\"radialGradient\"==this.type?v(this.node,{gradientTransform:this.matrix}):\"pattern\"==this.type?v(this.node,{patternTransform:this.matrix}):v(this.node,{transform:this.matrix}));return this};c.parent=function(){return x(this.node.parentNode)};c.append=c.add=function(c){if(c){if(\"set\"==c.type){var a=this;c.forEach(function(c){a.add(c)});return this}c=x(c);this.node.appendChild(c.node);c.paper=this.paper}return this};c.appendTo=function(c){c&&(c=x(c),c.append(this));return this};\n",
       "c.prepend=function(c){if(c){if(\"set\"==c.type){var a=this,b;c.forEach(function(c){b?b.after(c):a.prepend(c);b=c});return this}c=x(c);var m=c.parent();this.node.insertBefore(c.node,this.node.firstChild);this.add&&this.add();c.paper=this.paper;this.parent()&&this.parent().add();m&&m.add()}return this};c.prependTo=function(c){c=x(c);c.prepend(this);return this};c.before=function(c){if(\"set\"==c.type){var a=this;c.forEach(function(c){var b=c.parent();a.node.parentNode.insertBefore(c.node,a.node);b&&b.add()});\n",
       "this.parent().add();return this}c=x(c);var b=c.parent();this.node.parentNode.insertBefore(c.node,this.node);this.parent()&&this.parent().add();b&&b.add();c.paper=this.paper;return this};c.after=function(c){c=x(c);var a=c.parent();this.node.nextSibling?this.node.parentNode.insertBefore(c.node,this.node.nextSibling):this.node.parentNode.appendChild(c.node);this.parent()&&this.parent().add();a&&a.add();c.paper=this.paper;return this};c.insertBefore=function(c){c=x(c);var a=this.parent();c.node.parentNode.insertBefore(this.node,\n",
       "c.node);this.paper=c.paper;a&&a.add();c.parent()&&c.parent().add();return this};c.insertAfter=function(c){c=x(c);var a=this.parent();c.node.parentNode.insertBefore(this.node,c.node.nextSibling);this.paper=c.paper;a&&a.add();c.parent()&&c.parent().add();return this};c.remove=function(){var c=this.parent();this.node.parentNode&&this.node.parentNode.removeChild(this.node);delete this.paper;this.removed=!0;c&&c.add();return this};c.select=function(c){return x(this.node.querySelector(c))};c.selectAll=\n",
       "function(c){c=this.node.querySelectorAll(c);for(var b=(a.set||Array)(),m=0;m<c.length;m++)b.push(x(c[m]));return b};c.asPX=function(c,a){null==a&&(a=this.attr(c));return+b(this,c,a)};c.use=function(){var c,a=this.node.id;a||(a=this.id,v(this.node,{id:a}));c=\"linearGradient\"==this.type||\"radialGradient\"==this.type||\"pattern\"==this.type?r(this.type,this.node.parentNode):r(\"use\",this.node.parentNode);v(c.node,{\"xlink:href\":\"#\"+a});c.original=this;return c};var l=/\\S+/g;c.addClass=function(c){var a=(c||\n",
       "\"\").match(l)||[];c=this.node;var b=c.className.baseVal,m=b.match(l)||[],e,h,d;if(a.length){for(e=0;d=a[e++];)h=m.indexOf(d),~h||m.push(d);a=m.join(\" \");b!=a&&(c.className.baseVal=a)}return this};c.removeClass=function(c){var a=(c||\"\").match(l)||[];c=this.node;var b=c.className.baseVal,m=b.match(l)||[],e,h;if(m.length){for(e=0;h=a[e++];)h=m.indexOf(h),~h&&m.splice(h,1);a=m.join(\" \");b!=a&&(c.className.baseVal=a)}return this};c.hasClass=function(c){return!!~(this.node.className.baseVal.match(l)||[]).indexOf(c)};\n",
       "c.toggleClass=function(c,a){if(null!=a)return a?this.addClass(c):this.removeClass(c);var b=(c||\"\").match(l)||[],m=this.node,e=m.className.baseVal,h=e.match(l)||[],d,f,E;for(d=0;E=b[d++];)f=h.indexOf(E),~f?h.splice(f,1):h.push(E);b=h.join(\" \");e!=b&&(m.className.baseVal=b);return this};c.clone=function(){var c=x(this.node.cloneNode(!0));v(c.node,\"id\")&&v(c.node,{id:c.id});m(c);c.insertAfter(this);return c};c.toDefs=function(){u(this).appendChild(this.node);return this};c.pattern=c.toPattern=function(c,\n",
       "a,b,m){var e=r(\"pattern\",u(this));null==c&&(c=this.getBBox());y(c,\"object\")&&\"x\"in c&&(a=c.y,b=c.width,m=c.height,c=c.x);v(e.node,{x:c,y:a,width:b,height:m,patternUnits:\"userSpaceOnUse\",id:e.id,viewBox:[c,a,b,m].join(\" \")});e.node.appendChild(this.node);return e};c.marker=function(c,a,b,m,e,h){var d=r(\"marker\",u(this));null==c&&(c=this.getBBox());y(c,\"object\")&&\"x\"in c&&(a=c.y,b=c.width,m=c.height,e=c.refX||c.cx,h=c.refY||c.cy,c=c.x);v(d.node,{viewBox:[c,a,b,m].join(\" \"),markerWidth:b,markerHeight:m,\n",
       "orient:\"auto\",refX:e||0,refY:h||0,id:d.id});d.node.appendChild(this.node);return d};var E=function(c,a,b,m){\"function\"!=typeof b||b.length||(m=b,b=L.linear);this.attr=c;this.dur=a;b&&(this.easing=b);m&&(this.callback=m)};a._.Animation=E;a.animation=function(c,a,b,m){return new E(c,a,b,m)};c.inAnim=function(){var c=[],a;for(a in this.anims)this.anims[h](a)&&function(a){c.push({anim:new E(a._attrs,a.dur,a.easing,a._callback),mina:a,curStatus:a.status(),status:function(c){return a.status(c)},stop:function(){a.stop()}})}(this.anims[a]);\n",
       "return c};a.animate=function(c,a,b,m,e,h){\"function\"!=typeof e||e.length||(h=e,e=L.linear);var d=L.time();c=L(c,a,d,d+m,L.time,b,e);h&&k.once(\"mina.finish.\"+c.id,h);return c};c.stop=function(){for(var c=this.inAnim(),a=0,b=c.length;a<b;a++)c[a].stop();return this};c.animate=function(c,a,b,m){\"function\"!=typeof b||b.length||(m=b,b=L.linear);c instanceof E&&(m=c.callback,b=c.easing,a=b.dur,c=c.attr);var d=[],f=[],l={},t,ca,n,T=this,q;for(q in c)if(c[h](q)){T.equal?(n=T.equal(q,J(c[q])),t=n.from,ca=\n",
       "n.to,n=n.f):(t=+T.attr(q),ca=+c[q]);var la=y(t,\"array\")?t.length:1;l[q]=e(d.length,d.length+la,n);d=d.concat(t);f=f.concat(ca)}t=L.time();var p=L(d,f,t,t+a,L.time,function(c){var a={},b;for(b in l)l[h](b)&&(a[b]=l[b](c));T.attr(a)},b);T.anims[p.id]=p;p._attrs=c;p._callback=m;k(\"snap.animcreated.\"+T.id,p);k.once(\"mina.finish.\"+p.id,function(){delete T.anims[p.id];m&&m.call(T)});k.once(\"mina.stop.\"+p.id,function(){delete T.anims[p.id]});return T};var T={};c.data=function(c,b){var m=T[this.id]=T[this.id]||\n",
       "{};if(0==arguments.length)return k(\"snap.data.get.\"+this.id,this,m,null),m;if(1==arguments.length){if(a.is(c,\"object\")){for(var e in c)c[h](e)&&this.data(e,c[e]);return this}k(\"snap.data.get.\"+this.id,this,m[c],c);return m[c]}m[c]=b;k(\"snap.data.set.\"+this.id,this,b,c);return this};c.removeData=function(c){null==c?T[this.id]={}:T[this.id]&&delete T[this.id][c];return this};c.outerSVG=c.toString=d(1);c.innerSVG=d()})(e.prototype);a.parse=function(c){var a=G.doc.createDocumentFragment(),b=!0,m=G.doc.createElement(\"div\");\n",
       "c=J(c);c.match(/^\\s*<\\s*svg(?:\\s|>)/)||(c=\"<svg>\"+c+\"</svg>\",b=!1);m.innerHTML=c;if(c=m.getElementsByTagName(\"svg\")[0])if(b)a=c;else for(;c.firstChild;)a.appendChild(c.firstChild);m.innerHTML=aa;return new l(a)};l.prototype.select=e.prototype.select;l.prototype.selectAll=e.prototype.selectAll;a.fragment=function(){for(var c=Array.prototype.slice.call(arguments,0),b=G.doc.createDocumentFragment(),m=0,e=c.length;m<e;m++){var h=c[m];h.node&&h.node.nodeType&&b.appendChild(h.node);h.nodeType&&b.appendChild(h);\n",
       "\"string\"==typeof h&&b.appendChild(a.parse(h).node)}return new l(b)};a._.make=r;a._.wrap=x;s.prototype.el=function(c,a){var b=r(c,this.node);a&&b.attr(a);return b};k.on(\"snap.util.getattr\",function(){var c=k.nt(),c=c.substring(c.lastIndexOf(\".\")+1),a=c.replace(/[A-Z]/g,function(c){return\"-\"+c.toLowerCase()});return pa[h](a)?this.node.ownerDocument.defaultView.getComputedStyle(this.node,null).getPropertyValue(a):v(this.node,c)});var pa={\"alignment-baseline\":0,\"baseline-shift\":0,clip:0,\"clip-path\":0,\n",
       "\"clip-rule\":0,color:0,\"color-interpolation\":0,\"color-interpolation-filters\":0,\"color-profile\":0,\"color-rendering\":0,cursor:0,direction:0,display:0,\"dominant-baseline\":0,\"enable-background\":0,fill:0,\"fill-opacity\":0,\"fill-rule\":0,filter:0,\"flood-color\":0,\"flood-opacity\":0,font:0,\"font-family\":0,\"font-size\":0,\"font-size-adjust\":0,\"font-stretch\":0,\"font-style\":0,\"font-variant\":0,\"font-weight\":0,\"glyph-orientation-horizontal\":0,\"glyph-orientation-vertical\":0,\"image-rendering\":0,kerning:0,\"letter-spacing\":0,\n",
       "\"lighting-color\":0,marker:0,\"marker-end\":0,\"marker-mid\":0,\"marker-start\":0,mask:0,opacity:0,overflow:0,\"pointer-events\":0,\"shape-rendering\":0,\"stop-color\":0,\"stop-opacity\":0,stroke:0,\"stroke-dasharray\":0,\"stroke-dashoffset\":0,\"stroke-linecap\":0,\"stroke-linejoin\":0,\"stroke-miterlimit\":0,\"stroke-opacity\":0,\"stroke-width\":0,\"text-anchor\":0,\"text-decoration\":0,\"text-rendering\":0,\"unicode-bidi\":0,visibility:0,\"word-spacing\":0,\"writing-mode\":0};k.on(\"snap.util.attr\",function(c){var a=k.nt(),b={},a=a.substring(a.lastIndexOf(\".\")+\n",
       "1);b[a]=c;var m=a.replace(/-(\\w)/gi,function(c,a){return a.toUpperCase()}),a=a.replace(/[A-Z]/g,function(c){return\"-\"+c.toLowerCase()});pa[h](a)?this.node.style[m]=null==c?aa:c:v(this.node,b)});a.ajax=function(c,a,b,m){var e=new XMLHttpRequest,h=V();if(e){if(y(a,\"function\"))m=b,b=a,a=null;else if(y(a,\"object\")){var d=[],f;for(f in a)a.hasOwnProperty(f)&&d.push(encodeURIComponent(f)+\"=\"+encodeURIComponent(a[f]));a=d.join(\"&\")}e.open(a?\"POST\":\"GET\",c,!0);a&&(e.setRequestHeader(\"X-Requested-With\",\"XMLHttpRequest\"),\n",
       "e.setRequestHeader(\"Content-type\",\"application/x-www-form-urlencoded\"));b&&(k.once(\"snap.ajax.\"+h+\".0\",b),k.once(\"snap.ajax.\"+h+\".200\",b),k.once(\"snap.ajax.\"+h+\".304\",b));e.onreadystatechange=function(){4==e.readyState&&k(\"snap.ajax.\"+h+\".\"+e.status,m,e)};if(4==e.readyState)return e;e.send(a);return e}};a.load=function(c,b,m){a.ajax(c,function(c){c=a.parse(c.responseText);m?b.call(m,c):b(c)})};a.getElementByPoint=function(c,a){var b,m,e=G.doc.elementFromPoint(c,a);if(G.win.opera&&\"svg\"==e.tagName){b=\n",
       "e;m=b.getBoundingClientRect();b=b.ownerDocument;var h=b.body,d=b.documentElement;b=m.top+(g.win.pageYOffset||d.scrollTop||h.scrollTop)-(d.clientTop||h.clientTop||0);m=m.left+(g.win.pageXOffset||d.scrollLeft||h.scrollLeft)-(d.clientLeft||h.clientLeft||0);h=e.createSVGRect();h.x=c-m;h.y=a-b;h.width=h.height=1;b=e.getIntersectionList(h,null);b.length&&(e=b[b.length-1])}return e?x(e):null};a.plugin=function(c){c(a,e,s,G,l)};return G.win.Snap=a}();C.plugin(function(a,k,y,M,A){function w(a,d,f,b,q,e){null==\n",
       "d&&\"[object SVGMatrix]\"==z.call(a)?(this.a=a.a,this.b=a.b,this.c=a.c,this.d=a.d,this.e=a.e,this.f=a.f):null!=a?(this.a=+a,this.b=+d,this.c=+f,this.d=+b,this.e=+q,this.f=+e):(this.a=1,this.c=this.b=0,this.d=1,this.f=this.e=0)}var z=Object.prototype.toString,d=String,f=Math;(function(n){function k(a){return a[0]*a[0]+a[1]*a[1]}function p(a){var d=f.sqrt(k(a));a[0]&&(a[0]/=d);a[1]&&(a[1]/=d)}n.add=function(a,d,e,f,n,p){var k=[[],[],[] ],u=[[this.a,this.c,this.e],[this.b,this.d,this.f],[0,0,1] ];d=[[a,\n",
       "e,n],[d,f,p],[0,0,1] ];a&&a instanceof w&&(d=[[a.a,a.c,a.e],[a.b,a.d,a.f],[0,0,1] ]);for(a=0;3>a;a++)for(e=0;3>e;e++){for(f=n=0;3>f;f++)n+=u[a][f]*d[f][e];k[a][e]=n}this.a=k[0][0];this.b=k[1][0];this.c=k[0][1];this.d=k[1][1];this.e=k[0][2];this.f=k[1][2];return this};n.invert=function(){var a=this.a*this.d-this.b*this.c;return new w(this.d/a,-this.b/a,-this.c/a,this.a/a,(this.c*this.f-this.d*this.e)/a,(this.b*this.e-this.a*this.f)/a)};n.clone=function(){return new w(this.a,this.b,this.c,this.d,this.e,\n",
       "this.f)};n.translate=function(a,d){return this.add(1,0,0,1,a,d)};n.scale=function(a,d,e,f){null==d&&(d=a);(e||f)&&this.add(1,0,0,1,e,f);this.add(a,0,0,d,0,0);(e||f)&&this.add(1,0,0,1,-e,-f);return this};n.rotate=function(b,d,e){b=a.rad(b);d=d||0;e=e||0;var l=+f.cos(b).toFixed(9);b=+f.sin(b).toFixed(9);this.add(l,b,-b,l,d,e);return this.add(1,0,0,1,-d,-e)};n.x=function(a,d){return a*this.a+d*this.c+this.e};n.y=function(a,d){return a*this.b+d*this.d+this.f};n.get=function(a){return+this[d.fromCharCode(97+\n",
       "a)].toFixed(4)};n.toString=function(){return\"matrix(\"+[this.get(0),this.get(1),this.get(2),this.get(3),this.get(4),this.get(5)].join()+\")\"};n.offset=function(){return[this.e.toFixed(4),this.f.toFixed(4)]};n.determinant=function(){return this.a*this.d-this.b*this.c};n.split=function(){var b={};b.dx=this.e;b.dy=this.f;var d=[[this.a,this.c],[this.b,this.d] ];b.scalex=f.sqrt(k(d[0]));p(d[0]);b.shear=d[0][0]*d[1][0]+d[0][1]*d[1][1];d[1]=[d[1][0]-d[0][0]*b.shear,d[1][1]-d[0][1]*b.shear];b.scaley=f.sqrt(k(d[1]));\n",
       "p(d[1]);b.shear/=b.scaley;0>this.determinant()&&(b.scalex=-b.scalex);var e=-d[0][1],d=d[1][1];0>d?(b.rotate=a.deg(f.acos(d)),0>e&&(b.rotate=360-b.rotate)):b.rotate=a.deg(f.asin(e));b.isSimple=!+b.shear.toFixed(9)&&(b.scalex.toFixed(9)==b.scaley.toFixed(9)||!b.rotate);b.isSuperSimple=!+b.shear.toFixed(9)&&b.scalex.toFixed(9)==b.scaley.toFixed(9)&&!b.rotate;b.noRotation=!+b.shear.toFixed(9)&&!b.rotate;return b};n.toTransformString=function(a){a=a||this.split();if(+a.shear.toFixed(9))return\"m\"+[this.get(0),\n",
       "this.get(1),this.get(2),this.get(3),this.get(4),this.get(5)];a.scalex=+a.scalex.toFixed(4);a.scaley=+a.scaley.toFixed(4);a.rotate=+a.rotate.toFixed(4);return(a.dx||a.dy?\"t\"+[+a.dx.toFixed(4),+a.dy.toFixed(4)]:\"\")+(1!=a.scalex||1!=a.scaley?\"s\"+[a.scalex,a.scaley,0,0]:\"\")+(a.rotate?\"r\"+[+a.rotate.toFixed(4),0,0]:\"\")}})(w.prototype);a.Matrix=w;a.matrix=function(a,d,f,b,k,e){return new w(a,d,f,b,k,e)}});C.plugin(function(a,v,y,M,A){function w(h){return function(d){k.stop();d instanceof A&&1==d.node.childNodes.length&&\n",
       "(\"radialGradient\"==d.node.firstChild.tagName||\"linearGradient\"==d.node.firstChild.tagName||\"pattern\"==d.node.firstChild.tagName)&&(d=d.node.firstChild,b(this).appendChild(d),d=u(d));if(d instanceof v)if(\"radialGradient\"==d.type||\"linearGradient\"==d.type||\"pattern\"==d.type){d.node.id||e(d.node,{id:d.id});var f=l(d.node.id)}else f=d.attr(h);else f=a.color(d),f.error?(f=a(b(this).ownerSVGElement).gradient(d))?(f.node.id||e(f.node,{id:f.id}),f=l(f.node.id)):f=d:f=r(f);d={};d[h]=f;e(this.node,d);this.node.style[h]=\n",
       "x}}function z(a){k.stop();a==+a&&(a+=\"px\");this.node.style.fontSize=a}function d(a){var b=[];a=a.childNodes;for(var e=0,f=a.length;e<f;e++){var l=a[e];3==l.nodeType&&b.push(l.nodeValue);\"tspan\"==l.tagName&&(1==l.childNodes.length&&3==l.firstChild.nodeType?b.push(l.firstChild.nodeValue):b.push(d(l)))}return b}function f(){k.stop();return this.node.style.fontSize}var n=a._.make,u=a._.wrap,p=a.is,b=a._.getSomeDefs,q=/^url\\(#?([^)]+)\\)$/,e=a._.$,l=a.url,r=String,s=a._.separator,x=\"\";k.on(\"snap.util.attr.mask\",\n",
       "function(a){if(a instanceof v||a instanceof A){k.stop();a instanceof A&&1==a.node.childNodes.length&&(a=a.node.firstChild,b(this).appendChild(a),a=u(a));if(\"mask\"==a.type)var d=a;else d=n(\"mask\",b(this)),d.node.appendChild(a.node);!d.node.id&&e(d.node,{id:d.id});e(this.node,{mask:l(d.id)})}});(function(a){k.on(\"snap.util.attr.clip\",a);k.on(\"snap.util.attr.clip-path\",a);k.on(\"snap.util.attr.clipPath\",a)})(function(a){if(a instanceof v||a instanceof A){k.stop();if(\"clipPath\"==a.type)var d=a;else d=\n",
       "n(\"clipPath\",b(this)),d.node.appendChild(a.node),!d.node.id&&e(d.node,{id:d.id});e(this.node,{\"clip-path\":l(d.id)})}});k.on(\"snap.util.attr.fill\",w(\"fill\"));k.on(\"snap.util.attr.stroke\",w(\"stroke\"));var G=/^([lr])(?:\\(([^)]*)\\))?(.*)$/i;k.on(\"snap.util.grad.parse\",function(a){a=r(a);var b=a.match(G);if(!b)return null;a=b[1];var e=b[2],b=b[3],e=e.split(/\\s*,\\s*/).map(function(a){return+a==a?+a:a});1==e.length&&0==e[0]&&(e=[]);b=b.split(\"-\");b=b.map(function(a){a=a.split(\":\");var b={color:a[0]};a[1]&&\n",
       "(b.offset=parseFloat(a[1]));return b});return{type:a,params:e,stops:b}});k.on(\"snap.util.attr.d\",function(b){k.stop();p(b,\"array\")&&p(b[0],\"array\")&&(b=a.path.toString.call(b));b=r(b);b.match(/[ruo]/i)&&(b=a.path.toAbsolute(b));e(this.node,{d:b})})(-1);k.on(\"snap.util.attr.#text\",function(a){k.stop();a=r(a);for(a=M.doc.createTextNode(a);this.node.firstChild;)this.node.removeChild(this.node.firstChild);this.node.appendChild(a)})(-1);k.on(\"snap.util.attr.path\",function(a){k.stop();this.attr({d:a})})(-1);\n",
       "k.on(\"snap.util.attr.class\",function(a){k.stop();this.node.className.baseVal=a})(-1);k.on(\"snap.util.attr.viewBox\",function(a){a=p(a,\"object\")&&\"x\"in a?[a.x,a.y,a.width,a.height].join(\" \"):p(a,\"array\")?a.join(\" \"):a;e(this.node,{viewBox:a});k.stop()})(-1);k.on(\"snap.util.attr.transform\",function(a){this.transform(a);k.stop()})(-1);k.on(\"snap.util.attr.r\",function(a){\"rect\"==this.type&&(k.stop(),e(this.node,{rx:a,ry:a}))})(-1);k.on(\"snap.util.attr.textpath\",function(a){k.stop();if(\"text\"==this.type){var d,\n",
       "f;if(!a&&this.textPath){for(a=this.textPath;a.node.firstChild;)this.node.appendChild(a.node.firstChild);a.remove();delete this.textPath}else if(p(a,\"string\")?(d=b(this),a=u(d.parentNode).path(a),d.appendChild(a.node),d=a.id,a.attr({id:d})):(a=u(a),a instanceof v&&(d=a.attr(\"id\"),d||(d=a.id,a.attr({id:d})))),d)if(a=this.textPath,f=this.node,a)a.attr({\"xlink:href\":\"#\"+d});else{for(a=e(\"textPath\",{\"xlink:href\":\"#\"+d});f.firstChild;)a.appendChild(f.firstChild);f.appendChild(a);this.textPath=u(a)}}})(-1);\n",
       "k.on(\"snap.util.attr.text\",function(a){if(\"text\"==this.type){for(var b=this.node,d=function(a){var b=e(\"tspan\");if(p(a,\"array\"))for(var f=0;f<a.length;f++)b.appendChild(d(a[f]));else b.appendChild(M.doc.createTextNode(a));b.normalize&&b.normalize();return b};b.firstChild;)b.removeChild(b.firstChild);for(a=d(a);a.firstChild;)b.appendChild(a.firstChild)}k.stop()})(-1);k.on(\"snap.util.attr.fontSize\",z)(-1);k.on(\"snap.util.attr.font-size\",z)(-1);k.on(\"snap.util.getattr.transform\",function(){k.stop();\n",
       "return this.transform()})(-1);k.on(\"snap.util.getattr.textpath\",function(){k.stop();return this.textPath})(-1);(function(){function b(d){return function(){k.stop();var b=M.doc.defaultView.getComputedStyle(this.node,null).getPropertyValue(\"marker-\"+d);return\"none\"==b?b:a(M.doc.getElementById(b.match(q)[1]))}}function d(a){return function(b){k.stop();var d=\"marker\"+a.charAt(0).toUpperCase()+a.substring(1);if(\"\"==b||!b)this.node.style[d]=\"none\";else if(\"marker\"==b.type){var f=b.node.id;f||e(b.node,{id:b.id});\n",
       "this.node.style[d]=l(f)}}}k.on(\"snap.util.getattr.marker-end\",b(\"end\"))(-1);k.on(\"snap.util.getattr.markerEnd\",b(\"end\"))(-1);k.on(\"snap.util.getattr.marker-start\",b(\"start\"))(-1);k.on(\"snap.util.getattr.markerStart\",b(\"start\"))(-1);k.on(\"snap.util.getattr.marker-mid\",b(\"mid\"))(-1);k.on(\"snap.util.getattr.markerMid\",b(\"mid\"))(-1);k.on(\"snap.util.attr.marker-end\",d(\"end\"))(-1);k.on(\"snap.util.attr.markerEnd\",d(\"end\"))(-1);k.on(\"snap.util.attr.marker-start\",d(\"start\"))(-1);k.on(\"snap.util.attr.markerStart\",\n",
       "d(\"start\"))(-1);k.on(\"snap.util.attr.marker-mid\",d(\"mid\"))(-1);k.on(\"snap.util.attr.markerMid\",d(\"mid\"))(-1)})();k.on(\"snap.util.getattr.r\",function(){if(\"rect\"==this.type&&e(this.node,\"rx\")==e(this.node,\"ry\"))return k.stop(),e(this.node,\"rx\")})(-1);k.on(\"snap.util.getattr.text\",function(){if(\"text\"==this.type||\"tspan\"==this.type){k.stop();var a=d(this.node);return 1==a.length?a[0]:a}})(-1);k.on(\"snap.util.getattr.#text\",function(){return this.node.textContent})(-1);k.on(\"snap.util.getattr.viewBox\",\n",
       "function(){k.stop();var b=e(this.node,\"viewBox\");if(b)return b=b.split(s),a._.box(+b[0],+b[1],+b[2],+b[3])})(-1);k.on(\"snap.util.getattr.points\",function(){var a=e(this.node,\"points\");k.stop();if(a)return a.split(s)})(-1);k.on(\"snap.util.getattr.path\",function(){var a=e(this.node,\"d\");k.stop();return a})(-1);k.on(\"snap.util.getattr.class\",function(){return this.node.className.baseVal})(-1);k.on(\"snap.util.getattr.fontSize\",f)(-1);k.on(\"snap.util.getattr.font-size\",f)(-1)});C.plugin(function(a,v,y,\n",
       "M,A){function w(a){return a}function z(a){return function(b){return+b.toFixed(3)+a}}var d={\"+\":function(a,b){return a+b},\"-\":function(a,b){return a-b},\"/\":function(a,b){return a/b},\"*\":function(a,b){return a*b}},f=String,n=/[a-z]+$/i,u=/^\\s*([+\\-\\/*])\\s*=\\s*([\\d.eE+\\-]+)\\s*([^\\d\\s]+)?\\s*$/;k.on(\"snap.util.attr\",function(a){if(a=f(a).match(u)){var b=k.nt(),b=b.substring(b.lastIndexOf(\".\")+1),q=this.attr(b),e={};k.stop();var l=a[3]||\"\",r=q.match(n),s=d[a[1] ];r&&r==l?a=s(parseFloat(q),+a[2]):(q=this.asPX(b),\n",
       "a=s(this.asPX(b),this.asPX(b,a[2]+l)));isNaN(q)||isNaN(a)||(e[b]=a,this.attr(e))}})(-10);k.on(\"snap.util.equal\",function(a,b){var q=f(this.attr(a)||\"\"),e=f(b).match(u);if(e){k.stop();var l=e[3]||\"\",r=q.match(n),s=d[e[1] ];if(r&&r==l)return{from:parseFloat(q),to:s(parseFloat(q),+e[2]),f:z(r)};q=this.asPX(a);return{from:q,to:s(q,this.asPX(a,e[2]+l)),f:w}}})(-10)});C.plugin(function(a,v,y,M,A){var w=y.prototype,z=a.is;w.rect=function(a,d,k,p,b,q){var e;null==q&&(q=b);z(a,\"object\")&&\"[object Object]\"==\n",
       "a?e=a:null!=a&&(e={x:a,y:d,width:k,height:p},null!=b&&(e.rx=b,e.ry=q));return this.el(\"rect\",e)};w.circle=function(a,d,k){var p;z(a,\"object\")&&\"[object Object]\"==a?p=a:null!=a&&(p={cx:a,cy:d,r:k});return this.el(\"circle\",p)};var d=function(){function a(){this.parentNode.removeChild(this)}return function(d,k){var p=M.doc.createElement(\"img\"),b=M.doc.body;p.style.cssText=\"position:absolute;left:-9999em;top:-9999em\";p.onload=function(){k.call(p);p.onload=p.onerror=null;b.removeChild(p)};p.onerror=a;\n",
       "b.appendChild(p);p.src=d}}();w.image=function(f,n,k,p,b){var q=this.el(\"image\");if(z(f,\"object\")&&\"src\"in f)q.attr(f);else if(null!=f){var e={\"xlink:href\":f,preserveAspectRatio:\"none\"};null!=n&&null!=k&&(e.x=n,e.y=k);null!=p&&null!=b?(e.width=p,e.height=b):d(f,function(){a._.$(q.node,{width:this.offsetWidth,height:this.offsetHeight})});a._.$(q.node,e)}return q};w.ellipse=function(a,d,k,p){var b;z(a,\"object\")&&\"[object Object]\"==a?b=a:null!=a&&(b={cx:a,cy:d,rx:k,ry:p});return this.el(\"ellipse\",b)};\n",
       "w.path=function(a){var d;z(a,\"object\")&&!z(a,\"array\")?d=a:a&&(d={d:a});return this.el(\"path\",d)};w.group=w.g=function(a){var d=this.el(\"g\");1==arguments.length&&a&&!a.type?d.attr(a):arguments.length&&d.add(Array.prototype.slice.call(arguments,0));return d};w.svg=function(a,d,k,p,b,q,e,l){var r={};z(a,\"object\")&&null==d?r=a:(null!=a&&(r.x=a),null!=d&&(r.y=d),null!=k&&(r.width=k),null!=p&&(r.height=p),null!=b&&null!=q&&null!=e&&null!=l&&(r.viewBox=[b,q,e,l]));return this.el(\"svg\",r)};w.mask=function(a){var d=\n",
       "this.el(\"mask\");1==arguments.length&&a&&!a.type?d.attr(a):arguments.length&&d.add(Array.prototype.slice.call(arguments,0));return d};w.ptrn=function(a,d,k,p,b,q,e,l){if(z(a,\"object\"))var r=a;else arguments.length?(r={},null!=a&&(r.x=a),null!=d&&(r.y=d),null!=k&&(r.width=k),null!=p&&(r.height=p),null!=b&&null!=q&&null!=e&&null!=l&&(r.viewBox=[b,q,e,l])):r={patternUnits:\"userSpaceOnUse\"};return this.el(\"pattern\",r)};w.use=function(a){return null!=a?(make(\"use\",this.node),a instanceof v&&(a.attr(\"id\")||\n",
       "a.attr({id:ID()}),a=a.attr(\"id\")),this.el(\"use\",{\"xlink:href\":a})):v.prototype.use.call(this)};w.text=function(a,d,k){var p={};z(a,\"object\")?p=a:null!=a&&(p={x:a,y:d,text:k||\"\"});return this.el(\"text\",p)};w.line=function(a,d,k,p){var b={};z(a,\"object\")?b=a:null!=a&&(b={x1:a,x2:k,y1:d,y2:p});return this.el(\"line\",b)};w.polyline=function(a){1<arguments.length&&(a=Array.prototype.slice.call(arguments,0));var d={};z(a,\"object\")&&!z(a,\"array\")?d=a:null!=a&&(d={points:a});return this.el(\"polyline\",d)};\n",
       "w.polygon=function(a){1<arguments.length&&(a=Array.prototype.slice.call(arguments,0));var d={};z(a,\"object\")&&!z(a,\"array\")?d=a:null!=a&&(d={points:a});return this.el(\"polygon\",d)};(function(){function d(){return this.selectAll(\"stop\")}function n(b,d){var f=e(\"stop\"),k={offset:+d+\"%\"};b=a.color(b);k[\"stop-color\"]=b.hex;1>b.opacity&&(k[\"stop-opacity\"]=b.opacity);e(f,k);this.node.appendChild(f);return this}function u(){if(\"linearGradient\"==this.type){var b=e(this.node,\"x1\")||0,d=e(this.node,\"x2\")||\n",
       "1,f=e(this.node,\"y1\")||0,k=e(this.node,\"y2\")||0;return a._.box(b,f,math.abs(d-b),math.abs(k-f))}b=this.node.r||0;return a._.box((this.node.cx||0.5)-b,(this.node.cy||0.5)-b,2*b,2*b)}function p(a,d){function f(a,b){for(var d=(b-u)/(a-w),e=w;e<a;e++)h[e].offset=+(+u+d*(e-w)).toFixed(2);w=a;u=b}var n=k(\"snap.util.grad.parse\",null,d).firstDefined(),p;if(!n)return null;n.params.unshift(a);p=\"l\"==n.type.toLowerCase()?b.apply(0,n.params):q.apply(0,n.params);n.type!=n.type.toLowerCase()&&e(p.node,{gradientUnits:\"userSpaceOnUse\"});\n",
       "var h=n.stops,n=h.length,u=0,w=0;n--;for(var v=0;v<n;v++)\"offset\"in h[v]&&f(v,h[v].offset);h[n].offset=h[n].offset||100;f(n,h[n].offset);for(v=0;v<=n;v++){var y=h[v];p.addStop(y.color,y.offset)}return p}function b(b,k,p,q,w){b=a._.make(\"linearGradient\",b);b.stops=d;b.addStop=n;b.getBBox=u;null!=k&&e(b.node,{x1:k,y1:p,x2:q,y2:w});return b}function q(b,k,p,q,w,h){b=a._.make(\"radialGradient\",b);b.stops=d;b.addStop=n;b.getBBox=u;null!=k&&e(b.node,{cx:k,cy:p,r:q});null!=w&&null!=h&&e(b.node,{fx:w,fy:h});\n",
       "return b}var e=a._.$;w.gradient=function(a){return p(this.defs,a)};w.gradientLinear=function(a,d,e,f){return b(this.defs,a,d,e,f)};w.gradientRadial=function(a,b,d,e,f){return q(this.defs,a,b,d,e,f)};w.toString=function(){var b=this.node.ownerDocument,d=b.createDocumentFragment(),b=b.createElement(\"div\"),e=this.node.cloneNode(!0);d.appendChild(b);b.appendChild(e);a._.$(e,{xmlns:\"http://www.w3.org/2000/svg\"});b=b.innerHTML;d.removeChild(d.firstChild);return b};w.clear=function(){for(var a=this.node.firstChild,\n",
       "b;a;)b=a.nextSibling,\"defs\"!=a.tagName?a.parentNode.removeChild(a):w.clear.call({node:a}),a=b}})()});C.plugin(function(a,k,y,M){function A(a){var b=A.ps=A.ps||{};b[a]?b[a].sleep=100:b[a]={sleep:100};setTimeout(function(){for(var d in b)b[L](d)&&d!=a&&(b[d].sleep--,!b[d].sleep&&delete b[d])});return b[a]}function w(a,b,d,e){null==a&&(a=b=d=e=0);null==b&&(b=a.y,d=a.width,e=a.height,a=a.x);return{x:a,y:b,width:d,w:d,height:e,h:e,x2:a+d,y2:b+e,cx:a+d/2,cy:b+e/2,r1:F.min(d,e)/2,r2:F.max(d,e)/2,r0:F.sqrt(d*\n",
       "d+e*e)/2,path:s(a,b,d,e),vb:[a,b,d,e].join(\" \")}}function z(){return this.join(\",\").replace(N,\"$1\")}function d(a){a=C(a);a.toString=z;return a}function f(a,b,d,h,f,k,l,n,p){if(null==p)return e(a,b,d,h,f,k,l,n);if(0>p||e(a,b,d,h,f,k,l,n)<p)p=void 0;else{var q=0.5,O=1-q,s;for(s=e(a,b,d,h,f,k,l,n,O);0.01<Z(s-p);)q/=2,O+=(s<p?1:-1)*q,s=e(a,b,d,h,f,k,l,n,O);p=O}return u(a,b,d,h,f,k,l,n,p)}function n(b,d){function e(a){return+(+a).toFixed(3)}return a._.cacher(function(a,h,l){a instanceof k&&(a=a.attr(\"d\"));\n",
       "a=I(a);for(var n,p,D,q,O=\"\",s={},c=0,t=0,r=a.length;t<r;t++){D=a[t];if(\"M\"==D[0])n=+D[1],p=+D[2];else{q=f(n,p,D[1],D[2],D[3],D[4],D[5],D[6]);if(c+q>h){if(d&&!s.start){n=f(n,p,D[1],D[2],D[3],D[4],D[5],D[6],h-c);O+=[\"C\"+e(n.start.x),e(n.start.y),e(n.m.x),e(n.m.y),e(n.x),e(n.y)];if(l)return O;s.start=O;O=[\"M\"+e(n.x),e(n.y)+\"C\"+e(n.n.x),e(n.n.y),e(n.end.x),e(n.end.y),e(D[5]),e(D[6])].join();c+=q;n=+D[5];p=+D[6];continue}if(!b&&!d)return n=f(n,p,D[1],D[2],D[3],D[4],D[5],D[6],h-c)}c+=q;n=+D[5];p=+D[6]}O+=\n",
       "D.shift()+D}s.end=O;return n=b?c:d?s:u(n,p,D[0],D[1],D[2],D[3],D[4],D[5],1)},null,a._.clone)}function u(a,b,d,e,h,f,k,l,n){var p=1-n,q=ma(p,3),s=ma(p,2),c=n*n,t=c*n,r=q*a+3*s*n*d+3*p*n*n*h+t*k,q=q*b+3*s*n*e+3*p*n*n*f+t*l,s=a+2*n*(d-a)+c*(h-2*d+a),t=b+2*n*(e-b)+c*(f-2*e+b),x=d+2*n*(h-d)+c*(k-2*h+d),c=e+2*n*(f-e)+c*(l-2*f+e);a=p*a+n*d;b=p*b+n*e;h=p*h+n*k;f=p*f+n*l;l=90-180*F.atan2(s-x,t-c)/S;return{x:r,y:q,m:{x:s,y:t},n:{x:x,y:c},start:{x:a,y:b},end:{x:h,y:f},alpha:l}}function p(b,d,e,h,f,n,k,l){a.is(b,\n",
       "\"array\")||(b=[b,d,e,h,f,n,k,l]);b=U.apply(null,b);return w(b.min.x,b.min.y,b.max.x-b.min.x,b.max.y-b.min.y)}function b(a,b,d){return b>=a.x&&b<=a.x+a.width&&d>=a.y&&d<=a.y+a.height}function q(a,d){a=w(a);d=w(d);return b(d,a.x,a.y)||b(d,a.x2,a.y)||b(d,a.x,a.y2)||b(d,a.x2,a.y2)||b(a,d.x,d.y)||b(a,d.x2,d.y)||b(a,d.x,d.y2)||b(a,d.x2,d.y2)||(a.x<d.x2&&a.x>d.x||d.x<a.x2&&d.x>a.x)&&(a.y<d.y2&&a.y>d.y||d.y<a.y2&&d.y>a.y)}function e(a,b,d,e,h,f,n,k,l){null==l&&(l=1);l=(1<l?1:0>l?0:l)/2;for(var p=[-0.1252,\n",
       "0.1252,-0.3678,0.3678,-0.5873,0.5873,-0.7699,0.7699,-0.9041,0.9041,-0.9816,0.9816],q=[0.2491,0.2491,0.2335,0.2335,0.2032,0.2032,0.1601,0.1601,0.1069,0.1069,0.0472,0.0472],s=0,c=0;12>c;c++)var t=l*p[c]+l,r=t*(t*(-3*a+9*d-9*h+3*n)+6*a-12*d+6*h)-3*a+3*d,t=t*(t*(-3*b+9*e-9*f+3*k)+6*b-12*e+6*f)-3*b+3*e,s=s+q[c]*F.sqrt(r*r+t*t);return l*s}function l(a,b,d){a=I(a);b=I(b);for(var h,f,l,n,k,s,r,O,x,c,t=d?0:[],w=0,v=a.length;w<v;w++)if(x=a[w],\"M\"==x[0])h=k=x[1],f=s=x[2];else{\"C\"==x[0]?(x=[h,f].concat(x.slice(1)),\n",
       "h=x[6],f=x[7]):(x=[h,f,h,f,k,s,k,s],h=k,f=s);for(var G=0,y=b.length;G<y;G++)if(c=b[G],\"M\"==c[0])l=r=c[1],n=O=c[2];else{\"C\"==c[0]?(c=[l,n].concat(c.slice(1)),l=c[6],n=c[7]):(c=[l,n,l,n,r,O,r,O],l=r,n=O);var z;var K=x,B=c;z=d;var H=p(K),J=p(B);if(q(H,J)){for(var H=e.apply(0,K),J=e.apply(0,B),H=~~(H/8),J=~~(J/8),U=[],A=[],F={},M=z?0:[],P=0;P<H+1;P++){var C=u.apply(0,K.concat(P/H));U.push({x:C.x,y:C.y,t:P/H})}for(P=0;P<J+1;P++)C=u.apply(0,B.concat(P/J)),A.push({x:C.x,y:C.y,t:P/J});for(P=0;P<H;P++)for(K=\n",
       "0;K<J;K++){var Q=U[P],L=U[P+1],B=A[K],C=A[K+1],N=0.001>Z(L.x-Q.x)?\"y\":\"x\",S=0.001>Z(C.x-B.x)?\"y\":\"x\",R;R=Q.x;var Y=Q.y,V=L.x,ea=L.y,fa=B.x,ga=B.y,ha=C.x,ia=C.y;if(W(R,V)<X(fa,ha)||X(R,V)>W(fa,ha)||W(Y,ea)<X(ga,ia)||X(Y,ea)>W(ga,ia))R=void 0;else{var $=(R*ea-Y*V)*(fa-ha)-(R-V)*(fa*ia-ga*ha),aa=(R*ea-Y*V)*(ga-ia)-(Y-ea)*(fa*ia-ga*ha),ja=(R-V)*(ga-ia)-(Y-ea)*(fa-ha);if(ja){var $=$/ja,aa=aa/ja,ja=+$.toFixed(2),ba=+aa.toFixed(2);R=ja<+X(R,V).toFixed(2)||ja>+W(R,V).toFixed(2)||ja<+X(fa,ha).toFixed(2)||\n",
       "ja>+W(fa,ha).toFixed(2)||ba<+X(Y,ea).toFixed(2)||ba>+W(Y,ea).toFixed(2)||ba<+X(ga,ia).toFixed(2)||ba>+W(ga,ia).toFixed(2)?void 0:{x:$,y:aa}}else R=void 0}R&&F[R.x.toFixed(4)]!=R.y.toFixed(4)&&(F[R.x.toFixed(4)]=R.y.toFixed(4),Q=Q.t+Z((R[N]-Q[N])/(L[N]-Q[N]))*(L.t-Q.t),B=B.t+Z((R[S]-B[S])/(C[S]-B[S]))*(C.t-B.t),0<=Q&&1>=Q&&0<=B&&1>=B&&(z?M++:M.push({x:R.x,y:R.y,t1:Q,t2:B})))}z=M}else z=z?0:[];if(d)t+=z;else{H=0;for(J=z.length;H<J;H++)z[H].segment1=w,z[H].segment2=G,z[H].bez1=x,z[H].bez2=c;t=t.concat(z)}}}return t}\n",
       "function r(a){var b=A(a);if(b.bbox)return C(b.bbox);if(!a)return w();a=I(a);for(var d=0,e=0,h=[],f=[],l,n=0,k=a.length;n<k;n++)l=a[n],\"M\"==l[0]?(d=l[1],e=l[2],h.push(d),f.push(e)):(d=U(d,e,l[1],l[2],l[3],l[4],l[5],l[6]),h=h.concat(d.min.x,d.max.x),f=f.concat(d.min.y,d.max.y),d=l[5],e=l[6]);a=X.apply(0,h);l=X.apply(0,f);h=W.apply(0,h);f=W.apply(0,f);f=w(a,l,h-a,f-l);b.bbox=C(f);return f}function s(a,b,d,e,h){if(h)return[[\"M\",+a+ +h,b],[\"l\",d-2*h,0],[\"a\",h,h,0,0,1,h,h],[\"l\",0,e-2*h],[\"a\",h,h,0,0,1,\n",
       "-h,h],[\"l\",2*h-d,0],[\"a\",h,h,0,0,1,-h,-h],[\"l\",0,2*h-e],[\"a\",h,h,0,0,1,h,-h],[\"z\"] ];a=[[\"M\",a,b],[\"l\",d,0],[\"l\",0,e],[\"l\",-d,0],[\"z\"] ];a.toString=z;return a}function x(a,b,d,e,h){null==h&&null==e&&(e=d);a=+a;b=+b;d=+d;e=+e;if(null!=h){var f=Math.PI/180,l=a+d*Math.cos(-e*f);a+=d*Math.cos(-h*f);var n=b+d*Math.sin(-e*f);b+=d*Math.sin(-h*f);d=[[\"M\",l,n],[\"A\",d,d,0,+(180<h-e),0,a,b] ]}else d=[[\"M\",a,b],[\"m\",0,-e],[\"a\",d,e,0,1,1,0,2*e],[\"a\",d,e,0,1,1,0,-2*e],[\"z\"] ];d.toString=z;return d}function G(b){var e=\n",
       "A(b);if(e.abs)return d(e.abs);Q(b,\"array\")&&Q(b&&b[0],\"array\")||(b=a.parsePathString(b));if(!b||!b.length)return[[\"M\",0,0] ];var h=[],f=0,l=0,n=0,k=0,p=0;\"M\"==b[0][0]&&(f=+b[0][1],l=+b[0][2],n=f,k=l,p++,h[0]=[\"M\",f,l]);for(var q=3==b.length&&\"M\"==b[0][0]&&\"R\"==b[1][0].toUpperCase()&&\"Z\"==b[2][0].toUpperCase(),s,r,w=p,c=b.length;w<c;w++){h.push(s=[]);r=b[w];p=r[0];if(p!=p.toUpperCase())switch(s[0]=p.toUpperCase(),s[0]){case \"A\":s[1]=r[1];s[2]=r[2];s[3]=r[3];s[4]=r[4];s[5]=r[5];s[6]=+r[6]+f;s[7]=+r[7]+\n",
       "l;break;case \"V\":s[1]=+r[1]+l;break;case \"H\":s[1]=+r[1]+f;break;case \"R\":for(var t=[f,l].concat(r.slice(1)),u=2,v=t.length;u<v;u++)t[u]=+t[u]+f,t[++u]=+t[u]+l;h.pop();h=h.concat(P(t,q));break;case \"O\":h.pop();t=x(f,l,r[1],r[2]);t.push(t[0]);h=h.concat(t);break;case \"U\":h.pop();h=h.concat(x(f,l,r[1],r[2],r[3]));s=[\"U\"].concat(h[h.length-1].slice(-2));break;case \"M\":n=+r[1]+f,k=+r[2]+l;default:for(u=1,v=r.length;u<v;u++)s[u]=+r[u]+(u%2?f:l)}else if(\"R\"==p)t=[f,l].concat(r.slice(1)),h.pop(),h=h.concat(P(t,\n",
       "q)),s=[\"R\"].concat(r.slice(-2));else if(\"O\"==p)h.pop(),t=x(f,l,r[1],r[2]),t.push(t[0]),h=h.concat(t);else if(\"U\"==p)h.pop(),h=h.concat(x(f,l,r[1],r[2],r[3])),s=[\"U\"].concat(h[h.length-1].slice(-2));else for(t=0,u=r.length;t<u;t++)s[t]=r[t];p=p.toUpperCase();if(\"O\"!=p)switch(s[0]){case \"Z\":f=+n;l=+k;break;case \"H\":f=s[1];break;case \"V\":l=s[1];break;case \"M\":n=s[s.length-2],k=s[s.length-1];default:f=s[s.length-2],l=s[s.length-1]}}h.toString=z;e.abs=d(h);return h}function h(a,b,d,e){return[a,b,d,e,d,\n",
       "e]}function J(a,b,d,e,h,f){var l=1/3,n=2/3;return[l*a+n*d,l*b+n*e,l*h+n*d,l*f+n*e,h,f]}function K(b,d,e,h,f,l,n,k,p,s){var r=120*S/180,q=S/180*(+f||0),c=[],t,x=a._.cacher(function(a,b,c){var d=a*F.cos(c)-b*F.sin(c);a=a*F.sin(c)+b*F.cos(c);return{x:d,y:a}});if(s)v=s[0],t=s[1],l=s[2],u=s[3];else{t=x(b,d,-q);b=t.x;d=t.y;t=x(k,p,-q);k=t.x;p=t.y;F.cos(S/180*f);F.sin(S/180*f);t=(b-k)/2;v=(d-p)/2;u=t*t/(e*e)+v*v/(h*h);1<u&&(u=F.sqrt(u),e*=u,h*=u);var u=e*e,w=h*h,u=(l==n?-1:1)*F.sqrt(Z((u*w-u*v*v-w*t*t)/\n",
       "(u*v*v+w*t*t)));l=u*e*v/h+(b+k)/2;var u=u*-h*t/e+(d+p)/2,v=F.asin(((d-u)/h).toFixed(9));t=F.asin(((p-u)/h).toFixed(9));v=b<l?S-v:v;t=k<l?S-t:t;0>v&&(v=2*S+v);0>t&&(t=2*S+t);n&&v>t&&(v-=2*S);!n&&t>v&&(t-=2*S)}if(Z(t-v)>r){var c=t,w=k,G=p;t=v+r*(n&&t>v?1:-1);k=l+e*F.cos(t);p=u+h*F.sin(t);c=K(k,p,e,h,f,0,n,w,G,[t,c,l,u])}l=t-v;f=F.cos(v);r=F.sin(v);n=F.cos(t);t=F.sin(t);l=F.tan(l/4);e=4/3*e*l;l*=4/3*h;h=[b,d];b=[b+e*r,d-l*f];d=[k+e*t,p-l*n];k=[k,p];b[0]=2*h[0]-b[0];b[1]=2*h[1]-b[1];if(s)return[b,d,k].concat(c);\n",
       "c=[b,d,k].concat(c).join().split(\",\");s=[];k=0;for(p=c.length;k<p;k++)s[k]=k%2?x(c[k-1],c[k],q).y:x(c[k],c[k+1],q).x;return s}function U(a,b,d,e,h,f,l,k){for(var n=[],p=[[],[] ],s,r,c,t,q=0;2>q;++q)0==q?(r=6*a-12*d+6*h,s=-3*a+9*d-9*h+3*l,c=3*d-3*a):(r=6*b-12*e+6*f,s=-3*b+9*e-9*f+3*k,c=3*e-3*b),1E-12>Z(s)?1E-12>Z(r)||(s=-c/r,0<s&&1>s&&n.push(s)):(t=r*r-4*c*s,c=F.sqrt(t),0>t||(t=(-r+c)/(2*s),0<t&&1>t&&n.push(t),s=(-r-c)/(2*s),0<s&&1>s&&n.push(s)));for(r=q=n.length;q--;)s=n[q],c=1-s,p[0][q]=c*c*c*a+3*\n",
       "c*c*s*d+3*c*s*s*h+s*s*s*l,p[1][q]=c*c*c*b+3*c*c*s*e+3*c*s*s*f+s*s*s*k;p[0][r]=a;p[1][r]=b;p[0][r+1]=l;p[1][r+1]=k;p[0].length=p[1].length=r+2;return{min:{x:X.apply(0,p[0]),y:X.apply(0,p[1])},max:{x:W.apply(0,p[0]),y:W.apply(0,p[1])}}}function I(a,b){var e=!b&&A(a);if(!b&&e.curve)return d(e.curve);var f=G(a),l=b&&G(b),n={x:0,y:0,bx:0,by:0,X:0,Y:0,qx:null,qy:null},k={x:0,y:0,bx:0,by:0,X:0,Y:0,qx:null,qy:null},p=function(a,b,c){if(!a)return[\"C\",b.x,b.y,b.x,b.y,b.x,b.y];a[0]in{T:1,Q:1}||(b.qx=b.qy=null);\n",
       "switch(a[0]){case \"M\":b.X=a[1];b.Y=a[2];break;case \"A\":a=[\"C\"].concat(K.apply(0,[b.x,b.y].concat(a.slice(1))));break;case \"S\":\"C\"==c||\"S\"==c?(c=2*b.x-b.bx,b=2*b.y-b.by):(c=b.x,b=b.y);a=[\"C\",c,b].concat(a.slice(1));break;case \"T\":\"Q\"==c||\"T\"==c?(b.qx=2*b.x-b.qx,b.qy=2*b.y-b.qy):(b.qx=b.x,b.qy=b.y);a=[\"C\"].concat(J(b.x,b.y,b.qx,b.qy,a[1],a[2]));break;case \"Q\":b.qx=a[1];b.qy=a[2];a=[\"C\"].concat(J(b.x,b.y,a[1],a[2],a[3],a[4]));break;case \"L\":a=[\"C\"].concat(h(b.x,b.y,a[1],a[2]));break;case \"H\":a=[\"C\"].concat(h(b.x,\n",
       "b.y,a[1],b.y));break;case \"V\":a=[\"C\"].concat(h(b.x,b.y,b.x,a[1]));break;case \"Z\":a=[\"C\"].concat(h(b.x,b.y,b.X,b.Y))}return a},s=function(a,b){if(7<a[b].length){a[b].shift();for(var c=a[b];c.length;)q[b]=\"A\",l&&(u[b]=\"A\"),a.splice(b++,0,[\"C\"].concat(c.splice(0,6)));a.splice(b,1);v=W(f.length,l&&l.length||0)}},r=function(a,b,c,d,e){a&&b&&\"M\"==a[e][0]&&\"M\"!=b[e][0]&&(b.splice(e,0,[\"M\",d.x,d.y]),c.bx=0,c.by=0,c.x=a[e][1],c.y=a[e][2],v=W(f.length,l&&l.length||0))},q=[],u=[],c=\"\",t=\"\",x=0,v=W(f.length,\n",
       "l&&l.length||0);for(;x<v;x++){f[x]&&(c=f[x][0]);\"C\"!=c&&(q[x]=c,x&&(t=q[x-1]));f[x]=p(f[x],n,t);\"A\"!=q[x]&&\"C\"==c&&(q[x]=\"C\");s(f,x);l&&(l[x]&&(c=l[x][0]),\"C\"!=c&&(u[x]=c,x&&(t=u[x-1])),l[x]=p(l[x],k,t),\"A\"!=u[x]&&\"C\"==c&&(u[x]=\"C\"),s(l,x));r(f,l,n,k,x);r(l,f,k,n,x);var w=f[x],z=l&&l[x],y=w.length,U=l&&z.length;n.x=w[y-2];n.y=w[y-1];n.bx=$(w[y-4])||n.x;n.by=$(w[y-3])||n.y;k.bx=l&&($(z[U-4])||k.x);k.by=l&&($(z[U-3])||k.y);k.x=l&&z[U-2];k.y=l&&z[U-1]}l||(e.curve=d(f));return l?[f,l]:f}function P(a,\n",
       "b){for(var d=[],e=0,h=a.length;h-2*!b>e;e+=2){var f=[{x:+a[e-2],y:+a[e-1]},{x:+a[e],y:+a[e+1]},{x:+a[e+2],y:+a[e+3]},{x:+a[e+4],y:+a[e+5]}];b?e?h-4==e?f[3]={x:+a[0],y:+a[1]}:h-2==e&&(f[2]={x:+a[0],y:+a[1]},f[3]={x:+a[2],y:+a[3]}):f[0]={x:+a[h-2],y:+a[h-1]}:h-4==e?f[3]=f[2]:e||(f[0]={x:+a[e],y:+a[e+1]});d.push([\"C\",(-f[0].x+6*f[1].x+f[2].x)/6,(-f[0].y+6*f[1].y+f[2].y)/6,(f[1].x+6*f[2].x-f[3].x)/6,(f[1].y+6*f[2].y-f[3].y)/6,f[2].x,f[2].y])}return d}y=k.prototype;var Q=a.is,C=a._.clone,L=\"hasOwnProperty\",\n",
       "N=/,?([a-z]),?/gi,$=parseFloat,F=Math,S=F.PI,X=F.min,W=F.max,ma=F.pow,Z=F.abs;M=n(1);var na=n(),ba=n(0,1),V=a._unit2px;a.path=A;a.path.getTotalLength=M;a.path.getPointAtLength=na;a.path.getSubpath=function(a,b,d){if(1E-6>this.getTotalLength(a)-d)return ba(a,b).end;a=ba(a,d,1);return b?ba(a,b).end:a};y.getTotalLength=function(){if(this.node.getTotalLength)return this.node.getTotalLength()};y.getPointAtLength=function(a){return na(this.attr(\"d\"),a)};y.getSubpath=function(b,d){return a.path.getSubpath(this.attr(\"d\"),\n",
       "b,d)};a._.box=w;a.path.findDotsAtSegment=u;a.path.bezierBBox=p;a.path.isPointInsideBBox=b;a.path.isBBoxIntersect=q;a.path.intersection=function(a,b){return l(a,b)};a.path.intersectionNumber=function(a,b){return l(a,b,1)};a.path.isPointInside=function(a,d,e){var h=r(a);return b(h,d,e)&&1==l(a,[[\"M\",d,e],[\"H\",h.x2+10] ],1)%2};a.path.getBBox=r;a.path.get={path:function(a){return a.attr(\"path\")},circle:function(a){a=V(a);return x(a.cx,a.cy,a.r)},ellipse:function(a){a=V(a);return x(a.cx||0,a.cy||0,a.rx,\n",
       "a.ry)},rect:function(a){a=V(a);return s(a.x||0,a.y||0,a.width,a.height,a.rx,a.ry)},image:function(a){a=V(a);return s(a.x||0,a.y||0,a.width,a.height)},line:function(a){return\"M\"+[a.attr(\"x1\")||0,a.attr(\"y1\")||0,a.attr(\"x2\"),a.attr(\"y2\")]},polyline:function(a){return\"M\"+a.attr(\"points\")},polygon:function(a){return\"M\"+a.attr(\"points\")+\"z\"},deflt:function(a){a=a.node.getBBox();return s(a.x,a.y,a.width,a.height)}};a.path.toRelative=function(b){var e=A(b),h=String.prototype.toLowerCase;if(e.rel)return d(e.rel);\n",
       "a.is(b,\"array\")&&a.is(b&&b[0],\"array\")||(b=a.parsePathString(b));var f=[],l=0,n=0,k=0,p=0,s=0;\"M\"==b[0][0]&&(l=b[0][1],n=b[0][2],k=l,p=n,s++,f.push([\"M\",l,n]));for(var r=b.length;s<r;s++){var q=f[s]=[],x=b[s];if(x[0]!=h.call(x[0]))switch(q[0]=h.call(x[0]),q[0]){case \"a\":q[1]=x[1];q[2]=x[2];q[3]=x[3];q[4]=x[4];q[5]=x[5];q[6]=+(x[6]-l).toFixed(3);q[7]=+(x[7]-n).toFixed(3);break;case \"v\":q[1]=+(x[1]-n).toFixed(3);break;case \"m\":k=x[1],p=x[2];default:for(var c=1,t=x.length;c<t;c++)q[c]=+(x[c]-(c%2?l:\n",
       "n)).toFixed(3)}else for(f[s]=[],\"m\"==x[0]&&(k=x[1]+l,p=x[2]+n),q=0,c=x.length;q<c;q++)f[s][q]=x[q];x=f[s].length;switch(f[s][0]){case \"z\":l=k;n=p;break;case \"h\":l+=+f[s][x-1];break;case \"v\":n+=+f[s][x-1];break;default:l+=+f[s][x-2],n+=+f[s][x-1]}}f.toString=z;e.rel=d(f);return f};a.path.toAbsolute=G;a.path.toCubic=I;a.path.map=function(a,b){if(!b)return a;var d,e,h,f,l,n,k;a=I(a);h=0;for(l=a.length;h<l;h++)for(k=a[h],f=1,n=k.length;f<n;f+=2)d=b.x(k[f],k[f+1]),e=b.y(k[f],k[f+1]),k[f]=d,k[f+1]=e;return a};\n",
       "a.path.toString=z;a.path.clone=d});C.plugin(function(a,v,y,C){var A=Math.max,w=Math.min,z=function(a){this.items=[];this.bindings={};this.length=0;this.type=\"set\";if(a)for(var f=0,n=a.length;f<n;f++)a[f]&&(this[this.items.length]=this.items[this.items.length]=a[f],this.length++)};v=z.prototype;v.push=function(){for(var a,f,n=0,k=arguments.length;n<k;n++)if(a=arguments[n])f=this.items.length,this[f]=this.items[f]=a,this.length++;return this};v.pop=function(){this.length&&delete this[this.length--];\n",
       "return this.items.pop()};v.forEach=function(a,f){for(var n=0,k=this.items.length;n<k&&!1!==a.call(f,this.items[n],n);n++);return this};v.animate=function(d,f,n,u){\"function\"!=typeof n||n.length||(u=n,n=L.linear);d instanceof a._.Animation&&(u=d.callback,n=d.easing,f=n.dur,d=d.attr);var p=arguments;if(a.is(d,\"array\")&&a.is(p[p.length-1],\"array\"))var b=!0;var q,e=function(){q?this.b=q:q=this.b},l=0,r=u&&function(){l++==this.length&&u.call(this)};return this.forEach(function(a,l){k.once(\"snap.animcreated.\"+\n",
       "a.id,e);b?p[l]&&a.animate.apply(a,p[l]):a.animate(d,f,n,r)})};v.remove=function(){for(;this.length;)this.pop().remove();return this};v.bind=function(a,f,k){var u={};if(\"function\"==typeof f)this.bindings[a]=f;else{var p=k||a;this.bindings[a]=function(a){u[p]=a;f.attr(u)}}return this};v.attr=function(a){var f={},k;for(k in a)if(this.bindings[k])this.bindings[k](a[k]);else f[k]=a[k];a=0;for(k=this.items.length;a<k;a++)this.items[a].attr(f);return this};v.clear=function(){for(;this.length;)this.pop()};\n",
       "v.splice=function(a,f,k){a=0>a?A(this.length+a,0):a;f=A(0,w(this.length-a,f));var u=[],p=[],b=[],q;for(q=2;q<arguments.length;q++)b.push(arguments[q]);for(q=0;q<f;q++)p.push(this[a+q]);for(;q<this.length-a;q++)u.push(this[a+q]);var e=b.length;for(q=0;q<e+u.length;q++)this.items[a+q]=this[a+q]=q<e?b[q]:u[q-e];for(q=this.items.length=this.length-=f-e;this[q];)delete this[q++];return new z(p)};v.exclude=function(a){for(var f=0,k=this.length;f<k;f++)if(this[f]==a)return this.splice(f,1),!0;return!1};\n",
       "v.insertAfter=function(a){for(var f=this.items.length;f--;)this.items[f].insertAfter(a);return this};v.getBBox=function(){for(var a=[],f=[],k=[],u=[],p=this.items.length;p--;)if(!this.items[p].removed){var b=this.items[p].getBBox();a.push(b.x);f.push(b.y);k.push(b.x+b.width);u.push(b.y+b.height)}a=w.apply(0,a);f=w.apply(0,f);k=A.apply(0,k);u=A.apply(0,u);return{x:a,y:f,x2:k,y2:u,width:k-a,height:u-f,cx:a+(k-a)/2,cy:f+(u-f)/2}};v.clone=function(a){a=new z;for(var f=0,k=this.items.length;f<k;f++)a.push(this.items[f].clone());\n",
       "return a};v.toString=function(){return\"Snap\\u2018s set\"};v.type=\"set\";a.set=function(){var a=new z;arguments.length&&a.push.apply(a,Array.prototype.slice.call(arguments,0));return a}});C.plugin(function(a,v,y,C){function A(a){var b=a[0];switch(b.toLowerCase()){case \"t\":return[b,0,0];case \"m\":return[b,1,0,0,1,0,0];case \"r\":return 4==a.length?[b,0,a[2],a[3] ]:[b,0];case \"s\":return 5==a.length?[b,1,1,a[3],a[4] ]:3==a.length?[b,1,1]:[b,1]}}function w(b,d,f){d=q(d).replace(/\\.{3}|\\u2026/g,b);b=a.parseTransformString(b)||\n",
       "[];d=a.parseTransformString(d)||[];for(var k=Math.max(b.length,d.length),p=[],v=[],h=0,w,z,y,I;h<k;h++){y=b[h]||A(d[h]);I=d[h]||A(y);if(y[0]!=I[0]||\"r\"==y[0].toLowerCase()&&(y[2]!=I[2]||y[3]!=I[3])||\"s\"==y[0].toLowerCase()&&(y[3]!=I[3]||y[4]!=I[4])){b=a._.transform2matrix(b,f());d=a._.transform2matrix(d,f());p=[[\"m\",b.a,b.b,b.c,b.d,b.e,b.f] ];v=[[\"m\",d.a,d.b,d.c,d.d,d.e,d.f] ];break}p[h]=[];v[h]=[];w=0;for(z=Math.max(y.length,I.length);w<z;w++)w in y&&(p[h][w]=y[w]),w in I&&(v[h][w]=I[w])}return{from:u(p),\n",
       "to:u(v),f:n(p)}}function z(a){return a}function d(a){return function(b){return+b.toFixed(3)+a}}function f(b){return a.rgb(b[0],b[1],b[2])}function n(a){var b=0,d,f,k,n,h,p,q=[];d=0;for(f=a.length;d<f;d++){h=\"[\";p=['\"'+a[d][0]+'\"'];k=1;for(n=a[d].length;k<n;k++)p[k]=\"val[\"+b++ +\"]\";h+=p+\"]\";q[d]=h}return Function(\"val\",\"return Snap.path.toString.call([\"+q+\"])\")}function u(a){for(var b=[],d=0,f=a.length;d<f;d++)for(var k=1,n=a[d].length;k<n;k++)b.push(a[d][k]);return b}var p={},b=/[a-z]+$/i,q=String;\n",
       "p.stroke=p.fill=\"colour\";v.prototype.equal=function(a,b){return k(\"snap.util.equal\",this,a,b).firstDefined()};k.on(\"snap.util.equal\",function(e,k){var r,s;r=q(this.attr(e)||\"\");var x=this;if(r==+r&&k==+k)return{from:+r,to:+k,f:z};if(\"colour\"==p[e])return r=a.color(r),s=a.color(k),{from:[r.r,r.g,r.b,r.opacity],to:[s.r,s.g,s.b,s.opacity],f:f};if(\"transform\"==e||\"gradientTransform\"==e||\"patternTransform\"==e)return k instanceof a.Matrix&&(k=k.toTransformString()),a._.rgTransform.test(k)||(k=a._.svgTransform2string(k)),\n",
       "w(r,k,function(){return x.getBBox(1)});if(\"d\"==e||\"path\"==e)return r=a.path.toCubic(r,k),{from:u(r[0]),to:u(r[1]),f:n(r[0])};if(\"points\"==e)return r=q(r).split(a._.separator),s=q(k).split(a._.separator),{from:r,to:s,f:function(a){return a}};aUnit=r.match(b);s=q(k).match(b);return aUnit&&aUnit==s?{from:parseFloat(r),to:parseFloat(k),f:d(aUnit)}:{from:this.asPX(e),to:this.asPX(e,k),f:z}})});C.plugin(function(a,v,y,C){var A=v.prototype,w=\"createTouch\"in C.doc;v=\"click dblclick mousedown mousemove mouseout mouseover mouseup touchstart touchmove touchend touchcancel\".split(\" \");\n",
       "var z={mousedown:\"touchstart\",mousemove:\"touchmove\",mouseup:\"touchend\"},d=function(a,b){var d=\"y\"==a?\"scrollTop\":\"scrollLeft\",e=b&&b.node?b.node.ownerDocument:C.doc;return e[d in e.documentElement?\"documentElement\":\"body\"][d]},f=function(){this.returnValue=!1},n=function(){return this.originalEvent.preventDefault()},u=function(){this.cancelBubble=!0},p=function(){return this.originalEvent.stopPropagation()},b=function(){if(C.doc.addEventListener)return function(a,b,e,f){var k=w&&z[b]?z[b]:b,l=function(k){var l=\n",
       "d(\"y\",f),q=d(\"x\",f);if(w&&z.hasOwnProperty(b))for(var r=0,u=k.targetTouches&&k.targetTouches.length;r<u;r++)if(k.targetTouches[r].target==a||a.contains(k.targetTouches[r].target)){u=k;k=k.targetTouches[r];k.originalEvent=u;k.preventDefault=n;k.stopPropagation=p;break}return e.call(f,k,k.clientX+q,k.clientY+l)};b!==k&&a.addEventListener(b,l,!1);a.addEventListener(k,l,!1);return function(){b!==k&&a.removeEventListener(b,l,!1);a.removeEventListener(k,l,!1);return!0}};if(C.doc.attachEvent)return function(a,\n",
       "b,e,h){var k=function(a){a=a||h.node.ownerDocument.window.event;var b=d(\"y\",h),k=d(\"x\",h),k=a.clientX+k,b=a.clientY+b;a.preventDefault=a.preventDefault||f;a.stopPropagation=a.stopPropagation||u;return e.call(h,a,k,b)};a.attachEvent(\"on\"+b,k);return function(){a.detachEvent(\"on\"+b,k);return!0}}}(),q=[],e=function(a){for(var b=a.clientX,e=a.clientY,f=d(\"y\"),l=d(\"x\"),n,p=q.length;p--;){n=q[p];if(w)for(var r=a.touches&&a.touches.length,u;r--;){if(u=a.touches[r],u.identifier==n.el._drag.id||n.el.node.contains(u.target)){b=\n",
       "u.clientX;e=u.clientY;(a.originalEvent?a.originalEvent:a).preventDefault();break}}else a.preventDefault();b+=l;e+=f;k(\"snap.drag.move.\"+n.el.id,n.move_scope||n.el,b-n.el._drag.x,e-n.el._drag.y,b,e,a)}},l=function(b){a.unmousemove(e).unmouseup(l);for(var d=q.length,f;d--;)f=q[d],f.el._drag={},k(\"snap.drag.end.\"+f.el.id,f.end_scope||f.start_scope||f.move_scope||f.el,b);q=[]};for(y=v.length;y--;)(function(d){a[d]=A[d]=function(e,f){a.is(e,\"function\")&&(this.events=this.events||[],this.events.push({name:d,\n",
       "f:e,unbind:b(this.node||document,d,e,f||this)}));return this};a[\"un\"+d]=A[\"un\"+d]=function(a){for(var b=this.events||[],e=b.length;e--;)if(b[e].name==d&&(b[e].f==a||!a)){b[e].unbind();b.splice(e,1);!b.length&&delete this.events;break}return this}})(v[y]);A.hover=function(a,b,d,e){return this.mouseover(a,d).mouseout(b,e||d)};A.unhover=function(a,b){return this.unmouseover(a).unmouseout(b)};var r=[];A.drag=function(b,d,f,h,n,p){function u(r,v,w){(r.originalEvent||r).preventDefault();this._drag.x=v;\n",
       "this._drag.y=w;this._drag.id=r.identifier;!q.length&&a.mousemove(e).mouseup(l);q.push({el:this,move_scope:h,start_scope:n,end_scope:p});d&&k.on(\"snap.drag.start.\"+this.id,d);b&&k.on(\"snap.drag.move.\"+this.id,b);f&&k.on(\"snap.drag.end.\"+this.id,f);k(\"snap.drag.start.\"+this.id,n||h||this,v,w,r)}if(!arguments.length){var v;return this.drag(function(a,b){this.attr({transform:v+(v?\"T\":\"t\")+[a,b]})},function(){v=this.transform().local})}this._drag={};r.push({el:this,start:u});this.mousedown(u);return this};\n",
       "A.undrag=function(){for(var b=r.length;b--;)r[b].el==this&&(this.unmousedown(r[b].start),r.splice(b,1),k.unbind(\"snap.drag.*.\"+this.id));!r.length&&a.unmousemove(e).unmouseup(l);return this}});C.plugin(function(a,v,y,C){y=y.prototype;var A=/^\\s*url\\((.+)\\)/,w=String,z=a._.$;a.filter={};y.filter=function(d){var f=this;\"svg\"!=f.type&&(f=f.paper);d=a.parse(w(d));var k=a._.id(),u=z(\"filter\");z(u,{id:k,filterUnits:\"userSpaceOnUse\"});u.appendChild(d.node);f.defs.appendChild(u);return new v(u)};k.on(\"snap.util.getattr.filter\",\n",
       "function(){k.stop();var d=z(this.node,\"filter\");if(d)return(d=w(d).match(A))&&a.select(d[1])});k.on(\"snap.util.attr.filter\",function(d){if(d instanceof v&&\"filter\"==d.type){k.stop();var f=d.node.id;f||(z(d.node,{id:d.id}),f=d.id);z(this.node,{filter:a.url(f)})}d&&\"none\"!=d||(k.stop(),this.node.removeAttribute(\"filter\"))});a.filter.blur=function(d,f){null==d&&(d=2);return a.format('<feGaussianBlur stdDeviation=\"{def}\"/>',{def:null==f?d:[d,f]})};a.filter.blur.toString=function(){return this()};a.filter.shadow=\n",
       "function(d,f,k,u,p){\"string\"==typeof k&&(p=u=k,k=4);\"string\"!=typeof u&&(p=u,u=\"#000\");null==k&&(k=4);null==p&&(p=1);null==d&&(d=0,f=2);null==f&&(f=d);u=a.color(u||\"#000\");return a.format('<feGaussianBlur in=\"SourceAlpha\" stdDeviation=\"{blur}\"/><feOffset dx=\"{dx}\" dy=\"{dy}\" result=\"offsetblur\"/><feFlood flood-color=\"{color}\"/><feComposite in2=\"offsetblur\" operator=\"in\"/><feComponentTransfer><feFuncA type=\"linear\" slope=\"{opacity}\"/></feComponentTransfer><feMerge><feMergeNode/><feMergeNode in=\"SourceGraphic\"/></feMerge>',\n",
       "{color:u,dx:d,dy:f,blur:k,opacity:p})};a.filter.shadow.toString=function(){return this()};a.filter.grayscale=function(d){null==d&&(d=1);return a.format('<feColorMatrix type=\"matrix\" values=\"{a} {b} {c} 0 0 {d} {e} {f} 0 0 {g} {b} {h} 0 0 0 0 0 1 0\"/>',{a:0.2126+0.7874*(1-d),b:0.7152-0.7152*(1-d),c:0.0722-0.0722*(1-d),d:0.2126-0.2126*(1-d),e:0.7152+0.2848*(1-d),f:0.0722-0.0722*(1-d),g:0.2126-0.2126*(1-d),h:0.0722+0.9278*(1-d)})};a.filter.grayscale.toString=function(){return this()};a.filter.sepia=\n",
       "function(d){null==d&&(d=1);return a.format('<feColorMatrix type=\"matrix\" values=\"{a} {b} {c} 0 0 {d} {e} {f} 0 0 {g} {h} {i} 0 0 0 0 0 1 0\"/>',{a:0.393+0.607*(1-d),b:0.769-0.769*(1-d),c:0.189-0.189*(1-d),d:0.349-0.349*(1-d),e:0.686+0.314*(1-d),f:0.168-0.168*(1-d),g:0.272-0.272*(1-d),h:0.534-0.534*(1-d),i:0.131+0.869*(1-d)})};a.filter.sepia.toString=function(){return this()};a.filter.saturate=function(d){null==d&&(d=1);return a.format('<feColorMatrix type=\"saturate\" values=\"{amount}\"/>',{amount:1-\n",
       "d})};a.filter.saturate.toString=function(){return this()};a.filter.hueRotate=function(d){return a.format('<feColorMatrix type=\"hueRotate\" values=\"{angle}\"/>',{angle:d||0})};a.filter.hueRotate.toString=function(){return this()};a.filter.invert=function(d){null==d&&(d=1);return a.format('<feComponentTransfer><feFuncR type=\"table\" tableValues=\"{amount} {amount2}\"/><feFuncG type=\"table\" tableValues=\"{amount} {amount2}\"/><feFuncB type=\"table\" tableValues=\"{amount} {amount2}\"/></feComponentTransfer>',{amount:d,\n",
       "amount2:1-d})};a.filter.invert.toString=function(){return this()};a.filter.brightness=function(d){null==d&&(d=1);return a.format('<feComponentTransfer><feFuncR type=\"linear\" slope=\"{amount}\"/><feFuncG type=\"linear\" slope=\"{amount}\"/><feFuncB type=\"linear\" slope=\"{amount}\"/></feComponentTransfer>',{amount:d})};a.filter.brightness.toString=function(){return this()};a.filter.contrast=function(d){null==d&&(d=1);return a.format('<feComponentTransfer><feFuncR type=\"linear\" slope=\"{amount}\" intercept=\"{amount2}\"/><feFuncG type=\"linear\" slope=\"{amount}\" intercept=\"{amount2}\"/><feFuncB type=\"linear\" slope=\"{amount}\" intercept=\"{amount2}\"/></feComponentTransfer>',\n",
       "{amount:d,amount2:0.5-d/2})};a.filter.contrast.toString=function(){return this()}});return C});\n",
       "\n",
       "]]> </script>\n",
       "<script> <![CDATA[\n",
       "\n",
       "(function (glob, factory) {\n",
       "    // AMD support\n",
       "    if (typeof define === \"function\" && define.amd) {\n",
       "        // Define as an anonymous module\n",
       "        define(\"Gadfly\", [\"Snap.svg\"], function (Snap) {\n",
       "            return factory(Snap);\n",
       "        });\n",
       "    } else {\n",
       "        // Browser globals (glob is window)\n",
       "        // Snap adds itself to window\n",
       "        glob.Gadfly = factory(glob.Snap);\n",
       "    }\n",
       "}(this, function (Snap) {\n",
       "\n",
       "var Gadfly = {};\n",
       "\n",
       "// Get an x/y coordinate value in pixels\n",
       "var xPX = function(fig, x) {\n",
       "    var client_box = fig.node.getBoundingClientRect();\n",
       "    return x * fig.node.viewBox.baseVal.width / client_box.width;\n",
       "};\n",
       "\n",
       "var yPX = function(fig, y) {\n",
       "    var client_box = fig.node.getBoundingClientRect();\n",
       "    return y * fig.node.viewBox.baseVal.height / client_box.height;\n",
       "};\n",
       "\n",
       "\n",
       "Snap.plugin(function (Snap, Element, Paper, global) {\n",
       "    // Traverse upwards from a snap element to find and return the first\n",
       "    // note with the \"plotroot\" class.\n",
       "    Element.prototype.plotroot = function () {\n",
       "        var element = this;\n",
       "        while (!element.hasClass(\"plotroot\") && element.parent() != null) {\n",
       "            element = element.parent();\n",
       "        }\n",
       "        return element;\n",
       "    };\n",
       "\n",
       "    Element.prototype.svgroot = function () {\n",
       "        var element = this;\n",
       "        while (element.node.nodeName != \"svg\" && element.parent() != null) {\n",
       "            element = element.parent();\n",
       "        }\n",
       "        return element;\n",
       "    };\n",
       "\n",
       "    Element.prototype.plotbounds = function () {\n",
       "        var root = this.plotroot()\n",
       "        var bbox = root.select(\".guide.background\").node.getBBox();\n",
       "        return {\n",
       "            x0: bbox.x,\n",
       "            x1: bbox.x + bbox.width,\n",
       "            y0: bbox.y,\n",
       "            y1: bbox.y + bbox.height\n",
       "        };\n",
       "    };\n",
       "\n",
       "    Element.prototype.plotcenter = function () {\n",
       "        var root = this.plotroot()\n",
       "        var bbox = root.select(\".guide.background\").node.getBBox();\n",
       "        return {\n",
       "            x: bbox.x + bbox.width / 2,\n",
       "            y: bbox.y + bbox.height / 2\n",
       "        };\n",
       "    };\n",
       "\n",
       "    // Emulate IE style mouseenter/mouseleave events, since Microsoft always\n",
       "    // does everything right.\n",
       "    // See: http://www.dynamic-tools.net/toolbox/isMouseLeaveOrEnter/\n",
       "    var events = [\"mouseenter\", \"mouseleave\"];\n",
       "\n",
       "    for (i in events) {\n",
       "        (function (event_name) {\n",
       "            var event_name = events[i];\n",
       "            Element.prototype[event_name] = function (fn, scope) {\n",
       "                if (Snap.is(fn, \"function\")) {\n",
       "                    var fn2 = function (event) {\n",
       "                        if (event.type != \"mouseover\" && event.type != \"mouseout\") {\n",
       "                            return;\n",
       "                        }\n",
       "\n",
       "                        var reltg = event.relatedTarget ? event.relatedTarget :\n",
       "                            event.type == \"mouseout\" ? event.toElement : event.fromElement;\n",
       "                        while (reltg && reltg != this.node) reltg = reltg.parentNode;\n",
       "\n",
       "                        if (reltg != this.node) {\n",
       "                            return fn.apply(this, event);\n",
       "                        }\n",
       "                    };\n",
       "\n",
       "                    if (event_name == \"mouseenter\") {\n",
       "                        this.mouseover(fn2, scope);\n",
       "                    } else {\n",
       "                        this.mouseout(fn2, scope);\n",
       "                    }\n",
       "                }\n",
       "                return this;\n",
       "            };\n",
       "        })(events[i]);\n",
       "    }\n",
       "\n",
       "\n",
       "    Element.prototype.mousewheel = function (fn, scope) {\n",
       "        if (Snap.is(fn, \"function\")) {\n",
       "            var el = this;\n",
       "            var fn2 = function (event) {\n",
       "                fn.apply(el, [event]);\n",
       "            };\n",
       "        }\n",
       "\n",
       "        this.node.addEventListener(\n",
       "            /Firefox/i.test(navigator.userAgent) ? \"DOMMouseScroll\" : \"mousewheel\",\n",
       "            fn2);\n",
       "\n",
       "        return this;\n",
       "    };\n",
       "\n",
       "\n",
       "    // Snap's attr function can be too slow for things like panning/zooming.\n",
       "    // This is a function to directly update element attributes without going\n",
       "    // through eve.\n",
       "    Element.prototype.attribute = function(key, val) {\n",
       "        if (val === undefined) {\n",
       "            return this.node.getAttribute(key, val);\n",
       "        } else {\n",
       "            return this.node.setAttribute(key, val);\n",
       "        }\n",
       "    };\n",
       "});\n",
       "\n",
       "\n",
       "// When the plot is moused over, emphasize the grid lines.\n",
       "Gadfly.plot_mouseover = function(event) {\n",
       "    var root = this.plotroot();\n",
       "    init_pan_zoom(root);\n",
       "\n",
       "    var xgridlines = root.select(\".xgridlines\"),\n",
       "        ygridlines = root.select(\".ygridlines\");\n",
       "\n",
       "    xgridlines.data(\"unfocused_strokedash\",\n",
       "                    xgridlines.attr(\"stroke-dasharray\").replace(/px/g, \"mm\"))\n",
       "    ygridlines.data(\"unfocused_strokedash\",\n",
       "                    ygridlines.attr(\"stroke-dasharray\").replace(/px/g, \"mm\"))\n",
       "\n",
       "    // emphasize grid lines\n",
       "    var destcolor = root.data(\"focused_xgrid_color\");\n",
       "    xgridlines.attr(\"stroke-dasharray\", \"none\")\n",
       "              .selectAll(\"path\")\n",
       "              .animate({stroke: destcolor}, 250);\n",
       "\n",
       "    destcolor = root.data(\"focused_ygrid_color\");\n",
       "    ygridlines.attr(\"stroke-dasharray\", \"none\")\n",
       "              .selectAll(\"path\")\n",
       "              .animate({stroke: destcolor}, 250);\n",
       "\n",
       "    // reveal zoom slider\n",
       "    root.select(\".zoomslider\")\n",
       "        .animate({opacity: 1.0}, 250);\n",
       "};\n",
       "\n",
       "\n",
       "// Unemphasize grid lines on mouse out.\n",
       "Gadfly.plot_mouseout = function(event) {\n",
       "    var root = this.plotroot();\n",
       "    var xgridlines = root.select(\".xgridlines\"),\n",
       "        ygridlines = root.select(\".ygridlines\");\n",
       "\n",
       "    var destcolor = root.data(\"unfocused_xgrid_color\");\n",
       "\n",
       "    xgridlines.attr(\"stroke-dasharray\", xgridlines.data(\"unfocused_strokedash\"))\n",
       "              .selectAll(\"path\")\n",
       "              .animate({stroke: destcolor}, 250);\n",
       "\n",
       "    destcolor = root.data(\"unfocused_ygrid_color\");\n",
       "    ygridlines.attr(\"stroke-dasharray\", ygridlines.data(\"unfocused_strokedash\"))\n",
       "              .selectAll(\"path\")\n",
       "              .animate({stroke: destcolor}, 250);\n",
       "\n",
       "    // hide zoom slider\n",
       "    root.select(\".zoomslider\")\n",
       "        .animate({opacity: 0.0}, 250);\n",
       "};\n",
       "\n",
       "\n",
       "var set_geometry_transform = function(root, tx, ty, scale) {\n",
       "    var xscalable = root.hasClass(\"xscalable\"),\n",
       "        yscalable = root.hasClass(\"yscalable\");\n",
       "\n",
       "    var old_scale = root.data(\"scale\");\n",
       "\n",
       "    var xscale = xscalable ? scale : 1.0,\n",
       "        yscale = yscalable ? scale : 1.0;\n",
       "\n",
       "    tx = xscalable ? tx : 0.0;\n",
       "    ty = yscalable ? ty : 0.0;\n",
       "\n",
       "    var t = new Snap.Matrix().translate(tx, ty).scale(xscale, yscale);\n",
       "\n",
       "    root.selectAll(\".geometry, image\")\n",
       "        .forEach(function (element, i) {\n",
       "            element.transform(t);\n",
       "        });\n",
       "\n",
       "    bounds = root.plotbounds();\n",
       "\n",
       "    if (yscalable) {\n",
       "        var xfixed_t = new Snap.Matrix().translate(0, ty).scale(1.0, yscale);\n",
       "        root.selectAll(\".xfixed\")\n",
       "            .forEach(function (element, i) {\n",
       "                element.transform(xfixed_t);\n",
       "            });\n",
       "\n",
       "        root.select(\".ylabels\")\n",
       "            .transform(xfixed_t)\n",
       "            .selectAll(\"text\")\n",
       "            .forEach(function (element, i) {\n",
       "                if (element.attribute(\"gadfly:inscale\") == \"true\") {\n",
       "                    var cx = element.asPX(\"x\"),\n",
       "                        cy = element.asPX(\"y\");\n",
       "                    var st = element.data(\"static_transform\");\n",
       "                    unscale_t = new Snap.Matrix();\n",
       "                    unscale_t.scale(1, 1/scale, cx, cy).add(st);\n",
       "                    element.transform(unscale_t);\n",
       "\n",
       "                    var y = cy * scale + ty;\n",
       "                    element.attr(\"visibility\",\n",
       "                        bounds.y0 <= y && y <= bounds.y1 ? \"visible\" : \"hidden\");\n",
       "                }\n",
       "            });\n",
       "    }\n",
       "\n",
       "    if (xscalable) {\n",
       "        var yfixed_t = new Snap.Matrix().translate(tx, 0).scale(xscale, 1.0);\n",
       "        var xtrans = new Snap.Matrix().translate(tx, 0);\n",
       "        root.selectAll(\".yfixed\")\n",
       "            .forEach(function (element, i) {\n",
       "                element.transform(yfixed_t);\n",
       "            });\n",
       "\n",
       "        root.select(\".xlabels\")\n",
       "            .transform(yfixed_t)\n",
       "            .selectAll(\"text\")\n",
       "            .forEach(function (element, i) {\n",
       "                if (element.attribute(\"gadfly:inscale\") == \"true\") {\n",
       "                    var cx = element.asPX(\"x\"),\n",
       "                        cy = element.asPX(\"y\");\n",
       "                    var st = element.data(\"static_transform\");\n",
       "                    unscale_t = new Snap.Matrix();\n",
       "                    unscale_t.scale(1/scale, 1, cx, cy).add(st);\n",
       "\n",
       "                    element.transform(unscale_t);\n",
       "\n",
       "                    var x = cx * scale + tx;\n",
       "                    element.attr(\"visibility\",\n",
       "                        bounds.x0 <= x && x <= bounds.x1 ? \"visible\" : \"hidden\");\n",
       "                    }\n",
       "            });\n",
       "    }\n",
       "\n",
       "    // we must unscale anything that is scale invariance: widths, raiduses, etc.\n",
       "    var size_attribs = [\"font-size\"];\n",
       "    var unscaled_selection = \".geometry, .geometry *\";\n",
       "    if (xscalable) {\n",
       "        size_attribs.push(\"rx\");\n",
       "        unscaled_selection += \", .xgridlines\";\n",
       "    }\n",
       "    if (yscalable) {\n",
       "        size_attribs.push(\"ry\");\n",
       "        unscaled_selection += \", .ygridlines\";\n",
       "    }\n",
       "\n",
       "    root.selectAll(unscaled_selection)\n",
       "        .forEach(function (element, i) {\n",
       "            // circle need special help\n",
       "            if (element.node.nodeName == \"circle\") {\n",
       "                var cx = element.attribute(\"cx\"),\n",
       "                    cy = element.attribute(\"cy\");\n",
       "                unscale_t = new Snap.Matrix().scale(1/xscale, 1/yscale,\n",
       "                                                        cx, cy);\n",
       "                element.transform(unscale_t);\n",
       "                return;\n",
       "            }\n",
       "\n",
       "            for (i in size_attribs) {\n",
       "                var key = size_attribs[i];\n",
       "                var val = parseFloat(element.attribute(key));\n",
       "                if (val !== undefined && val != 0 && !isNaN(val)) {\n",
       "                    element.attribute(key, val * old_scale / scale);\n",
       "                }\n",
       "            }\n",
       "        });\n",
       "};\n",
       "\n",
       "\n",
       "// Find the most appropriate tick scale and update label visibility.\n",
       "var update_tickscale = function(root, scale, axis) {\n",
       "    if (!root.hasClass(axis + \"scalable\")) return;\n",
       "\n",
       "    var tickscales = root.data(axis + \"tickscales\");\n",
       "    var best_tickscale = 1.0;\n",
       "    var best_tickscale_dist = Infinity;\n",
       "    for (tickscale in tickscales) {\n",
       "        var dist = Math.abs(Math.log(tickscale) - Math.log(scale));\n",
       "        if (dist < best_tickscale_dist) {\n",
       "            best_tickscale_dist = dist;\n",
       "            best_tickscale = tickscale;\n",
       "        }\n",
       "    }\n",
       "\n",
       "    if (best_tickscale != root.data(axis + \"tickscale\")) {\n",
       "        root.data(axis + \"tickscale\", best_tickscale);\n",
       "        var mark_inscale_gridlines = function (element, i) {\n",
       "            var inscale = element.attr(\"gadfly:scale\") == best_tickscale;\n",
       "            element.attribute(\"gadfly:inscale\", inscale);\n",
       "            element.attr(\"visibility\", inscale ? \"visible\" : \"hidden\");\n",
       "        };\n",
       "\n",
       "        var mark_inscale_labels = function (element, i) {\n",
       "            var inscale = element.attr(\"gadfly:scale\") == best_tickscale;\n",
       "            element.attribute(\"gadfly:inscale\", inscale);\n",
       "            element.attr(\"visibility\", inscale ? \"visible\" : \"hidden\");\n",
       "        };\n",
       "\n",
       "        root.select(\".\" + axis + \"gridlines\").selectAll(\"path\").forEach(mark_inscale_gridlines);\n",
       "        root.select(\".\" + axis + \"labels\").selectAll(\"text\").forEach(mark_inscale_labels);\n",
       "    }\n",
       "};\n",
       "\n",
       "\n",
       "var set_plot_pan_zoom = function(root, tx, ty, scale) {\n",
       "    var old_scale = root.data(\"scale\");\n",
       "    var bounds = root.plotbounds();\n",
       "\n",
       "    var width = bounds.x1 - bounds.x0,\n",
       "        height = bounds.y1 - bounds.y0;\n",
       "\n",
       "    // compute the viewport derived from tx, ty, and scale\n",
       "    var x_min = -width * scale - (scale * width - width),\n",
       "        x_max = width * scale,\n",
       "        y_min = -height * scale - (scale * height - height),\n",
       "        y_max = height * scale;\n",
       "\n",
       "    var x0 = bounds.x0 - scale * bounds.x0,\n",
       "        y0 = bounds.y0 - scale * bounds.y0;\n",
       "\n",
       "    var tx = Math.max(Math.min(tx - x0, x_max), x_min),\n",
       "        ty = Math.max(Math.min(ty - y0, y_max), y_min);\n",
       "\n",
       "    tx += x0;\n",
       "    ty += y0;\n",
       "\n",
       "    // when the scale change, we may need to alter which set of\n",
       "    // ticks is being displayed\n",
       "    if (scale != old_scale) {\n",
       "        update_tickscale(root, scale, \"x\");\n",
       "        update_tickscale(root, scale, \"y\");\n",
       "    }\n",
       "\n",
       "    set_geometry_transform(root, tx, ty, scale);\n",
       "\n",
       "    root.data(\"scale\", scale);\n",
       "    root.data(\"tx\", tx);\n",
       "    root.data(\"ty\", ty);\n",
       "};\n",
       "\n",
       "\n",
       "var scale_centered_translation = function(root, scale) {\n",
       "    var bounds = root.plotbounds();\n",
       "\n",
       "    var width = bounds.x1 - bounds.x0,\n",
       "        height = bounds.y1 - bounds.y0;\n",
       "\n",
       "    var tx0 = root.data(\"tx\"),\n",
       "        ty0 = root.data(\"ty\");\n",
       "\n",
       "    var scale0 = root.data(\"scale\");\n",
       "\n",
       "    // how off from center the current view is\n",
       "    var xoff = tx0 - (bounds.x0 * (1 - scale0) + (width * (1 - scale0)) / 2),\n",
       "        yoff = ty0 - (bounds.y0 * (1 - scale0) + (height * (1 - scale0)) / 2);\n",
       "\n",
       "    // rescale offsets\n",
       "    xoff = xoff * scale / scale0;\n",
       "    yoff = yoff * scale / scale0;\n",
       "\n",
       "    // adjust for the panel position being scaled\n",
       "    var x_edge_adjust = bounds.x0 * (1 - scale),\n",
       "        y_edge_adjust = bounds.y0 * (1 - scale);\n",
       "\n",
       "    return {\n",
       "        x: xoff + x_edge_adjust + (width - width * scale) / 2,\n",
       "        y: yoff + y_edge_adjust + (height - height * scale) / 2\n",
       "    };\n",
       "};\n",
       "\n",
       "\n",
       "// Initialize data for panning zooming if it isn't already.\n",
       "var init_pan_zoom = function(root) {\n",
       "    if (root.data(\"zoompan-ready\")) {\n",
       "        return;\n",
       "    }\n",
       "\n",
       "    // The non-scaling-stroke trick. Rather than try to correct for the\n",
       "    // stroke-width when zooming, we force it to a fixed value.\n",
       "    var px_per_mm = root.node.getCTM().a;\n",
       "\n",
       "    // Drag events report deltas in pixels, which we'd like to convert to\n",
       "    // millimeters.\n",
       "    root.data(\"px_per_mm\", px_per_mm);\n",
       "\n",
       "    root.selectAll(\"path\")\n",
       "        .forEach(function (element, i) {\n",
       "        sw = element.asPX(\"stroke-width\") * px_per_mm;\n",
       "        if (sw > 0) {\n",
       "            element.attribute(\"stroke-width\", sw);\n",
       "            element.attribute(\"vector-effect\", \"non-scaling-stroke\");\n",
       "        }\n",
       "    });\n",
       "\n",
       "    // Store ticks labels original tranformation\n",
       "    root.selectAll(\".xlabels > text, .ylabels > text\")\n",
       "        .forEach(function (element, i) {\n",
       "            var lm = element.transform().localMatrix;\n",
       "            element.data(\"static_transform\",\n",
       "                new Snap.Matrix(lm.a, lm.b, lm.c, lm.d, lm.e, lm.f));\n",
       "        });\n",
       "\n",
       "    if (root.data(\"tx\") === undefined) root.data(\"tx\", 0);\n",
       "    if (root.data(\"ty\") === undefined) root.data(\"ty\", 0);\n",
       "    if (root.data(\"scale\") === undefined) root.data(\"scale\", 1.0);\n",
       "    if (root.data(\"xtickscales\") === undefined) {\n",
       "\n",
       "        // index all the tick scales that are listed\n",
       "        var xtickscales = {};\n",
       "        var ytickscales = {};\n",
       "        var add_x_tick_scales = function (element, i) {\n",
       "            xtickscales[element.attribute(\"gadfly:scale\")] = true;\n",
       "        };\n",
       "        var add_y_tick_scales = function (element, i) {\n",
       "            ytickscales[element.attribute(\"gadfly:scale\")] = true;\n",
       "        };\n",
       "\n",
       "        root.select(\".xgridlines\").selectAll(\"path\").forEach(add_x_tick_scales);\n",
       "        root.select(\".ygridlines\").selectAll(\"path\").forEach(add_y_tick_scales);\n",
       "        root.select(\".xlabels\").selectAll(\"text\").forEach(add_x_tick_scales);\n",
       "        root.select(\".ylabels\").selectAll(\"text\").forEach(add_y_tick_scales);\n",
       "\n",
       "        root.data(\"xtickscales\", xtickscales);\n",
       "        root.data(\"ytickscales\", ytickscales);\n",
       "        root.data(\"xtickscale\", 1.0);\n",
       "    }\n",
       "\n",
       "    var min_scale = 1.0, max_scale = 1.0;\n",
       "    for (scale in xtickscales) {\n",
       "        min_scale = Math.min(min_scale, scale);\n",
       "        max_scale = Math.max(max_scale, scale);\n",
       "    }\n",
       "    for (scale in ytickscales) {\n",
       "        min_scale = Math.min(min_scale, scale);\n",
       "        max_scale = Math.max(max_scale, scale);\n",
       "    }\n",
       "    root.data(\"min_scale\", min_scale);\n",
       "    root.data(\"max_scale\", max_scale);\n",
       "\n",
       "    // store the original positions of labels\n",
       "    root.select(\".xlabels\")\n",
       "        .selectAll(\"text\")\n",
       "        .forEach(function (element, i) {\n",
       "            element.data(\"x\", element.asPX(\"x\"));\n",
       "        });\n",
       "\n",
       "    root.select(\".ylabels\")\n",
       "        .selectAll(\"text\")\n",
       "        .forEach(function (element, i) {\n",
       "            element.data(\"y\", element.asPX(\"y\"));\n",
       "        });\n",
       "\n",
       "    // mark grid lines and ticks as in or out of scale.\n",
       "    var mark_inscale = function (element, i) {\n",
       "        element.attribute(\"gadfly:inscale\", element.attribute(\"gadfly:scale\") == 1.0);\n",
       "    };\n",
       "\n",
       "    root.select(\".xgridlines\").selectAll(\"path\").forEach(mark_inscale);\n",
       "    root.select(\".ygridlines\").selectAll(\"path\").forEach(mark_inscale);\n",
       "    root.select(\".xlabels\").selectAll(\"text\").forEach(mark_inscale);\n",
       "    root.select(\".ylabels\").selectAll(\"text\").forEach(mark_inscale);\n",
       "\n",
       "    // figure out the upper ond lower bounds on panning using the maximum\n",
       "    // and minum grid lines\n",
       "    var bounds = root.plotbounds();\n",
       "    var pan_bounds = {\n",
       "        x0: 0.0,\n",
       "        y0: 0.0,\n",
       "        x1: 0.0,\n",
       "        y1: 0.0\n",
       "    };\n",
       "\n",
       "    root.select(\".xgridlines\")\n",
       "        .selectAll(\"path\")\n",
       "        .forEach(function (element, i) {\n",
       "            if (element.attribute(\"gadfly:inscale\") == \"true\") {\n",
       "                var bbox = element.node.getBBox();\n",
       "                if (bounds.x1 - bbox.x < pan_bounds.x0) {\n",
       "                    pan_bounds.x0 = bounds.x1 - bbox.x;\n",
       "                }\n",
       "                if (bounds.x0 - bbox.x > pan_bounds.x1) {\n",
       "                    pan_bounds.x1 = bounds.x0 - bbox.x;\n",
       "                }\n",
       "            }\n",
       "        });\n",
       "\n",
       "    root.select(\".ygridlines\")\n",
       "        .selectAll(\"path\")\n",
       "        .forEach(function (element, i) {\n",
       "            if (element.attribute(\"gadfly:inscale\") == \"true\") {\n",
       "                var bbox = element.node.getBBox();\n",
       "                if (bounds.y1 - bbox.y < pan_bounds.y0) {\n",
       "                    pan_bounds.y0 = bounds.y1 - bbox.y;\n",
       "                }\n",
       "                if (bounds.y0 - bbox.y > pan_bounds.y1) {\n",
       "                    pan_bounds.y1 = bounds.y0 - bbox.y;\n",
       "                }\n",
       "            }\n",
       "        });\n",
       "\n",
       "    // nudge these values a little\n",
       "    pan_bounds.x0 -= 5;\n",
       "    pan_bounds.x1 += 5;\n",
       "    pan_bounds.y0 -= 5;\n",
       "    pan_bounds.y1 += 5;\n",
       "    root.data(\"pan_bounds\", pan_bounds);\n",
       "\n",
       "    // Set all grid lines at scale 1.0 to visible. Out of bounds lines\n",
       "    // will be clipped.\n",
       "    root.select(\".xgridlines\")\n",
       "        .selectAll(\"path\")\n",
       "        .forEach(function (element, i) {\n",
       "            if (element.attribute(\"gadfly:inscale\") == \"true\") {\n",
       "                element.attr(\"visibility\", \"visible\");\n",
       "            }\n",
       "        });\n",
       "\n",
       "    root.select(\".ygridlines\")\n",
       "        .selectAll(\"path\")\n",
       "        .forEach(function (element, i) {\n",
       "            if (element.attribute(\"gadfly:inscale\") == \"true\") {\n",
       "                element.attr(\"visibility\", \"visible\");\n",
       "            }\n",
       "        });\n",
       "\n",
       "    root.data(\"zoompan-ready\", true)\n",
       "};\n",
       "\n",
       "\n",
       "// Panning\n",
       "Gadfly.guide_background_drag_onmove = function(dx, dy, x, y, event) {\n",
       "    var root = this.plotroot();\n",
       "    var px_per_mm = root.data(\"px_per_mm\");\n",
       "    dx /= px_per_mm;\n",
       "    dy /= px_per_mm;\n",
       "\n",
       "    var tx0 = root.data(\"tx\"),\n",
       "        ty0 = root.data(\"ty\");\n",
       "\n",
       "    var dx0 = root.data(\"dx\"),\n",
       "        dy0 = root.data(\"dy\");\n",
       "\n",
       "    root.data(\"dx\", dx);\n",
       "    root.data(\"dy\", dy);\n",
       "\n",
       "    dx = dx - dx0;\n",
       "    dy = dy - dy0;\n",
       "\n",
       "    var tx = tx0 + dx,\n",
       "        ty = ty0 + dy;\n",
       "\n",
       "    set_plot_pan_zoom(root, tx, ty, root.data(\"scale\"));\n",
       "};\n",
       "\n",
       "\n",
       "Gadfly.guide_background_drag_onstart = function(x, y, event) {\n",
       "    var root = this.plotroot();\n",
       "    root.data(\"dx\", 0);\n",
       "    root.data(\"dy\", 0);\n",
       "    init_pan_zoom(root);\n",
       "};\n",
       "\n",
       "\n",
       "Gadfly.guide_background_drag_onend = function(event) {\n",
       "    var root = this.plotroot();\n",
       "};\n",
       "\n",
       "\n",
       "Gadfly.guide_background_scroll = function(event) {\n",
       "    if (event.shiftKey) {\n",
       "        var root = this.plotroot();\n",
       "        init_pan_zoom(root);\n",
       "        var new_scale = root.data(\"scale\") * Math.pow(2, 0.002 * event.wheelDelta);\n",
       "        new_scale = Math.max(\n",
       "            root.data(\"min_scale\"),\n",
       "            Math.min(root.data(\"max_scale\"), new_scale))\n",
       "        update_plot_scale(root, new_scale);\n",
       "        event.stopPropagation();\n",
       "    }\n",
       "};\n",
       "\n",
       "\n",
       "Gadfly.zoomslider_button_mouseover = function(event) {\n",
       "    this.select(\".button_logo\")\n",
       "         .animate({fill: this.data(\"mouseover_color\")}, 100);\n",
       "};\n",
       "\n",
       "\n",
       "Gadfly.zoomslider_button_mouseout = function(event) {\n",
       "     this.select(\".button_logo\")\n",
       "         .animate({fill: this.data(\"mouseout_color\")}, 100);\n",
       "};\n",
       "\n",
       "\n",
       "Gadfly.zoomslider_zoomout_click = function(event) {\n",
       "    var root = this.plotroot();\n",
       "    init_pan_zoom(root);\n",
       "    var min_scale = root.data(\"min_scale\"),\n",
       "        scale = root.data(\"scale\");\n",
       "    Snap.animate(\n",
       "        scale,\n",
       "        Math.max(min_scale, scale / 1.5),\n",
       "        function (new_scale) {\n",
       "            update_plot_scale(root, new_scale);\n",
       "        },\n",
       "        200);\n",
       "};\n",
       "\n",
       "\n",
       "Gadfly.zoomslider_zoomin_click = function(event) {\n",
       "    var root = this.plotroot();\n",
       "    init_pan_zoom(root);\n",
       "    var max_scale = root.data(\"max_scale\"),\n",
       "        scale = root.data(\"scale\");\n",
       "\n",
       "    Snap.animate(\n",
       "        scale,\n",
       "        Math.min(max_scale, scale * 1.5),\n",
       "        function (new_scale) {\n",
       "            update_plot_scale(root, new_scale);\n",
       "        },\n",
       "        200);\n",
       "};\n",
       "\n",
       "\n",
       "Gadfly.zoomslider_track_click = function(event) {\n",
       "    // TODO\n",
       "};\n",
       "\n",
       "\n",
       "Gadfly.zoomslider_thumb_mousedown = function(event) {\n",
       "    this.animate({fill: this.data(\"mouseover_color\")}, 100);\n",
       "};\n",
       "\n",
       "\n",
       "Gadfly.zoomslider_thumb_mouseup = function(event) {\n",
       "    this.animate({fill: this.data(\"mouseout_color\")}, 100);\n",
       "};\n",
       "\n",
       "\n",
       "// compute the position in [0, 1] of the zoom slider thumb from the current scale\n",
       "var slider_position_from_scale = function(scale, min_scale, max_scale) {\n",
       "    if (scale >= 1.0) {\n",
       "        return 0.5 + 0.5 * (Math.log(scale) / Math.log(max_scale));\n",
       "    }\n",
       "    else {\n",
       "        return 0.5 * (Math.log(scale) - Math.log(min_scale)) / (0 - Math.log(min_scale));\n",
       "    }\n",
       "}\n",
       "\n",
       "\n",
       "var update_plot_scale = function(root, new_scale) {\n",
       "    var trans = scale_centered_translation(root, new_scale);\n",
       "    set_plot_pan_zoom(root, trans.x, trans.y, new_scale);\n",
       "\n",
       "    root.selectAll(\".zoomslider_thumb\")\n",
       "        .forEach(function (element, i) {\n",
       "            var min_pos = element.data(\"min_pos\"),\n",
       "                max_pos = element.data(\"max_pos\"),\n",
       "                min_scale = root.data(\"min_scale\"),\n",
       "                max_scale = root.data(\"max_scale\");\n",
       "            var xmid = (min_pos + max_pos) / 2;\n",
       "            var xpos = slider_position_from_scale(new_scale, min_scale, max_scale);\n",
       "            element.transform(new Snap.Matrix().translate(\n",
       "                Math.max(min_pos, Math.min(\n",
       "                         max_pos, min_pos + (max_pos - min_pos) * xpos)) - xmid, 0));\n",
       "    });\n",
       "};\n",
       "\n",
       "\n",
       "Gadfly.zoomslider_thumb_dragmove = function(dx, dy, x, y) {\n",
       "    var root = this.plotroot();\n",
       "    var min_pos = this.data(\"min_pos\"),\n",
       "        max_pos = this.data(\"max_pos\"),\n",
       "        min_scale = root.data(\"min_scale\"),\n",
       "        max_scale = root.data(\"max_scale\"),\n",
       "        old_scale = root.data(\"old_scale\");\n",
       "\n",
       "    var px_per_mm = root.data(\"px_per_mm\");\n",
       "    dx /= px_per_mm;\n",
       "    dy /= px_per_mm;\n",
       "\n",
       "    var xmid = (min_pos + max_pos) / 2;\n",
       "    var xpos = slider_position_from_scale(old_scale, min_scale, max_scale) +\n",
       "                   dx / (max_pos - min_pos);\n",
       "\n",
       "    // compute the new scale\n",
       "    var new_scale;\n",
       "    if (xpos >= 0.5) {\n",
       "        new_scale = Math.exp(2.0 * (xpos - 0.5) * Math.log(max_scale));\n",
       "    }\n",
       "    else {\n",
       "        new_scale = Math.exp(2.0 * xpos * (0 - Math.log(min_scale)) +\n",
       "                        Math.log(min_scale));\n",
       "    }\n",
       "    new_scale = Math.min(max_scale, Math.max(min_scale, new_scale));\n",
       "\n",
       "    update_plot_scale(root, new_scale);\n",
       "};\n",
       "\n",
       "\n",
       "Gadfly.zoomslider_thumb_dragstart = function(event) {\n",
       "    var root = this.plotroot();\n",
       "    init_pan_zoom(root);\n",
       "\n",
       "    // keep track of what the scale was when we started dragging\n",
       "    root.data(\"old_scale\", root.data(\"scale\"));\n",
       "};\n",
       "\n",
       "\n",
       "Gadfly.zoomslider_thumb_dragend = function(event) {\n",
       "};\n",
       "\n",
       "\n",
       "var toggle_color_class = function(root, color_class, ison) {\n",
       "    var guides = root.selectAll(\".guide.\" + color_class + \",.guide .\" + color_class);\n",
       "    var geoms = root.selectAll(\".geometry.\" + color_class + \",.geometry .\" + color_class);\n",
       "    if (ison) {\n",
       "        guides.animate({opacity: 0.5}, 250);\n",
       "        geoms.animate({opacity: 0.0}, 250);\n",
       "    } else {\n",
       "        guides.animate({opacity: 1.0}, 250);\n",
       "        geoms.animate({opacity: 1.0}, 250);\n",
       "    }\n",
       "};\n",
       "\n",
       "\n",
       "Gadfly.colorkey_swatch_click = function(event) {\n",
       "    var root = this.plotroot();\n",
       "    var color_class = this.data(\"color_class\");\n",
       "\n",
       "    if (event.shiftKey) {\n",
       "        root.selectAll(\".colorkey text\")\n",
       "            .forEach(function (element) {\n",
       "                var other_color_class = element.data(\"color_class\");\n",
       "                if (other_color_class != color_class) {\n",
       "                    toggle_color_class(root, other_color_class,\n",
       "                                       element.attr(\"opacity\") == 1.0);\n",
       "                }\n",
       "            });\n",
       "    } else {\n",
       "        toggle_color_class(root, color_class, this.attr(\"opacity\") == 1.0);\n",
       "    }\n",
       "};\n",
       "\n",
       "\n",
       "return Gadfly;\n",
       "\n",
       "}));\n",
       "\n",
       "\n",
       "//@ sourceURL=gadfly.js\n",
       "\n",
       "(function (glob, factory) {\n",
       "    // AMD support\n",
       "      if (typeof require === \"function\" && typeof define === \"function\" && define.amd) {\n",
       "        require([\"Snap.svg\", \"Gadfly\"], function (Snap, Gadfly) {\n",
       "            factory(Snap, Gadfly);\n",
       "        });\n",
       "      } else {\n",
       "          factory(glob.Snap, glob.Gadfly);\n",
       "      }\n",
       "})(window, function (Snap, Gadfly) {\n",
       "    var fig = Snap(\"#fig-7af1b554904c4f478f3913ec9578349b\");\n",
       "fig.select(\"#fig-7af1b554904c4f478f3913ec9578349b-element-4\")\n",
       "   .drag(function() {}, function() {}, function() {});\n",
       "fig.select(\"#fig-7af1b554904c4f478f3913ec9578349b-element-6\")\n",
       "   .data(\"color_class\", \"color_setosa\")\n",
       ".click(Gadfly.colorkey_swatch_click)\n",
       ";\n",
       "fig.select(\"#fig-7af1b554904c4f478f3913ec9578349b-element-7\")\n",
       "   .data(\"color_class\", \"color_versicolor\")\n",
       ".click(Gadfly.colorkey_swatch_click)\n",
       ";\n",
       "fig.select(\"#fig-7af1b554904c4f478f3913ec9578349b-element-8\")\n",
       "   .data(\"color_class\", \"color_virginica\")\n",
       ".click(Gadfly.colorkey_swatch_click)\n",
       ";\n",
       "fig.select(\"#fig-7af1b554904c4f478f3913ec9578349b-element-10\")\n",
       "   .data(\"color_class\", \"color_setosa\")\n",
       ".click(Gadfly.colorkey_swatch_click)\n",
       ";\n",
       "fig.select(\"#fig-7af1b554904c4f478f3913ec9578349b-element-11\")\n",
       "   .data(\"color_class\", \"color_versicolor\")\n",
       ".click(Gadfly.colorkey_swatch_click)\n",
       ";\n",
       "fig.select(\"#fig-7af1b554904c4f478f3913ec9578349b-element-12\")\n",
       "   .data(\"color_class\", \"color_virginica\")\n",
       ".click(Gadfly.colorkey_swatch_click)\n",
       ";\n",
       "fig.select(\"#fig-7af1b554904c4f478f3913ec9578349b-element-15\")\n",
       "   .mouseenter(Gadfly.plot_mouseover)\n",
       ".mouseleave(Gadfly.plot_mouseout)\n",
       ".mousewheel(Gadfly.guide_background_scroll)\n",
       ".drag(Gadfly.guide_background_drag_onmove,\n",
       "      Gadfly.guide_background_drag_onstart,\n",
       "      Gadfly.guide_background_drag_onend)\n",
       ";\n",
       "fig.select(\"#fig-7af1b554904c4f478f3913ec9578349b-element-19\")\n",
       "   .plotroot().data(\"unfocused_ygrid_color\", \"#D0D0E0\")\n",
       ";\n",
       "fig.select(\"#fig-7af1b554904c4f478f3913ec9578349b-element-19\")\n",
       "   .plotroot().data(\"focused_ygrid_color\", \"#A0A0A0\")\n",
       ";\n",
       "fig.select(\"#fig-7af1b554904c4f478f3913ec9578349b-element-137\")\n",
       "   .plotroot().data(\"unfocused_xgrid_color\", \"#D0D0E0\")\n",
       ";\n",
       "fig.select(\"#fig-7af1b554904c4f478f3913ec9578349b-element-137\")\n",
       "   .plotroot().data(\"focused_xgrid_color\", \"#A0A0A0\")\n",
       ";\n",
       "fig.select(\"#fig-7af1b554904c4f478f3913ec9578349b-element-429\")\n",
       "   .data(\"mouseover_color\", \"#cd5c5c\")\n",
       ";\n",
       "fig.select(\"#fig-7af1b554904c4f478f3913ec9578349b-element-429\")\n",
       "   .data(\"mouseout_color\", \"#6a6a6a\")\n",
       ";\n",
       "fig.select(\"#fig-7af1b554904c4f478f3913ec9578349b-element-429\")\n",
       "   .click(Gadfly.zoomslider_zoomin_click)\n",
       ".mouseenter(Gadfly.zoomslider_button_mouseover)\n",
       ".mouseleave(Gadfly.zoomslider_button_mouseout)\n",
       ";\n",
       "fig.select(\"#fig-7af1b554904c4f478f3913ec9578349b-element-433\")\n",
       "   .data(\"max_pos\", 104.83)\n",
       ";\n",
       "fig.select(\"#fig-7af1b554904c4f478f3913ec9578349b-element-433\")\n",
       "   .data(\"min_pos\", 87.83)\n",
       ";\n",
       "fig.select(\"#fig-7af1b554904c4f478f3913ec9578349b-element-433\")\n",
       "   .click(Gadfly.zoomslider_track_click);\n",
       "fig.select(\"#fig-7af1b554904c4f478f3913ec9578349b-element-435\")\n",
       "   .data(\"max_pos\", 104.83)\n",
       ";\n",
       "fig.select(\"#fig-7af1b554904c4f478f3913ec9578349b-element-435\")\n",
       "   .data(\"min_pos\", 87.83)\n",
       ";\n",
       "fig.select(\"#fig-7af1b554904c4f478f3913ec9578349b-element-435\")\n",
       "   .data(\"mouseover_color\", \"#cd5c5c\")\n",
       ";\n",
       "fig.select(\"#fig-7af1b554904c4f478f3913ec9578349b-element-435\")\n",
       "   .data(\"mouseout_color\", \"#6a6a6a\")\n",
       ";\n",
       "fig.select(\"#fig-7af1b554904c4f478f3913ec9578349b-element-435\")\n",
       "   .drag(Gadfly.zoomslider_thumb_dragmove,\n",
       "     Gadfly.zoomslider_thumb_dragstart,\n",
       "     Gadfly.zoomslider_thumb_dragend)\n",
       ".mousedown(Gadfly.zoomslider_thumb_mousedown)\n",
       ".mouseup(Gadfly.zoomslider_thumb_mouseup)\n",
       ";\n",
       "fig.select(\"#fig-7af1b554904c4f478f3913ec9578349b-element-437\")\n",
       "   .data(\"mouseover_color\", \"#cd5c5c\")\n",
       ";\n",
       "fig.select(\"#fig-7af1b554904c4f478f3913ec9578349b-element-437\")\n",
       "   .data(\"mouseout_color\", \"#6a6a6a\")\n",
       ";\n",
       "fig.select(\"#fig-7af1b554904c4f478f3913ec9578349b-element-437\")\n",
       "   .click(Gadfly.zoomslider_zoomout_click)\n",
       ".mouseenter(Gadfly.zoomslider_button_mouseover)\n",
       ".mouseleave(Gadfly.zoomslider_button_mouseout)\n",
       ";\n",
       "    });\n",
       "]]> </script>\n",
       "</svg>\n"
      ],
      "text/plain": [
       "Plot(...)"
      ]
     },
     "execution_count": 22,
     "metadata": {},
     "output_type": "execute_result"
    }
   ],
   "source": [
    "plot(iris, x = \"PetalWidth\", y = \"PetalLength\", color = \"Species\", Geom.point)"
   ]
  },
  {
   "cell_type": "code",
   "execution_count": 16,
   "metadata": {
    "collapsed": false
   },
   "outputs": [
    {
     "data": {
      "text/plain": [
       "3-element Array{Int64,1}:\n",
       " 1\n",
       " 2\n",
       " 3"
      ]
     },
     "execution_count": 16,
     "metadata": {},
     "output_type": "execute_result"
    }
   ],
   "source": [
    "a = [1, 2, 3]"
   ]
  },
  {
   "cell_type": "code",
   "execution_count": 18,
   "metadata": {
    "collapsed": false
   },
   "outputs": [
    {
     "data": {
      "text/plain": [
       "2"
      ]
     },
     "execution_count": 18,
     "metadata": {},
     "output_type": "execute_result"
    }
   ],
   "source": [
    "a[end-1]"
   ]
  },
  {
   "cell_type": "code",
   "execution_count": 23,
   "metadata": {
    "collapsed": false
   },
   "outputs": [
    {
     "data": {
      "text/html": [
       "getindex(A::<b>Array{T,N}</b>,i0::<b>Real</b>) at <a href=\"https://github.com/JuliaLang/julia/tree/0c24dca65c031820b91721139f0291068086955c/base/array.jl#L246\" target=\"_blank\">array.jl:246</a>"
      ],
      "text/plain": [
       "getindex(A::Array{T,N},i0::Real) at array.jl:246"
      ]
     },
     "execution_count": 23,
     "metadata": {},
     "output_type": "execute_result"
    }
   ],
   "source": [
    "@which a[1]"
   ]
  },
  {
   "cell_type": "code",
   "execution_count": 24,
   "metadata": {
    "collapsed": false
   },
   "outputs": [
    {
     "data": {
      "text/html": [
       "length(a::<b>Array{T,N}</b>) at <a href=\"https://github.com/JuliaLang/julia/tree/0c24dca65c031820b91721139f0291068086955c/base/array.jl#L21\" target=\"_blank\">array.jl:21</a>"
      ],
      "text/plain": [
       "length(a::Array{T,N}) at array.jl:21"
      ]
     },
     "execution_count": 24,
     "metadata": {},
     "output_type": "execute_result"
    }
   ],
   "source": [
    "@which length(a)"
   ]
  },
  {
   "cell_type": "code",
   "execution_count": 25,
   "metadata": {
    "collapsed": false
   },
   "outputs": [
    {
     "data": {
      "text/html": [
       "204-element Array{Method,1}:<ul><li> view(a::<b>Array{T,N}</b>) at <a href=\"https://github.com/JuliaLang/ArrayViews.jl/tree/e172b5da6b90dfa0d44471a3ff3df19b487d7f30/src/ArrayViews.jl#L626\" target=\"_blank\">/Users/DboyLiao/.julia/v0.3/ArrayViews/src/ArrayViews.jl:626</a><li> PooledDataArray<i>{T}</i>(d::<b>Array{T,N}</b>) at <a href=\"https://github.com/JuliaStats/DataArrays.jl/tree/46b24ffd5349cecc6c582afcf1a7efbd03d6cf93/src/pooleddataarray.jl#L127\" target=\"_blank\">/Users/DboyLiao/.julia/v0.3/DataArrays/src/pooleddataarray.jl:127</a><li> PooledDataArray<i>{T}</i>(d::<b>Array{T,N}</b>,pool::<b>Array{T,1}</b>) at <a href=\"https://github.com/JuliaStats/DataArrays.jl/tree/46b24ffd5349cecc6c582afcf1a7efbd03d6cf93/src/pooleddataarray.jl#L129\" target=\"_blank\">/Users/DboyLiao/.julia/v0.3/DataArrays/src/pooleddataarray.jl:129</a><li> PooledDataArray<i>{T,R<:Integer}</i>(d::<b>Array{T,N}</b>,pool::<b>Array{T,1}</b>,r::<b>Type{R<:Integer}</b>) at <a href=\"https://github.com/JuliaStats/DataArrays.jl/tree/46b24ffd5349cecc6c582afcf1a7efbd03d6cf93/src/pooleddataarray.jl#L129\" target=\"_blank\">/Users/DboyLiao/.julia/v0.3/DataArrays/src/pooleddataarray.jl:129</a><li> PooledDataArray<i>{T,R<:Integer}</i>(d::<b>Array{T,N}</b>,r::<b>Type{R<:Integer}</b>) at <a href=\"https://github.com/JuliaStats/DataArrays.jl/tree/46b24ffd5349cecc6c582afcf1a7efbd03d6cf93/src/pooleddataarray.jl#L127\" target=\"_blank\">/Users/DboyLiao/.julia/v0.3/DataArrays/src/pooleddataarray.jl:127</a><li> xtab<i>{T}</i>(vals::<b>Array{T,N}</b>,counts::<b>Array{Int64,1}</b>)<li> DataArray<i>{T,N}</i>(d::<b>Array{T,N}</b>) at <a href=\"https://github.com/JuliaStats/DataArrays.jl/tree/46b24ffd5349cecc6c582afcf1a7efbd03d6cf93/src/dataarray.jl#L65\" target=\"_blank\">/Users/DboyLiao/.julia/v0.3/DataArrays/src/dataarray.jl:65</a><li> DataArray<i>{T,N}</i>(d::<b>Array{T,N}</b>,m::<b>BitArray{N}</b>) at <a href=\"https://github.com/JuliaStats/DataArrays.jl/tree/46b24ffd5349cecc6c582afcf1a7efbd03d6cf93/src/dataarray.jl#L65\" target=\"_blank\">/Users/DboyLiao/.julia/v0.3/DataArrays/src/dataarray.jl:65</a><li> DataArray(d::<b>Array{T,N}</b>,m::<b>Array{Bool,N}</b>) at <a href=\"https://github.com/JuliaStats/DataArrays.jl/tree/46b24ffd5349cecc6c582afcf1a7efbd03d6cf93/src/dataarray.jl#L84\" target=\"_blank\">/Users/DboyLiao/.julia/v0.3/DataArrays/src/dataarray.jl:84</a><li> fit_map(pri::<b>Beta</b>,G::<b>Type{Binomial}</b>,data::<b>(Int64,Array{T,N})</b>,w::<b>Array{T,N}</b>) at <a href=\"https://github.com/JuliaStats/Distributions.jl/tree/1db799f5cacc8083c9603a8f7ad47010e46d63c0/src/conjugates/beta_binom.jl#L19\" target=\"_blank\">/Users/DboyLiao/.julia/v0.3/Distributions/src/conjugates/beta_binom.jl:19</a><li> posterior(pri::<b>(Normal,Float64)</b>,G::<b>Type{Normal}</b>,x::<b>Array{T,N}</b>) at <a href=\"https://github.com/JuliaStats/Distributions.jl/tree/1db799f5cacc8083c9603a8f7ad47010e46d63c0/src/conjugates/normal.jl#L29\" target=\"_blank\">/Users/DboyLiao/.julia/v0.3/Distributions/src/conjugates/normal.jl:29</a><li> posterior(pri::<b>(Normal,Float64)</b>,G::<b>Type{Normal}</b>,x::<b>Array{T,N}</b>,w::<b>Array{Float64,N}</b>) at <a href=\"https://github.com/JuliaStats/Distributions.jl/tree/1db799f5cacc8083c9603a8f7ad47010e46d63c0/src/conjugates/normal.jl#L33\" target=\"_blank\">/Users/DboyLiao/.julia/v0.3/Distributions/src/conjugates/normal.jl:33</a><li> posterior(pri::<b>(Float64,InverseGamma)</b>,G::<b>Type{Normal}</b>,x::<b>Array{T,N}</b>) at <a href=\"https://github.com/JuliaStats/Distributions.jl/tree/1db799f5cacc8083c9603a8f7ad47010e46d63c0/src/conjugates/normal.jl#L57\" target=\"_blank\">/Users/DboyLiao/.julia/v0.3/Distributions/src/conjugates/normal.jl:57</a><li> posterior(pri::<b>(Float64,InverseGamma)</b>,G::<b>Type{Normal}</b>,x::<b>Array{T,N}</b>,w::<b>Array{Float64,N}</b>) at <a href=\"https://github.com/JuliaStats/Distributions.jl/tree/1db799f5cacc8083c9603a8f7ad47010e46d63c0/src/conjugates/normal.jl#L58\" target=\"_blank\">/Users/DboyLiao/.julia/v0.3/Distributions/src/conjugates/normal.jl:58</a><li> posterior(pri::<b>(Float64,Gamma)</b>,G::<b>Type{Normal}</b>,x::<b>Array{T,N}</b>) at <a href=\"https://github.com/JuliaStats/Distributions.jl/tree/1db799f5cacc8083c9603a8f7ad47010e46d63c0/src/conjugates/normal.jl#L81\" target=\"_blank\">/Users/DboyLiao/.julia/v0.3/Distributions/src/conjugates/normal.jl:81</a><li> posterior(pri::<b>(Float64,Gamma)</b>,G::<b>Type{Normal}</b>,x::<b>Array{T,N}</b>,w::<b>Array{Float64,N}</b>) at <a href=\"https://github.com/JuliaStats/Distributions.jl/tree/1db799f5cacc8083c9603a8f7ad47010e46d63c0/src/conjugates/normal.jl#L82\" target=\"_blank\">/Users/DboyLiao/.julia/v0.3/Distributions/src/conjugates/normal.jl:82</a><li> posterior_randmodel(pri::<b>Beta</b>,G::<b>Type{Binomial}</b>,data::<b>(Int64,Array{T,N})</b>,w::<b>Array{T,N}</b>) at <a href=\"https://github.com/JuliaStats/Distributions.jl/tree/1db799f5cacc8083c9603a8f7ad47010e46d63c0/src/conjugates/beta_binom.jl#L28\" target=\"_blank\">/Users/DboyLiao/.julia/v0.3/Distributions/src/conjugates/beta_binom.jl:28</a><li> fit_mle(::<b>Type{Laplace}</b>,x::<b>Array{T,N}</b>) at <a href=\"https://github.com/JuliaStats/Distributions.jl/tree/1db799f5cacc8083c9603a8f7ad47010e46d63c0/src/univariate/continuous/laplace.jl#L86\" target=\"_blank\">/Users/DboyLiao/.julia/v0.3/Distributions/src/univariate/continuous/laplace.jl:86</a><li> fit_mle<i>{D<:Distribution{Univariate,S<:ValueSupport}}</i>(dt::<b>Type{D<:Distribution{Univariate,S<:ValueSupport}}</b>,x::<b>Array{T,N}</b>) at <a href=\"https://github.com/JuliaStats/Distributions.jl/tree/1db799f5cacc8083c9603a8f7ad47010e46d63c0/src/genericfit.jl#L8\" target=\"_blank\">/Users/DboyLiao/.julia/v0.3/Distributions/src/genericfit.jl:8</a><li> fit_mle<i>{D<:Distribution{Univariate,S<:ValueSupport}}</i>(dt::<b>Type{D<:Distribution{Univariate,S<:ValueSupport}}</b>,x::<b>Array{T,N}</b>,w::<b>Array{T,N}</b>) at <a href=\"https://github.com/JuliaStats/Distributions.jl/tree/1db799f5cacc8083c9603a8f7ad47010e46d63c0/src/genericfit.jl#L9\" target=\"_blank\">/Users/DboyLiao/.julia/v0.3/Distributions/src/genericfit.jl:9</a><li> fit_mle<i>{D<:Distribution{Multivariate,S<:ValueSupport}}</i>(dt::<b>Type{D<:Distribution{Multivariate,S<:ValueSupport}}</b>,x::<b>Array{T,2}</b>,w::<b>Array{T,N}</b>) at <a href=\"https://github.com/JuliaStats/Distributions.jl/tree/1db799f5cacc8083c9603a8f7ad47010e46d63c0/src/genericfit.jl#L12\" target=\"_blank\">/Users/DboyLiao/.julia/v0.3/Distributions/src/genericfit.jl:12</a><li> suffstats(::<b>Type{Poisson}</b>,x::<b>Array{T,N}</b>) at <a href=\"https://github.com/JuliaStats/Distributions.jl/tree/1db799f5cacc8083c9603a8f7ad47010e46d63c0/src/univariate/discrete/poisson.jl#L89\" target=\"_blank\">/Users/DboyLiao/.julia/v0.3/Distributions/src/univariate/discrete/poisson.jl:89</a><li> suffstats(::<b>Type{Poisson}</b>,x::<b>Array{T,N}</b>,w::<b>Array{Float64,N}</b>) at <a href=\"https://github.com/JuliaStats/Distributions.jl/tree/1db799f5cacc8083c9603a8f7ad47010e46d63c0/src/univariate/discrete/poisson.jl#L92\" target=\"_blank\">/Users/DboyLiao/.julia/v0.3/Distributions/src/univariate/discrete/poisson.jl:92</a><li> suffstats(::<b>Type{Exponential}</b>,x::<b>Array{T,N}</b>) at <a href=\"https://github.com/JuliaStats/Distributions.jl/tree/1db799f5cacc8083c9603a8f7ad47010e46d63c0/src/univariate/continuous/exponential.jl#L78\" target=\"_blank\">/Users/DboyLiao/.julia/v0.3/Distributions/src/univariate/continuous/exponential.jl:78</a><li> suffstats(::<b>Type{Exponential}</b>,x::<b>Array{T,N}</b>,w::<b>Array{T,N}</b>) at <a href=\"https://github.com/JuliaStats/Distributions.jl/tree/1db799f5cacc8083c9603a8f7ad47010e46d63c0/src/univariate/continuous/exponential.jl#L79\" target=\"_blank\">/Users/DboyLiao/.julia/v0.3/Distributions/src/univariate/continuous/exponential.jl:79</a><li> suffstats(::<b>Type{Gamma}</b>,x::<b>Array{T,N}</b>) at <a href=\"https://github.com/JuliaStats/Distributions.jl/tree/1db799f5cacc8083c9603a8f7ad47010e46d63c0/src/univariate/continuous/gamma.jl#L70\" target=\"_blank\">/Users/DboyLiao/.julia/v0.3/Distributions/src/univariate/continuous/gamma.jl:70</a><li> suffstats(::<b>Type{Gamma}</b>,x::<b>Array{T,N}</b>,w::<b>Array{Float64,N}</b>) at <a href=\"https://github.com/JuliaStats/Distributions.jl/tree/1db799f5cacc8083c9603a8f7ad47010e46d63c0/src/univariate/continuous/gamma.jl#L80\" target=\"_blank\">/Users/DboyLiao/.julia/v0.3/Distributions/src/univariate/continuous/gamma.jl:80</a><li> posterior_rand!(r::<b>Array{T,N}</b>,pri,ss::<b>SufficientStats</b>) at <a href=\"https://github.com/JuliaStats/Distributions.jl/tree/1db799f5cacc8083c9603a8f7ad47010e46d63c0/src/conjugates/fallbacks.jl#L14\" target=\"_blank\">/Users/DboyLiao/.julia/v0.3/Distributions/src/conjugates/fallbacks.jl:14</a><li> posterior_rand!(r::<b>Array{T,N}</b>,pri,G::<b>Union(IncompleteDistribution,Type{D<:Distribution{F<:VariateForm,S<:ValueSupport}})</b>,x) at <a href=\"https://github.com/JuliaStats/Distributions.jl/tree/1db799f5cacc8083c9603a8f7ad47010e46d63c0/src/conjugates/fallbacks.jl#L15\" target=\"_blank\">/Users/DboyLiao/.julia/v0.3/Distributions/src/conjugates/fallbacks.jl:15</a><li> posterior_rand!(r::<b>Array{T,N}</b>,pri,G::<b>Union(IncompleteDistribution,Type{D<:Distribution{F<:VariateForm,S<:ValueSupport}})</b>,x,w) at <a href=\"https://github.com/JuliaStats/Distributions.jl/tree/1db799f5cacc8083c9603a8f7ad47010e46d63c0/src/conjugates/fallbacks.jl#L16\" target=\"_blank\">/Users/DboyLiao/.julia/v0.3/Distributions/src/conjugates/fallbacks.jl:16</a><li> nsamples<i>{D<:Distribution{Univariate,S<:ValueSupport}}</i>(e::<b>Estimator{D<:Distribution{Univariate,S<:ValueSupport}}</b>,x::<b>Array{T,N}</b>) at <a href=\"https://github.com/JuliaStats/Distributions.jl/tree/1db799f5cacc8083c9603a8f7ad47010e46d63c0/src/estimators.jl#L8\" target=\"_blank\">/Users/DboyLiao/.julia/v0.3/Distributions/src/estimators.jl:8</a><li> posterior_canon(pri::<b>(Normal,Float64)</b>,G::<b>Type{Normal}</b>,x::<b>Array{T,N}</b>) at <a href=\"https://github.com/JuliaStats/Distributions.jl/tree/1db799f5cacc8083c9603a8f7ad47010e46d63c0/src/conjugates/normal.jl#L19\" target=\"_blank\">/Users/DboyLiao/.julia/v0.3/Distributions/src/conjugates/normal.jl:19</a><li> posterior_canon(pri::<b>(Normal,Float64)</b>,G::<b>Type{Normal}</b>,x::<b>Array{T,N}</b>,w::<b>Array{Float64,N}</b>) at <a href=\"https://github.com/JuliaStats/Distributions.jl/tree/1db799f5cacc8083c9603a8f7ad47010e46d63c0/src/conjugates/normal.jl#L24\" target=\"_blank\">/Users/DboyLiao/.julia/v0.3/Distributions/src/conjugates/normal.jl:24</a><li> posterior_canon(pri::<b>(Float64,InverseGamma)</b>,G::<b>Type{Normal}</b>,x::<b>Array{T,N}</b>) at <a href=\"https://github.com/JuliaStats/Distributions.jl/tree/1db799f5cacc8083c9603a8f7ad47010e46d63c0/src/conjugates/normal.jl#L48\" target=\"_blank\">/Users/DboyLiao/.julia/v0.3/Distributions/src/conjugates/normal.jl:48</a><li> posterior_canon(pri::<b>(Float64,InverseGamma)</b>,G::<b>Type{Normal}</b>,x::<b>Array{T,N}</b>,w::<b>Array{Float64,N}</b>) at <a href=\"https://github.com/JuliaStats/Distributions.jl/tree/1db799f5cacc8083c9603a8f7ad47010e46d63c0/src/conjugates/normal.jl#L53\" target=\"_blank\">/Users/DboyLiao/.julia/v0.3/Distributions/src/conjugates/normal.jl:53</a><li> posterior_canon(pri::<b>(Float64,Gamma)</b>,G::<b>Type{Normal}</b>,x::<b>Array{T,N}</b>) at <a href=\"https://github.com/JuliaStats/Distributions.jl/tree/1db799f5cacc8083c9603a8f7ad47010e46d63c0/src/conjugates/normal.jl#L72\" target=\"_blank\">/Users/DboyLiao/.julia/v0.3/Distributions/src/conjugates/normal.jl:72</a><li> posterior_canon(pri::<b>(Float64,Gamma)</b>,G::<b>Type{Normal}</b>,x::<b>Array{T,N}</b>,w::<b>Array{Float64,N}</b>) at <a href=\"https://github.com/JuliaStats/Distributions.jl/tree/1db799f5cacc8083c9603a8f7ad47010e46d63c0/src/conjugates/normal.jl#L77\" target=\"_blank\">/Users/DboyLiao/.julia/v0.3/Distributions/src/conjugates/normal.jl:77</a><li> optimize(d::<b>TwiceDifferentiableFunction</b>,initial_x::<b>Array{T,N}</b>) at <a href=\"https://github.com/JuliaOpt/Optim.jl/tree/5d31facb01f19f78ff60f47b459a89f3af7ea014/src/optimize.jl#L13\" target=\"_blank\">/Users/DboyLiao/.julia/v0.3/Optim/src/optimize.jl:13</a><li> optimize(d::<b>DifferentiableFunction</b>,initial_x::<b>Array{T,N}</b>) at <a href=\"https://github.com/JuliaOpt/Optim.jl/tree/5d31facb01f19f78ff60f47b459a89f3af7ea014/src/optimize.jl#L106\" target=\"_blank\">/Users/DboyLiao/.julia/v0.3/Optim/src/optimize.jl:106</a><li> optimize(f::<b>Function</b>,g!::<b>Function</b>,h!::<b>Function</b>,initial_x::<b>Array{T,N}</b>) at <a href=\"https://github.com/JuliaOpt/Optim.jl/tree/5d31facb01f19f78ff60f47b459a89f3af7ea014/src/optimize.jl#L190\" target=\"_blank\">/Users/DboyLiao/.julia/v0.3/Optim/src/optimize.jl:190</a><li> optimize(f::<b>Function</b>,g!::<b>Function</b>,initial_x::<b>Array{T,N}</b>) at <a href=\"https://github.com/JuliaOpt/Optim.jl/tree/5d31facb01f19f78ff60f47b459a89f3af7ea014/src/optimize.jl#L305\" target=\"_blank\">/Users/DboyLiao/.julia/v0.3/Optim/src/optimize.jl:305</a><li> optimize(f::<b>Function</b>,initial_x::<b>Array{T,N}</b>) at <a href=\"https://github.com/JuliaOpt/Optim.jl/tree/5d31facb01f19f78ff60f47b459a89f3af7ea014/src/optimize.jl#L408\" target=\"_blank\">/Users/DboyLiao/.julia/v0.3/Optim/src/optimize.jl:408</a><li> plot(fs::<b>Array{T,N}</b>,a,b,elements::<b>Union(Function,Element,DataType,Theme)...</b>) at <a href=\"https://github.com/dcjones/Gadfly.jl/tree/62573a371edbfb79a55284d3e40ed0137fa3b7f8/src/poetry.jl#L20\" target=\"_blank\">/Users/DboyLiao/.julia/v0.3/Gadfly/src/poetry.jl:20</a><li> layer(fs::<b>Array{T,N}</b>,a,b) at <a href=\"https://github.com/dcjones/Gadfly.jl/tree/62573a371edbfb79a55284d3e40ed0137fa3b7f8/src/poetry.jl#L101\" target=\"_blank\">/Users/DboyLiao/.julia/v0.3/Gadfly/src/poetry.jl:101</a><li> Message(a::<b>Array{T,N}</b>) at <a href=\"https://github.com/JuliaLang/ZMQ.jl/tree/e5038a7bdb9fdbd336a4dca0492cc4f52b88fda5/src/ZMQ.jl#L406\" target=\"_blank\">/Users/DboyLiao/.julia/v0.3/ZMQ/src/ZMQ.jl:406</a><li> convert(::<b>Type{Ptr{None}}</b>,a::<b>Array{T,N}</b>) at <a href=\"https://github.com/JuliaLang/julia/tree/0c24dca65c031820b91721139f0291068086955c/base/pointer.jl#L23\" target=\"_blank\">pointer.jl:23</a><li> convert<i>{T}</i>(::<b>Type{Ptr{T}}</b>,a::<b>Array{T,N}</b>) at <a href=\"https://github.com/JuliaLang/julia/tree/0c24dca65c031820b91721139f0291068086955c/base/pointer.jl#L22\" target=\"_blank\">pointer.jl:22</a><li> convert<i>{T,n}</i>(::<b>Type{Array{T,n}}</b>,x::<b>Array{T,n}</b>) at <a href=\"https://github.com/JuliaLang/julia/tree/0c24dca65c031820b91721139f0291068086955c/base/array.jl#L218\" target=\"_blank\">array.jl:218</a><li> convert<i>{T,n,S}</i>(::<b>Type{Array{T,n}}</b>,x::<b>Array{S,n}</b>) at <a href=\"https://github.com/JuliaLang/julia/tree/0c24dca65c031820b91721139f0291068086955c/base/array.jl#L220\" target=\"_blank\">array.jl:220</a><li> convert<i>{T,n}</i>(::<b>Type{Array{T,N}}</b>,x::<b>Array{T,n}</b>) at <a href=\"https://github.com/JuliaLang/julia/tree/0c24dca65c031820b91721139f0291068086955c/base/array.jl#L217\" target=\"_blank\">array.jl:217</a><li> convert<i>{T,n,S}</i>(::<b>Type{Array{T,N}}</b>,x::<b>Array{S,n}</b>) at <a href=\"https://github.com/JuliaLang/julia/tree/0c24dca65c031820b91721139f0291068086955c/base/array.jl#L219\" target=\"_blank\">array.jl:219</a><li> convert<i>{TS,TA,N}</i>(::<b>Type{SharedArray{TS,N}}</b>,A::<b>Array{TA,N}</b>) at <a href=\"https://github.com/JuliaLang/julia/tree/0c24dca65c031820b91721139f0291068086955c/base/sharedarray.jl#L142\" target=\"_blank\">sharedarray.jl:142</a><li> convert<i>{T}</i>(::<b>Type{SharedArray{T,N}}</b>,A::<b>Array{T,N}</b>) at <a href=\"https://github.com/JuliaLang/julia/tree/0c24dca65c031820b91721139f0291068086955c/base/sharedarray.jl#L141\" target=\"_blank\">sharedarray.jl:141</a><li> convert(::<b>Type{SharedArray{T,N}}</b>,A::<b>Array{T,N}</b>) at <a href=\"https://github.com/JuliaLang/julia/tree/0c24dca65c031820b91721139f0291068086955c/base/sharedarray.jl#L140\" target=\"_blank\">sharedarray.jl:140</a><li> convert<i>{T}</i>(p::<b>Type{Ptr{T}}</b>,a::<b>Array{T,N}</b>) at <a href=\"https://github.com/JuliaLang/julia/tree/0c24dca65c031820b91721139f0291068086955c/base/deprecated.jl#L26\" target=\"_blank\">deprecated.jl:26</a><li> unsafe_copy!<i>{T}</i>(dest::<b>Array{T,N}</b>,dsto,src::<b>Array{T,N}</b>,so,N) at <a href=\"https://github.com/JuliaLang/julia/tree/0c24dca65c031820b91721139f0291068086955c/base/array.jl#L40\" target=\"_blank\">array.jl:40</a><li> sizeof(a::<b>Array{T,N}</b>) at <a href=\"https://github.com/JuliaLang/julia/tree/0c24dca65c031820b91721139f0291068086955c/base/array.jl#L23\" target=\"_blank\">array.jl:23</a><li> flipdim<i>{T}</i>(A::<b>Array{T,N}</b>,d::<b>Integer</b>) at <a href=\"https://github.com/JuliaLang/julia/tree/0c24dca65c031820b91721139f0291068086955c/base/array.jl#L877\" target=\"_blank\">array.jl:877</a><li> +(A::<b>SparseMatrixCSC{Tv,Ti<:Integer}</b>,B::<b>Array{T,N}</b>) at <a href=\"https://github.com/JuliaLang/julia/tree/0c24dca65c031820b91721139f0291068086955c/base/sparse/sparsematrix.jl#L632\" target=\"_blank\">sparse/sparsematrix.jl:632</a><li> +(A::<b>Array{T,N}</b>,B::<b>SparseMatrixCSC{Tv,Ti<:Integer}</b>) at <a href=\"https://github.com/JuliaLang/julia/tree/0c24dca65c031820b91721139f0291068086955c/base/sparse/sparsematrix.jl#L634\" target=\"_blank\">sparse/sparsematrix.jl:634</a><li> write(to::<b>IOBuffer</b>,a::<b>Array{T,N}</b>) at <a href=\"https://github.com/JuliaLang/julia/tree/0c24dca65c031820b91721139f0291068086955c/base/iobuffer.jl#L262\" target=\"_blank\">iobuffer.jl:262</a><li> write<i>{T}</i>(s::<b>IOStream</b>,a::<b>Array{T,N}</b>) at <a href=\"https://github.com/JuliaLang/julia/tree/0c24dca65c031820b91721139f0291068086955c/base/iostream.jl#L148\" target=\"_blank\">iostream.jl:148</a><li> write<i>{T}</i>(s::<b>AsyncStream</b>,a::<b>Array{T,N}</b>) at <a href=\"https://github.com/JuliaLang/julia/tree/0c24dca65c031820b91721139f0291068086955c/base/stream.jl#L782\" target=\"_blank\">stream.jl:782</a><li> write<i>{T}</i>(f::<b>File</b>,a::<b>Array{T,N}</b>) at <a href=\"https://github.com/JuliaLang/julia/tree/0c24dca65c031820b91721139f0291068086955c/base/fs.jl#L189\" target=\"_blank\">fs.jl:189</a><li> write<i>{T,N}</i>(t::<b>UnixTerminal</b>,a::<b>Array{T,N}</b>) at <a href=\"https://github.com/JuliaLang/julia/tree/0c24dca65c031820b91721139f0291068086955c/base/Terminals.jl#L185\" target=\"_blank\">Terminals.jl:185</a><li> write<i>{T}</i>(s::<b>GZipStream</b>,a::<b>Array{T,N}</b>) at <a href=\"https://github.com/JuliaLang/GZip.jl/tree/d2f662589c1beea06276504e48363053488a7e61/src/GZip.jl#L441\" target=\"_blank\">/Users/DboyLiao/.julia/v0.3/GZip/src/GZip.jl:441</a><li> size(a::<b>Array{T,N}</b>) at <a href=\"https://github.com/JuliaLang/julia/tree/0c24dca65c031820b91721139f0291068086955c/base/array.jl#L18\" target=\"_blank\">array.jl:18</a><li> size(a::<b>Array{T,N}</b>,d) at <a href=\"https://github.com/JuliaLang/julia/tree/0c24dca65c031820b91721139f0291068086955c/base/array.jl#L19\" target=\"_blank\">array.jl:19</a><li> repeat<i>{T}</i>(A::<b>Array{T,N}</b>) at <a href=\"https://github.com/JuliaLang/julia/tree/0c24dca65c031820b91721139f0291068086955c/base/abstractarray.jl#L1092\" target=\"_blank\">abstractarray.jl:1092</a><li> permutedims!<i>{T,N}</i>(P::<b>Array{T,N}</b>,B::<b>Union(DenseArray{T,N},SubArray{T,N,A<:DenseArray{T,N},I<:(Union(Range{Int64},Int64)...,)})</b>,perm) at <a href=\"https://github.com/JuliaLang/julia/tree/0c24dca65c031820b91721139f0291068086955c/base/cartesian.jl#L100\" target=\"_blank\">cartesian.jl:100</a><li> dot(x::<b>Array{T,N}</b>,y::<b>Array{T,N}</b>) at <a href=\"https://github.com/JuliaOpt/Optim.jl/tree/5d31facb01f19f78ff60f47b459a89f3af7ea014/src/linesearch/hz_linesearch.jl#L5\" target=\"_blank\">/Users/DboyLiao/.julia/v0.3/Optim/src/linesearch/hz_linesearch.jl:5</a><li> length(a::<b>Array{T,N}</b>) at <a href=\"https://github.com/JuliaLang/julia/tree/0c24dca65c031820b91721139f0291068086955c/base/array.jl#L21\" target=\"_blank\">array.jl:21</a><li> rand!<i>{T}</i>(A::<b>Array{T,N}</b>) at <a href=\"https://github.com/JuliaLang/julia/tree/0c24dca65c031820b91721139f0291068086955c/base/random.jl#L129\" target=\"_blank\">random.jl:129</a><li> xdump(fn::<b>Function</b>,io::<b>IO</b>,x::<b>Array{T,N}</b>,n::<b>Int64</b>,indent) at <a href=\"https://github.com/JuliaLang/julia/tree/0c24dca65c031820b91721139f0291068086955c/base/show.jl#L718\" target=\"_blank\">show.jl:718</a><li> read<i>{T,N}</i>(t::<b>UnixTerminal</b>,x::<b>Array{T,N}</b>) at <a href=\"https://github.com/JuliaLang/julia/tree/0c24dca65c031820b91721139f0291068086955c/base/Terminals.jl#L189\" target=\"_blank\">Terminals.jl:189</a><li> read(from::<b>IOBuffer</b>,a::<b>Array{T,N}</b>) at <a href=\"https://github.com/JuliaLang/julia/tree/0c24dca65c031820b91721139f0291068086955c/base/deprecated.jl#L26\" target=\"_blank\">deprecated.jl:26</a><li> read(s::<b>IOStream</b>,a::<b>Array{T,N}</b>) at <a href=\"https://github.com/JuliaLang/julia/tree/0c24dca65c031820b91721139f0291068086955c/base/deprecated.jl#L26\" target=\"_blank\">deprecated.jl:26</a><li> read(this::<b>AsyncStream</b>,a::<b>Array{T,N}</b>) at <a href=\"https://github.com/JuliaLang/julia/tree/0c24dca65c031820b91721139f0291068086955c/base/deprecated.jl#L26\" target=\"_blank\">deprecated.jl:26</a><li> read(f::<b>File</b>,a::<b>Array{T,N}</b>,nel) at <a href=\"https://github.com/JuliaLang/julia/tree/0c24dca65c031820b91721139f0291068086955c/base/deprecated.jl#L26\" target=\"_blank\">deprecated.jl:26</a><li> read(f::<b>File</b>,a::<b>Array{T,N}</b>) at <a href=\"https://github.com/JuliaLang/julia/tree/0c24dca65c031820b91721139f0291068086955c/base/deprecated.jl#L26\" target=\"_blank\">deprecated.jl:26</a><li> read<i>{T}</i>(s::<b>GZipStream</b>,a::<b>Array{T,N}</b>) at <a href=\"https://github.com/JuliaLang/GZip.jl/tree/d2f662589c1beea06276504e48363053488a7e61/src/GZip.jl#L344\" target=\"_blank\">/Users/DboyLiao/.julia/v0.3/GZip/src/GZip.jl:344</a><li> read(s::<b>IO</b>,a::<b>Array{T,N}</b>) at <a href=\"https://github.com/JuliaLang/julia/tree/0c24dca65c031820b91721139f0291068086955c/base/deprecated.jl#L26\" target=\"_blank\">deprecated.jl:26</a><li> .*(A::<b>SparseMatrixCSC{Tv,Ti<:Integer}</b>,B::<b>Array{T,N}</b>) at <a href=\"https://github.com/JuliaLang/julia/tree/0c24dca65c031820b91721139f0291068086955c/base/sparse/sparsematrix.jl#L643\" target=\"_blank\">sparse/sparsematrix.jl:643</a><li> .*(A::<b>Array{T,N}</b>,B::<b>SparseMatrixCSC{Tv,Ti<:Integer}</b>) at <a href=\"https://github.com/JuliaLang/julia/tree/0c24dca65c031820b91721139f0291068086955c/base/sparse/sparsematrix.jl#L644\" target=\"_blank\">sparse/sparsematrix.jl:644</a><li> setindex!<i>{T}</i>(A::<b>Array{T,N}</b>,X::<b>Array{T,N}</b>,I::<b>UnitRange{Int64}</b>) at <a href=\"https://github.com/JuliaLang/julia/tree/0c24dca65c031820b91721139f0291068086955c/base/array.jl#L329\" target=\"_blank\">array.jl:329</a><li> setindex!(a::<b>Array{T,N}</b>,d::<b>DArray{T,N,A}</b>,I::<b>UnitRange{Int64}...</b>) at <a href=\"https://github.com/JuliaLang/julia/tree/0c24dca65c031820b91721139f0291068086955c/base/darray.jl#L254\" target=\"_blank\">darray.jl:254</a><li> setindex!(a::<b>Array{T,N}</b>,s::<b>SubArray{T,N,D<:DArray{T,N,A},I<:(Union(Range{Int64},Int64)...,)}</b>,I::<b>UnitRange{Int64}...</b>) at <a href=\"https://github.com/JuliaLang/julia/tree/0c24dca65c031820b91721139f0291068086955c/base/darray.jl#L265\" target=\"_blank\">darray.jl:265</a><li> setindex!(a::<b>Array{T,N}</b>,d::<b>Union(SubArray{T,N,D<:DArray{T,N,A},I<:(Union(Range{Int64},Int64)...,)},DArray{T,N,A})</b>,I::<b>Union(Int64,UnitRange{Int64})...</b>) at <a href=\"https://github.com/JuliaLang/julia/tree/0c24dca65c031820b91721139f0291068086955c/base/darray.jl#L296\" target=\"_blank\">darray.jl:296</a><li> setindex!(A::<b>Array{T,N}</b>,X::<b>AbstractArray{T,N}</b>,I::<b>AbstractArray{Bool,1}</b>) at <a href=\"https://github.com/JuliaLang/julia/tree/0c24dca65c031820b91721139f0291068086955c/base/array.jl#L382\" target=\"_blank\">array.jl:382</a><li> setindex!<i>{T<:Real}</i>(A::<b>Array{T,N}</b>,X::<b>AbstractArray{T,N}</b>,I::<b>AbstractArray{T<:Real,1}</b>) at <a href=\"https://github.com/JuliaLang/julia/tree/0c24dca65c031820b91721139f0291068086955c/base/array.jl#L337\" target=\"_blank\">array.jl:337</a><li> setindex!(A::<b>Array{T,N}</b>,x,I::<b>AbstractArray{Bool,1}</b>) at <a href=\"https://github.com/JuliaLang/julia/tree/0c24dca65c031820b91721139f0291068086955c/base/array.jl#L384\" target=\"_blank\">array.jl:384</a><li> setindex!<i>{T<:Real}</i>(A::<b>Array{T,N}</b>,x,I::<b>AbstractArray{T<:Real,1}</b>) at <a href=\"https://github.com/JuliaLang/julia/tree/0c24dca65c031820b91721139f0291068086955c/base/array.jl#L322\" target=\"_blank\">array.jl:322</a><li> setindex!(A::<b>Array{T,N}</b>,X::<b>AbstractArray{T,N}</b>,I::<b>AbstractArray{Bool,N}</b>) at <a href=\"https://github.com/JuliaLang/julia/tree/0c24dca65c031820b91721139f0291068086955c/base/array.jl#L383\" target=\"_blank\">array.jl:383</a><li> setindex!<i>{T}</i>(A::<b>Array{T,N}</b>,x) at <a href=\"https://github.com/JuliaLang/julia/tree/0c24dca65c031820b91721139f0291068086955c/base/array.jl#L305\" target=\"_blank\">array.jl:305</a><li> setindex!<i>{T}</i>(A::<b>Array{T,N}</b>,x,i0::<b>Real</b>) at <a href=\"https://github.com/JuliaLang/julia/tree/0c24dca65c031820b91721139f0291068086955c/base/array.jl#L307\" target=\"_blank\">array.jl:307</a><li> setindex!<i>{T}</i>(A::<b>Array{T,N}</b>,x,i0::<b>Real</b>,i1::<b>Real</b>) at <a href=\"https://github.com/JuliaLang/julia/tree/0c24dca65c031820b91721139f0291068086955c/base/array.jl#L308\" target=\"_blank\">array.jl:308</a><li> setindex!<i>{T}</i>(A::<b>Array{T,N}</b>,x,i0::<b>Real</b>,i1::<b>Real</b>,i2::<b>Real</b>) at <a href=\"https://github.com/JuliaLang/julia/tree/0c24dca65c031820b91721139f0291068086955c/base/array.jl#L310\" target=\"_blank\">array.jl:310</a><li> setindex!<i>{T}</i>(A::<b>Array{T,N}</b>,x,i0::<b>Real</b>,i1::<b>Real</b>,i2::<b>Real</b>,i3::<b>Real</b>) at <a href=\"https://github.com/JuliaLang/julia/tree/0c24dca65c031820b91721139f0291068086955c/base/array.jl#L312\" target=\"_blank\">array.jl:312</a><li> setindex!<i>{T}</i>(A::<b>Array{T,N}</b>,x,i0::<b>Real</b>,i1::<b>Real</b>,i2::<b>Real</b>,i3::<b>Real</b>,i4::<b>Real</b>) at <a href=\"https://github.com/JuliaLang/julia/tree/0c24dca65c031820b91721139f0291068086955c/base/array.jl#L314\" target=\"_blank\">array.jl:314</a><li> setindex!<i>{T}</i>(A::<b>Array{T,N}</b>,x,i0::<b>Real</b>,i1::<b>Real</b>,i2::<b>Real</b>,i3::<b>Real</b>,i4::<b>Real</b>,i5::<b>Real</b>) at <a href=\"https://github.com/JuliaLang/julia/tree/0c24dca65c031820b91721139f0291068086955c/base/array.jl#L316\" target=\"_blank\">array.jl:316</a><li> setindex!<i>{T}</i>(A::<b>Array{T,N}</b>,x,i0::<b>Real</b>,i1::<b>Real</b>,i2::<b>Real</b>,i3::<b>Real</b>,i4::<b>Real</b>,i5::<b>Real</b>,I::<b>Real...</b>) at <a href=\"https://github.com/JuliaLang/julia/tree/0c24dca65c031820b91721139f0291068086955c/base/array.jl#L318\" target=\"_blank\">array.jl:318</a><li> setindex!(A::<b>Array{T,N}</b>,x,I::<b>AbstractArray{Bool,N}</b>) at <a href=\"https://github.com/JuliaLang/julia/tree/0c24dca65c031820b91721139f0291068086955c/base/array.jl#L385\" target=\"_blank\">array.jl:385</a><li> setindex!(A::<b>Array{T,N}</b>,x,J_1::<b>Union(Real,AbstractArray{T,N})</b>) at <a href=\"https://github.com/JuliaLang/julia/tree/0c24dca65c031820b91721139f0291068086955c/base/multidimensional.jl#L61\" target=\"_blank\">multidimensional.jl:61</a><li> setindex!(A::<b>Array{T,N}</b>,x,J_1::<b>Union(Real,AbstractArray{T,N})</b>,J_2::<b>Union(Real,AbstractArray{T,N})</b>) at <a href=\"https://github.com/JuliaLang/julia/tree/0c24dca65c031820b91721139f0291068086955c/base/multidimensional.jl#L61\" target=\"_blank\">multidimensional.jl:61</a><li> setindex!(A::<b>Array{T,N}</b>,x,J_1::<b>Union(Real,AbstractArray{T,N})</b>,J_2::<b>Union(Real,AbstractArray{T,N})</b>,J_3::<b>Union(Real,AbstractArray{T,N})</b>) at <a href=\"https://github.com/JuliaLang/julia/tree/0c24dca65c031820b91721139f0291068086955c/base/multidimensional.jl#L61\" target=\"_blank\">multidimensional.jl:61</a><li> setindex!(A::<b>Array{T,N}</b>,x,J_1::<b>Union(Real,AbstractArray{T,N})</b>,J_2::<b>Union(Real,AbstractArray{T,N})</b>,J_3::<b>Union(Real,AbstractArray{T,N})</b>,J_4::<b>Union(Real,AbstractArray{T,N})</b>) at <a href=\"https://github.com/JuliaLang/julia/tree/0c24dca65c031820b91721139f0291068086955c/base/multidimensional.jl#L61\" target=\"_blank\">multidimensional.jl:61</a><li> setindex!(A::<b>Array{T,N}</b>,x,J::<b>Union(AbstractArray{T,N},Real)...</b>) at <a href=\"https://github.com/JuliaLang/julia/tree/0c24dca65c031820b91721139f0291068086955c/base/cartesian.jl#L100\" target=\"_blank\">cartesian.jl:100</a><li> sub<i>{T,N}</i>(A::<b>Array{T,N}</b>,i::<b>(Range{Int64},)</b>) at <a href=\"https://github.com/JuliaLang/julia/tree/0c24dca65c031820b91721139f0291068086955c/base/subarray.jl#L52\" target=\"_blank\">subarray.jl:52</a><li> .\\(A::<b>SparseMatrixCSC{Tv,Ti<:Integer}</b>,B::<b>Array{T,N}</b>) at <a href=\"https://github.com/JuliaLang/julia/tree/0c24dca65c031820b91721139f0291068086955c/base/sparse/sparsematrix.jl#L654\" target=\"_blank\">sparse/sparsematrix.jl:654</a><li> .\\(A::<b>Array{T,N}</b>,B::<b>SparseMatrixCSC{Tv,Ti<:Integer}</b>) at <a href=\"https://github.com/JuliaLang/julia/tree/0c24dca65c031820b91721139f0291068086955c/base/sparse/sparsematrix.jl#L655\" target=\"_blank\">sparse/sparsematrix.jl:655</a><li> ./(A::<b>SparseMatrixCSC{Tv,Ti<:Integer}</b>,B::<b>Array{T,N}</b>) at <a href=\"https://github.com/JuliaLang/julia/tree/0c24dca65c031820b91721139f0291068086955c/base/sparse/sparsematrix.jl#L648\" target=\"_blank\">sparse/sparsematrix.jl:648</a><li> ./(A::<b>Array{T,N}</b>,B::<b>SparseMatrixCSC{Tv,Ti<:Integer}</b>) at <a href=\"https://github.com/JuliaLang/julia/tree/0c24dca65c031820b91721139f0291068086955c/base/sparse/sparsematrix.jl#L649\" target=\"_blank\">sparse/sparsematrix.jl:649</a><li> msync<i>{T}</i>(A::<b>Array{T,N}</b>) at <a href=\"https://github.com/JuliaLang/julia/tree/0c24dca65c031820b91721139f0291068086955c/base/mmap.jl#L6\" target=\"_blank\">mmap.jl:6</a><li> serialize(s,a::<b>Array{T,N}</b>) at <a href=\"https://github.com/JuliaLang/julia/tree/0c24dca65c031820b91721139f0291068086955c/base/serialize.jl#L119\" target=\"_blank\">serialize.jl:119</a><li> similar(a::<b>Array{T,N}</b>,T,dims::<b>(Int64...,)</b>) at <a href=\"https://github.com/JuliaLang/julia/tree/0c24dca65c031820b91721139f0291068086955c/base/array.jl#L107\" target=\"_blank\">array.jl:107</a><li> copy!<i>{T}</i>(dest::<b>Array{T,N}</b>,dsto::<b>Integer</b>,src::<b>Array{T,N}</b>,so::<b>Integer</b>,N::<b>Integer</b>) at <a href=\"https://github.com/JuliaLang/julia/tree/0c24dca65c031820b91721139f0291068086955c/base/array.jl#L51\" target=\"_blank\">array.jl:51</a><li> copy!<i>{T}</i>(dest::<b>Array{T,N}</b>,src::<b>Array{T,N}</b>) at <a href=\"https://github.com/JuliaLang/julia/tree/0c24dca65c031820b91721139f0291068086955c/base/array.jl#L57\" target=\"_blank\">array.jl:57</a><li> copy!(S::<b>SharedArray{T,N}</b>,A::<b>Array{T,N}</b>) at <a href=\"https://github.com/JuliaLang/julia/tree/0c24dca65c031820b91721139f0291068086955c/base/sharedarray.jl#L290\" target=\"_blank\">sharedarray.jl:290</a><li> -(A::<b>Array{T,N}</b>,B::<b>SparseMatrixCSC{Tv,Ti<:Integer}</b>) at <a href=\"https://github.com/JuliaLang/julia/tree/0c24dca65c031820b91721139f0291068086955c/base/sparse/sparsematrix.jl#L639\" target=\"_blank\">sparse/sparsematrix.jl:639</a><li> -(A::<b>SparseMatrixCSC{Tv,Ti<:Integer}</b>,B::<b>Array{T,N}</b>) at <a href=\"https://github.com/JuliaLang/julia/tree/0c24dca65c031820b91721139f0291068086955c/base/sparse/sparsematrix.jl#L637\" target=\"_blank\">sparse/sparsematrix.jl:637</a><li> slicedim(A::<b>Array{T,N}</b>,d::<b>Integer</b>,i::<b>Integer</b>) at <a href=\"https://github.com/JuliaLang/julia/tree/0c24dca65c031820b91721139f0291068086955c/base/array.jl#L846\" target=\"_blank\">array.jl:846</a><li> read!(from::<b>IOBuffer</b>,a::<b>Array{T,N}</b>) at <a href=\"https://github.com/JuliaLang/julia/tree/0c24dca65c031820b91721139f0291068086955c/base/iobuffer.jl#L55\" target=\"_blank\">iobuffer.jl:55</a><li> read!<i>{T}</i>(s::<b>IOStream</b>,a::<b>Array{T,N}</b>) at <a href=\"https://github.com/JuliaLang/julia/tree/0c24dca65c031820b91721139f0291068086955c/base/iostream.jl#L192\" target=\"_blank\">iostream.jl:192</a><li> read!<i>{T}</i>(s::<b>AsyncStream</b>,a::<b>Array{T,N}</b>) at <a href=\"https://github.com/JuliaLang/julia/tree/0c24dca65c031820b91721139f0291068086955c/base/stream.jl#L657\" target=\"_blank\">stream.jl:657</a><li> read!<i>{T}</i>(f::<b>File</b>,a::<b>Array{T,N}</b>) at <a href=\"https://github.com/JuliaLang/julia/tree/0c24dca65c031820b91721139f0291068086955c/base/fs.jl#L215\" target=\"_blank\">fs.jl:215</a><li> read!<i>{T}</i>(f::<b>File</b>,a::<b>Array{T,N}</b>,nel) at <a href=\"https://github.com/JuliaLang/julia/tree/0c24dca65c031820b91721139f0291068086955c/base/fs.jl#L215\" target=\"_blank\">fs.jl:215</a><li> read!<i>{T}</i>(s::<b>IO</b>,a::<b>Array{T,N}</b>) at <a href=\"https://github.com/JuliaLang/julia/tree/0c24dca65c031820b91721139f0291068086955c/base/io.jl#L126\" target=\"_blank\">io.jl:126</a><li> getindex(a::<b>Array{T,N}</b>) at <a href=\"https://github.com/JuliaLang/julia/tree/0c24dca65c031820b91721139f0291068086955c/base/array.jl#L244\" target=\"_blank\">array.jl:244</a><li> getindex(A::<b>Array{T,N}</b>,i0::<b>Real</b>) at <a href=\"https://github.com/JuliaLang/julia/tree/0c24dca65c031820b91721139f0291068086955c/base/array.jl#L246\" target=\"_blank\">array.jl:246</a><li> getindex(A::<b>Array{T,N}</b>,i0::<b>Real</b>,i1::<b>Real</b>) at <a href=\"https://github.com/JuliaLang/julia/tree/0c24dca65c031820b91721139f0291068086955c/base/array.jl#L247\" target=\"_blank\">array.jl:247</a><li> getindex(A::<b>Array{T,N}</b>,i0::<b>Real</b>,i1::<b>Real</b>,i2::<b>Real</b>) at <a href=\"https://github.com/JuliaLang/julia/tree/0c24dca65c031820b91721139f0291068086955c/base/array.jl#L248\" target=\"_blank\">array.jl:248</a><li> getindex(A::<b>Array{T,N}</b>,i0::<b>Real</b>,i1::<b>Real</b>,i2::<b>Real</b>,i3::<b>Real</b>) at <a href=\"https://github.com/JuliaLang/julia/tree/0c24dca65c031820b91721139f0291068086955c/base/array.jl#L250\" target=\"_blank\">array.jl:250</a><li> getindex(A::<b>Array{T,N}</b>,i0::<b>Real</b>,i1::<b>Real</b>,i2::<b>Real</b>,i3::<b>Real</b>,i4::<b>Real</b>) at <a href=\"https://github.com/JuliaLang/julia/tree/0c24dca65c031820b91721139f0291068086955c/base/array.jl#L252\" target=\"_blank\">array.jl:252</a><li> getindex(A::<b>Array{T,N}</b>,i0::<b>Real</b>,i1::<b>Real</b>,i2::<b>Real</b>,i3::<b>Real</b>,i4::<b>Real</b>,i5::<b>Real</b>) at <a href=\"https://github.com/JuliaLang/julia/tree/0c24dca65c031820b91721139f0291068086955c/base/array.jl#L254\" target=\"_blank\">array.jl:254</a><li> getindex(A::<b>Array{T,N}</b>,i0::<b>Real</b>,i1::<b>Real</b>,i2::<b>Real</b>,i3::<b>Real</b>,i4::<b>Real</b>,i5::<b>Real</b>,I::<b>Real...</b>) at <a href=\"https://github.com/JuliaLang/julia/tree/0c24dca65c031820b91721139f0291068086955c/base/array.jl#L257\" target=\"_blank\">array.jl:257</a><li> getindex(A::<b>Array{T,N}</b>,I::<b>UnitRange{Int64}</b>) at <a href=\"https://github.com/JuliaLang/julia/tree/0c24dca65c031820b91721139f0291068086955c/base/array.jl#L262\" target=\"_blank\">array.jl:262</a><li> getindex(A::<b>Array{T,N}</b>,I::<b>AbstractArray{Bool,1}</b>) at <a href=\"https://github.com/JuliaLang/julia/tree/0c24dca65c031820b91721139f0291068086955c/base/array.jl#L300\" target=\"_blank\">array.jl:300</a><li> getindex<i>{T<:Real}</i>(A::<b>Array{T,N}</b>,I::<b>AbstractArray{T<:Real,1}</b>) at <a href=\"https://github.com/JuliaLang/julia/tree/0c24dca65c031820b91721139f0291068086955c/base/array.jl#L271\" target=\"_blank\">array.jl:271</a><li> getindex(A::<b>Array{T,N}</b>,I::<b>AbstractArray{Bool,N}</b>) at <a href=\"https://github.com/JuliaLang/julia/tree/0c24dca65c031820b91721139f0291068086955c/base/array.jl#L301\" target=\"_blank\">array.jl:301</a><li> getindex(A::<b>Array{T,N}</b>,I_1::<b>Union(Real,AbstractArray{T,1})</b>) at <a href=\"https://github.com/JuliaLang/julia/tree/0c24dca65c031820b91721139f0291068086955c/base/multidimensional.jl#L49\" target=\"_blank\">multidimensional.jl:49</a><li> getindex(A::<b>Array{T,N}</b>,I_1::<b>Union(Real,AbstractArray{T,1})</b>,I_2::<b>Union(Real,AbstractArray{T,1})</b>) at <a href=\"https://github.com/JuliaLang/julia/tree/0c24dca65c031820b91721139f0291068086955c/base/multidimensional.jl#L49\" target=\"_blank\">multidimensional.jl:49</a><li> getindex(A::<b>Array{T,N}</b>,I_1::<b>Union(Real,AbstractArray{T,1})</b>,I_2::<b>Union(Real,AbstractArray{T,1})</b>,I_3::<b>Union(Real,AbstractArray{T,1})</b>) at <a href=\"https://github.com/JuliaLang/julia/tree/0c24dca65c031820b91721139f0291068086955c/base/multidimensional.jl#L49\" target=\"_blank\">multidimensional.jl:49</a><li> getindex(A::<b>Array{T,N}</b>,I_1::<b>Union(Real,AbstractArray{T,1})</b>,I_2::<b>Union(Real,AbstractArray{T,1})</b>,I_3::<b>Union(Real,AbstractArray{T,1})</b>,I_4::<b>Union(Real,AbstractArray{T,1})</b>) at <a href=\"https://github.com/JuliaLang/julia/tree/0c24dca65c031820b91721139f0291068086955c/base/multidimensional.jl#L49\" target=\"_blank\">multidimensional.jl:49</a><li> getindex(A::<b>Array{T,N}</b>,I::<b>Union(Real,AbstractArray{T,1})...</b>) at <a href=\"https://github.com/JuliaLang/julia/tree/0c24dca65c031820b91721139f0291068086955c/base/multidimensional.jl#L49\" target=\"_blank\">multidimensional.jl:49</a><li> reshape<i>{T,N}</i>(a::<b>Array{T,N}</b>,dims::<b>NTuple{N,Int64}</b>) at <a href=\"https://github.com/JuliaLang/julia/tree/0c24dca65c031820b91721139f0291068086955c/base/array.jl#L88\" target=\"_blank\">array.jl:88</a><li> reshape<i>{T,N}</i>(a::<b>Array{T,N}</b>,dims::<b>NTuple{N,Int64}</b>) at <a href=\"https://github.com/JuliaLang/julia/tree/0c24dca65c031820b91721139f0291068086955c/base/array.jl#L99\" target=\"_blank\">array.jl:99</a><li> reinterpret<i>{T,S}</i>(::<b>Type{T}</b>,a::<b>Array{S,N}</b>) at <a href=\"https://github.com/JuliaLang/julia/tree/0c24dca65c031820b91721139f0291068086955c/base/array.jl#L66\" target=\"_blank\">array.jl:66</a><li> reinterpret<i>{T,S,N}</i>(::<b>Type{T}</b>,a::<b>Array{S,N}</b>,dims::<b>NTuple{N,Int64}</b>) at <a href=\"https://github.com/JuliaLang/julia/tree/0c24dca65c031820b91721139f0291068086955c/base/array.jl#L73\" target=\"_blank\">array.jl:73</a><li> .^(A::<b>SparseMatrixCSC{Tv,Ti<:Integer}</b>,B::<b>Array{T,N}</b>) at <a href=\"https://github.com/JuliaLang/julia/tree/0c24dca65c031820b91721139f0291068086955c/base/sparse/sparsematrix.jl#L662\" target=\"_blank\">sparse/sparsematrix.jl:662</a><li> .^(A::<b>Array{T,N}</b>,B::<b>SparseMatrixCSC{Tv,Ti<:Integer}</b>) at <a href=\"https://github.com/JuliaLang/julia/tree/0c24dca65c031820b91721139f0291068086955c/base/sparse/sparsematrix.jl#L663\" target=\"_blank\">sparse/sparsematrix.jl:663</a><li> restrictb<i>{T}</i>(A::<b>Array{T,N}</b>,dim::<b>Integer</b>,scale::<b>Real</b>) at <a href=\"https://github.com/timholy/Grid.jl/tree/2c7a96ce2563065748f2c5178cdb77e2182bf311/src/restrict_prolong.jl#L197\" target=\"_blank\">/Users/DboyLiao/.julia/v0.3/Grid/src/restrict_prolong.jl:197</a><li> restrictb<i>{T}</i>(A::<b>Array{T,N}</b>,dim::<b>Integer</b>) at <a href=\"https://github.com/timholy/Grid.jl/tree/2c7a96ce2563065748f2c5178cdb77e2182bf311/src/restrict_prolong.jl#L228\" target=\"_blank\">/Users/DboyLiao/.julia/v0.3/Grid/src/restrict_prolong.jl:228</a><li> restrictb(A::<b>Array{T,N}</b>,flag::<b>Union(Array{Bool,N},BitArray{N})</b>,scale::<b>Real</b>) at <a href=\"https://github.com/timholy/Grid.jl/tree/2c7a96ce2563065748f2c5178cdb77e2182bf311/src/restrict_prolong.jl#L230\" target=\"_blank\">/Users/DboyLiao/.julia/v0.3/Grid/src/restrict_prolong.jl:230</a><li> restrictb<i>{T}</i>(A::<b>Array{T,N}</b>,flag::<b>Union(Array{Bool,N},BitArray{N})</b>) at <a href=\"https://github.com/timholy/Grid.jl/tree/2c7a96ce2563065748f2c5178cdb77e2182bf311/src/restrict_prolong.jl#L233\" target=\"_blank\">/Users/DboyLiao/.julia/v0.3/Grid/src/restrict_prolong.jl:233</a><li> prolongb<i>{T}</i>(A::<b>Array{T,N}</b>,dim::<b>Integer</b>,len::<b>Integer</b>) at <a href=\"https://github.com/timholy/Grid.jl/tree/2c7a96ce2563065748f2c5178cdb77e2182bf311/src/restrict_prolong.jl#L235\" target=\"_blank\">/Users/DboyLiao/.julia/v0.3/Grid/src/restrict_prolong.jl:235</a><li> prolongb(A::<b>Array{T,N}</b>,sz::<b>Array{Int64,N}</b>) at <a href=\"https://github.com/timholy/Grid.jl/tree/2c7a96ce2563065748f2c5178cdb77e2182bf311/src/restrict_prolong.jl#L272\" target=\"_blank\">/Users/DboyLiao/.julia/v0.3/Grid/src/restrict_prolong.jl:272</a><li> restrict_extrap(A::<b>Array{T,N}</b>,dim::<b>Integer</b>,scale::<b>Real</b>) at <a href=\"https://github.com/timholy/Grid.jl/tree/2c7a96ce2563065748f2c5178cdb77e2182bf311/src/restrict_prolong.jl#L291\" target=\"_blank\">/Users/DboyLiao/.julia/v0.3/Grid/src/restrict_prolong.jl:291</a><li> restrict_extrap<i>{T}</i>(A::<b>Array{T,N}</b>,dim::<b>Integer</b>) at <a href=\"https://github.com/timholy/Grid.jl/tree/2c7a96ce2563065748f2c5178cdb77e2182bf311/src/restrict_prolong.jl#L315\" target=\"_blank\">/Users/DboyLiao/.julia/v0.3/Grid/src/restrict_prolong.jl:315</a><li> restrict_extrap(A::<b>Array{T,N}</b>,flag::<b>Union(Array{Bool,N},BitArray{N})</b>,scale::<b>Real</b>) at <a href=\"https://github.com/timholy/Grid.jl/tree/2c7a96ce2563065748f2c5178cdb77e2182bf311/src/restrict_prolong.jl#L317\" target=\"_blank\">/Users/DboyLiao/.julia/v0.3/Grid/src/restrict_prolong.jl:317</a><li> restrict_extrap<i>{T}</i>(A::<b>Array{T,N}</b>,flag::<b>Union(Array{Bool,N},BitArray{N})</b>) at <a href=\"https://github.com/timholy/Grid.jl/tree/2c7a96ce2563065748f2c5178cdb77e2182bf311/src/restrict_prolong.jl#L320\" target=\"_blank\">/Users/DboyLiao/.julia/v0.3/Grid/src/restrict_prolong.jl:320</a><li> InterpIrregular<i>{IT<:InterpType}</i>(grid,A::<b>Array{T,N}</b>,f::<b>Number</b>,::<b>Type{IT<:InterpType}</b>) at <a href=\"https://github.com/timholy/Grid.jl/tree/2c7a96ce2563065748f2c5178cdb77e2182bf311/src/interp.jl#L347\" target=\"_blank\">/Users/DboyLiao/.julia/v0.3/Grid/src/interp.jl:347</a><li> prolong<i>{T}</i>(A::<b>Array{T,N}</b>,dim::<b>Integer</b>,len::<b>Integer</b>) at <a href=\"https://github.com/timholy/Grid.jl/tree/2c7a96ce2563065748f2c5178cdb77e2182bf311/src/restrict_prolong.jl#L51\" target=\"_blank\">/Users/DboyLiao/.julia/v0.3/Grid/src/restrict_prolong.jl:51</a><li> prolong(A::<b>Array{T,N}</b>,sz::<b>Array{Int64,N}</b>) at <a href=\"https://github.com/timholy/Grid.jl/tree/2c7a96ce2563065748f2c5178cdb77e2182bf311/src/restrict_prolong.jl#L88\" target=\"_blank\">/Users/DboyLiao/.julia/v0.3/Grid/src/restrict_prolong.jl:88</a><li> restrict<i>{T}</i>(A::<b>Array{T,N}</b>,dim::<b>Integer</b>,scale::<b>Real</b>) at <a href=\"https://github.com/timholy/Grid.jl/tree/2c7a96ce2563065748f2c5178cdb77e2182bf311/src/restrict_prolong.jl#L143\" target=\"_blank\">/Users/DboyLiao/.julia/v0.3/Grid/src/restrict_prolong.jl:143</a><li> restrict<i>{T}</i>(A::<b>Array{T,N}</b>,dim::<b>Integer</b>) at <a href=\"https://github.com/timholy/Grid.jl/tree/2c7a96ce2563065748f2c5178cdb77e2182bf311/src/restrict_prolong.jl#L180\" target=\"_blank\">/Users/DboyLiao/.julia/v0.3/Grid/src/restrict_prolong.jl:180</a><li> restrict(A::<b>Array{T,N}</b>,flag::<b>Union(Array{Bool,N},BitArray{N})</b>,scale::<b>Real</b>) at <a href=\"https://github.com/timholy/Grid.jl/tree/2c7a96ce2563065748f2c5178cdb77e2182bf311/src/restrict_prolong.jl#L182\" target=\"_blank\">/Users/DboyLiao/.julia/v0.3/Grid/src/restrict_prolong.jl:182</a><li> restrict<i>{T}</i>(A::<b>Array{T,N}</b>,flag::<b>Union(Array{Bool,N},BitArray{N})</b>) at <a href=\"https://github.com/timholy/Grid.jl/tree/2c7a96ce2563065748f2c5178cdb77e2182bf311/src/restrict_prolong.jl#L185\" target=\"_blank\">/Users/DboyLiao/.julia/v0.3/Grid/src/restrict_prolong.jl:185</a><li> filledges!(A::<b>Array{T,N}</b>,val) at <a href=\"https://github.com/timholy/Grid.jl/tree/2c7a96ce2563065748f2c5178cdb77e2182bf311/src/utilities.jl#L23\" target=\"_blank\">/Users/DboyLiao/.julia/v0.3/Grid/src/utilities.jl:23</a><li> interp_invert!<i>{BC<:BoundaryCondition}</i>(A::<b>Array{T,N}</b>,::<b>Type{BC<:BoundaryCondition}</b>,::<b>Type{InterpNearest}</b>,dimlist) at <a href=\"https://github.com/timholy/Grid.jl/tree/2c7a96ce2563065748f2c5178cdb77e2182bf311/src/interp.jl#L868\" target=\"_blank\">/Users/DboyLiao/.julia/v0.3/Grid/src/interp.jl:868</a><li> interp_invert!<i>{BC<:BoundaryCondition}</i>(A::<b>Array{T,N}</b>,::<b>Type{BC<:BoundaryCondition}</b>,::<b>Type{InterpLinear}</b>,dimlist) at <a href=\"https://github.com/timholy/Grid.jl/tree/2c7a96ce2563065748f2c5178cdb77e2182bf311/src/interp.jl#L869\" target=\"_blank\">/Users/DboyLiao/.julia/v0.3/Grid/src/interp.jl:869</a><li> interp_invert!<i>{BC<:BoundaryCondition}</i>(A::<b>Array{T,N}</b>,::<b>Type{BC<:BoundaryCondition}</b>,::<b>Type{InterpQuadratic}</b>,dimlist) at <a href=\"https://github.com/timholy/Grid.jl/tree/2c7a96ce2563065748f2c5178cdb77e2182bf311/src/interp.jl#L871\" target=\"_blank\">/Users/DboyLiao/.julia/v0.3/Grid/src/interp.jl:871</a><li> interp_invert!<i>{BC<:BoundaryCondition}</i>(A::<b>Array{T,N}</b>,::<b>Type{BC<:BoundaryCondition}</b>,::<b>Type{InterpCubic}</b>,dimlist) at <a href=\"https://github.com/timholy/Grid.jl/tree/2c7a96ce2563065748f2c5178cdb77e2182bf311/src/interp.jl#L890\" target=\"_blank\">/Users/DboyLiao/.julia/v0.3/Grid/src/interp.jl:890</a><li> interp_invert!<i>{BC<:Union(BoundaryCondition,Number)}</i>(A::<b>Array{T,N}</b>,::<b>Type{BC<:Union(BoundaryCondition,Number)}</b>,IT) at <a href=\"https://github.com/timholy/Grid.jl/tree/2c7a96ce2563065748f2c5178cdb77e2182bf311/src/interp.jl#L909\" target=\"_blank\">/Users/DboyLiao/.julia/v0.3/Grid/src/interp.jl:909</a><li> interp_invert!<i>{BC<:Union(BoundaryCondition,Number)}</i>(A::<b>Array{T,N}</b>,::<b>Type{BC<:Union(BoundaryCondition,Number)}</b>,IT,dimlist...) at <a href=\"https://github.com/timholy/Grid.jl/tree/2c7a96ce2563065748f2c5178cdb77e2182bf311/src/interp.jl#L910\" target=\"_blank\">/Users/DboyLiao/.julia/v0.3/Grid/src/interp.jl:910</a><li> InterpGridCoefs<i>{IT<:InterpType}</i>(A::<b>Array{T,N}</b>,::<b>Type{IT<:InterpType}</b>) at <a href=\"https://github.com/timholy/Grid.jl/tree/2c7a96ce2563065748f2c5178cdb77e2182bf311/src/interp.jl#L569\" target=\"_blank\">/Users/DboyLiao/.julia/v0.3/Grid/src/interp.jl:569</a><li> PooledDataArray<i>{T}</i>(d::<b>Array{T,N}</b>) at <a href=\"https://github.com/JuliaStats/DataArrays.jl/tree/46b24ffd5349cecc6c582afcf1a7efbd03d6cf93/src/pooleddataarray.jl#L127\" target=\"_blank\">/Users/DboyLiao/.julia/v0.3/DataArrays/src/pooleddataarray.jl:127</a><li> PooledDataArray<i>{T}</i>(d::<b>Array{T,N}</b>,pool::<b>Array{T,1}</b>) at <a href=\"https://github.com/JuliaStats/DataArrays.jl/tree/46b24ffd5349cecc6c582afcf1a7efbd03d6cf93/src/pooleddataarray.jl#L129\" target=\"_blank\">/Users/DboyLiao/.julia/v0.3/DataArrays/src/pooleddataarray.jl:129</a><li> PooledDataArray<i>{T,R<:Integer}</i>(d::<b>Array{T,N}</b>,pool::<b>Array{T,1}</b>,r::<b>Type{R<:Integer}</b>) at <a href=\"https://github.com/JuliaStats/DataArrays.jl/tree/46b24ffd5349cecc6c582afcf1a7efbd03d6cf93/src/pooleddataarray.jl#L129\" target=\"_blank\">/Users/DboyLiao/.julia/v0.3/DataArrays/src/pooleddataarray.jl:129</a><li> PooledDataArray<i>{T,R<:Integer}</i>(d::<b>Array{T,N}</b>,r::<b>Type{R<:Integer}</b>) at <a href=\"https://github.com/JuliaStats/DataArrays.jl/tree/46b24ffd5349cecc6c582afcf1a7efbd03d6cf93/src/pooleddataarray.jl#L127\" target=\"_blank\">/Users/DboyLiao/.julia/v0.3/DataArrays/src/pooleddataarray.jl:127</a><li> xtab<i>{T}</i>(vals::<b>Array{T,N}</b>,counts::<b>Array{Int64,1}</b>)<li> DataArray<i>{T,N}</i>(d::<b>Array{T,N}</b>) at <a href=\"https://github.com/JuliaStats/DataArrays.jl/tree/46b24ffd5349cecc6c582afcf1a7efbd03d6cf93/src/dataarray.jl#L65\" target=\"_blank\">/Users/DboyLiao/.julia/v0.3/DataArrays/src/dataarray.jl:65</a><li> DataArray<i>{T,N}</i>(d::<b>Array{T,N}</b>,m::<b>BitArray{N}</b>) at <a href=\"https://github.com/JuliaStats/DataArrays.jl/tree/46b24ffd5349cecc6c582afcf1a7efbd03d6cf93/src/dataarray.jl#L65\" target=\"_blank\">/Users/DboyLiao/.julia/v0.3/DataArrays/src/dataarray.jl:65</a><li> DataArray(d::<b>Array{T,N}</b>,m::<b>Array{Bool,N}</b>) at <a href=\"https://github.com/JuliaStats/DataArrays.jl/tree/46b24ffd5349cecc6c582afcf1a7efbd03d6cf93/src/dataarray.jl#L84\" target=\"_blank\">/Users/DboyLiao/.julia/v0.3/DataArrays/src/dataarray.jl:84</a><li> iscontiguous(a::<b>Array{T,N}</b>) at <a href=\"https://github.com/JuliaLang/ArrayViews.jl/tree/e172b5da6b90dfa0d44471a3ff3df19b487d7f30/src/ArrayViews.jl#L111\" target=\"_blank\">/Users/DboyLiao/.julia/v0.3/ArrayViews/src/ArrayViews.jl:111</a><li> view(a::<b>Array{T,N}</b>) at <a href=\"https://github.com/JuliaLang/ArrayViews.jl/tree/e172b5da6b90dfa0d44471a3ff3df19b487d7f30/src/ArrayViews.jl#L626\" target=\"_blank\">/Users/DboyLiao/.julia/v0.3/ArrayViews/src/ArrayViews.jl:626</a><li> contiguous_view<i>{T,N}</i>(arr::<b>Array{T,N}</b>,offset::<b>Int64</b>,shp::<b>NTuple{N,Int64}</b>) at <a href=\"https://github.com/JuliaLang/ArrayViews.jl/tree/e172b5da6b90dfa0d44471a3ff3df19b487d7f30/src/ArrayViews.jl#L51\" target=\"_blank\">/Users/DboyLiao/.julia/v0.3/ArrayViews/src/ArrayViews.jl:51</a><li> contiguous_view(arr::<b>Array{T,N}</b>,shp::<b>(Int64...,)</b>) at <a href=\"https://github.com/JuliaLang/ArrayViews.jl/tree/e172b5da6b90dfa0d44471a3ff3df19b487d7f30/src/ArrayViews.jl#L54\" target=\"_blank\">/Users/DboyLiao/.julia/v0.3/ArrayViews/src/ArrayViews.jl:54</a><li> strided_view<i>{T,N,M}</i>(arr::<b>Array{T,N}</b>,offset::<b>Int64</b>,shp::<b>NTuple{N,Int64}</b>,::<b>Type{ContRank{M}}</b>,strides::<b>NTuple{N,Int64}</b>) at <a href=\"https://github.com/JuliaLang/ArrayViews.jl/tree/e172b5da6b90dfa0d44471a3ff3df19b487d7f30/src/ArrayViews.jl#L71\" target=\"_blank\">/Users/DboyLiao/.julia/v0.3/ArrayViews/src/ArrayViews.jl:71</a><li> strided_view<i>{T,N,M}</i>(arr::<b>Array{T,N}</b>,shp::<b>NTuple{N,Int64}</b>,::<b>Type{ContRank{M}}</b>,strides::<b>NTuple{N,Int64}</b>) at <a href=\"https://github.com/JuliaLang/ArrayViews.jl/tree/e172b5da6b90dfa0d44471a3ff3df19b487d7f30/src/ArrayViews.jl#L77\" target=\"_blank\">/Users/DboyLiao/.julia/v0.3/ArrayViews/src/ArrayViews.jl:77</a><li> view(a::<b>Array{T,N}</b>) at <a href=\"https://github.com/JuliaLang/ArrayViews.jl/tree/e172b5da6b90dfa0d44471a3ff3df19b487d7f30/src/ArrayViews.jl#L626\" target=\"_blank\">/Users/DboyLiao/.julia/v0.3/ArrayViews/src/ArrayViews.jl:626</a><li> write(to::<b>IOBuffer</b>,a::<b>Array{T,N}</b>) at <a href=\"https://github.com/JuliaLang/julia/tree/0c24dca65c031820b91721139f0291068086955c/base/iobuffer.jl#L262\" target=\"_blank\">iobuffer.jl:262</a><li> write<i>{T}</i>(s::<b>IOStream</b>,a::<b>Array{T,N}</b>) at <a href=\"https://github.com/JuliaLang/julia/tree/0c24dca65c031820b91721139f0291068086955c/base/iostream.jl#L148\" target=\"_blank\">iostream.jl:148</a><li> write<i>{T}</i>(s::<b>AsyncStream</b>,a::<b>Array{T,N}</b>) at <a href=\"https://github.com/JuliaLang/julia/tree/0c24dca65c031820b91721139f0291068086955c/base/stream.jl#L782\" target=\"_blank\">stream.jl:782</a><li> write<i>{T}</i>(f::<b>File</b>,a::<b>Array{T,N}</b>) at <a href=\"https://github.com/JuliaLang/julia/tree/0c24dca65c031820b91721139f0291068086955c/base/fs.jl#L189\" target=\"_blank\">fs.jl:189</a><li> write<i>{T,N}</i>(t::<b>UnixTerminal</b>,a::<b>Array{T,N}</b>) at <a href=\"https://github.com/JuliaLang/julia/tree/0c24dca65c031820b91721139f0291068086955c/base/Terminals.jl#L185\" target=\"_blank\">Terminals.jl:185</a><li> write<i>{T}</i>(s::<b>GZipStream</b>,a::<b>Array{T,N}</b>) at <a href=\"https://github.com/JuliaLang/GZip.jl/tree/d2f662589c1beea06276504e48363053488a7e61/src/GZip.jl#L441\" target=\"_blank\">/Users/DboyLiao/.julia/v0.3/GZip/src/GZip.jl:441</a><li> read<i>{T,N}</i>(t::<b>UnixTerminal</b>,x::<b>Array{T,N}</b>) at <a href=\"https://github.com/JuliaLang/julia/tree/0c24dca65c031820b91721139f0291068086955c/base/Terminals.jl#L189\" target=\"_blank\">Terminals.jl:189</a><li> read(from::<b>IOBuffer</b>,a::<b>Array{T,N}</b>) at <a href=\"https://github.com/JuliaLang/julia/tree/0c24dca65c031820b91721139f0291068086955c/base/deprecated.jl#L26\" target=\"_blank\">deprecated.jl:26</a><li> read(s::<b>IOStream</b>,a::<b>Array{T,N}</b>) at <a href=\"https://github.com/JuliaLang/julia/tree/0c24dca65c031820b91721139f0291068086955c/base/deprecated.jl#L26\" target=\"_blank\">deprecated.jl:26</a><li> read(this::<b>AsyncStream</b>,a::<b>Array{T,N}</b>) at <a href=\"https://github.com/JuliaLang/julia/tree/0c24dca65c031820b91721139f0291068086955c/base/deprecated.jl#L26\" target=\"_blank\">deprecated.jl:26</a><li> read(f::<b>File</b>,a::<b>Array{T,N}</b>,nel) at <a href=\"https://github.com/JuliaLang/julia/tree/0c24dca65c031820b91721139f0291068086955c/base/deprecated.jl#L26\" target=\"_blank\">deprecated.jl:26</a><li> read(f::<b>File</b>,a::<b>Array{T,N}</b>) at <a href=\"https://github.com/JuliaLang/julia/tree/0c24dca65c031820b91721139f0291068086955c/base/deprecated.jl#L26\" target=\"_blank\">deprecated.jl:26</a><li> read<i>{T}</i>(s::<b>GZipStream</b>,a::<b>Array{T,N}</b>) at <a href=\"https://github.com/JuliaLang/GZip.jl/tree/d2f662589c1beea06276504e48363053488a7e61/src/GZip.jl#L344\" target=\"_blank\">/Users/DboyLiao/.julia/v0.3/GZip/src/GZip.jl:344</a><li> read(s::<b>IO</b>,a::<b>Array{T,N}</b>) at <a href=\"https://github.com/JuliaLang/julia/tree/0c24dca65c031820b91721139f0291068086955c/base/deprecated.jl#L26\" target=\"_blank\">deprecated.jl:26</a></ul>"
      ],
      "text/plain": [
       "204-element Array{Method,1}:\n",
       " view(a::Array{T,N}) at /Users/DboyLiao/.julia/v0.3/ArrayViews/src/ArrayViews.jl:626                                                                        \n",
       " PooledDataArray{T}(d::Array{T,N}) at /Users/DboyLiao/.julia/v0.3/DataArrays/src/pooleddataarray.jl:127                                                     \n",
       " PooledDataArray{T}(d::Array{T,N},pool::Array{T,1}) at /Users/DboyLiao/.julia/v0.3/DataArrays/src/pooleddataarray.jl:129                                    \n",
       " PooledDataArray{T,R<:Integer}(d::Array{T,N},pool::Array{T,1},r::Type{R<:Integer}) at /Users/DboyLiao/.julia/v0.3/DataArrays/src/pooleddataarray.jl:129     \n",
       " PooledDataArray{T,R<:Integer}(d::Array{T,N},r::Type{R<:Integer}) at /Users/DboyLiao/.julia/v0.3/DataArrays/src/pooleddataarray.jl:127                      \n",
       " xtab{T}(vals::Array{T,N},counts::Array{Int64,1})                                                                                                           \n",
       " DataArray{T,N}(d::Array{T,N}) at /Users/DboyLiao/.julia/v0.3/DataArrays/src/dataarray.jl:65                                                                \n",
       " DataArray{T,N}(d::Array{T,N},m::BitArray{N}) at /Users/DboyLiao/.julia/v0.3/DataArrays/src/dataarray.jl:65                                                 \n",
       " DataArray(d::Array{T,N},m::Array{Bool,N}) at /Users/DboyLiao/.julia/v0.3/DataArrays/src/dataarray.jl:84                                                    \n",
       " fit_map(pri::Beta,G::Type{Binomial},data::(Int64,Array{T,N}),w::Array{T,N}) at /Users/DboyLiao/.julia/v0.3/Distributions/src/conjugates/beta_binom.jl:19   \n",
       " posterior(pri::(Normal,Float64),G::Type{Normal},x::Array{T,N}) at /Users/DboyLiao/.julia/v0.3/Distributions/src/conjugates/normal.jl:29                    \n",
       " posterior(pri::(Normal,Float64),G::Type{Normal},x::Array{T,N},w::Array{Float64,N}) at /Users/DboyLiao/.julia/v0.3/Distributions/src/conjugates/normal.jl:33\n",
       " posterior(pri::(Float64,InverseGamma),G::Type{Normal},x::Array{T,N}) at /Users/DboyLiao/.julia/v0.3/Distributions/src/conjugates/normal.jl:57              \n",
       " ⋮                                                                                                                                                          \n",
       " write{T}(s::AsyncStream,a::Array{T,N}) at stream.jl:782                                                                                                    \n",
       " write{T}(f::File,a::Array{T,N}) at fs.jl:189                                                                                                               \n",
       " write{T,N}(t::UnixTerminal,a::Array{T,N}) at Terminals.jl:185                                                                                              \n",
       " write{T}(s::GZipStream,a::Array{T,N}) at /Users/DboyLiao/.julia/v0.3/GZip/src/GZip.jl:441                                                                  \n",
       " read{T,N}(t::UnixTerminal,x::Array{T,N}) at Terminals.jl:189                                                                                               \n",
       " read(from::IOBuffer,a::Array{T,N}) at deprecated.jl:26                                                                                                     \n",
       " read(s::IOStream,a::Array{T,N}) at deprecated.jl:26                                                                                                        \n",
       " read(this::AsyncStream,a::Array{T,N}) at deprecated.jl:26                                                                                                  \n",
       " read(f::File,a::Array{T,N},nel) at deprecated.jl:26                                                                                                        \n",
       " read(f::File,a::Array{T,N}) at deprecated.jl:26                                                                                                            \n",
       " read{T}(s::GZipStream,a::Array{T,N}) at /Users/DboyLiao/.julia/v0.3/GZip/src/GZip.jl:344                                                                   \n",
       " read(s::IO,a::Array{T,N}) at deprecated.jl:26                                                                                                              "
      ]
     },
     "execution_count": 25,
     "metadata": {},
     "output_type": "execute_result"
    }
   ],
   "source": [
    "methodswith(Array)"
   ]
  },
  {
   "cell_type": "code",
   "execution_count": 11,
   "metadata": {
    "collapsed": false
   },
   "outputs": [
    {
     "data": {
      "text/plain": [
       "sum2 (generic function with 1 method)"
      ]
     },
     "execution_count": 11,
     "metadata": {},
     "output_type": "execute_result"
    }
   ],
   "source": [
    "function sum1(N::Int)\n",
    "    total = 0 # A integer\n",
    "    \n",
    "    for i = 1:N\n",
    "        total += i/2 # i/2 will be promoted to float, which makes total has to be promoted to float, too.\n",
    "    end\n",
    "    return total\n",
    "end\n",
    "\n",
    "function sum2(N::Int)\n",
    "    total = 0.0 # Initialize total as float.\n",
    "    \n",
    "    for i = 1:N\n",
    "        total += i/2\n",
    "    end\n",
    "    return total\n",
    "end"
   ]
  },
  {
   "cell_type": "code",
   "execution_count": 17,
   "metadata": {
    "collapsed": false
   },
   "outputs": [
    {
     "name": "stdout",
     "output_type": "stream",
     "text": [
      "elapsed time: 0.086144781 seconds (32000080 bytes allocated, 55.17% gc time)\n"
     ]
    },
    {
     "data": {
      "text/plain": [
       "2.5000025e11"
      ]
     },
     "execution_count": 17,
     "metadata": {},
     "output_type": "execute_result"
    }
   ],
   "source": [
    "@time sum1(1000000)"
   ]
  },
  {
   "cell_type": "code",
   "execution_count": 18,
   "metadata": {
    "collapsed": false
   },
   "outputs": [
    {
     "name": "stdout",
     "output_type": "stream",
     "text": [
      "elapsed time: 0.001042188 seconds (96 bytes allocated)\n"
     ]
    },
    {
     "data": {
      "text/plain": [
       "2.5000025e11"
      ]
     },
     "execution_count": 18,
     "metadata": {},
     "output_type": "execute_result"
    }
   ],
   "source": [
    "@time sum2(1000000)"
   ]
  },
  {
   "cell_type": "code",
   "execution_count": 19,
   "metadata": {
    "collapsed": false
   },
   "outputs": [],
   "source": [
    "using PyCall"
   ]
  },
  {
   "cell_type": "code",
   "execution_count": 21,
   "metadata": {
    "collapsed": false
   },
   "outputs": [],
   "source": [
    "@pyimport requests"
   ]
  },
  {
   "cell_type": "code",
   "execution_count": 22,
   "metadata": {
    "collapsed": false
   },
   "outputs": [
    {
     "data": {
      "text/plain": [
       "PyObject <requests.sessions.Session object at 0x1123f5250>"
      ]
     },
     "execution_count": 22,
     "metadata": {},
     "output_type": "execute_result"
    }
   ],
   "source": [
    "s = requests.session()"
   ]
  },
  {
   "cell_type": "code",
   "execution_count": 30,
   "metadata": {
    "collapsed": false
   },
   "outputs": [
    {
     "data": {
      "text/plain": [
       "false"
      ]
     },
     "execution_count": 30,
     "metadata": {},
     "output_type": "execute_result"
    }
   ],
   "source": [
    "ismatch(r\"^\\s*(?:#|$)\", \"\\$ a comment\")"
   ]
  },
  {
   "cell_type": "code",
   "execution_count": 33,
   "metadata": {
    "collapsed": false
   },
   "outputs": [
    {
     "data": {
      "text/plain": [
       "RegexMatch(\"3\")"
      ]
     },
     "execution_count": 33,
     "metadata": {},
     "output_type": "execute_result"
    }
   ],
   "source": [
    "m = match(r\"[0-9]\",\"aaaa1aaaa2aaaa3\",11)"
   ]
  },
  {
   "cell_type": "code",
   "execution_count": 36,
   "metadata": {
    "collapsed": false
   },
   "outputs": [
    {
     "data": {
      "text/plain": [
       "0-element Array{Union(Nothing,SubString{UTF8String}),1}"
      ]
     },
     "execution_count": 36,
     "metadata": {},
     "output_type": "execute_result"
    }
   ],
   "source": [
    "m.captures"
   ]
  },
  {
   "cell_type": "code",
   "execution_count": 42,
   "metadata": {
    "collapsed": false
   },
   "outputs": [
    {
     "data": {
      "text/plain": [
       "RegexMatch(\"bc\", 1=\"b\", 2=\"c\", 3=nothing)"
      ]
     },
     "execution_count": 42,
     "metadata": {},
     "output_type": "execute_result"
    }
   ],
   "source": [
    "m = match(r\"(a|b)(c)?(d)?\", \"bc\")"
   ]
  },
  {
   "cell_type": "code",
   "execution_count": 43,
   "metadata": {
    "collapsed": false
   },
   "outputs": [
    {
     "data": {
      "text/plain": [
       "3-element Array{Union(Nothing,SubString{UTF8String}),1}:\n",
       " \"b\"    \n",
       " \"c\"    \n",
       " nothing"
      ]
     },
     "execution_count": 43,
     "metadata": {},
     "output_type": "execute_result"
    }
   ],
   "source": [
    "m.captures"
   ]
  },
  {
   "cell_type": "code",
   "execution_count": 44,
   "metadata": {
    "collapsed": false
   },
   "outputs": [
    {
     "data": {
      "text/plain": [
       "v\"0.3.6\""
      ]
     },
     "execution_count": 44,
     "metadata": {},
     "output_type": "execute_result"
    }
   ],
   "source": [
    "VERSION"
   ]
  },
  {
   "cell_type": "code",
   "execution_count": 45,
   "metadata": {
    "collapsed": false
   },
   "outputs": [
    {
     "data": {
      "text/plain": [
       "3-element Array{Float64,1}:\n",
       " 1.0\n",
       " 3.0\n",
       " 2.0"
      ]
     },
     "execution_count": 45,
     "metadata": {},
     "output_type": "execute_result"
    }
   ],
   "source": [
    "a = [1, 3.0, 2]"
   ]
  },
  {
   "cell_type": "code",
   "execution_count": 46,
   "metadata": {
    "collapsed": false
   },
   "outputs": [
    {
     "name": "stderr",
     "output_type": "stream",
     "text": [
      "Warning: imported binding for transpose overwritten in module __anon__\n"
     ]
    }
   ],
   "source": [
    "@pyimport numpy as np"
   ]
  },
  {
   "cell_type": "code",
   "execution_count": 47,
   "metadata": {
    "collapsed": false
   },
   "outputs": [
    {
     "data": {
      "text/plain": [
       "1x6 Array{Int64,2}:\n",
       " 1  2  3  4  5  6"
      ]
     },
     "execution_count": 47,
     "metadata": {},
     "output_type": "execute_result"
    }
   ],
   "source": [
    "M_py = np.matrix([[1, 2, 3], [4, 5, 6]])"
   ]
  },
  {
   "cell_type": "code",
   "execution_count": 50,
   "metadata": {
    "collapsed": false
   },
   "outputs": [
    {
     "data": {
      "text/plain": [
       "2x3 Array{Int64,2}:\n",
       " 1  3  5\n",
       " 2  4  6"
      ]
     },
     "execution_count": 50,
     "metadata": {},
     "output_type": "execute_result"
    }
   ],
   "source": [
    "M_py = reshape(M_py, 2, 3)"
   ]
  },
  {
   "cell_type": "code",
   "execution_count": 56,
   "metadata": {
    "collapsed": false
   },
   "outputs": [
    {
     "data": {
      "text/plain": [
       "Σ (generic function with 1 method)"
      ]
     },
     "execution_count": 56,
     "metadata": {},
     "output_type": "execute_result"
    }
   ],
   "source": [
    "Σ(x...) = sum(x)"
   ]
  },
  {
   "cell_type": "code",
   "execution_count": 58,
   "metadata": {
    "collapsed": false
   },
   "outputs": [
    {
     "data": {
      "text/plain": [
       "28"
      ]
     },
     "execution_count": 58,
     "metadata": {},
     "output_type": "execute_result"
    }
   ],
   "source": [
    "Σ(1, 2, 3, 4, 5, 6, 7)"
   ]
  },
  {
   "cell_type": "code",
   "execution_count": 59,
   "metadata": {
    "collapsed": false
   },
   "outputs": [
    {
     "data": {
      "text/plain": [
       "test (generic function with 1 method)"
      ]
     },
     "execution_count": 59,
     "metadata": {},
     "output_type": "execute_result"
    }
   ],
   "source": [
    "function test(a::Array, b::Any)\n",
    "    push!(a, b)\n",
    "end"
   ]
  },
  {
   "cell_type": "code",
   "execution_count": 60,
   "metadata": {
    "collapsed": false
   },
   "outputs": [
    {
     "data": {
      "text/plain": [
       "2-element Array{Int64,1}:\n",
       " 1\n",
       " 2"
      ]
     },
     "execution_count": 60,
     "metadata": {},
     "output_type": "execute_result"
    }
   ],
   "source": [
    "m = [1]\n",
    "test(m, 2)\n",
    "m"
   ]
  },
  {
   "cell_type": "code",
   "execution_count": 62,
   "metadata": {
    "collapsed": false
   },
   "outputs": [
    {
     "data": {
      "text/plain": [
       "2x3 Array{Int64,2}:\n",
       " 1  2  3\n",
       " 4  5  6"
      ]
     },
     "execution_count": 62,
     "metadata": {},
     "output_type": "execute_result"
    }
   ],
   "source": [
    "m = [1 2 3; 4 5 6]"
   ]
  },
  {
   "cell_type": "code",
   "execution_count": 69,
   "metadata": {
    "collapsed": false
   },
   "outputs": [
    {
     "data": {
      "text/html": [
       "vcat<i>{T}</i>(X::<b>T...</b>) at <a href=\"https://github.com/JuliaLang/julia/tree/0c24dca65c031820b91721139f0291068086955c/base/abstractarray.jl#L517\" target=\"_blank\">abstractarray.jl:517</a>"
      ],
      "text/plain": [
       "vcat{T}(X::T...) at abstractarray.jl:517"
      ]
     },
     "execution_count": 69,
     "metadata": {},
     "output_type": "execute_result"
    }
   ],
   "source": [
    "@which [(1, 2), (3, 4)]"
   ]
  },
  {
   "cell_type": "code",
   "execution_count": 94,
   "metadata": {
    "collapsed": false
   },
   "outputs": [
    {
     "data": {
      "text/plain": [
       "test1 (generic function with 3 methods)"
      ]
     },
     "execution_count": 94,
     "metadata": {},
     "output_type": "execute_result"
    }
   ],
   "source": [
    "function test1(a = b, b=1)\n",
    "    return a+b\n",
    "end"
   ]
  },
  {
   "cell_type": "code",
   "execution_count": 89,
   "metadata": {
    "collapsed": false
   },
   "outputs": [
    {
     "data": {
      "text/plain": [
       "5"
      ]
     },
     "execution_count": 89,
     "metadata": {},
     "output_type": "execute_result"
    }
   ],
   "source": [
    "b = 5"
   ]
  },
  {
   "cell_type": "code",
   "execution_count": 91,
   "metadata": {
    "collapsed": false
   },
   "outputs": [
    {
     "data": {
      "text/plain": [
       "6"
      ]
     },
     "execution_count": 91,
     "metadata": {},
     "output_type": "execute_result"
    }
   ],
   "source": [
    "test1()"
   ]
  },
  {
   "cell_type": "code",
   "execution_count": 93,
   "metadata": {
    "collapsed": false
   },
   "outputs": [
    {
     "data": {
      "text/plain": [
       "test2 (generic function with 1 method)"
      ]
     },
     "execution_count": 93,
     "metadata": {},
     "output_type": "execute_result"
    }
   ],
   "source": [
    "function test2(;a = b, b=1)\n",
    "    return a+b\n",
    "end"
   ]
  },
  {
   "cell_type": "code",
   "execution_count": 95,
   "metadata": {
    "collapsed": false
   },
   "outputs": [
    {
     "ename": "LoadError",
     "evalue": "b not defined\nwhile loading In[95], in expression starting on line 1",
     "output_type": "error",
     "traceback": [
      "b not defined\nwhile loading In[95], in expression starting on line 1",
      ""
     ]
    }
   ],
   "source": [
    "test2()"
   ]
  },
  {
   "cell_type": "code",
   "execution_count": 96,
   "metadata": {
    "collapsed": false
   },
   "outputs": [
    {
     "data": {
      "text/plain": [
       "test3 (generic function with 3 methods)"
      ]
     },
     "execution_count": 96,
     "metadata": {},
     "output_type": "execute_result"
    }
   ],
   "source": [
    "function test3(b=1, a = b)\n",
    "    return a+b\n",
    "end"
   ]
  },
  {
   "cell_type": "code",
   "execution_count": 97,
   "metadata": {
    "collapsed": false
   },
   "outputs": [
    {
     "data": {
      "text/plain": [
       "2"
      ]
     },
     "execution_count": 97,
     "metadata": {},
     "output_type": "execute_result"
    }
   ],
   "source": [
    "test3()"
   ]
  },
  {
   "cell_type": "code",
   "execution_count": 104,
   "metadata": {
    "collapsed": false
   },
   "outputs": [
    {
     "ename": "LoadError",
     "evalue": "ζ not defined\nwhile loading In[104], in expression starting on line 1",
     "output_type": "error",
     "traceback": [
      "ζ not defined\nwhile loading In[104], in expression starting on line 1",
      ""
     ]
    }
   ],
   "source": [
    "if ζ == nothing\n",
    "    println(\"nothing!\")\n",
    "end"
   ]
  },
  {
   "cell_type": "code",
   "execution_count": 108,
   "metadata": {
    "collapsed": false
   },
   "outputs": [],
   "source": [
    "@pyimport requests"
   ]
  },
  {
   "cell_type": "code",
   "execution_count": 109,
   "metadata": {
    "collapsed": false
   },
   "outputs": [
    {
     "data": {
      "text/plain": [
       "PyObject <requests.sessions.Session object at 0x11192fdd0>"
      ]
     },
     "execution_count": 109,
     "metadata": {},
     "output_type": "execute_result"
    }
   ],
   "source": [
    "s = requests.session()"
   ]
  },
  {
   "cell_type": "code",
   "execution_count": 110,
   "metadata": {
    "collapsed": false
   },
   "outputs": [
    {
     "ename": "LoadError",
     "evalue": "type Ptr has no field get\nwhile loading In[110], in expression starting on line 1",
     "output_type": "error",
     "traceback": [
      "type Ptr has no field get\nwhile loading In[110], in expression starting on line 1",
      ""
     ]
    }
   ],
   "source": [
    "getfield(s.o, :get)"
   ]
  },
  {
   "cell_type": "code",
   "execution_count": 115,
   "metadata": {
    "collapsed": false
   },
   "outputs": [
    {
     "data": {
      "text/plain": [
       "return1 (generic function with 1 method)"
      ]
     },
     "execution_count": 115,
     "metadata": {},
     "output_type": "execute_result"
    }
   ],
   "source": [
    "function return1()\n",
    "    true\n",
    "end"
   ]
  },
  {
   "cell_type": "code",
   "execution_count": 116,
   "metadata": {
    "collapsed": false
   },
   "outputs": [
    {
     "data": {
      "text/plain": [
       "return2 (generic function with 1 method)"
      ]
     },
     "execution_count": 116,
     "metadata": {},
     "output_type": "execute_result"
    }
   ],
   "source": [
    "function return2()\n",
    "    false\n",
    "end"
   ]
  },
  {
   "cell_type": "code",
   "execution_count": 121,
   "metadata": {
    "collapsed": false
   },
   "outputs": [
    {
     "data": {
      "text/plain": [
       "true"
      ]
     },
     "execution_count": 121,
     "metadata": {},
     "output_type": "execute_result"
    }
   ],
   "source": [
    "t = return1() || return1() && return2()"
   ]
  },
  {
   "cell_type": "code",
   "execution_count": 122,
   "metadata": {
    "collapsed": false
   },
   "outputs": [
    {
     "data": {
      "text/plain": [
       "true"
      ]
     },
     "execution_count": 122,
     "metadata": {},
     "output_type": "execute_result"
    }
   ],
   "source": [
    "t"
   ]
  },
  {
   "cell_type": "code",
   "execution_count": 124,
   "metadata": {
    "collapsed": false
   },
   "outputs": [
    {
     "data": {
      "text/plain": [
       "1:5"
      ]
     },
     "execution_count": 124,
     "metadata": {},
     "output_type": "execute_result"
    }
   ],
   "source": [
    "x = 1:5"
   ]
  },
  {
   "cell_type": "code",
   "execution_count": 125,
   "metadata": {
    "collapsed": false
   },
   "outputs": [
    {
     "data": {
      "text/plain": [
       "UnitRange{Int64} (constructor with 1 method)"
      ]
     },
     "execution_count": 125,
     "metadata": {},
     "output_type": "execute_result"
    }
   ],
   "source": [
    "typeof(x)"
   ]
  },
  {
   "cell_type": "code",
   "execution_count": 128,
   "metadata": {
    "collapsed": false
   },
   "outputs": [
    {
     "name": "stdout",
     "output_type": "stream",
     "text": [
      "1\n",
      "2\n",
      "3\n",
      "4\n",
      "5\n"
     ]
    }
   ],
   "source": [
    "for i in x\n",
    "    println(i)\n",
    "end"
   ]
  },
  {
   "cell_type": "code",
   "execution_count": 130,
   "metadata": {
    "collapsed": false
   },
   "outputs": [
    {
     "name": "stdout",
     "output_type": "stream",
     "text": [
      "0\n",
      "1\n",
      "2\n",
      "3\n",
      "4\n",
      "5\n",
      "6\n"
     ]
    }
   ],
   "source": [
    "for i in 0:6\n",
    "    println(i)\n",
    "end"
   ]
  },
  {
   "cell_type": "code",
   "execution_count": 131,
   "metadata": {
    "collapsed": false
   },
   "outputs": [
    {
     "data": {
      "text/plain": [
       "16"
      ]
     },
     "execution_count": 131,
     "metadata": {},
     "output_type": "execute_result"
    }
   ],
   "source": [
    "sizeof(x)"
   ]
  },
  {
   "cell_type": "code",
   "execution_count": 132,
   "metadata": {
    "collapsed": false
   },
   "outputs": [
    {
     "data": {
      "text/plain": [
       "6-element Array{Int64,1}:\n",
       " 1\n",
       " 2\n",
       " 3\n",
       " 4\n",
       " 5\n",
       " 6"
      ]
     },
     "execution_count": 132,
     "metadata": {},
     "output_type": "execute_result"
    }
   ],
   "source": [
    "y = [1:6]"
   ]
  },
  {
   "cell_type": "code",
   "execution_count": 133,
   "metadata": {
    "collapsed": false
   },
   "outputs": [
    {
     "data": {
      "text/plain": [
       "48"
      ]
     },
     "execution_count": 133,
     "metadata": {},
     "output_type": "execute_result"
    }
   ],
   "source": [
    "sizeof(y)"
   ]
  },
  {
   "cell_type": "code",
   "execution_count": 134,
   "metadata": {
    "collapsed": false
   },
   "outputs": [
    {
     "name": "stdout",
     "output_type": "stream",
     "text": [
      "sizeof(s::String)\n",
      "\n",
      "   The number of bytes in string \"s\".\n"
     ]
    }
   ],
   "source": [
    "?sizeof"
   ]
  },
  {
   "cell_type": "code",
   "execution_count": 135,
   "metadata": {
    "collapsed": false
   },
   "outputs": [
    {
     "name": "stdout",
     "output_type": "stream",
     "text": [
      "Base.filter(function, collection)\n",
      "\n",
      "   Return a copy of \"collection\", removing elements for which\n",
      "   \"function\" is false. For associative collections, the function is\n",
      "   passed two arguments (key and value).\n"
     ]
    }
   ],
   "source": [
    "?filter"
   ]
  },
  {
   "cell_type": "code",
   "execution_count": 136,
   "metadata": {
    "collapsed": false
   },
   "outputs": [
    {
     "data": {
      "text/plain": [
       "\"dcba\""
      ]
     },
     "execution_count": 136,
     "metadata": {},
     "output_type": "execute_result"
    }
   ],
   "source": [
    "reverse(\"abcd\")"
   ]
  },
  {
   "cell_type": "code",
   "execution_count": 138,
   "metadata": {
    "collapsed": false
   },
   "outputs": [
    {
     "name": "stdout",
     "output_type": "stream",
     "text": [
      "(1,1)\n",
      "(1,2)\n",
      "(1,3)\n",
      "(1,4)\n",
      "(1,5)\n",
      "(1,6)\n",
      "(1,7)\n",
      "(1,8)\n",
      "(1,9)\n",
      "(1,10)\n",
      "(2,1)\n",
      "(2,2)\n",
      "(2,3)\n",
      "(2,4)\n",
      "(2,5)\n",
      "(2,6)\n",
      "(2,7)\n",
      "(2,8)\n",
      "(2,9)\n",
      "(2,10)\n",
      "(3,1)\n",
      "(3,2)\n",
      "(3,3)\n",
      "(3,4)\n",
      "(3,5)\n",
      "(3,6)\n",
      "(3,7)\n",
      "(3,8)\n",
      "(3,9)\n",
      "(3,10)\n",
      "(4,1)\n",
      "(4,2)\n",
      "(4,3)\n",
      "(4,4)\n",
      "(4,5)\n",
      "(4,6)\n",
      "(4,7)\n",
      "(4,8)\n",
      "(4,9)\n",
      "(4,10)\n",
      "(5,1)\n",
      "(5,2)\n",
      "(5,3)\n",
      "(5,4)\n",
      "(5,5)\n",
      "(5,6)\n",
      "(5,7)\n",
      "(5,8)\n",
      "(5,9)\n",
      "(5,10)\n",
      "(6,1)\n",
      "(6,2)\n",
      "(6,3)\n",
      "(6,4)\n",
      "(6,5)\n",
      "(6,6)\n",
      "(6,7)\n",
      "(6,8)\n",
      "(6,9)\n",
      "(6,10)\n",
      "(7,1)\n",
      "(7,2)\n",
      "(7,3)\n",
      "(7,4)\n",
      "(7,5)\n",
      "(7,6)\n",
      "(7,7)\n",
      "(7,8)\n",
      "(7,9)\n",
      "(7,10)\n",
      "(8,1)\n",
      "(8,2)\n",
      "(8,3)\n",
      "(8,4)\n",
      "(8,5)\n",
      "(8,6)\n",
      "(8,7)\n",
      "(8,8)\n",
      "(8,9)\n",
      "(8,10)\n",
      "(9,1)\n",
      "(9,2)\n",
      "(9,3)\n",
      "(9,4)\n",
      "(9,5)\n",
      "(9,6)\n",
      "(9,7)\n",
      "(9,8)\n",
      "(9,9)\n",
      "(9,10)\n",
      "(10,1)\n",
      "(10,2)\n",
      "(10,3)\n",
      "(10,4)\n",
      "(10,5)\n",
      "(10,6)\n",
      "(10,7)\n",
      "(10,8)\n",
      "(10,9)\n",
      "(10,10)\n"
     ]
    }
   ],
   "source": [
    "for i in 1:10\n",
    "    for j in 1:30\n",
    "        if j > 10\n",
    "            break\n",
    "        end\n",
    "        println((i, j))\n",
    "    end\n",
    "end"
   ]
  },
  {
   "cell_type": "code",
   "execution_count": 139,
   "metadata": {
    "collapsed": false
   },
   "outputs": [
    {
     "name": "stdout",
     "output_type": "stream",
     "text": [
      "(1,1)\n",
      "(1,2)\n",
      "(1,3)\n",
      "(1,4)\n",
      "(1,5)\n",
      "(1,6)\n",
      "(1,7)\n",
      "(1,8)\n",
      "(1,9)\n",
      "(1,10)\n"
     ]
    }
   ],
   "source": [
    "for i in 1:10, j in 1:30\n",
    "        if j > 10\n",
    "            break\n",
    "        end\n",
    "        println((i, j))\n",
    "end"
   ]
  },
  {
   "cell_type": "code",
   "execution_count": 141,
   "metadata": {
    "collapsed": false
   },
   "outputs": [
    {
     "data": {
      "text/plain": [
       "DataType"
      ]
     },
     "execution_count": 141,
     "metadata": {},
     "output_type": "execute_result"
    }
   ],
   "source": [
    "typeof(DomainError)"
   ]
  },
  {
   "cell_type": "code",
   "execution_count": 143,
   "metadata": {
    "collapsed": false
   },
   "outputs": [
    {
     "data": {
      "text/plain": [
       "DataType"
      ]
     },
     "execution_count": 143,
     "metadata": {},
     "output_type": "execute_result"
    }
   ],
   "source": [
    "typeof(Number)"
   ]
  },
  {
   "cell_type": "code",
   "execution_count": 144,
   "metadata": {
    "collapsed": false
   },
   "outputs": [
    {
     "name": "stderr",
     "output_type": "stream",
     "text": [
      "INFO: Hello\n"
     ]
    }
   ],
   "source": [
    "info(\"Hello\")"
   ]
  },
  {
   "cell_type": "code",
   "execution_count": 145,
   "metadata": {
    "collapsed": false
   },
   "outputs": [
    {
     "name": "stderr",
     "output_type": "stream",
     "text": [
      "WARNING: It's not joking, I'm warning you\n"
     ]
    }
   ],
   "source": [
    "warn(\"It's not joking, I'm warning you\")"
   ]
  },
  {
   "cell_type": "code",
   "execution_count": 146,
   "metadata": {
    "collapsed": false
   },
   "outputs": [
    {
     "ename": "LoadError",
     "evalue": "Error!!!\nwhile loading In[146], in expression starting on line 1",
     "output_type": "error",
     "traceback": [
      "Error!!!\nwhile loading In[146], in expression starting on line 1",
      "",
      " in error at error.jl:21"
     ]
    }
   ],
   "source": [
    "error(\"Error!!!\")"
   ]
  },
  {
   "cell_type": "code",
   "execution_count": 1,
   "metadata": {
    "collapsed": false
   },
   "outputs": [
    {
     "data": {
      "text/plain": [
       "generator (generic function with 1 method)"
      ]
     },
     "execution_count": 1,
     "metadata": {},
     "output_type": "execute_result"
    }
   ],
   "source": [
    "# Julia generater?\n",
    "function generator(N::Int)\n",
    "    for i in 1:N\n",
    "        produce(i)\n",
    "    end\n",
    "end"
   ]
  },
  {
   "cell_type": "code",
   "execution_count": 159,
   "metadata": {
    "collapsed": false
   },
   "outputs": [
    {
     "data": {
      "text/plain": [
       "Task (runnable) @0x00007fd51d55cca0"
      ]
     },
     "execution_count": 159,
     "metadata": {},
     "output_type": "execute_result"
    }
   ],
   "source": [
    "g = @task generator(20)"
   ]
  },
  {
   "cell_type": "code",
   "execution_count": 160,
   "metadata": {
    "collapsed": false
   },
   "outputs": [
    {
     "data": {
      "text/plain": [
       "1"
      ]
     },
     "execution_count": 160,
     "metadata": {},
     "output_type": "execute_result"
    }
   ],
   "source": [
    "consume(g)"
   ]
  },
  {
   "cell_type": "code",
   "execution_count": 161,
   "metadata": {
    "collapsed": false
   },
   "outputs": [
    {
     "data": {
      "text/plain": [
       "2"
      ]
     },
     "execution_count": 161,
     "metadata": {},
     "output_type": "execute_result"
    }
   ],
   "source": [
    "consume(g)"
   ]
  },
  {
   "cell_type": "code",
   "execution_count": 167,
   "metadata": {
    "collapsed": false
   },
   "outputs": [
    {
     "data": {
      "text/plain": [
       "8"
      ]
     },
     "execution_count": 167,
     "metadata": {},
     "output_type": "execute_result"
    }
   ],
   "source": [
    "consume(g)"
   ]
  },
  {
   "cell_type": "code",
   "execution_count": 169,
   "metadata": {
    "collapsed": false
   },
   "outputs": [
    {
     "data": {
      "text/plain": [
       "Task (runnable) @0x00007fd523382e00"
      ]
     },
     "execution_count": 169,
     "metadata": {},
     "output_type": "execute_result"
    }
   ],
   "source": [
    "current_task()"
   ]
  },
  {
   "cell_type": "code",
   "execution_count": 170,
   "metadata": {
    "collapsed": false
   },
   "outputs": [
    {
     "data": {
      "text/plain": [
       "Task (runnable) @0x00007fd51f4e4060"
      ]
     },
     "execution_count": 170,
     "metadata": {},
     "output_type": "execute_result"
    }
   ],
   "source": [
    "g2 = @task generator(30)"
   ]
  },
  {
   "cell_type": "code",
   "execution_count": 172,
   "metadata": {
    "collapsed": false
   },
   "outputs": [
    {
     "data": {
      "text/plain": [
       "1"
      ]
     },
     "execution_count": 172,
     "metadata": {},
     "output_type": "execute_result"
    }
   ],
   "source": [
    "consume(g2)"
   ]
  },
  {
   "cell_type": "code",
   "execution_count": 173,
   "metadata": {
    "collapsed": false
   },
   "outputs": [
    {
     "data": {
      "text/plain": [
       "Task (runnable) @0x00007fd523382e00"
      ]
     },
     "execution_count": 173,
     "metadata": {},
     "output_type": "execute_result"
    }
   ],
   "source": [
    "current_task()"
   ]
  },
  {
   "cell_type": "code",
   "execution_count": 174,
   "metadata": {
    "collapsed": false
   },
   "outputs": [
    {
     "ename": "LoadError",
     "evalue": "`delete!` has no method matching delete!(::Task)\nwhile loading In[174], in expression starting on line 1",
     "output_type": "error",
     "traceback": [
      "`delete!` has no method matching delete!(::Task)\nwhile loading In[174], in expression starting on line 1",
      ""
     ]
    }
   ],
   "source": []
  },
  {
   "cell_type": "code",
   "execution_count": 176,
   "metadata": {
    "collapsed": false
   },
   "outputs": [],
   "source": []
  },
  {
   "cell_type": "code",
   "execution_count": 2,
   "metadata": {
    "collapsed": false
   },
   "outputs": [
    {
     "data": {
      "text/plain": [
       "fun_arry (generic function with 1 method)"
      ]
     },
     "execution_count": 2,
     "metadata": {},
     "output_type": "execute_result"
    }
   ],
   "source": [
    "function fun_arry()\n",
    "    sum = 0\n",
    "    c = [1:100000]\n",
    "    for i in c\n",
    "        sum += i\n",
    "    end\n",
    "    sum\n",
    "end"
   ]
  },
  {
   "cell_type": "code",
   "execution_count": 3,
   "metadata": {
    "collapsed": false
   },
   "outputs": [
    {
     "data": {
      "text/plain": [
       "fun_gener (generic function with 1 method)"
      ]
     },
     "execution_count": 3,
     "metadata": {},
     "output_type": "execute_result"
    }
   ],
   "source": [
    "function fun_gener()\n",
    "    sum = 0\n",
    "    g = @task generator(100000)\n",
    "    for i in g\n",
    "        sum += i\n",
    "    end\n",
    "    sum\n",
    "end"
   ]
  },
  {
   "cell_type": "code",
   "execution_count": 8,
   "metadata": {
    "collapsed": false
   },
   "outputs": [
    {
     "name": "stdout",
     "output_type": "stream",
     "text": [
      "elapsed time: 0.000667396 seconds (800144 bytes allocated)\n"
     ]
    },
    {
     "data": {
      "text/plain": [
       "5000050000"
      ]
     },
     "execution_count": 8,
     "metadata": {},
     "output_type": "execute_result"
    }
   ],
   "source": [
    "@time fun_arry()"
   ]
  },
  {
   "cell_type": "code",
   "execution_count": 9,
   "metadata": {
    "collapsed": false
   },
   "outputs": [
    {
     "name": "stdout",
     "output_type": "stream",
     "text": [
      "elapsed time: 0.318235352 seconds (4784288 bytes allocated)\n"
     ]
    },
    {
     "data": {
      "text/plain": [
       "5000050000"
      ]
     },
     "execution_count": 9,
     "metadata": {},
     "output_type": "execute_result"
    }
   ],
   "source": [
    "@time fun_gener()"
   ]
  },
  {
   "cell_type": "code",
   "execution_count": 20,
   "metadata": {
    "collapsed": false
   },
   "outputs": [],
   "source": [
    "I = [(i, j) for i=1:10, j=1:5];"
   ]
  },
  {
   "cell_type": "code",
   "execution_count": 33,
   "metadata": {
    "collapsed": false
   },
   "outputs": [
    {
     "data": {
      "text/plain": [
       "3"
      ]
     },
     "execution_count": 33,
     "metadata": {},
     "output_type": "execute_result"
    }
   ],
   "source": [
    "## β can not be seen outside catch block since catch and try block will introduce new scope \n",
    "try\n",
    "    β;\n",
    "catch\n",
    "    β = 3;\n",
    "end"
   ]
  },
  {
   "cell_type": "code",
   "execution_count": 34,
   "metadata": {
    "collapsed": false
   },
   "outputs": [
    {
     "ename": "LoadError",
     "evalue": "β not defined\nwhile loading In[34], in expression starting on line 1",
     "output_type": "error",
     "traceback": [
      "β not defined\nwhile loading In[34], in expression starting on line 1",
      ""
     ]
    }
   ],
   "source": [
    "β"
   ]
  },
  {
   "cell_type": "code",
   "execution_count": 35,
   "metadata": {
    "collapsed": false
   },
   "outputs": [
    {
     "data": {
      "text/plain": [
       "3"
      ]
     },
     "execution_count": 35,
     "metadata": {},
     "output_type": "execute_result"
    }
   ],
   "source": [
    "## But catch block will return last line.\n",
    "r = try\n",
    "    β;\n",
    "catch\n",
    "    β = 3\n",
    "end"
   ]
  },
  {
   "cell_type": "code",
   "execution_count": 36,
   "metadata": {
    "collapsed": false
   },
   "outputs": [
    {
     "data": {
      "text/plain": [
       "3"
      ]
     },
     "execution_count": 36,
     "metadata": {},
     "output_type": "execute_result"
    }
   ],
   "source": [
    "r"
   ]
  },
  {
   "cell_type": "code",
   "execution_count": 27,
   "metadata": {
    "collapsed": false
   },
   "outputs": [
    {
     "data": {
      "text/plain": [
       "3"
      ]
     },
     "execution_count": 27,
     "metadata": {},
     "output_type": "execute_result"
    }
   ],
   "source": [
    "## Or use global keyword.\n",
    "try\n",
    "    α\n",
    "catch\n",
    "    global α\n",
    "    α = 3\n",
    "end"
   ]
  },
  {
   "cell_type": "code",
   "execution_count": 28,
   "metadata": {
    "collapsed": false
   },
   "outputs": [
    {
     "data": {
      "text/plain": [
       "3"
      ]
     },
     "execution_count": 28,
     "metadata": {},
     "output_type": "execute_result"
    }
   ],
   "source": [
    "α"
   ]
  },
  {
   "cell_type": "code",
   "execution_count": 39,
   "metadata": {
    "collapsed": false
   },
   "outputs": [
    {
     "data": {
      "text/plain": [
       "1"
      ]
     },
     "execution_count": 39,
     "metadata": {},
     "output_type": "execute_result"
    }
   ],
   "source": [
    "γ = 0\n",
    "try\n",
    "    ζ\n",
    "catch\n",
    "    γ += 1\n",
    "end"
   ]
  },
  {
   "cell_type": "code",
   "execution_count": 40,
   "metadata": {
    "collapsed": false
   },
   "outputs": [
    {
     "data": {
      "text/plain": [
       "1"
      ]
     },
     "execution_count": 40,
     "metadata": {},
     "output_type": "execute_result"
    }
   ],
   "source": [
    "γ"
   ]
  },
  {
   "cell_type": "code",
   "execution_count": 37,
   "metadata": {
    "collapsed": false
   },
   "outputs": [],
   "source": [
    "for i in 1:3\n",
    "    x = i\n",
    "end"
   ]
  },
  {
   "cell_type": "code",
   "execution_count": 38,
   "metadata": {
    "collapsed": false
   },
   "outputs": [
    {
     "ename": "LoadError",
     "evalue": "x not defined\nwhile loading In[38], in expression starting on line 1",
     "output_type": "error",
     "traceback": [
      "x not defined\nwhile loading In[38], in expression starting on line 1",
      ""
     ]
    }
   ],
   "source": [
    "x"
   ]
  },
  {
   "cell_type": "code",
   "execution_count": 42,
   "metadata": {
    "collapsed": false
   },
   "outputs": [
    {
     "data": {
      "text/plain": [
       "2-element Array{Any,1}:\n",
       " #undef\n",
       " #undef"
      ]
     },
     "execution_count": 42,
     "metadata": {},
     "output_type": "execute_result"
    }
   ],
   "source": [
    "Fs = cell(2)"
   ]
  },
  {
   "cell_type": "code",
   "execution_count": 43,
   "metadata": {
    "collapsed": false
   },
   "outputs": [
    {
     "name": "stderr",
     "output_type": "stream",
     "text": [
      "INFO: Loading help data...\n"
     ]
    },
    {
     "name": "stdout",
     "output_type": "stream",
     "text": [
      "Base.cell(dims)\n",
      "\n",
      "   Construct an uninitialized cell array (heterogeneous array).\n",
      "   \"dims\" can be either a tuple or a series of integer arguments.\n"
     ]
    }
   ],
   "source": [
    "?cell"
   ]
  },
  {
   "cell_type": "code",
   "execution_count": 44,
   "metadata": {
    "collapsed": false
   },
   "outputs": [
    {
     "data": {
      "text/plain": [
       "4-element Array{Any,1}:\n",
       " #undef\n",
       " #undef\n",
       "   1   \n",
       "    \"1\""
      ]
     },
     "execution_count": 44,
     "metadata": {},
     "output_type": "execute_result"
    }
   ],
   "source": [
    "push!(Fs, 1)\n",
    "push!(Fs, \"1\")"
   ]
  },
  {
   "cell_type": "code",
   "execution_count": 46,
   "metadata": {
    "collapsed": false
   },
   "outputs": [
    {
     "data": {
      "text/plain": [
       "3-element Array{Int64,1}:\n",
       " 1\n",
       " 2\n",
       " 3"
      ]
     },
     "execution_count": 46,
     "metadata": {},
     "output_type": "execute_result"
    }
   ],
   "source": [
    "Fs[1] = [1, 2, 3]"
   ]
  },
  {
   "cell_type": "code",
   "execution_count": 47,
   "metadata": {
    "collapsed": false
   },
   "outputs": [
    {
     "data": {
      "text/plain": [
       "true"
      ]
     },
     "execution_count": 47,
     "metadata": {},
     "output_type": "execute_result"
    }
   ],
   "source": [
    "Fs[2] = true"
   ]
  },
  {
   "cell_type": "code",
   "execution_count": 48,
   "metadata": {
    "collapsed": false
   },
   "outputs": [
    {
     "data": {
      "text/plain": [
       "4-element Array{Any,1}:\n",
       "     [1,2,3]\n",
       " true       \n",
       "    1       \n",
       "     \"1\"    "
      ]
     },
     "execution_count": 48,
     "metadata": {},
     "output_type": "execute_result"
    }
   ],
   "source": [
    "Fs"
   ]
  },
  {
   "cell_type": "code",
   "execution_count": 50,
   "metadata": {
    "collapsed": false
   },
   "outputs": [
    {
     "name": "stdout",
     "output_type": "stream",
     "text": [
      "[1,2,3]\n",
      "true\n",
      "1\n",
      "1\n"
     ]
    }
   ],
   "source": [
    "println(Fs[1])\n",
    "println(Fs[2])\n",
    "println(Fs[3])\n",
    "println(Fs[4])"
   ]
  },
  {
   "cell_type": "code",
   "execution_count": 51,
   "metadata": {
    "collapsed": false
   },
   "outputs": [
    {
     "name": "stdout",
     "output_type": "stream",
     "text": [
      "Array{Int64,1}\n",
      "Bool\n",
      "Int64\n",
      "ASCIIString\n"
     ]
    }
   ],
   "source": [
    "for item in Fs\n",
    "    println(typeof(item))\n",
    "end"
   ]
  },
  {
   "cell_type": "code",
   "execution_count": 61,
   "metadata": {
    "collapsed": false
   },
   "outputs": [
    {
     "name": "stdout",
     "output_type": "stream",
     "text": [
      "elapsed time: 4.237e-6 seconds (80 bytes allocated)\n"
     ]
    },
    {
     "data": {
      "text/plain": [
       "3"
      ]
     },
     "execution_count": 61,
     "metadata": {},
     "output_type": "execute_result"
    }
   ],
   "source": [
    "@time (1 + 2)::Int"
   ]
  },
  {
   "cell_type": "code",
   "execution_count": 62,
   "metadata": {
    "collapsed": false
   },
   "outputs": [
    {
     "name": "stdout",
     "output_type": "stream",
     "text": [
      "elapsed time: 4.104e-6 seconds (80 bytes allocated)\n"
     ]
    },
    {
     "data": {
      "text/plain": [
       "3"
      ]
     },
     "execution_count": 62,
     "metadata": {},
     "output_type": "execute_result"
    }
   ],
   "source": [
    "@time (1 + 2)"
   ]
  },
  {
   "cell_type": "code",
   "execution_count": 74,
   "metadata": {
    "collapsed": false
   },
   "outputs": [
    {
     "data": {
      "text/plain": [
       "test (generic function with 2 methods)"
      ]
     },
     "execution_count": 74,
     "metadata": {},
     "output_type": "execute_result"
    }
   ],
   "source": [
    "function test(x)\n",
    "    x += 1\n",
    "end"
   ]
  },
  {
   "cell_type": "code",
   "execution_count": 75,
   "metadata": {
    "collapsed": false
   },
   "outputs": [
    {
     "data": {
      "text/html": [
       "2 methods for generic function <b>test</b>:<ul><li> test(x::<b>Int64</b>) at In[64]:2<li> test(x) at In[74]:2</ul>"
      ],
      "text/plain": [
       "# 2 methods for generic function \"test\":\n",
       "test(x::Int64) at In[64]:2\n",
       "test(x) at In[74]:2"
      ]
     },
     "execution_count": 75,
     "metadata": {},
     "output_type": "execute_result"
    }
   ],
   "source": [
    "methods(test)"
   ]
  },
  {
   "cell_type": "code",
   "execution_count": 77,
   "metadata": {
    "collapsed": false
   },
   "outputs": [
    {
     "name": "stdout",
     "output_type": "stream",
     "text": [
      "Base.Dict()\n",
      "\n",
      "   \"Dict{K,V}()\" constructs a hash\n",
      "\n",
      "   table with keys of type K and values of type V. The literal syntax\n",
      "   is \"{\"A\"=>1, \"B\"=>2}\" for a \"Dict{Any,Any}\", or\n",
      "   \"[\"A\"=>1, \"B\"=>2]\" for a \"Dict\" of inferred type.\n"
     ]
    }
   ],
   "source": [
    "?Dict"
   ]
  },
  {
   "cell_type": "code",
   "execution_count": 78,
   "metadata": {
    "collapsed": false
   },
   "outputs": [
    {
     "data": {
      "text/plain": [
       "Dict{String,Int16} with 0 entries"
      ]
     },
     "execution_count": 78,
     "metadata": {},
     "output_type": "execute_result"
    }
   ],
   "source": [
    "dd = Dict{String, Int16}()"
   ]
  },
  {
   "cell_type": "code",
   "execution_count": 80,
   "metadata": {
    "collapsed": false
   },
   "outputs": [
    {
     "data": {
      "text/plain": [
       "16"
      ]
     },
     "execution_count": 80,
     "metadata": {},
     "output_type": "execute_result"
    }
   ],
   "source": [
    "dd[\"a\"] = 16"
   ]
  },
  {
   "cell_type": "code",
   "execution_count": 82,
   "metadata": {
    "collapsed": false
   },
   "outputs": [
    {
     "data": {
      "text/plain": [
       "Dict{Any,Any} with 1 entry:\n",
       "  \"A\" => 3"
      ]
     },
     "execution_count": 82,
     "metadata": {},
     "output_type": "execute_result"
    }
   ],
   "source": [
    "dd = {\"A\"=> 3}"
   ]
  },
  {
   "cell_type": "code",
   "execution_count": 83,
   "metadata": {
    "collapsed": false
   },
   "outputs": [
    {
     "data": {
      "text/plain": [
       "Dict{Any,Any} with 1 entry:\n",
       "  \"A\" => 3"
      ]
     },
     "execution_count": 83,
     "metadata": {},
     "output_type": "execute_result"
    }
   ],
   "source": [
    "dd"
   ]
  },
  {
   "cell_type": "code",
   "execution_count": 1,
   "metadata": {
    "collapsed": false
   },
   "outputs": [
    {
     "data": {
      "text/plain": [
       "test (generic function with 1 method)"
      ]
     },
     "execution_count": 1,
     "metadata": {},
     "output_type": "execute_result"
    }
   ],
   "source": [
    "test(x::Number) = x+1"
   ]
  },
  {
   "cell_type": "code",
   "execution_count": 2,
   "metadata": {
    "collapsed": false
   },
   "outputs": [
    {
     "data": {
      "text/html": [
       "test(x::<b>Number</b>) at In[1]:1"
      ],
      "text/plain": [
       "test(x::Number) at In[1]:1"
      ]
     },
     "execution_count": 2,
     "metadata": {},
     "output_type": "execute_result"
    }
   ],
   "source": [
    "@which test(2.5)"
   ]
  },
  {
   "cell_type": "code",
   "execution_count": 3,
   "metadata": {
    "collapsed": false
   },
   "outputs": [
    {
     "data": {
      "text/html": [
       "test(x::<b>Number</b>) at In[1]:1"
      ],
      "text/plain": [
       "test(x::Number) at In[1]:1"
      ]
     },
     "execution_count": 3,
     "metadata": {},
     "output_type": "execute_result"
    }
   ],
   "source": [
    "@which test(2)"
   ]
  },
  {
   "cell_type": "code",
   "execution_count": 4,
   "metadata": {
    "collapsed": false
   },
   "outputs": [
    {
     "name": "stderr",
     "output_type": "stream",
     "text": [
      "INFO: Loading help data...\n"
     ]
    },
    {
     "name": "stdout",
     "output_type": "stream",
     "text": [
      "Base.convert(type, x)\n",
      "\n",
      "   Try to convert \"x\" to the given type. Conversions from floating\n",
      "   point to integer, rational to integer, and complex to real will\n",
      "   raise an \"InexactError\" if \"x\" cannot be represented exactly in\n",
      "   the new type.\n"
     ]
    }
   ],
   "source": [
    "?convert"
   ]
  },
  {
   "cell_type": "code",
   "execution_count": 5,
   "metadata": {
    "collapsed": false
   },
   "outputs": [
    {
     "data": {
      "text/plain": [
       "1.0"
      ]
     },
     "execution_count": 5,
     "metadata": {},
     "output_type": "execute_result"
    }
   ],
   "source": [
    "convert(FloatingPoint, 1)"
   ]
  },
  {
   "cell_type": "code",
   "execution_count": 6,
   "metadata": {
    "collapsed": false
   },
   "outputs": [
    {
     "data": {
      "text/plain": [
       "2-element Array{Any,1}:\n",
       " Complex{T<:Real}\n",
       " Real            "
      ]
     },
     "execution_count": 6,
     "metadata": {},
     "output_type": "execute_result"
    }
   ],
   "source": [
    "subtypes(Number)"
   ]
  },
  {
   "cell_type": "code",
   "execution_count": 10,
   "metadata": {
    "collapsed": false
   },
   "outputs": [
    {
     "data": {
      "text/plain": [
       "5-element Array{Any,1}:\n",
       " BigInt  \n",
       " Bool    \n",
       " Char    \n",
       " Signed  \n",
       " Unsigned"
      ]
     },
     "execution_count": 10,
     "metadata": {},
     "output_type": "execute_result"
    }
   ],
   "source": [
    "subtypes(Integer)"
   ]
  },
  {
   "cell_type": "code",
   "execution_count": 13,
   "metadata": {
    "collapsed": false
   },
   "outputs": [
    {
     "ename": "LoadError",
     "evalue": "invalid subtyping in definition of MyComplex\nwhile loading In[13], in expression starting on line 1",
     "output_type": "error",
     "traceback": [
      "invalid subtyping in definition of MyComplex\nwhile loading In[13], in expression starting on line 1",
      ""
     ]
    }
   ],
   "source": [
    "type MyComplex<:Complex\n",
    "    im::Number\n",
    "    real::Number\n",
    "    name::String\n",
    "end"
   ]
  },
  {
   "cell_type": "code",
   "execution_count": 16,
   "metadata": {
    "collapsed": false
   },
   "outputs": [
    {
     "data": {
      "text/plain": [
       "true"
      ]
     },
     "execution_count": 16,
     "metadata": {},
     "output_type": "execute_result"
    }
   ],
   "source": [
    "isa(1, Number)"
   ]
  },
  {
   "cell_type": "code",
   "execution_count": 17,
   "metadata": {
    "collapsed": false
   },
   "outputs": [],
   "source": [
    "type Foo\n",
    "    bar\n",
    "    baz::Int\n",
    "    qux::Float64\n",
    "end"
   ]
  },
  {
   "cell_type": "code",
   "execution_count": 18,
   "metadata": {
    "collapsed": false
   },
   "outputs": [
    {
     "data": {
      "text/plain": [
       "Foo(\"ss\",1,3.5)"
      ]
     },
     "execution_count": 18,
     "metadata": {},
     "output_type": "execute_result"
    }
   ],
   "source": [
    "foo = Foo(\"ss\", 1, 3.5)"
   ]
  },
  {
   "cell_type": "code",
   "execution_count": 20,
   "metadata": {
    "collapsed": false
   },
   "outputs": [
    {
     "data": {
      "text/plain": [
       "Foo (constructor with 2 methods)"
      ]
     },
     "execution_count": 20,
     "metadata": {},
     "output_type": "execute_result"
    }
   ],
   "source": [
    "typeof(foo)"
   ]
  },
  {
   "cell_type": "code",
   "execution_count": 26,
   "metadata": {
    "collapsed": false
   },
   "outputs": [
    {
     "data": {
      "text/plain": [
       "\"Foo(\\\"ss\\\",1,3.5)\""
      ]
     },
     "execution_count": 26,
     "metadata": {},
     "output_type": "execute_result"
    }
   ],
   "source": [
    "repr(foo)"
   ]
  },
  {
   "cell_type": "code",
   "execution_count": 27,
   "metadata": {
    "collapsed": false
   },
   "outputs": [
    {
     "data": {
      "text/plain": [
       "UnionType"
      ]
     },
     "execution_count": 27,
     "metadata": {},
     "output_type": "execute_result"
    }
   ],
   "source": [
    "typeof(Top)"
   ]
  },
  {
   "cell_type": "code",
   "execution_count": 32,
   "metadata": {
    "collapsed": false
   },
   "outputs": [],
   "source": [
    "type Point{T}\n",
    "  x::T\n",
    "  y::T\n",
    "end"
   ]
  },
  {
   "cell_type": "code",
   "execution_count": 33,
   "metadata": {
    "collapsed": false
   },
   "outputs": [
    {
     "data": {
      "text/plain": [
       "Point{Float64}(1.0,2.0)"
      ]
     },
     "execution_count": 33,
     "metadata": {},
     "output_type": "execute_result"
    }
   ],
   "source": [
    "Point{Float64}(1.0,2) # 2 will be converted to 2.0"
   ]
  },
  {
   "cell_type": "code",
   "execution_count": 34,
   "metadata": {
    "collapsed": false
   },
   "outputs": [
    {
     "ename": "LoadError",
     "evalue": "`Point{T}` has no method matching Point{T}(::Float64, ::Int64)\nwhile loading In[34], in expression starting on line 1",
     "output_type": "error",
     "traceback": [
      "`Point{T}` has no method matching Point{T}(::Float64, ::Int64)\nwhile loading In[34], in expression starting on line 1",
      ""
     ]
    }
   ],
   "source": [
    "Point(1.0, 2) # This will fail since neither the arguments does not provide sufficient information of \n",
    "              # this construction of Point type nor the T parameter has been explicitly declared"
   ]
  },
  {
   "cell_type": "code",
   "execution_count": 39,
   "metadata": {
    "collapsed": false
   },
   "outputs": [
    {
     "name": "stdout",
     "output_type": "stream",
     "text": [
      "Base.is(x, y) -> Bool\n",
      "===(x, y) -> Bool\n",
      "≡(x, y) -> Bool\n",
      "\n",
      "   Determine whether \"x\" and \"y\" are identical, in the sense that\n",
      "   no program could distinguish them. Compares mutable objects by\n",
      "   address in memory, and compares immutable objects (such as numbers)\n",
      "   by contents at the bit level. This function is sometimes called\n",
      "   \"egal\".\n"
     ]
    }
   ],
   "source": [
    "?is"
   ]
  },
  {
   "cell_type": "code",
   "execution_count": 40,
   "metadata": {
    "collapsed": false
   },
   "outputs": [
    {
     "name": "stdout",
     "output_type": "stream",
     "text": [
      "Base.isa(x, type) -> Bool\n",
      "\n",
      "   Determine whether \"x\" is of the given \"type\".\n"
     ]
    }
   ],
   "source": [
    "?isa"
   ]
  },
  {
   "cell_type": "code",
   "execution_count": 42,
   "metadata": {
    "collapsed": false
   },
   "outputs": [
    {
     "name": "stdout",
     "output_type": "stream",
     "text": [
      "Base.listen([addr], port) -> TcpServer\n",
      "\n",
      "   Listen on port on the address specified by \"addr\". By default\n",
      "   this listens on localhost only. To listen on all interfaces pass,\n",
      "   \"IPv4(0)\" or \"IPv6(0)\" as appropriate.\n",
      "\n",
      "Base.listen(path) -> PipeServer\n",
      "\n",
      "   Listens on/Creates a Named Pipe/Domain Socket\n"
     ]
    }
   ],
   "source": [
    "?listen"
   ]
  },
  {
   "cell_type": "code",
   "execution_count": 43,
   "metadata": {
    "collapsed": false
   },
   "outputs": [
    {
     "data": {
      "text/plain": [
       "PipeServer(active)"
      ]
     },
     "execution_count": 43,
     "metadata": {},
     "output_type": "execute_result"
    }
   ],
   "source": [
    "p = listen(\"/Users/DboyLiao/pipe\")"
   ]
  },
  {
   "cell_type": "code",
   "execution_count": 44,
   "metadata": {
    "collapsed": false
   },
   "outputs": [
    {
     "ename": "LoadError",
     "evalue": "interrupt\nwhile loading In[44], in expression starting on line 1",
     "output_type": "error",
     "traceback": [
      "interrupt\nwhile loading In[44], in expression starting on line 1",
      ""
     ]
    }
   ],
   "source": [
    "conn = accept(p)"
   ]
  },
  {
   "cell_type": "code",
   "execution_count": 50,
   "metadata": {
    "collapsed": false
   },
   "outputs": [
    {
     "data": {
      "text/plain": [
       "Uint64"
      ]
     },
     "execution_count": 50,
     "metadata": {},
     "output_type": "execute_result"
    }
   ],
   "source": [
    "if is(Int, Int64)\n",
    "    typealias UInt Uint64\n",
    "else\n",
    "    typealias UInt Uint32\n",
    "end"
   ]
  },
  {
   "cell_type": "code",
   "execution_count": 51,
   "metadata": {
    "collapsed": false
   },
   "outputs": [
    {
     "data": {
      "text/plain": [
       "Uint64"
      ]
     },
     "execution_count": 51,
     "metadata": {},
     "output_type": "execute_result"
    }
   ],
   "source": [
    "UInt"
   ]
  },
  {
   "cell_type": "code",
   "execution_count": 47,
   "metadata": {
    "collapsed": false
   },
   "outputs": [
    {
     "data": {
      "text/plain": [
       "5-element Array{Any,1}:\n",
       " BigInt  \n",
       " Bool    \n",
       " Char    \n",
       " Signed  \n",
       " Unsigned"
      ]
     },
     "execution_count": 47,
     "metadata": {},
     "output_type": "execute_result"
    }
   ],
   "source": [
    "subtypes(Integer)"
   ]
  },
  {
   "cell_type": "code",
   "execution_count": 48,
   "metadata": {
    "collapsed": false
   },
   "outputs": [
    {
     "ename": "LoadError",
     "evalue": "type cannot be constructed\nwhile loading In[48], in expression starting on line 1",
     "output_type": "error",
     "traceback": [
      "type cannot be constructed\nwhile loading In[48], in expression starting on line 1",
      ""
     ]
    }
   ],
   "source": [
    "Unsigned(\"2\")"
   ]
  },
  {
   "cell_type": "code",
   "execution_count": 49,
   "metadata": {
    "collapsed": false
   },
   "outputs": [
    {
     "data": {
      "text/plain": [
       "5-element Array{Any,1}:\n",
       " Uint128\n",
       " Uint16 \n",
       " Uint32 \n",
       " Uint64 \n",
       " Uint8  "
      ]
     },
     "execution_count": 49,
     "metadata": {},
     "output_type": "execute_result"
    }
   ],
   "source": [
    "subtypes(Unsigned)"
   ]
  },
  {
   "cell_type": "code",
   "execution_count": 52,
   "metadata": {
    "collapsed": false
   },
   "outputs": [
    {
     "data": {
      "text/plain": [
       "Array{T,1}"
      ]
     },
     "execution_count": 52,
     "metadata": {},
     "output_type": "execute_result"
    }
   ],
   "source": [
    "typealias Vector{T} Array{T, 1}"
   ]
  },
  {
   "cell_type": "code",
   "execution_count": 58,
   "metadata": {
    "collapsed": false
   },
   "outputs": [
    {
     "data": {
      "text/plain": [
       "false"
      ]
     },
     "execution_count": 58,
     "metadata": {},
     "output_type": "execute_result"
    }
   ],
   "source": [
    "Vector{Int} <: Vector{Float64}"
   ]
  },
  {
   "cell_type": "code",
   "execution_count": 59,
   "metadata": {
    "collapsed": false
   },
   "outputs": [
    {
     "data": {
      "text/plain": [
       "false"
      ]
     },
     "execution_count": 59,
     "metadata": {},
     "output_type": "execute_result"
    }
   ],
   "source": [
    "isa(None, Union())"
   ]
  },
  {
   "cell_type": "code",
   "execution_count": 60,
   "metadata": {
    "collapsed": false
   },
   "outputs": [
    {
     "data": {
      "text/plain": [
       "true"
      ]
     },
     "execution_count": 60,
     "metadata": {},
     "output_type": "execute_result"
    }
   ],
   "source": [
    "Union() == None"
   ]
  },
  {
   "cell_type": "code",
   "execution_count": 63,
   "metadata": {
    "collapsed": false
   },
   "outputs": [
    {
     "name": "stdout",
     "output_type": "stream",
     "text": [
      "First\n"
     ]
    }
   ],
   "source": [
    "function firstlast(b::Bool)\n",
    "    return b ? \"First\" : \"Last\"\n",
    "end\n",
    "\n",
    "println(firstlast(true))"
   ]
  },
  {
   "cell_type": "code",
   "execution_count": 1,
   "metadata": {
    "collapsed": false
   },
   "outputs": [
    {
     "ename": "LoadError",
     "evalue": "Nullable not defined\nwhile loading In[1], in expression starting on line 1",
     "output_type": "error",
     "traceback": [
      "Nullable not defined\nwhile loading In[1], in expression starting on line 1",
      ""
     ]
    }
   ],
   "source": [
    "x1 = Nullable{Int}()"
   ]
  },
  {
   "cell_type": "code",
   "execution_count": 4,
   "metadata": {
    "collapsed": false
   },
   "outputs": [
    {
     "data": {
      "text/plain": [
       "f (generic function with 1 method)"
      ]
     },
     "execution_count": 4,
     "metadata": {},
     "output_type": "execute_result"
    }
   ],
   "source": [
    "function f(x, y)\n",
    "    println(\"Dboy Liao\")\n",
    "end"
   ]
  },
  {
   "cell_type": "code",
   "execution_count": 5,
   "metadata": {
    "collapsed": false
   },
   "outputs": [
    {
     "data": {
      "text/html": [
       "1 method for generic function <b>f</b>:<ul><li> f(x,y) at In[4]:2</ul>"
      ],
      "text/plain": [
       "# 1 method for generic function \"f\":\n",
       "f(x,y) at In[4]:2"
      ]
     },
     "execution_count": 5,
     "metadata": {},
     "output_type": "execute_result"
    }
   ],
   "source": [
    "methods(f)"
   ]
  },
  {
   "cell_type": "code",
   "execution_count": 6,
   "metadata": {
    "collapsed": false
   },
   "outputs": [
    {
     "data": {
      "text/plain": [
       "f (generic function with 2 methods)"
      ]
     },
     "execution_count": 6,
     "metadata": {},
     "output_type": "execute_result"
    }
   ],
   "source": [
    "function f(x::Float64, y::Float64)\n",
    "    x + y\n",
    "end"
   ]
  },
  {
   "cell_type": "code",
   "execution_count": 7,
   "metadata": {
    "collapsed": false
   },
   "outputs": [
    {
     "data": {
      "text/html": [
       "2 methods for generic function <b>f</b>:<ul><li> f(x::<b>Float64</b>,y::<b>Float64</b>) at In[6]:2<li> f(x,y) at In[4]:2</ul>"
      ],
      "text/plain": [
       "# 2 methods for generic function \"f\":\n",
       "f(x::Float64,y::Float64) at In[6]:2\n",
       "f(x,y) at In[4]:2"
      ]
     },
     "execution_count": 7,
     "metadata": {},
     "output_type": "execute_result"
    }
   ],
   "source": [
    "methods(f)"
   ]
  },
  {
   "cell_type": "code",
   "execution_count": 9,
   "metadata": {
    "collapsed": false
   },
   "outputs": [
    {
     "data": {
      "text/plain": [
       "js_closure (generic function with 1 method)"
      ]
     },
     "execution_count": 9,
     "metadata": {},
     "output_type": "execute_result"
    }
   ],
   "source": [
    "function js_closure()\n",
    "    state = 1\n",
    "    function add_one()\n",
    "        state += 1\n",
    "        state\n",
    "    end\n",
    "    return add_one\n",
    "end"
   ]
  },
  {
   "cell_type": "code",
   "execution_count": 10,
   "metadata": {
    "collapsed": false
   },
   "outputs": [
    {
     "data": {
      "text/plain": [
       "add_one (generic function with 1 method)"
      ]
     },
     "execution_count": 10,
     "metadata": {},
     "output_type": "execute_result"
    }
   ],
   "source": [
    "t = js_closure()"
   ]
  },
  {
   "cell_type": "code",
   "execution_count": 12,
   "metadata": {
    "collapsed": false
   },
   "outputs": [
    {
     "data": {
      "text/plain": [
       "3"
      ]
     },
     "execution_count": 12,
     "metadata": {},
     "output_type": "execute_result"
    }
   ],
   "source": [
    "t()"
   ]
  },
  {
   "cell_type": "code",
   "execution_count": 13,
   "metadata": {
    "collapsed": false
   },
   "outputs": [
    {
     "data": {
      "text/plain": [
       "add_one (generic function with 1 method)"
      ]
     },
     "execution_count": 13,
     "metadata": {},
     "output_type": "execute_result"
    }
   ],
   "source": [
    "t2 = js_closure()"
   ]
  },
  {
   "cell_type": "code",
   "execution_count": 14,
   "metadata": {
    "collapsed": false
   },
   "outputs": [
    {
     "data": {
      "text/plain": [
       "2"
      ]
     },
     "execution_count": 14,
     "metadata": {},
     "output_type": "execute_result"
    }
   ],
   "source": [
    "t2()"
   ]
  },
  {
   "cell_type": "code",
   "execution_count": 15,
   "metadata": {
    "collapsed": false
   },
   "outputs": [
    {
     "data": {
      "text/plain": [
       "true"
      ]
     },
     "execution_count": 15,
     "metadata": {},
     "output_type": "execute_result"
    }
   ],
   "source": [
    "Float64 <: Number"
   ]
  },
  {
   "cell_type": "code",
   "execution_count": 9,
   "metadata": {
    "collapsed": false
   },
   "outputs": [],
   "source": [
    "type Incomplete\n",
    "    xx\n",
    "    Incomplete() = new()\n",
    "end"
   ]
  },
  {
   "cell_type": "code",
   "execution_count": 10,
   "metadata": {
    "collapsed": false
   },
   "outputs": [
    {
     "data": {
      "text/plain": [
       "Incomplete(#undef)"
      ]
     },
     "execution_count": 10,
     "metadata": {},
     "output_type": "execute_result"
    }
   ],
   "source": [
    "z = Incomplete()"
   ]
  },
  {
   "cell_type": "code",
   "execution_count": 11,
   "metadata": {
    "collapsed": false
   },
   "outputs": [
    {
     "data": {
      "text/plain": [
       "3"
      ]
     },
     "execution_count": 11,
     "metadata": {},
     "output_type": "execute_result"
    }
   ],
   "source": [
    "z.xx = 3"
   ]
  },
  {
   "cell_type": "code",
   "execution_count": 12,
   "metadata": {
    "collapsed": false
   },
   "outputs": [
    {
     "data": {
      "text/plain": [
       "3"
      ]
     },
     "execution_count": 12,
     "metadata": {},
     "output_type": "execute_result"
    }
   ],
   "source": [
    "z.xx"
   ]
  },
  {
   "cell_type": "code",
   "execution_count": 1,
   "metadata": {
    "collapsed": false
   },
   "outputs": [],
   "source": [
    "type Node{T<:Number}\n",
    "    value::T\n",
    "    next::Node{T}\n",
    "    Node{T}(value::T) = new(value)\n",
    "end"
   ]
  },
  {
   "cell_type": "code",
   "execution_count": 2,
   "metadata": {
    "collapsed": false
   },
   "outputs": [
    {
     "data": {
      "text/plain": [
       "Node{Int64}(4,#undef)"
      ]
     },
     "execution_count": 2,
     "metadata": {},
     "output_type": "execute_result"
    }
   ],
   "source": [
    "n = Node{Int64}(4)"
   ]
  },
  {
   "cell_type": "code",
   "execution_count": 4,
   "metadata": {
    "collapsed": false
   },
   "outputs": [
    {
     "data": {
      "text/plain": [
       "Node{Int64}(3,#undef)"
      ]
     },
     "execution_count": 4,
     "metadata": {},
     "output_type": "execute_result"
    }
   ],
   "source": [
    "n.next = Node{Int64}(3)"
   ]
  },
  {
   "cell_type": "code",
   "execution_count": 5,
   "metadata": {
    "collapsed": false
   },
   "outputs": [
    {
     "data": {
      "text/plain": [
       "Node{Int64}(3,#undef)"
      ]
     },
     "execution_count": 5,
     "metadata": {},
     "output_type": "execute_result"
    }
   ],
   "source": [
    "n.next"
   ]
  },
  {
   "cell_type": "code",
   "execution_count": 6,
   "metadata": {
    "collapsed": true
   },
   "outputs": [],
   "source": [
    "type HasPlain\n",
    "    n::Int\n",
    "    HasPlain() = new()\n",
    "end"
   ]
  },
  {
   "cell_type": "code",
   "execution_count": 8,
   "metadata": {
    "collapsed": false
   },
   "outputs": [
    {
     "data": {
      "text/plain": [
       "HasPlain(4494843176)"
      ]
     },
     "execution_count": 8,
     "metadata": {},
     "output_type": "execute_result"
    }
   ],
   "source": [
    "a = HasPlain()"
   ]
  },
  {
   "cell_type": "code",
   "execution_count": 9,
   "metadata": {
    "collapsed": false
   },
   "outputs": [
    {
     "data": {
      "text/plain": [
       "3"
      ]
     },
     "execution_count": 9,
     "metadata": {},
     "output_type": "execute_result"
    }
   ],
   "source": [
    "a.n = 3"
   ]
  },
  {
   "cell_type": "code",
   "execution_count": 10,
   "metadata": {
    "collapsed": true
   },
   "outputs": [],
   "source": [
    "type Point{T<:Real}\n",
    "  x::T\n",
    "  y::T\n",
    "\n",
    "  Point(x,y) = new(x,y)\n",
    "end"
   ]
  },
  {
   "cell_type": "code",
   "execution_count": 12,
   "metadata": {
    "collapsed": false
   },
   "outputs": [
    {
     "data": {
      "text/plain": [
       "Point{T<:Real} (constructor with 1 method)"
      ]
     },
     "execution_count": 12,
     "metadata": {},
     "output_type": "execute_result"
    }
   ],
   "source": [
    "Point{T<:Real}(x::T, y::T) = Point{T}(x,y)"
   ]
  },
  {
   "cell_type": "code",
   "execution_count": 13,
   "metadata": {
    "collapsed": false
   },
   "outputs": [
    {
     "data": {
      "text/plain": [
       "Point{Int64}(3,3)"
      ]
     },
     "execution_count": 13,
     "metadata": {},
     "output_type": "execute_result"
    }
   ],
   "source": [
    "Point(3, 3)"
   ]
  },
  {
   "cell_type": "code",
   "execution_count": 15,
   "metadata": {
    "collapsed": false
   },
   "outputs": [
    {
     "data": {
      "text/plain": [
       "12"
      ]
     },
     "execution_count": 15,
     "metadata": {},
     "output_type": "execute_result"
    }
   ],
   "source": [
    "x = 12"
   ]
  },
  {
   "cell_type": "code",
   "execution_count": 19,
   "metadata": {
    "collapsed": false
   },
   "outputs": [],
   "source": [
    "y = convert(Uint8, x);"
   ]
  },
  {
   "cell_type": "code",
   "execution_count": 18,
   "metadata": {
    "collapsed": false
   },
   "outputs": [
    {
     "data": {
      "text/plain": [
       "Int64"
      ]
     },
     "execution_count": 18,
     "metadata": {},
     "output_type": "execute_result"
    }
   ],
   "source": [
    "typeof(x)"
   ]
  },
  {
   "cell_type": "code",
   "execution_count": 21,
   "metadata": {
    "collapsed": false
   },
   "outputs": [
    {
     "name": "stdout",
     "output_type": "stream",
     "text": [
      "12"
     ]
    }
   ],
   "source": [
    "print(y)"
   ]
  },
  {
   "cell_type": "code",
   "execution_count": 23,
   "metadata": {
    "collapsed": false
   },
   "outputs": [
    {
     "data": {
      "text/html": [
       "+(x::<b>Number</b>,y::<b>Number</b>) at <a href=\"https://github.com/JuliaLang/julia/tree/0c24dca65c031820b91721139f0291068086955c/base/promotion.jl#L158\" target=\"_blank\">promotion.jl:158</a>"
      ],
      "text/plain": [
       "+(x::Number,y::Number) at promotion.jl:158"
      ]
     },
     "execution_count": 23,
     "metadata": {},
     "output_type": "execute_result"
    }
   ],
   "source": [
    "@which y + x"
   ]
  },
  {
   "cell_type": "code",
   "execution_count": 27,
   "metadata": {
    "collapsed": false
   },
   "outputs": [
    {
     "data": {
      "text/plain": [
       "ct (generic function with 1 method)"
      ]
     },
     "execution_count": 27,
     "metadata": {},
     "output_type": "execute_result"
    }
   ],
   "source": [
    "ct(::Type{Bool}, x::Real) = (x!=0)"
   ]
  },
  {
   "cell_type": "code",
   "execution_count": 28,
   "metadata": {
    "collapsed": false
   },
   "outputs": [
    {
     "data": {
      "text/plain": [
       "true"
      ]
     },
     "execution_count": 28,
     "metadata": {},
     "output_type": "execute_result"
    }
   ],
   "source": [
    "ct(Bool, 0.5)"
   ]
  },
  {
   "cell_type": "code",
   "execution_count": 29,
   "metadata": {
    "collapsed": false
   },
   "outputs": [
    {
     "data": {
      "text/plain": [
       "DataType"
      ]
     },
     "execution_count": 29,
     "metadata": {},
     "output_type": "execute_result"
    }
   ],
   "source": [
    "typeof(Type)"
   ]
  },
  {
   "cell_type": "code",
   "execution_count": 34,
   "metadata": {
    "collapsed": false
   },
   "outputs": [
    {
     "data": {
      "text/plain": [
       "2"
      ]
     },
     "execution_count": 34,
     "metadata": {},
     "output_type": "execute_result"
    }
   ],
   "source": [
    "parse(\"2\")"
   ]
  },
  {
   "cell_type": "code",
   "execution_count": 32,
   "metadata": {
    "collapsed": false
   },
   "outputs": [
    {
     "name": "stderr",
     "output_type": "stream",
     "text": [
      "INFO: Loading help data...\n"
     ]
    },
    {
     "name": "stdout",
     "output_type": "stream",
     "text": [
      "Base.parse(str, start; greedy=true, raise=true)\n",
      "\n",
      "   Parse the expression string and return an expression (which could\n",
      "   later be passed to eval for execution). Start is the index of the\n",
      "   first character to start parsing. If \"greedy\" is true (default),\n",
      "   \"parse\" will try to consume as much input as it can; otherwise,\n",
      "   it will stop as soon as it has parsed a valid expression.\n",
      "   Incomplete but otherwise syntactically valid expressions will\n",
      "   return \"Expr(:incomplete, \"(error message)\")\". If \"raise\" is\n",
      "   true (default), syntax errors other than incomplete expressions\n",
      "   will raise an error. If \"raise\" is false, \"parse\" will return\n",
      "   an expression that will raise an error upon evaluation.\n",
      "\n",
      "Base.parse(str; raise=true)\n",
      "\n",
      "   Parse the whole string greedily, returning a single expression.  An\n",
      "   error is thrown if there are additional characters after the first\n",
      "   expression. If \"raise\" is true (default), syntax errors will\n",
      "   raise an error; otherwise, \"parse\" will return an expression that\n",
      "   will raise an error upon evaluation.\n"
     ]
    }
   ],
   "source": [
    "?parse"
   ]
  },
  {
   "cell_type": "code",
   "execution_count": 36,
   "metadata": {
    "collapsed": false
   },
   "outputs": [
    {
     "data": {
      "text/plain": [
       "Any"
      ]
     },
     "execution_count": 36,
     "metadata": {},
     "output_type": "execute_result"
    }
   ],
   "source": [
    "super(Type{Bool})"
   ]
  },
  {
   "cell_type": "code",
   "execution_count": 38,
   "metadata": {
    "collapsed": false
   },
   "outputs": [
    {
     "data": {
      "text/plain": [
       "ct2 (generic function with 2 methods)"
      ]
     },
     "execution_count": 38,
     "metadata": {},
     "output_type": "execute_result"
    }
   ],
   "source": [
    "ct2(::Bool, x::Number) = (x!=0)"
   ]
  },
  {
   "cell_type": "code",
   "execution_count": 42,
   "metadata": {
    "collapsed": false
   },
   "outputs": [
    {
     "data": {
      "text/plain": [
       "NaN"
      ]
     },
     "execution_count": 42,
     "metadata": {},
     "output_type": "execute_result"
    }
   ],
   "source": [
    "NaN"
   ]
  },
  {
   "cell_type": "code",
   "execution_count": 43,
   "metadata": {
    "collapsed": false
   },
   "outputs": [
    {
     "data": {
      "text/plain": [
       "NaN"
      ]
     },
     "execution_count": 43,
     "metadata": {},
     "output_type": "execute_result"
    }
   ],
   "source": [
    "x = NaN"
   ]
  },
  {
   "cell_type": "code",
   "execution_count": 44,
   "metadata": {
    "collapsed": false
   },
   "outputs": [
    {
     "ename": "LoadError",
     "evalue": "invalid rational: 0//0\nwhile loading In[44], in expression starting on line 1",
     "output_type": "error",
     "traceback": [
      "invalid rational: 0//0\nwhile loading In[44], in expression starting on line 1",
      "",
      " in Rational at rational.jl:6",
      " in // at rational.jl:15"
     ]
    }
   ],
   "source": [
    "0//0"
   ]
  },
  {
   "cell_type": "code",
   "execution_count": 45,
   "metadata": {
    "collapsed": false
   },
   "outputs": [
    {
     "name": "stdout",
     "output_type": "stream",
     "text": [
      "Base.show(x)\n",
      "\n",
      "   Write an informative text representation of a value to the current\n",
      "   output stream. New types should overload \"show(io, x)\" where the\n",
      "   first argument is a stream. The representation used by \"show\"\n",
      "   generally includes Julia-specific formatting and type information.\n"
     ]
    }
   ],
   "source": [
    "?show"
   ]
  },
  {
   "cell_type": "code",
   "execution_count": 46,
   "metadata": {
    "collapsed": false
   },
   "outputs": [
    {
     "data": {
      "text/plain": [
       "6//5"
      ]
     },
     "execution_count": 46,
     "metadata": {},
     "output_type": "execute_result"
    }
   ],
   "source": [
    "convert(Rational, 1.2)"
   ]
  },
  {
   "cell_type": "code",
   "execution_count": 47,
   "metadata": {
    "collapsed": false
   },
   "outputs": [
    {
     "data": {
      "text/plain": [
       "1.0"
      ]
     },
     "execution_count": 47,
     "metadata": {},
     "output_type": "execute_result"
    }
   ],
   "source": [
    "round(1.2)"
   ]
  },
  {
   "cell_type": "code",
   "execution_count": 50,
   "metadata": {
    "collapsed": false
   },
   "outputs": [
    {
     "data": {
      "text/plain": [
       "5.0"
      ]
     },
     "execution_count": 50,
     "metadata": {},
     "output_type": "execute_result"
    }
   ],
   "source": [
    "round(1/0.2)"
   ]
  },
  {
   "cell_type": "code",
   "execution_count": 52,
   "metadata": {
    "collapsed": false
   },
   "outputs": [
    {
     "data": {
      "text/plain": [
       "1"
      ]
     },
     "execution_count": 52,
     "metadata": {},
     "output_type": "execute_result"
    }
   ],
   "source": [
    "div(3, 2)"
   ]
  },
  {
   "cell_type": "code",
   "execution_count": 53,
   "metadata": {
    "collapsed": false
   },
   "outputs": [
    {
     "name": "stdout",
     "output_type": "stream",
     "text": [
      "Base.promote_rule(type1, type2)\n",
      "\n",
      "   Specifies what type should be used by \"promote\" when given values\n",
      "   of types \"type1\" and \"type2\". This function should not be\n",
      "   called directly, but should have definitions added to it for new\n",
      "   types as appropriate.\n"
     ]
    }
   ],
   "source": [
    "?promote_rule"
   ]
  },
  {
   "cell_type": "code",
   "execution_count": 55,
   "metadata": {
    "collapsed": false
   },
   "outputs": [
    {
     "data": {
      "text/plain": [
       "Colon()"
      ]
     },
     "execution_count": 55,
     "metadata": {},
     "output_type": "execute_result"
    }
   ],
   "source": [
    "t = Colon()"
   ]
  },
  {
   "cell_type": "code",
   "execution_count": 1,
   "metadata": {
    "collapsed": false
   },
   "outputs": [],
   "source": [
    "type MyType <: Number\n",
    "    xx::Int\n",
    "    yy::Int\n",
    "end"
   ]
  },
  {
   "cell_type": "code",
   "execution_count": 2,
   "metadata": {
    "collapsed": false
   },
   "outputs": [
    {
     "data": {
      "text/plain": [
       "false"
      ]
     },
     "execution_count": 2,
     "metadata": {},
     "output_type": "execute_result"
    }
   ],
   "source": [
    "isa(TypeConstructor, MyType)"
   ]
  },
  {
   "cell_type": "code",
   "execution_count": 3,
   "metadata": {
    "collapsed": false
   },
   "outputs": [
    {
     "data": {
      "text/plain": [
       "MyType(3,4)"
      ]
     },
     "execution_count": 3,
     "metadata": {},
     "output_type": "execute_result"
    }
   ],
   "source": [
    "MyType(3, 4)"
   ]
  },
  {
   "cell_type": "code",
   "execution_count": 9,
   "metadata": {
    "collapsed": false
   },
   "outputs": [
    {
     "data": {
      "text/html": [
       "4 methods for generic function <b>typejoin</b>:<ul><li> typejoin() at <a href=\"https://github.com/JuliaLang/julia/tree/0c24dca65c031820b91721139f0291068086955c/base/promotion.jl#L3\" target=\"_blank\">promotion.jl:3</a><li> typejoin(t::<b>ANY</b>) at <a href=\"https://github.com/JuliaLang/julia/tree/0c24dca65c031820b91721139f0291068086955c/base/promotion.jl#L4\" target=\"_blank\">promotion.jl:4</a><li> typejoin(a::<b>ANY</b>,b::<b>ANY</b>) at <a href=\"https://github.com/JuliaLang/julia/tree/0c24dca65c031820b91721139f0291068086955c/base/promotion.jl#L7\" target=\"_blank\">promotion.jl:7</a><li> typejoin(t::<b>ANY</b>,ts...) at <a href=\"https://github.com/JuliaLang/julia/tree/0c24dca65c031820b91721139f0291068086955c/base/promotion.jl#L5\" target=\"_blank\">promotion.jl:5</a></ul>"
      ],
      "text/plain": [
       "# 4 methods for generic function \"typejoin\":\n",
       "typejoin() at promotion.jl:3\n",
       "typejoin(t::ANY) at promotion.jl:4\n",
       "typejoin(a::ANY,b::ANY) at promotion.jl:7\n",
       "typejoin(t::ANY,ts...) at promotion.jl:5"
      ]
     },
     "execution_count": 9,
     "metadata": {},
     "output_type": "execute_result"
    }
   ],
   "source": [
    "methods(typejoin)"
   ]
  },
  {
   "cell_type": "code",
   "execution_count": 10,
   "metadata": {
    "collapsed": false
   },
   "outputs": [
    {
     "name": "stderr",
     "output_type": "stream",
     "text": [
      "INFO: Cloning cache of ArrayViews from git://github.com/JuliaLang/ArrayViews.jl.git\n",
      "INFO: Cloning cache of Calculus from git://github.com/johnmyleswhite/Calculus.jl.git\n",
      "INFO: Cloning cache of Codecs from git://github.com/dcjones/Codecs.jl.git\n",
      "INFO: Cloning cache of Color from git://github.com/JuliaLang/Color.jl.git\n",
      "INFO: Cloning cache of Compose from git://github.com/dcjones/Compose.jl.git\n",
      "INFO: Cloning cache of Contour from git://github.com/tlycken/Contour.jl.git\n",
      "INFO: Cloning cache of DataArrays from git://github.com/JuliaStats/DataArrays.jl.git\n",
      "INFO: Cloning cache of DataFrames from git://github.com/JuliaStats/DataFrames.jl.git\n",
      "INFO: Cloning cache of DataStructures from git://github.com/JuliaLang/DataStructures.jl.git\n",
      "INFO: Cloning cache of Dates from git://github.com/quinnj/Dates.jl.git\n",
      "INFO: Cloning cache of Distances from git://github.com/JuliaStats/Distances.jl.git\n",
      "INFO: Cloning cache of Distributions from git://github.com/JuliaStats/Distributions.jl.git\n",
      "INFO: Cloning cache of Docile from git://github.com/MichaelHatherly/Docile.jl.git\n",
      "INFO: Cloning cache of DualNumbers from git://github.com/JuliaDiff/DualNumbers.jl.git\n",
      "INFO: Cloning cache of FixedPointNumbers from git://github.com/JeffBezanson/FixedPointNumbers.jl.git\n",
      "INFO: Cloning cache of GZip from git://github.com/JuliaLang/GZip.jl.git\n",
      "INFO: Cloning cache of Gadfly from git://github.com/dcjones/Gadfly.jl.git\n",
      "INFO: Cloning cache of Graphics from git://github.com/JuliaLang/Graphics.jl.git\n",
      "INFO: Cloning cache of Grid from git://github.com/timholy/Grid.jl.git\n",
      "INFO: Cloning cache of Hexagons from git://github.com/dcjones/Hexagons.jl.git\n",
      "INFO: Cloning cache of ImmutableArrays from git://github.com/twadleigh/ImmutableArrays.jl.git\n",
      "INFO: Cloning cache of Iterators from git://github.com/JuliaLang/Iterators.jl.git\n",
      "INFO: Cloning cache of KernelDensity from git://github.com/JuliaStats/KernelDensity.jl.git\n",
      "INFO: Cloning cache of Loess from git://github.com/dcjones/Loess.jl.git\n",
      "INFO: Cloning cache of NaNMath from git://github.com/mlubin/NaNMath.jl.git\n",
      "INFO: Cloning cache of Optim from git://github.com/JuliaOpt/Optim.jl.git\n",
      "INFO: Cloning cache of PDMats from git://github.com/JuliaStats/PDMats.jl.git\n",
      "INFO: Cloning cache of Reexport from git://github.com/simonster/Reexport.jl.git\n",
      "INFO: Cloning cache of Showoff from git://github.com/dcjones/Showoff.jl.git\n",
      "INFO: Cloning cache of SortingAlgorithms from git://github.com/JuliaLang/SortingAlgorithms.jl.git\n",
      "INFO: Cloning cache of StatsBase from git://github.com/JuliaStats/StatsBase.jl.git\n",
      "INFO: Installing ArrayViews v0.4.10\n",
      "INFO: Installing Calculus v0.1.6\n",
      "INFO: Installing Codecs v0.1.3\n",
      "INFO: Installing Color v0.4.4\n",
      "INFO: Installing Compose v0.3.11\n",
      "INFO: Installing Contour v0.0.6\n",
      "INFO: Installing DataArrays v0.2.12\n",
      "INFO: Installing DataFrames v0.6.2\n",
      "INFO: Installing DataStructures v0.3.6\n",
      "INFO: Installing Dates v0.3.2\n",
      "INFO: Installing Distances v0.2.0\n",
      "INFO: Installing Distributions v0.6.6\n",
      "INFO: Installing Docile v0.4.8\n",
      "INFO: Installing DualNumbers v0.1.2\n",
      "INFO: Installing FixedPointNumbers v0.0.6\n",
      "INFO: Installing GZip v0.2.14\n",
      "INFO: Installing Gadfly v0.3.11\n",
      "INFO: Installing Graphics v0.1.0\n",
      "INFO: Installing Grid v0.3.7\n",
      "INFO: Installing Hexagons v0.0.2\n",
      "INFO: Installing ImmutableArrays v0.0.6\n",
      "INFO: Installing Iterators v0.1.7\n",
      "INFO: Installing KernelDensity v0.1.0\n",
      "INFO: Installing Loess v0.0.3\n",
      "INFO: Installing NaNMath v0.0.2\n",
      "INFO: Installing Optim v0.4.0\n",
      "INFO: Installing PDMats v0.3.1\n",
      "INFO: Installing Reexport v0.0.2\n",
      "INFO: Installing Showoff v0.0.3\n",
      "INFO: Installing SortingAlgorithms v0.0.4\n",
      "INFO: Installing StatsBase v0.6.13\n",
      "INFO: Package database updated\n",
      "INFO: METADATA is out-of-date — you may not have the latest version of Gadfly\n",
      "INFO: Use `Pkg.update()` to get the latest versions of your packages\n"
     ]
    }
   ],
   "source": [
    "Pkg.add(\"Gadfly\")"
   ]
  },
  {
   "cell_type": "code",
   "execution_count": 13,
   "metadata": {
    "collapsed": false
   },
   "outputs": [],
   "source": [
    "using MyModule"
   ]
  },
  {
   "cell_type": "code",
   "execution_count": 15,
   "metadata": {
    "collapsed": false
   },
   "outputs": [
    {
     "data": {
      "text/plain": [
       "\"x\""
      ]
     },
     "execution_count": 15,
     "metadata": {},
     "output_type": "execute_result"
    }
   ],
   "source": [
    "x()"
   ]
  },
  {
   "cell_type": "code",
   "execution_count": 16,
   "metadata": {
    "collapsed": false
   },
   "outputs": [
    {
     "data": {
      "text/plain": [
       "\"p\""
      ]
     },
     "execution_count": 16,
     "metadata": {},
     "output_type": "execute_result"
    }
   ],
   "source": [
    "MyModule.p()"
   ]
  },
  {
   "cell_type": "code",
   "execution_count": 17,
   "metadata": {
    "collapsed": true
   },
   "outputs": [],
   "source": [
    "import MyModule"
   ]
  },
  {
   "cell_type": "code",
   "execution_count": 18,
   "metadata": {
    "collapsed": false
   },
   "outputs": [
    {
     "data": {
      "text/plain": [
       "x (generic function with 1 method)"
      ]
     },
     "execution_count": 18,
     "metadata": {},
     "output_type": "execute_result"
    }
   ],
   "source": [
    "MyModule.x"
   ]
  },
  {
   "cell_type": "code",
   "execution_count": 19,
   "metadata": {
    "collapsed": false
   },
   "outputs": [
    {
     "name": "stderr",
     "output_type": "stream",
     "text": [
      "INFO: Loading help data...\n"
     ]
    },
    {
     "name": "stdout",
     "output_type": "stream",
     "text": [
      "Base.Pkg.add(pkg, vers...)\n",
      "\n",
      "   Add a requirement entry for \"pkg\" to \"Pkg.dir(\"REQUIRE\")\" and\n",
      "   call \"Pkg.resolve()\". If \"vers\" are given, they must be\n",
      "   \"VersionNumber\" objects and they specify acceptable version\n",
      "   intervals for \"pkg\".\n"
     ]
    }
   ],
   "source": [
    "?Pkg.add"
   ]
  },
  {
   "cell_type": "code",
   "execution_count": 21,
   "metadata": {
    "collapsed": false
   },
   "outputs": [
    {
     "data": {
      "text/plain": [
       "\"/Users/DboyLiao/.julia/v0.3/REQUIRE\""
      ]
     },
     "execution_count": 21,
     "metadata": {},
     "output_type": "execute_result"
    }
   ],
   "source": [
    "Pkg.dir(\"REQUIRE\")"
   ]
  },
  {
   "cell_type": "code",
   "execution_count": 22,
   "metadata": {
    "collapsed": false
   },
   "outputs": [
    {
     "data": {
      "text/plain": [
       "2-element Array{Union(ASCIIString,UTF8String),1}:\n",
       " \"/usr/local/Cellar/julia/0.3.6_1/local/share/julia/site/v0.3\"\n",
       " \"/usr/local/Cellar/julia/0.3.6_1/share/julia/site/v0.3\"      "
      ]
     },
     "execution_count": 22,
     "metadata": {},
     "output_type": "execute_result"
    }
   ],
   "source": [
    "LOAD_PATH"
   ]
  },
  {
   "cell_type": "code",
   "execution_count": 26,
   "metadata": {
    "collapsed": false
   },
   "outputs": [
    {
     "data": {
      "text/plain": [
       "gen_gen (generic function with 1 method)"
      ]
     },
     "execution_count": 26,
     "metadata": {},
     "output_type": "execute_result"
    }
   ],
   "source": [
    "function gen_gen()\n",
    "    state = 0\n",
    "    function gen()\n",
    "        state += 1\n",
    "        state\n",
    "    end\n",
    "    return gen\n",
    "end"
   ]
  },
  {
   "cell_type": "code",
   "execution_count": 27,
   "metadata": {
    "collapsed": false
   },
   "outputs": [
    {
     "data": {
      "text/plain": [
       "gen (generic function with 1 method)"
      ]
     },
     "execution_count": 27,
     "metadata": {},
     "output_type": "execute_result"
    }
   ],
   "source": [
    "g = gen_gen()"
   ]
  },
  {
   "cell_type": "code",
   "execution_count": 31,
   "metadata": {
    "collapsed": true
   },
   "outputs": [],
   "source": [
    "import Main"
   ]
  },
  {
   "cell_type": "code",
   "execution_count": 36,
   "metadata": {
    "collapsed": false
   },
   "outputs": [
    {
     "data": {
      "text/plain": [
       "\"/User\""
      ]
     },
     "execution_count": 36,
     "metadata": {},
     "output_type": "execute_result"
    }
   ],
   "source": [
    "Main.dirname(\"/User/DboyLiao\")"
   ]
  },
  {
   "cell_type": "code",
   "execution_count": 37,
   "metadata": {
    "collapsed": false
   },
   "outputs": [
    {
     "data": {
      "text/plain": [
       "\"/Users/DboyLiao\""
      ]
     },
     "execution_count": 37,
     "metadata": {},
     "output_type": "execute_result"
    }
   ],
   "source": [
    "homedir()"
   ]
  },
  {
   "cell_type": "code",
   "execution_count": 38,
   "metadata": {
    "collapsed": false
   },
   "outputs": [
    {
     "ename": "LoadError",
     "evalue": "syntax: unexpected \"=\"\nwhile loading In[38], in expression starting on line 2",
     "output_type": "error",
     "traceback": [
      "syntax: unexpected \"=\"\nwhile loading In[38], in expression starting on line 2",
      ""
     ]
    }
   ],
   "source": [
    "f(x, y) = x + y\n",
    "Base.+ = f"
   ]
  },
  {
   "cell_type": "code",
   "execution_count": 39,
   "metadata": {
    "collapsed": false
   },
   "outputs": [
    {
     "data": {
      "text/plain": [
       "\"1+1\""
      ]
     },
     "execution_count": 39,
     "metadata": {},
     "output_type": "execute_result"
    }
   ],
   "source": [
    "prog = \"1+1\""
   ]
  },
  {
   "cell_type": "code",
   "execution_count": 40,
   "metadata": {
    "collapsed": false
   },
   "outputs": [
    {
     "data": {
      "text/plain": [
       ":(1 + 1)"
      ]
     },
     "execution_count": 40,
     "metadata": {},
     "output_type": "execute_result"
    }
   ],
   "source": [
    "ex1 = parse(prog)"
   ]
  },
  {
   "cell_type": "code",
   "execution_count": 41,
   "metadata": {
    "collapsed": false
   },
   "outputs": [
    {
     "data": {
      "text/plain": [
       "Expr"
      ]
     },
     "execution_count": 41,
     "metadata": {},
     "output_type": "execute_result"
    }
   ],
   "source": [
    "typeof(ex1)"
   ]
  },
  {
   "cell_type": "code",
   "execution_count": 45,
   "metadata": {
    "collapsed": false
   },
   "outputs": [
    {
     "data": {
      "text/plain": [
       "Symbol"
      ]
     },
     "execution_count": 45,
     "metadata": {},
     "output_type": "execute_result"
    }
   ],
   "source": [
    "typeof(ex1.args[1])"
   ]
  },
  {
   "cell_type": "code",
   "execution_count": 46,
   "metadata": {
    "collapsed": false
   },
   "outputs": [
    {
     "data": {
      "text/plain": [
       ":call"
      ]
     },
     "execution_count": 46,
     "metadata": {},
     "output_type": "execute_result"
    }
   ],
   "source": [
    "ex1.head"
   ]
  },
  {
   "cell_type": "code",
   "execution_count": 47,
   "metadata": {
    "collapsed": false
   },
   "outputs": [
    {
     "data": {
      "text/plain": [
       ":((4 + 4) / 2)"
      ]
     },
     "execution_count": 47,
     "metadata": {},
     "output_type": "execute_result"
    }
   ],
   "source": [
    "ex3 = parse(\"(4 + 4) / 2\")"
   ]
  },
  {
   "cell_type": "code",
   "execution_count": 48,
   "metadata": {
    "collapsed": false
   },
   "outputs": [
    {
     "data": {
      "text/plain": [
       ":call"
      ]
     },
     "execution_count": 48,
     "metadata": {},
     "output_type": "execute_result"
    }
   ],
   "source": [
    "ex3.head"
   ]
  },
  {
   "cell_type": "code",
   "execution_count": 49,
   "metadata": {
    "collapsed": false
   },
   "outputs": [
    {
     "data": {
      "text/plain": [
       "3-element Array{Any,1}:\n",
       "  :/      \n",
       "  :(4 + 4)\n",
       " 2        "
      ]
     },
     "execution_count": 49,
     "metadata": {},
     "output_type": "execute_result"
    }
   ],
   "source": [
    "ex3.args"
   ]
  },
  {
   "cell_type": "code",
   "execution_count": 50,
   "metadata": {
    "collapsed": false
   },
   "outputs": [
    {
     "data": {
      "text/plain": [
       "Any"
      ]
     },
     "execution_count": 50,
     "metadata": {},
     "output_type": "execute_result"
    }
   ],
   "source": [
    "ex3.typ"
   ]
  },
  {
   "cell_type": "code",
   "execution_count": 51,
   "metadata": {
    "collapsed": false
   },
   "outputs": [
    {
     "data": {
      "text/plain": [
       ":(a + b)"
      ]
     },
     "execution_count": 51,
     "metadata": {},
     "output_type": "execute_result"
    }
   ],
   "source": [
    "ex = Expr(:call, :+, :a, :b)"
   ]
  },
  {
   "cell_type": "code",
   "execution_count": 54,
   "metadata": {
    "collapsed": true
   },
   "outputs": [],
   "source": [
    "a = 1; b = 1;"
   ]
  },
  {
   "cell_type": "code",
   "execution_count": 55,
   "metadata": {
    "collapsed": false
   },
   "outputs": [
    {
     "data": {
      "text/plain": [
       "2"
      ]
     },
     "execution_count": 55,
     "metadata": {},
     "output_type": "execute_result"
    }
   ],
   "source": [
    "eval(ex)"
   ]
  },
  {
   "cell_type": "code",
   "execution_count": 61,
   "metadata": {
    "collapsed": false
   },
   "outputs": [
    {
     "name": "stdout",
     "output_type": "stream",
     "text": [
      "elapsed time: 5.082e-6 seconds (80 bytes allocated)\n"
     ]
    },
    {
     "data": {
      "text/plain": [
       "2"
      ]
     },
     "execution_count": 61,
     "metadata": {},
     "output_type": "execute_result"
    }
   ],
   "source": [
    "@time 1 + 1"
   ]
  },
  {
   "cell_type": "code",
   "execution_count": 63,
   "metadata": {
    "collapsed": false
   },
   "outputs": [
    {
     "name": "stdout",
     "output_type": "stream",
     "text": [
      "elapsed time: 3.834e-6 seconds (80 bytes allocated)\n"
     ]
    },
    {
     "data": {
      "text/plain": [
       "2"
      ]
     },
     "execution_count": 63,
     "metadata": {},
     "output_type": "execute_result"
    }
   ],
   "source": [
    "@time 1+1"
   ]
  },
  {
   "cell_type": "code",
   "execution_count": 64,
   "metadata": {
    "collapsed": false
   },
   "outputs": [
    {
     "data": {
      "text/plain": [
       "0-element Array{Int64,1}"
      ]
     },
     "execution_count": 64,
     "metadata": {},
     "output_type": "execute_result"
    }
   ],
   "source": [
    "Array(Int64, 0)"
   ]
  },
  {
   "cell_type": "code",
   "execution_count": 66,
   "metadata": {
    "collapsed": false
   },
   "outputs": [
    {
     "data": {
      "text/plain": [
       "\"3__\""
      ]
     },
     "execution_count": 66,
     "metadata": {},
     "output_type": "execute_result"
    }
   ],
   "source": [
    "\"\" * \"3\" * \"__\""
   ]
  },
  {
   "cell_type": "code",
   "execution_count": 67,
   "metadata": {
    "collapsed": false
   },
   "outputs": [
    {
     "data": {
      "text/plain": [
       ":(println(sin(3)))"
      ]
     },
     "execution_count": 67,
     "metadata": {},
     "output_type": "execute_result"
    }
   ],
   "source": [
    "ex = :(println(sin(3)))"
   ]
  },
  {
   "cell_type": "code",
   "execution_count": 71,
   "metadata": {
    "collapsed": false
   },
   "outputs": [
    {
     "data": {
      "text/plain": [
       "quote  # In[71], line 2:\n",
       "    println(sin(3))\n",
       "end"
      ]
     },
     "execution_count": 71,
     "metadata": {},
     "output_type": "execute_result"
    }
   ],
   "source": [
    "quote\n",
    "    $ex\n",
    "end"
   ]
  },
  {
   "cell_type": "code",
   "execution_count": 72,
   "metadata": {
    "collapsed": true
   },
   "outputs": [],
   "source": [
    "import Base"
   ]
  },
  {
   "cell_type": "code",
   "execution_count": 74,
   "metadata": {
    "collapsed": false
   },
   "outputs": [
    {
     "data": {
      "text/html": [
       "1 method for generic function <b>gc_bytes</b>:<ul><li> gc_bytes() at <a href=\"https://github.com/JuliaLang/julia/tree/0c24dca65c031820b91721139f0291068086955c/base/util.jl#L13\" target=\"_blank\">util.jl:13</a></ul>"
      ],
      "text/plain": [
       "# 1 method for generic function \"gc_bytes\":\n",
       "gc_bytes() at util.jl:13"
      ]
     },
     "execution_count": 74,
     "metadata": {},
     "output_type": "execute_result"
    }
   ],
   "source": [
    "methods(Base.gc_bytes)"
   ]
  },
  {
   "cell_type": "code",
   "execution_count": 75,
   "metadata": {
    "collapsed": false
   },
   "outputs": [
    {
     "data": {
      "text/plain": [
       "1385489984"
      ]
     },
     "execution_count": 75,
     "metadata": {},
     "output_type": "execute_result"
    }
   ],
   "source": [
    "Base.gc_bytes()"
   ]
  },
  {
   "cell_type": "code",
   "execution_count": 1,
   "metadata": {
    "collapsed": true
   },
   "outputs": [],
   "source": [
    "macro until(cond, ex)\n",
    "    quote\n",
    "        while !($cond)\n",
    "            $ex\n",
    "        end\n",
    "    end\n",
    "end"
   ]
  },
  {
   "cell_type": "code",
   "execution_count": 7,
   "metadata": {
    "collapsed": false
   },
   "outputs": [
    {
     "name": "stdout",
     "output_type": "stream",
     "text": [
      "0\n",
      "1\n",
      "2\n",
      "3\n",
      "elapsed time: 0.001873346 seconds (15624 bytes allocated)\n"
     ]
    }
   ],
   "source": [
    "x = 0\n",
    "@time @until x>3 (println(x); x +=1;)"
   ]
  },
  {
   "cell_type": "code",
   "execution_count": 9,
   "metadata": {
    "collapsed": false
   },
   "outputs": [
    {
     "data": {
      "text/plain": [
       "quote  # util.jl, line 53:\n",
       "    local #408#b0 = Base.gc_bytes() # line 54:\n",
       "    local #409#t0 = Base.time_ns() # line 55:\n",
       "    local #410#g0 = Base.gc_time_ns() # line 56:\n",
       "    local #411#val = begin  # In[1], line 3:\n",
       "                while !(x < 3) # line 4:\n",
       "                    begin \n",
       "                        println(x)\n",
       "                        begin \n",
       "                            x += 1\n",
       "                        end\n",
       "                    end\n",
       "                end\n",
       "            end # line 57:\n",
       "    local #412#g1 = Base.gc_time_ns() # line 58:\n",
       "    local #413#t1 = Base.time_ns() # line 59:\n",
       "    local #414#b1 = Base.gc_bytes() # line 60:\n",
       "    Base.time_print(Base.-(#413#t1,#409#t0),Base.-(#414#b1,#408#b0),Base.-(#412#g1,#410#g0)) # line 61:\n",
       "    #411#val\n",
       "end"
      ]
     },
     "execution_count": 9,
     "metadata": {},
     "output_type": "execute_result"
    }
   ],
   "source": [
    "macroexpand(:(@time @until x<3 (println(x); x +=1;)))"
   ]
  },
  {
   "cell_type": "code",
   "execution_count": 6,
   "metadata": {
    "collapsed": false
   },
   "outputs": [
    {
     "name": "stderr",
     "output_type": "stream",
     "text": [
      "INFO: Loading help data...\n"
     ]
    },
    {
     "name": "stdout",
     "output_type": "stream",
     "text": [
      "Base.esc(e::ANY)\n",
      "\n",
      "   Only valid in the context of an Expr returned from a macro.\n",
      "   Prevents the macro hygiene pass from turning embedded variables\n",
      "   into gensym variables. See the *Non-Standard String Literals*\n",
      "   section of the Metaprogramming chapter of the manual for more\n",
      "   details and examples.\n"
     ]
    }
   ],
   "source": [
    "?esc"
   ]
  },
  {
   "cell_type": "markdown",
   "metadata": {},
   "source": [
    "- JuMP: https://github.com/JuliaOpt/JuMP.jl"
   ]
  },
  {
   "cell_type": "code",
   "execution_count": 11,
   "metadata": {
    "collapsed": false
   },
   "outputs": [
    {
     "name": "stdout",
     "output_type": "stream",
     "text": [
      "2 required packages:\n",
      " - Gadfly                        0.3.11\n",
      " - IJulia                        0.2.1\n",
      "39 additional packages:\n",
      " - ArrayViews                    0.4.10\n",
      " - BinDeps                       0.3.9\n",
      " - Calculus                      0.1.6\n",
      " - Codecs                        0.1.3\n",
      " - Color                         0.4.4\n",
      " - Compat                        0.3.6\n",
      " - Compose                       0.3.11\n",
      " - Contour                       0.0.6\n",
      " - DataArrays                    0.2.12\n",
      " - DataFrames                    0.6.2\n",
      " - DataStructures                0.3.6\n",
      " - Dates                         0.3.2\n",
      " - Distances                     0.2.0\n",
      " - Distributions                 0.6.6\n",
      " - Docile                        0.4.8\n",
      " - DualNumbers                   0.1.2\n",
      " - FixedPointNumbers             0.0.6\n",
      " - GZip                          0.2.14\n",
      " - Graphics                      0.1.0\n",
      " - Grid                          0.3.7\n",
      " - Hexagons                      0.0.2\n",
      " - Homebrew                      0.1.14\n",
      " - ImmutableArrays               0.0.6\n",
      " - Iterators                     0.1.7\n",
      " - JSON                          0.4.2\n",
      " - KernelDensity                 0.1.0\n",
      " - Loess                         0.0.3\n",
      " - NaNMath                       0.0.2\n",
      " - Nettle                        0.1.8\n",
      " - Optim                         0.4.0\n",
      " - PDMats                        0.3.1\n",
      " - REPLCompletions               0.0.3\n",
      " - Reexport                      0.0.2\n",
      " - SHA                           0.0.4\n",
      " - Showoff                       0.0.3\n",
      " - SortingAlgorithms             0.0.4\n",
      " - StatsBase                     0.6.13\n",
      " - URIParser                     0.0.5\n",
      " - ZMQ                           0.1.17\n"
     ]
    }
   ],
   "source": [
    "Pkg.status()"
   ]
  },
  {
   "cell_type": "code",
   "execution_count": null,
   "metadata": {
    "collapsed": true
   },
   "outputs": [],
   "source": []
  }
 ],
 "metadata": {
  "kernelspec": {
   "display_name": "Julia 0.3.6",
   "language": "julia",
   "name": "julia 0.3"
  },
  "language_info": {
   "name": "julia",
   "version": "0.3.6"
  }
 },
 "nbformat": 4,
 "nbformat_minor": 0
}
