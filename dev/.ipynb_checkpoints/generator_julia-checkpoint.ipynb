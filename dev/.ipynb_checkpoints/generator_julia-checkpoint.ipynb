{
 "cells": [
  {
   "cell_type": "code",
   "execution_count": 5,
   "metadata": {
    "collapsed": false
   },
   "outputs": [
    {
     "data": {
      "text/plain": [
       "generator (generic function with 1 method)"
      ]
     },
     "execution_count": 5,
     "metadata": {},
     "output_type": "execute_result"
    }
   ],
   "source": [
    "function closure()\n",
    "    state = 0\n",
    "    function generator()\n",
    "        state += 1\n",
    "        if state % 2 == 0 && state % 5 == 0\n",
    "            return 10\n",
    "        elseif state % 2 == 0\n",
    "            return 2\n",
    "        elseif state % 5 == 0\n",
    "            return 5\n",
    "        else\n",
    "            return 1\n",
    "        end\n",
    "    end\n",
    "    return generator\n",
    "end\n",
    "gen = closure()"
   ]
  },
  {
   "cell_type": "code",
   "execution_count": null,
   "metadata": {
    "collapsed": true
   },
   "outputs": [],
   "source": []
  }
 ],
 "metadata": {
  "kernelspec": {
   "display_name": "Julia 0.3.6",
   "language": "julia",
   "name": "julia 0.3"
  },
  "language_info": {
   "name": "julia",
   "version": "0.3.6"
  }
 },
 "nbformat": 4,
 "nbformat_minor": 0
}
